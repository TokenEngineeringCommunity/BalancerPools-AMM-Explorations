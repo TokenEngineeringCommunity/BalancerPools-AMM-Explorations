{
 "cells": [
  {
   "cell_type": "markdown",
   "metadata": {},
   "source": [
    "# Balancer Simulations Math Challenge - Advanced\n",
    "\n",
    "This notebook provides a collection of challenges for an advanced understanding of Balancer Math."
   ]
  },
  {
   "cell_type": "code",
   "execution_count": 2,
   "metadata": {},
   "outputs": [],
   "source": [
    "import numpy as np\n",
    "import pandas as pd\n",
    "import plotly.express as px\n",
    "import plotly.graph_objects as go\n",
    "from plotly.subplots import make_subplots\n",
    "import math"
   ]
  },
  {
   "cell_type": "markdown",
   "metadata": {},
   "source": [
    "# Challenge No. 1\n",
    "\n",
    "For the following questions, there are two tokens $X$ and $Y$, with $x$ representing the number of Token $X$ in the pool, and $y$ representing the number of Token $Y$ in the pool. \n",
    "\n",
    "The plots below represent the invariant curves for two Balancer Pools. Both curves are of the form $2 = x^ay^{1-a}$ for some value of $a$. Try as many of the exercises below as you want -- discuss them with others and have fun!"
   ]
  },
  {
   "cell_type": "markdown",
   "metadata": {},
   "source": [
    "1. Explain how the equation $V = B_1^{W_1}B_2^{W_2}$ becomes $2 = x^ay^{1-a}$ in this context. "
   ]
  },
  {
   "cell_type": "markdown",
   "metadata": {},
   "source": [
    "#### Solution\n",
    "\n",
    "$V$ is the invariant and the specific value for this case is 2\n",
    "$a$ and $1-a$ are the weights of token $x$ and token $y$ respectively"
   ]
  },
  {
   "cell_type": "markdown",
   "metadata": {},
   "source": [
    "2. Give one possible value of $a$ and a pair of possible legal values for $x$ and $y$ in this context. "
   ]
  },
  {
   "cell_type": "markdown",
   "metadata": {},
   "source": [
    "#### Solution\n",
    "The only restriction for $a$ is it to be a positive value in range (0,1).\n",
    "Let´s assume $x = 10$ and let´s see how $y$ changes with regard to $a$"
   ]
  },
  {
   "cell_type": "code",
   "execution_count": 9,
   "metadata": {},
   "outputs": [
    {
     "data": {
      "text/html": [
       "<div>\n",
       "<style scoped>\n",
       "    .dataframe tbody tr th:only-of-type {\n",
       "        vertical-align: middle;\n",
       "    }\n",
       "\n",
       "    .dataframe tbody tr th {\n",
       "        vertical-align: top;\n",
       "    }\n",
       "\n",
       "    .dataframe thead th {\n",
       "        text-align: right;\n",
       "    }\n",
       "</style>\n",
       "<table border=\"1\" class=\"dataframe\">\n",
       "  <thead>\n",
       "    <tr style=\"text-align: right;\">\n",
       "      <th></th>\n",
       "      <th>a</th>\n",
       "      <th>1-a</th>\n",
       "      <th>token_A</th>\n",
       "      <th>token_B</th>\n",
       "    </tr>\n",
       "  </thead>\n",
       "  <tbody>\n",
       "    <tr>\n",
       "      <th>0</th>\n",
       "      <td>0.1</td>\n",
       "      <td>0.9</td>\n",
       "      <td>10</td>\n",
       "      <td>1.672502</td>\n",
       "    </tr>\n",
       "    <tr>\n",
       "      <th>1</th>\n",
       "      <td>0.2</td>\n",
       "      <td>0.8</td>\n",
       "      <td>10</td>\n",
       "      <td>1.337481</td>\n",
       "    </tr>\n",
       "    <tr>\n",
       "      <th>2</th>\n",
       "      <td>0.3</td>\n",
       "      <td>0.7</td>\n",
       "      <td>10</td>\n",
       "      <td>1.003394</td>\n",
       "    </tr>\n",
       "    <tr>\n",
       "      <th>3</th>\n",
       "      <td>0.4</td>\n",
       "      <td>0.6</td>\n",
       "      <td>10</td>\n",
       "      <td>0.683990</td>\n",
       "    </tr>\n",
       "    <tr>\n",
       "      <th>4</th>\n",
       "      <td>0.5</td>\n",
       "      <td>0.5</td>\n",
       "      <td>10</td>\n",
       "      <td>0.400000</td>\n",
       "    </tr>\n",
       "    <tr>\n",
       "      <th>5</th>\n",
       "      <td>0.6</td>\n",
       "      <td>0.4</td>\n",
       "      <td>10</td>\n",
       "      <td>0.178885</td>\n",
       "    </tr>\n",
       "    <tr>\n",
       "      <th>6</th>\n",
       "      <td>0.7</td>\n",
       "      <td>0.3</td>\n",
       "      <td>10</td>\n",
       "      <td>0.046784</td>\n",
       "    </tr>\n",
       "    <tr>\n",
       "      <th>7</th>\n",
       "      <td>0.8</td>\n",
       "      <td>0.2</td>\n",
       "      <td>10</td>\n",
       "      <td>0.003200</td>\n",
       "    </tr>\n",
       "    <tr>\n",
       "      <th>8</th>\n",
       "      <td>0.9</td>\n",
       "      <td>0.1</td>\n",
       "      <td>10</td>\n",
       "      <td>0.000001</td>\n",
       "    </tr>\n",
       "  </tbody>\n",
       "</table>\n",
       "</div>"
      ],
      "text/plain": [
       "     a  1-a  token_A   token_B\n",
       "0  0.1  0.9       10  1.672502\n",
       "1  0.2  0.8       10  1.337481\n",
       "2  0.3  0.7       10  1.003394\n",
       "3  0.4  0.6       10  0.683990\n",
       "4  0.5  0.5       10  0.400000\n",
       "5  0.6  0.4       10  0.178885\n",
       "6  0.7  0.3       10  0.046784\n",
       "7  0.8  0.2       10  0.003200\n",
       "8  0.9  0.1       10  0.000001"
      ]
     },
     "execution_count": 9,
     "metadata": {},
     "output_type": "execute_result"
    }
   ],
   "source": [
    "a_vals = pd.Series(range(1,10,1))\n",
    "\n",
    "List = pd.DataFrame(a_vals/10, columns=['a'])\n",
    "\n",
    "List['1-a'] = 1-List.a\n",
    "List['token_A'] = 10\n",
    "List['token_B'] = (2/(List.token_A**List.a))**(1/(1-List.a))\n",
    "\n",
    "List"
   ]
  },
  {
   "cell_type": "markdown",
   "metadata": {},
   "source": [
    "3. Rewrite the curve $2 = x^ay^{1-a}$ in the form \"$y =$ (some expression involving x)\" and plot it using the Python tool of your choice. "
   ]
  },
  {
   "cell_type": "markdown",
   "metadata": {},
   "source": [
    "#### Solution\n",
    "\n",
    "$$ y = (\\frac{2}{x^a})^{1/(1-a)} $$"
   ]
  },
  {
   "cell_type": "markdown",
   "metadata": {},
   "source": [
    "4. Generate 100 $(x,y)$ points on the curve $2 = x^{0.6}y^{0.4}$. Now take the **logarithm** of both $x$ and $y$ in your 100 points. Plot $\\log(x)$ against $\\log(y)$. What do you notice? "
   ]
  },
  {
   "cell_type": "code",
   "execution_count": 27,
   "metadata": {},
   "outputs": [
    {
     "data": {
      "text/html": [
       "<div>\n",
       "<style scoped>\n",
       "    .dataframe tbody tr th:only-of-type {\n",
       "        vertical-align: middle;\n",
       "    }\n",
       "\n",
       "    .dataframe tbody tr th {\n",
       "        vertical-align: top;\n",
       "    }\n",
       "\n",
       "    .dataframe thead th {\n",
       "        text-align: right;\n",
       "    }\n",
       "</style>\n",
       "<table border=\"1\" class=\"dataframe\">\n",
       "  <thead>\n",
       "    <tr style=\"text-align: right;\">\n",
       "      <th></th>\n",
       "      <th>token_A</th>\n",
       "      <th>token_B</th>\n",
       "      <th>log_A</th>\n",
       "      <th>log_B</th>\n",
       "    </tr>\n",
       "  </thead>\n",
       "  <tbody>\n",
       "    <tr>\n",
       "      <th>0</th>\n",
       "      <td>10</td>\n",
       "      <td>0.178885</td>\n",
       "      <td>2.302585</td>\n",
       "      <td>-1.721010</td>\n",
       "    </tr>\n",
       "    <tr>\n",
       "      <th>1</th>\n",
       "      <td>9</td>\n",
       "      <td>0.209513</td>\n",
       "      <td>2.197225</td>\n",
       "      <td>-1.562969</td>\n",
       "    </tr>\n",
       "    <tr>\n",
       "      <th>2</th>\n",
       "      <td>8</td>\n",
       "      <td>0.250000</td>\n",
       "      <td>2.079442</td>\n",
       "      <td>-1.386294</td>\n",
       "    </tr>\n",
       "    <tr>\n",
       "      <th>3</th>\n",
       "      <td>7</td>\n",
       "      <td>0.305441</td>\n",
       "      <td>1.945910</td>\n",
       "      <td>-1.185997</td>\n",
       "    </tr>\n",
       "    <tr>\n",
       "      <th>4</th>\n",
       "      <td>6</td>\n",
       "      <td>0.384900</td>\n",
       "      <td>1.791759</td>\n",
       "      <td>-0.954771</td>\n",
       "    </tr>\n",
       "    <tr>\n",
       "      <th>5</th>\n",
       "      <td>5</td>\n",
       "      <td>0.505964</td>\n",
       "      <td>1.609438</td>\n",
       "      <td>-0.681289</td>\n",
       "    </tr>\n",
       "    <tr>\n",
       "      <th>6</th>\n",
       "      <td>4</td>\n",
       "      <td>0.707107</td>\n",
       "      <td>1.386294</td>\n",
       "      <td>-0.346574</td>\n",
       "    </tr>\n",
       "    <tr>\n",
       "      <th>7</th>\n",
       "      <td>3</td>\n",
       "      <td>1.088662</td>\n",
       "      <td>1.098612</td>\n",
       "      <td>0.084950</td>\n",
       "    </tr>\n",
       "    <tr>\n",
       "      <th>8</th>\n",
       "      <td>2</td>\n",
       "      <td>2.000000</td>\n",
       "      <td>0.693147</td>\n",
       "      <td>0.693147</td>\n",
       "    </tr>\n",
       "    <tr>\n",
       "      <th>9</th>\n",
       "      <td>1</td>\n",
       "      <td>5.656854</td>\n",
       "      <td>0.000000</td>\n",
       "      <td>1.732868</td>\n",
       "    </tr>\n",
       "  </tbody>\n",
       "</table>\n",
       "</div>"
      ],
      "text/plain": [
       "   token_A   token_B     log_A     log_B\n",
       "0       10  0.178885  2.302585 -1.721010\n",
       "1        9  0.209513  2.197225 -1.562969\n",
       "2        8  0.250000  2.079442 -1.386294\n",
       "3        7  0.305441  1.945910 -1.185997\n",
       "4        6  0.384900  1.791759 -0.954771\n",
       "5        5  0.505964  1.609438 -0.681289\n",
       "6        4  0.707107  1.386294 -0.346574\n",
       "7        3  1.088662  1.098612  0.084950\n",
       "8        2  2.000000  0.693147  0.693147\n",
       "9        1  5.656854  0.000000  1.732868"
      ]
     },
     "execution_count": 27,
     "metadata": {},
     "output_type": "execute_result"
    }
   ],
   "source": [
    "x = pd.Series(range(10,0,-1))\n",
    "a = .6\n",
    "b = .4\n",
    "\n",
    "List = pd.DataFrame(x, columns=['token_A'])\n",
    "List['token_B'] = (2/(List.token_A**a))**(1/(b))\n",
    "List['log_A'] = np.log(List.token_A)\n",
    "List['log_B'] = np.log(List.token_B)\n",
    "\n",
    "List"
   ]
  },
  {
   "cell_type": "code",
   "execution_count": 26,
   "metadata": {},
   "outputs": [
    {
     "data": {
      "application/vnd.plotly.v1+json": {
       "config": {
        "plotlyServerURL": "https://plot.ly"
       },
       "data": [
        {
         "hovertemplate": "log_B=%{x}<br>log_A=%{y}<extra></extra>",
         "legendgroup": "",
         "line": {
          "color": "#636efa",
          "dash": "solid"
         },
         "mode": "lines",
         "name": "",
         "orientation": "v",
         "showlegend": false,
         "type": "scatter",
         "x": [
          -5.174887327582273,
          -5.159811823802021,
          -5.144583266605994,
          -5.129198516355211,
          -5.113654335801891,
          -5.097947386000948,
          -5.082074222005143,
          -5.06603128833002,
          -5.049814914173697,
          -5.033421308375411,
          -5.016846554095534,
          -5.000086603198346,
          -4.983137270317447,
          -4.965994226582012,
          -4.948652992980398,
          -4.9311089333356115,
          -4.9133572468651066,
          -4.895392960295033,
          -4.877210919496516,
          -4.858805780608795,
          -4.840172000610959,
          -4.821303827300668,
          -4.802195288634524,
          -4.782840181380663,
          -4.763232059029633,
          -4.743364218904603,
          -4.723229688406391,
          -4.702821210322723,
          -4.682131227124219,
          -4.66115186416211,
          -4.639874911674175,
          -4.618291805496026,
          -4.5963936063642965,
          -4.5741709776865855,
          -4.551614161639774,
          -4.528712953443592,
          -4.505456673639644,
          -4.481834138187436,
          -4.457833626167774,
          -4.433442844860103,
          -4.408648891933288,
          -4.383438214458716,
          -4.357796564419766,
          -4.3317089503519615,
          -4.30515958470286,
          -4.278131826448843,
          -4.250608118446548,
          -4.222569918928319,
          -4.193997626472277,
          -4.164870497686626,
          -4.135166556742355,
          -4.104862495766077,
          -4.073933564961973,
          -4.042353451165225,
          -4.010094143333779,
          -3.9771257832556164,
          -3.9434164994775287,
          -3.90893222214048,
          -3.873636476025189,
          -3.8374901486565984,
          -3.8004512297710407,
          -3.762474517794606,
          -3.7235112881897154,
          -3.6835089175664733,
          -3.6424104562843014,
          -3.6001541408342566,
          -3.5566728355243784,
          -3.5118933907998566,
          -3.465735902799726,
          -3.4181128553278555,
          -3.36892812109337,
          -3.3180757935798475,
          -3.2654388138629424,
          -3.21088734760663,
          -3.15427685563236,
          -3.0954457859024376,
          -3.034212794122055,
          -2.970373372493861,
          -2.9036957286376106,
          -2.8339157051852712,
          -2.7607304589311235,
          -2.6837905173497973,
          -2.6026896854443837,
          -2.5169520646844608,
          -2.4260151319598084,
          -2.329207350253452,
          -2.2257180430230243,
          -2.114556084792442,
          -1.994492023282137,
          -1.8639749577976925,
          -1.7210096880912051,
          -1.5629689146044656,
          -1.3862943611198904,
          -1.1859972721831067,
          -0.9547712524422187,
          -0.6812889172512869,
          -0.3465735902799724,
          0.08494951839769894,
          0.6931471805599455,
          1.7328679513998633
         ],
         "xaxis": "x",
         "y": [
          4.605170185988092,
          4.59511985013459,
          4.584967478670572,
          4.574710978503383,
          4.564348191467836,
          4.553876891600541,
          4.543294782270004,
          4.532599493153256,
          4.5217885770490405,
          4.51085950651685,
          4.499809670330265,
          4.48863636973214,
          4.477336814478207,
          4.465908118654584,
          4.454347296253507,
          4.442651256490317,
          4.430816798843313,
          4.418840607796598,
          4.406719247264253,
          4.394449154672439,
          4.382026634673881,
          4.3694478524670215,
          4.356708826689592,
          4.343805421853684,
          4.330733340286331,
          4.31748811353631,
          4.30406509320417,
          4.290459441148391,
          4.276666119016055,
          4.2626798770413155,
          4.248495242049359,
          4.23410650459726,
          4.219507705176107,
          4.204692619390966,
          4.189654742026425,
          4.174387269895637,
          4.1588830833596715,
          4.143134726391533,
          4.127134385045092,
          4.110873864173311,
          4.0943445622221,
          4.07753744390572,
          4.060443010546419,
          4.04305126783455,
          4.02535169073515,
          4.007333185232471,
          3.9889840465642745,
          3.970291913552122,
          3.9512437185814275,
          3.9318256327243257,
          3.912023005428146,
          3.8918202981106265,
          3.871201010907891,
          3.8501476017100584,
          3.828641396489095,
          3.8066624897703196,
          3.784189633918261,
          3.7612001156935624,
          3.7376696182833684,
          3.713572066704308,
          3.6888794541139363,
          3.6635616461296463,
          3.6375861597263857,
          3.6109179126442243,
          3.58351893845611,
          3.5553480614894135,
          3.5263605246161616,
          3.4965075614664802,
          3.4657359027997265,
          3.4339872044851463,
          3.4011973816621555,
          3.367295829986474,
          3.332204510175204,
          3.295836866004329,
          3.258096538021482,
          3.2188758248682006,
          3.1780538303479458,
          3.1354942159291497,
          3.091042453358316,
          3.044522437723423,
          2.995732273553991,
          2.9444389791664403,
          2.8903717578961645,
          2.833213344056216,
          2.772588722239781,
          2.70805020110221,
          2.6390573296152584,
          2.5649493574615367,
          2.4849066497880004,
          2.3978952727983707,
          2.302585092994046,
          2.1972245773362196,
          2.0794415416798357,
          1.9459101490553132,
          1.791759469228055,
          1.6094379124341003,
          1.3862943611198906,
          1.0986122886681098,
          0.6931471805599453,
          0
         ],
         "yaxis": "y"
        }
       ],
       "layout": {
        "height": 800,
        "legend": {
         "tracegroupgap": 0
        },
        "margin": {
         "t": 60
        },
        "template": {
         "data": {
          "bar": [
           {
            "error_x": {
             "color": "#2a3f5f"
            },
            "error_y": {
             "color": "#2a3f5f"
            },
            "marker": {
             "line": {
              "color": "#E5ECF6",
              "width": 0.5
             }
            },
            "type": "bar"
           }
          ],
          "barpolar": [
           {
            "marker": {
             "line": {
              "color": "#E5ECF6",
              "width": 0.5
             }
            },
            "type": "barpolar"
           }
          ],
          "carpet": [
           {
            "aaxis": {
             "endlinecolor": "#2a3f5f",
             "gridcolor": "white",
             "linecolor": "white",
             "minorgridcolor": "white",
             "startlinecolor": "#2a3f5f"
            },
            "baxis": {
             "endlinecolor": "#2a3f5f",
             "gridcolor": "white",
             "linecolor": "white",
             "minorgridcolor": "white",
             "startlinecolor": "#2a3f5f"
            },
            "type": "carpet"
           }
          ],
          "choropleth": [
           {
            "colorbar": {
             "outlinewidth": 0,
             "ticks": ""
            },
            "type": "choropleth"
           }
          ],
          "contour": [
           {
            "colorbar": {
             "outlinewidth": 0,
             "ticks": ""
            },
            "colorscale": [
             [
              0,
              "#0d0887"
             ],
             [
              0.1111111111111111,
              "#46039f"
             ],
             [
              0.2222222222222222,
              "#7201a8"
             ],
             [
              0.3333333333333333,
              "#9c179e"
             ],
             [
              0.4444444444444444,
              "#bd3786"
             ],
             [
              0.5555555555555556,
              "#d8576b"
             ],
             [
              0.6666666666666666,
              "#ed7953"
             ],
             [
              0.7777777777777778,
              "#fb9f3a"
             ],
             [
              0.8888888888888888,
              "#fdca26"
             ],
             [
              1,
              "#f0f921"
             ]
            ],
            "type": "contour"
           }
          ],
          "contourcarpet": [
           {
            "colorbar": {
             "outlinewidth": 0,
             "ticks": ""
            },
            "type": "contourcarpet"
           }
          ],
          "heatmap": [
           {
            "colorbar": {
             "outlinewidth": 0,
             "ticks": ""
            },
            "colorscale": [
             [
              0,
              "#0d0887"
             ],
             [
              0.1111111111111111,
              "#46039f"
             ],
             [
              0.2222222222222222,
              "#7201a8"
             ],
             [
              0.3333333333333333,
              "#9c179e"
             ],
             [
              0.4444444444444444,
              "#bd3786"
             ],
             [
              0.5555555555555556,
              "#d8576b"
             ],
             [
              0.6666666666666666,
              "#ed7953"
             ],
             [
              0.7777777777777778,
              "#fb9f3a"
             ],
             [
              0.8888888888888888,
              "#fdca26"
             ],
             [
              1,
              "#f0f921"
             ]
            ],
            "type": "heatmap"
           }
          ],
          "heatmapgl": [
           {
            "colorbar": {
             "outlinewidth": 0,
             "ticks": ""
            },
            "colorscale": [
             [
              0,
              "#0d0887"
             ],
             [
              0.1111111111111111,
              "#46039f"
             ],
             [
              0.2222222222222222,
              "#7201a8"
             ],
             [
              0.3333333333333333,
              "#9c179e"
             ],
             [
              0.4444444444444444,
              "#bd3786"
             ],
             [
              0.5555555555555556,
              "#d8576b"
             ],
             [
              0.6666666666666666,
              "#ed7953"
             ],
             [
              0.7777777777777778,
              "#fb9f3a"
             ],
             [
              0.8888888888888888,
              "#fdca26"
             ],
             [
              1,
              "#f0f921"
             ]
            ],
            "type": "heatmapgl"
           }
          ],
          "histogram": [
           {
            "marker": {
             "colorbar": {
              "outlinewidth": 0,
              "ticks": ""
             }
            },
            "type": "histogram"
           }
          ],
          "histogram2d": [
           {
            "colorbar": {
             "outlinewidth": 0,
             "ticks": ""
            },
            "colorscale": [
             [
              0,
              "#0d0887"
             ],
             [
              0.1111111111111111,
              "#46039f"
             ],
             [
              0.2222222222222222,
              "#7201a8"
             ],
             [
              0.3333333333333333,
              "#9c179e"
             ],
             [
              0.4444444444444444,
              "#bd3786"
             ],
             [
              0.5555555555555556,
              "#d8576b"
             ],
             [
              0.6666666666666666,
              "#ed7953"
             ],
             [
              0.7777777777777778,
              "#fb9f3a"
             ],
             [
              0.8888888888888888,
              "#fdca26"
             ],
             [
              1,
              "#f0f921"
             ]
            ],
            "type": "histogram2d"
           }
          ],
          "histogram2dcontour": [
           {
            "colorbar": {
             "outlinewidth": 0,
             "ticks": ""
            },
            "colorscale": [
             [
              0,
              "#0d0887"
             ],
             [
              0.1111111111111111,
              "#46039f"
             ],
             [
              0.2222222222222222,
              "#7201a8"
             ],
             [
              0.3333333333333333,
              "#9c179e"
             ],
             [
              0.4444444444444444,
              "#bd3786"
             ],
             [
              0.5555555555555556,
              "#d8576b"
             ],
             [
              0.6666666666666666,
              "#ed7953"
             ],
             [
              0.7777777777777778,
              "#fb9f3a"
             ],
             [
              0.8888888888888888,
              "#fdca26"
             ],
             [
              1,
              "#f0f921"
             ]
            ],
            "type": "histogram2dcontour"
           }
          ],
          "mesh3d": [
           {
            "colorbar": {
             "outlinewidth": 0,
             "ticks": ""
            },
            "type": "mesh3d"
           }
          ],
          "parcoords": [
           {
            "line": {
             "colorbar": {
              "outlinewidth": 0,
              "ticks": ""
             }
            },
            "type": "parcoords"
           }
          ],
          "pie": [
           {
            "automargin": true,
            "type": "pie"
           }
          ],
          "scatter": [
           {
            "marker": {
             "colorbar": {
              "outlinewidth": 0,
              "ticks": ""
             }
            },
            "type": "scatter"
           }
          ],
          "scatter3d": [
           {
            "line": {
             "colorbar": {
              "outlinewidth": 0,
              "ticks": ""
             }
            },
            "marker": {
             "colorbar": {
              "outlinewidth": 0,
              "ticks": ""
             }
            },
            "type": "scatter3d"
           }
          ],
          "scattercarpet": [
           {
            "marker": {
             "colorbar": {
              "outlinewidth": 0,
              "ticks": ""
             }
            },
            "type": "scattercarpet"
           }
          ],
          "scattergeo": [
           {
            "marker": {
             "colorbar": {
              "outlinewidth": 0,
              "ticks": ""
             }
            },
            "type": "scattergeo"
           }
          ],
          "scattergl": [
           {
            "marker": {
             "colorbar": {
              "outlinewidth": 0,
              "ticks": ""
             }
            },
            "type": "scattergl"
           }
          ],
          "scattermapbox": [
           {
            "marker": {
             "colorbar": {
              "outlinewidth": 0,
              "ticks": ""
             }
            },
            "type": "scattermapbox"
           }
          ],
          "scatterpolar": [
           {
            "marker": {
             "colorbar": {
              "outlinewidth": 0,
              "ticks": ""
             }
            },
            "type": "scatterpolar"
           }
          ],
          "scatterpolargl": [
           {
            "marker": {
             "colorbar": {
              "outlinewidth": 0,
              "ticks": ""
             }
            },
            "type": "scatterpolargl"
           }
          ],
          "scatterternary": [
           {
            "marker": {
             "colorbar": {
              "outlinewidth": 0,
              "ticks": ""
             }
            },
            "type": "scatterternary"
           }
          ],
          "surface": [
           {
            "colorbar": {
             "outlinewidth": 0,
             "ticks": ""
            },
            "colorscale": [
             [
              0,
              "#0d0887"
             ],
             [
              0.1111111111111111,
              "#46039f"
             ],
             [
              0.2222222222222222,
              "#7201a8"
             ],
             [
              0.3333333333333333,
              "#9c179e"
             ],
             [
              0.4444444444444444,
              "#bd3786"
             ],
             [
              0.5555555555555556,
              "#d8576b"
             ],
             [
              0.6666666666666666,
              "#ed7953"
             ],
             [
              0.7777777777777778,
              "#fb9f3a"
             ],
             [
              0.8888888888888888,
              "#fdca26"
             ],
             [
              1,
              "#f0f921"
             ]
            ],
            "type": "surface"
           }
          ],
          "table": [
           {
            "cells": {
             "fill": {
              "color": "#EBF0F8"
             },
             "line": {
              "color": "white"
             }
            },
            "header": {
             "fill": {
              "color": "#C8D4E3"
             },
             "line": {
              "color": "white"
             }
            },
            "type": "table"
           }
          ]
         },
         "layout": {
          "annotationdefaults": {
           "arrowcolor": "#2a3f5f",
           "arrowhead": 0,
           "arrowwidth": 1
          },
          "coloraxis": {
           "colorbar": {
            "outlinewidth": 0,
            "ticks": ""
           }
          },
          "colorscale": {
           "diverging": [
            [
             0,
             "#8e0152"
            ],
            [
             0.1,
             "#c51b7d"
            ],
            [
             0.2,
             "#de77ae"
            ],
            [
             0.3,
             "#f1b6da"
            ],
            [
             0.4,
             "#fde0ef"
            ],
            [
             0.5,
             "#f7f7f7"
            ],
            [
             0.6,
             "#e6f5d0"
            ],
            [
             0.7,
             "#b8e186"
            ],
            [
             0.8,
             "#7fbc41"
            ],
            [
             0.9,
             "#4d9221"
            ],
            [
             1,
             "#276419"
            ]
           ],
           "sequential": [
            [
             0,
             "#0d0887"
            ],
            [
             0.1111111111111111,
             "#46039f"
            ],
            [
             0.2222222222222222,
             "#7201a8"
            ],
            [
             0.3333333333333333,
             "#9c179e"
            ],
            [
             0.4444444444444444,
             "#bd3786"
            ],
            [
             0.5555555555555556,
             "#d8576b"
            ],
            [
             0.6666666666666666,
             "#ed7953"
            ],
            [
             0.7777777777777778,
             "#fb9f3a"
            ],
            [
             0.8888888888888888,
             "#fdca26"
            ],
            [
             1,
             "#f0f921"
            ]
           ],
           "sequentialminus": [
            [
             0,
             "#0d0887"
            ],
            [
             0.1111111111111111,
             "#46039f"
            ],
            [
             0.2222222222222222,
             "#7201a8"
            ],
            [
             0.3333333333333333,
             "#9c179e"
            ],
            [
             0.4444444444444444,
             "#bd3786"
            ],
            [
             0.5555555555555556,
             "#d8576b"
            ],
            [
             0.6666666666666666,
             "#ed7953"
            ],
            [
             0.7777777777777778,
             "#fb9f3a"
            ],
            [
             0.8888888888888888,
             "#fdca26"
            ],
            [
             1,
             "#f0f921"
            ]
           ]
          },
          "colorway": [
           "#636efa",
           "#EF553B",
           "#00cc96",
           "#ab63fa",
           "#FFA15A",
           "#19d3f3",
           "#FF6692",
           "#B6E880",
           "#FF97FF",
           "#FECB52"
          ],
          "font": {
           "color": "#2a3f5f"
          },
          "geo": {
           "bgcolor": "white",
           "lakecolor": "white",
           "landcolor": "#E5ECF6",
           "showlakes": true,
           "showland": true,
           "subunitcolor": "white"
          },
          "hoverlabel": {
           "align": "left"
          },
          "hovermode": "closest",
          "mapbox": {
           "style": "light"
          },
          "paper_bgcolor": "white",
          "plot_bgcolor": "#E5ECF6",
          "polar": {
           "angularaxis": {
            "gridcolor": "white",
            "linecolor": "white",
            "ticks": ""
           },
           "bgcolor": "#E5ECF6",
           "radialaxis": {
            "gridcolor": "white",
            "linecolor": "white",
            "ticks": ""
           }
          },
          "scene": {
           "xaxis": {
            "backgroundcolor": "#E5ECF6",
            "gridcolor": "white",
            "gridwidth": 2,
            "linecolor": "white",
            "showbackground": true,
            "ticks": "",
            "zerolinecolor": "white"
           },
           "yaxis": {
            "backgroundcolor": "#E5ECF6",
            "gridcolor": "white",
            "gridwidth": 2,
            "linecolor": "white",
            "showbackground": true,
            "ticks": "",
            "zerolinecolor": "white"
           },
           "zaxis": {
            "backgroundcolor": "#E5ECF6",
            "gridcolor": "white",
            "gridwidth": 2,
            "linecolor": "white",
            "showbackground": true,
            "ticks": "",
            "zerolinecolor": "white"
           }
          },
          "shapedefaults": {
           "line": {
            "color": "#2a3f5f"
           }
          },
          "ternary": {
           "aaxis": {
            "gridcolor": "white",
            "linecolor": "white",
            "ticks": ""
           },
           "baxis": {
            "gridcolor": "white",
            "linecolor": "white",
            "ticks": ""
           },
           "bgcolor": "#E5ECF6",
           "caxis": {
            "gridcolor": "white",
            "linecolor": "white",
            "ticks": ""
           }
          },
          "title": {
           "x": 0.05
          },
          "xaxis": {
           "automargin": true,
           "gridcolor": "white",
           "linecolor": "white",
           "ticks": "",
           "title": {
            "standoff": 15
           },
           "zerolinecolor": "white",
           "zerolinewidth": 2
          },
          "yaxis": {
           "automargin": true,
           "gridcolor": "white",
           "linecolor": "white",
           "ticks": "",
           "title": {
            "standoff": 15
           },
           "zerolinecolor": "white",
           "zerolinewidth": 2
          }
         }
        },
        "title": {
         "text": "<b>AMM Curve</b>"
        },
        "width": 800,
        "xaxis": {
         "anchor": "y",
         "domain": [
          0,
          1
         ],
         "range": [
          -6,
          6
         ],
         "title": {
          "text": "log_B"
         }
        },
        "yaxis": {
         "anchor": "x",
         "domain": [
          0,
          1
         ],
         "range": [
          -1,
          6
         ],
         "title": {
          "text": "log_A"
         }
        }
       }
      }
     },
     "metadata": {},
     "output_type": "display_data"
    }
   ],
   "source": [
    "#plot curves with all \n",
    "\n",
    "fig = px.line(List, x='log_B', y='log_A')\n",
    "\n",
    "fig.update_xaxes(range=[-6, 6])\n",
    "fig.update_yaxes(range=[-1, 6])\n",
    "fig.update_layout(height=800, width=800, title_text='<b>AMM Curve</b>')\n",
    "\n",
    "fig.show()"
   ]
  },
  {
   "cell_type": "markdown",
   "metadata": {},
   "source": [
    "#### Solutions\n",
    "\n",
    "The relationship between the variables is linear and the slope of the line is the ration between the weights of the tokens\n"
   ]
  },
  {
   "cell_type": "markdown",
   "metadata": {},
   "source": [
    "5. Both pictures above represent AMM curves of the form $2 = x^{a}y^{1-a}$. One of the curves has $a =0.6$ and the other has $a = 0.8$. Which is which? How can you tell? "
   ]
  },
  {
   "cell_type": "markdown",
   "metadata": {},
   "source": [
    "#### Solution - There are no pics"
   ]
  },
  {
   "cell_type": "markdown",
   "metadata": {},
   "source": [
    "6. Both of the curves pictured above contain the point $(2,2)$. Explain why any curve of the form $2= x^{a}y^{1-a}$ will pass through $(2,2)$. Is this a special property of the number 2, or will any curve of the form $k = x^{a}y^{1-a}$ pass through $(k,k)$? (You can determine this with an algebraic proof, or by playing with Python graphs.)"
   ]
  },
  {
   "cell_type": "markdown",
   "metadata": {},
   "source": [
    "#### Solution\n",
    "\n",
    "Proof by contradiction. (Attempt 1)\n",
    "\n",
    "Suppose there is no point $(k, k)$ in the curve $k = x^{a}y^{1-a}$.\n",
    "\n",
    "$\\begin{align}\n",
    "& \\text{Let $ y := x $} \\quad (\\textit{Is this sound?})\\tag{1}. \\\\\n",
    "& k = x^{a}y^{1-a} \\quad \\text{(given)} \\tag{2} \\\\\n",
    "& k = x^{a}x^{1-a} \\quad \\text{(substituting from (1))} \\tag{3} \\\\\n",
    "& k = x^{a+1-a} \\quad \\text{(product of exponents)} \\tag{4} \\\\\n",
    "& k = x^{1} \\tag{5} \\\\\n",
    "& k = x \\tag{6}\n",
    "\\end{align} $\n",
    "\n",
    "However, since $x = k$, per (1) this means $y = k$ also, meaning that point $(k, k)$ exists, contradicting the original assumption. $\\square$\n",
    "\n",
    "\n"
   ]
  },
  {
   "cell_type": "markdown",
   "metadata": {},
   "source": [
    "Proof by contradiction. (Attempt 2)\n",
    "\n",
    "Suppose there is no point $(k, k)$ in the curve $k = x^{a}y^{1-a}$.\n",
    "$\n",
    "\\begin{align*}\n",
    "\\text{Let}\\ x &:= k  \\tag{1}. \\\\\n",
    "k &= x^{a}y^{1-a} \\quad \\text{(Given.)} \\tag{2} \\\\\n",
    "k &= k^{a}y^{1-a} \\quad \\text{(Substituting from (1).)} \\tag{3} \\\\\n",
    "\\frac{k}{k^{a}} &= y^{1-a} \\tag{4} \\\\\n",
    "\\log \\frac{k}{k^{a}} &= \\log y^{1-a} \\tag{5} \\\\\n",
    "\\log {k} - \\log {k^{a}} &= \\log y^{1-a} \\tag{6} \\\\\n",
    "\\log {k} - a \\log {k} &= (1-a) \\log y \\tag{7} \\\\\n",
    "\\log {k} - a \\log {k} &= \\log y - a \\log y\\tag{8} \\\\\n",
    "k &= y \\tag{9} \\quad \\text{(Since a $\\log$ function has only one $x$ mapping to every $\\log x$.)}\n",
    "\\end{align*}\n",
    "$\n",
    "\n",
    "However, since $x = k$ per (1) and also $y=k$ per (9) this means point $(k, k)$ exists, contradicting the original assumption. $\\square$"
   ]
  },
  {
   "cell_type": "markdown",
   "metadata": {},
   "source": [
    "7. Suppose a curve $2 = x^ay^{1-a}$ passes through the point $(2,2)$ and $(p,q)$. Explain how you can use the values of $p$ and $q$ to determine the weights of Token $X$ and Token $Y$. "
   ]
  },
  {
   "cell_type": "markdown",
   "metadata": {},
   "source": [
    "#### Solution\n",
    "\n",
    "$\n",
    "\\begin{align*}\n",
    "  2 &= x^a y^{(1-a)} \\\\\n",
    "  2 &= p^a q^{(1-a)} \\\\\n",
    "  2 &= x^a y^{(1-a)} \\\\\n",
    "  p^a q^{(1-a)} &=  x^a y^{(1-a)}\\\\\n",
    "  \\log \\left(p^a q^{(1-a)}\\right) &=  \\log \\left( x^a y^{(1-a)} \\right)\\\\\n",
    "  \\log (p^a) + \\log (q^{(1-a)}) &=  \\log (x^a) + \\log (y^{(1-a)}) \\\\\n",
    "  a \\log p + (1-a) \\log q &=  a \\log x + (1-a) \\log y  \\\\\n",
    "  a \\log p + \\log q - a \\log q &=  a \\log x + \\log y - a \\log y  \\\\\n",
    "  a (\\log p - \\log q) + \\log q  &=  a (\\log x - \\log y) + \\log y \\\\\n",
    "  \\log q  - \\log y &=  a (\\log x - \\log y) - a (\\log p - \\log q)\\\\\n",
    "  \\log q  - \\log y &=  a ((\\log x - \\log y) - (\\log p - \\log q))\\\\\n",
    "  \\log q  - \\log y &=  a (\\log x + \\log q - \\log y - \\log p )\\\\\n",
    "  \\frac{\\log q  - \\log y}{\\log x + \\log q - \\log y - \\log p }&=  a \\\\\n",
    "\\end{align*}\n",
    "$\n",
    "\n",
    "$\n",
    "\\begin{align}\n",
    "a = \\frac{\\log q  - \\log y}{\\log x + \\log q - \\log y - \\log p } \\tag{1}\n",
    "\\end{align}\n",
    "$\n"
   ]
  },
  {
   "cell_type": "markdown",
   "metadata": {},
   "source": [
    "Check:"
   ]
  },
  {
   "cell_type": "code",
   "execution_count": null,
   "metadata": {},
   "outputs": [],
   "source": [
    "a = 0.8 # Let a = 0.8; we'll use this to check the Equation 1. \n",
    "x = 2 # Per premise\n",
    "y = 2 # Per premise\n",
    "p = 5 # Arbitrary point\n",
    "q = (2/(p**a))**(1/(1-a)) # Calculated from p via invariant function\n",
    "\n",
    "\"\"\"Check equality in Equation 1.\"\"\"\n",
    "(math.log(q)- math.log(y))/(math.log(x) + math.log(q) - math.log(y) - math.log(p)) == a "
   ]
  },
  {
   "cell_type": "markdown",
   "metadata": {},
   "source": [
    "8. In **Alice's Pool**, which point has the highest spot price $SP_X^{Y}$: **A**, **B** or **C**? (You may be able to answer this without calculation.)"
   ]
  },
  {
   "cell_type": "markdown",
   "metadata": {},
   "source": [
    "9. Suppose Alice is actively managing her pool against Bob's pool and wishes to trade it against Bob's pool. Identify a pair of points -- one in her pool and one in Bob's pool -- that would represent an arbitrage opportunity for Alice. "
   ]
  },
  {
   "cell_type": "code",
   "execution_count": 51,
   "metadata": {},
   "outputs": [
    {
     "data": {
      "text/html": [
       "<div>\n",
       "<style scoped>\n",
       "    .dataframe tbody tr th:only-of-type {\n",
       "        vertical-align: middle;\n",
       "    }\n",
       "\n",
       "    .dataframe tbody tr th {\n",
       "        vertical-align: top;\n",
       "    }\n",
       "\n",
       "    .dataframe thead th {\n",
       "        text-align: right;\n",
       "    }\n",
       "</style>\n",
       "<table border=\"1\" class=\"dataframe\">\n",
       "  <thead>\n",
       "    <tr style=\"text-align: right;\">\n",
       "      <th></th>\n",
       "      <th>token_A</th>\n",
       "      <th>token_B</th>\n",
       "      <th>token_A2</th>\n",
       "      <th>token_B2</th>\n",
       "    </tr>\n",
       "  </thead>\n",
       "  <tbody>\n",
       "    <tr>\n",
       "      <th>0</th>\n",
       "      <td>10.0</td>\n",
       "      <td>0.178885</td>\n",
       "      <td>10.0</td>\n",
       "      <td>0.003200</td>\n",
       "    </tr>\n",
       "    <tr>\n",
       "      <th>1</th>\n",
       "      <td>9.9</td>\n",
       "      <td>0.181603</td>\n",
       "      <td>9.9</td>\n",
       "      <td>0.003331</td>\n",
       "    </tr>\n",
       "    <tr>\n",
       "      <th>2</th>\n",
       "      <td>9.8</td>\n",
       "      <td>0.184389</td>\n",
       "      <td>9.8</td>\n",
       "      <td>0.003469</td>\n",
       "    </tr>\n",
       "    <tr>\n",
       "      <th>3</th>\n",
       "      <td>9.7</td>\n",
       "      <td>0.187248</td>\n",
       "      <td>9.7</td>\n",
       "      <td>0.003615</td>\n",
       "    </tr>\n",
       "    <tr>\n",
       "      <th>4</th>\n",
       "      <td>9.6</td>\n",
       "      <td>0.190181</td>\n",
       "      <td>9.6</td>\n",
       "      <td>0.003768</td>\n",
       "    </tr>\n",
       "    <tr>\n",
       "      <th>5</th>\n",
       "      <td>9.5</td>\n",
       "      <td>0.193192</td>\n",
       "      <td>9.5</td>\n",
       "      <td>0.003929</td>\n",
       "    </tr>\n",
       "    <tr>\n",
       "      <th>6</th>\n",
       "      <td>9.4</td>\n",
       "      <td>0.196283</td>\n",
       "      <td>9.4</td>\n",
       "      <td>0.004099</td>\n",
       "    </tr>\n",
       "    <tr>\n",
       "      <th>7</th>\n",
       "      <td>9.3</td>\n",
       "      <td>0.199458</td>\n",
       "      <td>9.3</td>\n",
       "      <td>0.004278</td>\n",
       "    </tr>\n",
       "    <tr>\n",
       "      <th>8</th>\n",
       "      <td>9.2</td>\n",
       "      <td>0.202718</td>\n",
       "      <td>9.2</td>\n",
       "      <td>0.004467</td>\n",
       "    </tr>\n",
       "    <tr>\n",
       "      <th>9</th>\n",
       "      <td>9.1</td>\n",
       "      <td>0.206069</td>\n",
       "      <td>9.1</td>\n",
       "      <td>0.004666</td>\n",
       "    </tr>\n",
       "    <tr>\n",
       "      <th>10</th>\n",
       "      <td>9.0</td>\n",
       "      <td>0.209513</td>\n",
       "      <td>9.0</td>\n",
       "      <td>0.004877</td>\n",
       "    </tr>\n",
       "    <tr>\n",
       "      <th>11</th>\n",
       "      <td>8.9</td>\n",
       "      <td>0.213054</td>\n",
       "      <td>8.9</td>\n",
       "      <td>0.005100</td>\n",
       "    </tr>\n",
       "    <tr>\n",
       "      <th>12</th>\n",
       "      <td>8.8</td>\n",
       "      <td>0.216696</td>\n",
       "      <td>8.8</td>\n",
       "      <td>0.005336</td>\n",
       "    </tr>\n",
       "    <tr>\n",
       "      <th>13</th>\n",
       "      <td>8.7</td>\n",
       "      <td>0.220443</td>\n",
       "      <td>8.7</td>\n",
       "      <td>0.005586</td>\n",
       "    </tr>\n",
       "    <tr>\n",
       "      <th>14</th>\n",
       "      <td>8.6</td>\n",
       "      <td>0.224299</td>\n",
       "      <td>8.6</td>\n",
       "      <td>0.005850</td>\n",
       "    </tr>\n",
       "    <tr>\n",
       "      <th>15</th>\n",
       "      <td>8.5</td>\n",
       "      <td>0.228269</td>\n",
       "      <td>8.5</td>\n",
       "      <td>0.006130</td>\n",
       "    </tr>\n",
       "    <tr>\n",
       "      <th>16</th>\n",
       "      <td>8.4</td>\n",
       "      <td>0.232357</td>\n",
       "      <td>8.4</td>\n",
       "      <td>0.006427</td>\n",
       "    </tr>\n",
       "    <tr>\n",
       "      <th>17</th>\n",
       "      <td>8.3</td>\n",
       "      <td>0.236569</td>\n",
       "      <td>8.3</td>\n",
       "      <td>0.006743</td>\n",
       "    </tr>\n",
       "    <tr>\n",
       "      <th>18</th>\n",
       "      <td>8.2</td>\n",
       "      <td>0.240910</td>\n",
       "      <td>8.2</td>\n",
       "      <td>0.007078</td>\n",
       "    </tr>\n",
       "    <tr>\n",
       "      <th>19</th>\n",
       "      <td>8.1</td>\n",
       "      <td>0.245385</td>\n",
       "      <td>8.1</td>\n",
       "      <td>0.007434</td>\n",
       "    </tr>\n",
       "  </tbody>\n",
       "</table>\n",
       "</div>"
      ],
      "text/plain": [
       "    token_A   token_B  token_A2  token_B2\n",
       "0      10.0  0.178885      10.0  0.003200\n",
       "1       9.9  0.181603       9.9  0.003331\n",
       "2       9.8  0.184389       9.8  0.003469\n",
       "3       9.7  0.187248       9.7  0.003615\n",
       "4       9.6  0.190181       9.6  0.003768\n",
       "5       9.5  0.193192       9.5  0.003929\n",
       "6       9.4  0.196283       9.4  0.004099\n",
       "7       9.3  0.199458       9.3  0.004278\n",
       "8       9.2  0.202718       9.2  0.004467\n",
       "9       9.1  0.206069       9.1  0.004666\n",
       "10      9.0  0.209513       9.0  0.004877\n",
       "11      8.9  0.213054       8.9  0.005100\n",
       "12      8.8  0.216696       8.8  0.005336\n",
       "13      8.7  0.220443       8.7  0.005586\n",
       "14      8.6  0.224299       8.6  0.005850\n",
       "15      8.5  0.228269       8.5  0.006130\n",
       "16      8.4  0.232357       8.4  0.006427\n",
       "17      8.3  0.236569       8.3  0.006743\n",
       "18      8.2  0.240910       8.2  0.007078\n",
       "19      8.1  0.245385       8.1  0.007434"
      ]
     },
     "execution_count": 51,
     "metadata": {},
     "output_type": "execute_result"
    }
   ],
   "source": [
    "x = pd.Series(range(100,0,-1))\n",
    "a = .6\n",
    "b = .4\n",
    "List = pd.DataFrame(x/10, columns=['token_A'])\n",
    "List['token_B'] = (2/(List.token_A**a))**(1/(b))\n",
    "\n",
    "a = .8\n",
    "b = .2\n",
    "List2 = pd.DataFrame(x/10, columns=['token_A2'])\n",
    "List2['token_B2'] = (2/(List2.token_A2**a))**(1/(b))\n",
    "\n",
    "L = pd.concat([List, List2], axis=1)\n",
    "L.head(20)\n"
   ]
  },
  {
   "cell_type": "code",
   "execution_count": 57,
   "metadata": {},
   "outputs": [
    {
     "data": {
      "text/plain": [
       "0.002434"
      ]
     },
     "execution_count": 57,
     "metadata": {},
     "output_type": "execute_result"
    }
   ],
   "source": [
    "# In pool 1, to buy 0.1 tokens A $0.181603 - 0.178885 = 0.0027179$ tokens_B are required\n",
    "\n",
    "# In pool 2, to buy 0.1 tokens A $0.003331 - 0.003200 = 0.0001310$ tokens_B are required\n",
    "\n",
    "# Considering the point token_A = 9.9, if we sell 0.1 token_A in pool 1 we get 0.0027179 token_B but the price of buying 0.1 token_A in pool 2 is only $0.003469-0.003331=0.0001379$ so we end up with the same amount of token_A + $0.0027179 - 0.0001379 = 0.002580$ token_B.\n",
    "# If we want to buy more token_A in pool 2, our next 0.1 token_A would cost $0.003615-0.003469=0.0001460$ so we could have now .2 token_A plus $0.002580-0.0001460=0.002434$ token_B\n"
   ]
  },
  {
   "cell_type": "code",
   "execution_count": 59,
   "metadata": {},
   "outputs": [
    {
     "data": {
      "text/plain": [
       "1.5000000000000002"
      ]
     },
     "execution_count": 59,
     "metadata": {},
     "output_type": "execute_result"
    }
   ],
   "source": [
    "cash = L.token_B.iloc[1]-L.token_B.iloc[0]\n",
    "\n",
    "expense = 0\n",
    "i = 1\n",
    "count = 0.1\n",
    "while expense < cash:\n",
    "    expense_new = L.token_B2.iloc[i+1]-L.token_B2.iloc[i]\n",
    "    i+=1\n",
    "    expense += expense_new\n",
    "    count += 0.1\n",
    "count"
   ]
  },
  {
   "cell_type": "code",
   "execution_count": 47,
   "metadata": {},
   "outputs": [
    {
     "data": {
      "application/vnd.plotly.v1+json": {
       "config": {
        "plotlyServerURL": "https://plot.ly"
       },
       "data": [
        {
         "hovertemplate": "variable=token_B<br>token_A=%{x}<br>value=%{y}<extra></extra>",
         "legendgroup": "token_B",
         "line": {
          "color": "#636efa",
          "dash": "solid"
         },
         "mode": "lines",
         "name": "token_B",
         "orientation": "v",
         "showlegend": true,
         "type": "scatter",
         "x": [
          10,
          9.9,
          9.8,
          9.7,
          9.6,
          9.5,
          9.4,
          9.3,
          9.2,
          9.1,
          9,
          8.9,
          8.8,
          8.7,
          8.6,
          8.5,
          8.4,
          8.3,
          8.2,
          8.1,
          8,
          7.9,
          7.8,
          7.7,
          7.6,
          7.5,
          7.4,
          7.3,
          7.2,
          7.1,
          7,
          6.9,
          6.8,
          6.7,
          6.6,
          6.5,
          6.4,
          6.3,
          6.2,
          6.1,
          6,
          5.9,
          5.8,
          5.7,
          5.6,
          5.5,
          5.4,
          5.3,
          5.2,
          5.1,
          5,
          4.9,
          4.8,
          4.7,
          4.6,
          4.5,
          4.4,
          4.3,
          4.2,
          4.1,
          4,
          3.9,
          3.8,
          3.7,
          3.6,
          3.5,
          3.4,
          3.3,
          3.2,
          3.1,
          3,
          2.9,
          2.8,
          2.7,
          2.6,
          2.5,
          2.4,
          2.3,
          2.2,
          2.1,
          2,
          1.9,
          1.8,
          1.7,
          1.6,
          1.5,
          1.4,
          1.3,
          1.2,
          1.1,
          1,
          0.9,
          0.8,
          0.7,
          0.6,
          0.5,
          0.4,
          0.3,
          0.2,
          0.1
         ],
         "xaxis": "x",
         "y": [
          0.17888543819998318,
          0.18160265655575542,
          0.18438936793984712,
          0.1872480862624742,
          0.19018144357818265,
          0.19319219694363102,
          0.1962832357508267,
          0.19945758957426596,
          0.20271843657398123,
          0.20606911250043763,
          0.2095131203515697,
          0.21305414073706844,
          0.21669604301036188,
          0.2204428972346594,
          0.22429898705600562,
          0.2282688235636076,
          0.23235716022584124,
          0.23656900899942934,
          0.24090965771941214,
          0.24538468888886592,
          0.25000000000000006,
          0.25476182553246973,
          0.25967676079068386,
          0.26475178775980557,
          0.26999430318030376,
          0.27541214906363864,
          0.28101364589731687,
          0.2868076288165555,
          0.29280348705262776,
          0.2990112070052256,
          0.305441419328485,
          0.31210545046850174,
          0.31901537914508266,
          0.32618409833322576,
          0.3336253833716245,
          0.3413539669078333,
          0.34938562148434205,
          0.3577372506787373,
          0.36642698983681593,
          0.3754743175828644,
          0.3849001794597507,
          0.3947271252471741,
          0.4049794617342784,
          0.41568342298883687,
          0.4268673604765692,
          0.4385619557494744,
          0.45080045885198844,
          0.4636189561010953,
          0.47705667149695574,
          0.49115630673345057,
          0.5059644256269409,
          0.5215318897958693,
          0.5379143536399191,
          0.5551728281305891,
          0.573374324691989,
          0.5925925925925926,
          0.6129089658756747,
          0.6344133390423011,
          0.6572052946117659,
          0.6813954105069057,
          0.7071067811865477,
          0.7344767938865978,
          0.7636592106421175,
          0.7948266184797923,
          0.8281733249999219,
          0.8639187954496621,
          0.902311751585142,
          0.9436350838321491,
          0.9882117688026186,
          1.0364120372935466,
          1.088662107903635,
          1.1454548945343446,
          1.207363221040738,
          1.2750562456649934,
          1.3493200297031223,
          1.4310835055998659,
          1.5214515486254612,
          1.6217474925918502,
          1.733568344082895,
          1.8588572818067302,
          2.0000000000000004,
          2.1599544254424297,
          2.3424278964210217,
          2.5521230331606612,
          2.7950849718747377,
          3.079201435678005,
          3.4149388838125536,
          3.8164533719756446,
          4.303314829119352,
          4.9032717270053965,
          5.656854249492381,
          6.625386599999379,
          7.9056941504209455,
          9.658905768325905,
          12.17161238900369,
          16.000000000000004,
          22.360679774997887,
          34.42651863295481,
          63.24555320336757,
          178.88543819998318
         ],
         "yaxis": "y"
        },
        {
         "hovertemplate": "variable=token_B2<br>token_A=%{x}<br>value=%{y}<extra></extra>",
         "legendgroup": "token_B2",
         "line": {
          "color": "#EF553B",
          "dash": "solid"
         },
         "mode": "lines",
         "name": "token_B2",
         "orientation": "v",
         "showlegend": true,
         "type": "scatter",
         "x": [
          10,
          9.9,
          9.8,
          9.7,
          9.6,
          9.5,
          9.4,
          9.3,
          9.2,
          9.1,
          9,
          8.9,
          8.8,
          8.7,
          8.6,
          8.5,
          8.4,
          8.3,
          8.2,
          8.1,
          8,
          7.9,
          7.8,
          7.7,
          7.6,
          7.5,
          7.4,
          7.3,
          7.2,
          7.1,
          7,
          6.9,
          6.8,
          6.7,
          6.6,
          6.5,
          6.4,
          6.3,
          6.2,
          6.1,
          6,
          5.9,
          5.8,
          5.7,
          5.6,
          5.5,
          5.4,
          5.3,
          5.2,
          5.1,
          5,
          4.9,
          4.8,
          4.7,
          4.6,
          4.5,
          4.4,
          4.3,
          4.2,
          4.1,
          4,
          3.9,
          3.8,
          3.7,
          3.6,
          3.5,
          3.4,
          3.3,
          3.2,
          3.1,
          3,
          2.9,
          2.8,
          2.7,
          2.6,
          2.5,
          2.4,
          2.3,
          2.2,
          2.1,
          2,
          1.9,
          1.8,
          1.7,
          1.6,
          1.5,
          1.4,
          1.3,
          1.2,
          1.1,
          1,
          0.9,
          0.8,
          0.7,
          0.6,
          0.5,
          0.4,
          0.3,
          0.2,
          0.1
         ],
         "xaxis": "x",
         "y": [
          0.0031999999999999967,
          0.0033312651381926916,
          0.0034693305111486057,
          0.0036146232792741194,
          0.003767602237654321,
          0.003928760522095439,
          0.004098628578384527,
          0.004277777423524331,
          0.004466822231195571,
          0.004666426277661316,
          0.004877305288827921,
          0.005100232234293317,
          0.005336042620039612,
          0.005585640338070182,
          0.005850004138877926,
          0.006130194801307454,
          0.006427363084311577,
          0.006742758556502659,
          0.007077739412498081,
          0.007433783400134005,
          0.007812499999999997,
          0.008215644018814746,
          0.008645130781377174,
          0.00910305313272897,
          0.00959170049339707,
          0.01011358024691358,
          0.010671441781148998,
          0.011268303554434929,
          0.011907483615302538,
          0.012592634072496028,
          0.01332778009162849,
          0.014117364088716862,
          0.014966295901629525,
          0.01588000985156111,
          0.016864529762100507,
          0.017926543188263717,
          0.019073486328124983,
          0.02031364135288598,
          0.021656248206591927,
          0.023111633305625844,
          0.02469135802469134,
          0.026408390407779377,
          0.028277304211480305,
          0.030314510201353687,
          0.032538525614327345,
          0.03497028891469163,
          0.03763352846317838,
          0.04055519555778665,
          0.043765974580721935,
          0.0473008858125575,
          0.05119999999999999,
          0.055509288178377664,
          0.06028163580246916,
          0.06557805725415246,
          0.07146915569912916,
          0.07803688462124676,
          0.08537668192063382,
          0.09360006622204683,
          0.10283780934898523,
          0.11324383059996936,
          0.12499999999999997,
          0.1383220925020348,
          0.15346720789435317,
          0.170743068498384,
          0.19051973784484066,
          0.21324448146605582,
          0.23946073442607227,
          0.26983247619360806,
          0.3051757812499998,
          0.34649997130547094,
          0.3950617283950614,
          0.4524368673836845,
          0.520616409829238,
          0.6021364554108543,
          0.7002555932915513,
          0.8191999999999997,
          0.9645061728395057,
          1.1435064911860662,
          1.3660269107301397,
          1.6454049495837633,
          2.000000000000001,
          2.45547532630965,
          3.0483158055174493,
          3.8313717508171616,
          4.8828124999999964,
          6.320987654320987,
          8.329862557267806,
          11.204089492664819,
          15.432098765432094,
          21.85643057168224,
          32,
          48.77305288827922,
          78.12499999999999,
          133.27780091628486,
          246.91358024691363,
          512.0000000000002,
          1250,
          3950.6172839506203,
          20000.000000000007,
          320000
         ],
         "yaxis": "y"
        }
       ],
       "layout": {
        "height": 1000,
        "legend": {
         "title": {
          "text": "variable"
         },
         "tracegroupgap": 0
        },
        "margin": {
         "t": 60
        },
        "template": {
         "data": {
          "bar": [
           {
            "error_x": {
             "color": "#2a3f5f"
            },
            "error_y": {
             "color": "#2a3f5f"
            },
            "marker": {
             "line": {
              "color": "#E5ECF6",
              "width": 0.5
             }
            },
            "type": "bar"
           }
          ],
          "barpolar": [
           {
            "marker": {
             "line": {
              "color": "#E5ECF6",
              "width": 0.5
             }
            },
            "type": "barpolar"
           }
          ],
          "carpet": [
           {
            "aaxis": {
             "endlinecolor": "#2a3f5f",
             "gridcolor": "white",
             "linecolor": "white",
             "minorgridcolor": "white",
             "startlinecolor": "#2a3f5f"
            },
            "baxis": {
             "endlinecolor": "#2a3f5f",
             "gridcolor": "white",
             "linecolor": "white",
             "minorgridcolor": "white",
             "startlinecolor": "#2a3f5f"
            },
            "type": "carpet"
           }
          ],
          "choropleth": [
           {
            "colorbar": {
             "outlinewidth": 0,
             "ticks": ""
            },
            "type": "choropleth"
           }
          ],
          "contour": [
           {
            "colorbar": {
             "outlinewidth": 0,
             "ticks": ""
            },
            "colorscale": [
             [
              0,
              "#0d0887"
             ],
             [
              0.1111111111111111,
              "#46039f"
             ],
             [
              0.2222222222222222,
              "#7201a8"
             ],
             [
              0.3333333333333333,
              "#9c179e"
             ],
             [
              0.4444444444444444,
              "#bd3786"
             ],
             [
              0.5555555555555556,
              "#d8576b"
             ],
             [
              0.6666666666666666,
              "#ed7953"
             ],
             [
              0.7777777777777778,
              "#fb9f3a"
             ],
             [
              0.8888888888888888,
              "#fdca26"
             ],
             [
              1,
              "#f0f921"
             ]
            ],
            "type": "contour"
           }
          ],
          "contourcarpet": [
           {
            "colorbar": {
             "outlinewidth": 0,
             "ticks": ""
            },
            "type": "contourcarpet"
           }
          ],
          "heatmap": [
           {
            "colorbar": {
             "outlinewidth": 0,
             "ticks": ""
            },
            "colorscale": [
             [
              0,
              "#0d0887"
             ],
             [
              0.1111111111111111,
              "#46039f"
             ],
             [
              0.2222222222222222,
              "#7201a8"
             ],
             [
              0.3333333333333333,
              "#9c179e"
             ],
             [
              0.4444444444444444,
              "#bd3786"
             ],
             [
              0.5555555555555556,
              "#d8576b"
             ],
             [
              0.6666666666666666,
              "#ed7953"
             ],
             [
              0.7777777777777778,
              "#fb9f3a"
             ],
             [
              0.8888888888888888,
              "#fdca26"
             ],
             [
              1,
              "#f0f921"
             ]
            ],
            "type": "heatmap"
           }
          ],
          "heatmapgl": [
           {
            "colorbar": {
             "outlinewidth": 0,
             "ticks": ""
            },
            "colorscale": [
             [
              0,
              "#0d0887"
             ],
             [
              0.1111111111111111,
              "#46039f"
             ],
             [
              0.2222222222222222,
              "#7201a8"
             ],
             [
              0.3333333333333333,
              "#9c179e"
             ],
             [
              0.4444444444444444,
              "#bd3786"
             ],
             [
              0.5555555555555556,
              "#d8576b"
             ],
             [
              0.6666666666666666,
              "#ed7953"
             ],
             [
              0.7777777777777778,
              "#fb9f3a"
             ],
             [
              0.8888888888888888,
              "#fdca26"
             ],
             [
              1,
              "#f0f921"
             ]
            ],
            "type": "heatmapgl"
           }
          ],
          "histogram": [
           {
            "marker": {
             "colorbar": {
              "outlinewidth": 0,
              "ticks": ""
             }
            },
            "type": "histogram"
           }
          ],
          "histogram2d": [
           {
            "colorbar": {
             "outlinewidth": 0,
             "ticks": ""
            },
            "colorscale": [
             [
              0,
              "#0d0887"
             ],
             [
              0.1111111111111111,
              "#46039f"
             ],
             [
              0.2222222222222222,
              "#7201a8"
             ],
             [
              0.3333333333333333,
              "#9c179e"
             ],
             [
              0.4444444444444444,
              "#bd3786"
             ],
             [
              0.5555555555555556,
              "#d8576b"
             ],
             [
              0.6666666666666666,
              "#ed7953"
             ],
             [
              0.7777777777777778,
              "#fb9f3a"
             ],
             [
              0.8888888888888888,
              "#fdca26"
             ],
             [
              1,
              "#f0f921"
             ]
            ],
            "type": "histogram2d"
           }
          ],
          "histogram2dcontour": [
           {
            "colorbar": {
             "outlinewidth": 0,
             "ticks": ""
            },
            "colorscale": [
             [
              0,
              "#0d0887"
             ],
             [
              0.1111111111111111,
              "#46039f"
             ],
             [
              0.2222222222222222,
              "#7201a8"
             ],
             [
              0.3333333333333333,
              "#9c179e"
             ],
             [
              0.4444444444444444,
              "#bd3786"
             ],
             [
              0.5555555555555556,
              "#d8576b"
             ],
             [
              0.6666666666666666,
              "#ed7953"
             ],
             [
              0.7777777777777778,
              "#fb9f3a"
             ],
             [
              0.8888888888888888,
              "#fdca26"
             ],
             [
              1,
              "#f0f921"
             ]
            ],
            "type": "histogram2dcontour"
           }
          ],
          "mesh3d": [
           {
            "colorbar": {
             "outlinewidth": 0,
             "ticks": ""
            },
            "type": "mesh3d"
           }
          ],
          "parcoords": [
           {
            "line": {
             "colorbar": {
              "outlinewidth": 0,
              "ticks": ""
             }
            },
            "type": "parcoords"
           }
          ],
          "pie": [
           {
            "automargin": true,
            "type": "pie"
           }
          ],
          "scatter": [
           {
            "marker": {
             "colorbar": {
              "outlinewidth": 0,
              "ticks": ""
             }
            },
            "type": "scatter"
           }
          ],
          "scatter3d": [
           {
            "line": {
             "colorbar": {
              "outlinewidth": 0,
              "ticks": ""
             }
            },
            "marker": {
             "colorbar": {
              "outlinewidth": 0,
              "ticks": ""
             }
            },
            "type": "scatter3d"
           }
          ],
          "scattercarpet": [
           {
            "marker": {
             "colorbar": {
              "outlinewidth": 0,
              "ticks": ""
             }
            },
            "type": "scattercarpet"
           }
          ],
          "scattergeo": [
           {
            "marker": {
             "colorbar": {
              "outlinewidth": 0,
              "ticks": ""
             }
            },
            "type": "scattergeo"
           }
          ],
          "scattergl": [
           {
            "marker": {
             "colorbar": {
              "outlinewidth": 0,
              "ticks": ""
             }
            },
            "type": "scattergl"
           }
          ],
          "scattermapbox": [
           {
            "marker": {
             "colorbar": {
              "outlinewidth": 0,
              "ticks": ""
             }
            },
            "type": "scattermapbox"
           }
          ],
          "scatterpolar": [
           {
            "marker": {
             "colorbar": {
              "outlinewidth": 0,
              "ticks": ""
             }
            },
            "type": "scatterpolar"
           }
          ],
          "scatterpolargl": [
           {
            "marker": {
             "colorbar": {
              "outlinewidth": 0,
              "ticks": ""
             }
            },
            "type": "scatterpolargl"
           }
          ],
          "scatterternary": [
           {
            "marker": {
             "colorbar": {
              "outlinewidth": 0,
              "ticks": ""
             }
            },
            "type": "scatterternary"
           }
          ],
          "surface": [
           {
            "colorbar": {
             "outlinewidth": 0,
             "ticks": ""
            },
            "colorscale": [
             [
              0,
              "#0d0887"
             ],
             [
              0.1111111111111111,
              "#46039f"
             ],
             [
              0.2222222222222222,
              "#7201a8"
             ],
             [
              0.3333333333333333,
              "#9c179e"
             ],
             [
              0.4444444444444444,
              "#bd3786"
             ],
             [
              0.5555555555555556,
              "#d8576b"
             ],
             [
              0.6666666666666666,
              "#ed7953"
             ],
             [
              0.7777777777777778,
              "#fb9f3a"
             ],
             [
              0.8888888888888888,
              "#fdca26"
             ],
             [
              1,
              "#f0f921"
             ]
            ],
            "type": "surface"
           }
          ],
          "table": [
           {
            "cells": {
             "fill": {
              "color": "#EBF0F8"
             },
             "line": {
              "color": "white"
             }
            },
            "header": {
             "fill": {
              "color": "#C8D4E3"
             },
             "line": {
              "color": "white"
             }
            },
            "type": "table"
           }
          ]
         },
         "layout": {
          "annotationdefaults": {
           "arrowcolor": "#2a3f5f",
           "arrowhead": 0,
           "arrowwidth": 1
          },
          "coloraxis": {
           "colorbar": {
            "outlinewidth": 0,
            "ticks": ""
           }
          },
          "colorscale": {
           "diverging": [
            [
             0,
             "#8e0152"
            ],
            [
             0.1,
             "#c51b7d"
            ],
            [
             0.2,
             "#de77ae"
            ],
            [
             0.3,
             "#f1b6da"
            ],
            [
             0.4,
             "#fde0ef"
            ],
            [
             0.5,
             "#f7f7f7"
            ],
            [
             0.6,
             "#e6f5d0"
            ],
            [
             0.7,
             "#b8e186"
            ],
            [
             0.8,
             "#7fbc41"
            ],
            [
             0.9,
             "#4d9221"
            ],
            [
             1,
             "#276419"
            ]
           ],
           "sequential": [
            [
             0,
             "#0d0887"
            ],
            [
             0.1111111111111111,
             "#46039f"
            ],
            [
             0.2222222222222222,
             "#7201a8"
            ],
            [
             0.3333333333333333,
             "#9c179e"
            ],
            [
             0.4444444444444444,
             "#bd3786"
            ],
            [
             0.5555555555555556,
             "#d8576b"
            ],
            [
             0.6666666666666666,
             "#ed7953"
            ],
            [
             0.7777777777777778,
             "#fb9f3a"
            ],
            [
             0.8888888888888888,
             "#fdca26"
            ],
            [
             1,
             "#f0f921"
            ]
           ],
           "sequentialminus": [
            [
             0,
             "#0d0887"
            ],
            [
             0.1111111111111111,
             "#46039f"
            ],
            [
             0.2222222222222222,
             "#7201a8"
            ],
            [
             0.3333333333333333,
             "#9c179e"
            ],
            [
             0.4444444444444444,
             "#bd3786"
            ],
            [
             0.5555555555555556,
             "#d8576b"
            ],
            [
             0.6666666666666666,
             "#ed7953"
            ],
            [
             0.7777777777777778,
             "#fb9f3a"
            ],
            [
             0.8888888888888888,
             "#fdca26"
            ],
            [
             1,
             "#f0f921"
            ]
           ]
          },
          "colorway": [
           "#636efa",
           "#EF553B",
           "#00cc96",
           "#ab63fa",
           "#FFA15A",
           "#19d3f3",
           "#FF6692",
           "#B6E880",
           "#FF97FF",
           "#FECB52"
          ],
          "font": {
           "color": "#2a3f5f"
          },
          "geo": {
           "bgcolor": "white",
           "lakecolor": "white",
           "landcolor": "#E5ECF6",
           "showlakes": true,
           "showland": true,
           "subunitcolor": "white"
          },
          "hoverlabel": {
           "align": "left"
          },
          "hovermode": "closest",
          "mapbox": {
           "style": "light"
          },
          "paper_bgcolor": "white",
          "plot_bgcolor": "#E5ECF6",
          "polar": {
           "angularaxis": {
            "gridcolor": "white",
            "linecolor": "white",
            "ticks": ""
           },
           "bgcolor": "#E5ECF6",
           "radialaxis": {
            "gridcolor": "white",
            "linecolor": "white",
            "ticks": ""
           }
          },
          "scene": {
           "xaxis": {
            "backgroundcolor": "#E5ECF6",
            "gridcolor": "white",
            "gridwidth": 2,
            "linecolor": "white",
            "showbackground": true,
            "ticks": "",
            "zerolinecolor": "white"
           },
           "yaxis": {
            "backgroundcolor": "#E5ECF6",
            "gridcolor": "white",
            "gridwidth": 2,
            "linecolor": "white",
            "showbackground": true,
            "ticks": "",
            "zerolinecolor": "white"
           },
           "zaxis": {
            "backgroundcolor": "#E5ECF6",
            "gridcolor": "white",
            "gridwidth": 2,
            "linecolor": "white",
            "showbackground": true,
            "ticks": "",
            "zerolinecolor": "white"
           }
          },
          "shapedefaults": {
           "line": {
            "color": "#2a3f5f"
           }
          },
          "ternary": {
           "aaxis": {
            "gridcolor": "white",
            "linecolor": "white",
            "ticks": ""
           },
           "baxis": {
            "gridcolor": "white",
            "linecolor": "white",
            "ticks": ""
           },
           "bgcolor": "#E5ECF6",
           "caxis": {
            "gridcolor": "white",
            "linecolor": "white",
            "ticks": ""
           }
          },
          "title": {
           "x": 0.05
          },
          "xaxis": {
           "automargin": true,
           "gridcolor": "white",
           "linecolor": "white",
           "ticks": "",
           "title": {
            "standoff": 15
           },
           "zerolinecolor": "white",
           "zerolinewidth": 2
          },
          "yaxis": {
           "automargin": true,
           "gridcolor": "white",
           "linecolor": "white",
           "ticks": "",
           "title": {
            "standoff": 15
           },
           "zerolinecolor": "white",
           "zerolinewidth": 2
          }
         }
        },
        "title": {
         "text": "<b>AMM Curve</b>"
        },
        "width": 1000,
        "xaxis": {
         "anchor": "y",
         "domain": [
          0,
          1
         ],
         "range": [
          0,
          10
         ],
         "title": {
          "text": "token_A"
         }
        },
        "yaxis": {
         "anchor": "x",
         "domain": [
          0,
          1
         ],
         "range": [
          0,
          10
         ],
         "title": {
          "text": "value"
         }
        }
       }
      }
     },
     "metadata": {},
     "output_type": "display_data"
    }
   ],
   "source": [
    "#plot curves with all \n",
    "List = List[['token_A', 'token_B']]\n",
    "List2 = List2[['token_B2']]\n",
    "\n",
    "df = pd.concat([List, List2], axis=1, ignore_index=False)\n",
    "fig = px.line(df, x=\"token_A\", y=[\"token_B\", 'token_B2'])\n",
    "fig.update_xaxes(range=[0, 10])\n",
    "fig.update_yaxes(range=[0, 10])\n",
    "fig.update_layout(height=1000, width=1000, title_text='<b>AMM Curve</b>')\n",
    "\n",
    "fig.show()"
   ]
  },
  {
   "cell_type": "markdown",
   "metadata": {},
   "source": [
    "10. Create the invariant curves for Alice's pool and Bob's pool in Python using the graphing tool of your choice. Choose one point on Bob's curve and highlight it in Blue. Call this point **Z**. On your graph of Alice's curve, color in red **all of the points that represent arbitrage opportunities for Alice against Z**, i.e. color red all of the points on Alice's curve that represent where she could make a profit if she traded with Bob while he held the position represented by **Z**. (**Note**: This is the hardest one in terms of symbolic math, since it involves solving an inequality involving power functions.)"
   ]
  },
  {
   "cell_type": "markdown",
   "metadata": {},
   "source": [
    "# Challenge No. 2\n",
    "\n",
    "Alice wants to set up another pool.  \n",
    "\n",
    "She knows that the current price of 1 token C is 37 token D.  \n",
    "She owns 57000 token C, and 510000 token D. She plans to set a fee to 1%, and maximize her capital returns via this pool.  \n",
    "\n",
    "#### 1.\n",
    "What is the optimal set up for Alice’s new pool? Think about how you’d approach it and explain why.\n",
    "\n",
    "#### 2.\n",
    "Due to a huge price dump, the price of token C on external markets drops to 28 token D. Now, Arbitrage traders get to work. Image Alice wanted to re-balance the pool herself, how much token C would she need in order to re-balance the pool in one trade? Keep in mind swap fees and slippage!\n",
    "\n",
    "#### 3.\n",
    "Imagine Alice’s pool would be twice as big. How much liquidity would she need for the same price change?\n",
    "\n",
    "#### 4.\n",
    "Explore the general relation between the size of the pool (liquidity m in token C and n in token D) and price changes with a series of experiments.  \n",
    "\t• derive an expression  \n",
    "\t• plot a graph  "
   ]
  },
  {
   "cell_type": "markdown",
   "metadata": {},
   "source": [
    "#### SOLUTION 1.\n",
    "\n",
    "We understand that profit comes from trading and to be effective and maximize the return, the equilibrium of the pool should be around the trading price. In that sens, we need to calculate the weights of each token according to a Spot Price (SP) equal to the current price \n",
    "\n",
    "$$ SP = \\frac{\\frac{B_c}{W_c}}{\\frac{B_d}{W_d}} = \\frac{1}{37} $$\n",
    "\n",
    "with $$ W_c + W_d = 1 $$\n",
    "$$ W_d = 1 - W_c $$\n",
    "\n",
    "$$ SP = \\frac{B_c*W_d}{B_d*W_c} = \\frac{B_c}{B_d} * \\frac{W_d}{1-W_d} $$\n",
    "$$ SP * \\frac{B_d}{B_c} * (1-W_d) = W_d $$\n",
    "\n",
    "$$ SP * \\frac{B_d}{B_c} = x $$\n",
    "\n",
    "$$ x * (1-W_d) = x - x*W_d = W_d $$\n",
    "$$ x = W_d (1+x)$$\n",
    "$$ W_d = \\frac{x}{1+x} $$"
   ]
  },
  {
   "cell_type": "code",
   "execution_count": 154,
   "metadata": {},
   "outputs": [
    {
     "data": {
      "text/plain": [
       "0.19473081328751435"
      ]
     },
     "execution_count": 154,
     "metadata": {},
     "output_type": "execute_result"
    }
   ],
   "source": [
    "SP = 1/37\n",
    "Bc = 57000\n",
    "Bd = 510000\n",
    "\n",
    "x = SP*Bd/Bc\n",
    "\n",
    "Wd = x/(1+x)\n",
    "Wd"
   ]
  },
  {
   "cell_type": "code",
   "execution_count": 69,
   "metadata": {},
   "outputs": [
    {
     "data": {
      "text/plain": [
       "0.8052691867124857"
      ]
     },
     "execution_count": 69,
     "metadata": {},
     "output_type": "execute_result"
    }
   ],
   "source": [
    "Wc = 1-Wd\n",
    "Wc"
   ]
  },
  {
   "cell_type": "code",
   "execution_count": 70,
   "metadata": {},
   "outputs": [
    {
     "data": {
      "text/plain": [
       "0.027027027027027032"
      ]
     },
     "execution_count": 70,
     "metadata": {},
     "output_type": "execute_result"
    }
   ],
   "source": [
    "# Checking:\n",
    "\n",
    "SP_check = (Bc/Wc)/(Bd/Wd)\n",
    "SP_check"
   ]
  },
  {
   "cell_type": "code",
   "execution_count": 71,
   "metadata": {},
   "outputs": [
    {
     "data": {
      "text/plain": [
       "0.02702702702702703"
      ]
     },
     "execution_count": 71,
     "metadata": {},
     "output_type": "execute_result"
    }
   ],
   "source": [
    "# What should be the same as:\n",
    "1/37"
   ]
  },
  {
   "cell_type": "markdown",
   "metadata": {},
   "source": [
    "#### SOLUTION 2.\n",
    "\n",
    "Now the $ Price = 1/28 $ but the pool $ SP = 1/37$ so arbitrage is possible. To avoid it through one swap (including fees) we need to look for the trade that moves the price in the pool to $1/28$.\n",
    "\n",
    "As a simplification we are going to consider:\n",
    "\n",
    "$W_c = 0.805$\n",
    "\n",
    "$W_b = 0.195$\n",
    "\n"
   ]
  },
  {
   "cell_type": "code",
   "execution_count": 94,
   "metadata": {},
   "outputs": [
    {
     "data": {
      "text/html": [
       "<div>\n",
       "<style scoped>\n",
       "    .dataframe tbody tr th:only-of-type {\n",
       "        vertical-align: middle;\n",
       "    }\n",
       "\n",
       "    .dataframe tbody tr th {\n",
       "        vertical-align: top;\n",
       "    }\n",
       "\n",
       "    .dataframe thead th {\n",
       "        text-align: right;\n",
       "    }\n",
       "</style>\n",
       "<table border=\"1\" class=\"dataframe\">\n",
       "  <thead>\n",
       "    <tr style=\"text-align: right;\">\n",
       "      <th></th>\n",
       "      <th>token_C</th>\n",
       "      <th>invariant</th>\n",
       "      <th>token_D</th>\n",
       "      <th>Price_C</th>\n",
       "      <th>In-Given-Out</th>\n",
       "    </tr>\n",
       "  </thead>\n",
       "  <tbody>\n",
       "    <tr>\n",
       "      <th>0</th>\n",
       "      <td>60160</td>\n",
       "      <td>87388.733071</td>\n",
       "      <td>408163.402192</td>\n",
       "      <td>28.008349</td>\n",
       "      <td>28.009542</td>\n",
       "    </tr>\n",
       "    <tr>\n",
       "      <th>1</th>\n",
       "      <td>60161</td>\n",
       "      <td>87388.733071</td>\n",
       "      <td>408135.395038</td>\n",
       "      <td>28.005961</td>\n",
       "      <td>28.007155</td>\n",
       "    </tr>\n",
       "    <tr>\n",
       "      <th>2</th>\n",
       "      <td>60162</td>\n",
       "      <td>87388.733071</td>\n",
       "      <td>408107.390270</td>\n",
       "      <td>28.003574</td>\n",
       "      <td>28.004768</td>\n",
       "    </tr>\n",
       "    <tr>\n",
       "      <th>3</th>\n",
       "      <td>60163</td>\n",
       "      <td>87388.733071</td>\n",
       "      <td>408079.387889</td>\n",
       "      <td>28.001187</td>\n",
       "      <td>28.002381</td>\n",
       "    </tr>\n",
       "    <tr>\n",
       "      <th>4</th>\n",
       "      <td>60164</td>\n",
       "      <td>87388.733071</td>\n",
       "      <td>408051.387896</td>\n",
       "      <td>27.998800</td>\n",
       "      <td>27.999994</td>\n",
       "    </tr>\n",
       "    <tr>\n",
       "      <th>5</th>\n",
       "      <td>60165</td>\n",
       "      <td>87388.733071</td>\n",
       "      <td>408023.390288</td>\n",
       "      <td>27.996414</td>\n",
       "      <td>27.997607</td>\n",
       "    </tr>\n",
       "    <tr>\n",
       "      <th>6</th>\n",
       "      <td>60166</td>\n",
       "      <td>87388.733071</td>\n",
       "      <td>407995.395067</td>\n",
       "      <td>27.994028</td>\n",
       "      <td>27.995221</td>\n",
       "    </tr>\n",
       "    <tr>\n",
       "      <th>7</th>\n",
       "      <td>60167</td>\n",
       "      <td>87388.733071</td>\n",
       "      <td>407967.402233</td>\n",
       "      <td>27.991642</td>\n",
       "      <td>27.992835</td>\n",
       "    </tr>\n",
       "    <tr>\n",
       "      <th>8</th>\n",
       "      <td>60168</td>\n",
       "      <td>87388.733071</td>\n",
       "      <td>407939.411783</td>\n",
       "      <td>27.989256</td>\n",
       "      <td>27.990449</td>\n",
       "    </tr>\n",
       "    <tr>\n",
       "      <th>9</th>\n",
       "      <td>60169</td>\n",
       "      <td>87388.733071</td>\n",
       "      <td>407911.423720</td>\n",
       "      <td>27.986871</td>\n",
       "      <td>27.988064</td>\n",
       "    </tr>\n",
       "  </tbody>\n",
       "</table>\n",
       "</div>"
      ],
      "text/plain": [
       "   token_C     invariant        token_D    Price_C  In-Given-Out\n",
       "0    60160  87388.733071  408163.402192  28.008349     28.009542\n",
       "1    60161  87388.733071  408135.395038  28.005961     28.007155\n",
       "2    60162  87388.733071  408107.390270  28.003574     28.004768\n",
       "3    60163  87388.733071  408079.387889  28.001187     28.002381\n",
       "4    60164  87388.733071  408051.387896  27.998800     27.999994\n",
       "5    60165  87388.733071  408023.390288  27.996414     27.997607\n",
       "6    60166  87388.733071  407995.395067  27.994028     27.995221\n",
       "7    60167  87388.733071  407967.402233  27.991642     27.992835\n",
       "8    60168  87388.733071  407939.411783  27.989256     27.990449\n",
       "9    60169  87388.733071  407911.423720  27.986871     27.988064"
      ]
     },
     "execution_count": 94,
     "metadata": {},
     "output_type": "execute_result"
    }
   ],
   "source": [
    "# FIRST WITHOUT FEES !\n",
    "\n",
    "Bc = 57000 # initial balance\n",
    "Bd = 510000 # initial balance\n",
    "Wc = 0.805 #define weight\n",
    "Wd = 0.195 #define weight\n",
    "s_f = 0.01 #swap fee\n",
    "inv = (Bc**Wc)*(Bd**Wd) #calculate invariant\n",
    "a_vals = pd.Series(range(60160,60170,1))\n",
    "#create dataframe with based on a_vals\n",
    "List = pd.DataFrame(a_vals, columns=['token_C'])\n",
    "\n",
    "#create values for plot, add Y_balances according to current invariant\n",
    "List['invariant'] = inv #value required to calculate token B value\n",
    "List['token_D'] = (List.invariant/(List.token_C**Wc))**(1/Wd)# calculate corresponding token_B value according to invariant\n",
    "List['Price_C'] = 1/((List.token_C/Wc) / (List.token_D/Wd))\n",
    "\n",
    "# List['In-Given-Out'] = List.token_D * (( List.token_C / (List.token_C-1) )**(Wc/Wd) -1)\n",
    "List['Out-Given-Out'] = List.token_D * (( List.token_C / (List.token_C-1) )**(Wc/Wd) -1)\n",
    "\n",
    "List"
   ]
  },
  {
   "cell_type": "markdown",
   "metadata": {},
   "source": [
    "An approximation: Bc should be between 60100 and 60200 so the owner would need to bring ~3,1k token_C into the pool and would get 510k-408k = 102k token_B\n",
    "\n",
    "The exact calculation can be done with the In-Given-Price formula:\n",
    "\n",
    "$$ A_i = B_i ((\\frac{SP_{new}}{SP})^{(\\frac{w_0}{w_0+w_i})})-1)$$"
   ]
  },
  {
   "cell_type": "code",
   "execution_count": 90,
   "metadata": {},
   "outputs": [
    {
     "data": {
      "text/plain": [
       "3183.6295721159863"
      ]
     },
     "execution_count": 90,
     "metadata": {},
     "output_type": "execute_result"
    }
   ],
   "source": [
    "SP = 1/37\n",
    "SP_new = 1/28\n",
    "\n",
    "A = Bc * (((SP_new/SP)**(Wd/(Wd+Wc)))-1)\n",
    "A\n",
    "# Amount of token_C to bring to the pool (in exchange for token_B)"
   ]
  },
  {
   "cell_type": "markdown",
   "metadata": {},
   "source": [
    "#### SOLUTION 2. with fees\n",
    "\n",
    "In-Given-Out formula with fees:\n",
    "\n",
    "a) paying the fee in the token I am getting\n",
    "\n",
    "$$ A_i = B_i * ((\\frac{B_o}{B_o + A_o(1-fee)})^{\\frac{w_o}{w_i}}  -1) $$\n",
    "\n",
    "or b) if I pay the fee in the token I am giving\n",
    "\n",
    "$$ A_i*(1-fee) = B_i * ((\\frac{B_o}{B_o + A_o})^{\\frac{w_o}{w_i}}  -1) $$"
   ]
  },
  {
   "cell_type": "code",
   "execution_count": 141,
   "metadata": {},
   "outputs": [
    {
     "data": {
      "text/html": [
       "<div>\n",
       "<style scoped>\n",
       "    .dataframe tbody tr th:only-of-type {\n",
       "        vertical-align: middle;\n",
       "    }\n",
       "\n",
       "    .dataframe tbody tr th {\n",
       "        vertical-align: top;\n",
       "    }\n",
       "\n",
       "    .dataframe thead th {\n",
       "        text-align: right;\n",
       "    }\n",
       "</style>\n",
       "<table border=\"1\" class=\"dataframe\">\n",
       "  <thead>\n",
       "    <tr style=\"text-align: right;\">\n",
       "      <th></th>\n",
       "      <th>index</th>\n",
       "      <th>token_C</th>\n",
       "      <th>invariant</th>\n",
       "      <th>token_D</th>\n",
       "      <th>Price_C</th>\n",
       "      <th>New_Own</th>\n",
       "    </tr>\n",
       "  </thead>\n",
       "  <tbody>\n",
       "    <tr>\n",
       "      <th>0</th>\n",
       "      <td>0</td>\n",
       "      <td>57000</td>\n",
       "      <td>87388.733071</td>\n",
       "      <td>510000.000000</td>\n",
       "      <td>36.936572</td>\n",
       "      <td>-36.934911</td>\n",
       "    </tr>\n",
       "    <tr>\n",
       "      <th>1</th>\n",
       "      <td>1</td>\n",
       "      <td>57001</td>\n",
       "      <td>87388.733071</td>\n",
       "      <td>509963.065089</td>\n",
       "      <td>36.933249</td>\n",
       "      <td>-36.931588</td>\n",
       "    </tr>\n",
       "    <tr>\n",
       "      <th>2</th>\n",
       "      <td>2</td>\n",
       "      <td>57002</td>\n",
       "      <td>87388.733071</td>\n",
       "      <td>509926.133501</td>\n",
       "      <td>36.929927</td>\n",
       "      <td>-36.928266</td>\n",
       "    </tr>\n",
       "    <tr>\n",
       "      <th>3</th>\n",
       "      <td>3</td>\n",
       "      <td>57003</td>\n",
       "      <td>87388.733071</td>\n",
       "      <td>509889.205236</td>\n",
       "      <td>36.926604</td>\n",
       "      <td>-36.924943</td>\n",
       "    </tr>\n",
       "    <tr>\n",
       "      <th>4</th>\n",
       "      <td>4</td>\n",
       "      <td>57004</td>\n",
       "      <td>87388.733071</td>\n",
       "      <td>509852.280292</td>\n",
       "      <td>36.923283</td>\n",
       "      <td>-36.921622</td>\n",
       "    </tr>\n",
       "  </tbody>\n",
       "</table>\n",
       "</div>"
      ],
      "text/plain": [
       "   index  token_C     invariant        token_D    Price_C    New_Own\n",
       "0      0    57000  87388.733071  510000.000000  36.936572 -36.934911\n",
       "1      1    57001  87388.733071  509963.065089  36.933249 -36.931588\n",
       "2      2    57002  87388.733071  509926.133501  36.929927 -36.928266\n",
       "3      3    57003  87388.733071  509889.205236  36.926604 -36.924943\n",
       "4      4    57004  87388.733071  509852.280292  36.923283 -36.921622"
      ]
     },
     "execution_count": 141,
     "metadata": {},
     "output_type": "execute_result"
    }
   ],
   "source": [
    "# WITH FEES\n",
    "\n",
    "# First considerations: the amount of tokens to be paid should be higher as some of them goes directly to pay fees\n",
    "\n",
    "Bc = 57000 # initial balance\n",
    "Bd = 510000 # initial balance\n",
    "Wc = 0.805 #define weight\n",
    "Wd = 0.195 #define weight\n",
    "s_f = 0 #swap fee\n",
    "\n",
    "inv = (Bc**Wc)*(Bd**Wd) #calculate invariant\n",
    "\n",
    "a_vals = pd.Series(range(0,5,1))\n",
    "delta = 1-s_f\n",
    "\n",
    "#create dataframe with based on a_vals\n",
    "List = pd.DataFrame(a_vals, columns=['index'])\n",
    "List['token_C'] = Bc + List.index*(delta)\n",
    "\n",
    "#create values for plot, add Y_balances according to current invariant\n",
    "List['invariant'] = inv #value required to calculate token B value\n",
    "List['token_D'] = (List.invariant/(List.token_C**Wc))**(1/Wd)       # calculate corresponding token_B value according to invariant\n",
    "List['Price_C'] = 1/((List.token_C/Wc) / (List.token_D/Wd))\n",
    "\n",
    "# List['In-Given-Out'] = (List.token_C * (( List.token_D / (List.token_D-1) )**(Wd/Wc) -1)) # / (1-s_f)\n",
    "# List['Out-Given-In'] = (List.token_D * (( List.token_C / (List.token_C + 1) )**(Wc/Wd) -1))\n",
    "\n",
    "List['New_Own'] = List.token_D * (List.token_C/(List.token_C + delta))**(Wc/Wd) - List.token_D\n",
    "\n",
    "List"
   ]
  },
  {
   "cell_type": "code",
   "execution_count": 142,
   "metadata": {},
   "outputs": [
    {
     "data": {
      "text/plain": [
       "-36.93158792384202"
      ]
     },
     "execution_count": 142,
     "metadata": {},
     "output_type": "execute_result"
    }
   ],
   "source": [
    "List.token_D.iloc[2] - List.token_D.iloc[1]"
   ]
  },
  {
   "cell_type": "code",
   "execution_count": 137,
   "metadata": {},
   "outputs": [
    {
     "data": {
      "text/html": [
       "<div>\n",
       "<style scoped>\n",
       "    .dataframe tbody tr th:only-of-type {\n",
       "        vertical-align: middle;\n",
       "    }\n",
       "\n",
       "    .dataframe tbody tr th {\n",
       "        vertical-align: top;\n",
       "    }\n",
       "\n",
       "    .dataframe thead th {\n",
       "        text-align: right;\n",
       "    }\n",
       "</style>\n",
       "<table border=\"1\" class=\"dataframe\">\n",
       "  <thead>\n",
       "    <tr style=\"text-align: right;\">\n",
       "      <th></th>\n",
       "      <th>index</th>\n",
       "      <th>token_C</th>\n",
       "      <th>invariant</th>\n",
       "      <th>token_D</th>\n",
       "      <th>Price_C</th>\n",
       "      <th>New_Own</th>\n",
       "    </tr>\n",
       "  </thead>\n",
       "  <tbody>\n",
       "    <tr>\n",
       "      <th>0</th>\n",
       "      <td>0</td>\n",
       "      <td>57000.00</td>\n",
       "      <td>87388.733071</td>\n",
       "      <td>510000.000000</td>\n",
       "      <td>36.936572</td>\n",
       "      <td>-36.565578</td>\n",
       "    </tr>\n",
       "    <tr>\n",
       "      <th>1</th>\n",
       "      <td>1</td>\n",
       "      <td>57000.99</td>\n",
       "      <td>87388.733071</td>\n",
       "      <td>509963.434422</td>\n",
       "      <td>36.933282</td>\n",
       "      <td>-36.562321</td>\n",
       "    </tr>\n",
       "    <tr>\n",
       "      <th>2</th>\n",
       "      <td>2</td>\n",
       "      <td>57001.98</td>\n",
       "      <td>87388.733071</td>\n",
       "      <td>509926.872101</td>\n",
       "      <td>36.929993</td>\n",
       "      <td>-36.559065</td>\n",
       "    </tr>\n",
       "    <tr>\n",
       "      <th>3</th>\n",
       "      <td>3</td>\n",
       "      <td>57002.97</td>\n",
       "      <td>87388.733071</td>\n",
       "      <td>509890.313035</td>\n",
       "      <td>36.926704</td>\n",
       "      <td>-36.555809</td>\n",
       "    </tr>\n",
       "    <tr>\n",
       "      <th>4</th>\n",
       "      <td>4</td>\n",
       "      <td>57003.96</td>\n",
       "      <td>87388.733071</td>\n",
       "      <td>509853.757226</td>\n",
       "      <td>36.923415</td>\n",
       "      <td>-36.552554</td>\n",
       "    </tr>\n",
       "  </tbody>\n",
       "</table>\n",
       "</div>"
      ],
      "text/plain": [
       "   index   token_C     invariant        token_D    Price_C    New_Own\n",
       "0      0  57000.00  87388.733071  510000.000000  36.936572 -36.565578\n",
       "1      1  57000.99  87388.733071  509963.434422  36.933282 -36.562321\n",
       "2      2  57001.98  87388.733071  509926.872101  36.929993 -36.559065\n",
       "3      3  57002.97  87388.733071  509890.313035  36.926704 -36.555809\n",
       "4      4  57003.96  87388.733071  509853.757226  36.923415 -36.552554"
      ]
     },
     "execution_count": 137,
     "metadata": {},
     "output_type": "execute_result"
    }
   ],
   "source": [
    "a_vals = pd.Series(range(0,5,1))\n",
    "s_f = 0.01\n",
    "delta = 1-s_f\n",
    "\n",
    "#create dataframe with based on a_vals\n",
    "List2 = pd.DataFrame(a_vals, columns=['index'])\n",
    "List2['token_C'] = Bc + List2.index*(delta)\n",
    "\n",
    "#create values for plot, add Y_balances according to current invariant\n",
    "List2['invariant'] = inv #value required to calculate token B value\n",
    "List2['token_D'] = (List2.invariant/(List2.token_C**Wc))**(1/Wd)       # calculate corresponding token_B value according to invariant\n",
    "List2['Price_C'] = 1/((List2.token_C/Wc) / (List2.token_D/Wd))\n",
    "\n",
    "# List['In-Given-Out'] = (List.token_C * (( List.token_D / (List.token_D-1) )**(Wd/Wc) -1)) # / (1-s_f)\n",
    "# List['Out-Given-In'] = (List.token_D * (( List.token_C / (List.token_C + 1) )**(Wc/Wd) -1))\n",
    "\n",
    "List2['New_Own'] = List2.token_D * (List2.token_C/(List2.token_C +(delta)))**(Wc/Wd) - List2.token_D\n",
    "\n",
    "List2"
   ]
  },
  {
   "cell_type": "code",
   "execution_count": 143,
   "metadata": {},
   "outputs": [
    {
     "data": {
      "text/plain": [
       "-36.56232138548512"
      ]
     },
     "execution_count": 143,
     "metadata": {},
     "output_type": "execute_result"
    }
   ],
   "source": [
    "List2.token_D.iloc[2] - List2.token_D.iloc[1]"
   ]
  },
  {
   "cell_type": "code",
   "execution_count": 145,
   "metadata": {},
   "outputs": [
    {
     "data": {
      "text/plain": [
       "0.9999978273765967"
      ]
     },
     "execution_count": 145,
     "metadata": {},
     "output_type": "execute_result"
    }
   ],
   "source": [
    "1/(List2.token_D.iloc[3]/List.token_D.iloc[3])"
   ]
  },
  {
   "cell_type": "code",
   "execution_count": 97,
   "metadata": {},
   "outputs": [
    {
     "data": {
      "text/plain": [
       "3215.7874465818045"
      ]
     },
     "execution_count": 97,
     "metadata": {},
     "output_type": "execute_result"
    }
   ],
   "source": [
    "# Easy solution:\n",
    "\n",
    "# The effective tokens in the trade should be the same as before: 3183.6295721159863 but fees need to be paid\n",
    "# As the effective tokens going into the pool are X-fee = 3183.63 and fee = 1%, .99*X = 3183.63 -> \n",
    "# fee:\n",
    "s_f = 0.01 \n",
    "\n",
    "A_new = A / (1-s_f)\n",
    "A_new"
   ]
  },
  {
   "cell_type": "code",
   "execution_count": 150,
   "metadata": {},
   "outputs": [
    {
     "data": {
      "text/plain": [
       "32.15787446581817"
      ]
     },
     "execution_count": 150,
     "metadata": {},
     "output_type": "execute_result"
    }
   ],
   "source": [
    "# Paid fees:\n",
    "\n",
    "3215.7874465818045 - 3183.6295721159863"
   ]
  },
  {
   "cell_type": "markdown",
   "metadata": {},
   "source": [
    "#### SOLUTION 3."
   ]
  },
  {
   "cell_type": "code",
   "execution_count": 151,
   "metadata": {},
   "outputs": [
    {
     "data": {
      "text/plain": [
       "6367.259144231973"
      ]
     },
     "execution_count": 151,
     "metadata": {},
     "output_type": "execute_result"
    }
   ],
   "source": [
    "SP = 1/37\n",
    "SP_new = 1/28\n",
    "Bc = 2*Bc\n",
    "\n",
    "A = Bc * (((SP_new/SP)**(Wd/(Wd+Wc)))-1)\n",
    "A\n",
    "# Amount of token_C to bring to the pool (in exchange for token_B)"
   ]
  },
  {
   "cell_type": "code",
   "execution_count": 152,
   "metadata": {},
   "outputs": [
    {
     "data": {
      "text/plain": [
       "2.0"
      ]
     },
     "execution_count": 152,
     "metadata": {},
     "output_type": "execute_result"
    }
   ],
   "source": [
    "# Ratio\n",
    "6367.259144231973 / 3183.6295721159863"
   ]
  },
  {
   "cell_type": "code",
   "execution_count": null,
   "metadata": {},
   "outputs": [],
   "source": [
    "# Variables\n",
    "# Size: S\n",
    "# Change in price: delta\n",
    "# Number of tokens: T\n",
    "\n",
    "# T produces a delta in a pool with size S\n",
    "# n*t produces a delta in a pool with size n*S"
   ]
  },
  {
   "cell_type": "markdown",
   "metadata": {},
   "source": [
    "\n",
    "$$ A_i = B_i ((\\frac{SP_{new}}{SP})^{(\\frac{w_0}{w_0+w_i})})-1)$$\n",
    "\n",
    "\n",
    "$$ A_i = B_i*(cte)$$\n",
    "\n",
    "New pool with $n*B_i$\n",
    "\n",
    "$$ m*A_i = n*B_i*(cte)$$\n",
    "\n",
    "$$ \\frac{m*A_i}{A_i} = \\frac{n*B_i (cte)}{B_i*(cte)}$$\n",
    "\n",
    "$$ m = n $$\n",
    "\n",
    "If size is double: $B_i -> 2*B_i$ means that $A_i -> 2*A_i$\n",
    "\n",
    "So we need more tokens in the sam factor as times the new pool is bigger than the old one\n"
   ]
  },
  {
   "cell_type": "markdown",
   "metadata": {},
   "source": [
    "# Challenge No. 3\n",
    "\n",
    "Bob runs a 50-50 Token X-Token Y pool with a 5% swap fee. \n",
    "\n",
    "The following traders want to interact with this pool:\n",
    "- Carlos wants to increase the amount of Token X by 10% by trading X for Y\n",
    "- Diana wants to increase the amount of Token Y by 10% by trading Y for X\n",
    "- Ellen wants to increase the spot price X:Y by 10%\n",
    "- Fabricio wants to increase the spot price Y:X by 10%\n",
    "\n",
    "#### 1.\n",
    "For each action, specify the amount that the person will need to trade in to achieve the result. \n",
    "\n",
    "#### 2.\n",
    "These actions can not occur simultaneously and will be processed in some order. There are 24 different total orders -- choose a few different ones and simulate the effect on spot price and liquidity. Can you make a conclusion about how increasing liquidity or changing balances affects spot price? If not, try running additional simulations with varying numbers besides 10%.\n",
    "\n",
    "#### 3.\n",
    "Now add in two agents who want to increase the pool liquidity by making a deposit. With 6 actors, there are 720 different orderings of the actions. Analyze some. Which actions work \"together\" (reducing the amount needed of the second action to achieve a particular effect) and which work \"against each other\"? "
   ]
  },
  {
   "cell_type": "markdown",
   "metadata": {},
   "source": [
    "#### SOLUTION 1.\n"
   ]
  },
  {
   "cell_type": "code",
   "execution_count": 158,
   "metadata": {},
   "outputs": [
    {
     "data": {
      "text/html": [
       "<div>\n",
       "<style scoped>\n",
       "    .dataframe tbody tr th:only-of-type {\n",
       "        vertical-align: middle;\n",
       "    }\n",
       "\n",
       "    .dataframe tbody tr th {\n",
       "        vertical-align: top;\n",
       "    }\n",
       "\n",
       "    .dataframe thead th {\n",
       "        text-align: right;\n",
       "    }\n",
       "</style>\n",
       "<table border=\"1\" class=\"dataframe\">\n",
       "  <thead>\n",
       "    <tr style=\"text-align: right;\">\n",
       "      <th></th>\n",
       "      <th>token_C</th>\n",
       "      <th>invariant</th>\n",
       "      <th>token_D</th>\n",
       "    </tr>\n",
       "  </thead>\n",
       "  <tbody>\n",
       "    <tr>\n",
       "      <th>0</th>\n",
       "      <td>50000</td>\n",
       "      <td>50000.0</td>\n",
       "      <td>50000.000000</td>\n",
       "    </tr>\n",
       "    <tr>\n",
       "      <th>1</th>\n",
       "      <td>50001</td>\n",
       "      <td>50000.0</td>\n",
       "      <td>49999.000020</td>\n",
       "    </tr>\n",
       "    <tr>\n",
       "      <th>2</th>\n",
       "      <td>50002</td>\n",
       "      <td>50000.0</td>\n",
       "      <td>49998.000080</td>\n",
       "    </tr>\n",
       "    <tr>\n",
       "      <th>3</th>\n",
       "      <td>50003</td>\n",
       "      <td>50000.0</td>\n",
       "      <td>49997.000180</td>\n",
       "    </tr>\n",
       "    <tr>\n",
       "      <th>4</th>\n",
       "      <td>50004</td>\n",
       "      <td>50000.0</td>\n",
       "      <td>49996.000320</td>\n",
       "    </tr>\n",
       "    <tr>\n",
       "      <th>...</th>\n",
       "      <td>...</td>\n",
       "      <td>...</td>\n",
       "      <td>...</td>\n",
       "    </tr>\n",
       "    <tr>\n",
       "      <th>4995</th>\n",
       "      <td>54995</td>\n",
       "      <td>50000.0</td>\n",
       "      <td>45458.678062</td>\n",
       "    </tr>\n",
       "    <tr>\n",
       "      <th>4996</th>\n",
       "      <td>54996</td>\n",
       "      <td>50000.0</td>\n",
       "      <td>45457.851480</td>\n",
       "    </tr>\n",
       "    <tr>\n",
       "      <th>4997</th>\n",
       "      <td>54997</td>\n",
       "      <td>50000.0</td>\n",
       "      <td>45457.024929</td>\n",
       "    </tr>\n",
       "    <tr>\n",
       "      <th>4998</th>\n",
       "      <td>54998</td>\n",
       "      <td>50000.0</td>\n",
       "      <td>45456.198407</td>\n",
       "    </tr>\n",
       "    <tr>\n",
       "      <th>4999</th>\n",
       "      <td>54999</td>\n",
       "      <td>50000.0</td>\n",
       "      <td>45455.371916</td>\n",
       "    </tr>\n",
       "  </tbody>\n",
       "</table>\n",
       "<p>5000 rows × 3 columns</p>\n",
       "</div>"
      ],
      "text/plain": [
       "      token_C  invariant       token_D\n",
       "0       50000    50000.0  50000.000000\n",
       "1       50001    50000.0  49999.000020\n",
       "2       50002    50000.0  49998.000080\n",
       "3       50003    50000.0  49997.000180\n",
       "4       50004    50000.0  49996.000320\n",
       "...       ...        ...           ...\n",
       "4995    54995    50000.0  45458.678062\n",
       "4996    54996    50000.0  45457.851480\n",
       "4997    54997    50000.0  45457.024929\n",
       "4998    54998    50000.0  45456.198407\n",
       "4999    54999    50000.0  45455.371916\n",
       "\n",
       "[5000 rows x 3 columns]"
      ]
     },
     "execution_count": 158,
     "metadata": {},
     "output_type": "execute_result"
    }
   ],
   "source": [
    "# Pool definition\n",
    "Bc = 50000 # initial balance\n",
    "Bd = 50000 # initial balance\n",
    "Wc = 0.5 #define weight\n",
    "Wd = 0.5 #define weight\n",
    "s_f = 0.05 #swap fee\n",
    "\n",
    "inv = (Bc**Wc)*(Bd**Wd) #calculate invariant\n",
    "a_vals = pd.Series(range(50000,55000,1))\n",
    "#create dataframe with based on a_vals\n",
    "List = pd.DataFrame(a_vals, columns=['token_C'])\n",
    "\n",
    "#create values for plot, add Y_balances according to current invariant\n",
    "List['invariant'] = inv #value required to calculate token B value\n",
    "List['token_D'] = (List.invariant/((List.token_C)**Wc))**(1/Wd)# calculate corresponding token_B value according to invariant\n",
    "\n",
    "# List['In-Given-Out'] = List.token_D * (( List.token_C / (List.token_C-1) )**(Wc/Wd) -1)\n",
    "# List['Out-Given-Out'] = List.token_D * (( List.token_C / (List.token_C-(1-s_f)) )**(Wc/Wd) -1)\n",
    "List"
   ]
  },
  {
   "cell_type": "code",
   "execution_count": null,
   "metadata": {},
   "outputs": [],
   "source": [
    "# Carlos wants to increase the amount of Token X by 10% by trading X for Y\n",
    "# He needs to bring into the pool x*(1-s_f) = 0.1*B_x\n",
    "# x = (0.1*B_x) / (1-s_f)\n",
    "\n",
    "# Diana: same result changing X for Y\n",
    "\n",
    "# Ellen & Fabricio:\n"
   ]
  },
  {
   "cell_type": "markdown",
   "metadata": {},
   "source": [
    "$$ A_i = B_i ((\\frac{SP_{new}}{SP})^{(\\frac{w_0}{w_0+w_i})})-1)$$\n",
    "\n",
    "$$ A_i = B_i ((1.1*SP)^{(\\frac{w_0}{w_0+w_i})})-1)$$"
   ]
  },
  {
   "cell_type": "code",
   "execution_count": 161,
   "metadata": {},
   "outputs": [
    {
     "data": {
      "text/plain": [
       "2440.4424085075816"
      ]
     },
     "execution_count": 161,
     "metadata": {},
     "output_type": "execute_result"
    }
   ],
   "source": [
    "A_i = Bc*((1.1)**(0.5)-1)\n",
    "A_i"
   ]
  },
  {
   "cell_type": "code",
   "execution_count": 160,
   "metadata": {},
   "outputs": [
    {
     "data": {
      "text/plain": [
       "0.04880884817015163"
      ]
     },
     "execution_count": 160,
     "metadata": {},
     "output_type": "execute_result"
    }
   ],
   "source": [
    "2440.4424085075816/Bc"
   ]
  },
  {
   "cell_type": "markdown",
   "metadata": {},
   "source": [
    "#### BE CAREFUL: WEIGHTS HAVE CHANGED NOW\n",
    "\n",
    "#### SOLUTION 2. \n",
    "\n",
    "acting in the same direction:\n",
    "\n",
    "- trading X for Y and increasing SP bringing X to the pool\n",
    "- trading Y for X and increasing SP bringing Y to the pool"
   ]
  },
  {
   "cell_type": "markdown",
   "metadata": {},
   "source": [
    "# Challenge No. 4\n",
    "\n",
    "A user has $a$ **TKNA** and $b$ **TKNB**: \n",
    "The TKNA-TKNB pool has 50:50 weights, and reserves of TKNA and TKNB of m and n, respectively.  \n",
    "The user wishes to perform a swap such that the ratio of TKNA:TKNB in their wallet is p:q \n",
    "\n",
    "$$\\frac{a + x}{b + y} = \\frac{p}{q}$$"
   ]
  },
  {
   "cell_type": "markdown",
   "metadata": {},
   "source": [
    "#### 1. \n",
    "Assuming the user performs a swap between TKNA and TKNB on the TKNA-TKNB pool, derive an expression for x and y."
   ]
  },
  {
   "cell_type": "markdown",
   "metadata": {},
   "source": [
    "#### 2.\n",
    "Using data or algebra, which is the best option to reduce slippage when trading X for Y:  \n",
    "    a) finding a pool with the same invariant but a different X balance value,  \n",
    "    b) finding a pool with a different weight on X,  \n",
    "    c) or finding a pool with a different invariant value?  \n",
    "    Justify your answer in any way you like,  \n",
    "    and explain whether \"different\" should be \"smaller\" or \"larger\" here."
   ]
  },
  {
   "cell_type": "markdown",
   "metadata": {},
   "source": [
    "#### SOLUTION 1.\n",
    "\n",
    "$$ x = \\frac{p}{q} * (b+y) - a $$\n",
    "\n",
    "Out-Given-In\n",
    "\n",
    "$$ A_o = B_o * (1-(\\frac{B_i}{B_i + A_i})^{(\\frac{w_i}{w_o}})) = B_o * (1- \\frac{B_i}{B_i + A_i}) = n * (1- \\frac{m}{m + \\frac{p}{q} * (b+y) - a}) = b$$\n",
    "\n",
    "where $A_i = x$ and $A_o = y$"
   ]
  },
  {
   "cell_type": "markdown",
   "metadata": {},
   "source": [
    "#### SOLUTION 2.\n",
    "\n",
    "a) if the pools have he same invariant, the depth (and resistance to slippage is the same). The exact value of slippage can be calculated according to the balance point and here we can add that, if the number of tokens X is bigger in the second pool, the slippage would be smaller and if the number of tokens X is smaller, the slippage would be bigger\n",
    "b) if the weight of X is bigger, the pool is more resistant to slippage, however, if the weight is smaller, the impact of a swap is bigger\n",
    "c) a bigger invariatn value (comming from a bigger depth of the pool, a bigger amount of tokens X and tokens Y) makes the pool more resitant to slippage\n"
   ]
  },
  {
   "cell_type": "markdown",
   "metadata": {},
   "source": []
  }
 ],
 "metadata": {
  "interpreter": {
   "hash": "31f2aee4e71d21fbe5cf8b01ff0e069b9275f58929596ceb00d14d90e3e16cd6"
  },
  "kernelspec": {
   "display_name": "Python 3.8.10 64-bit",
   "name": "python3"
  },
  "language_info": {
   "name": "python",
   "version": ""
  }
 },
 "nbformat": 4,
 "nbformat_minor": 4
}