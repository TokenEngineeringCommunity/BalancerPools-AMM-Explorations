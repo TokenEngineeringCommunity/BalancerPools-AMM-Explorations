{
 "cells": [
  {
   "cell_type": "code",
   "execution_count": 1,
   "id": "71f34484",
   "metadata": {},
   "outputs": [],
   "source": [
    "from sympy import *"
   ]
  },
  {
   "cell_type": "code",
   "execution_count": 2,
   "id": "58c8b9ef",
   "metadata": {},
   "outputs": [],
   "source": [
    "a, b, m, n, p, q, x, y = symbols('a b m n p q x y')"
   ]
  },
  {
   "cell_type": "code",
   "execution_count": 3,
   "id": "ccae53f5",
   "metadata": {},
   "outputs": [
    {
     "data": {
      "text/latex": [
       "$\\displaystyle \\frac{a + x}{b + y} = \\frac{p}{q}$"
      ],
      "text/plain": [
       "Eq((a + x)/(b + y), p/q)"
      ]
     },
     "execution_count": 3,
     "metadata": {},
     "output_type": "execute_result"
    }
   ],
   "source": [
    "eqn1 = Eq(\n",
    "    (a + x) / (b + y),\n",
    "    (p / q)\n",
    ")\n",
    "eqn1"
   ]
  },
  {
   "cell_type": "code",
   "execution_count": 4,
   "id": "44770c48",
   "metadata": {},
   "outputs": [
    {
     "data": {
      "text/latex": [
       "$\\displaystyle \\left(m - x\\right) \\left(n - y\\right) = m n$"
      ],
      "text/plain": [
       "Eq((m - x)*(n - y), m*n)"
      ]
     },
     "execution_count": 4,
     "metadata": {},
     "output_type": "execute_result"
    }
   ],
   "source": [
    "eqn2 = Eq(\n",
    "    (m - x) * (n - y),\n",
    "    (m * n)\n",
    ")\n",
    "eqn2"
   ]
  },
  {
   "cell_type": "code",
   "execution_count": 5,
   "id": "c4595cd8",
   "metadata": {},
   "outputs": [
    {
     "data": {
      "text/latex": [
       "$\\displaystyle \\frac{- a q + b p + p y}{q}$"
      ],
      "text/plain": [
       "(-a*q + b*p + p*y)/q"
      ]
     },
     "execution_count": 5,
     "metadata": {},
     "output_type": "execute_result"
    }
   ],
   "source": [
    "eqn3 = solve(eqn1, x)\n",
    "eqn3[0]"
   ]
  },
  {
   "cell_type": "code",
   "execution_count": 6,
   "id": "445880c4",
   "metadata": {},
   "outputs": [
    {
     "data": {
      "text/latex": [
       "$\\displaystyle \\frac{m y}{- n + y}$"
      ],
      "text/plain": [
       "m*y/(-n + y)"
      ]
     },
     "execution_count": 6,
     "metadata": {},
     "output_type": "execute_result"
    }
   ],
   "source": [
    "eqn4 = solve(eqn2, x)\n",
    "eqn4[0]"
   ]
  },
  {
   "cell_type": "code",
   "execution_count": 7,
   "id": "ea9e7f4c",
   "metadata": {},
   "outputs": [
    {
     "data": {
      "text/latex": [
       "$\\displaystyle \\frac{- a q + b p + p y}{q} = \\frac{m y}{- n + y}$"
      ],
      "text/plain": [
       "Eq((-a*q + b*p + p*y)/q, m*y/(-n + y))"
      ]
     },
     "execution_count": 7,
     "metadata": {},
     "output_type": "execute_result"
    }
   ],
   "source": [
    "eqn5 = Eq(\n",
    "    eqn3[0],\n",
    "    eqn4[0]\n",
    ")\n",
    "eqn5"
   ]
  },
  {
   "cell_type": "code",
   "execution_count": 8,
   "id": "dcd25091",
   "metadata": {},
   "outputs": [
    {
     "data": {
      "text/plain": [
       "[(a*q - b*p + m*q + n*p - sqrt(a**2*q**2 - 2*a*b*p*q + 2*a*m*q**2 - 2*a*n*p*q + b**2*p**2 - 2*b*m*p*q + 2*b*n*p**2 + m**2*q**2 + 2*m*n*p*q + n**2*p**2))/(2*p),\n",
       " (a*q - b*p + m*q + n*p + sqrt(a**2*q**2 - 2*a*b*p*q + 2*a*m*q**2 - 2*a*n*p*q + b**2*p**2 - 2*b*m*p*q + 2*b*n*p**2 + m**2*q**2 + 2*m*n*p*q + n**2*p**2))/(2*p)]"
      ]
     },
     "execution_count": 8,
     "metadata": {},
     "output_type": "execute_result"
    }
   ],
   "source": [
    "eqn6 = solve(eqn5, y)\n",
    "eqn6"
   ]
  },
  {
   "cell_type": "code",
   "execution_count": 9,
   "id": "c2826b06",
   "metadata": {},
   "outputs": [
    {
     "data": {
      "text/latex": [
       "$\\displaystyle \\frac{a q - b p + m q + n p - \\sqrt{a^{2} q^{2} - 2 a b p q + 2 a m q^{2} - 2 a n p q + b^{2} p^{2} - 2 b m p q + 2 b n p^{2} + m^{2} q^{2} + 2 m n p q + n^{2} p^{2}}}{2 p}$"
      ],
      "text/plain": [
       "(a*q - b*p + m*q + n*p - sqrt(a**2*q**2 - 2*a*b*p*q + 2*a*m*q**2 - 2*a*n*p*q + b**2*p**2 - 2*b*m*p*q + 2*b*n*p**2 + m**2*q**2 + 2*m*n*p*q + n**2*p**2))/(2*p)"
      ]
     },
     "execution_count": 9,
     "metadata": {},
     "output_type": "execute_result"
    }
   ],
   "source": [
    "eqn6[0]"
   ]
  },
  {
   "cell_type": "code",
   "execution_count": 10,
   "id": "f7c45e74",
   "metadata": {},
   "outputs": [
    {
     "data": {
      "text/latex": [
       "$\\displaystyle \\frac{a q - b p + m q + n p + \\sqrt{a^{2} q^{2} - 2 a b p q + 2 a m q^{2} - 2 a n p q + b^{2} p^{2} - 2 b m p q + 2 b n p^{2} + m^{2} q^{2} + 2 m n p q + n^{2} p^{2}}}{2 p}$"
      ],
      "text/plain": [
       "(a*q - b*p + m*q + n*p + sqrt(a**2*q**2 - 2*a*b*p*q + 2*a*m*q**2 - 2*a*n*p*q + b**2*p**2 - 2*b*m*p*q + 2*b*n*p**2 + m**2*q**2 + 2*m*n*p*q + n**2*p**2))/(2*p)"
      ]
     },
     "execution_count": 10,
     "metadata": {},
     "output_type": "execute_result"
    }
   ],
   "source": [
    "eqn6[1]"
   ]
  },
  {
   "cell_type": "code",
   "execution_count": null,
   "id": "ebe3702e",
   "metadata": {},
   "outputs": [],
   "source": []
  },
  {
   "cell_type": "code",
   "execution_count": 11,
   "id": "b5b1000c",
   "metadata": {},
   "outputs": [
    {
     "name": "stdout",
     "output_type": "stream",
     "text": [
      "(a2*q2 - b2*p2 + m2*q2 + n2*p2 - s2q2r2t2(a2^2*q2^2 - 2*a2*b2*p2*q2 + 2*a2*m2*q2^2 - 2*a2*n2*p2*q2 + b2^2*p2^2 - 2*b2*m2*p2*q2 + 2*b2*n2*p2^2 + m2^2*q2^2 + 2*m2*n2*p2*q2 + n2^2*p2^2))/(2*p2)\n"
     ]
    }
   ],
   "source": [
    "solution = list(str(eqn6[0]))\n",
    "for i in range(len(solution)):\n",
    "    if solution[i].isalpha():\n",
    "        solution[i] = f'{solution[i]}2'\n",
    "print((''.join(solution)).replace('**', '^'))"
   ]
  },
  {
   "cell_type": "code",
   "execution_count": null,
   "id": "4ecd78b0",
   "metadata": {},
   "outputs": [],
   "source": [
    "# x = (-B +/- sqrt(B^2 - 4AC))/2A\n",
    "# B = -(a*q - b*p + m*q + n*p)\n",
    "# A = p\n",
    "# 4AC = 4*n*p*(a*q - b*p)"
   ]
  },
  {
   "cell_type": "code",
   "execution_count": 13,
   "id": "05134723",
   "metadata": {},
   "outputs": [
    {
     "data": {
      "text/latex": [
       "$\\displaystyle x = - a^{2} q^{2} + 2 a b p q - 2 a m q^{2} + 2 a n p q - b^{2} p^{2} + 2 b m p q - 2 b n p^{2} - m^{2} q^{2} - 2 m n p q - n^{2} p^{2} + \\left(- a q + b p - m q - n p\\right)^{2}$"
      ],
      "text/plain": [
       "Eq(x, -a**2*q**2 + 2*a*b*p*q - 2*a*m*q**2 + 2*a*n*p*q - b**2*p**2 + 2*b*m*p*q - 2*b*n*p**2 - m**2*q**2 - 2*m*n*p*q - n**2*p**2 + (-a*q + b*p - m*q - n*p)**2)"
      ]
     },
     "execution_count": 13,
     "metadata": {},
     "output_type": "execute_result"
    }
   ],
   "source": [
    "fourAC = Eq(\n",
    "    x,\n",
    "    (-(a*q - b*p + m*q + n*p))**2 - (a**2*q**2 - 2*a*b*p*q + 2*a*m*q**2 - 2*a*n*p*q + b**2*p**2 - 2*b*m*p*q + 2*b*n*p**2 + m**2*q**2 + 2*m*n*p*q + n**2*p**2) \n",
    ")\n",
    "fourAC"
   ]
  },
  {
   "cell_type": "code",
   "execution_count": 15,
   "id": "7914e5d0",
   "metadata": {},
   "outputs": [
    {
     "name": "stdout",
     "output_type": "stream",
     "text": [
      "Eq(x, 4*n*p*(a*q - b*p))\n"
     ]
    }
   ],
   "source": [
    "print(simplify(fourAC))"
   ]
  },
  {
   "cell_type": "code",
   "execution_count": 17,
   "id": "b132e1ee",
   "metadata": {},
   "outputs": [
    {
     "data": {
      "text/latex": [
       "$\\displaystyle y = \\frac{a q - b p + m q + n p - \\sqrt{- 4 n p \\left(a q - b p\\right) + \\left(- a q + b p - m q - n p\\right)^{2}}}{2 p}$"
      ],
      "text/plain": [
       "Eq(y, (a*q - b*p + m*q + n*p - sqrt(-4*n*p*(a*q - b*p) + (-a*q + b*p - m*q - n*p)**2))/(2*p))"
      ]
     },
     "execution_count": 17,
     "metadata": {},
     "output_type": "execute_result"
    }
   ],
   "source": [
    "eqn10 = Eq(\n",
    "    y,\n",
    "    (a*q - b*p + m*q + n*p - sqrt((-a*q + b*p - m*q - n*p)**2 - 4*n*p*(a*q - b*p)))/(2*p)\n",
    ")\n",
    "eqn10"
   ]
  }
 ],
 "metadata": {
  "kernelspec": {
   "display_name": "Python 3",
   "language": "python",
   "name": "python3"
  },
  "language_info": {
   "codemirror_mode": {
    "name": "ipython",
    "version": 3
   },
   "file_extension": ".py",
   "mimetype": "text/x-python",
   "name": "python",
   "nbconvert_exporter": "python",
   "pygments_lexer": "ipython3",
   "version": "3.8.8"
  }
 },
 "nbformat": 4,
 "nbformat_minor": 5
}
