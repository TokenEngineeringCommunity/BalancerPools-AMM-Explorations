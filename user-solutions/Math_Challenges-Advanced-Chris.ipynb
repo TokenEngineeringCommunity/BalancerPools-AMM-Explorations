{
 "cells": [
  {
   "cell_type": "markdown",
   "metadata": {},
   "source": [
    "# Balancer Simulations Math Challenge - Advanced\n",
    "\n",
    "This notebook provides a collection of challenges for an advanced understanding of Balancer Math."
   ]
  },
  {
   "cell_type": "markdown",
   "metadata": {},
   "source": [
    "# Challenge No. 1\n",
    "\n",
    "For the following questions, there are two tokens $X$ and $Y$, with $x$ representing the number of Token $X$ in the pool, and $y$ representing the number of Token $Y$ in the pool. \n",
    "\n",
    "The plots below represent the invariant curves for two Balancer Pools. Both curves are of the form $2 = x^ay^{1-a}$ for some value of $a$. Try as many of the exercises below as you want -- discuss them with others and have fun!"
   ]
  },
  {
   "cell_type": "markdown",
   "metadata": {},
   "source": [
    "1. Explain how the equation $V = B_1^{W_1}B_2^{W_2}$ becomes $2 = x^ay^{1-a}$ in this context. "
   ]
  },
  {
   "cell_type": "markdown",
   "metadata": {},
   "source": [
    "2. Give one possible value of $a$ and a pair of possible legal values for $x$ and $y$ in this context. "
   ]
  },
  {
   "cell_type": "markdown",
   "metadata": {},
   "source": [
    "3. Rewrite the curve $2 = x^ay^{1-a}$ in the form \"$y =$ (some expression involving x)\" and plot it using the Python tool of your choice. "
   ]
  },
  {
   "cell_type": "markdown",
   "metadata": {},
   "source": [
    "4. Generate 100 $(x,y)$ points on the curve $2 = x^{0.6}y^{0.4}$. Now take the **logarithm** of both $x$ and $y$ in your 100 points. Plot $\\log(x)$ against $\\log(y)$. What do you notice? "
   ]
  },
  {
   "cell_type": "markdown",
   "metadata": {},
   "source": [
    "5. Both pictures above represent AMM curves of the form $2 = x^{a}y^{1-a}$. One of the curves has $a =0.6$ and the other has $a = 0.8$. Which is which? How can you tell? "
   ]
  },
  {
   "cell_type": "markdown",
   "metadata": {},
   "source": [
    "6. Both of the curves pictured above contain the point $(2,2)$. Explain why any curve of the form $2= x^{a}y^{1-a}$ will pass through $(2,2)$. Is this a special property of the number 2, or will any curve of the form $k = x^{a}y^{1-a}$ pass through $(k,k)$? (You can determine this with an algebraic proof, or by playing with Python graphs.)"
   ]
  },
  {
   "cell_type": "markdown",
   "metadata": {},
   "source": [
    "7. Suppose a curve $2 = x^ay^{1-a}$ passes through the point $(2,2)$ and $(p,q)$. Explain how you can use the values of $p$ and $q$ to determine the weights of Token $X$ and Token $Y$. "
   ]
  },
  {
   "cell_type": "markdown",
   "metadata": {},
   "source": [
    "8. In **Alice's Pool**, which point has the highest spot price $SP_X^{Y}$: **A**, **B** or **C**? (You may be able to answer this without calculation.)"
   ]
  },
  {
   "cell_type": "markdown",
   "metadata": {},
   "source": [
    "9. Suppose Alice is actively managing her pool against Bob's pool and wishes to trade it against Bob's pool. Identify a pair of points -- one in her pool and one in Bob's pool -- that would represent an arbitrage opportunity for Alice. "
   ]
  },
  {
   "cell_type": "markdown",
   "metadata": {},
   "source": [
    "10. Create the invariant curves for Alice's pool and Bob's pool in Python using the graphing tool of your choice. Choose one point on Bob's curve and highlight it in Blue. Call this point **Z**. On your graph of Alice's curve, color in red **all of the points that represent arbitrage opportunities for Alice against Z**, i.e. color red all of the points on Alice's curve that represent where she could make a profit if she traded with Bob while he held the position represented by **Z**. (**Note**: This is the hardest one in terms of symbolic math, since it involves solving an inequality involving power functions.)"
   ]
  },
  {
   "cell_type": "markdown",
   "metadata": {},
   "source": [
    "# Challenge No. 2\n",
    "\n",
    "Alice wants to set up another pool.  \n",
    "\n",
    "She knows that the current price of 1 token C is 37 token D.  \n",
    "She owns 57000 token C, and 510000 token D. She plans to set a fee to 1%, and maximize her capital returns via this pool.  \n",
    "\n",
    "#### 1.\n",
    "What is the optimal set up for Alice’s new pool? Think about how you’d approach it and explain why.\n",
    "\n",
    "#### 2.\n",
    "Due to a huge price dump, the price of token C on external markets drops to 28 token D. Now, Arbitrage traders get to work. Image Alice wanted to re-balance the pool herself, how much token C would she need in order to re-balance the pool in one trade? Keep in mind swap fees and slippage!\n",
    "\n",
    "#### 3.\n",
    "Imagine Alice’s pool would be twice as big. How much liquidity would she need for the same price change?\n",
    "\n",
    "#### 4.\n",
    "Explore the general relation between the size of the pool (liquidity m in token C and n in token D) and price changes with a series of experiments.  \n",
    "\t• derive an expression  \n",
    "\t• plot a graph  "
   ]
  },
  {
   "cell_type": "markdown",
   "metadata": {},
   "source": [
    "# Challenge No. 3\n",
    "\n",
    "Bob runs a 50-50 Token X-Token Y pool with a 5% swap fee. \n",
    "\n",
    "The following traders want to interact with this pool:\n",
    "- Carlos wants to increase the amount of Token X by 10% by trading X for Y\n",
    "- Diana wants to increase the amount of Token Y by 10% by trading Y for X\n",
    "- Ellen wants to increase the spot price X:Y by 10%\n",
    "- Fabricio wants to increase the spot price Y:X by 10%\n",
    "\n",
    "#### 1.\n",
    "For each action, specify the amount that the person will need to trade in to achieve the result. \n",
    "\n",
    "#### 2.\n",
    "These actions can not occur simultaneously and will be processed in some order. There are 24 different total orders -- choose a few different ones and simulate the effect on spot price and liquidity. Can you make a conclusion about how increasing liquidity or changing balances affects spot price? If not, try running additional simulations with varying numbers besides 10%.\n",
    "\n",
    "#### 3.\n",
    "Now add in two agents who want to increase the pool liquidity by making a deposit. With 6 actors, there are 720 different orderings of the actions. Analyze some. Which actions work \"together\" (reducing the amount needed of the second action to achieve a particular effect) and which work \"against each other\"? "
   ]
  },
  {
   "cell_type": "code",
   "execution_count": 1,
   "metadata": {},
   "outputs": [],
   "source": [
    "## NOTES:\n",
    "\n",
    "### OK--> Create and initialise the pool (x,y,100,100,0.5,0.5), \n",
    "### OK--> Initialise balances for actors\n",
    "### 1. Amount of Tokens X, Y to achieve the result\n",
    "\n",
    "    # Carlos increase X 10% by trading X for Y --> calc_out_given_in\n",
    "    # Diana increase Y 10% by trading Y for X --> calc_out_given_in\n",
    "    # Elen increase spot-price X/Y 10% --> Use formula from whitepapper\n",
    "    # Fabrizio increase spot-price Y/X 10% --> Use formula from whitepapper\n",
    "    \n",
    "### 2. Relation of liquidity and balances on spot-price\n",
    "### 3. 2 Agents x 6 actors\n"
   ]
  },
  {
   "cell_type": "markdown",
   "metadata": {},
   "source": [
    "### **\"If weights are held constant, the spot prices offered by Balancer Pools only change with changing token balances. If the pool owner does not add or remove tokens to/from the pool, token balances can only change through trades.\"**\n",
    "\n",
    "Source: Balancer Whitepaper(2019), page 4. https://balancer.fi/whitepaper.pdf\n",
    "<br></br>"
   ]
  },
  {
   "cell_type": "code",
   "execution_count": 2,
   "metadata": {},
   "outputs": [
    {
     "name": "stdout",
     "output_type": "stream",
     "text": [
      "Requirement already satisfied: balancerv2cad==0.1.91 in c:\\users\\vp\\.conda\\envs\\balancer-sim\\lib\\site-packages (0.1.91)\n",
      "Note: you may need to restart the kernel to use updated packages.\n"
     ]
    }
   ],
   "source": [
    "pip install balancerv2cad==0.1.91"
   ]
  },
  {
   "cell_type": "markdown",
   "metadata": {},
   "source": [
    "# 0. Dependencies"
   ]
  },
  {
   "cell_type": "code",
   "execution_count": 3,
   "metadata": {},
   "outputs": [],
   "source": [
    "# cadCAD standard dependencies\n",
    "\n",
    "# cadCAD configuration modules\n",
    "from cadCAD.configuration.utils import config_sim\n",
    "from cadCAD.configuration import Experiment\n",
    "\n",
    "# cadCAD simulation engine modules\n",
    "from cadCAD.engine import ExecutionMode, ExecutionContext\n",
    "from cadCAD.engine import Executor\n",
    "\n",
    "# cadCAD global simulation configuration list\n",
    "from cadCAD import configs\n",
    "\n",
    "# Included with cadCAD\n",
    "import pandas as pd\n",
    "\n",
    "# Additional dependencies\n",
    "\n",
    "# For analytics\n",
    "import numpy as np\n",
    "# For visualization\n",
    "import plotly.express as px\n",
    "\n",
    "# For using the balancer pool model\n",
    "from balancerv2cad.WeightedPool import WeightedPool\n",
    "from balancerv2cad.WeightedMath import WeightedMath\n",
    "from balancerv2cad import BalancerConstants as bc\n",
    "\n",
    "from decimal import Decimal"
   ]
  },
  {
   "cell_type": "markdown",
   "metadata": {},
   "source": [
    "# 0. Preparatory Steps"
   ]
  },
  {
   "cell_type": "markdown",
   "metadata": {},
   "source": [
    "**Instantiate a new balancer pool**"
   ]
  },
  {
   "cell_type": "code",
   "execution_count": 4,
   "metadata": {},
   "outputs": [],
   "source": [
    "bp = WeightedPool()"
   ]
  },
  {
   "cell_type": "markdown",
   "metadata": {},
   "source": [
    "**Create and initialise the Boob's pool**\n",
    "\n",
    "With two tokens X and Y equal weights of 50-50 and balances of 100 each. "
   ]
  },
  {
   "cell_type": "code",
   "execution_count": 5,
   "metadata": {},
   "outputs": [],
   "source": [
    "bp.join_pool(\n",
    "    # First argument populates \"balances\" as a dict with key-value pair 'token' is a string and 'value' as an integer\n",
    "    {'Token_X':100,\n",
    "     'Token_Y':100},\n",
    "    \n",
    "    # First argument populates \"weights\" as a dict with key-value pair 'token' is a string and 'value' as float\n",
    "    {'Token_X':0.5,\n",
    "     'Token_Y':0.5}\n",
    ")"
   ]
  },
  {
   "cell_type": "code",
   "execution_count": 6,
   "metadata": {
    "scrolled": false
   },
   "outputs": [
    {
     "name": "stdout",
     "output_type": "stream",
     "text": [
      "Balance_of_'Token_X': 100. Balance_of_'Token_Y': 100\n",
      "Weight_of_Token'Token_X': 0.5. Weight_of_Token_'Token_Y': 0.5\n"
     ]
    }
   ],
   "source": [
    "print(\"Balance_of_'Token_X': {}. Balance_of_'Token_Y': {}\".format(bp._balances['Token_X'], bp._balances['Token_Y']))\n",
    "print(\"Weight_of_Token'Token_X': {}. Weight_of_Token_'Token_Y': {}\".format(bp._weights['Token_X'], bp._weights['Token_Y']))"
   ]
  },
  {
   "cell_type": "markdown",
   "metadata": {},
   "source": [
    "**Set the fee for the pool to 5%**"
   ]
  },
  {
   "cell_type": "code",
   "execution_count": 7,
   "metadata": {},
   "outputs": [],
   "source": [
    "bp._swap_fee = Decimal(0.05)"
   ]
  },
  {
   "cell_type": "code",
   "execution_count": 8,
   "metadata": {},
   "outputs": [
    {
     "name": "stdout",
     "output_type": "stream",
     "text": [
      "0.05000000000000000277555756156289135105907917022705078125\n"
     ]
    }
   ],
   "source": [
    "print(bp._swap_fee)"
   ]
  },
  {
   "cell_type": "code",
   "execution_count": 9,
   "metadata": {},
   "outputs": [
    {
     "data": {
      "text/plain": [
       "{'Token_X': Decimal('0'), 'Token_Y': Decimal('0')}"
      ]
     },
     "execution_count": 9,
     "metadata": {},
     "output_type": "execute_result"
    }
   ],
   "source": [
    "bp.factory_fees"
   ]
  },
  {
   "cell_type": "markdown",
   "metadata": {},
   "source": [
    "**Initialise Balances of Actors**"
   ]
  },
  {
   "cell_type": "code",
   "execution_count": 10,
   "metadata": {},
   "outputs": [],
   "source": [
    "#Balances for Actors -> each actor should own X = 100, Y = 100\n",
    "balances_carlos = {'X': 100, 'Y': 100}\n",
    "balances_diana = {'X': 100, 'Y': 100}\n",
    "balances_ellen = {'X': 100, 'Y': 100}\n",
    "balances_fabrizio = {'X': 100, 'Y': 100}               "
   ]
  },
  {
   "cell_type": "code",
   "execution_count": 11,
   "metadata": {
    "scrolled": false
   },
   "outputs": [
    {
     "name": "stdout",
     "output_type": "stream",
     "text": [
      "{'X': 100, 'Y': 100}\n",
      "{'X': 100, 'Y': 100}\n",
      "{'X': 100, 'Y': 100}\n",
      "{'X': 100, 'Y': 100}\n"
     ]
    }
   ],
   "source": [
    "print(balances_carlos)\n",
    "print(balances_diana)\n",
    "print(balances_ellen)\n",
    "print(balances_fabrizio)"
   ]
  },
  {
   "cell_type": "code",
   "execution_count": 12,
   "metadata": {
    "scrolled": true
   },
   "outputs": [
    {
     "name": "stdout",
     "output_type": "stream",
     "text": [
      "100\n",
      "100\n"
     ]
    }
   ],
   "source": [
    "print(balances_carlos['X'])\n",
    "print(balances_ellen['Y'])"
   ]
  },
  {
   "cell_type": "markdown",
   "metadata": {},
   "source": [
    "# 1. "
   ]
  },
  {
   "cell_type": "markdown",
   "metadata": {},
   "source": [
    "For each action, specify the amount that the person will need to **trade in** to achieve the result. "
   ]
  },
  {
   "cell_type": "code",
   "execution_count": 13,
   "metadata": {},
   "outputs": [],
   "source": [
    "# OK -> 1.1 Carlos: calc amount of X trade-in to achieve 10% increase of X by trading X for Y -> balances X,Y\n",
    "# TO-DO -> 1.2 Diana: calc amount of Y trade-in to achieve 10% increase of Y by trading Y for X -> balances X,Y\n",
    "# TO-DO ->  1.3 Ellen: calc amount of X trade-in to achiece 10% increase of spot-price X/Y\n",
    "# TO-DO ->  1.4 Fabrizio: calc amount of Y tradi-in to achieve 10% increase of spot-price Y/X"
   ]
  },
  {
   "cell_type": "markdown",
   "metadata": {},
   "source": [
    "## 1.1"
   ]
  },
  {
   "cell_type": "markdown",
   "metadata": {},
   "source": [
    "Carlos -> calc amount of X trade-in to achieve 10% increase of X by trading X for Y -> balances X,Y"
   ]
  },
  {
   "cell_type": "code",
   "execution_count": 14,
   "metadata": {},
   "outputs": [
    {
     "data": {
      "text/plain": [
       "Decimal('100')"
      ]
     },
     "execution_count": 14,
     "metadata": {},
     "output_type": "execute_result"
    }
   ],
   "source": [
    "# Initial balances of Token_X in the pool\n",
    "balance_of_X_pool = bp._balances['Token_X']\n",
    "balance_of_X_pool"
   ]
  },
  {
   "cell_type": "code",
   "execution_count": 15,
   "metadata": {},
   "outputs": [
    {
     "name": "stdout",
     "output_type": "stream",
     "text": [
      "{'X': 100, 'Y': 100}\n"
     ]
    }
   ],
   "source": [
    "# Carlos Initial balances of Token_X\n",
    "print(balances_carlos)"
   ]
  },
  {
   "cell_type": "code",
   "execution_count": 16,
   "metadata": {},
   "outputs": [],
   "source": [
    "# By equal weights amount of Token_ trade-in the pool is derect \n",
    "# propotional to the balance of Token_X in the pool\n",
    "amount_of_Token_X = 10\n",
    "\n",
    "#Update balances of Token_X for the pool and Bob\n",
    "balance_of_X_pool += bp.swap('Token_X', 'Token_Y', amount_of_Token_X, given_in=True )\n",
    "balances_carlos['X'] -= amount_of_Token_X "
   ]
  },
  {
   "cell_type": "code",
   "execution_count": 38,
   "metadata": {
    "scrolled": false
   },
   "outputs": [
    {
     "name": "stdout",
     "output_type": "stream",
     "text": [
      "Balance of 'Token_X in the pool': [Decimal('119.9025000000000091784913002')].\n",
      "Balance of 'Token_Y in the pool': [Decimal('83.40109672442191976400624907')]\n",
      "Bob's Balance of 'Token_X ':[90].\n"
     ]
    }
   ],
   "source": [
    "# Print out results fo balances of Token_X and Token_Y in the pool\n",
    "print(\"Balance of 'Token_X in the pool': {}.\".format([bp._balances['Token_X']]))\n",
    "print(\"Balance of 'Token_Y in the pool': {}\".format([bp._balances['Token_Y']]))\n",
    "# Print out results fo balances of Token_X and Token_Y in the pool\n",
    "print(\"Bob's Balance of 'Token_X ':{}.\". format([balances_carlos['X']]))"
   ]
  },
  {
   "cell_type": "code",
   "execution_count": 18,
   "metadata": {},
   "outputs": [],
   "source": [
    "# Update weights of Token_X and Token_Y after swap\n",
    "weight_of_Token_X = bp._weights['Token_X']\n",
    "updated_weight_of_Token_X = bp._balances['Token_X']/(bp._balances['Token_X'] + bp._balances['Token_Y'])\n",
    "updated_weight_of_Token_Y = bp._balances['Token_Y']/(bp._balances['Token_X'] + bp._balances['Token_Y'])"
   ]
  },
  {
   "cell_type": "code",
   "execution_count": 36,
   "metadata": {
    "scrolled": true
   },
   "outputs": [
    {
     "name": "stdout",
     "output_type": "stream",
     "text": [
      "Weight_of_Token'Token_X': 0.5452530098566410112316064427\n",
      "Weight_of_Token_'Token_Y': 0.4547469901433589887683935572\n"
     ]
    }
   ],
   "source": [
    "# Print out updated weights of Token_X and Token_Y after swap\n",
    "print(\"Weight_of_Token'Token_X': {}\".format(updated_weight_of_Token_X, updated_weight_of_Token_Y))\n",
    "print(\"Weight_of_Token_'Token_Y': {}\".format(updated_weight_of_Token_Y))"
   ]
  },
  {
   "cell_type": "code",
   "execution_count": 37,
   "metadata": {},
   "outputs": [
    {
     "name": "stdout",
     "output_type": "stream",
     "text": [
      "0.9999999999999999999999999999\n"
     ]
    }
   ],
   "source": [
    "check = updated_weight_of_Token_X + updated_weight_of_Token_Y\n",
    "print(check)"
   ]
  },
  {
   "cell_type": "code",
   "execution_count": 21,
   "metadata": {},
   "outputs": [
    {
     "data": {
      "text/plain": [
       "{'Token_X': Decimal('0.5000000000000000277555756156'), 'Token_Y': Decimal('0')}"
      ]
     },
     "execution_count": 21,
     "metadata": {},
     "output_type": "execute_result"
    }
   ],
   "source": [
    "bp.factory_fees"
   ]
  },
  {
   "cell_type": "markdown",
   "metadata": {},
   "source": [
    "## 1.2"
   ]
  },
  {
   "cell_type": "markdown",
   "metadata": {},
   "source": [
    "Diana: calc amount of Y trade-in to achieve 10% increase of Y by trading Y for X -> balances X,Y"
   ]
  },
  {
   "cell_type": "code",
   "execution_count": 48,
   "metadata": {},
   "outputs": [],
   "source": [
    "bp = WeightedPool()"
   ]
  },
  {
   "cell_type": "code",
   "execution_count": 49,
   "metadata": {},
   "outputs": [],
   "source": [
    "bp.join_pool(\n",
    "    # First argument populates \"balances\" as a dict with key-value pair 'token' is a string and 'value' as an integer\n",
    "    {'Token_Y':100,\n",
    "     'Token_X':100},\n",
    "    \n",
    "    # First argument populates \"weights\" as a dict with key-value pair 'token' is a string and 'value' as float\n",
    "    {'Token_Y':0.5,\n",
    "     'Token_X':0.5}\n",
    ")"
   ]
  },
  {
   "cell_type": "code",
   "execution_count": 50,
   "metadata": {
    "scrolled": true
   },
   "outputs": [
    {
     "name": "stdout",
     "output_type": "stream",
     "text": [
      "Balance_of_'Token_Y': 100. Balance_of_'Token_X': 100\n",
      "Weight_of_Token'Token_Y': 0.5. Weight_of_Token_'Token_X': 0.5\n"
     ]
    }
   ],
   "source": [
    "print(\"Balance_of_'Token_Y': {}. Balance_of_'Token_X': {}\".format(bp._balances['Token_Y'], bp._balances['Token_X']))\n",
    "print(\"Weight_of_Token'Token_Y': {}. Weight_of_Token_'Token_X': {}\".format(bp._weights['Token_Y'], bp._weights['Token_X']))"
   ]
  },
  {
   "cell_type": "code",
   "execution_count": 51,
   "metadata": {
    "scrolled": true
   },
   "outputs": [
    {
     "name": "stdout",
     "output_type": "stream",
     "text": [
      "0.05000000000000000277555756156289135105907917022705078125\n"
     ]
    }
   ],
   "source": [
    "bp._swap_fee = Decimal(0.05)\n",
    "print(bp._swap_fee)"
   ]
  },
  {
   "cell_type": "code",
   "execution_count": 52,
   "metadata": {
    "scrolled": true
   },
   "outputs": [
    {
     "data": {
      "text/plain": [
       "{'Token_Y': Decimal('0'), 'Token_X': Decimal('0')}"
      ]
     },
     "execution_count": 52,
     "metadata": {},
     "output_type": "execute_result"
    }
   ],
   "source": [
    "bp.factory_fees"
   ]
  },
  {
   "cell_type": "code",
   "execution_count": 53,
   "metadata": {},
   "outputs": [
    {
     "name": "stdout",
     "output_type": "stream",
     "text": [
      "{'X': 100, 'Y': 100}\n",
      "{'X': 100, 'Y': 100}\n",
      "{'X': 100, 'Y': 100}\n",
      "{'X': 100, 'Y': 100}\n"
     ]
    }
   ],
   "source": [
    "#Balances for Actors -> each actor should own X = 100, Y = 100\n",
    "balances_carlos = {'X': 100, 'Y': 100}\n",
    "balances_diana = {'X': 100, 'Y': 100}\n",
    "balances_ellen = {'X': 100, 'Y': 100}\n",
    "balances_fabrizio = {'X': 100, 'Y': 100}   \n",
    "\n",
    "print(balances_carlos)\n",
    "print(balances_diana)\n",
    "print(balances_ellen)\n",
    "print(balances_fabrizio)"
   ]
  },
  {
   "cell_type": "code",
   "execution_count": 54,
   "metadata": {
    "scrolled": true
   },
   "outputs": [
    {
     "name": "stdout",
     "output_type": "stream",
     "text": [
      "100\n",
      "{'X': 100, 'Y': 100}\n"
     ]
    }
   ],
   "source": [
    "# Diana increase Y 10% by trading Y for X --> calc_out_given_in\n",
    "balance_of_Y_pool = bp._balances['Token_X']\n",
    "print(balance_of_Y_pool)\n",
    "print(balances_diana)"
   ]
  },
  {
   "cell_type": "code",
   "execution_count": 55,
   "metadata": {},
   "outputs": [],
   "source": [
    "# By equal weights amount of Token_ trade-in the pool is derect \n",
    "# propotional to the balance of Token_Y in the pool\n",
    "amount_of_Token_Y = 10\n",
    "\n",
    "#Update balances of Token_Y for the pool and Bob\n",
    "balance_of_Y_pool += bp.swap('Token_Y', 'Token_X', amount_of_Token_Y, given_in=True )\n",
    "balances_carlos['Y'] -= amount_of_Token_Y "
   ]
  },
  {
   "cell_type": "code",
   "execution_count": 56,
   "metadata": {
    "scrolled": true
   },
   "outputs": [
    {
     "name": "stdout",
     "output_type": "stream",
     "text": [
      "Balance of 'Token_Y in the pool': [Decimal('109.4999999999999999722444243')].\n",
      "Balance of 'Token_X in the pool': [Decimal('91.32420091324200915556854578')]\n",
      "Bob's Balance of 'Token_Y ':[100].\n"
     ]
    }
   ],
   "source": [
    "# Print out results fo balances of Token_X and Token_Y in the pool\n",
    "print(\"Balance of 'Token_Y in the pool': {}.\".format([bp._balances['Token_Y']]))\n",
    "print(\"Balance of 'Token_X in the pool': {}\".format([bp._balances['Token_X']]))\n",
    "# Print out results fo balances of Token_X and Token_Y in the pool\n",
    "print(\"Bob's Balance of 'Token_Y ':{}.\". format([balances_diana['Y']]))"
   ]
  },
  {
   "cell_type": "code",
   "execution_count": 58,
   "metadata": {},
   "outputs": [],
   "source": [
    "weight_of_Token_Y = bp._weights['Token_Y']\n",
    "updated_weight_of_Token_Y = bp._balances['Token_Y']/(bp._balances['Token_Y'] + bp._balances['Token_X'])\n",
    "updated_weight_of_Token_X = bp._balances['Token_X']/(bp._balances['Token_Y'] + bp._balances['Token_X'])"
   ]
  },
  {
   "cell_type": "code",
   "execution_count": 59,
   "metadata": {
    "scrolled": true
   },
   "outputs": [
    {
     "name": "stdout",
     "output_type": "stream",
     "text": [
      "Weight_of_Token'Token_Y': 0.5452530098566410112316064427\n",
      "Weight_of_Token_'Token_X': 0.4547469901433589887683935572\n"
     ]
    }
   ],
   "source": [
    "# Print out updated weights of Token_X and Token_Y after swap\n",
    "print(\"Weight_of_Token'Token_Y': {}\".format(updated_weight_of_Token_Y, updated_weight_of_Token_X))\n",
    "print(\"Weight_of_Token_'Token_X': {}\".format(updated_weight_of_Token_X))"
   ]
  },
  {
   "cell_type": "code",
   "execution_count": 60,
   "metadata": {},
   "outputs": [
    {
     "data": {
      "text/plain": [
       "{'Token_Y': Decimal('0.5000000000000000277555756156'), 'Token_X': Decimal('0')}"
      ]
     },
     "execution_count": 60,
     "metadata": {},
     "output_type": "execute_result"
    }
   ],
   "source": [
    "bp.factory_fees"
   ]
  },
  {
   "cell_type": "markdown",
   "metadata": {},
   "source": [
    "## 1.3"
   ]
  },
  {
   "cell_type": "markdown",
   "metadata": {},
   "source": [
    "Ellen: calc amount of X trade-in to achiece 10% increase of spot-price X/Y"
   ]
  },
  {
   "cell_type": "code",
   "execution_count": 22,
   "metadata": {},
   "outputs": [
    {
     "name": "stdout",
     "output_type": "stream",
     "text": [
      "1.199024999999999999392152893\n"
     ]
    }
   ],
   "source": [
    "# Calculate after-trade effective price (EF) \n",
    "\n",
    "EP_11 = bp._balances['Token_X']/bp._balances['Token_Y']\n",
    "print(EP_11)"
   ]
  },
  {
   "cell_type": "code",
   "execution_count": 23,
   "metadata": {},
   "outputs": [
    {
     "name": "stdout",
     "output_type": "stream",
     "text": [
      "1.318927500000000105826181150\n"
     ]
    }
   ],
   "source": [
    "# Calculate the new SP\n",
    "SP_13 = Decimal(1.1)* Decimal(EP_11)\n",
    "SP_13 = Decimal(SP_13)\n",
    "print(SP_13)"
   ]
  },
  {
   "cell_type": "code",
   "execution_count": 24,
   "metadata": {
    "scrolled": true
   },
   "outputs": [
    {
     "name": "stdout",
     "output_type": "stream",
     "text": [
      "Balance of 'Token_X_13': 120.4500000000000096950225624\n",
      "Αmount of 'Token_X_13' for SP_13: 10.9500000000000097227781381\n",
      "Swap Fee for Amount of Token_X_13' for SP_13: 0.5475000000000005165312622041\n",
      "Amount of Token_X_13' for SP_13 with Fees: 11.49750000000001023930940030\n"
     ]
    }
   ],
   "source": [
    "# Calculate additional amount of Token_X for icreasing SP\n",
    "\n",
    "balance_of_Token_X_13 = SP_13*(bp._balances['Token_X'] * updated_weight_of_Token_Y)/updated_weight_of_Token_X\n",
    "amount_of_Token_X_for_13 = balance_of_Token_X_13 - bp._balances['Token_X']\n",
    "\n",
    "# Calculate swap_fee for the amount_of-Token_X_for_13 and add to the amount_of-Token_X_for_13 \n",
    "swap_fee_for_13 = Decimal(0.05) * amount_of_Token_X_for_13\n",
    "swap_fee_for_13 = Decimal(swap_fee_for_13)\n",
    "Amount_of_Token_X_for_13_wFee = swap_fee_for_13 + amount_of_Token_X_for_13\n",
    "\n",
    "print(\"Balance of 'Token_X_13': {}\".format(balance_of_Token_X_13))\n",
    "print(\"Αmount of 'Token_X_13' for SP_13: {}\".format(amount_of_Token_X_for_13))\n",
    "print(\"Swap Fee for Amount of Token_X_13' for SP_13: {}\".format(swap_fee_for_13))\n",
    "print(\"Amount of Token_X_13' for SP_13 with Fees: {}\".format(Amount_of_Token_X_for_13_wFee))"
   ]
  },
  {
   "cell_type": "code",
   "execution_count": 25,
   "metadata": {},
   "outputs": [],
   "source": [
    "#Make the swap, update balances of Token_X for the pool and Ellen\n",
    "\n",
    "balance_of_Token_X_13 += bp.swap('Token_X', 'Token_Y', amount_of_Token_X_for_13, given_in=True )\n",
    "balances_ellen['X'] -= amount_of_Token_X_for_13 "
   ]
  },
  {
   "cell_type": "code",
   "execution_count": 35,
   "metadata": {
    "scrolled": true
   },
   "outputs": [
    {
     "name": "stdout",
     "output_type": "stream",
     "text": [
      "Balance of 'Token_X in the pool':[Decimal('119.9025000000000091784913002')]\n",
      "Balance of 'Token_Y in the pool':[Decimal('83.40109672442191976400624907')]\n",
      "Ellen's Balance of 'Token_X ':[Decimal('89.0499999999999902772218619')]\n"
     ]
    }
   ],
   "source": [
    "# Print out results fo balances of Token_X and Token_Y in the pool\n",
    "print(\"Balance of 'Token_X in the pool':{}\". format([bp._balances['Token_X']]))\n",
    "print(\"Balance of 'Token_Y in the pool':{}\". format([bp._balances['Token_Y']]))\n",
    "# Print out results fo balances of Token_X and Token_Y in the pool\n",
    "print(\"Ellen's Balance of 'Token_X ':{}\". format([balances_ellen['X']]))"
   ]
  },
  {
   "cell_type": "code",
   "execution_count": 28,
   "metadata": {},
   "outputs": [
    {
     "name": "stdout",
     "output_type": "stream",
     "text": [
      "1.437660950625000220104810626\n"
     ]
    }
   ],
   "source": [
    "# Calculate after-trade effective price (EF) \n",
    "\n",
    "EP_13 = bp._balances['Token_X']/bp._balances['Token_Y']\n",
    "print(EP_13)"
   ]
  },
  {
   "cell_type": "markdown",
   "metadata": {},
   "source": [
    "## 1.4"
   ]
  },
  {
   "cell_type": "code",
   "execution_count": null,
   "metadata": {},
   "outputs": [],
   "source": [
    "# Fabrizio: calc amount of Y tradi-in to achieve 10% increase of spot-price Y/X"
   ]
  },
  {
   "cell_type": "code",
   "execution_count": 62,
   "metadata": {},
   "outputs": [
    {
     "name": "stdout",
     "output_type": "stream",
     "text": [
      "1.318927500000000105826181150\n",
      "1.199024999999999999392152893\n"
     ]
    }
   ],
   "source": [
    "effective_price = bp._balances['Token_Y']/bp._balances['Token_X']\n",
    "spot_price = Decimal(1.1)*Decimal(effective_price)\n",
    "spot_price = Decimal(spot_price)\n",
    "print(spot_price)\n",
    "print(effective_price)"
   ]
  },
  {
   "cell_type": "code",
   "execution_count": 63,
   "metadata": {
    "scrolled": true
   },
   "outputs": [
    {
     "name": "stdout",
     "output_type": "stream",
     "text": [
      "Balance of 'Token_Y_fab': 144.4225612500000115513592438\n",
      "Αmount of 'Token_Y_fab' for spot_price: 34.9225612500000115791148195\n",
      "Swap Fee for Amount of Token_Y_fab' for spot_price: 1.746128062500000675885319922\n",
      "Amount of Token_Y_fab' for spot_price with Fees: 36.66868931250001225500013942\n"
     ]
    }
   ],
   "source": [
    "balance_of_Token_Y_fab = spot_price*(bp._balances['Token_Y'] * updated_weight_of_Token_X)/updated_weight_of_Token_X\n",
    "amount_of_Token_Y_for_fab = balance_of_Token_Y_fab - bp._balances['Token_Y']\n",
    "\n",
    "# Calculate swap_fee for the amount_of-Token_X_for_13 and add to the amount_of-Token_X_for_13 \n",
    "swap_fee_for_fab = Decimal(0.05) * amount_of_Token_Y_for_fab\n",
    "swap_fee_for_fab = Decimal(swap_fee_for_fab)\n",
    "Amount_of_Token_Y_for_fab_with_Fee = swap_fee_for_fab + amount_of_Token_Y_for_fab\n",
    "\n",
    "print(\"Balance of 'Token_Y_fab': {}\".format(balance_of_Token_Y_fab))\n",
    "print(\"Αmount of 'Token_Y_fab' for spot_price: {}\".format(amount_of_Token_Y_for_fab))\n",
    "print(\"Swap Fee for Amount of Token_Y_fab' for spot_price: {}\".format(swap_fee_for_fab))\n",
    "print(\"Amount of Token_Y_fab' for spot_price with Fees: {}\".format(Amount_of_Token_Y_for_fab_with_Fee))"
   ]
  },
  {
   "cell_type": "code",
   "execution_count": 64,
   "metadata": {},
   "outputs": [],
   "source": [
    "#Make the swap, update balances of Token_X for the pool and Ellen\n",
    "\n",
    "balance_of_Token_Y_fab += bp.swap('Token_Y', 'Token_X', amount_of_Token_Y_for_fab, given_in=True )\n",
    "balances_ellen['Y'] -= amount_of_Token_Y_for_fab "
   ]
  },
  {
   "cell_type": "code",
   "execution_count": 65,
   "metadata": {
    "scrolled": true
   },
   "outputs": [
    {
     "name": "stdout",
     "output_type": "stream",
     "text": [
      "Balance of 'Token_Y in the pool':[Decimal('142.6764331875000108754739238')]\n",
      "Balance of 'Token_X in the pool':[Decimal('70.08865989002104859443507665')]\n",
      "Fabrizio's Balance of 'Token_Y ':[Decimal('65.0774387499999884208851805')]\n"
     ]
    }
   ],
   "source": [
    "# Print out results fo balances of Token_X and Token_Y in the pool\n",
    "print(\"Balance of 'Token_Y in the pool':{}\". format([bp._balances['Token_Y']]))\n",
    "print(\"Balance of 'Token_X in the pool':{}\". format([bp._balances['Token_X']]))\n",
    "# Print out results fo balances of Token_X and Token_Y in the pool\n",
    "print(\"Fabrizio's Balance of 'Token_Y ':{}\". format([balances_ellen['Y']]))"
   ]
  },
  {
   "cell_type": "code",
   "execution_count": 66,
   "metadata": {},
   "outputs": [
    {
     "name": "stdout",
     "output_type": "stream",
     "text": [
      "2.035656458710715451350390737\n"
     ]
    }
   ],
   "source": [
    "effective_price = bp._balances['Token_Y']/bp._balances['Token_X']\n",
    "print(effective_price)"
   ]
  },
  {
   "cell_type": "markdown",
   "metadata": {},
   "source": [
    "# 2. "
   ]
  },
  {
   "cell_type": "markdown",
   "metadata": {},
   "source": [
    "These actions can not occur simultaneously and will be processed in some order. There are 24 different total orders -- choose a few different ones and simulate the **effect on spot price and liquidity**. Can you make a conclusion about **how increasing liquidity or changing balances affects spot price**? If not, try running additional simulations with varying numbers besides "
   ]
  },
  {
   "cell_type": "markdown",
   "metadata": {},
   "source": [
    "# Create Permutation"
   ]
  },
  {
   "cell_type": "code",
   "execution_count": 43,
   "metadata": {
    "scrolled": false
   },
   "outputs": [
    {
     "name": "stdout",
     "output_type": "stream",
     "text": [
      "[('Carlos', 'Diana', 'Ellen', 'Fabrizio'), ('Carlos', 'Diana', 'Fabrizio', 'Ellen'), ('Carlos', 'Ellen', 'Diana', 'Fabrizio'), ('Carlos', 'Ellen', 'Fabrizio', 'Diana'), ('Carlos', 'Fabrizio', 'Diana', 'Ellen'), ('Carlos', 'Fabrizio', 'Ellen', 'Diana'), ('Diana', 'Carlos', 'Ellen', 'Fabrizio'), ('Diana', 'Carlos', 'Fabrizio', 'Ellen'), ('Diana', 'Ellen', 'Carlos', 'Fabrizio'), ('Diana', 'Ellen', 'Fabrizio', 'Carlos'), ('Diana', 'Fabrizio', 'Carlos', 'Ellen'), ('Diana', 'Fabrizio', 'Ellen', 'Carlos'), ('Ellen', 'Carlos', 'Diana', 'Fabrizio'), ('Ellen', 'Carlos', 'Fabrizio', 'Diana'), ('Ellen', 'Diana', 'Carlos', 'Fabrizio'), ('Ellen', 'Diana', 'Fabrizio', 'Carlos'), ('Ellen', 'Fabrizio', 'Carlos', 'Diana'), ('Ellen', 'Fabrizio', 'Diana', 'Carlos'), ('Fabrizio', 'Carlos', 'Diana', 'Ellen'), ('Fabrizio', 'Carlos', 'Ellen', 'Diana'), ('Fabrizio', 'Diana', 'Carlos', 'Ellen'), ('Fabrizio', 'Diana', 'Ellen', 'Carlos'), ('Fabrizio', 'Ellen', 'Carlos', 'Diana'), ('Fabrizio', 'Ellen', 'Diana', 'Carlos')]\n",
      "24\n"
     ]
    }
   ],
   "source": [
    "# See https://stackoverflow.com/a/34032549\n",
    "import itertools\n",
    "\n",
    "Actors = ['Carlos', 'Diana', 'Ellen', 'Fabrizio']\n",
    "    \n",
    "trading_scenario = list(itertools.permutations(Actors))\n",
    "print(trading_scenario)\n",
    "\n",
    "trading_scenario = [x[0] for x in trading_scenario]\n",
    "\n",
    "combinations = {\n",
    "    'Actors': trading_scenario \n",
    "}\n",
    "\n",
    "Amount_combinations = len(trading_scenario)\n",
    "\n",
    "print(Amount_combinations)\n"
   ]
  },
  {
   "cell_type": "markdown",
   "metadata": {},
   "source": [
    "# 3. "
   ]
  },
  {
   "cell_type": "markdown",
   "metadata": {},
   "source": [
    "Now add in two agents who want to increase the pool liquidity by making a deposit. With 6 actors, there are 720 different orderings of the actions. Analyze some. **Which actions work \"together\"** (reducing the amount needed of the second action to achieve a particular effect) and **which work \"against each other\"**? "
   ]
  },
  {
   "cell_type": "markdown",
   "metadata": {},
   "source": [
    "# Create Permutation agent 1"
   ]
  },
  {
   "cell_type": "code",
   "execution_count": 41,
   "metadata": {
    "scrolled": false
   },
   "outputs": [
    {
     "name": "stdout",
     "output_type": "stream",
     "text": [
      "[('A', 'B', 'C', 'D', 'E', 'F'), ('A', 'B', 'C', 'D', 'F', 'E'), ('A', 'B', 'C', 'E', 'D', 'F'), ('A', 'B', 'C', 'E', 'F', 'D'), ('A', 'B', 'C', 'F', 'D', 'E'), ('A', 'B', 'C', 'F', 'E', 'D'), ('A', 'B', 'D', 'C', 'E', 'F'), ('A', 'B', 'D', 'C', 'F', 'E'), ('A', 'B', 'D', 'E', 'C', 'F'), ('A', 'B', 'D', 'E', 'F', 'C'), ('A', 'B', 'D', 'F', 'C', 'E'), ('A', 'B', 'D', 'F', 'E', 'C'), ('A', 'B', 'E', 'C', 'D', 'F'), ('A', 'B', 'E', 'C', 'F', 'D'), ('A', 'B', 'E', 'D', 'C', 'F'), ('A', 'B', 'E', 'D', 'F', 'C'), ('A', 'B', 'E', 'F', 'C', 'D'), ('A', 'B', 'E', 'F', 'D', 'C'), ('A', 'B', 'F', 'C', 'D', 'E'), ('A', 'B', 'F', 'C', 'E', 'D'), ('A', 'B', 'F', 'D', 'C', 'E'), ('A', 'B', 'F', 'D', 'E', 'C'), ('A', 'B', 'F', 'E', 'C', 'D'), ('A', 'B', 'F', 'E', 'D', 'C'), ('A', 'C', 'B', 'D', 'E', 'F'), ('A', 'C', 'B', 'D', 'F', 'E'), ('A', 'C', 'B', 'E', 'D', 'F'), ('A', 'C', 'B', 'E', 'F', 'D'), ('A', 'C', 'B', 'F', 'D', 'E'), ('A', 'C', 'B', 'F', 'E', 'D'), ('A', 'C', 'D', 'B', 'E', 'F'), ('A', 'C', 'D', 'B', 'F', 'E'), ('A', 'C', 'D', 'E', 'B', 'F'), ('A', 'C', 'D', 'E', 'F', 'B'), ('A', 'C', 'D', 'F', 'B', 'E'), ('A', 'C', 'D', 'F', 'E', 'B'), ('A', 'C', 'E', 'B', 'D', 'F'), ('A', 'C', 'E', 'B', 'F', 'D'), ('A', 'C', 'E', 'D', 'B', 'F'), ('A', 'C', 'E', 'D', 'F', 'B'), ('A', 'C', 'E', 'F', 'B', 'D'), ('A', 'C', 'E', 'F', 'D', 'B'), ('A', 'C', 'F', 'B', 'D', 'E'), ('A', 'C', 'F', 'B', 'E', 'D'), ('A', 'C', 'F', 'D', 'B', 'E'), ('A', 'C', 'F', 'D', 'E', 'B'), ('A', 'C', 'F', 'E', 'B', 'D'), ('A', 'C', 'F', 'E', 'D', 'B'), ('A', 'D', 'B', 'C', 'E', 'F'), ('A', 'D', 'B', 'C', 'F', 'E'), ('A', 'D', 'B', 'E', 'C', 'F'), ('A', 'D', 'B', 'E', 'F', 'C'), ('A', 'D', 'B', 'F', 'C', 'E'), ('A', 'D', 'B', 'F', 'E', 'C'), ('A', 'D', 'C', 'B', 'E', 'F'), ('A', 'D', 'C', 'B', 'F', 'E'), ('A', 'D', 'C', 'E', 'B', 'F'), ('A', 'D', 'C', 'E', 'F', 'B'), ('A', 'D', 'C', 'F', 'B', 'E'), ('A', 'D', 'C', 'F', 'E', 'B'), ('A', 'D', 'E', 'B', 'C', 'F'), ('A', 'D', 'E', 'B', 'F', 'C'), ('A', 'D', 'E', 'C', 'B', 'F'), ('A', 'D', 'E', 'C', 'F', 'B'), ('A', 'D', 'E', 'F', 'B', 'C'), ('A', 'D', 'E', 'F', 'C', 'B'), ('A', 'D', 'F', 'B', 'C', 'E'), ('A', 'D', 'F', 'B', 'E', 'C'), ('A', 'D', 'F', 'C', 'B', 'E'), ('A', 'D', 'F', 'C', 'E', 'B'), ('A', 'D', 'F', 'E', 'B', 'C'), ('A', 'D', 'F', 'E', 'C', 'B'), ('A', 'E', 'B', 'C', 'D', 'F'), ('A', 'E', 'B', 'C', 'F', 'D'), ('A', 'E', 'B', 'D', 'C', 'F'), ('A', 'E', 'B', 'D', 'F', 'C'), ('A', 'E', 'B', 'F', 'C', 'D'), ('A', 'E', 'B', 'F', 'D', 'C'), ('A', 'E', 'C', 'B', 'D', 'F'), ('A', 'E', 'C', 'B', 'F', 'D'), ('A', 'E', 'C', 'D', 'B', 'F'), ('A', 'E', 'C', 'D', 'F', 'B'), ('A', 'E', 'C', 'F', 'B', 'D'), ('A', 'E', 'C', 'F', 'D', 'B'), ('A', 'E', 'D', 'B', 'C', 'F'), ('A', 'E', 'D', 'B', 'F', 'C'), ('A', 'E', 'D', 'C', 'B', 'F'), ('A', 'E', 'D', 'C', 'F', 'B'), ('A', 'E', 'D', 'F', 'B', 'C'), ('A', 'E', 'D', 'F', 'C', 'B'), ('A', 'E', 'F', 'B', 'C', 'D'), ('A', 'E', 'F', 'B', 'D', 'C'), ('A', 'E', 'F', 'C', 'B', 'D'), ('A', 'E', 'F', 'C', 'D', 'B'), ('A', 'E', 'F', 'D', 'B', 'C'), ('A', 'E', 'F', 'D', 'C', 'B'), ('A', 'F', 'B', 'C', 'D', 'E'), ('A', 'F', 'B', 'C', 'E', 'D'), ('A', 'F', 'B', 'D', 'C', 'E'), ('A', 'F', 'B', 'D', 'E', 'C'), ('A', 'F', 'B', 'E', 'C', 'D'), ('A', 'F', 'B', 'E', 'D', 'C'), ('A', 'F', 'C', 'B', 'D', 'E'), ('A', 'F', 'C', 'B', 'E', 'D'), ('A', 'F', 'C', 'D', 'B', 'E'), ('A', 'F', 'C', 'D', 'E', 'B'), ('A', 'F', 'C', 'E', 'B', 'D'), ('A', 'F', 'C', 'E', 'D', 'B'), ('A', 'F', 'D', 'B', 'C', 'E'), ('A', 'F', 'D', 'B', 'E', 'C'), ('A', 'F', 'D', 'C', 'B', 'E'), ('A', 'F', 'D', 'C', 'E', 'B'), ('A', 'F', 'D', 'E', 'B', 'C'), ('A', 'F', 'D', 'E', 'C', 'B'), ('A', 'F', 'E', 'B', 'C', 'D'), ('A', 'F', 'E', 'B', 'D', 'C'), ('A', 'F', 'E', 'C', 'B', 'D'), ('A', 'F', 'E', 'C', 'D', 'B'), ('A', 'F', 'E', 'D', 'B', 'C'), ('A', 'F', 'E', 'D', 'C', 'B'), ('B', 'A', 'C', 'D', 'E', 'F'), ('B', 'A', 'C', 'D', 'F', 'E'), ('B', 'A', 'C', 'E', 'D', 'F'), ('B', 'A', 'C', 'E', 'F', 'D'), ('B', 'A', 'C', 'F', 'D', 'E'), ('B', 'A', 'C', 'F', 'E', 'D'), ('B', 'A', 'D', 'C', 'E', 'F'), ('B', 'A', 'D', 'C', 'F', 'E'), ('B', 'A', 'D', 'E', 'C', 'F'), ('B', 'A', 'D', 'E', 'F', 'C'), ('B', 'A', 'D', 'F', 'C', 'E'), ('B', 'A', 'D', 'F', 'E', 'C'), ('B', 'A', 'E', 'C', 'D', 'F'), ('B', 'A', 'E', 'C', 'F', 'D'), ('B', 'A', 'E', 'D', 'C', 'F'), ('B', 'A', 'E', 'D', 'F', 'C'), ('B', 'A', 'E', 'F', 'C', 'D'), ('B', 'A', 'E', 'F', 'D', 'C'), ('B', 'A', 'F', 'C', 'D', 'E'), ('B', 'A', 'F', 'C', 'E', 'D'), ('B', 'A', 'F', 'D', 'C', 'E'), ('B', 'A', 'F', 'D', 'E', 'C'), ('B', 'A', 'F', 'E', 'C', 'D'), ('B', 'A', 'F', 'E', 'D', 'C'), ('B', 'C', 'A', 'D', 'E', 'F'), ('B', 'C', 'A', 'D', 'F', 'E'), ('B', 'C', 'A', 'E', 'D', 'F'), ('B', 'C', 'A', 'E', 'F', 'D'), ('B', 'C', 'A', 'F', 'D', 'E'), ('B', 'C', 'A', 'F', 'E', 'D'), ('B', 'C', 'D', 'A', 'E', 'F'), ('B', 'C', 'D', 'A', 'F', 'E'), ('B', 'C', 'D', 'E', 'A', 'F'), ('B', 'C', 'D', 'E', 'F', 'A'), ('B', 'C', 'D', 'F', 'A', 'E'), ('B', 'C', 'D', 'F', 'E', 'A'), ('B', 'C', 'E', 'A', 'D', 'F'), ('B', 'C', 'E', 'A', 'F', 'D'), ('B', 'C', 'E', 'D', 'A', 'F'), ('B', 'C', 'E', 'D', 'F', 'A'), ('B', 'C', 'E', 'F', 'A', 'D'), ('B', 'C', 'E', 'F', 'D', 'A'), ('B', 'C', 'F', 'A', 'D', 'E'), ('B', 'C', 'F', 'A', 'E', 'D'), ('B', 'C', 'F', 'D', 'A', 'E'), ('B', 'C', 'F', 'D', 'E', 'A'), ('B', 'C', 'F', 'E', 'A', 'D'), ('B', 'C', 'F', 'E', 'D', 'A'), ('B', 'D', 'A', 'C', 'E', 'F'), ('B', 'D', 'A', 'C', 'F', 'E'), ('B', 'D', 'A', 'E', 'C', 'F'), ('B', 'D', 'A', 'E', 'F', 'C'), ('B', 'D', 'A', 'F', 'C', 'E'), ('B', 'D', 'A', 'F', 'E', 'C'), ('B', 'D', 'C', 'A', 'E', 'F'), ('B', 'D', 'C', 'A', 'F', 'E'), ('B', 'D', 'C', 'E', 'A', 'F'), ('B', 'D', 'C', 'E', 'F', 'A'), ('B', 'D', 'C', 'F', 'A', 'E'), ('B', 'D', 'C', 'F', 'E', 'A'), ('B', 'D', 'E', 'A', 'C', 'F'), ('B', 'D', 'E', 'A', 'F', 'C'), ('B', 'D', 'E', 'C', 'A', 'F'), ('B', 'D', 'E', 'C', 'F', 'A'), ('B', 'D', 'E', 'F', 'A', 'C'), ('B', 'D', 'E', 'F', 'C', 'A'), ('B', 'D', 'F', 'A', 'C', 'E'), ('B', 'D', 'F', 'A', 'E', 'C'), ('B', 'D', 'F', 'C', 'A', 'E'), ('B', 'D', 'F', 'C', 'E', 'A'), ('B', 'D', 'F', 'E', 'A', 'C'), ('B', 'D', 'F', 'E', 'C', 'A'), ('B', 'E', 'A', 'C', 'D', 'F'), ('B', 'E', 'A', 'C', 'F', 'D'), ('B', 'E', 'A', 'D', 'C', 'F'), ('B', 'E', 'A', 'D', 'F', 'C'), ('B', 'E', 'A', 'F', 'C', 'D'), ('B', 'E', 'A', 'F', 'D', 'C'), ('B', 'E', 'C', 'A', 'D', 'F'), ('B', 'E', 'C', 'A', 'F', 'D'), ('B', 'E', 'C', 'D', 'A', 'F'), ('B', 'E', 'C', 'D', 'F', 'A'), ('B', 'E', 'C', 'F', 'A', 'D'), ('B', 'E', 'C', 'F', 'D', 'A'), ('B', 'E', 'D', 'A', 'C', 'F'), ('B', 'E', 'D', 'A', 'F', 'C'), ('B', 'E', 'D', 'C', 'A', 'F'), ('B', 'E', 'D', 'C', 'F', 'A'), ('B', 'E', 'D', 'F', 'A', 'C'), ('B', 'E', 'D', 'F', 'C', 'A'), ('B', 'E', 'F', 'A', 'C', 'D'), ('B', 'E', 'F', 'A', 'D', 'C'), ('B', 'E', 'F', 'C', 'A', 'D'), ('B', 'E', 'F', 'C', 'D', 'A'), ('B', 'E', 'F', 'D', 'A', 'C'), ('B', 'E', 'F', 'D', 'C', 'A'), ('B', 'F', 'A', 'C', 'D', 'E'), ('B', 'F', 'A', 'C', 'E', 'D'), ('B', 'F', 'A', 'D', 'C', 'E'), ('B', 'F', 'A', 'D', 'E', 'C'), ('B', 'F', 'A', 'E', 'C', 'D'), ('B', 'F', 'A', 'E', 'D', 'C'), ('B', 'F', 'C', 'A', 'D', 'E'), ('B', 'F', 'C', 'A', 'E', 'D'), ('B', 'F', 'C', 'D', 'A', 'E'), ('B', 'F', 'C', 'D', 'E', 'A'), ('B', 'F', 'C', 'E', 'A', 'D'), ('B', 'F', 'C', 'E', 'D', 'A'), ('B', 'F', 'D', 'A', 'C', 'E'), ('B', 'F', 'D', 'A', 'E', 'C'), ('B', 'F', 'D', 'C', 'A', 'E'), ('B', 'F', 'D', 'C', 'E', 'A'), ('B', 'F', 'D', 'E', 'A', 'C'), ('B', 'F', 'D', 'E', 'C', 'A'), ('B', 'F', 'E', 'A', 'C', 'D'), ('B', 'F', 'E', 'A', 'D', 'C'), ('B', 'F', 'E', 'C', 'A', 'D'), ('B', 'F', 'E', 'C', 'D', 'A'), ('B', 'F', 'E', 'D', 'A', 'C'), ('B', 'F', 'E', 'D', 'C', 'A'), ('C', 'A', 'B', 'D', 'E', 'F'), ('C', 'A', 'B', 'D', 'F', 'E'), ('C', 'A', 'B', 'E', 'D', 'F'), ('C', 'A', 'B', 'E', 'F', 'D'), ('C', 'A', 'B', 'F', 'D', 'E'), ('C', 'A', 'B', 'F', 'E', 'D'), ('C', 'A', 'D', 'B', 'E', 'F'), ('C', 'A', 'D', 'B', 'F', 'E'), ('C', 'A', 'D', 'E', 'B', 'F'), ('C', 'A', 'D', 'E', 'F', 'B'), ('C', 'A', 'D', 'F', 'B', 'E'), ('C', 'A', 'D', 'F', 'E', 'B'), ('C', 'A', 'E', 'B', 'D', 'F'), ('C', 'A', 'E', 'B', 'F', 'D'), ('C', 'A', 'E', 'D', 'B', 'F'), ('C', 'A', 'E', 'D', 'F', 'B'), ('C', 'A', 'E', 'F', 'B', 'D'), ('C', 'A', 'E', 'F', 'D', 'B'), ('C', 'A', 'F', 'B', 'D', 'E'), ('C', 'A', 'F', 'B', 'E', 'D'), ('C', 'A', 'F', 'D', 'B', 'E'), ('C', 'A', 'F', 'D', 'E', 'B'), ('C', 'A', 'F', 'E', 'B', 'D'), ('C', 'A', 'F', 'E', 'D', 'B'), ('C', 'B', 'A', 'D', 'E', 'F'), ('C', 'B', 'A', 'D', 'F', 'E'), ('C', 'B', 'A', 'E', 'D', 'F'), ('C', 'B', 'A', 'E', 'F', 'D'), ('C', 'B', 'A', 'F', 'D', 'E'), ('C', 'B', 'A', 'F', 'E', 'D'), ('C', 'B', 'D', 'A', 'E', 'F'), ('C', 'B', 'D', 'A', 'F', 'E'), ('C', 'B', 'D', 'E', 'A', 'F'), ('C', 'B', 'D', 'E', 'F', 'A'), ('C', 'B', 'D', 'F', 'A', 'E'), ('C', 'B', 'D', 'F', 'E', 'A'), ('C', 'B', 'E', 'A', 'D', 'F'), ('C', 'B', 'E', 'A', 'F', 'D'), ('C', 'B', 'E', 'D', 'A', 'F'), ('C', 'B', 'E', 'D', 'F', 'A'), ('C', 'B', 'E', 'F', 'A', 'D'), ('C', 'B', 'E', 'F', 'D', 'A'), ('C', 'B', 'F', 'A', 'D', 'E'), ('C', 'B', 'F', 'A', 'E', 'D'), ('C', 'B', 'F', 'D', 'A', 'E'), ('C', 'B', 'F', 'D', 'E', 'A'), ('C', 'B', 'F', 'E', 'A', 'D'), ('C', 'B', 'F', 'E', 'D', 'A'), ('C', 'D', 'A', 'B', 'E', 'F'), ('C', 'D', 'A', 'B', 'F', 'E'), ('C', 'D', 'A', 'E', 'B', 'F'), ('C', 'D', 'A', 'E', 'F', 'B'), ('C', 'D', 'A', 'F', 'B', 'E'), ('C', 'D', 'A', 'F', 'E', 'B'), ('C', 'D', 'B', 'A', 'E', 'F'), ('C', 'D', 'B', 'A', 'F', 'E'), ('C', 'D', 'B', 'E', 'A', 'F'), ('C', 'D', 'B', 'E', 'F', 'A'), ('C', 'D', 'B', 'F', 'A', 'E'), ('C', 'D', 'B', 'F', 'E', 'A'), ('C', 'D', 'E', 'A', 'B', 'F'), ('C', 'D', 'E', 'A', 'F', 'B'), ('C', 'D', 'E', 'B', 'A', 'F'), ('C', 'D', 'E', 'B', 'F', 'A'), ('C', 'D', 'E', 'F', 'A', 'B'), ('C', 'D', 'E', 'F', 'B', 'A'), ('C', 'D', 'F', 'A', 'B', 'E'), ('C', 'D', 'F', 'A', 'E', 'B'), ('C', 'D', 'F', 'B', 'A', 'E'), ('C', 'D', 'F', 'B', 'E', 'A'), ('C', 'D', 'F', 'E', 'A', 'B'), ('C', 'D', 'F', 'E', 'B', 'A'), ('C', 'E', 'A', 'B', 'D', 'F'), ('C', 'E', 'A', 'B', 'F', 'D'), ('C', 'E', 'A', 'D', 'B', 'F'), ('C', 'E', 'A', 'D', 'F', 'B'), ('C', 'E', 'A', 'F', 'B', 'D'), ('C', 'E', 'A', 'F', 'D', 'B'), ('C', 'E', 'B', 'A', 'D', 'F'), ('C', 'E', 'B', 'A', 'F', 'D'), ('C', 'E', 'B', 'D', 'A', 'F'), ('C', 'E', 'B', 'D', 'F', 'A'), ('C', 'E', 'B', 'F', 'A', 'D'), ('C', 'E', 'B', 'F', 'D', 'A'), ('C', 'E', 'D', 'A', 'B', 'F'), ('C', 'E', 'D', 'A', 'F', 'B'), ('C', 'E', 'D', 'B', 'A', 'F'), ('C', 'E', 'D', 'B', 'F', 'A'), ('C', 'E', 'D', 'F', 'A', 'B'), ('C', 'E', 'D', 'F', 'B', 'A'), ('C', 'E', 'F', 'A', 'B', 'D'), ('C', 'E', 'F', 'A', 'D', 'B'), ('C', 'E', 'F', 'B', 'A', 'D'), ('C', 'E', 'F', 'B', 'D', 'A'), ('C', 'E', 'F', 'D', 'A', 'B'), ('C', 'E', 'F', 'D', 'B', 'A'), ('C', 'F', 'A', 'B', 'D', 'E'), ('C', 'F', 'A', 'B', 'E', 'D'), ('C', 'F', 'A', 'D', 'B', 'E'), ('C', 'F', 'A', 'D', 'E', 'B'), ('C', 'F', 'A', 'E', 'B', 'D'), ('C', 'F', 'A', 'E', 'D', 'B'), ('C', 'F', 'B', 'A', 'D', 'E'), ('C', 'F', 'B', 'A', 'E', 'D'), ('C', 'F', 'B', 'D', 'A', 'E'), ('C', 'F', 'B', 'D', 'E', 'A'), ('C', 'F', 'B', 'E', 'A', 'D'), ('C', 'F', 'B', 'E', 'D', 'A'), ('C', 'F', 'D', 'A', 'B', 'E'), ('C', 'F', 'D', 'A', 'E', 'B'), ('C', 'F', 'D', 'B', 'A', 'E'), ('C', 'F', 'D', 'B', 'E', 'A'), ('C', 'F', 'D', 'E', 'A', 'B'), ('C', 'F', 'D', 'E', 'B', 'A'), ('C', 'F', 'E', 'A', 'B', 'D'), ('C', 'F', 'E', 'A', 'D', 'B'), ('C', 'F', 'E', 'B', 'A', 'D'), ('C', 'F', 'E', 'B', 'D', 'A'), ('C', 'F', 'E', 'D', 'A', 'B'), ('C', 'F', 'E', 'D', 'B', 'A'), ('D', 'A', 'B', 'C', 'E', 'F'), ('D', 'A', 'B', 'C', 'F', 'E'), ('D', 'A', 'B', 'E', 'C', 'F'), ('D', 'A', 'B', 'E', 'F', 'C'), ('D', 'A', 'B', 'F', 'C', 'E'), ('D', 'A', 'B', 'F', 'E', 'C'), ('D', 'A', 'C', 'B', 'E', 'F'), ('D', 'A', 'C', 'B', 'F', 'E'), ('D', 'A', 'C', 'E', 'B', 'F'), ('D', 'A', 'C', 'E', 'F', 'B'), ('D', 'A', 'C', 'F', 'B', 'E'), ('D', 'A', 'C', 'F', 'E', 'B'), ('D', 'A', 'E', 'B', 'C', 'F'), ('D', 'A', 'E', 'B', 'F', 'C'), ('D', 'A', 'E', 'C', 'B', 'F'), ('D', 'A', 'E', 'C', 'F', 'B'), ('D', 'A', 'E', 'F', 'B', 'C'), ('D', 'A', 'E', 'F', 'C', 'B'), ('D', 'A', 'F', 'B', 'C', 'E'), ('D', 'A', 'F', 'B', 'E', 'C'), ('D', 'A', 'F', 'C', 'B', 'E'), ('D', 'A', 'F', 'C', 'E', 'B'), ('D', 'A', 'F', 'E', 'B', 'C'), ('D', 'A', 'F', 'E', 'C', 'B'), ('D', 'B', 'A', 'C', 'E', 'F'), ('D', 'B', 'A', 'C', 'F', 'E'), ('D', 'B', 'A', 'E', 'C', 'F'), ('D', 'B', 'A', 'E', 'F', 'C'), ('D', 'B', 'A', 'F', 'C', 'E'), ('D', 'B', 'A', 'F', 'E', 'C'), ('D', 'B', 'C', 'A', 'E', 'F'), ('D', 'B', 'C', 'A', 'F', 'E'), ('D', 'B', 'C', 'E', 'A', 'F'), ('D', 'B', 'C', 'E', 'F', 'A'), ('D', 'B', 'C', 'F', 'A', 'E'), ('D', 'B', 'C', 'F', 'E', 'A'), ('D', 'B', 'E', 'A', 'C', 'F'), ('D', 'B', 'E', 'A', 'F', 'C'), ('D', 'B', 'E', 'C', 'A', 'F'), ('D', 'B', 'E', 'C', 'F', 'A'), ('D', 'B', 'E', 'F', 'A', 'C'), ('D', 'B', 'E', 'F', 'C', 'A'), ('D', 'B', 'F', 'A', 'C', 'E'), ('D', 'B', 'F', 'A', 'E', 'C'), ('D', 'B', 'F', 'C', 'A', 'E'), ('D', 'B', 'F', 'C', 'E', 'A'), ('D', 'B', 'F', 'E', 'A', 'C'), ('D', 'B', 'F', 'E', 'C', 'A'), ('D', 'C', 'A', 'B', 'E', 'F'), ('D', 'C', 'A', 'B', 'F', 'E'), ('D', 'C', 'A', 'E', 'B', 'F'), ('D', 'C', 'A', 'E', 'F', 'B'), ('D', 'C', 'A', 'F', 'B', 'E'), ('D', 'C', 'A', 'F', 'E', 'B'), ('D', 'C', 'B', 'A', 'E', 'F'), ('D', 'C', 'B', 'A', 'F', 'E'), ('D', 'C', 'B', 'E', 'A', 'F'), ('D', 'C', 'B', 'E', 'F', 'A'), ('D', 'C', 'B', 'F', 'A', 'E'), ('D', 'C', 'B', 'F', 'E', 'A'), ('D', 'C', 'E', 'A', 'B', 'F'), ('D', 'C', 'E', 'A', 'F', 'B'), ('D', 'C', 'E', 'B', 'A', 'F'), ('D', 'C', 'E', 'B', 'F', 'A'), ('D', 'C', 'E', 'F', 'A', 'B'), ('D', 'C', 'E', 'F', 'B', 'A'), ('D', 'C', 'F', 'A', 'B', 'E'), ('D', 'C', 'F', 'A', 'E', 'B'), ('D', 'C', 'F', 'B', 'A', 'E'), ('D', 'C', 'F', 'B', 'E', 'A'), ('D', 'C', 'F', 'E', 'A', 'B'), ('D', 'C', 'F', 'E', 'B', 'A'), ('D', 'E', 'A', 'B', 'C', 'F'), ('D', 'E', 'A', 'B', 'F', 'C'), ('D', 'E', 'A', 'C', 'B', 'F'), ('D', 'E', 'A', 'C', 'F', 'B'), ('D', 'E', 'A', 'F', 'B', 'C'), ('D', 'E', 'A', 'F', 'C', 'B'), ('D', 'E', 'B', 'A', 'C', 'F'), ('D', 'E', 'B', 'A', 'F', 'C'), ('D', 'E', 'B', 'C', 'A', 'F'), ('D', 'E', 'B', 'C', 'F', 'A'), ('D', 'E', 'B', 'F', 'A', 'C'), ('D', 'E', 'B', 'F', 'C', 'A'), ('D', 'E', 'C', 'A', 'B', 'F'), ('D', 'E', 'C', 'A', 'F', 'B'), ('D', 'E', 'C', 'B', 'A', 'F'), ('D', 'E', 'C', 'B', 'F', 'A'), ('D', 'E', 'C', 'F', 'A', 'B'), ('D', 'E', 'C', 'F', 'B', 'A'), ('D', 'E', 'F', 'A', 'B', 'C'), ('D', 'E', 'F', 'A', 'C', 'B'), ('D', 'E', 'F', 'B', 'A', 'C'), ('D', 'E', 'F', 'B', 'C', 'A'), ('D', 'E', 'F', 'C', 'A', 'B'), ('D', 'E', 'F', 'C', 'B', 'A'), ('D', 'F', 'A', 'B', 'C', 'E'), ('D', 'F', 'A', 'B', 'E', 'C'), ('D', 'F', 'A', 'C', 'B', 'E'), ('D', 'F', 'A', 'C', 'E', 'B'), ('D', 'F', 'A', 'E', 'B', 'C'), ('D', 'F', 'A', 'E', 'C', 'B'), ('D', 'F', 'B', 'A', 'C', 'E'), ('D', 'F', 'B', 'A', 'E', 'C'), ('D', 'F', 'B', 'C', 'A', 'E'), ('D', 'F', 'B', 'C', 'E', 'A'), ('D', 'F', 'B', 'E', 'A', 'C'), ('D', 'F', 'B', 'E', 'C', 'A'), ('D', 'F', 'C', 'A', 'B', 'E'), ('D', 'F', 'C', 'A', 'E', 'B'), ('D', 'F', 'C', 'B', 'A', 'E'), ('D', 'F', 'C', 'B', 'E', 'A'), ('D', 'F', 'C', 'E', 'A', 'B'), ('D', 'F', 'C', 'E', 'B', 'A'), ('D', 'F', 'E', 'A', 'B', 'C'), ('D', 'F', 'E', 'A', 'C', 'B'), ('D', 'F', 'E', 'B', 'A', 'C'), ('D', 'F', 'E', 'B', 'C', 'A'), ('D', 'F', 'E', 'C', 'A', 'B'), ('D', 'F', 'E', 'C', 'B', 'A'), ('E', 'A', 'B', 'C', 'D', 'F'), ('E', 'A', 'B', 'C', 'F', 'D'), ('E', 'A', 'B', 'D', 'C', 'F'), ('E', 'A', 'B', 'D', 'F', 'C'), ('E', 'A', 'B', 'F', 'C', 'D'), ('E', 'A', 'B', 'F', 'D', 'C'), ('E', 'A', 'C', 'B', 'D', 'F'), ('E', 'A', 'C', 'B', 'F', 'D'), ('E', 'A', 'C', 'D', 'B', 'F'), ('E', 'A', 'C', 'D', 'F', 'B'), ('E', 'A', 'C', 'F', 'B', 'D'), ('E', 'A', 'C', 'F', 'D', 'B'), ('E', 'A', 'D', 'B', 'C', 'F'), ('E', 'A', 'D', 'B', 'F', 'C'), ('E', 'A', 'D', 'C', 'B', 'F'), ('E', 'A', 'D', 'C', 'F', 'B'), ('E', 'A', 'D', 'F', 'B', 'C'), ('E', 'A', 'D', 'F', 'C', 'B'), ('E', 'A', 'F', 'B', 'C', 'D'), ('E', 'A', 'F', 'B', 'D', 'C'), ('E', 'A', 'F', 'C', 'B', 'D'), ('E', 'A', 'F', 'C', 'D', 'B'), ('E', 'A', 'F', 'D', 'B', 'C'), ('E', 'A', 'F', 'D', 'C', 'B'), ('E', 'B', 'A', 'C', 'D', 'F'), ('E', 'B', 'A', 'C', 'F', 'D'), ('E', 'B', 'A', 'D', 'C', 'F'), ('E', 'B', 'A', 'D', 'F', 'C'), ('E', 'B', 'A', 'F', 'C', 'D'), ('E', 'B', 'A', 'F', 'D', 'C'), ('E', 'B', 'C', 'A', 'D', 'F'), ('E', 'B', 'C', 'A', 'F', 'D'), ('E', 'B', 'C', 'D', 'A', 'F'), ('E', 'B', 'C', 'D', 'F', 'A'), ('E', 'B', 'C', 'F', 'A', 'D'), ('E', 'B', 'C', 'F', 'D', 'A'), ('E', 'B', 'D', 'A', 'C', 'F'), ('E', 'B', 'D', 'A', 'F', 'C'), ('E', 'B', 'D', 'C', 'A', 'F'), ('E', 'B', 'D', 'C', 'F', 'A'), ('E', 'B', 'D', 'F', 'A', 'C'), ('E', 'B', 'D', 'F', 'C', 'A'), ('E', 'B', 'F', 'A', 'C', 'D'), ('E', 'B', 'F', 'A', 'D', 'C'), ('E', 'B', 'F', 'C', 'A', 'D'), ('E', 'B', 'F', 'C', 'D', 'A'), ('E', 'B', 'F', 'D', 'A', 'C'), ('E', 'B', 'F', 'D', 'C', 'A'), ('E', 'C', 'A', 'B', 'D', 'F'), ('E', 'C', 'A', 'B', 'F', 'D'), ('E', 'C', 'A', 'D', 'B', 'F'), ('E', 'C', 'A', 'D', 'F', 'B'), ('E', 'C', 'A', 'F', 'B', 'D'), ('E', 'C', 'A', 'F', 'D', 'B'), ('E', 'C', 'B', 'A', 'D', 'F'), ('E', 'C', 'B', 'A', 'F', 'D'), ('E', 'C', 'B', 'D', 'A', 'F'), ('E', 'C', 'B', 'D', 'F', 'A'), ('E', 'C', 'B', 'F', 'A', 'D'), ('E', 'C', 'B', 'F', 'D', 'A'), ('E', 'C', 'D', 'A', 'B', 'F'), ('E', 'C', 'D', 'A', 'F', 'B'), ('E', 'C', 'D', 'B', 'A', 'F'), ('E', 'C', 'D', 'B', 'F', 'A'), ('E', 'C', 'D', 'F', 'A', 'B'), ('E', 'C', 'D', 'F', 'B', 'A'), ('E', 'C', 'F', 'A', 'B', 'D'), ('E', 'C', 'F', 'A', 'D', 'B'), ('E', 'C', 'F', 'B', 'A', 'D'), ('E', 'C', 'F', 'B', 'D', 'A'), ('E', 'C', 'F', 'D', 'A', 'B'), ('E', 'C', 'F', 'D', 'B', 'A'), ('E', 'D', 'A', 'B', 'C', 'F'), ('E', 'D', 'A', 'B', 'F', 'C'), ('E', 'D', 'A', 'C', 'B', 'F'), ('E', 'D', 'A', 'C', 'F', 'B'), ('E', 'D', 'A', 'F', 'B', 'C'), ('E', 'D', 'A', 'F', 'C', 'B'), ('E', 'D', 'B', 'A', 'C', 'F'), ('E', 'D', 'B', 'A', 'F', 'C'), ('E', 'D', 'B', 'C', 'A', 'F'), ('E', 'D', 'B', 'C', 'F', 'A'), ('E', 'D', 'B', 'F', 'A', 'C'), ('E', 'D', 'B', 'F', 'C', 'A'), ('E', 'D', 'C', 'A', 'B', 'F'), ('E', 'D', 'C', 'A', 'F', 'B'), ('E', 'D', 'C', 'B', 'A', 'F'), ('E', 'D', 'C', 'B', 'F', 'A'), ('E', 'D', 'C', 'F', 'A', 'B'), ('E', 'D', 'C', 'F', 'B', 'A'), ('E', 'D', 'F', 'A', 'B', 'C'), ('E', 'D', 'F', 'A', 'C', 'B'), ('E', 'D', 'F', 'B', 'A', 'C'), ('E', 'D', 'F', 'B', 'C', 'A'), ('E', 'D', 'F', 'C', 'A', 'B'), ('E', 'D', 'F', 'C', 'B', 'A'), ('E', 'F', 'A', 'B', 'C', 'D'), ('E', 'F', 'A', 'B', 'D', 'C'), ('E', 'F', 'A', 'C', 'B', 'D'), ('E', 'F', 'A', 'C', 'D', 'B'), ('E', 'F', 'A', 'D', 'B', 'C'), ('E', 'F', 'A', 'D', 'C', 'B'), ('E', 'F', 'B', 'A', 'C', 'D'), ('E', 'F', 'B', 'A', 'D', 'C'), ('E', 'F', 'B', 'C', 'A', 'D'), ('E', 'F', 'B', 'C', 'D', 'A'), ('E', 'F', 'B', 'D', 'A', 'C'), ('E', 'F', 'B', 'D', 'C', 'A'), ('E', 'F', 'C', 'A', 'B', 'D'), ('E', 'F', 'C', 'A', 'D', 'B'), ('E', 'F', 'C', 'B', 'A', 'D'), ('E', 'F', 'C', 'B', 'D', 'A'), ('E', 'F', 'C', 'D', 'A', 'B'), ('E', 'F', 'C', 'D', 'B', 'A'), ('E', 'F', 'D', 'A', 'B', 'C'), ('E', 'F', 'D', 'A', 'C', 'B'), ('E', 'F', 'D', 'B', 'A', 'C'), ('E', 'F', 'D', 'B', 'C', 'A'), ('E', 'F', 'D', 'C', 'A', 'B'), ('E', 'F', 'D', 'C', 'B', 'A'), ('F', 'A', 'B', 'C', 'D', 'E'), ('F', 'A', 'B', 'C', 'E', 'D'), ('F', 'A', 'B', 'D', 'C', 'E'), ('F', 'A', 'B', 'D', 'E', 'C'), ('F', 'A', 'B', 'E', 'C', 'D'), ('F', 'A', 'B', 'E', 'D', 'C'), ('F', 'A', 'C', 'B', 'D', 'E'), ('F', 'A', 'C', 'B', 'E', 'D'), ('F', 'A', 'C', 'D', 'B', 'E'), ('F', 'A', 'C', 'D', 'E', 'B'), ('F', 'A', 'C', 'E', 'B', 'D'), ('F', 'A', 'C', 'E', 'D', 'B'), ('F', 'A', 'D', 'B', 'C', 'E'), ('F', 'A', 'D', 'B', 'E', 'C'), ('F', 'A', 'D', 'C', 'B', 'E'), ('F', 'A', 'D', 'C', 'E', 'B'), ('F', 'A', 'D', 'E', 'B', 'C'), ('F', 'A', 'D', 'E', 'C', 'B'), ('F', 'A', 'E', 'B', 'C', 'D'), ('F', 'A', 'E', 'B', 'D', 'C'), ('F', 'A', 'E', 'C', 'B', 'D'), ('F', 'A', 'E', 'C', 'D', 'B'), ('F', 'A', 'E', 'D', 'B', 'C'), ('F', 'A', 'E', 'D', 'C', 'B'), ('F', 'B', 'A', 'C', 'D', 'E'), ('F', 'B', 'A', 'C', 'E', 'D'), ('F', 'B', 'A', 'D', 'C', 'E'), ('F', 'B', 'A', 'D', 'E', 'C'), ('F', 'B', 'A', 'E', 'C', 'D'), ('F', 'B', 'A', 'E', 'D', 'C'), ('F', 'B', 'C', 'A', 'D', 'E'), ('F', 'B', 'C', 'A', 'E', 'D'), ('F', 'B', 'C', 'D', 'A', 'E'), ('F', 'B', 'C', 'D', 'E', 'A'), ('F', 'B', 'C', 'E', 'A', 'D'), ('F', 'B', 'C', 'E', 'D', 'A'), ('F', 'B', 'D', 'A', 'C', 'E'), ('F', 'B', 'D', 'A', 'E', 'C'), ('F', 'B', 'D', 'C', 'A', 'E'), ('F', 'B', 'D', 'C', 'E', 'A'), ('F', 'B', 'D', 'E', 'A', 'C'), ('F', 'B', 'D', 'E', 'C', 'A'), ('F', 'B', 'E', 'A', 'C', 'D'), ('F', 'B', 'E', 'A', 'D', 'C'), ('F', 'B', 'E', 'C', 'A', 'D'), ('F', 'B', 'E', 'C', 'D', 'A'), ('F', 'B', 'E', 'D', 'A', 'C'), ('F', 'B', 'E', 'D', 'C', 'A'), ('F', 'C', 'A', 'B', 'D', 'E'), ('F', 'C', 'A', 'B', 'E', 'D'), ('F', 'C', 'A', 'D', 'B', 'E'), ('F', 'C', 'A', 'D', 'E', 'B'), ('F', 'C', 'A', 'E', 'B', 'D'), ('F', 'C', 'A', 'E', 'D', 'B'), ('F', 'C', 'B', 'A', 'D', 'E'), ('F', 'C', 'B', 'A', 'E', 'D'), ('F', 'C', 'B', 'D', 'A', 'E'), ('F', 'C', 'B', 'D', 'E', 'A'), ('F', 'C', 'B', 'E', 'A', 'D'), ('F', 'C', 'B', 'E', 'D', 'A'), ('F', 'C', 'D', 'A', 'B', 'E'), ('F', 'C', 'D', 'A', 'E', 'B'), ('F', 'C', 'D', 'B', 'A', 'E'), ('F', 'C', 'D', 'B', 'E', 'A'), ('F', 'C', 'D', 'E', 'A', 'B'), ('F', 'C', 'D', 'E', 'B', 'A'), ('F', 'C', 'E', 'A', 'B', 'D'), ('F', 'C', 'E', 'A', 'D', 'B'), ('F', 'C', 'E', 'B', 'A', 'D'), ('F', 'C', 'E', 'B', 'D', 'A'), ('F', 'C', 'E', 'D', 'A', 'B'), ('F', 'C', 'E', 'D', 'B', 'A'), ('F', 'D', 'A', 'B', 'C', 'E'), ('F', 'D', 'A', 'B', 'E', 'C'), ('F', 'D', 'A', 'C', 'B', 'E'), ('F', 'D', 'A', 'C', 'E', 'B'), ('F', 'D', 'A', 'E', 'B', 'C'), ('F', 'D', 'A', 'E', 'C', 'B'), ('F', 'D', 'B', 'A', 'C', 'E'), ('F', 'D', 'B', 'A', 'E', 'C'), ('F', 'D', 'B', 'C', 'A', 'E'), ('F', 'D', 'B', 'C', 'E', 'A'), ('F', 'D', 'B', 'E', 'A', 'C'), ('F', 'D', 'B', 'E', 'C', 'A'), ('F', 'D', 'C', 'A', 'B', 'E'), ('F', 'D', 'C', 'A', 'E', 'B'), ('F', 'D', 'C', 'B', 'A', 'E'), ('F', 'D', 'C', 'B', 'E', 'A'), ('F', 'D', 'C', 'E', 'A', 'B'), ('F', 'D', 'C', 'E', 'B', 'A'), ('F', 'D', 'E', 'A', 'B', 'C'), ('F', 'D', 'E', 'A', 'C', 'B'), ('F', 'D', 'E', 'B', 'A', 'C'), ('F', 'D', 'E', 'B', 'C', 'A'), ('F', 'D', 'E', 'C', 'A', 'B'), ('F', 'D', 'E', 'C', 'B', 'A'), ('F', 'E', 'A', 'B', 'C', 'D'), ('F', 'E', 'A', 'B', 'D', 'C'), ('F', 'E', 'A', 'C', 'B', 'D'), ('F', 'E', 'A', 'C', 'D', 'B'), ('F', 'E', 'A', 'D', 'B', 'C'), ('F', 'E', 'A', 'D', 'C', 'B'), ('F', 'E', 'B', 'A', 'C', 'D'), ('F', 'E', 'B', 'A', 'D', 'C'), ('F', 'E', 'B', 'C', 'A', 'D'), ('F', 'E', 'B', 'C', 'D', 'A'), ('F', 'E', 'B', 'D', 'A', 'C'), ('F', 'E', 'B', 'D', 'C', 'A'), ('F', 'E', 'C', 'A', 'B', 'D'), ('F', 'E', 'C', 'A', 'D', 'B'), ('F', 'E', 'C', 'B', 'A', 'D'), ('F', 'E', 'C', 'B', 'D', 'A'), ('F', 'E', 'C', 'D', 'A', 'B'), ('F', 'E', 'C', 'D', 'B', 'A'), ('F', 'E', 'D', 'A', 'B', 'C'), ('F', 'E', 'D', 'A', 'C', 'B'), ('F', 'E', 'D', 'B', 'A', 'C'), ('F', 'E', 'D', 'B', 'C', 'A'), ('F', 'E', 'D', 'C', 'A', 'B'), ('F', 'E', 'D', 'C', 'B', 'A')]\n",
      "720\n"
     ]
    }
   ],
   "source": [
    "# See https://stackoverflow.com/a/34032549\n",
    "import itertools\n",
    "\n",
    "agent1 = ['A', 'B', 'C', 'D', 'E','F']\n",
    "    \n",
    "trading_scenario = list(itertools.permutations(Agent1))\n",
    "print(trading_scenario)\n",
    "\n",
    "trading_scenario = [x[0] for x in trading_scenario]\n",
    "\n",
    "combinations = {\n",
    "    'Actors': trading_scenario \n",
    "}\n",
    "\n",
    "Amount_combinations = len(trading_scenario)\n",
    "\n",
    "print(Amount_combinations)"
   ]
  },
  {
   "cell_type": "code",
   "execution_count": 44,
   "metadata": {
    "scrolled": false
   },
   "outputs": [
    {
     "name": "stdout",
     "output_type": "stream",
     "text": [
      "[('A', 'B', 'C', 'D', 'E', 'F'), ('A', 'B', 'C', 'D', 'F', 'E'), ('A', 'B', 'C', 'E', 'D', 'F'), ('A', 'B', 'C', 'E', 'F', 'D'), ('A', 'B', 'C', 'F', 'D', 'E'), ('A', 'B', 'C', 'F', 'E', 'D'), ('A', 'B', 'D', 'C', 'E', 'F'), ('A', 'B', 'D', 'C', 'F', 'E'), ('A', 'B', 'D', 'E', 'C', 'F'), ('A', 'B', 'D', 'E', 'F', 'C'), ('A', 'B', 'D', 'F', 'C', 'E'), ('A', 'B', 'D', 'F', 'E', 'C'), ('A', 'B', 'E', 'C', 'D', 'F'), ('A', 'B', 'E', 'C', 'F', 'D'), ('A', 'B', 'E', 'D', 'C', 'F'), ('A', 'B', 'E', 'D', 'F', 'C'), ('A', 'B', 'E', 'F', 'C', 'D'), ('A', 'B', 'E', 'F', 'D', 'C'), ('A', 'B', 'F', 'C', 'D', 'E'), ('A', 'B', 'F', 'C', 'E', 'D'), ('A', 'B', 'F', 'D', 'C', 'E'), ('A', 'B', 'F', 'D', 'E', 'C'), ('A', 'B', 'F', 'E', 'C', 'D'), ('A', 'B', 'F', 'E', 'D', 'C'), ('A', 'C', 'B', 'D', 'E', 'F'), ('A', 'C', 'B', 'D', 'F', 'E'), ('A', 'C', 'B', 'E', 'D', 'F'), ('A', 'C', 'B', 'E', 'F', 'D'), ('A', 'C', 'B', 'F', 'D', 'E'), ('A', 'C', 'B', 'F', 'E', 'D'), ('A', 'C', 'D', 'B', 'E', 'F'), ('A', 'C', 'D', 'B', 'F', 'E'), ('A', 'C', 'D', 'E', 'B', 'F'), ('A', 'C', 'D', 'E', 'F', 'B'), ('A', 'C', 'D', 'F', 'B', 'E'), ('A', 'C', 'D', 'F', 'E', 'B'), ('A', 'C', 'E', 'B', 'D', 'F'), ('A', 'C', 'E', 'B', 'F', 'D'), ('A', 'C', 'E', 'D', 'B', 'F'), ('A', 'C', 'E', 'D', 'F', 'B'), ('A', 'C', 'E', 'F', 'B', 'D'), ('A', 'C', 'E', 'F', 'D', 'B'), ('A', 'C', 'F', 'B', 'D', 'E'), ('A', 'C', 'F', 'B', 'E', 'D'), ('A', 'C', 'F', 'D', 'B', 'E'), ('A', 'C', 'F', 'D', 'E', 'B'), ('A', 'C', 'F', 'E', 'B', 'D'), ('A', 'C', 'F', 'E', 'D', 'B'), ('A', 'D', 'B', 'C', 'E', 'F'), ('A', 'D', 'B', 'C', 'F', 'E'), ('A', 'D', 'B', 'E', 'C', 'F'), ('A', 'D', 'B', 'E', 'F', 'C'), ('A', 'D', 'B', 'F', 'C', 'E'), ('A', 'D', 'B', 'F', 'E', 'C'), ('A', 'D', 'C', 'B', 'E', 'F'), ('A', 'D', 'C', 'B', 'F', 'E'), ('A', 'D', 'C', 'E', 'B', 'F'), ('A', 'D', 'C', 'E', 'F', 'B'), ('A', 'D', 'C', 'F', 'B', 'E'), ('A', 'D', 'C', 'F', 'E', 'B'), ('A', 'D', 'E', 'B', 'C', 'F'), ('A', 'D', 'E', 'B', 'F', 'C'), ('A', 'D', 'E', 'C', 'B', 'F'), ('A', 'D', 'E', 'C', 'F', 'B'), ('A', 'D', 'E', 'F', 'B', 'C'), ('A', 'D', 'E', 'F', 'C', 'B'), ('A', 'D', 'F', 'B', 'C', 'E'), ('A', 'D', 'F', 'B', 'E', 'C'), ('A', 'D', 'F', 'C', 'B', 'E'), ('A', 'D', 'F', 'C', 'E', 'B'), ('A', 'D', 'F', 'E', 'B', 'C'), ('A', 'D', 'F', 'E', 'C', 'B'), ('A', 'E', 'B', 'C', 'D', 'F'), ('A', 'E', 'B', 'C', 'F', 'D'), ('A', 'E', 'B', 'D', 'C', 'F'), ('A', 'E', 'B', 'D', 'F', 'C'), ('A', 'E', 'B', 'F', 'C', 'D'), ('A', 'E', 'B', 'F', 'D', 'C'), ('A', 'E', 'C', 'B', 'D', 'F'), ('A', 'E', 'C', 'B', 'F', 'D'), ('A', 'E', 'C', 'D', 'B', 'F'), ('A', 'E', 'C', 'D', 'F', 'B'), ('A', 'E', 'C', 'F', 'B', 'D'), ('A', 'E', 'C', 'F', 'D', 'B'), ('A', 'E', 'D', 'B', 'C', 'F'), ('A', 'E', 'D', 'B', 'F', 'C'), ('A', 'E', 'D', 'C', 'B', 'F'), ('A', 'E', 'D', 'C', 'F', 'B'), ('A', 'E', 'D', 'F', 'B', 'C'), ('A', 'E', 'D', 'F', 'C', 'B'), ('A', 'E', 'F', 'B', 'C', 'D'), ('A', 'E', 'F', 'B', 'D', 'C'), ('A', 'E', 'F', 'C', 'B', 'D'), ('A', 'E', 'F', 'C', 'D', 'B'), ('A', 'E', 'F', 'D', 'B', 'C'), ('A', 'E', 'F', 'D', 'C', 'B'), ('A', 'F', 'B', 'C', 'D', 'E'), ('A', 'F', 'B', 'C', 'E', 'D'), ('A', 'F', 'B', 'D', 'C', 'E'), ('A', 'F', 'B', 'D', 'E', 'C'), ('A', 'F', 'B', 'E', 'C', 'D'), ('A', 'F', 'B', 'E', 'D', 'C'), ('A', 'F', 'C', 'B', 'D', 'E'), ('A', 'F', 'C', 'B', 'E', 'D'), ('A', 'F', 'C', 'D', 'B', 'E'), ('A', 'F', 'C', 'D', 'E', 'B'), ('A', 'F', 'C', 'E', 'B', 'D'), ('A', 'F', 'C', 'E', 'D', 'B'), ('A', 'F', 'D', 'B', 'C', 'E'), ('A', 'F', 'D', 'B', 'E', 'C'), ('A', 'F', 'D', 'C', 'B', 'E'), ('A', 'F', 'D', 'C', 'E', 'B'), ('A', 'F', 'D', 'E', 'B', 'C'), ('A', 'F', 'D', 'E', 'C', 'B'), ('A', 'F', 'E', 'B', 'C', 'D'), ('A', 'F', 'E', 'B', 'D', 'C'), ('A', 'F', 'E', 'C', 'B', 'D'), ('A', 'F', 'E', 'C', 'D', 'B'), ('A', 'F', 'E', 'D', 'B', 'C'), ('A', 'F', 'E', 'D', 'C', 'B'), ('B', 'A', 'C', 'D', 'E', 'F'), ('B', 'A', 'C', 'D', 'F', 'E'), ('B', 'A', 'C', 'E', 'D', 'F'), ('B', 'A', 'C', 'E', 'F', 'D'), ('B', 'A', 'C', 'F', 'D', 'E'), ('B', 'A', 'C', 'F', 'E', 'D'), ('B', 'A', 'D', 'C', 'E', 'F'), ('B', 'A', 'D', 'C', 'F', 'E'), ('B', 'A', 'D', 'E', 'C', 'F'), ('B', 'A', 'D', 'E', 'F', 'C'), ('B', 'A', 'D', 'F', 'C', 'E'), ('B', 'A', 'D', 'F', 'E', 'C'), ('B', 'A', 'E', 'C', 'D', 'F'), ('B', 'A', 'E', 'C', 'F', 'D'), ('B', 'A', 'E', 'D', 'C', 'F'), ('B', 'A', 'E', 'D', 'F', 'C'), ('B', 'A', 'E', 'F', 'C', 'D'), ('B', 'A', 'E', 'F', 'D', 'C'), ('B', 'A', 'F', 'C', 'D', 'E'), ('B', 'A', 'F', 'C', 'E', 'D'), ('B', 'A', 'F', 'D', 'C', 'E'), ('B', 'A', 'F', 'D', 'E', 'C'), ('B', 'A', 'F', 'E', 'C', 'D'), ('B', 'A', 'F', 'E', 'D', 'C'), ('B', 'C', 'A', 'D', 'E', 'F'), ('B', 'C', 'A', 'D', 'F', 'E'), ('B', 'C', 'A', 'E', 'D', 'F'), ('B', 'C', 'A', 'E', 'F', 'D'), ('B', 'C', 'A', 'F', 'D', 'E'), ('B', 'C', 'A', 'F', 'E', 'D'), ('B', 'C', 'D', 'A', 'E', 'F'), ('B', 'C', 'D', 'A', 'F', 'E'), ('B', 'C', 'D', 'E', 'A', 'F'), ('B', 'C', 'D', 'E', 'F', 'A'), ('B', 'C', 'D', 'F', 'A', 'E'), ('B', 'C', 'D', 'F', 'E', 'A'), ('B', 'C', 'E', 'A', 'D', 'F'), ('B', 'C', 'E', 'A', 'F', 'D'), ('B', 'C', 'E', 'D', 'A', 'F'), ('B', 'C', 'E', 'D', 'F', 'A'), ('B', 'C', 'E', 'F', 'A', 'D'), ('B', 'C', 'E', 'F', 'D', 'A'), ('B', 'C', 'F', 'A', 'D', 'E'), ('B', 'C', 'F', 'A', 'E', 'D'), ('B', 'C', 'F', 'D', 'A', 'E'), ('B', 'C', 'F', 'D', 'E', 'A'), ('B', 'C', 'F', 'E', 'A', 'D'), ('B', 'C', 'F', 'E', 'D', 'A'), ('B', 'D', 'A', 'C', 'E', 'F'), ('B', 'D', 'A', 'C', 'F', 'E'), ('B', 'D', 'A', 'E', 'C', 'F'), ('B', 'D', 'A', 'E', 'F', 'C'), ('B', 'D', 'A', 'F', 'C', 'E'), ('B', 'D', 'A', 'F', 'E', 'C'), ('B', 'D', 'C', 'A', 'E', 'F'), ('B', 'D', 'C', 'A', 'F', 'E'), ('B', 'D', 'C', 'E', 'A', 'F'), ('B', 'D', 'C', 'E', 'F', 'A'), ('B', 'D', 'C', 'F', 'A', 'E'), ('B', 'D', 'C', 'F', 'E', 'A'), ('B', 'D', 'E', 'A', 'C', 'F'), ('B', 'D', 'E', 'A', 'F', 'C'), ('B', 'D', 'E', 'C', 'A', 'F'), ('B', 'D', 'E', 'C', 'F', 'A'), ('B', 'D', 'E', 'F', 'A', 'C'), ('B', 'D', 'E', 'F', 'C', 'A'), ('B', 'D', 'F', 'A', 'C', 'E'), ('B', 'D', 'F', 'A', 'E', 'C'), ('B', 'D', 'F', 'C', 'A', 'E'), ('B', 'D', 'F', 'C', 'E', 'A'), ('B', 'D', 'F', 'E', 'A', 'C'), ('B', 'D', 'F', 'E', 'C', 'A'), ('B', 'E', 'A', 'C', 'D', 'F'), ('B', 'E', 'A', 'C', 'F', 'D'), ('B', 'E', 'A', 'D', 'C', 'F'), ('B', 'E', 'A', 'D', 'F', 'C'), ('B', 'E', 'A', 'F', 'C', 'D'), ('B', 'E', 'A', 'F', 'D', 'C'), ('B', 'E', 'C', 'A', 'D', 'F'), ('B', 'E', 'C', 'A', 'F', 'D'), ('B', 'E', 'C', 'D', 'A', 'F'), ('B', 'E', 'C', 'D', 'F', 'A'), ('B', 'E', 'C', 'F', 'A', 'D'), ('B', 'E', 'C', 'F', 'D', 'A'), ('B', 'E', 'D', 'A', 'C', 'F'), ('B', 'E', 'D', 'A', 'F', 'C'), ('B', 'E', 'D', 'C', 'A', 'F'), ('B', 'E', 'D', 'C', 'F', 'A'), ('B', 'E', 'D', 'F', 'A', 'C'), ('B', 'E', 'D', 'F', 'C', 'A'), ('B', 'E', 'F', 'A', 'C', 'D'), ('B', 'E', 'F', 'A', 'D', 'C'), ('B', 'E', 'F', 'C', 'A', 'D'), ('B', 'E', 'F', 'C', 'D', 'A'), ('B', 'E', 'F', 'D', 'A', 'C'), ('B', 'E', 'F', 'D', 'C', 'A'), ('B', 'F', 'A', 'C', 'D', 'E'), ('B', 'F', 'A', 'C', 'E', 'D'), ('B', 'F', 'A', 'D', 'C', 'E'), ('B', 'F', 'A', 'D', 'E', 'C'), ('B', 'F', 'A', 'E', 'C', 'D'), ('B', 'F', 'A', 'E', 'D', 'C'), ('B', 'F', 'C', 'A', 'D', 'E'), ('B', 'F', 'C', 'A', 'E', 'D'), ('B', 'F', 'C', 'D', 'A', 'E'), ('B', 'F', 'C', 'D', 'E', 'A'), ('B', 'F', 'C', 'E', 'A', 'D'), ('B', 'F', 'C', 'E', 'D', 'A'), ('B', 'F', 'D', 'A', 'C', 'E'), ('B', 'F', 'D', 'A', 'E', 'C'), ('B', 'F', 'D', 'C', 'A', 'E'), ('B', 'F', 'D', 'C', 'E', 'A'), ('B', 'F', 'D', 'E', 'A', 'C'), ('B', 'F', 'D', 'E', 'C', 'A'), ('B', 'F', 'E', 'A', 'C', 'D'), ('B', 'F', 'E', 'A', 'D', 'C'), ('B', 'F', 'E', 'C', 'A', 'D'), ('B', 'F', 'E', 'C', 'D', 'A'), ('B', 'F', 'E', 'D', 'A', 'C'), ('B', 'F', 'E', 'D', 'C', 'A'), ('C', 'A', 'B', 'D', 'E', 'F'), ('C', 'A', 'B', 'D', 'F', 'E'), ('C', 'A', 'B', 'E', 'D', 'F'), ('C', 'A', 'B', 'E', 'F', 'D'), ('C', 'A', 'B', 'F', 'D', 'E'), ('C', 'A', 'B', 'F', 'E', 'D'), ('C', 'A', 'D', 'B', 'E', 'F'), ('C', 'A', 'D', 'B', 'F', 'E'), ('C', 'A', 'D', 'E', 'B', 'F'), ('C', 'A', 'D', 'E', 'F', 'B'), ('C', 'A', 'D', 'F', 'B', 'E'), ('C', 'A', 'D', 'F', 'E', 'B'), ('C', 'A', 'E', 'B', 'D', 'F'), ('C', 'A', 'E', 'B', 'F', 'D'), ('C', 'A', 'E', 'D', 'B', 'F'), ('C', 'A', 'E', 'D', 'F', 'B'), ('C', 'A', 'E', 'F', 'B', 'D'), ('C', 'A', 'E', 'F', 'D', 'B'), ('C', 'A', 'F', 'B', 'D', 'E'), ('C', 'A', 'F', 'B', 'E', 'D'), ('C', 'A', 'F', 'D', 'B', 'E'), ('C', 'A', 'F', 'D', 'E', 'B'), ('C', 'A', 'F', 'E', 'B', 'D'), ('C', 'A', 'F', 'E', 'D', 'B'), ('C', 'B', 'A', 'D', 'E', 'F'), ('C', 'B', 'A', 'D', 'F', 'E'), ('C', 'B', 'A', 'E', 'D', 'F'), ('C', 'B', 'A', 'E', 'F', 'D'), ('C', 'B', 'A', 'F', 'D', 'E'), ('C', 'B', 'A', 'F', 'E', 'D'), ('C', 'B', 'D', 'A', 'E', 'F'), ('C', 'B', 'D', 'A', 'F', 'E'), ('C', 'B', 'D', 'E', 'A', 'F'), ('C', 'B', 'D', 'E', 'F', 'A'), ('C', 'B', 'D', 'F', 'A', 'E'), ('C', 'B', 'D', 'F', 'E', 'A'), ('C', 'B', 'E', 'A', 'D', 'F'), ('C', 'B', 'E', 'A', 'F', 'D'), ('C', 'B', 'E', 'D', 'A', 'F'), ('C', 'B', 'E', 'D', 'F', 'A'), ('C', 'B', 'E', 'F', 'A', 'D'), ('C', 'B', 'E', 'F', 'D', 'A'), ('C', 'B', 'F', 'A', 'D', 'E'), ('C', 'B', 'F', 'A', 'E', 'D'), ('C', 'B', 'F', 'D', 'A', 'E'), ('C', 'B', 'F', 'D', 'E', 'A'), ('C', 'B', 'F', 'E', 'A', 'D'), ('C', 'B', 'F', 'E', 'D', 'A'), ('C', 'D', 'A', 'B', 'E', 'F'), ('C', 'D', 'A', 'B', 'F', 'E'), ('C', 'D', 'A', 'E', 'B', 'F'), ('C', 'D', 'A', 'E', 'F', 'B'), ('C', 'D', 'A', 'F', 'B', 'E'), ('C', 'D', 'A', 'F', 'E', 'B'), ('C', 'D', 'B', 'A', 'E', 'F'), ('C', 'D', 'B', 'A', 'F', 'E'), ('C', 'D', 'B', 'E', 'A', 'F'), ('C', 'D', 'B', 'E', 'F', 'A'), ('C', 'D', 'B', 'F', 'A', 'E'), ('C', 'D', 'B', 'F', 'E', 'A'), ('C', 'D', 'E', 'A', 'B', 'F'), ('C', 'D', 'E', 'A', 'F', 'B'), ('C', 'D', 'E', 'B', 'A', 'F'), ('C', 'D', 'E', 'B', 'F', 'A'), ('C', 'D', 'E', 'F', 'A', 'B'), ('C', 'D', 'E', 'F', 'B', 'A'), ('C', 'D', 'F', 'A', 'B', 'E'), ('C', 'D', 'F', 'A', 'E', 'B'), ('C', 'D', 'F', 'B', 'A', 'E'), ('C', 'D', 'F', 'B', 'E', 'A'), ('C', 'D', 'F', 'E', 'A', 'B'), ('C', 'D', 'F', 'E', 'B', 'A'), ('C', 'E', 'A', 'B', 'D', 'F'), ('C', 'E', 'A', 'B', 'F', 'D'), ('C', 'E', 'A', 'D', 'B', 'F'), ('C', 'E', 'A', 'D', 'F', 'B'), ('C', 'E', 'A', 'F', 'B', 'D'), ('C', 'E', 'A', 'F', 'D', 'B'), ('C', 'E', 'B', 'A', 'D', 'F'), ('C', 'E', 'B', 'A', 'F', 'D'), ('C', 'E', 'B', 'D', 'A', 'F'), ('C', 'E', 'B', 'D', 'F', 'A'), ('C', 'E', 'B', 'F', 'A', 'D'), ('C', 'E', 'B', 'F', 'D', 'A'), ('C', 'E', 'D', 'A', 'B', 'F'), ('C', 'E', 'D', 'A', 'F', 'B'), ('C', 'E', 'D', 'B', 'A', 'F'), ('C', 'E', 'D', 'B', 'F', 'A'), ('C', 'E', 'D', 'F', 'A', 'B'), ('C', 'E', 'D', 'F', 'B', 'A'), ('C', 'E', 'F', 'A', 'B', 'D'), ('C', 'E', 'F', 'A', 'D', 'B'), ('C', 'E', 'F', 'B', 'A', 'D'), ('C', 'E', 'F', 'B', 'D', 'A'), ('C', 'E', 'F', 'D', 'A', 'B'), ('C', 'E', 'F', 'D', 'B', 'A'), ('C', 'F', 'A', 'B', 'D', 'E'), ('C', 'F', 'A', 'B', 'E', 'D'), ('C', 'F', 'A', 'D', 'B', 'E'), ('C', 'F', 'A', 'D', 'E', 'B'), ('C', 'F', 'A', 'E', 'B', 'D'), ('C', 'F', 'A', 'E', 'D', 'B'), ('C', 'F', 'B', 'A', 'D', 'E'), ('C', 'F', 'B', 'A', 'E', 'D'), ('C', 'F', 'B', 'D', 'A', 'E'), ('C', 'F', 'B', 'D', 'E', 'A'), ('C', 'F', 'B', 'E', 'A', 'D'), ('C', 'F', 'B', 'E', 'D', 'A'), ('C', 'F', 'D', 'A', 'B', 'E'), ('C', 'F', 'D', 'A', 'E', 'B'), ('C', 'F', 'D', 'B', 'A', 'E'), ('C', 'F', 'D', 'B', 'E', 'A'), ('C', 'F', 'D', 'E', 'A', 'B'), ('C', 'F', 'D', 'E', 'B', 'A'), ('C', 'F', 'E', 'A', 'B', 'D'), ('C', 'F', 'E', 'A', 'D', 'B'), ('C', 'F', 'E', 'B', 'A', 'D'), ('C', 'F', 'E', 'B', 'D', 'A'), ('C', 'F', 'E', 'D', 'A', 'B'), ('C', 'F', 'E', 'D', 'B', 'A'), ('D', 'A', 'B', 'C', 'E', 'F'), ('D', 'A', 'B', 'C', 'F', 'E'), ('D', 'A', 'B', 'E', 'C', 'F'), ('D', 'A', 'B', 'E', 'F', 'C'), ('D', 'A', 'B', 'F', 'C', 'E'), ('D', 'A', 'B', 'F', 'E', 'C'), ('D', 'A', 'C', 'B', 'E', 'F'), ('D', 'A', 'C', 'B', 'F', 'E'), ('D', 'A', 'C', 'E', 'B', 'F'), ('D', 'A', 'C', 'E', 'F', 'B'), ('D', 'A', 'C', 'F', 'B', 'E'), ('D', 'A', 'C', 'F', 'E', 'B'), ('D', 'A', 'E', 'B', 'C', 'F'), ('D', 'A', 'E', 'B', 'F', 'C'), ('D', 'A', 'E', 'C', 'B', 'F'), ('D', 'A', 'E', 'C', 'F', 'B'), ('D', 'A', 'E', 'F', 'B', 'C'), ('D', 'A', 'E', 'F', 'C', 'B'), ('D', 'A', 'F', 'B', 'C', 'E'), ('D', 'A', 'F', 'B', 'E', 'C'), ('D', 'A', 'F', 'C', 'B', 'E'), ('D', 'A', 'F', 'C', 'E', 'B'), ('D', 'A', 'F', 'E', 'B', 'C'), ('D', 'A', 'F', 'E', 'C', 'B'), ('D', 'B', 'A', 'C', 'E', 'F'), ('D', 'B', 'A', 'C', 'F', 'E'), ('D', 'B', 'A', 'E', 'C', 'F'), ('D', 'B', 'A', 'E', 'F', 'C'), ('D', 'B', 'A', 'F', 'C', 'E'), ('D', 'B', 'A', 'F', 'E', 'C'), ('D', 'B', 'C', 'A', 'E', 'F'), ('D', 'B', 'C', 'A', 'F', 'E'), ('D', 'B', 'C', 'E', 'A', 'F'), ('D', 'B', 'C', 'E', 'F', 'A'), ('D', 'B', 'C', 'F', 'A', 'E'), ('D', 'B', 'C', 'F', 'E', 'A'), ('D', 'B', 'E', 'A', 'C', 'F'), ('D', 'B', 'E', 'A', 'F', 'C'), ('D', 'B', 'E', 'C', 'A', 'F'), ('D', 'B', 'E', 'C', 'F', 'A'), ('D', 'B', 'E', 'F', 'A', 'C'), ('D', 'B', 'E', 'F', 'C', 'A'), ('D', 'B', 'F', 'A', 'C', 'E'), ('D', 'B', 'F', 'A', 'E', 'C'), ('D', 'B', 'F', 'C', 'A', 'E'), ('D', 'B', 'F', 'C', 'E', 'A'), ('D', 'B', 'F', 'E', 'A', 'C'), ('D', 'B', 'F', 'E', 'C', 'A'), ('D', 'C', 'A', 'B', 'E', 'F'), ('D', 'C', 'A', 'B', 'F', 'E'), ('D', 'C', 'A', 'E', 'B', 'F'), ('D', 'C', 'A', 'E', 'F', 'B'), ('D', 'C', 'A', 'F', 'B', 'E'), ('D', 'C', 'A', 'F', 'E', 'B'), ('D', 'C', 'B', 'A', 'E', 'F'), ('D', 'C', 'B', 'A', 'F', 'E'), ('D', 'C', 'B', 'E', 'A', 'F'), ('D', 'C', 'B', 'E', 'F', 'A'), ('D', 'C', 'B', 'F', 'A', 'E'), ('D', 'C', 'B', 'F', 'E', 'A'), ('D', 'C', 'E', 'A', 'B', 'F'), ('D', 'C', 'E', 'A', 'F', 'B'), ('D', 'C', 'E', 'B', 'A', 'F'), ('D', 'C', 'E', 'B', 'F', 'A'), ('D', 'C', 'E', 'F', 'A', 'B'), ('D', 'C', 'E', 'F', 'B', 'A'), ('D', 'C', 'F', 'A', 'B', 'E'), ('D', 'C', 'F', 'A', 'E', 'B'), ('D', 'C', 'F', 'B', 'A', 'E'), ('D', 'C', 'F', 'B', 'E', 'A'), ('D', 'C', 'F', 'E', 'A', 'B'), ('D', 'C', 'F', 'E', 'B', 'A'), ('D', 'E', 'A', 'B', 'C', 'F'), ('D', 'E', 'A', 'B', 'F', 'C'), ('D', 'E', 'A', 'C', 'B', 'F'), ('D', 'E', 'A', 'C', 'F', 'B'), ('D', 'E', 'A', 'F', 'B', 'C'), ('D', 'E', 'A', 'F', 'C', 'B'), ('D', 'E', 'B', 'A', 'C', 'F'), ('D', 'E', 'B', 'A', 'F', 'C'), ('D', 'E', 'B', 'C', 'A', 'F'), ('D', 'E', 'B', 'C', 'F', 'A'), ('D', 'E', 'B', 'F', 'A', 'C'), ('D', 'E', 'B', 'F', 'C', 'A'), ('D', 'E', 'C', 'A', 'B', 'F'), ('D', 'E', 'C', 'A', 'F', 'B'), ('D', 'E', 'C', 'B', 'A', 'F'), ('D', 'E', 'C', 'B', 'F', 'A'), ('D', 'E', 'C', 'F', 'A', 'B'), ('D', 'E', 'C', 'F', 'B', 'A'), ('D', 'E', 'F', 'A', 'B', 'C'), ('D', 'E', 'F', 'A', 'C', 'B'), ('D', 'E', 'F', 'B', 'A', 'C'), ('D', 'E', 'F', 'B', 'C', 'A'), ('D', 'E', 'F', 'C', 'A', 'B'), ('D', 'E', 'F', 'C', 'B', 'A'), ('D', 'F', 'A', 'B', 'C', 'E'), ('D', 'F', 'A', 'B', 'E', 'C'), ('D', 'F', 'A', 'C', 'B', 'E'), ('D', 'F', 'A', 'C', 'E', 'B'), ('D', 'F', 'A', 'E', 'B', 'C'), ('D', 'F', 'A', 'E', 'C', 'B'), ('D', 'F', 'B', 'A', 'C', 'E'), ('D', 'F', 'B', 'A', 'E', 'C'), ('D', 'F', 'B', 'C', 'A', 'E'), ('D', 'F', 'B', 'C', 'E', 'A'), ('D', 'F', 'B', 'E', 'A', 'C'), ('D', 'F', 'B', 'E', 'C', 'A'), ('D', 'F', 'C', 'A', 'B', 'E'), ('D', 'F', 'C', 'A', 'E', 'B'), ('D', 'F', 'C', 'B', 'A', 'E'), ('D', 'F', 'C', 'B', 'E', 'A'), ('D', 'F', 'C', 'E', 'A', 'B'), ('D', 'F', 'C', 'E', 'B', 'A'), ('D', 'F', 'E', 'A', 'B', 'C'), ('D', 'F', 'E', 'A', 'C', 'B'), ('D', 'F', 'E', 'B', 'A', 'C'), ('D', 'F', 'E', 'B', 'C', 'A'), ('D', 'F', 'E', 'C', 'A', 'B'), ('D', 'F', 'E', 'C', 'B', 'A'), ('E', 'A', 'B', 'C', 'D', 'F'), ('E', 'A', 'B', 'C', 'F', 'D'), ('E', 'A', 'B', 'D', 'C', 'F'), ('E', 'A', 'B', 'D', 'F', 'C'), ('E', 'A', 'B', 'F', 'C', 'D'), ('E', 'A', 'B', 'F', 'D', 'C'), ('E', 'A', 'C', 'B', 'D', 'F'), ('E', 'A', 'C', 'B', 'F', 'D'), ('E', 'A', 'C', 'D', 'B', 'F'), ('E', 'A', 'C', 'D', 'F', 'B'), ('E', 'A', 'C', 'F', 'B', 'D'), ('E', 'A', 'C', 'F', 'D', 'B'), ('E', 'A', 'D', 'B', 'C', 'F'), ('E', 'A', 'D', 'B', 'F', 'C'), ('E', 'A', 'D', 'C', 'B', 'F'), ('E', 'A', 'D', 'C', 'F', 'B'), ('E', 'A', 'D', 'F', 'B', 'C'), ('E', 'A', 'D', 'F', 'C', 'B'), ('E', 'A', 'F', 'B', 'C', 'D'), ('E', 'A', 'F', 'B', 'D', 'C'), ('E', 'A', 'F', 'C', 'B', 'D'), ('E', 'A', 'F', 'C', 'D', 'B'), ('E', 'A', 'F', 'D', 'B', 'C'), ('E', 'A', 'F', 'D', 'C', 'B'), ('E', 'B', 'A', 'C', 'D', 'F'), ('E', 'B', 'A', 'C', 'F', 'D'), ('E', 'B', 'A', 'D', 'C', 'F'), ('E', 'B', 'A', 'D', 'F', 'C'), ('E', 'B', 'A', 'F', 'C', 'D'), ('E', 'B', 'A', 'F', 'D', 'C'), ('E', 'B', 'C', 'A', 'D', 'F'), ('E', 'B', 'C', 'A', 'F', 'D'), ('E', 'B', 'C', 'D', 'A', 'F'), ('E', 'B', 'C', 'D', 'F', 'A'), ('E', 'B', 'C', 'F', 'A', 'D'), ('E', 'B', 'C', 'F', 'D', 'A'), ('E', 'B', 'D', 'A', 'C', 'F'), ('E', 'B', 'D', 'A', 'F', 'C'), ('E', 'B', 'D', 'C', 'A', 'F'), ('E', 'B', 'D', 'C', 'F', 'A'), ('E', 'B', 'D', 'F', 'A', 'C'), ('E', 'B', 'D', 'F', 'C', 'A'), ('E', 'B', 'F', 'A', 'C', 'D'), ('E', 'B', 'F', 'A', 'D', 'C'), ('E', 'B', 'F', 'C', 'A', 'D'), ('E', 'B', 'F', 'C', 'D', 'A'), ('E', 'B', 'F', 'D', 'A', 'C'), ('E', 'B', 'F', 'D', 'C', 'A'), ('E', 'C', 'A', 'B', 'D', 'F'), ('E', 'C', 'A', 'B', 'F', 'D'), ('E', 'C', 'A', 'D', 'B', 'F'), ('E', 'C', 'A', 'D', 'F', 'B'), ('E', 'C', 'A', 'F', 'B', 'D'), ('E', 'C', 'A', 'F', 'D', 'B'), ('E', 'C', 'B', 'A', 'D', 'F'), ('E', 'C', 'B', 'A', 'F', 'D'), ('E', 'C', 'B', 'D', 'A', 'F'), ('E', 'C', 'B', 'D', 'F', 'A'), ('E', 'C', 'B', 'F', 'A', 'D'), ('E', 'C', 'B', 'F', 'D', 'A'), ('E', 'C', 'D', 'A', 'B', 'F'), ('E', 'C', 'D', 'A', 'F', 'B'), ('E', 'C', 'D', 'B', 'A', 'F'), ('E', 'C', 'D', 'B', 'F', 'A'), ('E', 'C', 'D', 'F', 'A', 'B'), ('E', 'C', 'D', 'F', 'B', 'A'), ('E', 'C', 'F', 'A', 'B', 'D'), ('E', 'C', 'F', 'A', 'D', 'B'), ('E', 'C', 'F', 'B', 'A', 'D'), ('E', 'C', 'F', 'B', 'D', 'A'), ('E', 'C', 'F', 'D', 'A', 'B'), ('E', 'C', 'F', 'D', 'B', 'A'), ('E', 'D', 'A', 'B', 'C', 'F'), ('E', 'D', 'A', 'B', 'F', 'C'), ('E', 'D', 'A', 'C', 'B', 'F'), ('E', 'D', 'A', 'C', 'F', 'B'), ('E', 'D', 'A', 'F', 'B', 'C'), ('E', 'D', 'A', 'F', 'C', 'B'), ('E', 'D', 'B', 'A', 'C', 'F'), ('E', 'D', 'B', 'A', 'F', 'C'), ('E', 'D', 'B', 'C', 'A', 'F'), ('E', 'D', 'B', 'C', 'F', 'A'), ('E', 'D', 'B', 'F', 'A', 'C'), ('E', 'D', 'B', 'F', 'C', 'A'), ('E', 'D', 'C', 'A', 'B', 'F'), ('E', 'D', 'C', 'A', 'F', 'B'), ('E', 'D', 'C', 'B', 'A', 'F'), ('E', 'D', 'C', 'B', 'F', 'A'), ('E', 'D', 'C', 'F', 'A', 'B'), ('E', 'D', 'C', 'F', 'B', 'A'), ('E', 'D', 'F', 'A', 'B', 'C'), ('E', 'D', 'F', 'A', 'C', 'B'), ('E', 'D', 'F', 'B', 'A', 'C'), ('E', 'D', 'F', 'B', 'C', 'A'), ('E', 'D', 'F', 'C', 'A', 'B'), ('E', 'D', 'F', 'C', 'B', 'A'), ('E', 'F', 'A', 'B', 'C', 'D'), ('E', 'F', 'A', 'B', 'D', 'C'), ('E', 'F', 'A', 'C', 'B', 'D'), ('E', 'F', 'A', 'C', 'D', 'B'), ('E', 'F', 'A', 'D', 'B', 'C'), ('E', 'F', 'A', 'D', 'C', 'B'), ('E', 'F', 'B', 'A', 'C', 'D'), ('E', 'F', 'B', 'A', 'D', 'C'), ('E', 'F', 'B', 'C', 'A', 'D'), ('E', 'F', 'B', 'C', 'D', 'A'), ('E', 'F', 'B', 'D', 'A', 'C'), ('E', 'F', 'B', 'D', 'C', 'A'), ('E', 'F', 'C', 'A', 'B', 'D'), ('E', 'F', 'C', 'A', 'D', 'B'), ('E', 'F', 'C', 'B', 'A', 'D'), ('E', 'F', 'C', 'B', 'D', 'A'), ('E', 'F', 'C', 'D', 'A', 'B'), ('E', 'F', 'C', 'D', 'B', 'A'), ('E', 'F', 'D', 'A', 'B', 'C'), ('E', 'F', 'D', 'A', 'C', 'B'), ('E', 'F', 'D', 'B', 'A', 'C'), ('E', 'F', 'D', 'B', 'C', 'A'), ('E', 'F', 'D', 'C', 'A', 'B'), ('E', 'F', 'D', 'C', 'B', 'A'), ('F', 'A', 'B', 'C', 'D', 'E'), ('F', 'A', 'B', 'C', 'E', 'D'), ('F', 'A', 'B', 'D', 'C', 'E'), ('F', 'A', 'B', 'D', 'E', 'C'), ('F', 'A', 'B', 'E', 'C', 'D'), ('F', 'A', 'B', 'E', 'D', 'C'), ('F', 'A', 'C', 'B', 'D', 'E'), ('F', 'A', 'C', 'B', 'E', 'D'), ('F', 'A', 'C', 'D', 'B', 'E'), ('F', 'A', 'C', 'D', 'E', 'B'), ('F', 'A', 'C', 'E', 'B', 'D'), ('F', 'A', 'C', 'E', 'D', 'B'), ('F', 'A', 'D', 'B', 'C', 'E'), ('F', 'A', 'D', 'B', 'E', 'C'), ('F', 'A', 'D', 'C', 'B', 'E'), ('F', 'A', 'D', 'C', 'E', 'B'), ('F', 'A', 'D', 'E', 'B', 'C'), ('F', 'A', 'D', 'E', 'C', 'B'), ('F', 'A', 'E', 'B', 'C', 'D'), ('F', 'A', 'E', 'B', 'D', 'C'), ('F', 'A', 'E', 'C', 'B', 'D'), ('F', 'A', 'E', 'C', 'D', 'B'), ('F', 'A', 'E', 'D', 'B', 'C'), ('F', 'A', 'E', 'D', 'C', 'B'), ('F', 'B', 'A', 'C', 'D', 'E'), ('F', 'B', 'A', 'C', 'E', 'D'), ('F', 'B', 'A', 'D', 'C', 'E'), ('F', 'B', 'A', 'D', 'E', 'C'), ('F', 'B', 'A', 'E', 'C', 'D'), ('F', 'B', 'A', 'E', 'D', 'C'), ('F', 'B', 'C', 'A', 'D', 'E'), ('F', 'B', 'C', 'A', 'E', 'D'), ('F', 'B', 'C', 'D', 'A', 'E'), ('F', 'B', 'C', 'D', 'E', 'A'), ('F', 'B', 'C', 'E', 'A', 'D'), ('F', 'B', 'C', 'E', 'D', 'A'), ('F', 'B', 'D', 'A', 'C', 'E'), ('F', 'B', 'D', 'A', 'E', 'C'), ('F', 'B', 'D', 'C', 'A', 'E'), ('F', 'B', 'D', 'C', 'E', 'A'), ('F', 'B', 'D', 'E', 'A', 'C'), ('F', 'B', 'D', 'E', 'C', 'A'), ('F', 'B', 'E', 'A', 'C', 'D'), ('F', 'B', 'E', 'A', 'D', 'C'), ('F', 'B', 'E', 'C', 'A', 'D'), ('F', 'B', 'E', 'C', 'D', 'A'), ('F', 'B', 'E', 'D', 'A', 'C'), ('F', 'B', 'E', 'D', 'C', 'A'), ('F', 'C', 'A', 'B', 'D', 'E'), ('F', 'C', 'A', 'B', 'E', 'D'), ('F', 'C', 'A', 'D', 'B', 'E'), ('F', 'C', 'A', 'D', 'E', 'B'), ('F', 'C', 'A', 'E', 'B', 'D'), ('F', 'C', 'A', 'E', 'D', 'B'), ('F', 'C', 'B', 'A', 'D', 'E'), ('F', 'C', 'B', 'A', 'E', 'D'), ('F', 'C', 'B', 'D', 'A', 'E'), ('F', 'C', 'B', 'D', 'E', 'A'), ('F', 'C', 'B', 'E', 'A', 'D'), ('F', 'C', 'B', 'E', 'D', 'A'), ('F', 'C', 'D', 'A', 'B', 'E'), ('F', 'C', 'D', 'A', 'E', 'B'), ('F', 'C', 'D', 'B', 'A', 'E'), ('F', 'C', 'D', 'B', 'E', 'A'), ('F', 'C', 'D', 'E', 'A', 'B'), ('F', 'C', 'D', 'E', 'B', 'A'), ('F', 'C', 'E', 'A', 'B', 'D'), ('F', 'C', 'E', 'A', 'D', 'B'), ('F', 'C', 'E', 'B', 'A', 'D'), ('F', 'C', 'E', 'B', 'D', 'A'), ('F', 'C', 'E', 'D', 'A', 'B'), ('F', 'C', 'E', 'D', 'B', 'A'), ('F', 'D', 'A', 'B', 'C', 'E'), ('F', 'D', 'A', 'B', 'E', 'C'), ('F', 'D', 'A', 'C', 'B', 'E'), ('F', 'D', 'A', 'C', 'E', 'B'), ('F', 'D', 'A', 'E', 'B', 'C'), ('F', 'D', 'A', 'E', 'C', 'B'), ('F', 'D', 'B', 'A', 'C', 'E'), ('F', 'D', 'B', 'A', 'E', 'C'), ('F', 'D', 'B', 'C', 'A', 'E'), ('F', 'D', 'B', 'C', 'E', 'A'), ('F', 'D', 'B', 'E', 'A', 'C'), ('F', 'D', 'B', 'E', 'C', 'A'), ('F', 'D', 'C', 'A', 'B', 'E'), ('F', 'D', 'C', 'A', 'E', 'B'), ('F', 'D', 'C', 'B', 'A', 'E'), ('F', 'D', 'C', 'B', 'E', 'A'), ('F', 'D', 'C', 'E', 'A', 'B'), ('F', 'D', 'C', 'E', 'B', 'A'), ('F', 'D', 'E', 'A', 'B', 'C'), ('F', 'D', 'E', 'A', 'C', 'B'), ('F', 'D', 'E', 'B', 'A', 'C'), ('F', 'D', 'E', 'B', 'C', 'A'), ('F', 'D', 'E', 'C', 'A', 'B'), ('F', 'D', 'E', 'C', 'B', 'A'), ('F', 'E', 'A', 'B', 'C', 'D'), ('F', 'E', 'A', 'B', 'D', 'C'), ('F', 'E', 'A', 'C', 'B', 'D'), ('F', 'E', 'A', 'C', 'D', 'B'), ('F', 'E', 'A', 'D', 'B', 'C'), ('F', 'E', 'A', 'D', 'C', 'B'), ('F', 'E', 'B', 'A', 'C', 'D'), ('F', 'E', 'B', 'A', 'D', 'C'), ('F', 'E', 'B', 'C', 'A', 'D'), ('F', 'E', 'B', 'C', 'D', 'A'), ('F', 'E', 'B', 'D', 'A', 'C'), ('F', 'E', 'B', 'D', 'C', 'A'), ('F', 'E', 'C', 'A', 'B', 'D'), ('F', 'E', 'C', 'A', 'D', 'B'), ('F', 'E', 'C', 'B', 'A', 'D'), ('F', 'E', 'C', 'B', 'D', 'A'), ('F', 'E', 'C', 'D', 'A', 'B'), ('F', 'E', 'C', 'D', 'B', 'A'), ('F', 'E', 'D', 'A', 'B', 'C'), ('F', 'E', 'D', 'A', 'C', 'B'), ('F', 'E', 'D', 'B', 'A', 'C'), ('F', 'E', 'D', 'B', 'C', 'A'), ('F', 'E', 'D', 'C', 'A', 'B'), ('F', 'E', 'D', 'C', 'B', 'A')]\n",
      "720\n"
     ]
    }
   ],
   "source": [
    "# See https://stackoverflow.com/a/34032549\n",
    "import itertools\n",
    "\n",
    "agent2 = ['G', 'H', 'I', 'J', 'K','L']\n",
    "    \n",
    "trading_scenario = list(itertools.permutations(Agent1))\n",
    "print(trading_scenario)\n",
    "\n",
    "trading_scenario = [x[0] for x in trading_scenario]\n",
    "\n",
    "combinations = {\n",
    "    'Actors': trading_scenario \n",
    "}\n",
    "\n",
    "Amount_combinations = len(trading_scenario)\n",
    "\n",
    "print(Amount_combinations)"
   ]
  },
  {
   "cell_type": "markdown",
   "metadata": {},
   "source": [
    "# Challenge No. 4\n",
    "\n",
    "A user has $a$ **TKNA** and $b$ **TKNB**: \n",
    "The TKNA-TKNB pool has 50:50 weights, and reserves of TKNA and TKNB of m and n, respectively.  \n",
    "The user wishes to perform a swap such that the ratio of TKNA:TKNB in their wallet is p:q \n",
    "\n",
    "$$\\frac{a + x}{b + y} = \\frac{p}{q}$$"
   ]
  },
  {
   "cell_type": "markdown",
   "metadata": {},
   "source": [
    "#### 1. \n",
    "Assuming the user performs a swap between TKNA and TKNB on the TKNA-TKNB pool, derive an expression for x and y."
   ]
  },
  {
   "cell_type": "markdown",
   "metadata": {},
   "source": [
    "#### 2.\n",
    "Using data or algebra, which is the best option to reduce slippage when trading X for Y:  \n",
    "    a) finding a pool with the same invariant but a different X balance value,  \n",
    "    b) finding a pool with a different weight on X,  \n",
    "    c) or finding a pool with a different invariant value?  \n",
    "    Justify your answer in any way you like,  \n",
    "    and explain whether \"different\" should be \"smaller\" or \"larger\" here."
   ]
  },
  {
   "cell_type": "markdown",
   "metadata": {},
   "source": [
    "# Challenge No. 5"
   ]
  },
  {
   "cell_type": "markdown",
   "metadata": {},
   "source": [
    "#### 1.\n",
    "**Design a new value function.** \n",
    "Use the balances of token A from Q1.2, and apply your new value function.  \n",
    "Add the resulting balances for token B"
   ]
  },
  {
   "cell_type": "markdown",
   "metadata": {},
   "source": [
    "#### 2.\n",
    "**Plot your curve.** \n",
    "Send a screenshot of your curve to the Discord channel.  \n",
    "Let your fellow TE's reverse engineer the value function!"
   ]
  },
  {
   "cell_type": "markdown",
   "metadata": {},
   "source": [
    "#### 3.\n",
    "**Pick a screenshot at the Discord.** \n",
    "Reverse engineer the value function!"
   ]
  }
 ],
 "metadata": {
  "kernelspec": {
   "display_name": "Python 3",
   "language": "python",
   "name": "python3"
  },
  "language_info": {
   "codemirror_mode": {
    "name": "ipython",
    "version": 3
   },
   "file_extension": ".py",
   "mimetype": "text/x-python",
   "name": "python",
   "nbconvert_exporter": "python",
   "pygments_lexer": "ipython3",
   "version": "3.8.10"
  }
 },
 "nbformat": 4,
 "nbformat_minor": 4
}
