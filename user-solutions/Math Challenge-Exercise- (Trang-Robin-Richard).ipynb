{
 "cells": [
  {
   "cell_type": "markdown",
   "id": "casual-importance",
   "metadata": {},
   "source": [
    "# Balancer Simulations Math Challenge - Basic Exercises"
   ]
  },
  {
   "cell_type": "markdown",
   "id": "laughing-disclosure",
   "metadata": {},
   "source": [
    "This is a series of exercises to gain intuition for the core algorithm in Balancer Pools: the Value Function, and invariant V."
   ]
  },
  {
   "cell_type": "markdown",
   "id": "spoken-corporation",
   "metadata": {},
   "source": [
    "**Exercise:** We'll work on Step 1 questions in our working session on May 25 in teams of 2, facilitated by @Octopus and @akrtws.  \n",
    "**Challenges:** Step 2 will be homework assignments, submitting at least one challenge solved is mandatory for successful participation!  \n",
    "Here's the notebook with challenges: https://github.com/TokenEngineeringCommunity/BalancerPools_Model/blob/fcb67145e8b0f8a1843fe3c6921dbb5a7085938e/Math%20Challenges-Advanced.ipynb"
   ]
  },
  {
   "cell_type": "markdown",
   "id": "sublime-polish",
   "metadata": {},
   "source": [
    "## Exercise:   \n",
    "Let's set up a pool.  \n",
    "\n",
    "We have 100 Token A and 100 Token B, with equal weights.  \n",
    "The price definition in our pool is constraint by the\n",
    "Invariant V in Balancer Pools. \n",
    "\n",
    "a_bal = balance of token A  \n",
    "b_bal = balance of token B  \n",
    "a_weight = weight of token A  \n",
    "b_weight = weight of token B   \n",
    "\n",
    "The weights in this pool are equal for both tokens.\n",
    "For now, we don't have a swap fee."
   ]
  },
  {
   "cell_type": "markdown",
   "id": "thirty-ecuador",
   "metadata": {},
   "source": [
    "# Q1.1: \n",
    "What's the initial spot price of token A in token B?"
   ]
  },
  {
   "cell_type": "code",
   "execution_count": 1,
   "id": "e3dbcc1a",
   "metadata": {},
   "outputs": [],
   "source": [
    "#The initial spot price is 1:1, 1 token A equals 1 token B."
   ]
  },
  {
   "cell_type": "code",
   "execution_count": 2,
   "id": "23a490bc",
   "metadata": {},
   "outputs": [
    {
     "data": {
      "text/html": [
       "        <script type=\"text/javascript\">\n",
       "        window.PlotlyConfig = {MathJaxConfig: 'local'};\n",
       "        if (window.MathJax) {MathJax.Hub.Config({SVG: {font: \"STIX-Web\"}});}\n",
       "        if (typeof require !== 'undefined') {\n",
       "        require.undef(\"plotly\");\n",
       "        requirejs.config({\n",
       "            paths: {\n",
       "                'plotly': ['https://cdn.plot.ly/plotly-latest.min']\n",
       "            }\n",
       "        });\n",
       "        require(['plotly'], function(Plotly) {\n",
       "            window._Plotly = Plotly;\n",
       "        });\n",
       "        }\n",
       "        </script>\n",
       "        "
      ]
     },
     "metadata": {},
     "output_type": "display_data"
    }
   ],
   "source": [
    "import numpy as np\n",
    "import pandas as pd\n",
    "\n",
    "import plotly.express as px\n",
    "import chart_studio.plotly as py\n",
    "import plotly.graph_objs as go\n",
    "from plotly.offline import iplot\n",
    "\n",
    "import cufflinks\n",
    "cufflinks.go_offline()\n",
    "cufflinks.set_config_file(world_readable=True, theme='pearl')"
   ]
  },
  {
   "cell_type": "markdown",
   "id": "forced-surgery",
   "metadata": {},
   "source": [
    "# Q1.2:\n",
    "Now let's assume a series of 99 swaps. With every swap, **1.0 token A is bought from the pool, against token B**.  \n",
    "\n",
    "**a) Create a table \"buy_A\"** with\n",
    "\n",
    "    the token A balances (swap by swap)\n",
    "    the token B balances (swap by swap) - that are constraint by the value function. "
   ]
  },
  {
   "cell_type": "code",
   "execution_count": 3,
   "id": "6801bb24",
   "metadata": {},
   "outputs": [
    {
     "data": {
      "text/html": [
       "<div>\n",
       "<style scoped>\n",
       "    .dataframe tbody tr th:only-of-type {\n",
       "        vertical-align: middle;\n",
       "    }\n",
       "\n",
       "    .dataframe tbody tr th {\n",
       "        vertical-align: top;\n",
       "    }\n",
       "\n",
       "    .dataframe thead th {\n",
       "        text-align: right;\n",
       "    }\n",
       "</style>\n",
       "<table border=\"1\" class=\"dataframe\">\n",
       "  <thead>\n",
       "    <tr style=\"text-align: right;\">\n",
       "      <th></th>\n",
       "      <th>token_A</th>\n",
       "      <th>invariant</th>\n",
       "      <th>token_B</th>\n",
       "    </tr>\n",
       "  </thead>\n",
       "  <tbody>\n",
       "    <tr>\n",
       "      <th>95</th>\n",
       "      <td>5</td>\n",
       "      <td>100.0</td>\n",
       "      <td>2000.000000</td>\n",
       "    </tr>\n",
       "    <tr>\n",
       "      <th>96</th>\n",
       "      <td>4</td>\n",
       "      <td>100.0</td>\n",
       "      <td>2500.000000</td>\n",
       "    </tr>\n",
       "    <tr>\n",
       "      <th>97</th>\n",
       "      <td>3</td>\n",
       "      <td>100.0</td>\n",
       "      <td>3333.333333</td>\n",
       "    </tr>\n",
       "    <tr>\n",
       "      <th>98</th>\n",
       "      <td>2</td>\n",
       "      <td>100.0</td>\n",
       "      <td>5000.000000</td>\n",
       "    </tr>\n",
       "    <tr>\n",
       "      <th>99</th>\n",
       "      <td>1</td>\n",
       "      <td>100.0</td>\n",
       "      <td>10000.000000</td>\n",
       "    </tr>\n",
       "  </tbody>\n",
       "</table>\n",
       "</div>"
      ],
      "text/plain": [
       "    token_A  invariant       token_B\n",
       "95        5      100.0   2000.000000\n",
       "96        4      100.0   2500.000000\n",
       "97        3      100.0   3333.333333\n",
       "98        2      100.0   5000.000000\n",
       "99        1      100.0  10000.000000"
      ]
     },
     "execution_count": 3,
     "metadata": {},
     "output_type": "execute_result"
    }
   ],
   "source": [
    "#set up genesis state\n",
    "a_bal = 100 # initial balance\n",
    "b_bal = 100 # initial balance\n",
    "\n",
    "a_weight = 0.5 #define weight\n",
    "b_weight = 0.5 #define weight\n",
    "\n",
    "s_f = 0.0 #swap fee\n",
    "inv = (a_bal**a_weight)*(b_bal**b_weight) #calculate invariant\n",
    "\n",
    "a_vals = pd.Series(range(100,0,-1))\n",
    "\n",
    "#create dataframe with based on a_vals\n",
    "buy_A = pd.DataFrame(a_vals, columns=['token_A'])\n",
    "\n",
    "buy_A['invariant'] = inv #value required to calculate token B value\n",
    "\n",
    "#create values for plot, add Y_balances according to current invariant\n",
    "buy_A['token_B'] = (buy_A.invariant/(buy_A.token_A**a_weight))**(1/b_weight)# calculate corresponding token_B value according to invariant\n",
    "\n",
    "buy_A.tail()\n",
    "# buy_A.shape"
   ]
  },
  {
   "cell_type": "markdown",
   "id": "19388e74",
   "metadata": {},
   "source": [
    "**b) What do you notice in general?**\n",
    "By looking at below table, if we go 1 direction of swapping (keep buying token_A):\n",
    "- For the 1st token_A, we have to pay 1.010101 token_B\n",
    "- But for the 50th token_A, we have to pay (200-196.078431) ~ 4 token_B"
   ]
  },
  {
   "cell_type": "code",
   "execution_count": 4,
   "id": "b5cfd538",
   "metadata": {
    "scrolled": true
   },
   "outputs": [
    {
     "data": {
      "text/html": [
       "<div>\n",
       "<style scoped>\n",
       "    .dataframe tbody tr th:only-of-type {\n",
       "        vertical-align: middle;\n",
       "    }\n",
       "\n",
       "    .dataframe tbody tr th {\n",
       "        vertical-align: top;\n",
       "    }\n",
       "\n",
       "    .dataframe thead th {\n",
       "        text-align: right;\n",
       "    }\n",
       "</style>\n",
       "<table border=\"1\" class=\"dataframe\">\n",
       "  <thead>\n",
       "    <tr style=\"text-align: right;\">\n",
       "      <th></th>\n",
       "      <th>token_A</th>\n",
       "      <th>invariant</th>\n",
       "      <th>token_B</th>\n",
       "    </tr>\n",
       "  </thead>\n",
       "  <tbody>\n",
       "    <tr>\n",
       "      <th>0</th>\n",
       "      <td>100</td>\n",
       "      <td>100.0</td>\n",
       "      <td>100.000000</td>\n",
       "    </tr>\n",
       "    <tr>\n",
       "      <th>1</th>\n",
       "      <td>99</td>\n",
       "      <td>100.0</td>\n",
       "      <td>101.010101</td>\n",
       "    </tr>\n",
       "    <tr>\n",
       "      <th>49</th>\n",
       "      <td>51</td>\n",
       "      <td>100.0</td>\n",
       "      <td>196.078431</td>\n",
       "    </tr>\n",
       "    <tr>\n",
       "      <th>50</th>\n",
       "      <td>50</td>\n",
       "      <td>100.0</td>\n",
       "      <td>200.000000</td>\n",
       "    </tr>\n",
       "  </tbody>\n",
       "</table>\n",
       "</div>"
      ],
      "text/plain": [
       "    token_A  invariant     token_B\n",
       "0       100      100.0  100.000000\n",
       "1        99      100.0  101.010101\n",
       "49       51      100.0  196.078431\n",
       "50       50      100.0  200.000000"
      ]
     },
     "execution_count": 4,
     "metadata": {},
     "output_type": "execute_result"
    }
   ],
   "source": [
    "buy_A.iloc[[0,1,49,50],:]"
   ]
  },
  {
   "cell_type": "markdown",
   "id": "7d2fa413",
   "metadata": {},
   "source": [
    "**c) How much would Alice have to pay in token B when buying the first 1.0 token A?** <br>\n",
    "Actual amount Alice has to pay: 1.010101 >  1 (initial spot price)"
   ]
  },
  {
   "cell_type": "markdown",
   "id": "abandoned-chicken",
   "metadata": {},
   "source": [
    "# Q1.3:\n",
    "\n",
    "Now let's assume a series of 99 swaps in the opposite direction. We start again with the original state: We have 100 Token A and 100 Token B.   \n",
    "With every swap, **1.0 token B is bought from the pool, against token A**.\n",
    "\n",
    "Create a table **'buy_B'** with\n",
    "\n",
    "    the token A balances (swap by swap)\n",
    "    the token B balances (swap by swap) - that are constraint by the value function."
   ]
  },
  {
   "cell_type": "code",
   "execution_count": 5,
   "id": "8a1281b3",
   "metadata": {},
   "outputs": [
    {
     "data": {
      "text/html": [
       "<div>\n",
       "<style scoped>\n",
       "    .dataframe tbody tr th:only-of-type {\n",
       "        vertical-align: middle;\n",
       "    }\n",
       "\n",
       "    .dataframe tbody tr th {\n",
       "        vertical-align: top;\n",
       "    }\n",
       "\n",
       "    .dataframe thead th {\n",
       "        text-align: right;\n",
       "    }\n",
       "</style>\n",
       "<table border=\"1\" class=\"dataframe\">\n",
       "  <thead>\n",
       "    <tr style=\"text-align: right;\">\n",
       "      <th></th>\n",
       "      <th>token_B</th>\n",
       "      <th>invariant</th>\n",
       "      <th>token_A</th>\n",
       "    </tr>\n",
       "  </thead>\n",
       "  <tbody>\n",
       "    <tr>\n",
       "      <th>0</th>\n",
       "      <td>100</td>\n",
       "      <td>100.0</td>\n",
       "      <td>100.000000</td>\n",
       "    </tr>\n",
       "    <tr>\n",
       "      <th>1</th>\n",
       "      <td>99</td>\n",
       "      <td>100.0</td>\n",
       "      <td>101.010101</td>\n",
       "    </tr>\n",
       "    <tr>\n",
       "      <th>2</th>\n",
       "      <td>98</td>\n",
       "      <td>100.0</td>\n",
       "      <td>102.040816</td>\n",
       "    </tr>\n",
       "    <tr>\n",
       "      <th>3</th>\n",
       "      <td>97</td>\n",
       "      <td>100.0</td>\n",
       "      <td>103.092784</td>\n",
       "    </tr>\n",
       "    <tr>\n",
       "      <th>4</th>\n",
       "      <td>96</td>\n",
       "      <td>100.0</td>\n",
       "      <td>104.166667</td>\n",
       "    </tr>\n",
       "  </tbody>\n",
       "</table>\n",
       "</div>"
      ],
      "text/plain": [
       "   token_B  invariant     token_A\n",
       "0      100      100.0  100.000000\n",
       "1       99      100.0  101.010101\n",
       "2       98      100.0  102.040816\n",
       "3       97      100.0  103.092784\n",
       "4       96      100.0  104.166667"
      ]
     },
     "execution_count": 5,
     "metadata": {},
     "output_type": "execute_result"
    }
   ],
   "source": [
    "b_vals = pd.Series(range(100,0,-1))\n",
    "\n",
    "buy_B = pd.DataFrame(b_vals, columns=['token_B'])\n",
    "buy_B['invariant'] = inv \n",
    "\n",
    "#create values for plot, add a_balances according to current invariant\n",
    "buy_B['token_A'] = (buy_B.invariant/(buy_B.token_B**b_weight))**(1/a_weight)# calculate corresponding token A value according to invariant\n",
    "\n",
    "buy_B.head()"
   ]
  },
  {
   "cell_type": "markdown",
   "id": "composite-multimedia",
   "metadata": {},
   "source": [
    "# Q1.4:\n",
    "\n",
    "a) What are the new balances of token A and token B after 90 swaps token A (in) for B (out)?\n",
    "\n",
    "After 90 swaps the pool has\n",
    "- 10 token_B \n",
    "- 1000 token_A"
   ]
  },
  {
   "cell_type": "code",
   "execution_count": 6,
   "id": "a91be343",
   "metadata": {},
   "outputs": [
    {
     "data": {
      "text/html": [
       "<div>\n",
       "<style scoped>\n",
       "    .dataframe tbody tr th:only-of-type {\n",
       "        vertical-align: middle;\n",
       "    }\n",
       "\n",
       "    .dataframe tbody tr th {\n",
       "        vertical-align: top;\n",
       "    }\n",
       "\n",
       "    .dataframe thead th {\n",
       "        text-align: right;\n",
       "    }\n",
       "</style>\n",
       "<table border=\"1\" class=\"dataframe\">\n",
       "  <thead>\n",
       "    <tr style=\"text-align: right;\">\n",
       "      <th></th>\n",
       "      <th>token_B</th>\n",
       "      <th>invariant</th>\n",
       "      <th>token_A</th>\n",
       "    </tr>\n",
       "  </thead>\n",
       "  <tbody>\n",
       "    <tr>\n",
       "      <th>90</th>\n",
       "      <td>10</td>\n",
       "      <td>100.0</td>\n",
       "      <td>1000.000000</td>\n",
       "    </tr>\n",
       "    <tr>\n",
       "      <th>91</th>\n",
       "      <td>9</td>\n",
       "      <td>100.0</td>\n",
       "      <td>1111.111111</td>\n",
       "    </tr>\n",
       "  </tbody>\n",
       "</table>\n",
       "</div>"
      ],
      "text/plain": [
       "    token_B  invariant      token_A\n",
       "90       10      100.0  1000.000000\n",
       "91        9      100.0  1111.111111"
      ]
     },
     "execution_count": 6,
     "metadata": {},
     "output_type": "execute_result"
    }
   ],
   "source": [
    "buy_B.iloc[[90,91],:]"
   ]
  },
  {
   "cell_type": "markdown",
   "id": "f115963e",
   "metadata": {},
   "source": [
    "b) How much would Alice have to pay in token A in case she wants to buy the 91st token B? \n",
    "\n",
    "``` python\n",
    "price_of_91st_token_B = (buy_B.iloc[91]['token_A'])-((buy_B.iloc[90]['token_A']))\n",
    "```"
   ]
  },
  {
   "cell_type": "code",
   "execution_count": 7,
   "id": "960f59b5",
   "metadata": {},
   "outputs": [
    {
     "name": "stdout",
     "output_type": "stream",
     "text": [
      "111.11111111111131\n"
     ]
    }
   ],
   "source": [
    "price_of_91st_token_B = (buy_B.iloc[91]['token_A'])-((buy_B.iloc[90]['token_A']))\n",
    "print(price_of_91st_token_B)"
   ]
  },
  {
   "cell_type": "markdown",
   "id": "commercial-client",
   "metadata": {},
   "source": [
    "# Q1.5:  \n",
    "Now create a graph (use plotly or similar), and draw the full curve for this series of both kinds of swaps - the AMM curve."
   ]
  },
  {
   "cell_type": "code",
   "execution_count": 8,
   "id": "3c2bb46f",
   "metadata": {},
   "outputs": [
    {
     "data": {
      "application/vnd.plotly.v1+json": {
       "config": {
        "plotlyServerURL": "https://plot.ly"
       },
       "data": [
        {
         "hovertemplate": "token_A=%{x}<br>token_B=%{y}<extra></extra>",
         "legendgroup": "",
         "line": {
          "color": "#0d0887",
          "dash": "solid"
         },
         "mode": "lines",
         "name": "",
         "orientation": "v",
         "showlegend": false,
         "type": "scatter",
         "x": [
          100,
          99,
          98,
          97,
          96,
          95,
          94,
          93,
          92,
          91,
          90,
          89,
          88,
          87,
          86,
          85,
          84,
          83,
          82,
          81,
          80,
          79,
          78,
          77,
          76,
          75,
          74,
          73,
          72,
          71,
          70,
          69,
          68,
          67,
          66,
          65,
          64,
          63,
          62,
          61,
          60,
          59,
          58,
          57,
          56,
          55,
          54,
          53,
          52,
          51,
          50,
          49,
          48,
          47,
          46,
          45,
          44,
          43,
          42,
          41,
          40,
          39,
          38,
          37,
          36,
          35,
          34,
          33,
          32,
          31,
          30,
          29,
          28,
          27,
          26,
          25,
          24,
          23,
          22,
          21,
          20,
          19,
          18,
          17,
          16,
          15,
          14,
          13,
          12,
          11,
          10,
          9,
          8,
          7,
          6,
          5,
          4,
          3,
          2,
          1,
          10000,
          4999.999999999998,
          3333.333333333334,
          2500,
          1999.9999999999995,
          1666.666666666667,
          1428.5714285714284,
          1249.9999999999995,
          1111.1111111111113,
          1000,
          909.090909090909,
          833.3333333333335,
          769.2307692307693,
          714.2857142857142,
          666.6666666666666,
          625,
          588.2352941176471,
          555.5555555555555,
          526.315789473684,
          499.9999999999999,
          476.1904761904763,
          454.5454545454545,
          434.7826086956523,
          416.66666666666674,
          400,
          384.6153846153847,
          370.3703703703703,
          357.1428571428571,
          344.8275862068966,
          333.3333333333333,
          322.5806451612904,
          312.4999999999999,
          303.03030303030306,
          294.11764705882354,
          285.7142857142858,
          277.7777777777778,
          270.2702702702703,
          263.1578947368422,
          256.41025641025635,
          250,
          243.90243902439028,
          238.09523809523807,
          232.55813953488374,
          227.27272727272725,
          222.2222222222222,
          217.3913043478261,
          212.7659574468085,
          208.33333333333337,
          204.08163265306123,
          199.99999999999997,
          196.07843137254898,
          192.30769230769232,
          188.6792452830189,
          185.18518518518516,
          181.81818181818184,
          178.57142857142856,
          175.43859649122805,
          172.41379310344826,
          169.4915254237288,
          166.66666666666666,
          163.9344262295082,
          161.29032258064515,
          158.73015873015873,
          156.25,
          153.84615384615387,
          151.51515151515147,
          149.25373134328356,
          147.05882352941177,
          144.92753623188406,
          142.85714285714286,
          140.8450704225352,
          138.88888888888889,
          136.98630136986304,
          135.13513513513513,
          133.33333333333331,
          131.578947368421,
          129.87012987012983,
          128.20512820512818,
          126.58227848101268,
          124.99999999999997,
          123.45679012345678,
          121.95121951219511,
          120.48192771084337,
          119.04761904761908,
          117.6470588235294,
          116.27906976744187,
          114.94252873563217,
          113.63636363636363,
          112.35955056179779,
          111.1111111111111,
          109.89010989010991,
          108.69565217391307,
          107.5268817204301,
          106.38297872340425,
          105.26315789473686,
          104.16666666666669,
          103.09278350515464,
          102.0408163265306,
          101.01010101010101,
          100
         ],
         "xaxis": "x",
         "y": [
          100,
          101.01010101010101,
          102.0408163265306,
          103.09278350515464,
          104.16666666666669,
          105.26315789473686,
          106.38297872340425,
          107.5268817204301,
          108.69565217391307,
          109.89010989010991,
          111.1111111111111,
          112.35955056179779,
          113.63636363636363,
          114.94252873563217,
          116.27906976744187,
          117.6470588235294,
          119.04761904761908,
          120.48192771084337,
          121.95121951219511,
          123.45679012345678,
          124.99999999999997,
          126.58227848101268,
          128.20512820512818,
          129.87012987012983,
          131.578947368421,
          133.33333333333331,
          135.13513513513513,
          136.98630136986304,
          138.88888888888889,
          140.8450704225352,
          142.85714285714286,
          144.92753623188406,
          147.05882352941177,
          149.25373134328356,
          151.51515151515147,
          153.84615384615387,
          156.25,
          158.73015873015873,
          161.29032258064515,
          163.9344262295082,
          166.66666666666666,
          169.4915254237288,
          172.41379310344826,
          175.43859649122805,
          178.57142857142856,
          181.81818181818184,
          185.18518518518516,
          188.6792452830189,
          192.30769230769232,
          196.07843137254898,
          199.99999999999997,
          204.08163265306123,
          208.33333333333337,
          212.7659574468085,
          217.3913043478261,
          222.2222222222222,
          227.27272727272725,
          232.55813953488374,
          238.09523809523807,
          243.90243902439028,
          250,
          256.41025641025635,
          263.1578947368422,
          270.2702702702703,
          277.7777777777778,
          285.7142857142858,
          294.11764705882354,
          303.03030303030306,
          312.4999999999999,
          322.5806451612904,
          333.3333333333333,
          344.8275862068966,
          357.1428571428571,
          370.3703703703703,
          384.6153846153847,
          400,
          416.66666666666674,
          434.7826086956523,
          454.5454545454545,
          476.1904761904763,
          499.9999999999999,
          526.315789473684,
          555.5555555555555,
          588.2352941176471,
          625,
          666.6666666666666,
          714.2857142857142,
          769.2307692307693,
          833.3333333333335,
          909.090909090909,
          1000,
          1111.1111111111113,
          1249.9999999999995,
          1428.5714285714284,
          1666.666666666667,
          1999.9999999999995,
          2500,
          3333.333333333334,
          4999.999999999998,
          10000,
          1,
          2,
          3,
          4,
          5,
          6,
          7,
          8,
          9,
          10,
          11,
          12,
          13,
          14,
          15,
          16,
          17,
          18,
          19,
          20,
          21,
          22,
          23,
          24,
          25,
          26,
          27,
          28,
          29,
          30,
          31,
          32,
          33,
          34,
          35,
          36,
          37,
          38,
          39,
          40,
          41,
          42,
          43,
          44,
          45,
          46,
          47,
          48,
          49,
          50,
          51,
          52,
          53,
          54,
          55,
          56,
          57,
          58,
          59,
          60,
          61,
          62,
          63,
          64,
          65,
          66,
          67,
          68,
          69,
          70,
          71,
          72,
          73,
          74,
          75,
          76,
          77,
          78,
          79,
          80,
          81,
          82,
          83,
          84,
          85,
          86,
          87,
          88,
          89,
          90,
          91,
          92,
          93,
          94,
          95,
          96,
          97,
          98,
          99,
          100
         ],
         "yaxis": "y"
        }
       ],
       "layout": {
        "height": 1000,
        "legend": {
         "tracegroupgap": 0
        },
        "margin": {
         "t": 60
        },
        "template": {
         "data": {
          "bar": [
           {
            "error_x": {
             "color": "#2a3f5f"
            },
            "error_y": {
             "color": "#2a3f5f"
            },
            "marker": {
             "line": {
              "color": "#E5ECF6",
              "width": 0.5
             }
            },
            "type": "bar"
           }
          ],
          "barpolar": [
           {
            "marker": {
             "line": {
              "color": "#E5ECF6",
              "width": 0.5
             }
            },
            "type": "barpolar"
           }
          ],
          "carpet": [
           {
            "aaxis": {
             "endlinecolor": "#2a3f5f",
             "gridcolor": "white",
             "linecolor": "white",
             "minorgridcolor": "white",
             "startlinecolor": "#2a3f5f"
            },
            "baxis": {
             "endlinecolor": "#2a3f5f",
             "gridcolor": "white",
             "linecolor": "white",
             "minorgridcolor": "white",
             "startlinecolor": "#2a3f5f"
            },
            "type": "carpet"
           }
          ],
          "choropleth": [
           {
            "colorbar": {
             "outlinewidth": 0,
             "ticks": ""
            },
            "type": "choropleth"
           }
          ],
          "contour": [
           {
            "colorbar": {
             "outlinewidth": 0,
             "ticks": ""
            },
            "colorscale": [
             [
              0,
              "#0d0887"
             ],
             [
              0.1111111111111111,
              "#46039f"
             ],
             [
              0.2222222222222222,
              "#7201a8"
             ],
             [
              0.3333333333333333,
              "#9c179e"
             ],
             [
              0.4444444444444444,
              "#bd3786"
             ],
             [
              0.5555555555555556,
              "#d8576b"
             ],
             [
              0.6666666666666666,
              "#ed7953"
             ],
             [
              0.7777777777777778,
              "#fb9f3a"
             ],
             [
              0.8888888888888888,
              "#fdca26"
             ],
             [
              1,
              "#f0f921"
             ]
            ],
            "type": "contour"
           }
          ],
          "contourcarpet": [
           {
            "colorbar": {
             "outlinewidth": 0,
             "ticks": ""
            },
            "type": "contourcarpet"
           }
          ],
          "heatmap": [
           {
            "colorbar": {
             "outlinewidth": 0,
             "ticks": ""
            },
            "colorscale": [
             [
              0,
              "#0d0887"
             ],
             [
              0.1111111111111111,
              "#46039f"
             ],
             [
              0.2222222222222222,
              "#7201a8"
             ],
             [
              0.3333333333333333,
              "#9c179e"
             ],
             [
              0.4444444444444444,
              "#bd3786"
             ],
             [
              0.5555555555555556,
              "#d8576b"
             ],
             [
              0.6666666666666666,
              "#ed7953"
             ],
             [
              0.7777777777777778,
              "#fb9f3a"
             ],
             [
              0.8888888888888888,
              "#fdca26"
             ],
             [
              1,
              "#f0f921"
             ]
            ],
            "type": "heatmap"
           }
          ],
          "heatmapgl": [
           {
            "colorbar": {
             "outlinewidth": 0,
             "ticks": ""
            },
            "colorscale": [
             [
              0,
              "#0d0887"
             ],
             [
              0.1111111111111111,
              "#46039f"
             ],
             [
              0.2222222222222222,
              "#7201a8"
             ],
             [
              0.3333333333333333,
              "#9c179e"
             ],
             [
              0.4444444444444444,
              "#bd3786"
             ],
             [
              0.5555555555555556,
              "#d8576b"
             ],
             [
              0.6666666666666666,
              "#ed7953"
             ],
             [
              0.7777777777777778,
              "#fb9f3a"
             ],
             [
              0.8888888888888888,
              "#fdca26"
             ],
             [
              1,
              "#f0f921"
             ]
            ],
            "type": "heatmapgl"
           }
          ],
          "histogram": [
           {
            "marker": {
             "colorbar": {
              "outlinewidth": 0,
              "ticks": ""
             }
            },
            "type": "histogram"
           }
          ],
          "histogram2d": [
           {
            "colorbar": {
             "outlinewidth": 0,
             "ticks": ""
            },
            "colorscale": [
             [
              0,
              "#0d0887"
             ],
             [
              0.1111111111111111,
              "#46039f"
             ],
             [
              0.2222222222222222,
              "#7201a8"
             ],
             [
              0.3333333333333333,
              "#9c179e"
             ],
             [
              0.4444444444444444,
              "#bd3786"
             ],
             [
              0.5555555555555556,
              "#d8576b"
             ],
             [
              0.6666666666666666,
              "#ed7953"
             ],
             [
              0.7777777777777778,
              "#fb9f3a"
             ],
             [
              0.8888888888888888,
              "#fdca26"
             ],
             [
              1,
              "#f0f921"
             ]
            ],
            "type": "histogram2d"
           }
          ],
          "histogram2dcontour": [
           {
            "colorbar": {
             "outlinewidth": 0,
             "ticks": ""
            },
            "colorscale": [
             [
              0,
              "#0d0887"
             ],
             [
              0.1111111111111111,
              "#46039f"
             ],
             [
              0.2222222222222222,
              "#7201a8"
             ],
             [
              0.3333333333333333,
              "#9c179e"
             ],
             [
              0.4444444444444444,
              "#bd3786"
             ],
             [
              0.5555555555555556,
              "#d8576b"
             ],
             [
              0.6666666666666666,
              "#ed7953"
             ],
             [
              0.7777777777777778,
              "#fb9f3a"
             ],
             [
              0.8888888888888888,
              "#fdca26"
             ],
             [
              1,
              "#f0f921"
             ]
            ],
            "type": "histogram2dcontour"
           }
          ],
          "mesh3d": [
           {
            "colorbar": {
             "outlinewidth": 0,
             "ticks": ""
            },
            "type": "mesh3d"
           }
          ],
          "parcoords": [
           {
            "line": {
             "colorbar": {
              "outlinewidth": 0,
              "ticks": ""
             }
            },
            "type": "parcoords"
           }
          ],
          "pie": [
           {
            "automargin": true,
            "type": "pie"
           }
          ],
          "scatter": [
           {
            "marker": {
             "colorbar": {
              "outlinewidth": 0,
              "ticks": ""
             }
            },
            "type": "scatter"
           }
          ],
          "scatter3d": [
           {
            "line": {
             "colorbar": {
              "outlinewidth": 0,
              "ticks": ""
             }
            },
            "marker": {
             "colorbar": {
              "outlinewidth": 0,
              "ticks": ""
             }
            },
            "type": "scatter3d"
           }
          ],
          "scattercarpet": [
           {
            "marker": {
             "colorbar": {
              "outlinewidth": 0,
              "ticks": ""
             }
            },
            "type": "scattercarpet"
           }
          ],
          "scattergeo": [
           {
            "marker": {
             "colorbar": {
              "outlinewidth": 0,
              "ticks": ""
             }
            },
            "type": "scattergeo"
           }
          ],
          "scattergl": [
           {
            "marker": {
             "colorbar": {
              "outlinewidth": 0,
              "ticks": ""
             }
            },
            "type": "scattergl"
           }
          ],
          "scattermapbox": [
           {
            "marker": {
             "colorbar": {
              "outlinewidth": 0,
              "ticks": ""
             }
            },
            "type": "scattermapbox"
           }
          ],
          "scatterpolar": [
           {
            "marker": {
             "colorbar": {
              "outlinewidth": 0,
              "ticks": ""
             }
            },
            "type": "scatterpolar"
           }
          ],
          "scatterpolargl": [
           {
            "marker": {
             "colorbar": {
              "outlinewidth": 0,
              "ticks": ""
             }
            },
            "type": "scatterpolargl"
           }
          ],
          "scatterternary": [
           {
            "marker": {
             "colorbar": {
              "outlinewidth": 0,
              "ticks": ""
             }
            },
            "type": "scatterternary"
           }
          ],
          "surface": [
           {
            "colorbar": {
             "outlinewidth": 0,
             "ticks": ""
            },
            "colorscale": [
             [
              0,
              "#0d0887"
             ],
             [
              0.1111111111111111,
              "#46039f"
             ],
             [
              0.2222222222222222,
              "#7201a8"
             ],
             [
              0.3333333333333333,
              "#9c179e"
             ],
             [
              0.4444444444444444,
              "#bd3786"
             ],
             [
              0.5555555555555556,
              "#d8576b"
             ],
             [
              0.6666666666666666,
              "#ed7953"
             ],
             [
              0.7777777777777778,
              "#fb9f3a"
             ],
             [
              0.8888888888888888,
              "#fdca26"
             ],
             [
              1,
              "#f0f921"
             ]
            ],
            "type": "surface"
           }
          ],
          "table": [
           {
            "cells": {
             "fill": {
              "color": "#EBF0F8"
             },
             "line": {
              "color": "white"
             }
            },
            "header": {
             "fill": {
              "color": "#C8D4E3"
             },
             "line": {
              "color": "white"
             }
            },
            "type": "table"
           }
          ]
         },
         "layout": {
          "annotationdefaults": {
           "arrowcolor": "#2a3f5f",
           "arrowhead": 0,
           "arrowwidth": 1
          },
          "coloraxis": {
           "colorbar": {
            "outlinewidth": 0,
            "ticks": ""
           }
          },
          "colorscale": {
           "diverging": [
            [
             0,
             "#8e0152"
            ],
            [
             0.1,
             "#c51b7d"
            ],
            [
             0.2,
             "#de77ae"
            ],
            [
             0.3,
             "#f1b6da"
            ],
            [
             0.4,
             "#fde0ef"
            ],
            [
             0.5,
             "#f7f7f7"
            ],
            [
             0.6,
             "#e6f5d0"
            ],
            [
             0.7,
             "#b8e186"
            ],
            [
             0.8,
             "#7fbc41"
            ],
            [
             0.9,
             "#4d9221"
            ],
            [
             1,
             "#276419"
            ]
           ],
           "sequential": [
            [
             0,
             "#0d0887"
            ],
            [
             0.1111111111111111,
             "#46039f"
            ],
            [
             0.2222222222222222,
             "#7201a8"
            ],
            [
             0.3333333333333333,
             "#9c179e"
            ],
            [
             0.4444444444444444,
             "#bd3786"
            ],
            [
             0.5555555555555556,
             "#d8576b"
            ],
            [
             0.6666666666666666,
             "#ed7953"
            ],
            [
             0.7777777777777778,
             "#fb9f3a"
            ],
            [
             0.8888888888888888,
             "#fdca26"
            ],
            [
             1,
             "#f0f921"
            ]
           ],
           "sequentialminus": [
            [
             0,
             "#0d0887"
            ],
            [
             0.1111111111111111,
             "#46039f"
            ],
            [
             0.2222222222222222,
             "#7201a8"
            ],
            [
             0.3333333333333333,
             "#9c179e"
            ],
            [
             0.4444444444444444,
             "#bd3786"
            ],
            [
             0.5555555555555556,
             "#d8576b"
            ],
            [
             0.6666666666666666,
             "#ed7953"
            ],
            [
             0.7777777777777778,
             "#fb9f3a"
            ],
            [
             0.8888888888888888,
             "#fdca26"
            ],
            [
             1,
             "#f0f921"
            ]
           ]
          },
          "colorway": [
           "#636efa",
           "#EF553B",
           "#00cc96",
           "#ab63fa",
           "#FFA15A",
           "#19d3f3",
           "#FF6692",
           "#B6E880",
           "#FF97FF",
           "#FECB52"
          ],
          "font": {
           "color": "#2a3f5f"
          },
          "geo": {
           "bgcolor": "white",
           "lakecolor": "white",
           "landcolor": "#E5ECF6",
           "showlakes": true,
           "showland": true,
           "subunitcolor": "white"
          },
          "hoverlabel": {
           "align": "left"
          },
          "hovermode": "closest",
          "mapbox": {
           "style": "light"
          },
          "paper_bgcolor": "white",
          "plot_bgcolor": "#E5ECF6",
          "polar": {
           "angularaxis": {
            "gridcolor": "white",
            "linecolor": "white",
            "ticks": ""
           },
           "bgcolor": "#E5ECF6",
           "radialaxis": {
            "gridcolor": "white",
            "linecolor": "white",
            "ticks": ""
           }
          },
          "scene": {
           "xaxis": {
            "backgroundcolor": "#E5ECF6",
            "gridcolor": "white",
            "gridwidth": 2,
            "linecolor": "white",
            "showbackground": true,
            "ticks": "",
            "zerolinecolor": "white"
           },
           "yaxis": {
            "backgroundcolor": "#E5ECF6",
            "gridcolor": "white",
            "gridwidth": 2,
            "linecolor": "white",
            "showbackground": true,
            "ticks": "",
            "zerolinecolor": "white"
           },
           "zaxis": {
            "backgroundcolor": "#E5ECF6",
            "gridcolor": "white",
            "gridwidth": 2,
            "linecolor": "white",
            "showbackground": true,
            "ticks": "",
            "zerolinecolor": "white"
           }
          },
          "shapedefaults": {
           "line": {
            "color": "#2a3f5f"
           }
          },
          "ternary": {
           "aaxis": {
            "gridcolor": "white",
            "linecolor": "white",
            "ticks": ""
           },
           "baxis": {
            "gridcolor": "white",
            "linecolor": "white",
            "ticks": ""
           },
           "bgcolor": "#E5ECF6",
           "caxis": {
            "gridcolor": "white",
            "linecolor": "white",
            "ticks": ""
           }
          },
          "title": {
           "x": 0.05
          },
          "xaxis": {
           "automargin": true,
           "gridcolor": "white",
           "linecolor": "white",
           "ticks": "",
           "title": {
            "standoff": 15
           },
           "zerolinecolor": "white",
           "zerolinewidth": 2
          },
          "yaxis": {
           "automargin": true,
           "gridcolor": "white",
           "linecolor": "white",
           "ticks": "",
           "title": {
            "standoff": 15
           },
           "zerolinecolor": "white",
           "zerolinewidth": 2
          }
         }
        },
        "title": {
         "text": "<b>AMM Curve</b>"
        },
        "width": 1000,
        "xaxis": {
         "anchor": "y",
         "domain": [
          0,
          1
         ],
         "range": [
          0,
          1000
         ],
         "title": {
          "text": "token_A"
         }
        },
        "yaxis": {
         "anchor": "x",
         "domain": [
          0,
          1
         ],
         "range": [
          0,
          1000
         ],
         "title": {
          "text": "token_B"
         }
        }
       }
      },
      "text/html": [
       "<div>                            <div id=\"3949569e-538f-4033-b68e-81492c50a648\" class=\"plotly-graph-div\" style=\"height:1000px; width:1000px;\"></div>            <script type=\"text/javascript\">                require([\"plotly\"], function(Plotly) {                    window.PLOTLYENV=window.PLOTLYENV || {};                                    if (document.getElementById(\"3949569e-538f-4033-b68e-81492c50a648\")) {                    Plotly.newPlot(                        \"3949569e-538f-4033-b68e-81492c50a648\",                        [{\"hovertemplate\": \"token_A=%{x}<br>token_B=%{y}<extra></extra>\", \"legendgroup\": \"\", \"line\": {\"color\": \"#0d0887\", \"dash\": \"solid\"}, \"mode\": \"lines\", \"name\": \"\", \"orientation\": \"v\", \"showlegend\": false, \"type\": \"scatter\", \"x\": [100.0, 99.0, 98.0, 97.0, 96.0, 95.0, 94.0, 93.0, 92.0, 91.0, 90.0, 89.0, 88.0, 87.0, 86.0, 85.0, 84.0, 83.0, 82.0, 81.0, 80.0, 79.0, 78.0, 77.0, 76.0, 75.0, 74.0, 73.0, 72.0, 71.0, 70.0, 69.0, 68.0, 67.0, 66.0, 65.0, 64.0, 63.0, 62.0, 61.0, 60.0, 59.0, 58.0, 57.0, 56.0, 55.0, 54.0, 53.0, 52.0, 51.0, 50.0, 49.0, 48.0, 47.0, 46.0, 45.0, 44.0, 43.0, 42.0, 41.0, 40.0, 39.0, 38.0, 37.0, 36.0, 35.0, 34.0, 33.0, 32.0, 31.0, 30.0, 29.0, 28.0, 27.0, 26.0, 25.0, 24.0, 23.0, 22.0, 21.0, 20.0, 19.0, 18.0, 17.0, 16.0, 15.0, 14.0, 13.0, 12.0, 11.0, 10.0, 9.0, 8.0, 7.0, 6.0, 5.0, 4.0, 3.0, 2.0, 1.0, 10000.0, 4999.999999999998, 3333.333333333334, 2500.0, 1999.9999999999995, 1666.666666666667, 1428.5714285714284, 1249.9999999999995, 1111.1111111111113, 1000.0, 909.090909090909, 833.3333333333335, 769.2307692307693, 714.2857142857142, 666.6666666666666, 625.0, 588.2352941176471, 555.5555555555555, 526.315789473684, 499.9999999999999, 476.1904761904763, 454.5454545454545, 434.7826086956523, 416.66666666666674, 400.0, 384.6153846153847, 370.3703703703703, 357.1428571428571, 344.8275862068966, 333.3333333333333, 322.5806451612904, 312.4999999999999, 303.03030303030306, 294.11764705882354, 285.7142857142858, 277.7777777777778, 270.2702702702703, 263.1578947368422, 256.41025641025635, 250.0, 243.90243902439028, 238.09523809523807, 232.55813953488374, 227.27272727272725, 222.2222222222222, 217.3913043478261, 212.7659574468085, 208.33333333333337, 204.08163265306123, 199.99999999999997, 196.07843137254898, 192.30769230769232, 188.6792452830189, 185.18518518518516, 181.81818181818184, 178.57142857142856, 175.43859649122805, 172.41379310344826, 169.4915254237288, 166.66666666666666, 163.9344262295082, 161.29032258064515, 158.73015873015873, 156.25, 153.84615384615387, 151.51515151515147, 149.25373134328356, 147.05882352941177, 144.92753623188406, 142.85714285714286, 140.8450704225352, 138.88888888888889, 136.98630136986304, 135.13513513513513, 133.33333333333331, 131.578947368421, 129.87012987012983, 128.20512820512818, 126.58227848101268, 124.99999999999997, 123.45679012345678, 121.95121951219511, 120.48192771084337, 119.04761904761908, 117.6470588235294, 116.27906976744187, 114.94252873563217, 113.63636363636363, 112.35955056179779, 111.1111111111111, 109.89010989010991, 108.69565217391307, 107.5268817204301, 106.38297872340425, 105.26315789473686, 104.16666666666669, 103.09278350515464, 102.0408163265306, 101.01010101010101, 100.0], \"xaxis\": \"x\", \"y\": [100.0, 101.01010101010101, 102.0408163265306, 103.09278350515464, 104.16666666666669, 105.26315789473686, 106.38297872340425, 107.5268817204301, 108.69565217391307, 109.89010989010991, 111.1111111111111, 112.35955056179779, 113.63636363636363, 114.94252873563217, 116.27906976744187, 117.6470588235294, 119.04761904761908, 120.48192771084337, 121.95121951219511, 123.45679012345678, 124.99999999999997, 126.58227848101268, 128.20512820512818, 129.87012987012983, 131.578947368421, 133.33333333333331, 135.13513513513513, 136.98630136986304, 138.88888888888889, 140.8450704225352, 142.85714285714286, 144.92753623188406, 147.05882352941177, 149.25373134328356, 151.51515151515147, 153.84615384615387, 156.25, 158.73015873015873, 161.29032258064515, 163.9344262295082, 166.66666666666666, 169.4915254237288, 172.41379310344826, 175.43859649122805, 178.57142857142856, 181.81818181818184, 185.18518518518516, 188.6792452830189, 192.30769230769232, 196.07843137254898, 199.99999999999997, 204.08163265306123, 208.33333333333337, 212.7659574468085, 217.3913043478261, 222.2222222222222, 227.27272727272725, 232.55813953488374, 238.09523809523807, 243.90243902439028, 250.0, 256.41025641025635, 263.1578947368422, 270.2702702702703, 277.7777777777778, 285.7142857142858, 294.11764705882354, 303.03030303030306, 312.4999999999999, 322.5806451612904, 333.3333333333333, 344.8275862068966, 357.1428571428571, 370.3703703703703, 384.6153846153847, 400.0, 416.66666666666674, 434.7826086956523, 454.5454545454545, 476.1904761904763, 499.9999999999999, 526.315789473684, 555.5555555555555, 588.2352941176471, 625.0, 666.6666666666666, 714.2857142857142, 769.2307692307693, 833.3333333333335, 909.090909090909, 1000.0, 1111.1111111111113, 1249.9999999999995, 1428.5714285714284, 1666.666666666667, 1999.9999999999995, 2500.0, 3333.333333333334, 4999.999999999998, 10000.0, 1.0, 2.0, 3.0, 4.0, 5.0, 6.0, 7.0, 8.0, 9.0, 10.0, 11.0, 12.0, 13.0, 14.0, 15.0, 16.0, 17.0, 18.0, 19.0, 20.0, 21.0, 22.0, 23.0, 24.0, 25.0, 26.0, 27.0, 28.0, 29.0, 30.0, 31.0, 32.0, 33.0, 34.0, 35.0, 36.0, 37.0, 38.0, 39.0, 40.0, 41.0, 42.0, 43.0, 44.0, 45.0, 46.0, 47.0, 48.0, 49.0, 50.0, 51.0, 52.0, 53.0, 54.0, 55.0, 56.0, 57.0, 58.0, 59.0, 60.0, 61.0, 62.0, 63.0, 64.0, 65.0, 66.0, 67.0, 68.0, 69.0, 70.0, 71.0, 72.0, 73.0, 74.0, 75.0, 76.0, 77.0, 78.0, 79.0, 80.0, 81.0, 82.0, 83.0, 84.0, 85.0, 86.0, 87.0, 88.0, 89.0, 90.0, 91.0, 92.0, 93.0, 94.0, 95.0, 96.0, 97.0, 98.0, 99.0, 100.0], \"yaxis\": \"y\"}],                        {\"height\": 1000, \"legend\": {\"tracegroupgap\": 0}, \"margin\": {\"t\": 60}, \"template\": {\"data\": {\"bar\": [{\"error_x\": {\"color\": \"#2a3f5f\"}, \"error_y\": {\"color\": \"#2a3f5f\"}, \"marker\": {\"line\": {\"color\": \"#E5ECF6\", \"width\": 0.5}}, \"type\": \"bar\"}], \"barpolar\": [{\"marker\": {\"line\": {\"color\": \"#E5ECF6\", \"width\": 0.5}}, \"type\": \"barpolar\"}], \"carpet\": [{\"aaxis\": {\"endlinecolor\": \"#2a3f5f\", \"gridcolor\": \"white\", \"linecolor\": \"white\", \"minorgridcolor\": \"white\", \"startlinecolor\": \"#2a3f5f\"}, \"baxis\": {\"endlinecolor\": \"#2a3f5f\", \"gridcolor\": \"white\", \"linecolor\": \"white\", \"minorgridcolor\": \"white\", \"startlinecolor\": \"#2a3f5f\"}, \"type\": \"carpet\"}], \"choropleth\": [{\"colorbar\": {\"outlinewidth\": 0, \"ticks\": \"\"}, \"type\": \"choropleth\"}], \"contour\": [{\"colorbar\": {\"outlinewidth\": 0, \"ticks\": \"\"}, \"colorscale\": [[0.0, \"#0d0887\"], [0.1111111111111111, \"#46039f\"], [0.2222222222222222, \"#7201a8\"], [0.3333333333333333, \"#9c179e\"], [0.4444444444444444, \"#bd3786\"], [0.5555555555555556, \"#d8576b\"], [0.6666666666666666, \"#ed7953\"], [0.7777777777777778, \"#fb9f3a\"], [0.8888888888888888, \"#fdca26\"], [1.0, \"#f0f921\"]], \"type\": \"contour\"}], \"contourcarpet\": [{\"colorbar\": {\"outlinewidth\": 0, \"ticks\": \"\"}, \"type\": \"contourcarpet\"}], \"heatmap\": [{\"colorbar\": {\"outlinewidth\": 0, \"ticks\": \"\"}, \"colorscale\": [[0.0, \"#0d0887\"], [0.1111111111111111, \"#46039f\"], [0.2222222222222222, \"#7201a8\"], [0.3333333333333333, \"#9c179e\"], [0.4444444444444444, \"#bd3786\"], [0.5555555555555556, \"#d8576b\"], [0.6666666666666666, \"#ed7953\"], [0.7777777777777778, \"#fb9f3a\"], [0.8888888888888888, \"#fdca26\"], [1.0, \"#f0f921\"]], \"type\": \"heatmap\"}], \"heatmapgl\": [{\"colorbar\": {\"outlinewidth\": 0, \"ticks\": \"\"}, \"colorscale\": [[0.0, \"#0d0887\"], [0.1111111111111111, \"#46039f\"], [0.2222222222222222, \"#7201a8\"], [0.3333333333333333, \"#9c179e\"], [0.4444444444444444, \"#bd3786\"], [0.5555555555555556, \"#d8576b\"], [0.6666666666666666, \"#ed7953\"], [0.7777777777777778, \"#fb9f3a\"], [0.8888888888888888, \"#fdca26\"], [1.0, \"#f0f921\"]], \"type\": \"heatmapgl\"}], \"histogram\": [{\"marker\": {\"colorbar\": {\"outlinewidth\": 0, \"ticks\": \"\"}}, \"type\": \"histogram\"}], \"histogram2d\": [{\"colorbar\": {\"outlinewidth\": 0, \"ticks\": \"\"}, \"colorscale\": [[0.0, \"#0d0887\"], [0.1111111111111111, \"#46039f\"], [0.2222222222222222, \"#7201a8\"], [0.3333333333333333, \"#9c179e\"], [0.4444444444444444, \"#bd3786\"], [0.5555555555555556, \"#d8576b\"], [0.6666666666666666, \"#ed7953\"], [0.7777777777777778, \"#fb9f3a\"], [0.8888888888888888, \"#fdca26\"], [1.0, \"#f0f921\"]], \"type\": \"histogram2d\"}], \"histogram2dcontour\": [{\"colorbar\": {\"outlinewidth\": 0, \"ticks\": \"\"}, \"colorscale\": [[0.0, \"#0d0887\"], [0.1111111111111111, \"#46039f\"], [0.2222222222222222, \"#7201a8\"], [0.3333333333333333, \"#9c179e\"], [0.4444444444444444, \"#bd3786\"], [0.5555555555555556, \"#d8576b\"], [0.6666666666666666, \"#ed7953\"], [0.7777777777777778, \"#fb9f3a\"], [0.8888888888888888, \"#fdca26\"], [1.0, \"#f0f921\"]], \"type\": \"histogram2dcontour\"}], \"mesh3d\": [{\"colorbar\": {\"outlinewidth\": 0, \"ticks\": \"\"}, \"type\": \"mesh3d\"}], \"parcoords\": [{\"line\": {\"colorbar\": {\"outlinewidth\": 0, \"ticks\": \"\"}}, \"type\": \"parcoords\"}], \"pie\": [{\"automargin\": true, \"type\": \"pie\"}], \"scatter\": [{\"marker\": {\"colorbar\": {\"outlinewidth\": 0, \"ticks\": \"\"}}, \"type\": \"scatter\"}], \"scatter3d\": [{\"line\": {\"colorbar\": {\"outlinewidth\": 0, \"ticks\": \"\"}}, \"marker\": {\"colorbar\": {\"outlinewidth\": 0, \"ticks\": \"\"}}, \"type\": \"scatter3d\"}], \"scattercarpet\": [{\"marker\": {\"colorbar\": {\"outlinewidth\": 0, \"ticks\": \"\"}}, \"type\": \"scattercarpet\"}], \"scattergeo\": [{\"marker\": {\"colorbar\": {\"outlinewidth\": 0, \"ticks\": \"\"}}, \"type\": \"scattergeo\"}], \"scattergl\": [{\"marker\": {\"colorbar\": {\"outlinewidth\": 0, \"ticks\": \"\"}}, \"type\": \"scattergl\"}], \"scattermapbox\": [{\"marker\": {\"colorbar\": {\"outlinewidth\": 0, \"ticks\": \"\"}}, \"type\": \"scattermapbox\"}], \"scatterpolar\": [{\"marker\": {\"colorbar\": {\"outlinewidth\": 0, \"ticks\": \"\"}}, \"type\": \"scatterpolar\"}], \"scatterpolargl\": [{\"marker\": {\"colorbar\": {\"outlinewidth\": 0, \"ticks\": \"\"}}, \"type\": \"scatterpolargl\"}], \"scatterternary\": [{\"marker\": {\"colorbar\": {\"outlinewidth\": 0, \"ticks\": \"\"}}, \"type\": \"scatterternary\"}], \"surface\": [{\"colorbar\": {\"outlinewidth\": 0, \"ticks\": \"\"}, \"colorscale\": [[0.0, \"#0d0887\"], [0.1111111111111111, \"#46039f\"], [0.2222222222222222, \"#7201a8\"], [0.3333333333333333, \"#9c179e\"], [0.4444444444444444, \"#bd3786\"], [0.5555555555555556, \"#d8576b\"], [0.6666666666666666, \"#ed7953\"], [0.7777777777777778, \"#fb9f3a\"], [0.8888888888888888, \"#fdca26\"], [1.0, \"#f0f921\"]], \"type\": \"surface\"}], \"table\": [{\"cells\": {\"fill\": {\"color\": \"#EBF0F8\"}, \"line\": {\"color\": \"white\"}}, \"header\": {\"fill\": {\"color\": \"#C8D4E3\"}, \"line\": {\"color\": \"white\"}}, \"type\": \"table\"}]}, \"layout\": {\"annotationdefaults\": {\"arrowcolor\": \"#2a3f5f\", \"arrowhead\": 0, \"arrowwidth\": 1}, \"coloraxis\": {\"colorbar\": {\"outlinewidth\": 0, \"ticks\": \"\"}}, \"colorscale\": {\"diverging\": [[0, \"#8e0152\"], [0.1, \"#c51b7d\"], [0.2, \"#de77ae\"], [0.3, \"#f1b6da\"], [0.4, \"#fde0ef\"], [0.5, \"#f7f7f7\"], [0.6, \"#e6f5d0\"], [0.7, \"#b8e186\"], [0.8, \"#7fbc41\"], [0.9, \"#4d9221\"], [1, \"#276419\"]], \"sequential\": [[0.0, \"#0d0887\"], [0.1111111111111111, \"#46039f\"], [0.2222222222222222, \"#7201a8\"], [0.3333333333333333, \"#9c179e\"], [0.4444444444444444, \"#bd3786\"], [0.5555555555555556, \"#d8576b\"], [0.6666666666666666, \"#ed7953\"], [0.7777777777777778, \"#fb9f3a\"], [0.8888888888888888, \"#fdca26\"], [1.0, \"#f0f921\"]], \"sequentialminus\": [[0.0, \"#0d0887\"], [0.1111111111111111, \"#46039f\"], [0.2222222222222222, \"#7201a8\"], [0.3333333333333333, \"#9c179e\"], [0.4444444444444444, \"#bd3786\"], [0.5555555555555556, \"#d8576b\"], [0.6666666666666666, \"#ed7953\"], [0.7777777777777778, \"#fb9f3a\"], [0.8888888888888888, \"#fdca26\"], [1.0, \"#f0f921\"]]}, \"colorway\": [\"#636efa\", \"#EF553B\", \"#00cc96\", \"#ab63fa\", \"#FFA15A\", \"#19d3f3\", \"#FF6692\", \"#B6E880\", \"#FF97FF\", \"#FECB52\"], \"font\": {\"color\": \"#2a3f5f\"}, \"geo\": {\"bgcolor\": \"white\", \"lakecolor\": \"white\", \"landcolor\": \"#E5ECF6\", \"showlakes\": true, \"showland\": true, \"subunitcolor\": \"white\"}, \"hoverlabel\": {\"align\": \"left\"}, \"hovermode\": \"closest\", \"mapbox\": {\"style\": \"light\"}, \"paper_bgcolor\": \"white\", \"plot_bgcolor\": \"#E5ECF6\", \"polar\": {\"angularaxis\": {\"gridcolor\": \"white\", \"linecolor\": \"white\", \"ticks\": \"\"}, \"bgcolor\": \"#E5ECF6\", \"radialaxis\": {\"gridcolor\": \"white\", \"linecolor\": \"white\", \"ticks\": \"\"}}, \"scene\": {\"xaxis\": {\"backgroundcolor\": \"#E5ECF6\", \"gridcolor\": \"white\", \"gridwidth\": 2, \"linecolor\": \"white\", \"showbackground\": true, \"ticks\": \"\", \"zerolinecolor\": \"white\"}, \"yaxis\": {\"backgroundcolor\": \"#E5ECF6\", \"gridcolor\": \"white\", \"gridwidth\": 2, \"linecolor\": \"white\", \"showbackground\": true, \"ticks\": \"\", \"zerolinecolor\": \"white\"}, \"zaxis\": {\"backgroundcolor\": \"#E5ECF6\", \"gridcolor\": \"white\", \"gridwidth\": 2, \"linecolor\": \"white\", \"showbackground\": true, \"ticks\": \"\", \"zerolinecolor\": \"white\"}}, \"shapedefaults\": {\"line\": {\"color\": \"#2a3f5f\"}}, \"ternary\": {\"aaxis\": {\"gridcolor\": \"white\", \"linecolor\": \"white\", \"ticks\": \"\"}, \"baxis\": {\"gridcolor\": \"white\", \"linecolor\": \"white\", \"ticks\": \"\"}, \"bgcolor\": \"#E5ECF6\", \"caxis\": {\"gridcolor\": \"white\", \"linecolor\": \"white\", \"ticks\": \"\"}}, \"title\": {\"x\": 0.05}, \"xaxis\": {\"automargin\": true, \"gridcolor\": \"white\", \"linecolor\": \"white\", \"ticks\": \"\", \"title\": {\"standoff\": 15}, \"zerolinecolor\": \"white\", \"zerolinewidth\": 2}, \"yaxis\": {\"automargin\": true, \"gridcolor\": \"white\", \"linecolor\": \"white\", \"ticks\": \"\", \"title\": {\"standoff\": 15}, \"zerolinecolor\": \"white\", \"zerolinewidth\": 2}}}, \"title\": {\"text\": \"<b>AMM Curve</b>\"}, \"width\": 1000, \"xaxis\": {\"anchor\": \"y\", \"domain\": [0.0, 1.0], \"range\": [0, 1000], \"title\": {\"text\": \"token_A\"}}, \"yaxis\": {\"anchor\": \"x\", \"domain\": [0.0, 1.0], \"range\": [0, 1000], \"title\": {\"text\": \"token_B\"}}},                        {\"responsive\": true}                    ).then(function(){\n",
       "                            \n",
       "var gd = document.getElementById('3949569e-538f-4033-b68e-81492c50a648');\n",
       "var x = new MutationObserver(function (mutations, observer) {{\n",
       "        var display = window.getComputedStyle(gd).display;\n",
       "        if (!display || display === 'none') {{\n",
       "            console.log([gd, 'removed!']);\n",
       "            Plotly.purge(gd);\n",
       "            observer.disconnect();\n",
       "        }}\n",
       "}});\n",
       "\n",
       "// Listen for the removal of the full notebook cells\n",
       "var notebookContainer = gd.closest('#notebook-container');\n",
       "if (notebookContainer) {{\n",
       "    x.observe(notebookContainer, {childList: true});\n",
       "}}\n",
       "\n",
       "// Listen for the clearing of the current output cell\n",
       "var outputEl = gd.closest('.output');\n",
       "if (outputEl) {{\n",
       "    x.observe(outputEl, {childList: true});\n",
       "}}\n",
       "\n",
       "                        })                };                });            </script>        </div>"
      ]
     },
     "metadata": {},
     "output_type": "display_data"
    }
   ],
   "source": [
    "# buy_A = buy_A.drop(columns=['invariant'])\n",
    "# buy_B = buy_B.drop(columns=['invariant'])\n",
    "\n",
    "curve = pd.concat([buy_A, buy_B.iloc[::-1]], axis=0, ignore_index=True)\n",
    "\n",
    "fig = px.line(curve, x=\"token_A\", y=\"token_B\", color_discrete_sequence=px.colors.sequential.Plasma)\n",
    "fig.update_xaxes(range=[0, 1000])\n",
    "fig.update_yaxes(range=[0, 1000])\n",
    "fig.update_layout(height=1000, width=1000, title_text='<b>AMM Curve</b>')\n",
    "\n",
    "fig.show()"
   ]
  },
  {
   "cell_type": "markdown",
   "id": "about-comparison",
   "metadata": {},
   "source": [
    "# Q1.6:\n",
    "Take this plot, and mark \n",
    "- the initial price in Q1.1 (starting price)\n",
    "- the new price in Q1.4 (after 90 swaps)\n",
    "\n",
    "Side note: Why is it actually not appropriate to call this a \"price\". What would be a better name?"
   ]
  },
  {
   "cell_type": "code",
   "execution_count": 9,
   "id": "06a53aa4",
   "metadata": {},
   "outputs": [
    {
     "data": {
      "application/vnd.plotly.v1+json": {
       "config": {
        "plotlyServerURL": "https://plot.ly"
       },
       "data": [
        {
         "hovertemplate": "token_A=%{x}<br>token_B=%{y}<extra></extra>",
         "legendgroup": "",
         "line": {
          "color": "#0d0887",
          "dash": "solid"
         },
         "mode": "lines",
         "name": "",
         "orientation": "v",
         "showlegend": false,
         "type": "scatter",
         "x": [
          100,
          99,
          98,
          97,
          96,
          95,
          94,
          93,
          92,
          91,
          90,
          89,
          88,
          87,
          86,
          85,
          84,
          83,
          82,
          81,
          80,
          79,
          78,
          77,
          76,
          75,
          74,
          73,
          72,
          71,
          70,
          69,
          68,
          67,
          66,
          65,
          64,
          63,
          62,
          61,
          60,
          59,
          58,
          57,
          56,
          55,
          54,
          53,
          52,
          51,
          50,
          49,
          48,
          47,
          46,
          45,
          44,
          43,
          42,
          41,
          40,
          39,
          38,
          37,
          36,
          35,
          34,
          33,
          32,
          31,
          30,
          29,
          28,
          27,
          26,
          25,
          24,
          23,
          22,
          21,
          20,
          19,
          18,
          17,
          16,
          15,
          14,
          13,
          12,
          11,
          10,
          9,
          8,
          7,
          6,
          5,
          4,
          3,
          2,
          1,
          10000,
          4999.999999999998,
          3333.333333333334,
          2500,
          1999.9999999999995,
          1666.666666666667,
          1428.5714285714284,
          1249.9999999999995,
          1111.1111111111113,
          1000,
          909.090909090909,
          833.3333333333335,
          769.2307692307693,
          714.2857142857142,
          666.6666666666666,
          625,
          588.2352941176471,
          555.5555555555555,
          526.315789473684,
          499.9999999999999,
          476.1904761904763,
          454.5454545454545,
          434.7826086956523,
          416.66666666666674,
          400,
          384.6153846153847,
          370.3703703703703,
          357.1428571428571,
          344.8275862068966,
          333.3333333333333,
          322.5806451612904,
          312.4999999999999,
          303.03030303030306,
          294.11764705882354,
          285.7142857142858,
          277.7777777777778,
          270.2702702702703,
          263.1578947368422,
          256.41025641025635,
          250,
          243.90243902439028,
          238.09523809523807,
          232.55813953488374,
          227.27272727272725,
          222.2222222222222,
          217.3913043478261,
          212.7659574468085,
          208.33333333333337,
          204.08163265306123,
          199.99999999999997,
          196.07843137254898,
          192.30769230769232,
          188.6792452830189,
          185.18518518518516,
          181.81818181818184,
          178.57142857142856,
          175.43859649122805,
          172.41379310344826,
          169.4915254237288,
          166.66666666666666,
          163.9344262295082,
          161.29032258064515,
          158.73015873015873,
          156.25,
          153.84615384615387,
          151.51515151515147,
          149.25373134328356,
          147.05882352941177,
          144.92753623188406,
          142.85714285714286,
          140.8450704225352,
          138.88888888888889,
          136.98630136986304,
          135.13513513513513,
          133.33333333333331,
          131.578947368421,
          129.87012987012983,
          128.20512820512818,
          126.58227848101268,
          124.99999999999997,
          123.45679012345678,
          121.95121951219511,
          120.48192771084337,
          119.04761904761908,
          117.6470588235294,
          116.27906976744187,
          114.94252873563217,
          113.63636363636363,
          112.35955056179779,
          111.1111111111111,
          109.89010989010991,
          108.69565217391307,
          107.5268817204301,
          106.38297872340425,
          105.26315789473686,
          104.16666666666669,
          103.09278350515464,
          102.0408163265306,
          101.01010101010101,
          100
         ],
         "xaxis": "x",
         "y": [
          100,
          101.01010101010101,
          102.0408163265306,
          103.09278350515464,
          104.16666666666669,
          105.26315789473686,
          106.38297872340425,
          107.5268817204301,
          108.69565217391307,
          109.89010989010991,
          111.1111111111111,
          112.35955056179779,
          113.63636363636363,
          114.94252873563217,
          116.27906976744187,
          117.6470588235294,
          119.04761904761908,
          120.48192771084337,
          121.95121951219511,
          123.45679012345678,
          124.99999999999997,
          126.58227848101268,
          128.20512820512818,
          129.87012987012983,
          131.578947368421,
          133.33333333333331,
          135.13513513513513,
          136.98630136986304,
          138.88888888888889,
          140.8450704225352,
          142.85714285714286,
          144.92753623188406,
          147.05882352941177,
          149.25373134328356,
          151.51515151515147,
          153.84615384615387,
          156.25,
          158.73015873015873,
          161.29032258064515,
          163.9344262295082,
          166.66666666666666,
          169.4915254237288,
          172.41379310344826,
          175.43859649122805,
          178.57142857142856,
          181.81818181818184,
          185.18518518518516,
          188.6792452830189,
          192.30769230769232,
          196.07843137254898,
          199.99999999999997,
          204.08163265306123,
          208.33333333333337,
          212.7659574468085,
          217.3913043478261,
          222.2222222222222,
          227.27272727272725,
          232.55813953488374,
          238.09523809523807,
          243.90243902439028,
          250,
          256.41025641025635,
          263.1578947368422,
          270.2702702702703,
          277.7777777777778,
          285.7142857142858,
          294.11764705882354,
          303.03030303030306,
          312.4999999999999,
          322.5806451612904,
          333.3333333333333,
          344.8275862068966,
          357.1428571428571,
          370.3703703703703,
          384.6153846153847,
          400,
          416.66666666666674,
          434.7826086956523,
          454.5454545454545,
          476.1904761904763,
          499.9999999999999,
          526.315789473684,
          555.5555555555555,
          588.2352941176471,
          625,
          666.6666666666666,
          714.2857142857142,
          769.2307692307693,
          833.3333333333335,
          909.090909090909,
          1000,
          1111.1111111111113,
          1249.9999999999995,
          1428.5714285714284,
          1666.666666666667,
          1999.9999999999995,
          2500,
          3333.333333333334,
          4999.999999999998,
          10000,
          1,
          2,
          3,
          4,
          5,
          6,
          7,
          8,
          9,
          10,
          11,
          12,
          13,
          14,
          15,
          16,
          17,
          18,
          19,
          20,
          21,
          22,
          23,
          24,
          25,
          26,
          27,
          28,
          29,
          30,
          31,
          32,
          33,
          34,
          35,
          36,
          37,
          38,
          39,
          40,
          41,
          42,
          43,
          44,
          45,
          46,
          47,
          48,
          49,
          50,
          51,
          52,
          53,
          54,
          55,
          56,
          57,
          58,
          59,
          60,
          61,
          62,
          63,
          64,
          65,
          66,
          67,
          68,
          69,
          70,
          71,
          72,
          73,
          74,
          75,
          76,
          77,
          78,
          79,
          80,
          81,
          82,
          83,
          84,
          85,
          86,
          87,
          88,
          89,
          90,
          91,
          92,
          93,
          94,
          95,
          96,
          97,
          98,
          99,
          100
         ],
         "yaxis": "y"
        },
        {
         "type": "scatter",
         "x": [
          100
         ],
         "y": [
          100
         ]
        },
        {
         "type": "scatter",
         "x": [
          1000
         ],
         "y": [
          10
         ]
        }
       ],
       "layout": {
        "annotations": [
         {
          "showarrow": true,
          "text": "initial balance",
          "x": 100,
          "y": 100
         },
         {
          "showarrow": true,
          "text": "swap_90_B",
          "x": 1000,
          "y": 10
         }
        ],
        "height": 1000,
        "legend": {
         "tracegroupgap": 0
        },
        "margin": {
         "t": 60
        },
        "showlegend": false,
        "template": {
         "data": {
          "bar": [
           {
            "error_x": {
             "color": "#2a3f5f"
            },
            "error_y": {
             "color": "#2a3f5f"
            },
            "marker": {
             "line": {
              "color": "#E5ECF6",
              "width": 0.5
             }
            },
            "type": "bar"
           }
          ],
          "barpolar": [
           {
            "marker": {
             "line": {
              "color": "#E5ECF6",
              "width": 0.5
             }
            },
            "type": "barpolar"
           }
          ],
          "carpet": [
           {
            "aaxis": {
             "endlinecolor": "#2a3f5f",
             "gridcolor": "white",
             "linecolor": "white",
             "minorgridcolor": "white",
             "startlinecolor": "#2a3f5f"
            },
            "baxis": {
             "endlinecolor": "#2a3f5f",
             "gridcolor": "white",
             "linecolor": "white",
             "minorgridcolor": "white",
             "startlinecolor": "#2a3f5f"
            },
            "type": "carpet"
           }
          ],
          "choropleth": [
           {
            "colorbar": {
             "outlinewidth": 0,
             "ticks": ""
            },
            "type": "choropleth"
           }
          ],
          "contour": [
           {
            "colorbar": {
             "outlinewidth": 0,
             "ticks": ""
            },
            "colorscale": [
             [
              0,
              "#0d0887"
             ],
             [
              0.1111111111111111,
              "#46039f"
             ],
             [
              0.2222222222222222,
              "#7201a8"
             ],
             [
              0.3333333333333333,
              "#9c179e"
             ],
             [
              0.4444444444444444,
              "#bd3786"
             ],
             [
              0.5555555555555556,
              "#d8576b"
             ],
             [
              0.6666666666666666,
              "#ed7953"
             ],
             [
              0.7777777777777778,
              "#fb9f3a"
             ],
             [
              0.8888888888888888,
              "#fdca26"
             ],
             [
              1,
              "#f0f921"
             ]
            ],
            "type": "contour"
           }
          ],
          "contourcarpet": [
           {
            "colorbar": {
             "outlinewidth": 0,
             "ticks": ""
            },
            "type": "contourcarpet"
           }
          ],
          "heatmap": [
           {
            "colorbar": {
             "outlinewidth": 0,
             "ticks": ""
            },
            "colorscale": [
             [
              0,
              "#0d0887"
             ],
             [
              0.1111111111111111,
              "#46039f"
             ],
             [
              0.2222222222222222,
              "#7201a8"
             ],
             [
              0.3333333333333333,
              "#9c179e"
             ],
             [
              0.4444444444444444,
              "#bd3786"
             ],
             [
              0.5555555555555556,
              "#d8576b"
             ],
             [
              0.6666666666666666,
              "#ed7953"
             ],
             [
              0.7777777777777778,
              "#fb9f3a"
             ],
             [
              0.8888888888888888,
              "#fdca26"
             ],
             [
              1,
              "#f0f921"
             ]
            ],
            "type": "heatmap"
           }
          ],
          "heatmapgl": [
           {
            "colorbar": {
             "outlinewidth": 0,
             "ticks": ""
            },
            "colorscale": [
             [
              0,
              "#0d0887"
             ],
             [
              0.1111111111111111,
              "#46039f"
             ],
             [
              0.2222222222222222,
              "#7201a8"
             ],
             [
              0.3333333333333333,
              "#9c179e"
             ],
             [
              0.4444444444444444,
              "#bd3786"
             ],
             [
              0.5555555555555556,
              "#d8576b"
             ],
             [
              0.6666666666666666,
              "#ed7953"
             ],
             [
              0.7777777777777778,
              "#fb9f3a"
             ],
             [
              0.8888888888888888,
              "#fdca26"
             ],
             [
              1,
              "#f0f921"
             ]
            ],
            "type": "heatmapgl"
           }
          ],
          "histogram": [
           {
            "marker": {
             "colorbar": {
              "outlinewidth": 0,
              "ticks": ""
             }
            },
            "type": "histogram"
           }
          ],
          "histogram2d": [
           {
            "colorbar": {
             "outlinewidth": 0,
             "ticks": ""
            },
            "colorscale": [
             [
              0,
              "#0d0887"
             ],
             [
              0.1111111111111111,
              "#46039f"
             ],
             [
              0.2222222222222222,
              "#7201a8"
             ],
             [
              0.3333333333333333,
              "#9c179e"
             ],
             [
              0.4444444444444444,
              "#bd3786"
             ],
             [
              0.5555555555555556,
              "#d8576b"
             ],
             [
              0.6666666666666666,
              "#ed7953"
             ],
             [
              0.7777777777777778,
              "#fb9f3a"
             ],
             [
              0.8888888888888888,
              "#fdca26"
             ],
             [
              1,
              "#f0f921"
             ]
            ],
            "type": "histogram2d"
           }
          ],
          "histogram2dcontour": [
           {
            "colorbar": {
             "outlinewidth": 0,
             "ticks": ""
            },
            "colorscale": [
             [
              0,
              "#0d0887"
             ],
             [
              0.1111111111111111,
              "#46039f"
             ],
             [
              0.2222222222222222,
              "#7201a8"
             ],
             [
              0.3333333333333333,
              "#9c179e"
             ],
             [
              0.4444444444444444,
              "#bd3786"
             ],
             [
              0.5555555555555556,
              "#d8576b"
             ],
             [
              0.6666666666666666,
              "#ed7953"
             ],
             [
              0.7777777777777778,
              "#fb9f3a"
             ],
             [
              0.8888888888888888,
              "#fdca26"
             ],
             [
              1,
              "#f0f921"
             ]
            ],
            "type": "histogram2dcontour"
           }
          ],
          "mesh3d": [
           {
            "colorbar": {
             "outlinewidth": 0,
             "ticks": ""
            },
            "type": "mesh3d"
           }
          ],
          "parcoords": [
           {
            "line": {
             "colorbar": {
              "outlinewidth": 0,
              "ticks": ""
             }
            },
            "type": "parcoords"
           }
          ],
          "pie": [
           {
            "automargin": true,
            "type": "pie"
           }
          ],
          "scatter": [
           {
            "marker": {
             "colorbar": {
              "outlinewidth": 0,
              "ticks": ""
             }
            },
            "type": "scatter"
           }
          ],
          "scatter3d": [
           {
            "line": {
             "colorbar": {
              "outlinewidth": 0,
              "ticks": ""
             }
            },
            "marker": {
             "colorbar": {
              "outlinewidth": 0,
              "ticks": ""
             }
            },
            "type": "scatter3d"
           }
          ],
          "scattercarpet": [
           {
            "marker": {
             "colorbar": {
              "outlinewidth": 0,
              "ticks": ""
             }
            },
            "type": "scattercarpet"
           }
          ],
          "scattergeo": [
           {
            "marker": {
             "colorbar": {
              "outlinewidth": 0,
              "ticks": ""
             }
            },
            "type": "scattergeo"
           }
          ],
          "scattergl": [
           {
            "marker": {
             "colorbar": {
              "outlinewidth": 0,
              "ticks": ""
             }
            },
            "type": "scattergl"
           }
          ],
          "scattermapbox": [
           {
            "marker": {
             "colorbar": {
              "outlinewidth": 0,
              "ticks": ""
             }
            },
            "type": "scattermapbox"
           }
          ],
          "scatterpolar": [
           {
            "marker": {
             "colorbar": {
              "outlinewidth": 0,
              "ticks": ""
             }
            },
            "type": "scatterpolar"
           }
          ],
          "scatterpolargl": [
           {
            "marker": {
             "colorbar": {
              "outlinewidth": 0,
              "ticks": ""
             }
            },
            "type": "scatterpolargl"
           }
          ],
          "scatterternary": [
           {
            "marker": {
             "colorbar": {
              "outlinewidth": 0,
              "ticks": ""
             }
            },
            "type": "scatterternary"
           }
          ],
          "surface": [
           {
            "colorbar": {
             "outlinewidth": 0,
             "ticks": ""
            },
            "colorscale": [
             [
              0,
              "#0d0887"
             ],
             [
              0.1111111111111111,
              "#46039f"
             ],
             [
              0.2222222222222222,
              "#7201a8"
             ],
             [
              0.3333333333333333,
              "#9c179e"
             ],
             [
              0.4444444444444444,
              "#bd3786"
             ],
             [
              0.5555555555555556,
              "#d8576b"
             ],
             [
              0.6666666666666666,
              "#ed7953"
             ],
             [
              0.7777777777777778,
              "#fb9f3a"
             ],
             [
              0.8888888888888888,
              "#fdca26"
             ],
             [
              1,
              "#f0f921"
             ]
            ],
            "type": "surface"
           }
          ],
          "table": [
           {
            "cells": {
             "fill": {
              "color": "#EBF0F8"
             },
             "line": {
              "color": "white"
             }
            },
            "header": {
             "fill": {
              "color": "#C8D4E3"
             },
             "line": {
              "color": "white"
             }
            },
            "type": "table"
           }
          ]
         },
         "layout": {
          "annotationdefaults": {
           "arrowcolor": "#2a3f5f",
           "arrowhead": 0,
           "arrowwidth": 1
          },
          "coloraxis": {
           "colorbar": {
            "outlinewidth": 0,
            "ticks": ""
           }
          },
          "colorscale": {
           "diverging": [
            [
             0,
             "#8e0152"
            ],
            [
             0.1,
             "#c51b7d"
            ],
            [
             0.2,
             "#de77ae"
            ],
            [
             0.3,
             "#f1b6da"
            ],
            [
             0.4,
             "#fde0ef"
            ],
            [
             0.5,
             "#f7f7f7"
            ],
            [
             0.6,
             "#e6f5d0"
            ],
            [
             0.7,
             "#b8e186"
            ],
            [
             0.8,
             "#7fbc41"
            ],
            [
             0.9,
             "#4d9221"
            ],
            [
             1,
             "#276419"
            ]
           ],
           "sequential": [
            [
             0,
             "#0d0887"
            ],
            [
             0.1111111111111111,
             "#46039f"
            ],
            [
             0.2222222222222222,
             "#7201a8"
            ],
            [
             0.3333333333333333,
             "#9c179e"
            ],
            [
             0.4444444444444444,
             "#bd3786"
            ],
            [
             0.5555555555555556,
             "#d8576b"
            ],
            [
             0.6666666666666666,
             "#ed7953"
            ],
            [
             0.7777777777777778,
             "#fb9f3a"
            ],
            [
             0.8888888888888888,
             "#fdca26"
            ],
            [
             1,
             "#f0f921"
            ]
           ],
           "sequentialminus": [
            [
             0,
             "#0d0887"
            ],
            [
             0.1111111111111111,
             "#46039f"
            ],
            [
             0.2222222222222222,
             "#7201a8"
            ],
            [
             0.3333333333333333,
             "#9c179e"
            ],
            [
             0.4444444444444444,
             "#bd3786"
            ],
            [
             0.5555555555555556,
             "#d8576b"
            ],
            [
             0.6666666666666666,
             "#ed7953"
            ],
            [
             0.7777777777777778,
             "#fb9f3a"
            ],
            [
             0.8888888888888888,
             "#fdca26"
            ],
            [
             1,
             "#f0f921"
            ]
           ]
          },
          "colorway": [
           "#636efa",
           "#EF553B",
           "#00cc96",
           "#ab63fa",
           "#FFA15A",
           "#19d3f3",
           "#FF6692",
           "#B6E880",
           "#FF97FF",
           "#FECB52"
          ],
          "font": {
           "color": "#2a3f5f"
          },
          "geo": {
           "bgcolor": "white",
           "lakecolor": "white",
           "landcolor": "#E5ECF6",
           "showlakes": true,
           "showland": true,
           "subunitcolor": "white"
          },
          "hoverlabel": {
           "align": "left"
          },
          "hovermode": "closest",
          "mapbox": {
           "style": "light"
          },
          "paper_bgcolor": "white",
          "plot_bgcolor": "#E5ECF6",
          "polar": {
           "angularaxis": {
            "gridcolor": "white",
            "linecolor": "white",
            "ticks": ""
           },
           "bgcolor": "#E5ECF6",
           "radialaxis": {
            "gridcolor": "white",
            "linecolor": "white",
            "ticks": ""
           }
          },
          "scene": {
           "xaxis": {
            "backgroundcolor": "#E5ECF6",
            "gridcolor": "white",
            "gridwidth": 2,
            "linecolor": "white",
            "showbackground": true,
            "ticks": "",
            "zerolinecolor": "white"
           },
           "yaxis": {
            "backgroundcolor": "#E5ECF6",
            "gridcolor": "white",
            "gridwidth": 2,
            "linecolor": "white",
            "showbackground": true,
            "ticks": "",
            "zerolinecolor": "white"
           },
           "zaxis": {
            "backgroundcolor": "#E5ECF6",
            "gridcolor": "white",
            "gridwidth": 2,
            "linecolor": "white",
            "showbackground": true,
            "ticks": "",
            "zerolinecolor": "white"
           }
          },
          "shapedefaults": {
           "line": {
            "color": "#2a3f5f"
           }
          },
          "ternary": {
           "aaxis": {
            "gridcolor": "white",
            "linecolor": "white",
            "ticks": ""
           },
           "baxis": {
            "gridcolor": "white",
            "linecolor": "white",
            "ticks": ""
           },
           "bgcolor": "#E5ECF6",
           "caxis": {
            "gridcolor": "white",
            "linecolor": "white",
            "ticks": ""
           }
          },
          "title": {
           "x": 0.05
          },
          "xaxis": {
           "automargin": true,
           "gridcolor": "white",
           "linecolor": "white",
           "ticks": "",
           "title": {
            "standoff": 15
           },
           "zerolinecolor": "white",
           "zerolinewidth": 2
          },
          "yaxis": {
           "automargin": true,
           "gridcolor": "white",
           "linecolor": "white",
           "ticks": "",
           "title": {
            "standoff": 15
           },
           "zerolinecolor": "white",
           "zerolinewidth": 2
          }
         }
        },
        "title": {
         "text": "<b>AMM Curve with some points</b>"
        },
        "width": 1000,
        "xaxis": {
         "anchor": "y",
         "domain": [
          0,
          1
         ],
         "range": [
          0,
          1200
         ],
         "title": {
          "text": "token_A"
         }
        },
        "yaxis": {
         "anchor": "x",
         "domain": [
          0,
          1
         ],
         "range": [
          0,
          1200
         ],
         "title": {
          "text": "token_B"
         }
        }
       }
      },
      "text/html": [
       "<div>                            <div id=\"7f85b12b-2a14-48a0-847e-8f674978b1be\" class=\"plotly-graph-div\" style=\"height:1000px; width:1000px;\"></div>            <script type=\"text/javascript\">                require([\"plotly\"], function(Plotly) {                    window.PLOTLYENV=window.PLOTLYENV || {};                                    if (document.getElementById(\"7f85b12b-2a14-48a0-847e-8f674978b1be\")) {                    Plotly.newPlot(                        \"7f85b12b-2a14-48a0-847e-8f674978b1be\",                        [{\"hovertemplate\": \"token_A=%{x}<br>token_B=%{y}<extra></extra>\", \"legendgroup\": \"\", \"line\": {\"color\": \"#0d0887\", \"dash\": \"solid\"}, \"mode\": \"lines\", \"name\": \"\", \"orientation\": \"v\", \"showlegend\": false, \"type\": \"scatter\", \"x\": [100.0, 99.0, 98.0, 97.0, 96.0, 95.0, 94.0, 93.0, 92.0, 91.0, 90.0, 89.0, 88.0, 87.0, 86.0, 85.0, 84.0, 83.0, 82.0, 81.0, 80.0, 79.0, 78.0, 77.0, 76.0, 75.0, 74.0, 73.0, 72.0, 71.0, 70.0, 69.0, 68.0, 67.0, 66.0, 65.0, 64.0, 63.0, 62.0, 61.0, 60.0, 59.0, 58.0, 57.0, 56.0, 55.0, 54.0, 53.0, 52.0, 51.0, 50.0, 49.0, 48.0, 47.0, 46.0, 45.0, 44.0, 43.0, 42.0, 41.0, 40.0, 39.0, 38.0, 37.0, 36.0, 35.0, 34.0, 33.0, 32.0, 31.0, 30.0, 29.0, 28.0, 27.0, 26.0, 25.0, 24.0, 23.0, 22.0, 21.0, 20.0, 19.0, 18.0, 17.0, 16.0, 15.0, 14.0, 13.0, 12.0, 11.0, 10.0, 9.0, 8.0, 7.0, 6.0, 5.0, 4.0, 3.0, 2.0, 1.0, 10000.0, 4999.999999999998, 3333.333333333334, 2500.0, 1999.9999999999995, 1666.666666666667, 1428.5714285714284, 1249.9999999999995, 1111.1111111111113, 1000.0, 909.090909090909, 833.3333333333335, 769.2307692307693, 714.2857142857142, 666.6666666666666, 625.0, 588.2352941176471, 555.5555555555555, 526.315789473684, 499.9999999999999, 476.1904761904763, 454.5454545454545, 434.7826086956523, 416.66666666666674, 400.0, 384.6153846153847, 370.3703703703703, 357.1428571428571, 344.8275862068966, 333.3333333333333, 322.5806451612904, 312.4999999999999, 303.03030303030306, 294.11764705882354, 285.7142857142858, 277.7777777777778, 270.2702702702703, 263.1578947368422, 256.41025641025635, 250.0, 243.90243902439028, 238.09523809523807, 232.55813953488374, 227.27272727272725, 222.2222222222222, 217.3913043478261, 212.7659574468085, 208.33333333333337, 204.08163265306123, 199.99999999999997, 196.07843137254898, 192.30769230769232, 188.6792452830189, 185.18518518518516, 181.81818181818184, 178.57142857142856, 175.43859649122805, 172.41379310344826, 169.4915254237288, 166.66666666666666, 163.9344262295082, 161.29032258064515, 158.73015873015873, 156.25, 153.84615384615387, 151.51515151515147, 149.25373134328356, 147.05882352941177, 144.92753623188406, 142.85714285714286, 140.8450704225352, 138.88888888888889, 136.98630136986304, 135.13513513513513, 133.33333333333331, 131.578947368421, 129.87012987012983, 128.20512820512818, 126.58227848101268, 124.99999999999997, 123.45679012345678, 121.95121951219511, 120.48192771084337, 119.04761904761908, 117.6470588235294, 116.27906976744187, 114.94252873563217, 113.63636363636363, 112.35955056179779, 111.1111111111111, 109.89010989010991, 108.69565217391307, 107.5268817204301, 106.38297872340425, 105.26315789473686, 104.16666666666669, 103.09278350515464, 102.0408163265306, 101.01010101010101, 100.0], \"xaxis\": \"x\", \"y\": [100.0, 101.01010101010101, 102.0408163265306, 103.09278350515464, 104.16666666666669, 105.26315789473686, 106.38297872340425, 107.5268817204301, 108.69565217391307, 109.89010989010991, 111.1111111111111, 112.35955056179779, 113.63636363636363, 114.94252873563217, 116.27906976744187, 117.6470588235294, 119.04761904761908, 120.48192771084337, 121.95121951219511, 123.45679012345678, 124.99999999999997, 126.58227848101268, 128.20512820512818, 129.87012987012983, 131.578947368421, 133.33333333333331, 135.13513513513513, 136.98630136986304, 138.88888888888889, 140.8450704225352, 142.85714285714286, 144.92753623188406, 147.05882352941177, 149.25373134328356, 151.51515151515147, 153.84615384615387, 156.25, 158.73015873015873, 161.29032258064515, 163.9344262295082, 166.66666666666666, 169.4915254237288, 172.41379310344826, 175.43859649122805, 178.57142857142856, 181.81818181818184, 185.18518518518516, 188.6792452830189, 192.30769230769232, 196.07843137254898, 199.99999999999997, 204.08163265306123, 208.33333333333337, 212.7659574468085, 217.3913043478261, 222.2222222222222, 227.27272727272725, 232.55813953488374, 238.09523809523807, 243.90243902439028, 250.0, 256.41025641025635, 263.1578947368422, 270.2702702702703, 277.7777777777778, 285.7142857142858, 294.11764705882354, 303.03030303030306, 312.4999999999999, 322.5806451612904, 333.3333333333333, 344.8275862068966, 357.1428571428571, 370.3703703703703, 384.6153846153847, 400.0, 416.66666666666674, 434.7826086956523, 454.5454545454545, 476.1904761904763, 499.9999999999999, 526.315789473684, 555.5555555555555, 588.2352941176471, 625.0, 666.6666666666666, 714.2857142857142, 769.2307692307693, 833.3333333333335, 909.090909090909, 1000.0, 1111.1111111111113, 1249.9999999999995, 1428.5714285714284, 1666.666666666667, 1999.9999999999995, 2500.0, 3333.333333333334, 4999.999999999998, 10000.0, 1.0, 2.0, 3.0, 4.0, 5.0, 6.0, 7.0, 8.0, 9.0, 10.0, 11.0, 12.0, 13.0, 14.0, 15.0, 16.0, 17.0, 18.0, 19.0, 20.0, 21.0, 22.0, 23.0, 24.0, 25.0, 26.0, 27.0, 28.0, 29.0, 30.0, 31.0, 32.0, 33.0, 34.0, 35.0, 36.0, 37.0, 38.0, 39.0, 40.0, 41.0, 42.0, 43.0, 44.0, 45.0, 46.0, 47.0, 48.0, 49.0, 50.0, 51.0, 52.0, 53.0, 54.0, 55.0, 56.0, 57.0, 58.0, 59.0, 60.0, 61.0, 62.0, 63.0, 64.0, 65.0, 66.0, 67.0, 68.0, 69.0, 70.0, 71.0, 72.0, 73.0, 74.0, 75.0, 76.0, 77.0, 78.0, 79.0, 80.0, 81.0, 82.0, 83.0, 84.0, 85.0, 86.0, 87.0, 88.0, 89.0, 90.0, 91.0, 92.0, 93.0, 94.0, 95.0, 96.0, 97.0, 98.0, 99.0, 100.0], \"yaxis\": \"y\"}, {\"type\": \"scatter\", \"x\": [100], \"y\": [100]}, {\"type\": \"scatter\", \"x\": [1000.0], \"y\": [10]}],                        {\"annotations\": [{\"showarrow\": true, \"text\": \"initial balance\", \"x\": 100, \"y\": 100}, {\"showarrow\": true, \"text\": \"swap_90_B\", \"x\": 1000.0, \"y\": 10}], \"height\": 1000, \"legend\": {\"tracegroupgap\": 0}, \"margin\": {\"t\": 60}, \"showlegend\": false, \"template\": {\"data\": {\"bar\": [{\"error_x\": {\"color\": \"#2a3f5f\"}, \"error_y\": {\"color\": \"#2a3f5f\"}, \"marker\": {\"line\": {\"color\": \"#E5ECF6\", \"width\": 0.5}}, \"type\": \"bar\"}], \"barpolar\": [{\"marker\": {\"line\": {\"color\": \"#E5ECF6\", \"width\": 0.5}}, \"type\": \"barpolar\"}], \"carpet\": [{\"aaxis\": {\"endlinecolor\": \"#2a3f5f\", \"gridcolor\": \"white\", \"linecolor\": \"white\", \"minorgridcolor\": \"white\", \"startlinecolor\": \"#2a3f5f\"}, \"baxis\": {\"endlinecolor\": \"#2a3f5f\", \"gridcolor\": \"white\", \"linecolor\": \"white\", \"minorgridcolor\": \"white\", \"startlinecolor\": \"#2a3f5f\"}, \"type\": \"carpet\"}], \"choropleth\": [{\"colorbar\": {\"outlinewidth\": 0, \"ticks\": \"\"}, \"type\": \"choropleth\"}], \"contour\": [{\"colorbar\": {\"outlinewidth\": 0, \"ticks\": \"\"}, \"colorscale\": [[0.0, \"#0d0887\"], [0.1111111111111111, \"#46039f\"], [0.2222222222222222, \"#7201a8\"], [0.3333333333333333, \"#9c179e\"], [0.4444444444444444, \"#bd3786\"], [0.5555555555555556, \"#d8576b\"], [0.6666666666666666, \"#ed7953\"], [0.7777777777777778, \"#fb9f3a\"], [0.8888888888888888, \"#fdca26\"], [1.0, \"#f0f921\"]], \"type\": \"contour\"}], \"contourcarpet\": [{\"colorbar\": {\"outlinewidth\": 0, \"ticks\": \"\"}, \"type\": \"contourcarpet\"}], \"heatmap\": [{\"colorbar\": {\"outlinewidth\": 0, \"ticks\": \"\"}, \"colorscale\": [[0.0, \"#0d0887\"], [0.1111111111111111, \"#46039f\"], [0.2222222222222222, \"#7201a8\"], [0.3333333333333333, \"#9c179e\"], [0.4444444444444444, \"#bd3786\"], [0.5555555555555556, \"#d8576b\"], [0.6666666666666666, \"#ed7953\"], [0.7777777777777778, \"#fb9f3a\"], [0.8888888888888888, \"#fdca26\"], [1.0, \"#f0f921\"]], \"type\": \"heatmap\"}], \"heatmapgl\": [{\"colorbar\": {\"outlinewidth\": 0, \"ticks\": \"\"}, \"colorscale\": [[0.0, \"#0d0887\"], [0.1111111111111111, \"#46039f\"], [0.2222222222222222, \"#7201a8\"], [0.3333333333333333, \"#9c179e\"], [0.4444444444444444, \"#bd3786\"], [0.5555555555555556, \"#d8576b\"], [0.6666666666666666, \"#ed7953\"], [0.7777777777777778, \"#fb9f3a\"], [0.8888888888888888, \"#fdca26\"], [1.0, \"#f0f921\"]], \"type\": \"heatmapgl\"}], \"histogram\": [{\"marker\": {\"colorbar\": {\"outlinewidth\": 0, \"ticks\": \"\"}}, \"type\": \"histogram\"}], \"histogram2d\": [{\"colorbar\": {\"outlinewidth\": 0, \"ticks\": \"\"}, \"colorscale\": [[0.0, \"#0d0887\"], [0.1111111111111111, \"#46039f\"], [0.2222222222222222, \"#7201a8\"], [0.3333333333333333, \"#9c179e\"], [0.4444444444444444, \"#bd3786\"], [0.5555555555555556, \"#d8576b\"], [0.6666666666666666, \"#ed7953\"], [0.7777777777777778, \"#fb9f3a\"], [0.8888888888888888, \"#fdca26\"], [1.0, \"#f0f921\"]], \"type\": \"histogram2d\"}], \"histogram2dcontour\": [{\"colorbar\": {\"outlinewidth\": 0, \"ticks\": \"\"}, \"colorscale\": [[0.0, \"#0d0887\"], [0.1111111111111111, \"#46039f\"], [0.2222222222222222, \"#7201a8\"], [0.3333333333333333, \"#9c179e\"], [0.4444444444444444, \"#bd3786\"], [0.5555555555555556, \"#d8576b\"], [0.6666666666666666, \"#ed7953\"], [0.7777777777777778, \"#fb9f3a\"], [0.8888888888888888, \"#fdca26\"], [1.0, \"#f0f921\"]], \"type\": \"histogram2dcontour\"}], \"mesh3d\": [{\"colorbar\": {\"outlinewidth\": 0, \"ticks\": \"\"}, \"type\": \"mesh3d\"}], \"parcoords\": [{\"line\": {\"colorbar\": {\"outlinewidth\": 0, \"ticks\": \"\"}}, \"type\": \"parcoords\"}], \"pie\": [{\"automargin\": true, \"type\": \"pie\"}], \"scatter\": [{\"marker\": {\"colorbar\": {\"outlinewidth\": 0, \"ticks\": \"\"}}, \"type\": \"scatter\"}], \"scatter3d\": [{\"line\": {\"colorbar\": {\"outlinewidth\": 0, \"ticks\": \"\"}}, \"marker\": {\"colorbar\": {\"outlinewidth\": 0, \"ticks\": \"\"}}, \"type\": \"scatter3d\"}], \"scattercarpet\": [{\"marker\": {\"colorbar\": {\"outlinewidth\": 0, \"ticks\": \"\"}}, \"type\": \"scattercarpet\"}], \"scattergeo\": [{\"marker\": {\"colorbar\": {\"outlinewidth\": 0, \"ticks\": \"\"}}, \"type\": \"scattergeo\"}], \"scattergl\": [{\"marker\": {\"colorbar\": {\"outlinewidth\": 0, \"ticks\": \"\"}}, \"type\": \"scattergl\"}], \"scattermapbox\": [{\"marker\": {\"colorbar\": {\"outlinewidth\": 0, \"ticks\": \"\"}}, \"type\": \"scattermapbox\"}], \"scatterpolar\": [{\"marker\": {\"colorbar\": {\"outlinewidth\": 0, \"ticks\": \"\"}}, \"type\": \"scatterpolar\"}], \"scatterpolargl\": [{\"marker\": {\"colorbar\": {\"outlinewidth\": 0, \"ticks\": \"\"}}, \"type\": \"scatterpolargl\"}], \"scatterternary\": [{\"marker\": {\"colorbar\": {\"outlinewidth\": 0, \"ticks\": \"\"}}, \"type\": \"scatterternary\"}], \"surface\": [{\"colorbar\": {\"outlinewidth\": 0, \"ticks\": \"\"}, \"colorscale\": [[0.0, \"#0d0887\"], [0.1111111111111111, \"#46039f\"], [0.2222222222222222, \"#7201a8\"], [0.3333333333333333, \"#9c179e\"], [0.4444444444444444, \"#bd3786\"], [0.5555555555555556, \"#d8576b\"], [0.6666666666666666, \"#ed7953\"], [0.7777777777777778, \"#fb9f3a\"], [0.8888888888888888, \"#fdca26\"], [1.0, \"#f0f921\"]], \"type\": \"surface\"}], \"table\": [{\"cells\": {\"fill\": {\"color\": \"#EBF0F8\"}, \"line\": {\"color\": \"white\"}}, \"header\": {\"fill\": {\"color\": \"#C8D4E3\"}, \"line\": {\"color\": \"white\"}}, \"type\": \"table\"}]}, \"layout\": {\"annotationdefaults\": {\"arrowcolor\": \"#2a3f5f\", \"arrowhead\": 0, \"arrowwidth\": 1}, \"coloraxis\": {\"colorbar\": {\"outlinewidth\": 0, \"ticks\": \"\"}}, \"colorscale\": {\"diverging\": [[0, \"#8e0152\"], [0.1, \"#c51b7d\"], [0.2, \"#de77ae\"], [0.3, \"#f1b6da\"], [0.4, \"#fde0ef\"], [0.5, \"#f7f7f7\"], [0.6, \"#e6f5d0\"], [0.7, \"#b8e186\"], [0.8, \"#7fbc41\"], [0.9, \"#4d9221\"], [1, \"#276419\"]], \"sequential\": [[0.0, \"#0d0887\"], [0.1111111111111111, \"#46039f\"], [0.2222222222222222, \"#7201a8\"], [0.3333333333333333, \"#9c179e\"], [0.4444444444444444, \"#bd3786\"], [0.5555555555555556, \"#d8576b\"], [0.6666666666666666, \"#ed7953\"], [0.7777777777777778, \"#fb9f3a\"], [0.8888888888888888, \"#fdca26\"], [1.0, \"#f0f921\"]], \"sequentialminus\": [[0.0, \"#0d0887\"], [0.1111111111111111, \"#46039f\"], [0.2222222222222222, \"#7201a8\"], [0.3333333333333333, \"#9c179e\"], [0.4444444444444444, \"#bd3786\"], [0.5555555555555556, \"#d8576b\"], [0.6666666666666666, \"#ed7953\"], [0.7777777777777778, \"#fb9f3a\"], [0.8888888888888888, \"#fdca26\"], [1.0, \"#f0f921\"]]}, \"colorway\": [\"#636efa\", \"#EF553B\", \"#00cc96\", \"#ab63fa\", \"#FFA15A\", \"#19d3f3\", \"#FF6692\", \"#B6E880\", \"#FF97FF\", \"#FECB52\"], \"font\": {\"color\": \"#2a3f5f\"}, \"geo\": {\"bgcolor\": \"white\", \"lakecolor\": \"white\", \"landcolor\": \"#E5ECF6\", \"showlakes\": true, \"showland\": true, \"subunitcolor\": \"white\"}, \"hoverlabel\": {\"align\": \"left\"}, \"hovermode\": \"closest\", \"mapbox\": {\"style\": \"light\"}, \"paper_bgcolor\": \"white\", \"plot_bgcolor\": \"#E5ECF6\", \"polar\": {\"angularaxis\": {\"gridcolor\": \"white\", \"linecolor\": \"white\", \"ticks\": \"\"}, \"bgcolor\": \"#E5ECF6\", \"radialaxis\": {\"gridcolor\": \"white\", \"linecolor\": \"white\", \"ticks\": \"\"}}, \"scene\": {\"xaxis\": {\"backgroundcolor\": \"#E5ECF6\", \"gridcolor\": \"white\", \"gridwidth\": 2, \"linecolor\": \"white\", \"showbackground\": true, \"ticks\": \"\", \"zerolinecolor\": \"white\"}, \"yaxis\": {\"backgroundcolor\": \"#E5ECF6\", \"gridcolor\": \"white\", \"gridwidth\": 2, \"linecolor\": \"white\", \"showbackground\": true, \"ticks\": \"\", \"zerolinecolor\": \"white\"}, \"zaxis\": {\"backgroundcolor\": \"#E5ECF6\", \"gridcolor\": \"white\", \"gridwidth\": 2, \"linecolor\": \"white\", \"showbackground\": true, \"ticks\": \"\", \"zerolinecolor\": \"white\"}}, \"shapedefaults\": {\"line\": {\"color\": \"#2a3f5f\"}}, \"ternary\": {\"aaxis\": {\"gridcolor\": \"white\", \"linecolor\": \"white\", \"ticks\": \"\"}, \"baxis\": {\"gridcolor\": \"white\", \"linecolor\": \"white\", \"ticks\": \"\"}, \"bgcolor\": \"#E5ECF6\", \"caxis\": {\"gridcolor\": \"white\", \"linecolor\": \"white\", \"ticks\": \"\"}}, \"title\": {\"x\": 0.05}, \"xaxis\": {\"automargin\": true, \"gridcolor\": \"white\", \"linecolor\": \"white\", \"ticks\": \"\", \"title\": {\"standoff\": 15}, \"zerolinecolor\": \"white\", \"zerolinewidth\": 2}, \"yaxis\": {\"automargin\": true, \"gridcolor\": \"white\", \"linecolor\": \"white\", \"ticks\": \"\", \"title\": {\"standoff\": 15}, \"zerolinecolor\": \"white\", \"zerolinewidth\": 2}}}, \"title\": {\"text\": \"<b>AMM Curve with some points</b>\"}, \"width\": 1000, \"xaxis\": {\"anchor\": \"y\", \"domain\": [0.0, 1.0], \"range\": [0, 1200], \"title\": {\"text\": \"token_A\"}}, \"yaxis\": {\"anchor\": \"x\", \"domain\": [0.0, 1.0], \"range\": [0, 1200], \"title\": {\"text\": \"token_B\"}}},                        {\"responsive\": true}                    ).then(function(){\n",
       "                            \n",
       "var gd = document.getElementById('7f85b12b-2a14-48a0-847e-8f674978b1be');\n",
       "var x = new MutationObserver(function (mutations, observer) {{\n",
       "        var display = window.getComputedStyle(gd).display;\n",
       "        if (!display || display === 'none') {{\n",
       "            console.log([gd, 'removed!']);\n",
       "            Plotly.purge(gd);\n",
       "            observer.disconnect();\n",
       "        }}\n",
       "}});\n",
       "\n",
       "// Listen for the removal of the full notebook cells\n",
       "var notebookContainer = gd.closest('#notebook-container');\n",
       "if (notebookContainer) {{\n",
       "    x.observe(notebookContainer, {childList: true});\n",
       "}}\n",
       "\n",
       "// Listen for the clearing of the current output cell\n",
       "var outputEl = gd.closest('.output');\n",
       "if (outputEl) {{\n",
       "    x.observe(outputEl, {childList: true});\n",
       "}}\n",
       "\n",
       "                        })                };                });            </script>        </div>"
      ]
     },
     "metadata": {},
     "output_type": "display_data"
    }
   ],
   "source": [
    "# buy_A = buy_A.drop(columns=['invariant'])\n",
    "# buy_B = buy_B.drop(columns=['invariant'])\n",
    "\n",
    "curve = pd.concat([buy_A, buy_B.iloc[::-1]], axis=0, ignore_index=True)\n",
    "\n",
    "fig = px.line(curve, x=\"token_A\", y=\"token_B\", color_discrete_sequence=px.colors.sequential.Plasma)\n",
    "fig.update_xaxes(range=[0, 1200])\n",
    "fig.update_yaxes(range=[0, 1200])\n",
    "fig.update_layout(height=1000, width=1000, title_text='<b>AMM Curve with some points</b>')\n",
    "\n",
    "\n",
    "ini_point = [a_bal,b_bal]\n",
    "fig.add_trace(go.Scatter(x=[ini_point[0]], y=[ini_point[1]]))\n",
    "fig.add_annotation(x=100, y=100,\n",
    "            text=\"initial balance\",\n",
    "            showarrow=True,)\n",
    "\n",
    "swap_90_B = [buy_B.token_A[90],buy_B.token_B[90]]     #buy 90 token_B\n",
    "\n",
    "fig.add_trace(go.Scatter(x=[swap_90_B[0]], y=[swap_90_B[1]]))\n",
    "fig.add_annotation(x=swap_90_B[0], y=swap_90_B[1],\n",
    "            text=\"swap_90_B\",\n",
    "            showarrow=True,)\n",
    "\n",
    "fig.update_layout(showlegend=False)\n",
    "\n",
    "fig.show()"
   ]
  },
  {
   "cell_type": "markdown",
   "id": "fourth-newspaper",
   "metadata": {},
   "source": [
    "# Q1.7:\n",
    "Formulate a \"rule of a thumb\", how do swaps effect the price?\n",
    "- With number of swaps go on one direction, price keeps increasing toward the 'wanted' token as its scarcity increases"
   ]
  },
  {
   "cell_type": "markdown",
   "id": "voluntary-wisdom",
   "metadata": {},
   "source": [
    "## Additional questions:\n",
    "\n",
    "**Q1:** Buying A) 99 tokens at once vs. B) buying 99x 1 token\n",
    "Is there a difference in terms of the number of tokens you have to swap in? Is it \"more expensive\" to swap 99 times?\n",
    "**Answer: no, there's no difference - you pay the same amount no matter if you buy 1 at a time or 99 at once. Intuition: you are moving on the SAME curve, no matter if you take a huge leap, or walk in small steps.**\n",
    "\n",
    "**Q2:** Swap fees for buying 99 tokens at once vs. buying 99x 1 token\n",
    "Again, does it matter in terms of the total amount of tokens (change in balance+ fees) you have to pay?\n",
    "\n",
    "\n",
    "**Q3:** Price changes and position at the curve\n",
    "For a relative change in price, does it matter where we are at the curve? ( @mark richardson | bancor explained it very nicely, you might want to watch the recording again, will share it by tomorrow)\n",
    "\n",
    "**Q4:** Price changes, position at the curve and unequal weights\n",
    "What's the effect of weights on this? If weights are not equal, and we want to move prices, does it matter where we are at the curve?\n"
   ]
  },
  {
   "cell_type": "markdown",
   "id": "a1d1f9f3",
   "metadata": {},
   "source": [
    "### Q1\n",
    "Buying A) 99 tokens at once vs. B) buying 99x 1 token Is there a difference in terms of the number of tokens you have to swap in? Is it \"more expensive\" to swap 99 times?\n",
    "\n",
    "- Invariant V\n",
    "<div align=\"center\">$V = \\prod\\limits_{t} {B_t}^{W_{t}}\n",
    "= a^{w_a}b^{w_b}$</div>\n",
    "\n",
    "- Number of token B \n",
    "\n",
    "<div align=\"center\">\n",
    "$\n",
    "b = \\left( \\frac{V}{a^{w_a}} \\right)^{1/w_b}\n",
    "$\n",
    "</div>\n",
    "\n",
    "- **99 token_A at once swap**, meaning only 1 token_A left after that 1 swap, number of token B after that swap is calculated by \n",
    "<div align=\"center\">\n",
    "$\n",
    "b = \\left( \\frac{V}{1^{w_a}} \\right)^{1/w_b} = V^2\n",
    "$\n",
    "</div>\n",
    "\n",
    "- **99 swaps, 1 token_A each** \n",
    "    - Genesis state: \n",
    "<div align=\"center\">\n",
    "    $a_0 = a_{bal}$ <br>\n",
    "    $b_0 = b_{bal}$\n",
    "</div>\n",
    " \n",
    "    - 1st swap: \n",
    "<div align=\"center\">\n",
    "    $b_1  = \\left( \\frac{V}{(a_{bal}-1)^{w_a}} \\right)^{1/w_b}$\n",
    "</div>\n",
    "  \n",
    "<div align=\"center\">\n",
    "    $\\Delta b_1 =  b_1 - b_0 =\n",
    "    \\left( \\frac{V}{(a_{bal}-1)^{w_a}} \\right)^{1/w_b}- \n",
    "    \\left( \\frac{V}{(a_{bal})^{w_a}} \\right)^{1/w_b}$\n",
    "</div>\n",
    "    \n",
    "    - 2nd swap: \n",
    "<div align=\"center\">\n",
    "    $b_2 = \\left( \\frac{V}{(a_{bal}-2)^{w_a}} \\right)^{1/w_b}$\n",
    "</div>\n",
    "  \n",
    "<div align=\"center\">\n",
    "    $\\Delta b_2 = b_2 - b_1=\n",
    "    \\left( \\frac{V}{(a_{bal}-2)^{w_a}} \\right)^{1/w_b}- \n",
    "    \\left( \\frac{V}{(a_{bal}-1)^{w_a}} \\right)^{1/w_b}$\n",
    "</div>\n",
    "\n",
    "...\n",
    "\n",
    "    - 99th swap: \n",
    "<div align=\"center\">\n",
    "    $b_{99} = \\left( \\frac{V}{(a_{bal}-99)^{w_a}} \\right)^{1/w_b}$\n",
    "</div>\n",
    "  \n",
    "<div align=\"center\">\n",
    "    $\\Delta b_{99} =  b_{99} - b_{98} =\n",
    "    \\left( \\frac{V}{(a_{bal}-99)^{w_a}} \\right)^{1/w_b}- \n",
    "    \\left( \\frac{V}{(a_{bal}-98)^{w_a}} \\right)^{1/w_b}$\n",
    "</div>\n",
    "\n",
    "    - After 99 swaps\n",
    "<div align=\"center\">\n",
    "$\n",
    "b_{99} = b_0 + \\sum_{i=1}^{99} \\Delta b =\n",
    "\\left( \\frac{V}{(a_{bal}-99)^{w_a}} \\right)^{1/w_b} = V^2\n",
    "$\t\n",
    "</div>\n",
    "\n",
    "\n",
    "**Generalize the problem: with the given value of number of token_A in the pool, there will be only one value for number of token_B that fulfills invariant V requirement, regardless of how many swaps to come to that state**"
   ]
  },
  {
   "cell_type": "markdown",
   "id": "large-investing",
   "metadata": {},
   "source": [
    "# Now, let's consider weights!"
   ]
  },
  {
   "cell_type": "markdown",
   "id": "medical-merit",
   "metadata": {},
   "source": [
    "We continue with the value function V = a^w_a*b^w_b  \n",
    "where  \n",
    "a = balance of token asset A  \n",
    "b = balancer of token asset B  \n",
    "w_a = weight of token asset A  \n",
    "w_b = weight of token asset B  "
   ]
  },
  {
   "cell_type": "markdown",
   "id": "premier-denver",
   "metadata": {},
   "source": [
    "# Q2.1:  \n",
    "Write down the value function for the pool in Q1.1!\n",
    "\n",
    "**Invariant V**\n",
    "<div align=\"center\">$V = \\prod\\limits_{t} {B_t}^{W_{t}}\n",
    "= a^{w_a}b^{w_b}$</div>"
   ]
  },
  {
   "cell_type": "markdown",
   "id": "vanilla-immigration",
   "metadata": {},
   "source": [
    "# Q2.2:\n",
    "Let's got back to your initial balances in Step 1 in the pool:  \n",
    "100 tokens A  \n",
    "100 tokens B  \n",
    "\n",
    "How do you need to change the weights in order to land at a **price of 4 tokens A : 1 token B**\n",
    "\n",
    "***Answer***\n",
    " <div align=\"center\">\n",
    "    $\n",
    "SP = \\frac{\\frac{a_{bal}}{w_a}}{\\frac{b_{bal}}{w_b}}\n",
    "    $\n",
    "</div>\n",
    "\n",
    "**4 tokens A : 1 token B** <br>\n",
    "\n",
    "=> SP = 4\n",
    "\n",
    "=> $ \\frac{w_b}{w_a} = 4 $\n",
    "\n",
    "with $w_a + w_b = 1$ \n",
    "\n",
    "=> $w_a =0.2$, $w_b =0.8$\n"
   ]
  },
  {
   "cell_type": "markdown",
   "id": "cubic-scanner",
   "metadata": {},
   "source": [
    "Provide the new value function!"
   ]
  },
  {
   "cell_type": "markdown",
   "id": "compact-dietary",
   "metadata": {},
   "source": [
    "# Q2.3:\n",
    "Create a graph showing the new AMM Curve in Q2.2  \n",
    "Compare to the graph in Q1.4 - how does a change in weights change the graph?"
   ]
  },
  {
   "cell_type": "code",
   "execution_count": 10,
   "id": "a3602a4d",
   "metadata": {},
   "outputs": [],
   "source": [
    "import matplotlib\n",
    "from matplotlib import pyplot as plt"
   ]
  },
  {
   "cell_type": "code",
   "execution_count": 11,
   "id": "5fd60e80",
   "metadata": {},
   "outputs": [
    {
     "data": {
      "text/html": [
       "<div>\n",
       "<style scoped>\n",
       "    .dataframe tbody tr th:only-of-type {\n",
       "        vertical-align: middle;\n",
       "    }\n",
       "\n",
       "    .dataframe tbody tr th {\n",
       "        vertical-align: top;\n",
       "    }\n",
       "\n",
       "    .dataframe thead th {\n",
       "        text-align: right;\n",
       "    }\n",
       "</style>\n",
       "<table border=\"1\" class=\"dataframe\">\n",
       "  <thead>\n",
       "    <tr style=\"text-align: right;\">\n",
       "      <th></th>\n",
       "      <th>token_B</th>\n",
       "      <th>invariant</th>\n",
       "      <th>token_A</th>\n",
       "    </tr>\n",
       "  </thead>\n",
       "  <tbody>\n",
       "    <tr>\n",
       "      <th>0</th>\n",
       "      <td>100</td>\n",
       "      <td>100.0</td>\n",
       "      <td>100.000000</td>\n",
       "    </tr>\n",
       "    <tr>\n",
       "      <th>1</th>\n",
       "      <td>99</td>\n",
       "      <td>100.0</td>\n",
       "      <td>104.102036</td>\n",
       "    </tr>\n",
       "    <tr>\n",
       "      <th>2</th>\n",
       "      <td>98</td>\n",
       "      <td>100.0</td>\n",
       "      <td>108.416578</td>\n",
       "    </tr>\n",
       "    <tr>\n",
       "      <th>3</th>\n",
       "      <td>97</td>\n",
       "      <td>100.0</td>\n",
       "      <td>112.956977</td>\n",
       "    </tr>\n",
       "    <tr>\n",
       "      <th>4</th>\n",
       "      <td>96</td>\n",
       "      <td>100.0</td>\n",
       "      <td>117.737570</td>\n",
       "    </tr>\n",
       "  </tbody>\n",
       "</table>\n",
       "</div>"
      ],
      "text/plain": [
       "   token_B  invariant     token_A\n",
       "0      100      100.0  100.000000\n",
       "1       99      100.0  104.102036\n",
       "2       98      100.0  108.416578\n",
       "3       97      100.0  112.956977\n",
       "4       96      100.0  117.737570"
      ]
     },
     "execution_count": 11,
     "metadata": {},
     "output_type": "execute_result"
    }
   ],
   "source": [
    "#set up genesis state\n",
    "a_bal = 100 # initial balance\n",
    "b_bal = 100 # initial balance\n",
    "\n",
    "a_weight = 0.2 #define weight\n",
    "b_weight = 0.8 #define weight\n",
    "\n",
    "s_f = 0.0 #swap fee\n",
    "inv = (a_bal**a_weight)*(b_bal**b_weight) #calculate invariant\n",
    "\n",
    "b_vals = pd.Series(range(100,0,-1))\n",
    "\n",
    "buy_B_w1 = pd.DataFrame(b_vals, columns=['token_B'])\n",
    "buy_B_w1['invariant'] = inv \n",
    "\n",
    "#create values for plot, add a_balances according to current invariant\n",
    "buy_B_w1['token_A'] = (buy_B_w1.invariant/(buy_B_w1.token_B**b_weight))**(1/a_weight)# calculate corresponding token A value according to invariant\n",
    "\n",
    "buy_B_w1.head()"
   ]
  },
  {
   "cell_type": "code",
   "execution_count": 12,
   "id": "18dd6531",
   "metadata": {},
   "outputs": [],
   "source": [
    "#set up genesis state\n",
    "a_bal = 100 # initial balance\n",
    "b_bal = 100 # initial balance\n",
    "\n",
    "a_weight = 0.2 #define weight\n",
    "b_weight = 0.8 #define weight\n",
    "\n",
    "s_f = 0.0 #swap fee\n",
    "inv = (a_bal**a_weight)*(b_bal**b_weight) #calculate invariant\n",
    "\n",
    "a_vals = pd.Series(range(100,0,-1))\n",
    "buy_A_w1 = pd.DataFrame(a_vals, columns=['token_A'])\n",
    "buy_A_w1['invariant'] = inv #value required to calculate token B value\n",
    "buy_A_w1['token_B'] = (buy_A_w1.invariant/(buy_A_w1.token_A**a_weight))**(1/b_weight)# calculate corresponding token_B value according to invariant\n",
    "\n",
    "b_vals = pd.Series(range(100,0,-1))\n",
    "buy_B_w1 = pd.DataFrame(b_vals, columns=['token_B'])\n",
    "buy_B_w1['invariant'] = inv \n",
    "buy_B_w1['token_A'] = (buy_B_w1.invariant/(buy_B_w1.token_B**b_weight))**(1/a_weight)# calculate corresponding token A value according to invariant\n",
    "\n",
    "buy_A_w1 = buy_A_w1.drop(columns=['invariant'])\n",
    "buy_B_w1 = buy_B_w1.drop(columns=['invariant'])\n",
    "curve_w1 = pd.concat([buy_A_w1, buy_B_w1.iloc[::-1]], axis=0, ignore_index=True)"
   ]
  },
  {
   "cell_type": "code",
   "execution_count": 13,
   "id": "98e4e917",
   "metadata": {},
   "outputs": [
    {
     "data": {
      "text/html": [
       "<div>\n",
       "<style scoped>\n",
       "    .dataframe tbody tr th:only-of-type {\n",
       "        vertical-align: middle;\n",
       "    }\n",
       "\n",
       "    .dataframe tbody tr th {\n",
       "        vertical-align: top;\n",
       "    }\n",
       "\n",
       "    .dataframe thead th {\n",
       "        text-align: right;\n",
       "    }\n",
       "</style>\n",
       "<table border=\"1\" class=\"dataframe\">\n",
       "  <thead>\n",
       "    <tr style=\"text-align: right;\">\n",
       "      <th></th>\n",
       "      <th>token_A</th>\n",
       "      <th>invariant</th>\n",
       "      <th>token_B</th>\n",
       "    </tr>\n",
       "  </thead>\n",
       "  <tbody>\n",
       "    <tr>\n",
       "      <th>95</th>\n",
       "      <td>5.000000</td>\n",
       "      <td>100.0</td>\n",
       "      <td>2000.000000</td>\n",
       "    </tr>\n",
       "    <tr>\n",
       "      <th>96</th>\n",
       "      <td>4.000000</td>\n",
       "      <td>100.0</td>\n",
       "      <td>2500.000000</td>\n",
       "    </tr>\n",
       "    <tr>\n",
       "      <th>97</th>\n",
       "      <td>3.000000</td>\n",
       "      <td>100.0</td>\n",
       "      <td>3333.333333</td>\n",
       "    </tr>\n",
       "    <tr>\n",
       "      <th>98</th>\n",
       "      <td>2.000000</td>\n",
       "      <td>100.0</td>\n",
       "      <td>5000.000000</td>\n",
       "    </tr>\n",
       "    <tr>\n",
       "      <th>99</th>\n",
       "      <td>1.000000</td>\n",
       "      <td>100.0</td>\n",
       "      <td>10000.000000</td>\n",
       "    </tr>\n",
       "    <tr>\n",
       "      <th>100</th>\n",
       "      <td>10000.000000</td>\n",
       "      <td>100.0</td>\n",
       "      <td>1.000000</td>\n",
       "    </tr>\n",
       "    <tr>\n",
       "      <th>101</th>\n",
       "      <td>5000.000000</td>\n",
       "      <td>100.0</td>\n",
       "      <td>2.000000</td>\n",
       "    </tr>\n",
       "    <tr>\n",
       "      <th>102</th>\n",
       "      <td>3333.333333</td>\n",
       "      <td>100.0</td>\n",
       "      <td>3.000000</td>\n",
       "    </tr>\n",
       "    <tr>\n",
       "      <th>103</th>\n",
       "      <td>2500.000000</td>\n",
       "      <td>100.0</td>\n",
       "      <td>4.000000</td>\n",
       "    </tr>\n",
       "    <tr>\n",
       "      <th>104</th>\n",
       "      <td>2000.000000</td>\n",
       "      <td>100.0</td>\n",
       "      <td>5.000000</td>\n",
       "    </tr>\n",
       "  </tbody>\n",
       "</table>\n",
       "</div>"
      ],
      "text/plain": [
       "          token_A  invariant       token_B\n",
       "95       5.000000      100.0   2000.000000\n",
       "96       4.000000      100.0   2500.000000\n",
       "97       3.000000      100.0   3333.333333\n",
       "98       2.000000      100.0   5000.000000\n",
       "99       1.000000      100.0  10000.000000\n",
       "100  10000.000000      100.0      1.000000\n",
       "101   5000.000000      100.0      2.000000\n",
       "102   3333.333333      100.0      3.000000\n",
       "103   2500.000000      100.0      4.000000\n",
       "104   2000.000000      100.0      5.000000"
      ]
     },
     "execution_count": 13,
     "metadata": {},
     "output_type": "execute_result"
    }
   ],
   "source": [
    "curve.iloc[95:105,:]\n",
    "# curve.iloc[90:110,:]"
   ]
  },
  {
   "cell_type": "code",
   "execution_count": 14,
   "id": "fc4f0527",
   "metadata": {},
   "outputs": [
    {
     "data": {
      "text/html": [
       "<div>\n",
       "<style scoped>\n",
       "    .dataframe tbody tr th:only-of-type {\n",
       "        vertical-align: middle;\n",
       "    }\n",
       "\n",
       "    .dataframe tbody tr th {\n",
       "        vertical-align: top;\n",
       "    }\n",
       "\n",
       "    .dataframe thead th {\n",
       "        text-align: right;\n",
       "    }\n",
       "</style>\n",
       "<table border=\"1\" class=\"dataframe\">\n",
       "  <thead>\n",
       "    <tr style=\"text-align: right;\">\n",
       "      <th></th>\n",
       "      <th>token_A</th>\n",
       "      <th>invariant</th>\n",
       "      <th>token_B</th>\n",
       "    </tr>\n",
       "  </thead>\n",
       "  <tbody>\n",
       "    <tr>\n",
       "      <th>0</th>\n",
       "      <td>100.000000</td>\n",
       "      <td>100.0</td>\n",
       "      <td>100.000000</td>\n",
       "    </tr>\n",
       "    <tr>\n",
       "      <th>1</th>\n",
       "      <td>99.000000</td>\n",
       "      <td>100.0</td>\n",
       "      <td>101.010101</td>\n",
       "    </tr>\n",
       "    <tr>\n",
       "      <th>2</th>\n",
       "      <td>98.000000</td>\n",
       "      <td>100.0</td>\n",
       "      <td>102.040816</td>\n",
       "    </tr>\n",
       "    <tr>\n",
       "      <th>3</th>\n",
       "      <td>97.000000</td>\n",
       "      <td>100.0</td>\n",
       "      <td>103.092784</td>\n",
       "    </tr>\n",
       "    <tr>\n",
       "      <th>4</th>\n",
       "      <td>96.000000</td>\n",
       "      <td>100.0</td>\n",
       "      <td>104.166667</td>\n",
       "    </tr>\n",
       "    <tr>\n",
       "      <th>...</th>\n",
       "      <td>...</td>\n",
       "      <td>...</td>\n",
       "      <td>...</td>\n",
       "    </tr>\n",
       "    <tr>\n",
       "      <th>195</th>\n",
       "      <td>104.166667</td>\n",
       "      <td>100.0</td>\n",
       "      <td>96.000000</td>\n",
       "    </tr>\n",
       "    <tr>\n",
       "      <th>196</th>\n",
       "      <td>103.092784</td>\n",
       "      <td>100.0</td>\n",
       "      <td>97.000000</td>\n",
       "    </tr>\n",
       "    <tr>\n",
       "      <th>197</th>\n",
       "      <td>102.040816</td>\n",
       "      <td>100.0</td>\n",
       "      <td>98.000000</td>\n",
       "    </tr>\n",
       "    <tr>\n",
       "      <th>198</th>\n",
       "      <td>101.010101</td>\n",
       "      <td>100.0</td>\n",
       "      <td>99.000000</td>\n",
       "    </tr>\n",
       "    <tr>\n",
       "      <th>199</th>\n",
       "      <td>100.000000</td>\n",
       "      <td>100.0</td>\n",
       "      <td>100.000000</td>\n",
       "    </tr>\n",
       "  </tbody>\n",
       "</table>\n",
       "<p>200 rows × 3 columns</p>\n",
       "</div>"
      ],
      "text/plain": [
       "        token_A  invariant     token_B\n",
       "0    100.000000      100.0  100.000000\n",
       "1     99.000000      100.0  101.010101\n",
       "2     98.000000      100.0  102.040816\n",
       "3     97.000000      100.0  103.092784\n",
       "4     96.000000      100.0  104.166667\n",
       "..          ...        ...         ...\n",
       "195  104.166667      100.0   96.000000\n",
       "196  103.092784      100.0   97.000000\n",
       "197  102.040816      100.0   98.000000\n",
       "198  101.010101      100.0   99.000000\n",
       "199  100.000000      100.0  100.000000\n",
       "\n",
       "[200 rows x 3 columns]"
      ]
     },
     "execution_count": 14,
     "metadata": {},
     "output_type": "execute_result"
    }
   ],
   "source": [
    "curve"
   ]
  },
  {
   "cell_type": "code",
   "execution_count": 15,
   "id": "ca72b5fc",
   "metadata": {
    "scrolled": false
   },
   "outputs": [
    {
     "data": {
      "application/vnd.plotly.v1+json": {
       "config": {
        "plotlyServerURL": "https://plot.ly"
       },
       "data": [
        {
         "mode": "lines",
         "name": "50-50",
         "type": "scatter",
         "x": [
          100,
          99,
          98,
          97,
          96,
          95,
          94,
          93,
          92,
          91,
          90,
          89,
          88,
          87,
          86,
          85,
          84,
          83,
          82,
          81,
          80,
          79,
          78,
          77,
          76,
          75,
          74,
          73,
          72,
          71,
          70,
          69,
          68,
          67,
          66,
          65,
          64,
          63,
          62,
          61,
          60,
          59,
          58,
          57,
          56,
          55,
          54,
          53,
          52,
          51,
          50,
          49,
          48,
          47,
          46,
          45,
          44,
          43,
          42,
          41,
          40,
          39,
          38,
          37,
          36,
          35,
          34,
          33,
          32,
          31,
          30,
          29,
          28,
          27,
          26,
          25,
          24,
          23,
          22,
          21,
          20,
          19,
          18,
          17,
          16,
          15,
          14,
          13,
          12,
          11,
          10,
          9,
          8,
          7,
          6,
          5,
          4,
          3,
          2,
          1,
          10000,
          4999.999999999998,
          3333.333333333334,
          2500,
          1999.9999999999995,
          1666.666666666667,
          1428.5714285714284,
          1249.9999999999995,
          1111.1111111111113,
          1000,
          909.090909090909,
          833.3333333333335,
          769.2307692307693,
          714.2857142857142,
          666.6666666666666,
          625,
          588.2352941176471,
          555.5555555555555,
          526.315789473684,
          499.9999999999999,
          476.1904761904763,
          454.5454545454545,
          434.7826086956523,
          416.66666666666674,
          400,
          384.6153846153847,
          370.3703703703703,
          357.1428571428571,
          344.8275862068966,
          333.3333333333333,
          322.5806451612904,
          312.4999999999999,
          303.03030303030306,
          294.11764705882354,
          285.7142857142858,
          277.7777777777778,
          270.2702702702703,
          263.1578947368422,
          256.41025641025635,
          250,
          243.90243902439028,
          238.09523809523807,
          232.55813953488374,
          227.27272727272725,
          222.2222222222222,
          217.3913043478261,
          212.7659574468085,
          208.33333333333337,
          204.08163265306123,
          199.99999999999997,
          196.07843137254898,
          192.30769230769232,
          188.6792452830189,
          185.18518518518516,
          181.81818181818184,
          178.57142857142856,
          175.43859649122805,
          172.41379310344826,
          169.4915254237288,
          166.66666666666666,
          163.9344262295082,
          161.29032258064515,
          158.73015873015873,
          156.25,
          153.84615384615387,
          151.51515151515147,
          149.25373134328356,
          147.05882352941177,
          144.92753623188406,
          142.85714285714286,
          140.8450704225352,
          138.88888888888889,
          136.98630136986304,
          135.13513513513513,
          133.33333333333331,
          131.578947368421,
          129.87012987012983,
          128.20512820512818,
          126.58227848101268,
          124.99999999999997,
          123.45679012345678,
          121.95121951219511,
          120.48192771084337,
          119.04761904761908,
          117.6470588235294,
          116.27906976744187,
          114.94252873563217,
          113.63636363636363,
          112.35955056179779,
          111.1111111111111,
          109.89010989010991,
          108.69565217391307,
          107.5268817204301,
          106.38297872340425,
          105.26315789473686,
          104.16666666666669,
          103.09278350515464,
          102.0408163265306,
          101.01010101010101,
          100
         ],
         "y": [
          100,
          101.01010101010101,
          102.0408163265306,
          103.09278350515464,
          104.16666666666669,
          105.26315789473686,
          106.38297872340425,
          107.5268817204301,
          108.69565217391307,
          109.89010989010991,
          111.1111111111111,
          112.35955056179779,
          113.63636363636363,
          114.94252873563217,
          116.27906976744187,
          117.6470588235294,
          119.04761904761908,
          120.48192771084337,
          121.95121951219511,
          123.45679012345678,
          124.99999999999997,
          126.58227848101268,
          128.20512820512818,
          129.87012987012983,
          131.578947368421,
          133.33333333333331,
          135.13513513513513,
          136.98630136986304,
          138.88888888888889,
          140.8450704225352,
          142.85714285714286,
          144.92753623188406,
          147.05882352941177,
          149.25373134328356,
          151.51515151515147,
          153.84615384615387,
          156.25,
          158.73015873015873,
          161.29032258064515,
          163.9344262295082,
          166.66666666666666,
          169.4915254237288,
          172.41379310344826,
          175.43859649122805,
          178.57142857142856,
          181.81818181818184,
          185.18518518518516,
          188.6792452830189,
          192.30769230769232,
          196.07843137254898,
          199.99999999999997,
          204.08163265306123,
          208.33333333333337,
          212.7659574468085,
          217.3913043478261,
          222.2222222222222,
          227.27272727272725,
          232.55813953488374,
          238.09523809523807,
          243.90243902439028,
          250,
          256.41025641025635,
          263.1578947368422,
          270.2702702702703,
          277.7777777777778,
          285.7142857142858,
          294.11764705882354,
          303.03030303030306,
          312.4999999999999,
          322.5806451612904,
          333.3333333333333,
          344.8275862068966,
          357.1428571428571,
          370.3703703703703,
          384.6153846153847,
          400,
          416.66666666666674,
          434.7826086956523,
          454.5454545454545,
          476.1904761904763,
          499.9999999999999,
          526.315789473684,
          555.5555555555555,
          588.2352941176471,
          625,
          666.6666666666666,
          714.2857142857142,
          769.2307692307693,
          833.3333333333335,
          909.090909090909,
          1000,
          1111.1111111111113,
          1249.9999999999995,
          1428.5714285714284,
          1666.666666666667,
          1999.9999999999995,
          2500,
          3333.333333333334,
          4999.999999999998,
          10000,
          1,
          2,
          3,
          4,
          5,
          6,
          7,
          8,
          9,
          10,
          11,
          12,
          13,
          14,
          15,
          16,
          17,
          18,
          19,
          20,
          21,
          22,
          23,
          24,
          25,
          26,
          27,
          28,
          29,
          30,
          31,
          32,
          33,
          34,
          35,
          36,
          37,
          38,
          39,
          40,
          41,
          42,
          43,
          44,
          45,
          46,
          47,
          48,
          49,
          50,
          51,
          52,
          53,
          54,
          55,
          56,
          57,
          58,
          59,
          60,
          61,
          62,
          63,
          64,
          65,
          66,
          67,
          68,
          69,
          70,
          71,
          72,
          73,
          74,
          75,
          76,
          77,
          78,
          79,
          80,
          81,
          82,
          83,
          84,
          85,
          86,
          87,
          88,
          89,
          90,
          91,
          92,
          93,
          94,
          95,
          96,
          97,
          98,
          99,
          100
         ]
        },
        {
         "mode": "lines",
         "name": "20A - 80B",
         "type": "scatter",
         "x": [
          100,
          99,
          98,
          97,
          96,
          95,
          94,
          93,
          92,
          91,
          90,
          89,
          88,
          87,
          86,
          85,
          84,
          83,
          82,
          81,
          80,
          79,
          78,
          77,
          76,
          75,
          74,
          73,
          72,
          71,
          70,
          69,
          68,
          67,
          66,
          65,
          64,
          63,
          62,
          61,
          60,
          59,
          58,
          57,
          56,
          55,
          54,
          53,
          52,
          51,
          50,
          49,
          48,
          47,
          46,
          45,
          44,
          43,
          42,
          41,
          40,
          39,
          38,
          37,
          36,
          35,
          34,
          33,
          32,
          31,
          30,
          29,
          28,
          27,
          26,
          25,
          24,
          23,
          22,
          21,
          20,
          19,
          18,
          17,
          16,
          15,
          14,
          13,
          12,
          11,
          10,
          9,
          8,
          7,
          6,
          5,
          4,
          3,
          2,
          1,
          10000000000.000013,
          625000000.0000011,
          123456790.12345687,
          39062500.00000006,
          16000000.000000015,
          7716049.382716056,
          4164931.2786339098,
          2441406.250000002,
          1524157.9027587266,
          1000000.0000000005,
          683013.4553650711,
          482253.08641975356,
          350127.7966457759,
          260308.20491461924,
          197530.8641975311,
          152587.89062500012,
          119730.3672130363,
          95259.86892242046,
          76733.60394717663,
          62500.00000000004,
          51418.90467449267,
          42688.340960316935,
          35734.57784956458,
          30140.81790123458,
          25600.000000000025,
          21882.987290360994,
          18816.764231589226,
          16269.26280716369,
          14138.65210574016,
          12345.679012345685,
          10828.124103295977,
          9536.7431640625,
          8432.264881050263,
          7483.147950814767,
          6663.890045814248,
          5953.741807651275,
          5335.720890574503,
          4795.85024669854,
          4322.56539068859,
          3906.2500000000036,
          3538.8697062490437,
          3213.681542155792,
          2925.0020694389677,
          2668.0213100198084,
          2438.652644413962,
          2233.4111155977876,
          2049.3142891922657,
          1883.8011188271623,
          1734.6652555743049,
          1600.0000000000005,
          1478.1526816424246,
          1367.686705647562,
          1267.3498611808338,
          1176.0477644743262,
          1092.8215285841145,
          1016.8289254477305,
          947.3284437923044,
          883.6657566087599,
          825.2622002431058,
          771.6049382716051,
          722.2385408008086,
          676.7577564559988,
          634.8012922776871,
          596.0464477539066,
          560.2044746332414,
          527.0165550656411,
          496.2503078612849,
          467.69674692592287,
          441.1676277724024,
          416.49312786339044,
          393.51981476550105,
          372.1088629782048,
          352.13448607609206,
          333.48255566090654,
          316.0493827160495,
          299.74064041865864,
          284.4704103977807,
          270.16033691803693,
          256.7388755879611,
          244.14062500000009,
          232.30573125418795,
          221.17935664056515,
          210.71120489070822,
          200.85509638473678,
          191.56858754085803,
          182.81262933993534,
          174.55126056469337,
          166.7513318762381,
          159.3822573216663,
          152.41579027587255,
          145.8258211769163,
          139.58819472486164,
          133.6805444851356,
          128.08214307451664,
          122.77376631548258,
          117.7375699266976,
          112.95697747731629,
          108.41657847339401,
          104.10203556852174,
          100
         ],
         "y": [
          100.00000000000003,
          100.25157431478137,
          100.50634529979745,
          100.76438682062327,
          101.0257752338312,
          101.29058949799605,
          101.5589112908756,
          101.83082513317987,
          102.10641851937488,
          102.38578205600223,
          102.66900960803413,
          102.95619845382603,
          103.24744944927467,
          103.54286720184038,
          103.84256025514706,
          104.14664128493446,
          104.45522730720386,
          104.76843989947089,
          105.08640543612034,
          105.409255338946,
          105.73712634405643,
          106.07016078643534,
          106.40850690356466,
          106.75231915965011,
          107.10175859213561,
          107.45699318235422,
          107.81819825234483,
          108.18555689006301,
          108.55926040543848,
          108.93950881998019,
          109.32651139290937,
          109.7204871871107,
          110.12166567854239,
          110.53028741313636,
          110.94660471566169,
          111.37088245551821,
          111.80339887498951,
          112.24444648611463,
          112.69433304305527,
          113.15338259764755,
          113.62193664674999,
          114.10035538105215,
          114.58901904620821,
          115.0883294285326,
          115.59871147906982,
          116.12061509165741,
          116.65451705268615,
          117.20092318266488,
          117.76037069248184,
          118.33343078048614,
          118.92071150027213,
          119.5228609334394,
          120.14057070673776,
          120.77457989903947,
          121.42567939068621,
          122.09471671615692,
          122.7826014909612,
          123.49031149551966,
          124.21889951295333,
          124.96950103469494,
          125.74334296829359,
          126.54175350653523,
          127.36617334707151,
          128.21816848846245,
          129.0994448735806,
          130.01186520687386,
          130.95746834087353,
          131.93849171325928,
          132.95739742362477,
          134.01690267528755,
          135.12001548070347,
          136.2700767509331,
          137.47081017605655,
          138.72638167626062,
          140.04147069285733,
          141.42135623730954,
          142.87202148494003,
          144.40028187544334,
          146.01394329159479,
          147.72199911861216,
          149.5348781221221,
          151.46475955500736,
          153.52597838656362,
          155.7355531137104,
          158.11388300841904,
          160.6856837889304,
          163.48126556655492,
          166.538313343391,
          169.9044244847123,
          173.64082025196836,
          177.8279410038923,
          182.57418583505543,
          188.03015465431974,
          194.41308418139644,
          202.05155046766242,
          211.47425268811287,
          223.60679774997905,
          240.2811414134755,
          265.9147948472495,
          316.227766016838,
          1,
          2,
          3,
          4,
          5,
          6,
          7,
          8,
          9,
          10,
          11,
          12,
          13,
          14,
          15,
          16,
          17,
          18,
          19,
          20,
          21,
          22,
          23,
          24,
          25,
          26,
          27,
          28,
          29,
          30,
          31,
          32,
          33,
          34,
          35,
          36,
          37,
          38,
          39,
          40,
          41,
          42,
          43,
          44,
          45,
          46,
          47,
          48,
          49,
          50,
          51,
          52,
          53,
          54,
          55,
          56,
          57,
          58,
          59,
          60,
          61,
          62,
          63,
          64,
          65,
          66,
          67,
          68,
          69,
          70,
          71,
          72,
          73,
          74,
          75,
          76,
          77,
          78,
          79,
          80,
          81,
          82,
          83,
          84,
          85,
          86,
          87,
          88,
          89,
          90,
          91,
          92,
          93,
          94,
          95,
          96,
          97,
          98,
          99,
          100
         ]
        }
       ],
       "layout": {
        "height": 1000,
        "template": {
         "data": {
          "bar": [
           {
            "error_x": {
             "color": "#2a3f5f"
            },
            "error_y": {
             "color": "#2a3f5f"
            },
            "marker": {
             "line": {
              "color": "#E5ECF6",
              "width": 0.5
             }
            },
            "type": "bar"
           }
          ],
          "barpolar": [
           {
            "marker": {
             "line": {
              "color": "#E5ECF6",
              "width": 0.5
             }
            },
            "type": "barpolar"
           }
          ],
          "carpet": [
           {
            "aaxis": {
             "endlinecolor": "#2a3f5f",
             "gridcolor": "white",
             "linecolor": "white",
             "minorgridcolor": "white",
             "startlinecolor": "#2a3f5f"
            },
            "baxis": {
             "endlinecolor": "#2a3f5f",
             "gridcolor": "white",
             "linecolor": "white",
             "minorgridcolor": "white",
             "startlinecolor": "#2a3f5f"
            },
            "type": "carpet"
           }
          ],
          "choropleth": [
           {
            "colorbar": {
             "outlinewidth": 0,
             "ticks": ""
            },
            "type": "choropleth"
           }
          ],
          "contour": [
           {
            "colorbar": {
             "outlinewidth": 0,
             "ticks": ""
            },
            "colorscale": [
             [
              0,
              "#0d0887"
             ],
             [
              0.1111111111111111,
              "#46039f"
             ],
             [
              0.2222222222222222,
              "#7201a8"
             ],
             [
              0.3333333333333333,
              "#9c179e"
             ],
             [
              0.4444444444444444,
              "#bd3786"
             ],
             [
              0.5555555555555556,
              "#d8576b"
             ],
             [
              0.6666666666666666,
              "#ed7953"
             ],
             [
              0.7777777777777778,
              "#fb9f3a"
             ],
             [
              0.8888888888888888,
              "#fdca26"
             ],
             [
              1,
              "#f0f921"
             ]
            ],
            "type": "contour"
           }
          ],
          "contourcarpet": [
           {
            "colorbar": {
             "outlinewidth": 0,
             "ticks": ""
            },
            "type": "contourcarpet"
           }
          ],
          "heatmap": [
           {
            "colorbar": {
             "outlinewidth": 0,
             "ticks": ""
            },
            "colorscale": [
             [
              0,
              "#0d0887"
             ],
             [
              0.1111111111111111,
              "#46039f"
             ],
             [
              0.2222222222222222,
              "#7201a8"
             ],
             [
              0.3333333333333333,
              "#9c179e"
             ],
             [
              0.4444444444444444,
              "#bd3786"
             ],
             [
              0.5555555555555556,
              "#d8576b"
             ],
             [
              0.6666666666666666,
              "#ed7953"
             ],
             [
              0.7777777777777778,
              "#fb9f3a"
             ],
             [
              0.8888888888888888,
              "#fdca26"
             ],
             [
              1,
              "#f0f921"
             ]
            ],
            "type": "heatmap"
           }
          ],
          "heatmapgl": [
           {
            "colorbar": {
             "outlinewidth": 0,
             "ticks": ""
            },
            "colorscale": [
             [
              0,
              "#0d0887"
             ],
             [
              0.1111111111111111,
              "#46039f"
             ],
             [
              0.2222222222222222,
              "#7201a8"
             ],
             [
              0.3333333333333333,
              "#9c179e"
             ],
             [
              0.4444444444444444,
              "#bd3786"
             ],
             [
              0.5555555555555556,
              "#d8576b"
             ],
             [
              0.6666666666666666,
              "#ed7953"
             ],
             [
              0.7777777777777778,
              "#fb9f3a"
             ],
             [
              0.8888888888888888,
              "#fdca26"
             ],
             [
              1,
              "#f0f921"
             ]
            ],
            "type": "heatmapgl"
           }
          ],
          "histogram": [
           {
            "marker": {
             "colorbar": {
              "outlinewidth": 0,
              "ticks": ""
             }
            },
            "type": "histogram"
           }
          ],
          "histogram2d": [
           {
            "colorbar": {
             "outlinewidth": 0,
             "ticks": ""
            },
            "colorscale": [
             [
              0,
              "#0d0887"
             ],
             [
              0.1111111111111111,
              "#46039f"
             ],
             [
              0.2222222222222222,
              "#7201a8"
             ],
             [
              0.3333333333333333,
              "#9c179e"
             ],
             [
              0.4444444444444444,
              "#bd3786"
             ],
             [
              0.5555555555555556,
              "#d8576b"
             ],
             [
              0.6666666666666666,
              "#ed7953"
             ],
             [
              0.7777777777777778,
              "#fb9f3a"
             ],
             [
              0.8888888888888888,
              "#fdca26"
             ],
             [
              1,
              "#f0f921"
             ]
            ],
            "type": "histogram2d"
           }
          ],
          "histogram2dcontour": [
           {
            "colorbar": {
             "outlinewidth": 0,
             "ticks": ""
            },
            "colorscale": [
             [
              0,
              "#0d0887"
             ],
             [
              0.1111111111111111,
              "#46039f"
             ],
             [
              0.2222222222222222,
              "#7201a8"
             ],
             [
              0.3333333333333333,
              "#9c179e"
             ],
             [
              0.4444444444444444,
              "#bd3786"
             ],
             [
              0.5555555555555556,
              "#d8576b"
             ],
             [
              0.6666666666666666,
              "#ed7953"
             ],
             [
              0.7777777777777778,
              "#fb9f3a"
             ],
             [
              0.8888888888888888,
              "#fdca26"
             ],
             [
              1,
              "#f0f921"
             ]
            ],
            "type": "histogram2dcontour"
           }
          ],
          "mesh3d": [
           {
            "colorbar": {
             "outlinewidth": 0,
             "ticks": ""
            },
            "type": "mesh3d"
           }
          ],
          "parcoords": [
           {
            "line": {
             "colorbar": {
              "outlinewidth": 0,
              "ticks": ""
             }
            },
            "type": "parcoords"
           }
          ],
          "pie": [
           {
            "automargin": true,
            "type": "pie"
           }
          ],
          "scatter": [
           {
            "marker": {
             "colorbar": {
              "outlinewidth": 0,
              "ticks": ""
             }
            },
            "type": "scatter"
           }
          ],
          "scatter3d": [
           {
            "line": {
             "colorbar": {
              "outlinewidth": 0,
              "ticks": ""
             }
            },
            "marker": {
             "colorbar": {
              "outlinewidth": 0,
              "ticks": ""
             }
            },
            "type": "scatter3d"
           }
          ],
          "scattercarpet": [
           {
            "marker": {
             "colorbar": {
              "outlinewidth": 0,
              "ticks": ""
             }
            },
            "type": "scattercarpet"
           }
          ],
          "scattergeo": [
           {
            "marker": {
             "colorbar": {
              "outlinewidth": 0,
              "ticks": ""
             }
            },
            "type": "scattergeo"
           }
          ],
          "scattergl": [
           {
            "marker": {
             "colorbar": {
              "outlinewidth": 0,
              "ticks": ""
             }
            },
            "type": "scattergl"
           }
          ],
          "scattermapbox": [
           {
            "marker": {
             "colorbar": {
              "outlinewidth": 0,
              "ticks": ""
             }
            },
            "type": "scattermapbox"
           }
          ],
          "scatterpolar": [
           {
            "marker": {
             "colorbar": {
              "outlinewidth": 0,
              "ticks": ""
             }
            },
            "type": "scatterpolar"
           }
          ],
          "scatterpolargl": [
           {
            "marker": {
             "colorbar": {
              "outlinewidth": 0,
              "ticks": ""
             }
            },
            "type": "scatterpolargl"
           }
          ],
          "scatterternary": [
           {
            "marker": {
             "colorbar": {
              "outlinewidth": 0,
              "ticks": ""
             }
            },
            "type": "scatterternary"
           }
          ],
          "surface": [
           {
            "colorbar": {
             "outlinewidth": 0,
             "ticks": ""
            },
            "colorscale": [
             [
              0,
              "#0d0887"
             ],
             [
              0.1111111111111111,
              "#46039f"
             ],
             [
              0.2222222222222222,
              "#7201a8"
             ],
             [
              0.3333333333333333,
              "#9c179e"
             ],
             [
              0.4444444444444444,
              "#bd3786"
             ],
             [
              0.5555555555555556,
              "#d8576b"
             ],
             [
              0.6666666666666666,
              "#ed7953"
             ],
             [
              0.7777777777777778,
              "#fb9f3a"
             ],
             [
              0.8888888888888888,
              "#fdca26"
             ],
             [
              1,
              "#f0f921"
             ]
            ],
            "type": "surface"
           }
          ],
          "table": [
           {
            "cells": {
             "fill": {
              "color": "#EBF0F8"
             },
             "line": {
              "color": "white"
             }
            },
            "header": {
             "fill": {
              "color": "#C8D4E3"
             },
             "line": {
              "color": "white"
             }
            },
            "type": "table"
           }
          ]
         },
         "layout": {
          "annotationdefaults": {
           "arrowcolor": "#2a3f5f",
           "arrowhead": 0,
           "arrowwidth": 1
          },
          "coloraxis": {
           "colorbar": {
            "outlinewidth": 0,
            "ticks": ""
           }
          },
          "colorscale": {
           "diverging": [
            [
             0,
             "#8e0152"
            ],
            [
             0.1,
             "#c51b7d"
            ],
            [
             0.2,
             "#de77ae"
            ],
            [
             0.3,
             "#f1b6da"
            ],
            [
             0.4,
             "#fde0ef"
            ],
            [
             0.5,
             "#f7f7f7"
            ],
            [
             0.6,
             "#e6f5d0"
            ],
            [
             0.7,
             "#b8e186"
            ],
            [
             0.8,
             "#7fbc41"
            ],
            [
             0.9,
             "#4d9221"
            ],
            [
             1,
             "#276419"
            ]
           ],
           "sequential": [
            [
             0,
             "#0d0887"
            ],
            [
             0.1111111111111111,
             "#46039f"
            ],
            [
             0.2222222222222222,
             "#7201a8"
            ],
            [
             0.3333333333333333,
             "#9c179e"
            ],
            [
             0.4444444444444444,
             "#bd3786"
            ],
            [
             0.5555555555555556,
             "#d8576b"
            ],
            [
             0.6666666666666666,
             "#ed7953"
            ],
            [
             0.7777777777777778,
             "#fb9f3a"
            ],
            [
             0.8888888888888888,
             "#fdca26"
            ],
            [
             1,
             "#f0f921"
            ]
           ],
           "sequentialminus": [
            [
             0,
             "#0d0887"
            ],
            [
             0.1111111111111111,
             "#46039f"
            ],
            [
             0.2222222222222222,
             "#7201a8"
            ],
            [
             0.3333333333333333,
             "#9c179e"
            ],
            [
             0.4444444444444444,
             "#bd3786"
            ],
            [
             0.5555555555555556,
             "#d8576b"
            ],
            [
             0.6666666666666666,
             "#ed7953"
            ],
            [
             0.7777777777777778,
             "#fb9f3a"
            ],
            [
             0.8888888888888888,
             "#fdca26"
            ],
            [
             1,
             "#f0f921"
            ]
           ]
          },
          "colorway": [
           "#636efa",
           "#EF553B",
           "#00cc96",
           "#ab63fa",
           "#FFA15A",
           "#19d3f3",
           "#FF6692",
           "#B6E880",
           "#FF97FF",
           "#FECB52"
          ],
          "font": {
           "color": "#2a3f5f"
          },
          "geo": {
           "bgcolor": "white",
           "lakecolor": "white",
           "landcolor": "#E5ECF6",
           "showlakes": true,
           "showland": true,
           "subunitcolor": "white"
          },
          "hoverlabel": {
           "align": "left"
          },
          "hovermode": "closest",
          "mapbox": {
           "style": "light"
          },
          "paper_bgcolor": "white",
          "plot_bgcolor": "#E5ECF6",
          "polar": {
           "angularaxis": {
            "gridcolor": "white",
            "linecolor": "white",
            "ticks": ""
           },
           "bgcolor": "#E5ECF6",
           "radialaxis": {
            "gridcolor": "white",
            "linecolor": "white",
            "ticks": ""
           }
          },
          "scene": {
           "xaxis": {
            "backgroundcolor": "#E5ECF6",
            "gridcolor": "white",
            "gridwidth": 2,
            "linecolor": "white",
            "showbackground": true,
            "ticks": "",
            "zerolinecolor": "white"
           },
           "yaxis": {
            "backgroundcolor": "#E5ECF6",
            "gridcolor": "white",
            "gridwidth": 2,
            "linecolor": "white",
            "showbackground": true,
            "ticks": "",
            "zerolinecolor": "white"
           },
           "zaxis": {
            "backgroundcolor": "#E5ECF6",
            "gridcolor": "white",
            "gridwidth": 2,
            "linecolor": "white",
            "showbackground": true,
            "ticks": "",
            "zerolinecolor": "white"
           }
          },
          "shapedefaults": {
           "line": {
            "color": "#2a3f5f"
           }
          },
          "ternary": {
           "aaxis": {
            "gridcolor": "white",
            "linecolor": "white",
            "ticks": ""
           },
           "baxis": {
            "gridcolor": "white",
            "linecolor": "white",
            "ticks": ""
           },
           "bgcolor": "#E5ECF6",
           "caxis": {
            "gridcolor": "white",
            "linecolor": "white",
            "ticks": ""
           }
          },
          "title": {
           "x": 0.05
          },
          "xaxis": {
           "automargin": true,
           "gridcolor": "white",
           "linecolor": "white",
           "ticks": "",
           "title": {
            "standoff": 15
           },
           "zerolinecolor": "white",
           "zerolinewidth": 2
          },
          "yaxis": {
           "automargin": true,
           "gridcolor": "white",
           "linecolor": "white",
           "ticks": "",
           "title": {
            "standoff": 15
           },
           "zerolinecolor": "white",
           "zerolinewidth": 2
          }
         }
        },
        "title": {
         "text": "<b>AMM Curves</b>"
        },
        "width": 1000,
        "xaxis": {
         "range": [
          0,
          300
         ]
        },
        "yaxis": {
         "range": [
          0,
          300
         ]
        }
       }
      },
      "text/html": [
       "<div>                            <div id=\"998fadd3-e2e8-43f6-9ba0-61d44ba4e135\" class=\"plotly-graph-div\" style=\"height:1000px; width:1000px;\"></div>            <script type=\"text/javascript\">                require([\"plotly\"], function(Plotly) {                    window.PLOTLYENV=window.PLOTLYENV || {};                                    if (document.getElementById(\"998fadd3-e2e8-43f6-9ba0-61d44ba4e135\")) {                    Plotly.newPlot(                        \"998fadd3-e2e8-43f6-9ba0-61d44ba4e135\",                        [{\"mode\": \"lines\", \"name\": \"50-50\", \"type\": \"scatter\", \"x\": [100.0, 99.0, 98.0, 97.0, 96.0, 95.0, 94.0, 93.0, 92.0, 91.0, 90.0, 89.0, 88.0, 87.0, 86.0, 85.0, 84.0, 83.0, 82.0, 81.0, 80.0, 79.0, 78.0, 77.0, 76.0, 75.0, 74.0, 73.0, 72.0, 71.0, 70.0, 69.0, 68.0, 67.0, 66.0, 65.0, 64.0, 63.0, 62.0, 61.0, 60.0, 59.0, 58.0, 57.0, 56.0, 55.0, 54.0, 53.0, 52.0, 51.0, 50.0, 49.0, 48.0, 47.0, 46.0, 45.0, 44.0, 43.0, 42.0, 41.0, 40.0, 39.0, 38.0, 37.0, 36.0, 35.0, 34.0, 33.0, 32.0, 31.0, 30.0, 29.0, 28.0, 27.0, 26.0, 25.0, 24.0, 23.0, 22.0, 21.0, 20.0, 19.0, 18.0, 17.0, 16.0, 15.0, 14.0, 13.0, 12.0, 11.0, 10.0, 9.0, 8.0, 7.0, 6.0, 5.0, 4.0, 3.0, 2.0, 1.0, 10000.0, 4999.999999999998, 3333.333333333334, 2500.0, 1999.9999999999995, 1666.666666666667, 1428.5714285714284, 1249.9999999999995, 1111.1111111111113, 1000.0, 909.090909090909, 833.3333333333335, 769.2307692307693, 714.2857142857142, 666.6666666666666, 625.0, 588.2352941176471, 555.5555555555555, 526.315789473684, 499.9999999999999, 476.1904761904763, 454.5454545454545, 434.7826086956523, 416.66666666666674, 400.0, 384.6153846153847, 370.3703703703703, 357.1428571428571, 344.8275862068966, 333.3333333333333, 322.5806451612904, 312.4999999999999, 303.03030303030306, 294.11764705882354, 285.7142857142858, 277.7777777777778, 270.2702702702703, 263.1578947368422, 256.41025641025635, 250.0, 243.90243902439028, 238.09523809523807, 232.55813953488374, 227.27272727272725, 222.2222222222222, 217.3913043478261, 212.7659574468085, 208.33333333333337, 204.08163265306123, 199.99999999999997, 196.07843137254898, 192.30769230769232, 188.6792452830189, 185.18518518518516, 181.81818181818184, 178.57142857142856, 175.43859649122805, 172.41379310344826, 169.4915254237288, 166.66666666666666, 163.9344262295082, 161.29032258064515, 158.73015873015873, 156.25, 153.84615384615387, 151.51515151515147, 149.25373134328356, 147.05882352941177, 144.92753623188406, 142.85714285714286, 140.8450704225352, 138.88888888888889, 136.98630136986304, 135.13513513513513, 133.33333333333331, 131.578947368421, 129.87012987012983, 128.20512820512818, 126.58227848101268, 124.99999999999997, 123.45679012345678, 121.95121951219511, 120.48192771084337, 119.04761904761908, 117.6470588235294, 116.27906976744187, 114.94252873563217, 113.63636363636363, 112.35955056179779, 111.1111111111111, 109.89010989010991, 108.69565217391307, 107.5268817204301, 106.38297872340425, 105.26315789473686, 104.16666666666669, 103.09278350515464, 102.0408163265306, 101.01010101010101, 100.0], \"y\": [100.0, 101.01010101010101, 102.0408163265306, 103.09278350515464, 104.16666666666669, 105.26315789473686, 106.38297872340425, 107.5268817204301, 108.69565217391307, 109.89010989010991, 111.1111111111111, 112.35955056179779, 113.63636363636363, 114.94252873563217, 116.27906976744187, 117.6470588235294, 119.04761904761908, 120.48192771084337, 121.95121951219511, 123.45679012345678, 124.99999999999997, 126.58227848101268, 128.20512820512818, 129.87012987012983, 131.578947368421, 133.33333333333331, 135.13513513513513, 136.98630136986304, 138.88888888888889, 140.8450704225352, 142.85714285714286, 144.92753623188406, 147.05882352941177, 149.25373134328356, 151.51515151515147, 153.84615384615387, 156.25, 158.73015873015873, 161.29032258064515, 163.9344262295082, 166.66666666666666, 169.4915254237288, 172.41379310344826, 175.43859649122805, 178.57142857142856, 181.81818181818184, 185.18518518518516, 188.6792452830189, 192.30769230769232, 196.07843137254898, 199.99999999999997, 204.08163265306123, 208.33333333333337, 212.7659574468085, 217.3913043478261, 222.2222222222222, 227.27272727272725, 232.55813953488374, 238.09523809523807, 243.90243902439028, 250.0, 256.41025641025635, 263.1578947368422, 270.2702702702703, 277.7777777777778, 285.7142857142858, 294.11764705882354, 303.03030303030306, 312.4999999999999, 322.5806451612904, 333.3333333333333, 344.8275862068966, 357.1428571428571, 370.3703703703703, 384.6153846153847, 400.0, 416.66666666666674, 434.7826086956523, 454.5454545454545, 476.1904761904763, 499.9999999999999, 526.315789473684, 555.5555555555555, 588.2352941176471, 625.0, 666.6666666666666, 714.2857142857142, 769.2307692307693, 833.3333333333335, 909.090909090909, 1000.0, 1111.1111111111113, 1249.9999999999995, 1428.5714285714284, 1666.666666666667, 1999.9999999999995, 2500.0, 3333.333333333334, 4999.999999999998, 10000.0, 1.0, 2.0, 3.0, 4.0, 5.0, 6.0, 7.0, 8.0, 9.0, 10.0, 11.0, 12.0, 13.0, 14.0, 15.0, 16.0, 17.0, 18.0, 19.0, 20.0, 21.0, 22.0, 23.0, 24.0, 25.0, 26.0, 27.0, 28.0, 29.0, 30.0, 31.0, 32.0, 33.0, 34.0, 35.0, 36.0, 37.0, 38.0, 39.0, 40.0, 41.0, 42.0, 43.0, 44.0, 45.0, 46.0, 47.0, 48.0, 49.0, 50.0, 51.0, 52.0, 53.0, 54.0, 55.0, 56.0, 57.0, 58.0, 59.0, 60.0, 61.0, 62.0, 63.0, 64.0, 65.0, 66.0, 67.0, 68.0, 69.0, 70.0, 71.0, 72.0, 73.0, 74.0, 75.0, 76.0, 77.0, 78.0, 79.0, 80.0, 81.0, 82.0, 83.0, 84.0, 85.0, 86.0, 87.0, 88.0, 89.0, 90.0, 91.0, 92.0, 93.0, 94.0, 95.0, 96.0, 97.0, 98.0, 99.0, 100.0]}, {\"mode\": \"lines\", \"name\": \"20A - 80B\", \"type\": \"scatter\", \"x\": [100.0, 99.0, 98.0, 97.0, 96.0, 95.0, 94.0, 93.0, 92.0, 91.0, 90.0, 89.0, 88.0, 87.0, 86.0, 85.0, 84.0, 83.0, 82.0, 81.0, 80.0, 79.0, 78.0, 77.0, 76.0, 75.0, 74.0, 73.0, 72.0, 71.0, 70.0, 69.0, 68.0, 67.0, 66.0, 65.0, 64.0, 63.0, 62.0, 61.0, 60.0, 59.0, 58.0, 57.0, 56.0, 55.0, 54.0, 53.0, 52.0, 51.0, 50.0, 49.0, 48.0, 47.0, 46.0, 45.0, 44.0, 43.0, 42.0, 41.0, 40.0, 39.0, 38.0, 37.0, 36.0, 35.0, 34.0, 33.0, 32.0, 31.0, 30.0, 29.0, 28.0, 27.0, 26.0, 25.0, 24.0, 23.0, 22.0, 21.0, 20.0, 19.0, 18.0, 17.0, 16.0, 15.0, 14.0, 13.0, 12.0, 11.0, 10.0, 9.0, 8.0, 7.0, 6.0, 5.0, 4.0, 3.0, 2.0, 1.0, 10000000000.000013, 625000000.0000011, 123456790.12345687, 39062500.00000006, 16000000.000000015, 7716049.382716056, 4164931.2786339098, 2441406.250000002, 1524157.9027587266, 1000000.0000000005, 683013.4553650711, 482253.08641975356, 350127.7966457759, 260308.20491461924, 197530.8641975311, 152587.89062500012, 119730.3672130363, 95259.86892242046, 76733.60394717663, 62500.00000000004, 51418.90467449267, 42688.340960316935, 35734.57784956458, 30140.81790123458, 25600.000000000025, 21882.987290360994, 18816.764231589226, 16269.26280716369, 14138.65210574016, 12345.679012345685, 10828.124103295977, 9536.7431640625, 8432.264881050263, 7483.147950814767, 6663.890045814248, 5953.741807651275, 5335.720890574503, 4795.85024669854, 4322.56539068859, 3906.2500000000036, 3538.8697062490437, 3213.681542155792, 2925.0020694389677, 2668.0213100198084, 2438.652644413962, 2233.4111155977876, 2049.3142891922657, 1883.8011188271623, 1734.6652555743049, 1600.0000000000005, 1478.1526816424246, 1367.686705647562, 1267.3498611808338, 1176.0477644743262, 1092.8215285841145, 1016.8289254477305, 947.3284437923044, 883.6657566087599, 825.2622002431058, 771.6049382716051, 722.2385408008086, 676.7577564559988, 634.8012922776871, 596.0464477539066, 560.2044746332414, 527.0165550656411, 496.2503078612849, 467.69674692592287, 441.1676277724024, 416.49312786339044, 393.51981476550105, 372.1088629782048, 352.13448607609206, 333.48255566090654, 316.0493827160495, 299.74064041865864, 284.4704103977807, 270.16033691803693, 256.7388755879611, 244.14062500000009, 232.30573125418795, 221.17935664056515, 210.71120489070822, 200.85509638473678, 191.56858754085803, 182.81262933993534, 174.55126056469337, 166.7513318762381, 159.3822573216663, 152.41579027587255, 145.8258211769163, 139.58819472486164, 133.6805444851356, 128.08214307451664, 122.77376631548258, 117.7375699266976, 112.95697747731629, 108.41657847339401, 104.10203556852174, 100.0], \"y\": [100.00000000000003, 100.25157431478137, 100.50634529979745, 100.76438682062327, 101.0257752338312, 101.29058949799605, 101.5589112908756, 101.83082513317987, 102.10641851937488, 102.38578205600223, 102.66900960803413, 102.95619845382603, 103.24744944927467, 103.54286720184038, 103.84256025514706, 104.14664128493446, 104.45522730720386, 104.76843989947089, 105.08640543612034, 105.409255338946, 105.73712634405643, 106.07016078643534, 106.40850690356466, 106.75231915965011, 107.10175859213561, 107.45699318235422, 107.81819825234483, 108.18555689006301, 108.55926040543848, 108.93950881998019, 109.32651139290937, 109.7204871871107, 110.12166567854239, 110.53028741313636, 110.94660471566169, 111.37088245551821, 111.80339887498951, 112.24444648611463, 112.69433304305527, 113.15338259764755, 113.62193664674999, 114.10035538105215, 114.58901904620821, 115.0883294285326, 115.59871147906982, 116.12061509165741, 116.65451705268615, 117.20092318266488, 117.76037069248184, 118.33343078048614, 118.92071150027213, 119.5228609334394, 120.14057070673776, 120.77457989903947, 121.42567939068621, 122.09471671615692, 122.7826014909612, 123.49031149551966, 124.21889951295333, 124.96950103469494, 125.74334296829359, 126.54175350653523, 127.36617334707151, 128.21816848846245, 129.0994448735806, 130.01186520687386, 130.95746834087353, 131.93849171325928, 132.95739742362477, 134.01690267528755, 135.12001548070347, 136.2700767509331, 137.47081017605655, 138.72638167626062, 140.04147069285733, 141.42135623730954, 142.87202148494003, 144.40028187544334, 146.01394329159479, 147.72199911861216, 149.5348781221221, 151.46475955500736, 153.52597838656362, 155.7355531137104, 158.11388300841904, 160.6856837889304, 163.48126556655492, 166.538313343391, 169.9044244847123, 173.64082025196836, 177.8279410038923, 182.57418583505543, 188.03015465431974, 194.41308418139644, 202.05155046766242, 211.47425268811287, 223.60679774997905, 240.2811414134755, 265.9147948472495, 316.227766016838, 1.0, 2.0, 3.0, 4.0, 5.0, 6.0, 7.0, 8.0, 9.0, 10.0, 11.0, 12.0, 13.0, 14.0, 15.0, 16.0, 17.0, 18.0, 19.0, 20.0, 21.0, 22.0, 23.0, 24.0, 25.0, 26.0, 27.0, 28.0, 29.0, 30.0, 31.0, 32.0, 33.0, 34.0, 35.0, 36.0, 37.0, 38.0, 39.0, 40.0, 41.0, 42.0, 43.0, 44.0, 45.0, 46.0, 47.0, 48.0, 49.0, 50.0, 51.0, 52.0, 53.0, 54.0, 55.0, 56.0, 57.0, 58.0, 59.0, 60.0, 61.0, 62.0, 63.0, 64.0, 65.0, 66.0, 67.0, 68.0, 69.0, 70.0, 71.0, 72.0, 73.0, 74.0, 75.0, 76.0, 77.0, 78.0, 79.0, 80.0, 81.0, 82.0, 83.0, 84.0, 85.0, 86.0, 87.0, 88.0, 89.0, 90.0, 91.0, 92.0, 93.0, 94.0, 95.0, 96.0, 97.0, 98.0, 99.0, 100.0]}],                        {\"height\": 1000, \"template\": {\"data\": {\"bar\": [{\"error_x\": {\"color\": \"#2a3f5f\"}, \"error_y\": {\"color\": \"#2a3f5f\"}, \"marker\": {\"line\": {\"color\": \"#E5ECF6\", \"width\": 0.5}}, \"type\": \"bar\"}], \"barpolar\": [{\"marker\": {\"line\": {\"color\": \"#E5ECF6\", \"width\": 0.5}}, \"type\": \"barpolar\"}], \"carpet\": [{\"aaxis\": {\"endlinecolor\": \"#2a3f5f\", \"gridcolor\": \"white\", \"linecolor\": \"white\", \"minorgridcolor\": \"white\", \"startlinecolor\": \"#2a3f5f\"}, \"baxis\": {\"endlinecolor\": \"#2a3f5f\", \"gridcolor\": \"white\", \"linecolor\": \"white\", \"minorgridcolor\": \"white\", \"startlinecolor\": \"#2a3f5f\"}, \"type\": \"carpet\"}], \"choropleth\": [{\"colorbar\": {\"outlinewidth\": 0, \"ticks\": \"\"}, \"type\": \"choropleth\"}], \"contour\": [{\"colorbar\": {\"outlinewidth\": 0, \"ticks\": \"\"}, \"colorscale\": [[0.0, \"#0d0887\"], [0.1111111111111111, \"#46039f\"], [0.2222222222222222, \"#7201a8\"], [0.3333333333333333, \"#9c179e\"], [0.4444444444444444, \"#bd3786\"], [0.5555555555555556, \"#d8576b\"], [0.6666666666666666, \"#ed7953\"], [0.7777777777777778, \"#fb9f3a\"], [0.8888888888888888, \"#fdca26\"], [1.0, \"#f0f921\"]], \"type\": \"contour\"}], \"contourcarpet\": [{\"colorbar\": {\"outlinewidth\": 0, \"ticks\": \"\"}, \"type\": \"contourcarpet\"}], \"heatmap\": [{\"colorbar\": {\"outlinewidth\": 0, \"ticks\": \"\"}, \"colorscale\": [[0.0, \"#0d0887\"], [0.1111111111111111, \"#46039f\"], [0.2222222222222222, \"#7201a8\"], [0.3333333333333333, \"#9c179e\"], [0.4444444444444444, \"#bd3786\"], [0.5555555555555556, \"#d8576b\"], [0.6666666666666666, \"#ed7953\"], [0.7777777777777778, \"#fb9f3a\"], [0.8888888888888888, \"#fdca26\"], [1.0, \"#f0f921\"]], \"type\": \"heatmap\"}], \"heatmapgl\": [{\"colorbar\": {\"outlinewidth\": 0, \"ticks\": \"\"}, \"colorscale\": [[0.0, \"#0d0887\"], [0.1111111111111111, \"#46039f\"], [0.2222222222222222, \"#7201a8\"], [0.3333333333333333, \"#9c179e\"], [0.4444444444444444, \"#bd3786\"], [0.5555555555555556, \"#d8576b\"], [0.6666666666666666, \"#ed7953\"], [0.7777777777777778, \"#fb9f3a\"], [0.8888888888888888, \"#fdca26\"], [1.0, \"#f0f921\"]], \"type\": \"heatmapgl\"}], \"histogram\": [{\"marker\": {\"colorbar\": {\"outlinewidth\": 0, \"ticks\": \"\"}}, \"type\": \"histogram\"}], \"histogram2d\": [{\"colorbar\": {\"outlinewidth\": 0, \"ticks\": \"\"}, \"colorscale\": [[0.0, \"#0d0887\"], [0.1111111111111111, \"#46039f\"], [0.2222222222222222, \"#7201a8\"], [0.3333333333333333, \"#9c179e\"], [0.4444444444444444, \"#bd3786\"], [0.5555555555555556, \"#d8576b\"], [0.6666666666666666, \"#ed7953\"], [0.7777777777777778, \"#fb9f3a\"], [0.8888888888888888, \"#fdca26\"], [1.0, \"#f0f921\"]], \"type\": \"histogram2d\"}], \"histogram2dcontour\": [{\"colorbar\": {\"outlinewidth\": 0, \"ticks\": \"\"}, \"colorscale\": [[0.0, \"#0d0887\"], [0.1111111111111111, \"#46039f\"], [0.2222222222222222, \"#7201a8\"], [0.3333333333333333, \"#9c179e\"], [0.4444444444444444, \"#bd3786\"], [0.5555555555555556, \"#d8576b\"], [0.6666666666666666, \"#ed7953\"], [0.7777777777777778, \"#fb9f3a\"], [0.8888888888888888, \"#fdca26\"], [1.0, \"#f0f921\"]], \"type\": \"histogram2dcontour\"}], \"mesh3d\": [{\"colorbar\": {\"outlinewidth\": 0, \"ticks\": \"\"}, \"type\": \"mesh3d\"}], \"parcoords\": [{\"line\": {\"colorbar\": {\"outlinewidth\": 0, \"ticks\": \"\"}}, \"type\": \"parcoords\"}], \"pie\": [{\"automargin\": true, \"type\": \"pie\"}], \"scatter\": [{\"marker\": {\"colorbar\": {\"outlinewidth\": 0, \"ticks\": \"\"}}, \"type\": \"scatter\"}], \"scatter3d\": [{\"line\": {\"colorbar\": {\"outlinewidth\": 0, \"ticks\": \"\"}}, \"marker\": {\"colorbar\": {\"outlinewidth\": 0, \"ticks\": \"\"}}, \"type\": \"scatter3d\"}], \"scattercarpet\": [{\"marker\": {\"colorbar\": {\"outlinewidth\": 0, \"ticks\": \"\"}}, \"type\": \"scattercarpet\"}], \"scattergeo\": [{\"marker\": {\"colorbar\": {\"outlinewidth\": 0, \"ticks\": \"\"}}, \"type\": \"scattergeo\"}], \"scattergl\": [{\"marker\": {\"colorbar\": {\"outlinewidth\": 0, \"ticks\": \"\"}}, \"type\": \"scattergl\"}], \"scattermapbox\": [{\"marker\": {\"colorbar\": {\"outlinewidth\": 0, \"ticks\": \"\"}}, \"type\": \"scattermapbox\"}], \"scatterpolar\": [{\"marker\": {\"colorbar\": {\"outlinewidth\": 0, \"ticks\": \"\"}}, \"type\": \"scatterpolar\"}], \"scatterpolargl\": [{\"marker\": {\"colorbar\": {\"outlinewidth\": 0, \"ticks\": \"\"}}, \"type\": \"scatterpolargl\"}], \"scatterternary\": [{\"marker\": {\"colorbar\": {\"outlinewidth\": 0, \"ticks\": \"\"}}, \"type\": \"scatterternary\"}], \"surface\": [{\"colorbar\": {\"outlinewidth\": 0, \"ticks\": \"\"}, \"colorscale\": [[0.0, \"#0d0887\"], [0.1111111111111111, \"#46039f\"], [0.2222222222222222, \"#7201a8\"], [0.3333333333333333, \"#9c179e\"], [0.4444444444444444, \"#bd3786\"], [0.5555555555555556, \"#d8576b\"], [0.6666666666666666, \"#ed7953\"], [0.7777777777777778, \"#fb9f3a\"], [0.8888888888888888, \"#fdca26\"], [1.0, \"#f0f921\"]], \"type\": \"surface\"}], \"table\": [{\"cells\": {\"fill\": {\"color\": \"#EBF0F8\"}, \"line\": {\"color\": \"white\"}}, \"header\": {\"fill\": {\"color\": \"#C8D4E3\"}, \"line\": {\"color\": \"white\"}}, \"type\": \"table\"}]}, \"layout\": {\"annotationdefaults\": {\"arrowcolor\": \"#2a3f5f\", \"arrowhead\": 0, \"arrowwidth\": 1}, \"coloraxis\": {\"colorbar\": {\"outlinewidth\": 0, \"ticks\": \"\"}}, \"colorscale\": {\"diverging\": [[0, \"#8e0152\"], [0.1, \"#c51b7d\"], [0.2, \"#de77ae\"], [0.3, \"#f1b6da\"], [0.4, \"#fde0ef\"], [0.5, \"#f7f7f7\"], [0.6, \"#e6f5d0\"], [0.7, \"#b8e186\"], [0.8, \"#7fbc41\"], [0.9, \"#4d9221\"], [1, \"#276419\"]], \"sequential\": [[0.0, \"#0d0887\"], [0.1111111111111111, \"#46039f\"], [0.2222222222222222, \"#7201a8\"], [0.3333333333333333, \"#9c179e\"], [0.4444444444444444, \"#bd3786\"], [0.5555555555555556, \"#d8576b\"], [0.6666666666666666, \"#ed7953\"], [0.7777777777777778, \"#fb9f3a\"], [0.8888888888888888, \"#fdca26\"], [1.0, \"#f0f921\"]], \"sequentialminus\": [[0.0, \"#0d0887\"], [0.1111111111111111, \"#46039f\"], [0.2222222222222222, \"#7201a8\"], [0.3333333333333333, \"#9c179e\"], [0.4444444444444444, \"#bd3786\"], [0.5555555555555556, \"#d8576b\"], [0.6666666666666666, \"#ed7953\"], [0.7777777777777778, \"#fb9f3a\"], [0.8888888888888888, \"#fdca26\"], [1.0, \"#f0f921\"]]}, \"colorway\": [\"#636efa\", \"#EF553B\", \"#00cc96\", \"#ab63fa\", \"#FFA15A\", \"#19d3f3\", \"#FF6692\", \"#B6E880\", \"#FF97FF\", \"#FECB52\"], \"font\": {\"color\": \"#2a3f5f\"}, \"geo\": {\"bgcolor\": \"white\", \"lakecolor\": \"white\", \"landcolor\": \"#E5ECF6\", \"showlakes\": true, \"showland\": true, \"subunitcolor\": \"white\"}, \"hoverlabel\": {\"align\": \"left\"}, \"hovermode\": \"closest\", \"mapbox\": {\"style\": \"light\"}, \"paper_bgcolor\": \"white\", \"plot_bgcolor\": \"#E5ECF6\", \"polar\": {\"angularaxis\": {\"gridcolor\": \"white\", \"linecolor\": \"white\", \"ticks\": \"\"}, \"bgcolor\": \"#E5ECF6\", \"radialaxis\": {\"gridcolor\": \"white\", \"linecolor\": \"white\", \"ticks\": \"\"}}, \"scene\": {\"xaxis\": {\"backgroundcolor\": \"#E5ECF6\", \"gridcolor\": \"white\", \"gridwidth\": 2, \"linecolor\": \"white\", \"showbackground\": true, \"ticks\": \"\", \"zerolinecolor\": \"white\"}, \"yaxis\": {\"backgroundcolor\": \"#E5ECF6\", \"gridcolor\": \"white\", \"gridwidth\": 2, \"linecolor\": \"white\", \"showbackground\": true, \"ticks\": \"\", \"zerolinecolor\": \"white\"}, \"zaxis\": {\"backgroundcolor\": \"#E5ECF6\", \"gridcolor\": \"white\", \"gridwidth\": 2, \"linecolor\": \"white\", \"showbackground\": true, \"ticks\": \"\", \"zerolinecolor\": \"white\"}}, \"shapedefaults\": {\"line\": {\"color\": \"#2a3f5f\"}}, \"ternary\": {\"aaxis\": {\"gridcolor\": \"white\", \"linecolor\": \"white\", \"ticks\": \"\"}, \"baxis\": {\"gridcolor\": \"white\", \"linecolor\": \"white\", \"ticks\": \"\"}, \"bgcolor\": \"#E5ECF6\", \"caxis\": {\"gridcolor\": \"white\", \"linecolor\": \"white\", \"ticks\": \"\"}}, \"title\": {\"x\": 0.05}, \"xaxis\": {\"automargin\": true, \"gridcolor\": \"white\", \"linecolor\": \"white\", \"ticks\": \"\", \"title\": {\"standoff\": 15}, \"zerolinecolor\": \"white\", \"zerolinewidth\": 2}, \"yaxis\": {\"automargin\": true, \"gridcolor\": \"white\", \"linecolor\": \"white\", \"ticks\": \"\", \"title\": {\"standoff\": 15}, \"zerolinecolor\": \"white\", \"zerolinewidth\": 2}}}, \"title\": {\"text\": \"<b>AMM Curves</b>\"}, \"width\": 1000, \"xaxis\": {\"range\": [0, 300]}, \"yaxis\": {\"range\": [0, 300]}},                        {\"responsive\": true}                    ).then(function(){\n",
       "                            \n",
       "var gd = document.getElementById('998fadd3-e2e8-43f6-9ba0-61d44ba4e135');\n",
       "var x = new MutationObserver(function (mutations, observer) {{\n",
       "        var display = window.getComputedStyle(gd).display;\n",
       "        if (!display || display === 'none') {{\n",
       "            console.log([gd, 'removed!']);\n",
       "            Plotly.purge(gd);\n",
       "            observer.disconnect();\n",
       "        }}\n",
       "}});\n",
       "\n",
       "// Listen for the removal of the full notebook cells\n",
       "var notebookContainer = gd.closest('#notebook-container');\n",
       "if (notebookContainer) {{\n",
       "    x.observe(notebookContainer, {childList: true});\n",
       "}}\n",
       "\n",
       "// Listen for the clearing of the current output cell\n",
       "var outputEl = gd.closest('.output');\n",
       "if (outputEl) {{\n",
       "    x.observe(outputEl, {childList: true});\n",
       "}}\n",
       "\n",
       "                        })                };                });            </script>        </div>"
      ]
     },
     "metadata": {},
     "output_type": "display_data"
    }
   ],
   "source": [
    "fig = go.Figure()\n",
    "fig.add_trace(go.Scatter(x=curve[\"token_A\"], y=curve[\"token_B\"],\n",
    "                    mode='lines',\n",
    "                    name='50-50'))\n",
    "fig.add_trace(go.Scatter(x=curve_w1[\"token_A\"], y=curve_w1[\"token_B\"],\n",
    "                    mode='lines',\n",
    "                    name='20A - 80B'))\n",
    "\n",
    "\n",
    "fig.update_xaxes(range=[0, 300])\n",
    "fig.update_yaxes(range=[0, 300])\n",
    "fig.update_layout(height=1000, width=1000, title_text='<b>AMM Curves</b>')\n",
    "\n",
    "\n",
    "# fig.update_layout(showlegend=False) \n",
    "\n",
    "fig.show()"
   ]
  },
  {
   "cell_type": "markdown",
   "id": "rural-guarantee",
   "metadata": {},
   "source": [
    "# Q2.4:\n",
    "Compare token prices in this pool.  \n",
    "How much would Alice have to pay in case there are only 2 tokens left in the pool  \n",
    "    **a) buy 1.0 token A for token B**\n",
    "    \n",
    "``` python\n",
    "price_of_99st_token_A = (curve.iloc[99]['token_B'])-((curve.iloc[98]['token_B']))\n",
    "```\n",
    "    \n",
    "   **b) buy 1.0 token B for token A**   \n",
    "```python\n",
    "price_of_99st_token_B = (curve.iloc[100]['token_A'])-((curve.iloc[101]['token_A']))\n",
    "```"
   ]
  },
  {
   "cell_type": "code",
   "execution_count": 16,
   "id": "8e641a6e",
   "metadata": {},
   "outputs": [
    {
     "name": "stdout",
     "output_type": "stream",
     "text": [
      "Equal weights:\n",
      "price_of_99st_token_A: 5000.000000000002\n",
      "price_of_99st_token_B: 5000.000000000002\n",
      "\n",
      "\n",
      "0.2 A - 0.8 B\n",
      "price_of_99st_token_A: 50.312971169588536\n",
      "price_of_99st_token_B: 9375000000.000011\n"
     ]
    }
   ],
   "source": [
    "print(\"Equal weights:\")\n",
    "print('price_of_99st_token_A: {}'.format(curve.iloc[99]['token_B']-(curve.iloc[98]['token_B'])))\n",
    "print('price_of_99st_token_B: {}'.format(curve.iloc[100]['token_A']-(curve.iloc[101]['token_A'])))\n",
    "print('\\n')\n",
    "\n",
    "print(\"0.2 A - 0.8 B\")\n",
    "print('price_of_99st_token_A: {}'.format(curve_w1.iloc[99]['token_B']-(curve_w1.iloc[98]['token_B'])))\n",
    "print('price_of_99st_token_B: {}'.format(curve_w1.iloc[100]['token_A']-(curve_w1.iloc[101]['token_A'])))"
   ]
  },
  {
   "cell_type": "code",
   "execution_count": null,
   "id": "7344bd0d",
   "metadata": {},
   "outputs": [],
   "source": []
  }
 ],
 "metadata": {
  "kernelspec": {
   "display_name": "Python 3",
   "language": "python",
   "name": "python3"
  },
  "language_info": {
   "codemirror_mode": {
    "name": "ipython",
    "version": 3
   },
   "file_extension": ".py",
   "mimetype": "text/x-python",
   "name": "python",
   "nbconvert_exporter": "python",
   "pygments_lexer": "ipython3",
   "version": "3.7.7"
  },
  "toc": {
   "base_numbering": 1,
   "nav_menu": {},
   "number_sections": false,
   "sideBar": true,
   "skip_h1_title": false,
   "title_cell": "Table of Contents",
   "title_sidebar": "Contents",
   "toc_cell": false,
   "toc_position": {
    "height": "calc(100% - 180px)",
    "left": "10px",
    "top": "150px",
    "width": "282.391px"
   },
   "toc_section_display": true,
   "toc_window_display": true
  }
 },
 "nbformat": 4,
 "nbformat_minor": 5
}
