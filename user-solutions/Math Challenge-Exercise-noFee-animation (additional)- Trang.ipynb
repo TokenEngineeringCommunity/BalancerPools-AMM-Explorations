{
 "cells": [
  {
   "cell_type": "markdown",
   "id": "07d3aae3",
   "metadata": {},
   "source": [
    "# Balancer Simulations Math Challenge - Basic Exercises"
   ]
  },
  {
   "cell_type": "markdown",
   "id": "4c1a19b7",
   "metadata": {},
   "source": [
    "This is a series of exercises to gain intuition for the core algorithm in Balancer Pools: the Value Function, and invariant V.  \n",
    "For all steps the Balancer Whitepaper will be useful: https://balancer.fi/whitepaper.pdf"
   ]
  },
  {
   "cell_type": "markdown",
   "id": "c3b4d0dd",
   "metadata": {},
   "source": [
    "**Exercise:** We'll work on Step 1 questions in our working session on May 25 in teams of 2, facilitated by @Octopus and @akrtws.  \n",
    "**Challenges:** Step 2 will be homework assignments, submitting at least one challenge solved is mandatory for successful participation!  \n",
    "Here's the notebook with challenges: https://github.com/TokenEngineeringCommunity/BalancerPools_Model/blob/fcb67145e8b0f8a1843fe3c6921dbb5a7085938e/Math%20Challenges-Advanced.ipynb"
   ]
  },
  {
   "cell_type": "markdown",
   "id": "30afa17a",
   "metadata": {},
   "source": [
    "## Exercise:   \n",
    "Let's set up a pool.  \n",
    "\n",
    "We have 100 Token A and 100 Token B, with equal weights.  \n",
    "The price definition in our pool is constraint by the\n",
    "Invariant V in Balancer Pools. \n",
    "\n",
    "a_bal = balance of token A  \n",
    "b_bal = balance of token B  \n",
    "a_weight = weight of token A  \n",
    "b_weight = weight of token B   \n",
    "\n",
    "The weights in this pool are equal for both tokens.\n",
    "\n",
    "**For now, we don't have a swap fee.**"
   ]
  },
  {
   "cell_type": "markdown",
   "id": "76e37b88",
   "metadata": {},
   "source": [
    "# Q1.1: \n",
    "What's the initial spot price of token A in token B?"
   ]
  },
  {
   "cell_type": "code",
   "execution_count": 1,
   "id": "b0c37393",
   "metadata": {},
   "outputs": [],
   "source": [
    "#The initial spot price is 1:1, 1 token A equals 1 token B."
   ]
  },
  {
   "cell_type": "markdown",
   "id": "2179eed0",
   "metadata": {},
   "source": [
    "# Q1.2:\n",
    "Now let's assume a series of 99 swaps. With every swap, **1.0 token A is bought from the pool, against token B**.  \n",
    "\n",
    "## buy_A table\n",
    "with:<br>\n",
    "\n",
    "    the token A balances (swap by swap)\n",
    "    the token B balances (swap by swap) - that are constraint by the value function. \n",
    "\n",
    "In mathematics, **an invariant** is a property of a mathematical object (or a class of mathematical objects) which remains unchanged after operations or transformations of a certain type are applied to the objects."
   ]
  },
  {
   "cell_type": "code",
   "execution_count": 2,
   "id": "5483aa67",
   "metadata": {},
   "outputs": [
    {
     "data": {
      "text/html": [
       "        <script type=\"text/javascript\">\n",
       "        window.PlotlyConfig = {MathJaxConfig: 'local'};\n",
       "        if (window.MathJax) {MathJax.Hub.Config({SVG: {font: \"STIX-Web\"}});}\n",
       "        if (typeof require !== 'undefined') {\n",
       "        require.undef(\"plotly\");\n",
       "        requirejs.config({\n",
       "            paths: {\n",
       "                'plotly': ['https://cdn.plot.ly/plotly-latest.min']\n",
       "            }\n",
       "        });\n",
       "        require(['plotly'], function(Plotly) {\n",
       "            window._Plotly = Plotly;\n",
       "        });\n",
       "        }\n",
       "        </script>\n",
       "        "
      ]
     },
     "metadata": {},
     "output_type": "display_data"
    }
   ],
   "source": [
    "import numpy as np\n",
    "import pandas as pd\n",
    "\n",
    "import plotly.express as px\n",
    "import chart_studio.plotly as py\n",
    "import plotly.graph_objs as go\n",
    "from plotly.offline import iplot\n",
    "\n",
    "import cufflinks\n",
    "cufflinks.go_offline()\n",
    "cufflinks.set_config_file(world_readable=True, theme='pearl')"
   ]
  },
  {
   "cell_type": "code",
   "execution_count": 3,
   "id": "f080d128",
   "metadata": {},
   "outputs": [
    {
     "data": {
      "text/html": [
       "<div>\n",
       "<style scoped>\n",
       "    .dataframe tbody tr th:only-of-type {\n",
       "        vertical-align: middle;\n",
       "    }\n",
       "\n",
       "    .dataframe tbody tr th {\n",
       "        vertical-align: top;\n",
       "    }\n",
       "\n",
       "    .dataframe thead th {\n",
       "        text-align: right;\n",
       "    }\n",
       "</style>\n",
       "<table border=\"1\" class=\"dataframe\">\n",
       "  <thead>\n",
       "    <tr style=\"text-align: right;\">\n",
       "      <th></th>\n",
       "      <th>token_A</th>\n",
       "      <th>invariant</th>\n",
       "      <th>token_B</th>\n",
       "    </tr>\n",
       "  </thead>\n",
       "  <tbody>\n",
       "    <tr>\n",
       "      <th>95</th>\n",
       "      <td>5</td>\n",
       "      <td>100.0</td>\n",
       "      <td>2000.000000</td>\n",
       "    </tr>\n",
       "    <tr>\n",
       "      <th>96</th>\n",
       "      <td>4</td>\n",
       "      <td>100.0</td>\n",
       "      <td>2500.000000</td>\n",
       "    </tr>\n",
       "    <tr>\n",
       "      <th>97</th>\n",
       "      <td>3</td>\n",
       "      <td>100.0</td>\n",
       "      <td>3333.333333</td>\n",
       "    </tr>\n",
       "    <tr>\n",
       "      <th>98</th>\n",
       "      <td>2</td>\n",
       "      <td>100.0</td>\n",
       "      <td>5000.000000</td>\n",
       "    </tr>\n",
       "    <tr>\n",
       "      <th>99</th>\n",
       "      <td>1</td>\n",
       "      <td>100.0</td>\n",
       "      <td>10000.000000</td>\n",
       "    </tr>\n",
       "  </tbody>\n",
       "</table>\n",
       "</div>"
      ],
      "text/plain": [
       "    token_A  invariant       token_B\n",
       "95        5      100.0   2000.000000\n",
       "96        4      100.0   2500.000000\n",
       "97        3      100.0   3333.333333\n",
       "98        2      100.0   5000.000000\n",
       "99        1      100.0  10000.000000"
      ]
     },
     "execution_count": 3,
     "metadata": {},
     "output_type": "execute_result"
    }
   ],
   "source": [
    "#set up genesis state\n",
    "a_bal = 100 # initial balance\n",
    "b_bal = 100 # initial balance\n",
    "\n",
    "a_weight = 0.5 #define weight\n",
    "b_weight = 0.5 #define weight\n",
    "\n",
    "s_f = 0.0 #swap fee\n",
    "inv = (a_bal**a_weight)*(b_bal**b_weight) #calculate invariant\n",
    "\n",
    "a_vals = pd.Series(range(100,0,-1))\n",
    "\n",
    "#create dataframe with based on a_vals\n",
    "buy_A = pd.DataFrame(a_vals, columns=['token_A'])\n",
    "\n",
    "buy_A['invariant'] = inv #value required to calculate token B value\n",
    "\n",
    "#create values for plot, add Y_balances according to current invariant\n",
    "buy_A['token_B'] = (buy_A.invariant/(buy_A.token_A**a_weight))**(1/b_weight)# calculate corresponding token_B value according to invariant\n",
    "\n",
    "buy_A.tail()\n",
    "# buy_A.shape"
   ]
  },
  {
   "cell_type": "markdown",
   "id": "0bb28d02",
   "metadata": {},
   "source": [
    "## Swap once vs multiple times\n",
    "\n",
    "- Invariant V\n",
    "<div align=\"center\">$V = \\prod\\limits_{t} {B_t}^{W_{t}}\n",
    "= a^{w_a}b^{w_b}$</div>\n",
    "\n",
    "- Number of token B \n",
    "\n",
    "<div align=\"center\">\n",
    "$\n",
    "b = \\left( \\frac{V}{a^{w_a}} \\right)^{1/w_b}\n",
    "$\n",
    "</div>\n",
    "\n",
    "- **99 token_A at once swap**, meaning only 1 token_A left after that 1 swap, number of token B after that swap is calculated by \n",
    "<div align=\"center\">\n",
    "$\n",
    "b = \\left( \\frac{V}{1^{w_a}} \\right)^{1/w_b} = V^2\n",
    "$\n",
    "</div>\n",
    "\n",
    "- **99 swaps, 1 token_A each** \n",
    "    - Genesis state: \n",
    "<div align=\"center\">\n",
    "    $a_0 = a_{bal}$ <br>\n",
    "    $b_0 = b_{bal}$\n",
    "</div>\n",
    " \n",
    "    - 1st swap: \n",
    "<div align=\"center\">\n",
    "    $b_1  = \\left( \\frac{V}{(a_{bal}-1)^{w_a}} \\right)^{1/w_b}$\n",
    "</div>\n",
    "  \n",
    "<div align=\"center\">\n",
    "    $\\Delta b_1 =  b_1 - b_0 =\n",
    "    \\left( \\frac{V}{(a_{bal}-1)^{w_a}} \\right)^{1/w_b}- \n",
    "    \\left( \\frac{V}{(a_{bal})^{w_a}} \\right)^{1/w_b}$\n",
    "</div>\n",
    "    \n",
    "    - 2nd swap: \n",
    "<div align=\"center\">\n",
    "    $b_2 = \\left( \\frac{V}{(a_{bal}-2)^{w_a}} \\right)^{1/w_b}$\n",
    "</div>\n",
    "  \n",
    "<div align=\"center\">\n",
    "    $\\Delta b_2 = b_2 - b_1=\n",
    "    \\left( \\frac{V}{(a_{bal}-2)^{w_a}} \\right)^{1/w_b}- \n",
    "    \\left( \\frac{V}{(a_{bal}-1)^{w_a}} \\right)^{1/w_b}$\n",
    "</div>\n",
    "\n",
    "...\n",
    "\n",
    "    - 99th swap: \n",
    "<div align=\"center\">\n",
    "    $b_{99} = \\left( \\frac{V}{(a_{bal}-99)^{w_a}} \\right)^{1/w_b}$\n",
    "</div>\n",
    "  \n",
    "<div align=\"center\">\n",
    "    $\\Delta b_{99} =  b_{99} - b_{98} =\n",
    "    \\left( \\frac{V}{(a_{bal}-99)^{w_a}} \\right)^{1/w_b}- \n",
    "    \\left( \\frac{V}{(a_{bal}-98)^{w_a}} \\right)^{1/w_b}$\n",
    "</div>\n",
    "\n",
    "    - After 99 swaps\n",
    "<div align=\"center\">\n",
    "$\n",
    "b_{99} = b_0 + \\sum_{i=1}^{99} \\Delta b =\n",
    "\\left( \\frac{V}{(a_{bal}-99)^{w_a}} \\right)^{1/w_b} = V^2\n",
    "$\t\n",
    "</div>\n",
    "\n",
    "\n",
    "**Generalize the problem: with the given value of number of token_A in the pool, there will be only one value for number of token_B that fulfills invariant V requirement, regardless of how many swaps to come to that state**"
   ]
  },
  {
   "cell_type": "markdown",
   "id": "70d55670",
   "metadata": {},
   "source": [
    "## Effective Price\n",
    "According to the [Whitepaper](https://balancer.fi/whitepaper.pdf)\n",
    "\n",
    " \n",
    " <div align=\"center\">\n",
    "    $\n",
    "    EP = \\frac{\\Delta B}{\\Delta A}\n",
    "    $\n",
    "</div>\n",
    "\n",
    "Let's visualize that"
   ]
  },
  {
   "cell_type": "code",
   "execution_count": 4,
   "id": "0ff1b853",
   "metadata": {},
   "outputs": [
    {
     "data": {
      "text/html": [
       "<div>\n",
       "<style scoped>\n",
       "    .dataframe tbody tr th:only-of-type {\n",
       "        vertical-align: middle;\n",
       "    }\n",
       "\n",
       "    .dataframe tbody tr th {\n",
       "        vertical-align: top;\n",
       "    }\n",
       "\n",
       "    .dataframe thead th {\n",
       "        text-align: right;\n",
       "    }\n",
       "</style>\n",
       "<table border=\"1\" class=\"dataframe\">\n",
       "  <thead>\n",
       "    <tr style=\"text-align: right;\">\n",
       "      <th></th>\n",
       "      <th>token_A</th>\n",
       "      <th>invariant</th>\n",
       "      <th>token_B</th>\n",
       "      <th>SP</th>\n",
       "      <th>delta_A</th>\n",
       "      <th>delta_B</th>\n",
       "      <th>EP</th>\n",
       "    </tr>\n",
       "  </thead>\n",
       "  <tbody>\n",
       "    <tr>\n",
       "      <th>80</th>\n",
       "      <td>20</td>\n",
       "      <td>100.0</td>\n",
       "      <td>500.000000</td>\n",
       "      <td>25.000000</td>\n",
       "      <td>1.0</td>\n",
       "      <td>23.809524</td>\n",
       "      <td>23.809524</td>\n",
       "    </tr>\n",
       "    <tr>\n",
       "      <th>81</th>\n",
       "      <td>19</td>\n",
       "      <td>100.0</td>\n",
       "      <td>526.315789</td>\n",
       "      <td>27.700831</td>\n",
       "      <td>1.0</td>\n",
       "      <td>26.315789</td>\n",
       "      <td>26.315789</td>\n",
       "    </tr>\n",
       "    <tr>\n",
       "      <th>82</th>\n",
       "      <td>18</td>\n",
       "      <td>100.0</td>\n",
       "      <td>555.555556</td>\n",
       "      <td>30.864198</td>\n",
       "      <td>1.0</td>\n",
       "      <td>29.239766</td>\n",
       "      <td>29.239766</td>\n",
       "    </tr>\n",
       "    <tr>\n",
       "      <th>83</th>\n",
       "      <td>17</td>\n",
       "      <td>100.0</td>\n",
       "      <td>588.235294</td>\n",
       "      <td>34.602076</td>\n",
       "      <td>1.0</td>\n",
       "      <td>32.679739</td>\n",
       "      <td>32.679739</td>\n",
       "    </tr>\n",
       "    <tr>\n",
       "      <th>84</th>\n",
       "      <td>16</td>\n",
       "      <td>100.0</td>\n",
       "      <td>625.000000</td>\n",
       "      <td>39.062500</td>\n",
       "      <td>1.0</td>\n",
       "      <td>36.764706</td>\n",
       "      <td>36.764706</td>\n",
       "    </tr>\n",
       "    <tr>\n",
       "      <th>85</th>\n",
       "      <td>15</td>\n",
       "      <td>100.0</td>\n",
       "      <td>666.666667</td>\n",
       "      <td>44.444444</td>\n",
       "      <td>1.0</td>\n",
       "      <td>41.666667</td>\n",
       "      <td>41.666667</td>\n",
       "    </tr>\n",
       "    <tr>\n",
       "      <th>86</th>\n",
       "      <td>14</td>\n",
       "      <td>100.0</td>\n",
       "      <td>714.285714</td>\n",
       "      <td>51.020408</td>\n",
       "      <td>1.0</td>\n",
       "      <td>47.619048</td>\n",
       "      <td>47.619048</td>\n",
       "    </tr>\n",
       "    <tr>\n",
       "      <th>87</th>\n",
       "      <td>13</td>\n",
       "      <td>100.0</td>\n",
       "      <td>769.230769</td>\n",
       "      <td>59.171598</td>\n",
       "      <td>1.0</td>\n",
       "      <td>54.945055</td>\n",
       "      <td>54.945055</td>\n",
       "    </tr>\n",
       "    <tr>\n",
       "      <th>88</th>\n",
       "      <td>12</td>\n",
       "      <td>100.0</td>\n",
       "      <td>833.333333</td>\n",
       "      <td>69.444444</td>\n",
       "      <td>1.0</td>\n",
       "      <td>64.102564</td>\n",
       "      <td>64.102564</td>\n",
       "    </tr>\n",
       "    <tr>\n",
       "      <th>89</th>\n",
       "      <td>11</td>\n",
       "      <td>100.0</td>\n",
       "      <td>909.090909</td>\n",
       "      <td>82.644628</td>\n",
       "      <td>1.0</td>\n",
       "      <td>75.757576</td>\n",
       "      <td>75.757576</td>\n",
       "    </tr>\n",
       "    <tr>\n",
       "      <th>90</th>\n",
       "      <td>10</td>\n",
       "      <td>100.0</td>\n",
       "      <td>1000.000000</td>\n",
       "      <td>100.000000</td>\n",
       "      <td>1.0</td>\n",
       "      <td>90.909091</td>\n",
       "      <td>90.909091</td>\n",
       "    </tr>\n",
       "    <tr>\n",
       "      <th>91</th>\n",
       "      <td>9</td>\n",
       "      <td>100.0</td>\n",
       "      <td>1111.111111</td>\n",
       "      <td>123.456790</td>\n",
       "      <td>1.0</td>\n",
       "      <td>111.111111</td>\n",
       "      <td>111.111111</td>\n",
       "    </tr>\n",
       "    <tr>\n",
       "      <th>92</th>\n",
       "      <td>8</td>\n",
       "      <td>100.0</td>\n",
       "      <td>1250.000000</td>\n",
       "      <td>156.250000</td>\n",
       "      <td>1.0</td>\n",
       "      <td>138.888889</td>\n",
       "      <td>138.888889</td>\n",
       "    </tr>\n",
       "    <tr>\n",
       "      <th>93</th>\n",
       "      <td>7</td>\n",
       "      <td>100.0</td>\n",
       "      <td>1428.571429</td>\n",
       "      <td>204.081633</td>\n",
       "      <td>1.0</td>\n",
       "      <td>178.571429</td>\n",
       "      <td>178.571429</td>\n",
       "    </tr>\n",
       "    <tr>\n",
       "      <th>94</th>\n",
       "      <td>6</td>\n",
       "      <td>100.0</td>\n",
       "      <td>1666.666667</td>\n",
       "      <td>277.777778</td>\n",
       "      <td>1.0</td>\n",
       "      <td>238.095238</td>\n",
       "      <td>238.095238</td>\n",
       "    </tr>\n",
       "    <tr>\n",
       "      <th>95</th>\n",
       "      <td>5</td>\n",
       "      <td>100.0</td>\n",
       "      <td>2000.000000</td>\n",
       "      <td>400.000000</td>\n",
       "      <td>1.0</td>\n",
       "      <td>333.333333</td>\n",
       "      <td>333.333333</td>\n",
       "    </tr>\n",
       "    <tr>\n",
       "      <th>96</th>\n",
       "      <td>4</td>\n",
       "      <td>100.0</td>\n",
       "      <td>2500.000000</td>\n",
       "      <td>625.000000</td>\n",
       "      <td>1.0</td>\n",
       "      <td>500.000000</td>\n",
       "      <td>500.000000</td>\n",
       "    </tr>\n",
       "    <tr>\n",
       "      <th>97</th>\n",
       "      <td>3</td>\n",
       "      <td>100.0</td>\n",
       "      <td>3333.333333</td>\n",
       "      <td>1111.111111</td>\n",
       "      <td>1.0</td>\n",
       "      <td>833.333333</td>\n",
       "      <td>833.333333</td>\n",
       "    </tr>\n",
       "    <tr>\n",
       "      <th>98</th>\n",
       "      <td>2</td>\n",
       "      <td>100.0</td>\n",
       "      <td>5000.000000</td>\n",
       "      <td>2500.000000</td>\n",
       "      <td>1.0</td>\n",
       "      <td>1666.666667</td>\n",
       "      <td>1666.666667</td>\n",
       "    </tr>\n",
       "    <tr>\n",
       "      <th>99</th>\n",
       "      <td>1</td>\n",
       "      <td>100.0</td>\n",
       "      <td>10000.000000</td>\n",
       "      <td>10000.000000</td>\n",
       "      <td>1.0</td>\n",
       "      <td>5000.000000</td>\n",
       "      <td>5000.000000</td>\n",
       "    </tr>\n",
       "  </tbody>\n",
       "</table>\n",
       "</div>"
      ],
      "text/plain": [
       "    token_A  invariant       token_B            SP  delta_A      delta_B  \\\n",
       "80       20      100.0    500.000000     25.000000      1.0    23.809524   \n",
       "81       19      100.0    526.315789     27.700831      1.0    26.315789   \n",
       "82       18      100.0    555.555556     30.864198      1.0    29.239766   \n",
       "83       17      100.0    588.235294     34.602076      1.0    32.679739   \n",
       "84       16      100.0    625.000000     39.062500      1.0    36.764706   \n",
       "85       15      100.0    666.666667     44.444444      1.0    41.666667   \n",
       "86       14      100.0    714.285714     51.020408      1.0    47.619048   \n",
       "87       13      100.0    769.230769     59.171598      1.0    54.945055   \n",
       "88       12      100.0    833.333333     69.444444      1.0    64.102564   \n",
       "89       11      100.0    909.090909     82.644628      1.0    75.757576   \n",
       "90       10      100.0   1000.000000    100.000000      1.0    90.909091   \n",
       "91        9      100.0   1111.111111    123.456790      1.0   111.111111   \n",
       "92        8      100.0   1250.000000    156.250000      1.0   138.888889   \n",
       "93        7      100.0   1428.571429    204.081633      1.0   178.571429   \n",
       "94        6      100.0   1666.666667    277.777778      1.0   238.095238   \n",
       "95        5      100.0   2000.000000    400.000000      1.0   333.333333   \n",
       "96        4      100.0   2500.000000    625.000000      1.0   500.000000   \n",
       "97        3      100.0   3333.333333   1111.111111      1.0   833.333333   \n",
       "98        2      100.0   5000.000000   2500.000000      1.0  1666.666667   \n",
       "99        1      100.0  10000.000000  10000.000000      1.0  5000.000000   \n",
       "\n",
       "             EP  \n",
       "80    23.809524  \n",
       "81    26.315789  \n",
       "82    29.239766  \n",
       "83    32.679739  \n",
       "84    36.764706  \n",
       "85    41.666667  \n",
       "86    47.619048  \n",
       "87    54.945055  \n",
       "88    64.102564  \n",
       "89    75.757576  \n",
       "90    90.909091  \n",
       "91   111.111111  \n",
       "92   138.888889  \n",
       "93   178.571429  \n",
       "94   238.095238  \n",
       "95   333.333333  \n",
       "96   500.000000  \n",
       "97   833.333333  \n",
       "98  1666.666667  \n",
       "99  5000.000000  "
      ]
     },
     "execution_count": 4,
     "metadata": {},
     "output_type": "execute_result"
    }
   ],
   "source": [
    "# Calculate SP and EF\n",
    "buy_A['SP'] = (buy_A['token_B']/b_weight) / (buy_A['token_A']/a_weight)\n",
    "buy_A['delta_A'] = -buy_A['token_A'].diff()\n",
    "buy_A['delta_B'] = buy_A['token_B'].diff()\n",
    "\n",
    "buy_A['EP'] = buy_A['delta_B']/buy_A['delta_A']\n",
    "buy_A.tail(20)"
   ]
  },
  {
   "cell_type": "code",
   "execution_count": 5,
   "id": "862b7884",
   "metadata": {
    "scrolled": false
   },
   "outputs": [
    {
     "data": {
      "application/vnd.plotly.v1+json": {
       "config": {
        "plotlyServerURL": "https://plot.ly"
       },
       "data": [
        {
         "hovertemplate": "x=%{x}<br>y=%{y}<extra></extra>",
         "legendgroup": "",
         "line": {
          "color": "#636efa",
          "dash": "solid"
         },
         "mode": "lines",
         "name": "",
         "orientation": "v",
         "showlegend": false,
         "type": "scatter",
         "x": [
          100,
          99,
          98,
          97,
          96,
          95,
          94,
          93,
          92,
          91,
          90,
          89,
          88,
          87,
          86,
          85,
          84,
          83,
          82,
          81,
          80,
          79,
          78,
          77,
          76,
          75,
          74,
          73,
          72,
          71,
          70,
          69,
          68,
          67,
          66,
          65,
          64,
          63,
          62,
          61,
          60,
          59,
          58,
          57,
          56,
          55,
          54,
          53,
          52,
          51,
          50,
          49,
          48,
          47,
          46,
          45,
          44,
          43,
          42,
          41,
          40,
          39,
          38,
          37,
          36,
          35,
          34,
          33,
          32,
          31,
          30,
          29,
          28,
          27,
          26,
          25,
          24,
          23,
          22,
          21,
          20,
          19,
          18,
          17,
          16,
          15,
          14,
          13,
          12,
          11,
          10,
          9,
          8,
          7,
          6,
          5,
          4,
          3,
          2,
          1
         ],
         "xaxis": "x",
         "y": [
          100,
          101.01010101010101,
          102.0408163265306,
          103.09278350515464,
          104.16666666666669,
          105.26315789473686,
          106.38297872340425,
          107.5268817204301,
          108.69565217391307,
          109.89010989010991,
          111.1111111111111,
          112.35955056179779,
          113.63636363636363,
          114.94252873563217,
          116.27906976744187,
          117.6470588235294,
          119.04761904761908,
          120.48192771084337,
          121.95121951219511,
          123.45679012345678,
          124.99999999999997,
          126.58227848101268,
          128.20512820512818,
          129.87012987012983,
          131.578947368421,
          133.33333333333331,
          135.13513513513513,
          136.98630136986304,
          138.88888888888889,
          140.8450704225352,
          142.85714285714286,
          144.92753623188406,
          147.05882352941177,
          149.25373134328356,
          151.51515151515147,
          153.84615384615387,
          156.25,
          158.73015873015873,
          161.29032258064515,
          163.9344262295082,
          166.66666666666666,
          169.4915254237288,
          172.41379310344826,
          175.43859649122805,
          178.57142857142856,
          181.81818181818184,
          185.18518518518516,
          188.6792452830189,
          192.30769230769232,
          196.07843137254898,
          199.99999999999997,
          204.08163265306123,
          208.33333333333337,
          212.7659574468085,
          217.3913043478261,
          222.2222222222222,
          227.27272727272725,
          232.55813953488374,
          238.09523809523807,
          243.90243902439028,
          250,
          256.41025641025635,
          263.1578947368422,
          270.2702702702703,
          277.7777777777778,
          285.7142857142858,
          294.11764705882354,
          303.03030303030306,
          312.4999999999999,
          322.5806451612904,
          333.3333333333333,
          344.8275862068966,
          357.1428571428571,
          370.3703703703703,
          384.6153846153847,
          400,
          416.66666666666674,
          434.7826086956523,
          454.5454545454545,
          476.1904761904763,
          499.9999999999999,
          526.315789473684,
          555.5555555555555,
          588.2352941176471,
          625,
          666.6666666666666,
          714.2857142857142,
          769.2307692307693,
          833.3333333333335,
          909.090909090909,
          1000,
          1111.1111111111113,
          1249.9999999999995,
          1428.5714285714284,
          1666.666666666667,
          1999.9999999999995,
          2500,
          3333.333333333334,
          4999.999999999998,
          10000
         ],
         "yaxis": "y"
        },
        {
         "fill": "toself",
         "type": "scatter",
         "x": [
          20,
          5,
          5,
          20
         ],
         "y": [
          500,
          2000,
          500,
          500
         ]
        }
       ],
       "layout": {
        "annotations": [
         {
          "showarrow": false,
          "text": "delta_B",
          "x": 3.5,
          "y": 1300
         },
         {
          "showarrow": false,
          "text": "delta_A",
          "x": 13,
          "y": 50
         }
        ],
        "legend": {
         "tracegroupgap": 0
        },
        "margin": {
         "t": 60
        },
        "shapes": [
         {
          "line": {
           "color": "Green",
           "dash": "dot"
          },
          "type": "line",
          "x0": 20,
          "x1": 20,
          "xref": "x",
          "y0": 0,
          "y1": 499.9999999999999,
          "yref": "y"
         },
         {
          "line": {
           "color": "Green",
           "dash": "dot"
          },
          "type": "line",
          "x0": 20,
          "x1": 100,
          "xref": "x",
          "y0": 499.9999999999999,
          "y1": 499.9999999999999,
          "yref": "y"
         },
         {
          "line": {
           "color": "Orange",
           "dash": "dot"
          },
          "type": "line",
          "x0": 5,
          "x1": 5,
          "xref": "x",
          "y0": 0,
          "y1": 1999.9999999999995,
          "yref": "y"
         },
         {
          "line": {
           "color": "Orange",
           "dash": "dot"
          },
          "type": "line",
          "x0": 5,
          "x1": 100,
          "xref": "x",
          "y0": 1999.9999999999995,
          "y1": 1999.9999999999995,
          "yref": "y"
         }
        ],
        "showlegend": false,
        "template": {
         "data": {
          "bar": [
           {
            "error_x": {
             "color": "#2a3f5f"
            },
            "error_y": {
             "color": "#2a3f5f"
            },
            "marker": {
             "line": {
              "color": "#E5ECF6",
              "width": 0.5
             }
            },
            "type": "bar"
           }
          ],
          "barpolar": [
           {
            "marker": {
             "line": {
              "color": "#E5ECF6",
              "width": 0.5
             }
            },
            "type": "barpolar"
           }
          ],
          "carpet": [
           {
            "aaxis": {
             "endlinecolor": "#2a3f5f",
             "gridcolor": "white",
             "linecolor": "white",
             "minorgridcolor": "white",
             "startlinecolor": "#2a3f5f"
            },
            "baxis": {
             "endlinecolor": "#2a3f5f",
             "gridcolor": "white",
             "linecolor": "white",
             "minorgridcolor": "white",
             "startlinecolor": "#2a3f5f"
            },
            "type": "carpet"
           }
          ],
          "choropleth": [
           {
            "colorbar": {
             "outlinewidth": 0,
             "ticks": ""
            },
            "type": "choropleth"
           }
          ],
          "contour": [
           {
            "colorbar": {
             "outlinewidth": 0,
             "ticks": ""
            },
            "colorscale": [
             [
              0,
              "#0d0887"
             ],
             [
              0.1111111111111111,
              "#46039f"
             ],
             [
              0.2222222222222222,
              "#7201a8"
             ],
             [
              0.3333333333333333,
              "#9c179e"
             ],
             [
              0.4444444444444444,
              "#bd3786"
             ],
             [
              0.5555555555555556,
              "#d8576b"
             ],
             [
              0.6666666666666666,
              "#ed7953"
             ],
             [
              0.7777777777777778,
              "#fb9f3a"
             ],
             [
              0.8888888888888888,
              "#fdca26"
             ],
             [
              1,
              "#f0f921"
             ]
            ],
            "type": "contour"
           }
          ],
          "contourcarpet": [
           {
            "colorbar": {
             "outlinewidth": 0,
             "ticks": ""
            },
            "type": "contourcarpet"
           }
          ],
          "heatmap": [
           {
            "colorbar": {
             "outlinewidth": 0,
             "ticks": ""
            },
            "colorscale": [
             [
              0,
              "#0d0887"
             ],
             [
              0.1111111111111111,
              "#46039f"
             ],
             [
              0.2222222222222222,
              "#7201a8"
             ],
             [
              0.3333333333333333,
              "#9c179e"
             ],
             [
              0.4444444444444444,
              "#bd3786"
             ],
             [
              0.5555555555555556,
              "#d8576b"
             ],
             [
              0.6666666666666666,
              "#ed7953"
             ],
             [
              0.7777777777777778,
              "#fb9f3a"
             ],
             [
              0.8888888888888888,
              "#fdca26"
             ],
             [
              1,
              "#f0f921"
             ]
            ],
            "type": "heatmap"
           }
          ],
          "heatmapgl": [
           {
            "colorbar": {
             "outlinewidth": 0,
             "ticks": ""
            },
            "colorscale": [
             [
              0,
              "#0d0887"
             ],
             [
              0.1111111111111111,
              "#46039f"
             ],
             [
              0.2222222222222222,
              "#7201a8"
             ],
             [
              0.3333333333333333,
              "#9c179e"
             ],
             [
              0.4444444444444444,
              "#bd3786"
             ],
             [
              0.5555555555555556,
              "#d8576b"
             ],
             [
              0.6666666666666666,
              "#ed7953"
             ],
             [
              0.7777777777777778,
              "#fb9f3a"
             ],
             [
              0.8888888888888888,
              "#fdca26"
             ],
             [
              1,
              "#f0f921"
             ]
            ],
            "type": "heatmapgl"
           }
          ],
          "histogram": [
           {
            "marker": {
             "colorbar": {
              "outlinewidth": 0,
              "ticks": ""
             }
            },
            "type": "histogram"
           }
          ],
          "histogram2d": [
           {
            "colorbar": {
             "outlinewidth": 0,
             "ticks": ""
            },
            "colorscale": [
             [
              0,
              "#0d0887"
             ],
             [
              0.1111111111111111,
              "#46039f"
             ],
             [
              0.2222222222222222,
              "#7201a8"
             ],
             [
              0.3333333333333333,
              "#9c179e"
             ],
             [
              0.4444444444444444,
              "#bd3786"
             ],
             [
              0.5555555555555556,
              "#d8576b"
             ],
             [
              0.6666666666666666,
              "#ed7953"
             ],
             [
              0.7777777777777778,
              "#fb9f3a"
             ],
             [
              0.8888888888888888,
              "#fdca26"
             ],
             [
              1,
              "#f0f921"
             ]
            ],
            "type": "histogram2d"
           }
          ],
          "histogram2dcontour": [
           {
            "colorbar": {
             "outlinewidth": 0,
             "ticks": ""
            },
            "colorscale": [
             [
              0,
              "#0d0887"
             ],
             [
              0.1111111111111111,
              "#46039f"
             ],
             [
              0.2222222222222222,
              "#7201a8"
             ],
             [
              0.3333333333333333,
              "#9c179e"
             ],
             [
              0.4444444444444444,
              "#bd3786"
             ],
             [
              0.5555555555555556,
              "#d8576b"
             ],
             [
              0.6666666666666666,
              "#ed7953"
             ],
             [
              0.7777777777777778,
              "#fb9f3a"
             ],
             [
              0.8888888888888888,
              "#fdca26"
             ],
             [
              1,
              "#f0f921"
             ]
            ],
            "type": "histogram2dcontour"
           }
          ],
          "mesh3d": [
           {
            "colorbar": {
             "outlinewidth": 0,
             "ticks": ""
            },
            "type": "mesh3d"
           }
          ],
          "parcoords": [
           {
            "line": {
             "colorbar": {
              "outlinewidth": 0,
              "ticks": ""
             }
            },
            "type": "parcoords"
           }
          ],
          "pie": [
           {
            "automargin": true,
            "type": "pie"
           }
          ],
          "scatter": [
           {
            "marker": {
             "colorbar": {
              "outlinewidth": 0,
              "ticks": ""
             }
            },
            "type": "scatter"
           }
          ],
          "scatter3d": [
           {
            "line": {
             "colorbar": {
              "outlinewidth": 0,
              "ticks": ""
             }
            },
            "marker": {
             "colorbar": {
              "outlinewidth": 0,
              "ticks": ""
             }
            },
            "type": "scatter3d"
           }
          ],
          "scattercarpet": [
           {
            "marker": {
             "colorbar": {
              "outlinewidth": 0,
              "ticks": ""
             }
            },
            "type": "scattercarpet"
           }
          ],
          "scattergeo": [
           {
            "marker": {
             "colorbar": {
              "outlinewidth": 0,
              "ticks": ""
             }
            },
            "type": "scattergeo"
           }
          ],
          "scattergl": [
           {
            "marker": {
             "colorbar": {
              "outlinewidth": 0,
              "ticks": ""
             }
            },
            "type": "scattergl"
           }
          ],
          "scattermapbox": [
           {
            "marker": {
             "colorbar": {
              "outlinewidth": 0,
              "ticks": ""
             }
            },
            "type": "scattermapbox"
           }
          ],
          "scatterpolar": [
           {
            "marker": {
             "colorbar": {
              "outlinewidth": 0,
              "ticks": ""
             }
            },
            "type": "scatterpolar"
           }
          ],
          "scatterpolargl": [
           {
            "marker": {
             "colorbar": {
              "outlinewidth": 0,
              "ticks": ""
             }
            },
            "type": "scatterpolargl"
           }
          ],
          "scatterternary": [
           {
            "marker": {
             "colorbar": {
              "outlinewidth": 0,
              "ticks": ""
             }
            },
            "type": "scatterternary"
           }
          ],
          "surface": [
           {
            "colorbar": {
             "outlinewidth": 0,
             "ticks": ""
            },
            "colorscale": [
             [
              0,
              "#0d0887"
             ],
             [
              0.1111111111111111,
              "#46039f"
             ],
             [
              0.2222222222222222,
              "#7201a8"
             ],
             [
              0.3333333333333333,
              "#9c179e"
             ],
             [
              0.4444444444444444,
              "#bd3786"
             ],
             [
              0.5555555555555556,
              "#d8576b"
             ],
             [
              0.6666666666666666,
              "#ed7953"
             ],
             [
              0.7777777777777778,
              "#fb9f3a"
             ],
             [
              0.8888888888888888,
              "#fdca26"
             ],
             [
              1,
              "#f0f921"
             ]
            ],
            "type": "surface"
           }
          ],
          "table": [
           {
            "cells": {
             "fill": {
              "color": "#EBF0F8"
             },
             "line": {
              "color": "white"
             }
            },
            "header": {
             "fill": {
              "color": "#C8D4E3"
             },
             "line": {
              "color": "white"
             }
            },
            "type": "table"
           }
          ]
         },
         "layout": {
          "annotationdefaults": {
           "arrowcolor": "#2a3f5f",
           "arrowhead": 0,
           "arrowwidth": 1
          },
          "coloraxis": {
           "colorbar": {
            "outlinewidth": 0,
            "ticks": ""
           }
          },
          "colorscale": {
           "diverging": [
            [
             0,
             "#8e0152"
            ],
            [
             0.1,
             "#c51b7d"
            ],
            [
             0.2,
             "#de77ae"
            ],
            [
             0.3,
             "#f1b6da"
            ],
            [
             0.4,
             "#fde0ef"
            ],
            [
             0.5,
             "#f7f7f7"
            ],
            [
             0.6,
             "#e6f5d0"
            ],
            [
             0.7,
             "#b8e186"
            ],
            [
             0.8,
             "#7fbc41"
            ],
            [
             0.9,
             "#4d9221"
            ],
            [
             1,
             "#276419"
            ]
           ],
           "sequential": [
            [
             0,
             "#0d0887"
            ],
            [
             0.1111111111111111,
             "#46039f"
            ],
            [
             0.2222222222222222,
             "#7201a8"
            ],
            [
             0.3333333333333333,
             "#9c179e"
            ],
            [
             0.4444444444444444,
             "#bd3786"
            ],
            [
             0.5555555555555556,
             "#d8576b"
            ],
            [
             0.6666666666666666,
             "#ed7953"
            ],
            [
             0.7777777777777778,
             "#fb9f3a"
            ],
            [
             0.8888888888888888,
             "#fdca26"
            ],
            [
             1,
             "#f0f921"
            ]
           ],
           "sequentialminus": [
            [
             0,
             "#0d0887"
            ],
            [
             0.1111111111111111,
             "#46039f"
            ],
            [
             0.2222222222222222,
             "#7201a8"
            ],
            [
             0.3333333333333333,
             "#9c179e"
            ],
            [
             0.4444444444444444,
             "#bd3786"
            ],
            [
             0.5555555555555556,
             "#d8576b"
            ],
            [
             0.6666666666666666,
             "#ed7953"
            ],
            [
             0.7777777777777778,
             "#fb9f3a"
            ],
            [
             0.8888888888888888,
             "#fdca26"
            ],
            [
             1,
             "#f0f921"
            ]
           ]
          },
          "colorway": [
           "#636efa",
           "#EF553B",
           "#00cc96",
           "#ab63fa",
           "#FFA15A",
           "#19d3f3",
           "#FF6692",
           "#B6E880",
           "#FF97FF",
           "#FECB52"
          ],
          "font": {
           "color": "#2a3f5f"
          },
          "geo": {
           "bgcolor": "white",
           "lakecolor": "white",
           "landcolor": "#E5ECF6",
           "showlakes": true,
           "showland": true,
           "subunitcolor": "white"
          },
          "hoverlabel": {
           "align": "left"
          },
          "hovermode": "closest",
          "mapbox": {
           "style": "light"
          },
          "paper_bgcolor": "white",
          "plot_bgcolor": "#E5ECF6",
          "polar": {
           "angularaxis": {
            "gridcolor": "white",
            "linecolor": "white",
            "ticks": ""
           },
           "bgcolor": "#E5ECF6",
           "radialaxis": {
            "gridcolor": "white",
            "linecolor": "white",
            "ticks": ""
           }
          },
          "scene": {
           "xaxis": {
            "backgroundcolor": "#E5ECF6",
            "gridcolor": "white",
            "gridwidth": 2,
            "linecolor": "white",
            "showbackground": true,
            "ticks": "",
            "zerolinecolor": "white"
           },
           "yaxis": {
            "backgroundcolor": "#E5ECF6",
            "gridcolor": "white",
            "gridwidth": 2,
            "linecolor": "white",
            "showbackground": true,
            "ticks": "",
            "zerolinecolor": "white"
           },
           "zaxis": {
            "backgroundcolor": "#E5ECF6",
            "gridcolor": "white",
            "gridwidth": 2,
            "linecolor": "white",
            "showbackground": true,
            "ticks": "",
            "zerolinecolor": "white"
           }
          },
          "shapedefaults": {
           "line": {
            "color": "#2a3f5f"
           }
          },
          "ternary": {
           "aaxis": {
            "gridcolor": "white",
            "linecolor": "white",
            "ticks": ""
           },
           "baxis": {
            "gridcolor": "white",
            "linecolor": "white",
            "ticks": ""
           },
           "bgcolor": "#E5ECF6",
           "caxis": {
            "gridcolor": "white",
            "linecolor": "white",
            "ticks": ""
           }
          },
          "title": {
           "x": 0.05
          },
          "xaxis": {
           "automargin": true,
           "gridcolor": "white",
           "linecolor": "white",
           "ticks": "",
           "title": {
            "standoff": 15
           },
           "zerolinecolor": "white",
           "zerolinewidth": 2
          },
          "yaxis": {
           "automargin": true,
           "gridcolor": "white",
           "linecolor": "white",
           "ticks": "",
           "title": {
            "standoff": 15
           },
           "zerolinecolor": "white",
           "zerolinewidth": 2
          }
         }
        },
        "xaxis": {
         "anchor": "y",
         "domain": [
          0,
          1
         ],
         "range": [
          100,
          0
         ],
         "title": {
          "text": "token_A"
         }
        },
        "yaxis": {
         "anchor": "x",
         "domain": [
          0,
          1
         ],
         "title": {
          "text": "token_B"
         }
        }
       }
      },
      "text/html": [
       "<div>                            <div id=\"13f17b52-3ccc-40c1-8c00-09ed4b209129\" class=\"plotly-graph-div\" style=\"height:525px; width:100%;\"></div>            <script type=\"text/javascript\">                require([\"plotly\"], function(Plotly) {                    window.PLOTLYENV=window.PLOTLYENV || {};                                    if (document.getElementById(\"13f17b52-3ccc-40c1-8c00-09ed4b209129\")) {                    Plotly.newPlot(                        \"13f17b52-3ccc-40c1-8c00-09ed4b209129\",                        [{\"hovertemplate\": \"x=%{x}<br>y=%{y}<extra></extra>\", \"legendgroup\": \"\", \"line\": {\"color\": \"#636efa\", \"dash\": \"solid\"}, \"mode\": \"lines\", \"name\": \"\", \"orientation\": \"v\", \"showlegend\": false, \"type\": \"scatter\", \"x\": [100, 99, 98, 97, 96, 95, 94, 93, 92, 91, 90, 89, 88, 87, 86, 85, 84, 83, 82, 81, 80, 79, 78, 77, 76, 75, 74, 73, 72, 71, 70, 69, 68, 67, 66, 65, 64, 63, 62, 61, 60, 59, 58, 57, 56, 55, 54, 53, 52, 51, 50, 49, 48, 47, 46, 45, 44, 43, 42, 41, 40, 39, 38, 37, 36, 35, 34, 33, 32, 31, 30, 29, 28, 27, 26, 25, 24, 23, 22, 21, 20, 19, 18, 17, 16, 15, 14, 13, 12, 11, 10, 9, 8, 7, 6, 5, 4, 3, 2, 1], \"xaxis\": \"x\", \"y\": [100.0, 101.01010101010101, 102.0408163265306, 103.09278350515464, 104.16666666666669, 105.26315789473686, 106.38297872340425, 107.5268817204301, 108.69565217391307, 109.89010989010991, 111.1111111111111, 112.35955056179779, 113.63636363636363, 114.94252873563217, 116.27906976744187, 117.6470588235294, 119.04761904761908, 120.48192771084337, 121.95121951219511, 123.45679012345678, 124.99999999999997, 126.58227848101268, 128.20512820512818, 129.87012987012983, 131.578947368421, 133.33333333333331, 135.13513513513513, 136.98630136986304, 138.88888888888889, 140.8450704225352, 142.85714285714286, 144.92753623188406, 147.05882352941177, 149.25373134328356, 151.51515151515147, 153.84615384615387, 156.25, 158.73015873015873, 161.29032258064515, 163.9344262295082, 166.66666666666666, 169.4915254237288, 172.41379310344826, 175.43859649122805, 178.57142857142856, 181.81818181818184, 185.18518518518516, 188.6792452830189, 192.30769230769232, 196.07843137254898, 199.99999999999997, 204.08163265306123, 208.33333333333337, 212.7659574468085, 217.3913043478261, 222.2222222222222, 227.27272727272725, 232.55813953488374, 238.09523809523807, 243.90243902439028, 250.0, 256.41025641025635, 263.1578947368422, 270.2702702702703, 277.7777777777778, 285.7142857142858, 294.11764705882354, 303.03030303030306, 312.4999999999999, 322.5806451612904, 333.3333333333333, 344.8275862068966, 357.1428571428571, 370.3703703703703, 384.6153846153847, 400.0, 416.66666666666674, 434.7826086956523, 454.5454545454545, 476.1904761904763, 499.9999999999999, 526.315789473684, 555.5555555555555, 588.2352941176471, 625.0, 666.6666666666666, 714.2857142857142, 769.2307692307693, 833.3333333333335, 909.090909090909, 1000.0, 1111.1111111111113, 1249.9999999999995, 1428.5714285714284, 1666.666666666667, 1999.9999999999995, 2500.0, 3333.333333333334, 4999.999999999998, 10000.0], \"yaxis\": \"y\"}, {\"fill\": \"toself\", \"type\": \"scatter\", \"x\": [20, 5, 5, 20], \"y\": [500, 2000, 500, 500]}],                        {\"annotations\": [{\"showarrow\": false, \"text\": \"delta_B\", \"x\": 3.5, \"y\": 1300}, {\"showarrow\": false, \"text\": \"delta_A\", \"x\": 13, \"y\": 50}], \"legend\": {\"tracegroupgap\": 0}, \"margin\": {\"t\": 60}, \"shapes\": [{\"line\": {\"color\": \"Green\", \"dash\": \"dot\"}, \"type\": \"line\", \"x0\": 20, \"x1\": 20, \"xref\": \"x\", \"y0\": 0, \"y1\": 499.9999999999999, \"yref\": \"y\"}, {\"line\": {\"color\": \"Green\", \"dash\": \"dot\"}, \"type\": \"line\", \"x0\": 20, \"x1\": 100, \"xref\": \"x\", \"y0\": 499.9999999999999, \"y1\": 499.9999999999999, \"yref\": \"y\"}, {\"line\": {\"color\": \"Orange\", \"dash\": \"dot\"}, \"type\": \"line\", \"x0\": 5, \"x1\": 5, \"xref\": \"x\", \"y0\": 0, \"y1\": 1999.9999999999995, \"yref\": \"y\"}, {\"line\": {\"color\": \"Orange\", \"dash\": \"dot\"}, \"type\": \"line\", \"x0\": 5, \"x1\": 100, \"xref\": \"x\", \"y0\": 1999.9999999999995, \"y1\": 1999.9999999999995, \"yref\": \"y\"}], \"showlegend\": false, \"template\": {\"data\": {\"bar\": [{\"error_x\": {\"color\": \"#2a3f5f\"}, \"error_y\": {\"color\": \"#2a3f5f\"}, \"marker\": {\"line\": {\"color\": \"#E5ECF6\", \"width\": 0.5}}, \"type\": \"bar\"}], \"barpolar\": [{\"marker\": {\"line\": {\"color\": \"#E5ECF6\", \"width\": 0.5}}, \"type\": \"barpolar\"}], \"carpet\": [{\"aaxis\": {\"endlinecolor\": \"#2a3f5f\", \"gridcolor\": \"white\", \"linecolor\": \"white\", \"minorgridcolor\": \"white\", \"startlinecolor\": \"#2a3f5f\"}, \"baxis\": {\"endlinecolor\": \"#2a3f5f\", \"gridcolor\": \"white\", \"linecolor\": \"white\", \"minorgridcolor\": \"white\", \"startlinecolor\": \"#2a3f5f\"}, \"type\": \"carpet\"}], \"choropleth\": [{\"colorbar\": {\"outlinewidth\": 0, \"ticks\": \"\"}, \"type\": \"choropleth\"}], \"contour\": [{\"colorbar\": {\"outlinewidth\": 0, \"ticks\": \"\"}, \"colorscale\": [[0.0, \"#0d0887\"], [0.1111111111111111, \"#46039f\"], [0.2222222222222222, \"#7201a8\"], [0.3333333333333333, \"#9c179e\"], [0.4444444444444444, \"#bd3786\"], [0.5555555555555556, \"#d8576b\"], [0.6666666666666666, \"#ed7953\"], [0.7777777777777778, \"#fb9f3a\"], [0.8888888888888888, \"#fdca26\"], [1.0, \"#f0f921\"]], \"type\": \"contour\"}], \"contourcarpet\": [{\"colorbar\": {\"outlinewidth\": 0, \"ticks\": \"\"}, \"type\": \"contourcarpet\"}], \"heatmap\": [{\"colorbar\": {\"outlinewidth\": 0, \"ticks\": \"\"}, \"colorscale\": [[0.0, \"#0d0887\"], [0.1111111111111111, \"#46039f\"], [0.2222222222222222, \"#7201a8\"], [0.3333333333333333, \"#9c179e\"], [0.4444444444444444, \"#bd3786\"], [0.5555555555555556, \"#d8576b\"], [0.6666666666666666, \"#ed7953\"], [0.7777777777777778, \"#fb9f3a\"], [0.8888888888888888, \"#fdca26\"], [1.0, \"#f0f921\"]], \"type\": \"heatmap\"}], \"heatmapgl\": [{\"colorbar\": {\"outlinewidth\": 0, \"ticks\": \"\"}, \"colorscale\": [[0.0, \"#0d0887\"], [0.1111111111111111, \"#46039f\"], [0.2222222222222222, \"#7201a8\"], [0.3333333333333333, \"#9c179e\"], [0.4444444444444444, \"#bd3786\"], [0.5555555555555556, \"#d8576b\"], [0.6666666666666666, \"#ed7953\"], [0.7777777777777778, \"#fb9f3a\"], [0.8888888888888888, \"#fdca26\"], [1.0, \"#f0f921\"]], \"type\": \"heatmapgl\"}], \"histogram\": [{\"marker\": {\"colorbar\": {\"outlinewidth\": 0, \"ticks\": \"\"}}, \"type\": \"histogram\"}], \"histogram2d\": [{\"colorbar\": {\"outlinewidth\": 0, \"ticks\": \"\"}, \"colorscale\": [[0.0, \"#0d0887\"], [0.1111111111111111, \"#46039f\"], [0.2222222222222222, \"#7201a8\"], [0.3333333333333333, \"#9c179e\"], [0.4444444444444444, \"#bd3786\"], [0.5555555555555556, \"#d8576b\"], [0.6666666666666666, \"#ed7953\"], [0.7777777777777778, \"#fb9f3a\"], [0.8888888888888888, \"#fdca26\"], [1.0, \"#f0f921\"]], \"type\": \"histogram2d\"}], \"histogram2dcontour\": [{\"colorbar\": {\"outlinewidth\": 0, \"ticks\": \"\"}, \"colorscale\": [[0.0, \"#0d0887\"], [0.1111111111111111, \"#46039f\"], [0.2222222222222222, \"#7201a8\"], [0.3333333333333333, \"#9c179e\"], [0.4444444444444444, \"#bd3786\"], [0.5555555555555556, \"#d8576b\"], [0.6666666666666666, \"#ed7953\"], [0.7777777777777778, \"#fb9f3a\"], [0.8888888888888888, \"#fdca26\"], [1.0, \"#f0f921\"]], \"type\": \"histogram2dcontour\"}], \"mesh3d\": [{\"colorbar\": {\"outlinewidth\": 0, \"ticks\": \"\"}, \"type\": \"mesh3d\"}], \"parcoords\": [{\"line\": {\"colorbar\": {\"outlinewidth\": 0, \"ticks\": \"\"}}, \"type\": \"parcoords\"}], \"pie\": [{\"automargin\": true, \"type\": \"pie\"}], \"scatter\": [{\"marker\": {\"colorbar\": {\"outlinewidth\": 0, \"ticks\": \"\"}}, \"type\": \"scatter\"}], \"scatter3d\": [{\"line\": {\"colorbar\": {\"outlinewidth\": 0, \"ticks\": \"\"}}, \"marker\": {\"colorbar\": {\"outlinewidth\": 0, \"ticks\": \"\"}}, \"type\": \"scatter3d\"}], \"scattercarpet\": [{\"marker\": {\"colorbar\": {\"outlinewidth\": 0, \"ticks\": \"\"}}, \"type\": \"scattercarpet\"}], \"scattergeo\": [{\"marker\": {\"colorbar\": {\"outlinewidth\": 0, \"ticks\": \"\"}}, \"type\": \"scattergeo\"}], \"scattergl\": [{\"marker\": {\"colorbar\": {\"outlinewidth\": 0, \"ticks\": \"\"}}, \"type\": \"scattergl\"}], \"scattermapbox\": [{\"marker\": {\"colorbar\": {\"outlinewidth\": 0, \"ticks\": \"\"}}, \"type\": \"scattermapbox\"}], \"scatterpolar\": [{\"marker\": {\"colorbar\": {\"outlinewidth\": 0, \"ticks\": \"\"}}, \"type\": \"scatterpolar\"}], \"scatterpolargl\": [{\"marker\": {\"colorbar\": {\"outlinewidth\": 0, \"ticks\": \"\"}}, \"type\": \"scatterpolargl\"}], \"scatterternary\": [{\"marker\": {\"colorbar\": {\"outlinewidth\": 0, \"ticks\": \"\"}}, \"type\": \"scatterternary\"}], \"surface\": [{\"colorbar\": {\"outlinewidth\": 0, \"ticks\": \"\"}, \"colorscale\": [[0.0, \"#0d0887\"], [0.1111111111111111, \"#46039f\"], [0.2222222222222222, \"#7201a8\"], [0.3333333333333333, \"#9c179e\"], [0.4444444444444444, \"#bd3786\"], [0.5555555555555556, \"#d8576b\"], [0.6666666666666666, \"#ed7953\"], [0.7777777777777778, \"#fb9f3a\"], [0.8888888888888888, \"#fdca26\"], [1.0, \"#f0f921\"]], \"type\": \"surface\"}], \"table\": [{\"cells\": {\"fill\": {\"color\": \"#EBF0F8\"}, \"line\": {\"color\": \"white\"}}, \"header\": {\"fill\": {\"color\": \"#C8D4E3\"}, \"line\": {\"color\": \"white\"}}, \"type\": \"table\"}]}, \"layout\": {\"annotationdefaults\": {\"arrowcolor\": \"#2a3f5f\", \"arrowhead\": 0, \"arrowwidth\": 1}, \"coloraxis\": {\"colorbar\": {\"outlinewidth\": 0, \"ticks\": \"\"}}, \"colorscale\": {\"diverging\": [[0, \"#8e0152\"], [0.1, \"#c51b7d\"], [0.2, \"#de77ae\"], [0.3, \"#f1b6da\"], [0.4, \"#fde0ef\"], [0.5, \"#f7f7f7\"], [0.6, \"#e6f5d0\"], [0.7, \"#b8e186\"], [0.8, \"#7fbc41\"], [0.9, \"#4d9221\"], [1, \"#276419\"]], \"sequential\": [[0.0, \"#0d0887\"], [0.1111111111111111, \"#46039f\"], [0.2222222222222222, \"#7201a8\"], [0.3333333333333333, \"#9c179e\"], [0.4444444444444444, \"#bd3786\"], [0.5555555555555556, \"#d8576b\"], [0.6666666666666666, \"#ed7953\"], [0.7777777777777778, \"#fb9f3a\"], [0.8888888888888888, \"#fdca26\"], [1.0, \"#f0f921\"]], \"sequentialminus\": [[0.0, \"#0d0887\"], [0.1111111111111111, \"#46039f\"], [0.2222222222222222, \"#7201a8\"], [0.3333333333333333, \"#9c179e\"], [0.4444444444444444, \"#bd3786\"], [0.5555555555555556, \"#d8576b\"], [0.6666666666666666, \"#ed7953\"], [0.7777777777777778, \"#fb9f3a\"], [0.8888888888888888, \"#fdca26\"], [1.0, \"#f0f921\"]]}, \"colorway\": [\"#636efa\", \"#EF553B\", \"#00cc96\", \"#ab63fa\", \"#FFA15A\", \"#19d3f3\", \"#FF6692\", \"#B6E880\", \"#FF97FF\", \"#FECB52\"], \"font\": {\"color\": \"#2a3f5f\"}, \"geo\": {\"bgcolor\": \"white\", \"lakecolor\": \"white\", \"landcolor\": \"#E5ECF6\", \"showlakes\": true, \"showland\": true, \"subunitcolor\": \"white\"}, \"hoverlabel\": {\"align\": \"left\"}, \"hovermode\": \"closest\", \"mapbox\": {\"style\": \"light\"}, \"paper_bgcolor\": \"white\", \"plot_bgcolor\": \"#E5ECF6\", \"polar\": {\"angularaxis\": {\"gridcolor\": \"white\", \"linecolor\": \"white\", \"ticks\": \"\"}, \"bgcolor\": \"#E5ECF6\", \"radialaxis\": {\"gridcolor\": \"white\", \"linecolor\": \"white\", \"ticks\": \"\"}}, \"scene\": {\"xaxis\": {\"backgroundcolor\": \"#E5ECF6\", \"gridcolor\": \"white\", \"gridwidth\": 2, \"linecolor\": \"white\", \"showbackground\": true, \"ticks\": \"\", \"zerolinecolor\": \"white\"}, \"yaxis\": {\"backgroundcolor\": \"#E5ECF6\", \"gridcolor\": \"white\", \"gridwidth\": 2, \"linecolor\": \"white\", \"showbackground\": true, \"ticks\": \"\", \"zerolinecolor\": \"white\"}, \"zaxis\": {\"backgroundcolor\": \"#E5ECF6\", \"gridcolor\": \"white\", \"gridwidth\": 2, \"linecolor\": \"white\", \"showbackground\": true, \"ticks\": \"\", \"zerolinecolor\": \"white\"}}, \"shapedefaults\": {\"line\": {\"color\": \"#2a3f5f\"}}, \"ternary\": {\"aaxis\": {\"gridcolor\": \"white\", \"linecolor\": \"white\", \"ticks\": \"\"}, \"baxis\": {\"gridcolor\": \"white\", \"linecolor\": \"white\", \"ticks\": \"\"}, \"bgcolor\": \"#E5ECF6\", \"caxis\": {\"gridcolor\": \"white\", \"linecolor\": \"white\", \"ticks\": \"\"}}, \"title\": {\"x\": 0.05}, \"xaxis\": {\"automargin\": true, \"gridcolor\": \"white\", \"linecolor\": \"white\", \"ticks\": \"\", \"title\": {\"standoff\": 15}, \"zerolinecolor\": \"white\", \"zerolinewidth\": 2}, \"yaxis\": {\"automargin\": true, \"gridcolor\": \"white\", \"linecolor\": \"white\", \"ticks\": \"\", \"title\": {\"standoff\": 15}, \"zerolinecolor\": \"white\", \"zerolinewidth\": 2}}}, \"xaxis\": {\"anchor\": \"y\", \"domain\": [0.0, 1.0], \"range\": [100, 0], \"title\": {\"text\": \"token_A\"}}, \"yaxis\": {\"anchor\": \"x\", \"domain\": [0.0, 1.0], \"title\": {\"text\": \"token_B\"}}},                        {\"responsive\": true}                    ).then(function(){\n",
       "                            \n",
       "var gd = document.getElementById('13f17b52-3ccc-40c1-8c00-09ed4b209129');\n",
       "var x = new MutationObserver(function (mutations, observer) {{\n",
       "        var display = window.getComputedStyle(gd).display;\n",
       "        if (!display || display === 'none') {{\n",
       "            console.log([gd, 'removed!']);\n",
       "            Plotly.purge(gd);\n",
       "            observer.disconnect();\n",
       "        }}\n",
       "}});\n",
       "\n",
       "// Listen for the removal of the full notebook cells\n",
       "var notebookContainer = gd.closest('#notebook-container');\n",
       "if (notebookContainer) {{\n",
       "    x.observe(notebookContainer, {childList: true});\n",
       "}}\n",
       "\n",
       "// Listen for the clearing of the current output cell\n",
       "var outputEl = gd.closest('.output');\n",
       "if (outputEl) {{\n",
       "    x.observe(outputEl, {childList: true});\n",
       "}}\n",
       "\n",
       "                        })                };                });            </script>        </div>"
      ]
     },
     "metadata": {},
     "output_type": "display_data"
    }
   ],
   "source": [
    "fig = px.line(x=buy_A[\"token_A\"], y=buy_A[\"token_B\"])\n",
    "\n",
    "fig.update_xaxes(range = [100,0],\n",
    "                 title_text='token_A')\n",
    "fig.update_yaxes(\n",
    "                 title_text='token_B')\n",
    "\n",
    "\n",
    "fig.add_shape(type='line',\n",
    "              x0=20, y0=0,\n",
    "              x1=20, y1=buy_A['token_B'].loc[buy_A['token_A']==20].values[0],\n",
    "              line=dict(color='Green',),\n",
    "              xref='x', yref='y', line_dash=\"dot\"\n",
    "             )\n",
    "\n",
    "fig.add_shape(type='line',\n",
    "              x0=20,    y0=buy_A['token_B'].loc[buy_A['token_A']==20].values[0],\n",
    "              x1 = 100, y1 = buy_A['token_B'].loc[buy_A['token_A']==20].values[0],\n",
    "              line=dict(color='Green',),\n",
    "              xref='x',yref='y',line_dash=\"dot\"\n",
    "             )\n",
    "\n",
    "fig.add_shape(type='line',\n",
    "              x0=5, y0=0,\n",
    "              x1=5, y1=buy_A['token_B'].loc[buy_A['token_A']==5].values[0],\n",
    "              line=dict(color='Orange',),\n",
    "              xref='x', yref='y', line_dash=\"dot\"\n",
    "             )\n",
    "\n",
    "fig.add_shape(type='line',\n",
    "              x0=5,    y0=buy_A['token_B'].loc[buy_A['token_A']==5].values[0],\n",
    "              x1 = 100, y1 = buy_A['token_B'].loc[buy_A['token_A']==5].values[0],\n",
    "              line=dict(color='Orange',),\n",
    "              xref='x',yref='y',line_dash=\"dot\"\n",
    "             )\n",
    "\n",
    "fig.add_trace(go.Scatter(x=[20,5,5,20], y=[500,2000,500,500], fill=\"toself\"))\n",
    "fig.add_annotation(x=3.5, y=1300,\n",
    "            text=\"delta_B\",\n",
    "            showarrow=False,)\n",
    "fig.add_annotation(x=13, y=50,\n",
    "            text=\"delta_A\",\n",
    "            showarrow=False,)\n",
    "\n",
    "fig.update_layout(showlegend=False)\n",
    "fig.show()"
   ]
  },
  {
   "cell_type": "markdown",
   "id": "1f5f3113",
   "metadata": {},
   "source": [
    "## Spot price\n",
    "\n",
    "\n",
    " <div align=\"center\">\n",
    "    $\n",
    "SP = \\lim_{\\Delta A,\\Delta B \\to 0} EP\n",
    "    $\n",
    "</div>\n",
    "\n",
    "Looking at the curve, Spot price would be represented by a tangent line at that spot *which I find it's hard to imagine and viz*\n"
   ]
  },
  {
   "cell_type": "code",
   "execution_count": 6,
   "id": "0f7588f8",
   "metadata": {
    "scrolled": false
   },
   "outputs": [
    {
     "data": {
      "application/vnd.plotly.v1+json": {
       "config": {
        "plotlyServerURL": "https://plot.ly"
       },
       "data": [
        {
         "hovertemplate": "x=%{x}<br>y=%{y}<extra></extra>",
         "legendgroup": "",
         "line": {
          "color": "#636efa",
          "dash": "solid"
         },
         "mode": "lines",
         "name": "",
         "orientation": "v",
         "showlegend": false,
         "type": "scatter",
         "x": [
          100,
          99,
          98,
          97,
          96,
          95,
          94,
          93,
          92,
          91,
          90,
          89,
          88,
          87,
          86,
          85,
          84,
          83,
          82,
          81,
          80,
          79,
          78,
          77,
          76,
          75,
          74,
          73,
          72,
          71,
          70,
          69,
          68,
          67,
          66,
          65,
          64,
          63,
          62,
          61,
          60,
          59,
          58,
          57,
          56,
          55,
          54,
          53,
          52,
          51,
          50,
          49,
          48,
          47,
          46,
          45,
          44,
          43,
          42,
          41,
          40,
          39,
          38,
          37,
          36,
          35,
          34,
          33,
          32,
          31,
          30,
          29,
          28,
          27,
          26,
          25,
          24,
          23,
          22,
          21,
          20,
          19,
          18,
          17,
          16,
          15,
          14,
          13,
          12,
          11,
          10,
          9,
          8,
          7,
          6,
          5,
          4,
          3,
          2,
          1
         ],
         "xaxis": "x",
         "y": [
          100,
          101.01010101010101,
          102.0408163265306,
          103.09278350515464,
          104.16666666666669,
          105.26315789473686,
          106.38297872340425,
          107.5268817204301,
          108.69565217391307,
          109.89010989010991,
          111.1111111111111,
          112.35955056179779,
          113.63636363636363,
          114.94252873563217,
          116.27906976744187,
          117.6470588235294,
          119.04761904761908,
          120.48192771084337,
          121.95121951219511,
          123.45679012345678,
          124.99999999999997,
          126.58227848101268,
          128.20512820512818,
          129.87012987012983,
          131.578947368421,
          133.33333333333331,
          135.13513513513513,
          136.98630136986304,
          138.88888888888889,
          140.8450704225352,
          142.85714285714286,
          144.92753623188406,
          147.05882352941177,
          149.25373134328356,
          151.51515151515147,
          153.84615384615387,
          156.25,
          158.73015873015873,
          161.29032258064515,
          163.9344262295082,
          166.66666666666666,
          169.4915254237288,
          172.41379310344826,
          175.43859649122805,
          178.57142857142856,
          181.81818181818184,
          185.18518518518516,
          188.6792452830189,
          192.30769230769232,
          196.07843137254898,
          199.99999999999997,
          204.08163265306123,
          208.33333333333337,
          212.7659574468085,
          217.3913043478261,
          222.2222222222222,
          227.27272727272725,
          232.55813953488374,
          238.09523809523807,
          243.90243902439028,
          250,
          256.41025641025635,
          263.1578947368422,
          270.2702702702703,
          277.7777777777778,
          285.7142857142858,
          294.11764705882354,
          303.03030303030306,
          312.4999999999999,
          322.5806451612904,
          333.3333333333333,
          344.8275862068966,
          357.1428571428571,
          370.3703703703703,
          384.6153846153847,
          400,
          416.66666666666674,
          434.7826086956523,
          454.5454545454545,
          476.1904761904763,
          499.9999999999999,
          526.315789473684,
          555.5555555555555,
          588.2352941176471,
          625,
          666.6666666666666,
          714.2857142857142,
          769.2307692307693,
          833.3333333333335,
          909.090909090909,
          1000,
          1111.1111111111113,
          1249.9999999999995,
          1428.5714285714284,
          1666.666666666667,
          1999.9999999999995,
          2500,
          3333.333333333334,
          4999.999999999998,
          10000
         ],
         "yaxis": "y"
        },
        {
         "type": "scatter",
         "x": [
          10
         ],
         "y": [
          1000
         ]
        },
        {
         "marker": {
          "color": "Orange",
          "size": 5
         },
         "mode": "lines",
         "type": "scatter",
         "x": [
          0,
          5,
          10,
          20
         ],
         "y": [
          2000,
          1500,
          1000,
          0
         ]
        }
       ],
       "layout": {
        "legend": {
         "tracegroupgap": 0
        },
        "margin": {
         "t": 60
        },
        "showlegend": false,
        "template": {
         "data": {
          "bar": [
           {
            "error_x": {
             "color": "#2a3f5f"
            },
            "error_y": {
             "color": "#2a3f5f"
            },
            "marker": {
             "line": {
              "color": "#E5ECF6",
              "width": 0.5
             }
            },
            "type": "bar"
           }
          ],
          "barpolar": [
           {
            "marker": {
             "line": {
              "color": "#E5ECF6",
              "width": 0.5
             }
            },
            "type": "barpolar"
           }
          ],
          "carpet": [
           {
            "aaxis": {
             "endlinecolor": "#2a3f5f",
             "gridcolor": "white",
             "linecolor": "white",
             "minorgridcolor": "white",
             "startlinecolor": "#2a3f5f"
            },
            "baxis": {
             "endlinecolor": "#2a3f5f",
             "gridcolor": "white",
             "linecolor": "white",
             "minorgridcolor": "white",
             "startlinecolor": "#2a3f5f"
            },
            "type": "carpet"
           }
          ],
          "choropleth": [
           {
            "colorbar": {
             "outlinewidth": 0,
             "ticks": ""
            },
            "type": "choropleth"
           }
          ],
          "contour": [
           {
            "colorbar": {
             "outlinewidth": 0,
             "ticks": ""
            },
            "colorscale": [
             [
              0,
              "#0d0887"
             ],
             [
              0.1111111111111111,
              "#46039f"
             ],
             [
              0.2222222222222222,
              "#7201a8"
             ],
             [
              0.3333333333333333,
              "#9c179e"
             ],
             [
              0.4444444444444444,
              "#bd3786"
             ],
             [
              0.5555555555555556,
              "#d8576b"
             ],
             [
              0.6666666666666666,
              "#ed7953"
             ],
             [
              0.7777777777777778,
              "#fb9f3a"
             ],
             [
              0.8888888888888888,
              "#fdca26"
             ],
             [
              1,
              "#f0f921"
             ]
            ],
            "type": "contour"
           }
          ],
          "contourcarpet": [
           {
            "colorbar": {
             "outlinewidth": 0,
             "ticks": ""
            },
            "type": "contourcarpet"
           }
          ],
          "heatmap": [
           {
            "colorbar": {
             "outlinewidth": 0,
             "ticks": ""
            },
            "colorscale": [
             [
              0,
              "#0d0887"
             ],
             [
              0.1111111111111111,
              "#46039f"
             ],
             [
              0.2222222222222222,
              "#7201a8"
             ],
             [
              0.3333333333333333,
              "#9c179e"
             ],
             [
              0.4444444444444444,
              "#bd3786"
             ],
             [
              0.5555555555555556,
              "#d8576b"
             ],
             [
              0.6666666666666666,
              "#ed7953"
             ],
             [
              0.7777777777777778,
              "#fb9f3a"
             ],
             [
              0.8888888888888888,
              "#fdca26"
             ],
             [
              1,
              "#f0f921"
             ]
            ],
            "type": "heatmap"
           }
          ],
          "heatmapgl": [
           {
            "colorbar": {
             "outlinewidth": 0,
             "ticks": ""
            },
            "colorscale": [
             [
              0,
              "#0d0887"
             ],
             [
              0.1111111111111111,
              "#46039f"
             ],
             [
              0.2222222222222222,
              "#7201a8"
             ],
             [
              0.3333333333333333,
              "#9c179e"
             ],
             [
              0.4444444444444444,
              "#bd3786"
             ],
             [
              0.5555555555555556,
              "#d8576b"
             ],
             [
              0.6666666666666666,
              "#ed7953"
             ],
             [
              0.7777777777777778,
              "#fb9f3a"
             ],
             [
              0.8888888888888888,
              "#fdca26"
             ],
             [
              1,
              "#f0f921"
             ]
            ],
            "type": "heatmapgl"
           }
          ],
          "histogram": [
           {
            "marker": {
             "colorbar": {
              "outlinewidth": 0,
              "ticks": ""
             }
            },
            "type": "histogram"
           }
          ],
          "histogram2d": [
           {
            "colorbar": {
             "outlinewidth": 0,
             "ticks": ""
            },
            "colorscale": [
             [
              0,
              "#0d0887"
             ],
             [
              0.1111111111111111,
              "#46039f"
             ],
             [
              0.2222222222222222,
              "#7201a8"
             ],
             [
              0.3333333333333333,
              "#9c179e"
             ],
             [
              0.4444444444444444,
              "#bd3786"
             ],
             [
              0.5555555555555556,
              "#d8576b"
             ],
             [
              0.6666666666666666,
              "#ed7953"
             ],
             [
              0.7777777777777778,
              "#fb9f3a"
             ],
             [
              0.8888888888888888,
              "#fdca26"
             ],
             [
              1,
              "#f0f921"
             ]
            ],
            "type": "histogram2d"
           }
          ],
          "histogram2dcontour": [
           {
            "colorbar": {
             "outlinewidth": 0,
             "ticks": ""
            },
            "colorscale": [
             [
              0,
              "#0d0887"
             ],
             [
              0.1111111111111111,
              "#46039f"
             ],
             [
              0.2222222222222222,
              "#7201a8"
             ],
             [
              0.3333333333333333,
              "#9c179e"
             ],
             [
              0.4444444444444444,
              "#bd3786"
             ],
             [
              0.5555555555555556,
              "#d8576b"
             ],
             [
              0.6666666666666666,
              "#ed7953"
             ],
             [
              0.7777777777777778,
              "#fb9f3a"
             ],
             [
              0.8888888888888888,
              "#fdca26"
             ],
             [
              1,
              "#f0f921"
             ]
            ],
            "type": "histogram2dcontour"
           }
          ],
          "mesh3d": [
           {
            "colorbar": {
             "outlinewidth": 0,
             "ticks": ""
            },
            "type": "mesh3d"
           }
          ],
          "parcoords": [
           {
            "line": {
             "colorbar": {
              "outlinewidth": 0,
              "ticks": ""
             }
            },
            "type": "parcoords"
           }
          ],
          "pie": [
           {
            "automargin": true,
            "type": "pie"
           }
          ],
          "scatter": [
           {
            "marker": {
             "colorbar": {
              "outlinewidth": 0,
              "ticks": ""
             }
            },
            "type": "scatter"
           }
          ],
          "scatter3d": [
           {
            "line": {
             "colorbar": {
              "outlinewidth": 0,
              "ticks": ""
             }
            },
            "marker": {
             "colorbar": {
              "outlinewidth": 0,
              "ticks": ""
             }
            },
            "type": "scatter3d"
           }
          ],
          "scattercarpet": [
           {
            "marker": {
             "colorbar": {
              "outlinewidth": 0,
              "ticks": ""
             }
            },
            "type": "scattercarpet"
           }
          ],
          "scattergeo": [
           {
            "marker": {
             "colorbar": {
              "outlinewidth": 0,
              "ticks": ""
             }
            },
            "type": "scattergeo"
           }
          ],
          "scattergl": [
           {
            "marker": {
             "colorbar": {
              "outlinewidth": 0,
              "ticks": ""
             }
            },
            "type": "scattergl"
           }
          ],
          "scattermapbox": [
           {
            "marker": {
             "colorbar": {
              "outlinewidth": 0,
              "ticks": ""
             }
            },
            "type": "scattermapbox"
           }
          ],
          "scatterpolar": [
           {
            "marker": {
             "colorbar": {
              "outlinewidth": 0,
              "ticks": ""
             }
            },
            "type": "scatterpolar"
           }
          ],
          "scatterpolargl": [
           {
            "marker": {
             "colorbar": {
              "outlinewidth": 0,
              "ticks": ""
             }
            },
            "type": "scatterpolargl"
           }
          ],
          "scatterternary": [
           {
            "marker": {
             "colorbar": {
              "outlinewidth": 0,
              "ticks": ""
             }
            },
            "type": "scatterternary"
           }
          ],
          "surface": [
           {
            "colorbar": {
             "outlinewidth": 0,
             "ticks": ""
            },
            "colorscale": [
             [
              0,
              "#0d0887"
             ],
             [
              0.1111111111111111,
              "#46039f"
             ],
             [
              0.2222222222222222,
              "#7201a8"
             ],
             [
              0.3333333333333333,
              "#9c179e"
             ],
             [
              0.4444444444444444,
              "#bd3786"
             ],
             [
              0.5555555555555556,
              "#d8576b"
             ],
             [
              0.6666666666666666,
              "#ed7953"
             ],
             [
              0.7777777777777778,
              "#fb9f3a"
             ],
             [
              0.8888888888888888,
              "#fdca26"
             ],
             [
              1,
              "#f0f921"
             ]
            ],
            "type": "surface"
           }
          ],
          "table": [
           {
            "cells": {
             "fill": {
              "color": "#EBF0F8"
             },
             "line": {
              "color": "white"
             }
            },
            "header": {
             "fill": {
              "color": "#C8D4E3"
             },
             "line": {
              "color": "white"
             }
            },
            "type": "table"
           }
          ]
         },
         "layout": {
          "annotationdefaults": {
           "arrowcolor": "#2a3f5f",
           "arrowhead": 0,
           "arrowwidth": 1
          },
          "coloraxis": {
           "colorbar": {
            "outlinewidth": 0,
            "ticks": ""
           }
          },
          "colorscale": {
           "diverging": [
            [
             0,
             "#8e0152"
            ],
            [
             0.1,
             "#c51b7d"
            ],
            [
             0.2,
             "#de77ae"
            ],
            [
             0.3,
             "#f1b6da"
            ],
            [
             0.4,
             "#fde0ef"
            ],
            [
             0.5,
             "#f7f7f7"
            ],
            [
             0.6,
             "#e6f5d0"
            ],
            [
             0.7,
             "#b8e186"
            ],
            [
             0.8,
             "#7fbc41"
            ],
            [
             0.9,
             "#4d9221"
            ],
            [
             1,
             "#276419"
            ]
           ],
           "sequential": [
            [
             0,
             "#0d0887"
            ],
            [
             0.1111111111111111,
             "#46039f"
            ],
            [
             0.2222222222222222,
             "#7201a8"
            ],
            [
             0.3333333333333333,
             "#9c179e"
            ],
            [
             0.4444444444444444,
             "#bd3786"
            ],
            [
             0.5555555555555556,
             "#d8576b"
            ],
            [
             0.6666666666666666,
             "#ed7953"
            ],
            [
             0.7777777777777778,
             "#fb9f3a"
            ],
            [
             0.8888888888888888,
             "#fdca26"
            ],
            [
             1,
             "#f0f921"
            ]
           ],
           "sequentialminus": [
            [
             0,
             "#0d0887"
            ],
            [
             0.1111111111111111,
             "#46039f"
            ],
            [
             0.2222222222222222,
             "#7201a8"
            ],
            [
             0.3333333333333333,
             "#9c179e"
            ],
            [
             0.4444444444444444,
             "#bd3786"
            ],
            [
             0.5555555555555556,
             "#d8576b"
            ],
            [
             0.6666666666666666,
             "#ed7953"
            ],
            [
             0.7777777777777778,
             "#fb9f3a"
            ],
            [
             0.8888888888888888,
             "#fdca26"
            ],
            [
             1,
             "#f0f921"
            ]
           ]
          },
          "colorway": [
           "#636efa",
           "#EF553B",
           "#00cc96",
           "#ab63fa",
           "#FFA15A",
           "#19d3f3",
           "#FF6692",
           "#B6E880",
           "#FF97FF",
           "#FECB52"
          ],
          "font": {
           "color": "#2a3f5f"
          },
          "geo": {
           "bgcolor": "white",
           "lakecolor": "white",
           "landcolor": "#E5ECF6",
           "showlakes": true,
           "showland": true,
           "subunitcolor": "white"
          },
          "hoverlabel": {
           "align": "left"
          },
          "hovermode": "closest",
          "mapbox": {
           "style": "light"
          },
          "paper_bgcolor": "white",
          "plot_bgcolor": "#E5ECF6",
          "polar": {
           "angularaxis": {
            "gridcolor": "white",
            "linecolor": "white",
            "ticks": ""
           },
           "bgcolor": "#E5ECF6",
           "radialaxis": {
            "gridcolor": "white",
            "linecolor": "white",
            "ticks": ""
           }
          },
          "scene": {
           "xaxis": {
            "backgroundcolor": "#E5ECF6",
            "gridcolor": "white",
            "gridwidth": 2,
            "linecolor": "white",
            "showbackground": true,
            "ticks": "",
            "zerolinecolor": "white"
           },
           "yaxis": {
            "backgroundcolor": "#E5ECF6",
            "gridcolor": "white",
            "gridwidth": 2,
            "linecolor": "white",
            "showbackground": true,
            "ticks": "",
            "zerolinecolor": "white"
           },
           "zaxis": {
            "backgroundcolor": "#E5ECF6",
            "gridcolor": "white",
            "gridwidth": 2,
            "linecolor": "white",
            "showbackground": true,
            "ticks": "",
            "zerolinecolor": "white"
           }
          },
          "shapedefaults": {
           "line": {
            "color": "#2a3f5f"
           }
          },
          "ternary": {
           "aaxis": {
            "gridcolor": "white",
            "linecolor": "white",
            "ticks": ""
           },
           "baxis": {
            "gridcolor": "white",
            "linecolor": "white",
            "ticks": ""
           },
           "bgcolor": "#E5ECF6",
           "caxis": {
            "gridcolor": "white",
            "linecolor": "white",
            "ticks": ""
           }
          },
          "title": {
           "x": 0.05
          },
          "xaxis": {
           "automargin": true,
           "gridcolor": "white",
           "linecolor": "white",
           "ticks": "",
           "title": {
            "standoff": 15
           },
           "zerolinecolor": "white",
           "zerolinewidth": 2
          },
          "yaxis": {
           "automargin": true,
           "gridcolor": "white",
           "linecolor": "white",
           "ticks": "",
           "title": {
            "standoff": 15
           },
           "zerolinecolor": "white",
           "zerolinewidth": 2
          }
         }
        },
        "xaxis": {
         "anchor": "y",
         "domain": [
          0,
          1
         ],
         "range": [
          100,
          0
         ],
         "title": {
          "text": "token_A"
         }
        },
        "yaxis": {
         "anchor": "x",
         "domain": [
          0,
          1
         ],
         "title": {
          "text": "token_B"
         }
        }
       }
      },
      "text/html": [
       "<div>                            <div id=\"7fe26a31-6289-4514-8cd5-8ba20e9aa81e\" class=\"plotly-graph-div\" style=\"height:525px; width:100%;\"></div>            <script type=\"text/javascript\">                require([\"plotly\"], function(Plotly) {                    window.PLOTLYENV=window.PLOTLYENV || {};                                    if (document.getElementById(\"7fe26a31-6289-4514-8cd5-8ba20e9aa81e\")) {                    Plotly.newPlot(                        \"7fe26a31-6289-4514-8cd5-8ba20e9aa81e\",                        [{\"hovertemplate\": \"x=%{x}<br>y=%{y}<extra></extra>\", \"legendgroup\": \"\", \"line\": {\"color\": \"#636efa\", \"dash\": \"solid\"}, \"mode\": \"lines\", \"name\": \"\", \"orientation\": \"v\", \"showlegend\": false, \"type\": \"scatter\", \"x\": [100, 99, 98, 97, 96, 95, 94, 93, 92, 91, 90, 89, 88, 87, 86, 85, 84, 83, 82, 81, 80, 79, 78, 77, 76, 75, 74, 73, 72, 71, 70, 69, 68, 67, 66, 65, 64, 63, 62, 61, 60, 59, 58, 57, 56, 55, 54, 53, 52, 51, 50, 49, 48, 47, 46, 45, 44, 43, 42, 41, 40, 39, 38, 37, 36, 35, 34, 33, 32, 31, 30, 29, 28, 27, 26, 25, 24, 23, 22, 21, 20, 19, 18, 17, 16, 15, 14, 13, 12, 11, 10, 9, 8, 7, 6, 5, 4, 3, 2, 1], \"xaxis\": \"x\", \"y\": [100.0, 101.01010101010101, 102.0408163265306, 103.09278350515464, 104.16666666666669, 105.26315789473686, 106.38297872340425, 107.5268817204301, 108.69565217391307, 109.89010989010991, 111.1111111111111, 112.35955056179779, 113.63636363636363, 114.94252873563217, 116.27906976744187, 117.6470588235294, 119.04761904761908, 120.48192771084337, 121.95121951219511, 123.45679012345678, 124.99999999999997, 126.58227848101268, 128.20512820512818, 129.87012987012983, 131.578947368421, 133.33333333333331, 135.13513513513513, 136.98630136986304, 138.88888888888889, 140.8450704225352, 142.85714285714286, 144.92753623188406, 147.05882352941177, 149.25373134328356, 151.51515151515147, 153.84615384615387, 156.25, 158.73015873015873, 161.29032258064515, 163.9344262295082, 166.66666666666666, 169.4915254237288, 172.41379310344826, 175.43859649122805, 178.57142857142856, 181.81818181818184, 185.18518518518516, 188.6792452830189, 192.30769230769232, 196.07843137254898, 199.99999999999997, 204.08163265306123, 208.33333333333337, 212.7659574468085, 217.3913043478261, 222.2222222222222, 227.27272727272725, 232.55813953488374, 238.09523809523807, 243.90243902439028, 250.0, 256.41025641025635, 263.1578947368422, 270.2702702702703, 277.7777777777778, 285.7142857142858, 294.11764705882354, 303.03030303030306, 312.4999999999999, 322.5806451612904, 333.3333333333333, 344.8275862068966, 357.1428571428571, 370.3703703703703, 384.6153846153847, 400.0, 416.66666666666674, 434.7826086956523, 454.5454545454545, 476.1904761904763, 499.9999999999999, 526.315789473684, 555.5555555555555, 588.2352941176471, 625.0, 666.6666666666666, 714.2857142857142, 769.2307692307693, 833.3333333333335, 909.090909090909, 1000.0, 1111.1111111111113, 1249.9999999999995, 1428.5714285714284, 1666.666666666667, 1999.9999999999995, 2500.0, 3333.333333333334, 4999.999999999998, 10000.0], \"yaxis\": \"y\"}, {\"type\": \"scatter\", \"x\": [10], \"y\": [1000]}, {\"marker\": {\"color\": \"Orange\", \"size\": 5}, \"mode\": \"lines\", \"type\": \"scatter\", \"x\": [0, 5, 10, 20], \"y\": [2000, 1500, 1000, 0]}],                        {\"legend\": {\"tracegroupgap\": 0}, \"margin\": {\"t\": 60}, \"showlegend\": false, \"template\": {\"data\": {\"bar\": [{\"error_x\": {\"color\": \"#2a3f5f\"}, \"error_y\": {\"color\": \"#2a3f5f\"}, \"marker\": {\"line\": {\"color\": \"#E5ECF6\", \"width\": 0.5}}, \"type\": \"bar\"}], \"barpolar\": [{\"marker\": {\"line\": {\"color\": \"#E5ECF6\", \"width\": 0.5}}, \"type\": \"barpolar\"}], \"carpet\": [{\"aaxis\": {\"endlinecolor\": \"#2a3f5f\", \"gridcolor\": \"white\", \"linecolor\": \"white\", \"minorgridcolor\": \"white\", \"startlinecolor\": \"#2a3f5f\"}, \"baxis\": {\"endlinecolor\": \"#2a3f5f\", \"gridcolor\": \"white\", \"linecolor\": \"white\", \"minorgridcolor\": \"white\", \"startlinecolor\": \"#2a3f5f\"}, \"type\": \"carpet\"}], \"choropleth\": [{\"colorbar\": {\"outlinewidth\": 0, \"ticks\": \"\"}, \"type\": \"choropleth\"}], \"contour\": [{\"colorbar\": {\"outlinewidth\": 0, \"ticks\": \"\"}, \"colorscale\": [[0.0, \"#0d0887\"], [0.1111111111111111, \"#46039f\"], [0.2222222222222222, \"#7201a8\"], [0.3333333333333333, \"#9c179e\"], [0.4444444444444444, \"#bd3786\"], [0.5555555555555556, \"#d8576b\"], [0.6666666666666666, \"#ed7953\"], [0.7777777777777778, \"#fb9f3a\"], [0.8888888888888888, \"#fdca26\"], [1.0, \"#f0f921\"]], \"type\": \"contour\"}], \"contourcarpet\": [{\"colorbar\": {\"outlinewidth\": 0, \"ticks\": \"\"}, \"type\": \"contourcarpet\"}], \"heatmap\": [{\"colorbar\": {\"outlinewidth\": 0, \"ticks\": \"\"}, \"colorscale\": [[0.0, \"#0d0887\"], [0.1111111111111111, \"#46039f\"], [0.2222222222222222, \"#7201a8\"], [0.3333333333333333, \"#9c179e\"], [0.4444444444444444, \"#bd3786\"], [0.5555555555555556, \"#d8576b\"], [0.6666666666666666, \"#ed7953\"], [0.7777777777777778, \"#fb9f3a\"], [0.8888888888888888, \"#fdca26\"], [1.0, \"#f0f921\"]], \"type\": \"heatmap\"}], \"heatmapgl\": [{\"colorbar\": {\"outlinewidth\": 0, \"ticks\": \"\"}, \"colorscale\": [[0.0, \"#0d0887\"], [0.1111111111111111, \"#46039f\"], [0.2222222222222222, \"#7201a8\"], [0.3333333333333333, \"#9c179e\"], [0.4444444444444444, \"#bd3786\"], [0.5555555555555556, \"#d8576b\"], [0.6666666666666666, \"#ed7953\"], [0.7777777777777778, \"#fb9f3a\"], [0.8888888888888888, \"#fdca26\"], [1.0, \"#f0f921\"]], \"type\": \"heatmapgl\"}], \"histogram\": [{\"marker\": {\"colorbar\": {\"outlinewidth\": 0, \"ticks\": \"\"}}, \"type\": \"histogram\"}], \"histogram2d\": [{\"colorbar\": {\"outlinewidth\": 0, \"ticks\": \"\"}, \"colorscale\": [[0.0, \"#0d0887\"], [0.1111111111111111, \"#46039f\"], [0.2222222222222222, \"#7201a8\"], [0.3333333333333333, \"#9c179e\"], [0.4444444444444444, \"#bd3786\"], [0.5555555555555556, \"#d8576b\"], [0.6666666666666666, \"#ed7953\"], [0.7777777777777778, \"#fb9f3a\"], [0.8888888888888888, \"#fdca26\"], [1.0, \"#f0f921\"]], \"type\": \"histogram2d\"}], \"histogram2dcontour\": [{\"colorbar\": {\"outlinewidth\": 0, \"ticks\": \"\"}, \"colorscale\": [[0.0, \"#0d0887\"], [0.1111111111111111, \"#46039f\"], [0.2222222222222222, \"#7201a8\"], [0.3333333333333333, \"#9c179e\"], [0.4444444444444444, \"#bd3786\"], [0.5555555555555556, \"#d8576b\"], [0.6666666666666666, \"#ed7953\"], [0.7777777777777778, \"#fb9f3a\"], [0.8888888888888888, \"#fdca26\"], [1.0, \"#f0f921\"]], \"type\": \"histogram2dcontour\"}], \"mesh3d\": [{\"colorbar\": {\"outlinewidth\": 0, \"ticks\": \"\"}, \"type\": \"mesh3d\"}], \"parcoords\": [{\"line\": {\"colorbar\": {\"outlinewidth\": 0, \"ticks\": \"\"}}, \"type\": \"parcoords\"}], \"pie\": [{\"automargin\": true, \"type\": \"pie\"}], \"scatter\": [{\"marker\": {\"colorbar\": {\"outlinewidth\": 0, \"ticks\": \"\"}}, \"type\": \"scatter\"}], \"scatter3d\": [{\"line\": {\"colorbar\": {\"outlinewidth\": 0, \"ticks\": \"\"}}, \"marker\": {\"colorbar\": {\"outlinewidth\": 0, \"ticks\": \"\"}}, \"type\": \"scatter3d\"}], \"scattercarpet\": [{\"marker\": {\"colorbar\": {\"outlinewidth\": 0, \"ticks\": \"\"}}, \"type\": \"scattercarpet\"}], \"scattergeo\": [{\"marker\": {\"colorbar\": {\"outlinewidth\": 0, \"ticks\": \"\"}}, \"type\": \"scattergeo\"}], \"scattergl\": [{\"marker\": {\"colorbar\": {\"outlinewidth\": 0, \"ticks\": \"\"}}, \"type\": \"scattergl\"}], \"scattermapbox\": [{\"marker\": {\"colorbar\": {\"outlinewidth\": 0, \"ticks\": \"\"}}, \"type\": \"scattermapbox\"}], \"scatterpolar\": [{\"marker\": {\"colorbar\": {\"outlinewidth\": 0, \"ticks\": \"\"}}, \"type\": \"scatterpolar\"}], \"scatterpolargl\": [{\"marker\": {\"colorbar\": {\"outlinewidth\": 0, \"ticks\": \"\"}}, \"type\": \"scatterpolargl\"}], \"scatterternary\": [{\"marker\": {\"colorbar\": {\"outlinewidth\": 0, \"ticks\": \"\"}}, \"type\": \"scatterternary\"}], \"surface\": [{\"colorbar\": {\"outlinewidth\": 0, \"ticks\": \"\"}, \"colorscale\": [[0.0, \"#0d0887\"], [0.1111111111111111, \"#46039f\"], [0.2222222222222222, \"#7201a8\"], [0.3333333333333333, \"#9c179e\"], [0.4444444444444444, \"#bd3786\"], [0.5555555555555556, \"#d8576b\"], [0.6666666666666666, \"#ed7953\"], [0.7777777777777778, \"#fb9f3a\"], [0.8888888888888888, \"#fdca26\"], [1.0, \"#f0f921\"]], \"type\": \"surface\"}], \"table\": [{\"cells\": {\"fill\": {\"color\": \"#EBF0F8\"}, \"line\": {\"color\": \"white\"}}, \"header\": {\"fill\": {\"color\": \"#C8D4E3\"}, \"line\": {\"color\": \"white\"}}, \"type\": \"table\"}]}, \"layout\": {\"annotationdefaults\": {\"arrowcolor\": \"#2a3f5f\", \"arrowhead\": 0, \"arrowwidth\": 1}, \"coloraxis\": {\"colorbar\": {\"outlinewidth\": 0, \"ticks\": \"\"}}, \"colorscale\": {\"diverging\": [[0, \"#8e0152\"], [0.1, \"#c51b7d\"], [0.2, \"#de77ae\"], [0.3, \"#f1b6da\"], [0.4, \"#fde0ef\"], [0.5, \"#f7f7f7\"], [0.6, \"#e6f5d0\"], [0.7, \"#b8e186\"], [0.8, \"#7fbc41\"], [0.9, \"#4d9221\"], [1, \"#276419\"]], \"sequential\": [[0.0, \"#0d0887\"], [0.1111111111111111, \"#46039f\"], [0.2222222222222222, \"#7201a8\"], [0.3333333333333333, \"#9c179e\"], [0.4444444444444444, \"#bd3786\"], [0.5555555555555556, \"#d8576b\"], [0.6666666666666666, \"#ed7953\"], [0.7777777777777778, \"#fb9f3a\"], [0.8888888888888888, \"#fdca26\"], [1.0, \"#f0f921\"]], \"sequentialminus\": [[0.0, \"#0d0887\"], [0.1111111111111111, \"#46039f\"], [0.2222222222222222, \"#7201a8\"], [0.3333333333333333, \"#9c179e\"], [0.4444444444444444, \"#bd3786\"], [0.5555555555555556, \"#d8576b\"], [0.6666666666666666, \"#ed7953\"], [0.7777777777777778, \"#fb9f3a\"], [0.8888888888888888, \"#fdca26\"], [1.0, \"#f0f921\"]]}, \"colorway\": [\"#636efa\", \"#EF553B\", \"#00cc96\", \"#ab63fa\", \"#FFA15A\", \"#19d3f3\", \"#FF6692\", \"#B6E880\", \"#FF97FF\", \"#FECB52\"], \"font\": {\"color\": \"#2a3f5f\"}, \"geo\": {\"bgcolor\": \"white\", \"lakecolor\": \"white\", \"landcolor\": \"#E5ECF6\", \"showlakes\": true, \"showland\": true, \"subunitcolor\": \"white\"}, \"hoverlabel\": {\"align\": \"left\"}, \"hovermode\": \"closest\", \"mapbox\": {\"style\": \"light\"}, \"paper_bgcolor\": \"white\", \"plot_bgcolor\": \"#E5ECF6\", \"polar\": {\"angularaxis\": {\"gridcolor\": \"white\", \"linecolor\": \"white\", \"ticks\": \"\"}, \"bgcolor\": \"#E5ECF6\", \"radialaxis\": {\"gridcolor\": \"white\", \"linecolor\": \"white\", \"ticks\": \"\"}}, \"scene\": {\"xaxis\": {\"backgroundcolor\": \"#E5ECF6\", \"gridcolor\": \"white\", \"gridwidth\": 2, \"linecolor\": \"white\", \"showbackground\": true, \"ticks\": \"\", \"zerolinecolor\": \"white\"}, \"yaxis\": {\"backgroundcolor\": \"#E5ECF6\", \"gridcolor\": \"white\", \"gridwidth\": 2, \"linecolor\": \"white\", \"showbackground\": true, \"ticks\": \"\", \"zerolinecolor\": \"white\"}, \"zaxis\": {\"backgroundcolor\": \"#E5ECF6\", \"gridcolor\": \"white\", \"gridwidth\": 2, \"linecolor\": \"white\", \"showbackground\": true, \"ticks\": \"\", \"zerolinecolor\": \"white\"}}, \"shapedefaults\": {\"line\": {\"color\": \"#2a3f5f\"}}, \"ternary\": {\"aaxis\": {\"gridcolor\": \"white\", \"linecolor\": \"white\", \"ticks\": \"\"}, \"baxis\": {\"gridcolor\": \"white\", \"linecolor\": \"white\", \"ticks\": \"\"}, \"bgcolor\": \"#E5ECF6\", \"caxis\": {\"gridcolor\": \"white\", \"linecolor\": \"white\", \"ticks\": \"\"}}, \"title\": {\"x\": 0.05}, \"xaxis\": {\"automargin\": true, \"gridcolor\": \"white\", \"linecolor\": \"white\", \"ticks\": \"\", \"title\": {\"standoff\": 15}, \"zerolinecolor\": \"white\", \"zerolinewidth\": 2}, \"yaxis\": {\"automargin\": true, \"gridcolor\": \"white\", \"linecolor\": \"white\", \"ticks\": \"\", \"title\": {\"standoff\": 15}, \"zerolinecolor\": \"white\", \"zerolinewidth\": 2}}}, \"xaxis\": {\"anchor\": \"y\", \"domain\": [0.0, 1.0], \"range\": [100, 0], \"title\": {\"text\": \"token_A\"}}, \"yaxis\": {\"anchor\": \"x\", \"domain\": [0.0, 1.0], \"title\": {\"text\": \"token_B\"}}},                        {\"responsive\": true}                    ).then(function(){\n",
       "                            \n",
       "var gd = document.getElementById('7fe26a31-6289-4514-8cd5-8ba20e9aa81e');\n",
       "var x = new MutationObserver(function (mutations, observer) {{\n",
       "        var display = window.getComputedStyle(gd).display;\n",
       "        if (!display || display === 'none') {{\n",
       "            console.log([gd, 'removed!']);\n",
       "            Plotly.purge(gd);\n",
       "            observer.disconnect();\n",
       "        }}\n",
       "}});\n",
       "\n",
       "// Listen for the removal of the full notebook cells\n",
       "var notebookContainer = gd.closest('#notebook-container');\n",
       "if (notebookContainer) {{\n",
       "    x.observe(notebookContainer, {childList: true});\n",
       "}}\n",
       "\n",
       "// Listen for the clearing of the current output cell\n",
       "var outputEl = gd.closest('.output');\n",
       "if (outputEl) {{\n",
       "    x.observe(outputEl, {childList: true});\n",
       "}}\n",
       "\n",
       "                        })                };                });            </script>        </div>"
      ]
     },
     "metadata": {},
     "output_type": "display_data"
    }
   ],
   "source": [
    "fig = px.line(x=buy_A[\"token_A\"], y=buy_A[\"token_B\"])\n",
    "\n",
    "fig.update_xaxes(range = [100,0],\n",
    "                 title_text='token_A')\n",
    "fig.update_yaxes(\n",
    "                 title_text='token_B')\n",
    "\n",
    "\n",
    "fig.add_trace(go.Scatter(x=[10], y=[1000], ))\n",
    "\n",
    "fig.add_trace(go.Scatter(mode='lines',\n",
    "    x=[0,5,10,20],\n",
    "    y=[2000,1500,1000,0],\n",
    "    marker=dict(color=\"Orange\", size=5),\n",
    "))\n",
    "\n",
    "fig.update_layout(showlegend=False)\n",
    "fig.show()"
   ]
  },
  {
   "cell_type": "markdown",
   "id": "5b067fc9",
   "metadata": {},
   "source": [
    "- I kind of cheat to draw a tangent line of the curve at (10,1000) with some self-defined points"
   ]
  },
  {
   "cell_type": "markdown",
   "id": "18da864e",
   "metadata": {},
   "source": [
    "## EP to SP animation"
   ]
  },
  {
   "cell_type": "code",
   "execution_count": 7,
   "id": "3a4eba9d",
   "metadata": {},
   "outputs": [
    {
     "data": {
      "text/plain": [
       "(2.0151515151515156, -15.15151515151473)"
      ]
     },
     "execution_count": 7,
     "metadata": {},
     "output_type": "execute_result"
    }
   ],
   "source": [
    "# Define the known points\n",
    "x = [10, 1000]\n",
    "y = [5,2000]\n",
    "\n",
    "# Calculate the coefficients. This line answers the initial question. \n",
    "coefficients = np.polyfit(x, y, 1)\n",
    "coefficients[0],coefficients[1]"
   ]
  },
  {
   "cell_type": "code",
   "execution_count": 8,
   "id": "3d1b15ea",
   "metadata": {},
   "outputs": [
    {
     "data": {
      "text/html": [
       "<div>\n",
       "<style scoped>\n",
       "    .dataframe tbody tr th:only-of-type {\n",
       "        vertical-align: middle;\n",
       "    }\n",
       "\n",
       "    .dataframe tbody tr th {\n",
       "        vertical-align: top;\n",
       "    }\n",
       "\n",
       "    .dataframe thead th {\n",
       "        text-align: right;\n",
       "    }\n",
       "</style>\n",
       "<table border=\"1\" class=\"dataframe\">\n",
       "  <thead>\n",
       "    <tr style=\"text-align: right;\">\n",
       "      <th></th>\n",
       "      <th>token_A</th>\n",
       "      <th>invariant</th>\n",
       "      <th>token_B</th>\n",
       "    </tr>\n",
       "  </thead>\n",
       "  <tbody>\n",
       "    <tr>\n",
       "      <th>0</th>\n",
       "      <td>15.000000</td>\n",
       "      <td>100.0</td>\n",
       "      <td>666.666667</td>\n",
       "    </tr>\n",
       "    <tr>\n",
       "      <th>1</th>\n",
       "      <td>14.473684</td>\n",
       "      <td>100.0</td>\n",
       "      <td>690.909091</td>\n",
       "    </tr>\n",
       "    <tr>\n",
       "      <th>2</th>\n",
       "      <td>13.947368</td>\n",
       "      <td>100.0</td>\n",
       "      <td>716.981132</td>\n",
       "    </tr>\n",
       "    <tr>\n",
       "      <th>3</th>\n",
       "      <td>13.421053</td>\n",
       "      <td>100.0</td>\n",
       "      <td>745.098039</td>\n",
       "    </tr>\n",
       "    <tr>\n",
       "      <th>4</th>\n",
       "      <td>12.894737</td>\n",
       "      <td>100.0</td>\n",
       "      <td>775.510204</td>\n",
       "    </tr>\n",
       "    <tr>\n",
       "      <th>5</th>\n",
       "      <td>12.368421</td>\n",
       "      <td>100.0</td>\n",
       "      <td>808.510638</td>\n",
       "    </tr>\n",
       "    <tr>\n",
       "      <th>6</th>\n",
       "      <td>11.842105</td>\n",
       "      <td>100.0</td>\n",
       "      <td>844.444444</td>\n",
       "    </tr>\n",
       "    <tr>\n",
       "      <th>7</th>\n",
       "      <td>11.315789</td>\n",
       "      <td>100.0</td>\n",
       "      <td>883.720930</td>\n",
       "    </tr>\n",
       "    <tr>\n",
       "      <th>8</th>\n",
       "      <td>10.789474</td>\n",
       "      <td>100.0</td>\n",
       "      <td>926.829268</td>\n",
       "    </tr>\n",
       "    <tr>\n",
       "      <th>9</th>\n",
       "      <td>10.263158</td>\n",
       "      <td>100.0</td>\n",
       "      <td>974.358974</td>\n",
       "    </tr>\n",
       "    <tr>\n",
       "      <th>10</th>\n",
       "      <td>9.736842</td>\n",
       "      <td>100.0</td>\n",
       "      <td>1027.027027</td>\n",
       "    </tr>\n",
       "    <tr>\n",
       "      <th>11</th>\n",
       "      <td>9.210526</td>\n",
       "      <td>100.0</td>\n",
       "      <td>1085.714286</td>\n",
       "    </tr>\n",
       "    <tr>\n",
       "      <th>12</th>\n",
       "      <td>8.684211</td>\n",
       "      <td>100.0</td>\n",
       "      <td>1151.515152</td>\n",
       "    </tr>\n",
       "    <tr>\n",
       "      <th>13</th>\n",
       "      <td>8.157895</td>\n",
       "      <td>100.0</td>\n",
       "      <td>1225.806452</td>\n",
       "    </tr>\n",
       "    <tr>\n",
       "      <th>14</th>\n",
       "      <td>7.631579</td>\n",
       "      <td>100.0</td>\n",
       "      <td>1310.344828</td>\n",
       "    </tr>\n",
       "    <tr>\n",
       "      <th>15</th>\n",
       "      <td>7.105263</td>\n",
       "      <td>100.0</td>\n",
       "      <td>1407.407407</td>\n",
       "    </tr>\n",
       "    <tr>\n",
       "      <th>16</th>\n",
       "      <td>6.578947</td>\n",
       "      <td>100.0</td>\n",
       "      <td>1520.000000</td>\n",
       "    </tr>\n",
       "    <tr>\n",
       "      <th>17</th>\n",
       "      <td>6.052632</td>\n",
       "      <td>100.0</td>\n",
       "      <td>1652.173913</td>\n",
       "    </tr>\n",
       "    <tr>\n",
       "      <th>18</th>\n",
       "      <td>5.526316</td>\n",
       "      <td>100.0</td>\n",
       "      <td>1809.523810</td>\n",
       "    </tr>\n",
       "    <tr>\n",
       "      <th>19</th>\n",
       "      <td>5.000000</td>\n",
       "      <td>100.0</td>\n",
       "      <td>2000.000000</td>\n",
       "    </tr>\n",
       "  </tbody>\n",
       "</table>\n",
       "</div>"
      ],
      "text/plain": [
       "      token_A  invariant      token_B\n",
       "0   15.000000      100.0   666.666667\n",
       "1   14.473684      100.0   690.909091\n",
       "2   13.947368      100.0   716.981132\n",
       "3   13.421053      100.0   745.098039\n",
       "4   12.894737      100.0   775.510204\n",
       "5   12.368421      100.0   808.510638\n",
       "6   11.842105      100.0   844.444444\n",
       "7   11.315789      100.0   883.720930\n",
       "8   10.789474      100.0   926.829268\n",
       "9   10.263158      100.0   974.358974\n",
       "10   9.736842      100.0  1027.027027\n",
       "11   9.210526      100.0  1085.714286\n",
       "12   8.684211      100.0  1151.515152\n",
       "13   8.157895      100.0  1225.806452\n",
       "14   7.631579      100.0  1310.344828\n",
       "15   7.105263      100.0  1407.407407\n",
       "16   6.578947      100.0  1520.000000\n",
       "17   6.052632      100.0  1652.173913\n",
       "18   5.526316      100.0  1809.523810\n",
       "19   5.000000      100.0  2000.000000"
      ]
     },
     "execution_count": 8,
     "metadata": {},
     "output_type": "execute_result"
    }
   ],
   "source": [
    "a_bal_e = 100 # initial balance\n",
    "b_bal_e = 100 # initial balance\n",
    "\n",
    "a_weight_e = 0.5 #define weight\n",
    "b_weight_e = 0.5 #define weight\n",
    "\n",
    "s_f = 0.0 #swap fee\n",
    "inv_e = (a_bal**a_weight)*(b_bal**b_weight) #calculate invariant\n",
    "\n",
    "a_vals_e = np.linspace(15, 5, num=20)\n",
    "\n",
    "#create dataframe with based on a_vals\n",
    "buy_A_e = pd.DataFrame(a_vals_e, columns=['token_A'])\n",
    "\n",
    "buy_A_e['invariant'] = inv #value required to calculate token B value\n",
    "\n",
    "#create values for plot, add Y_balances according to current invariant\n",
    "buy_A_e['token_B'] = (buy_A_e.invariant/(buy_A_e.token_A**a_weight_e))**(1/b_weight_e)# calculate corresponding token_B value according to invariant\n",
    "\n",
    "buy_A_e\n",
    "# buy_A.shape"
   ]
  },
  {
   "cell_type": "code",
   "execution_count": 9,
   "id": "5d59b5b9",
   "metadata": {},
   "outputs": [],
   "source": [
    "import matplotlib\n",
    "from matplotlib import pyplot as plt\n",
    "from celluloid import Camera\n",
    "from IPython.display import HTML"
   ]
  },
  {
   "cell_type": "code",
   "execution_count": 10,
   "id": "c7ef2cf0",
   "metadata": {},
   "outputs": [
    {
     "data": {
      "text/plain": [
       "([10, 1000], [5, 2000])"
      ]
     },
     "execution_count": 10,
     "metadata": {},
     "output_type": "execute_result"
    }
   ],
   "source": [
    "x,y"
   ]
  },
  {
   "cell_type": "code",
   "execution_count": 11,
   "id": "eab8cb13",
   "metadata": {},
   "outputs": [
    {
     "data": {
      "image/png": "[encoded data removed]",
      "text/plain": [
       "<Figure size 640x480 with 1 Axes>"
      ]
     },
     "metadata": {},
     "output_type": "display_data"
    }
   ],
   "source": [
    "x = [buy_A_e['token_A'][0], buy_A_e['token_B'][0]]\n",
    "y = [buy_A_e['token_A'][19], buy_A_e['token_B'][19]]\n",
    "\n",
    "\n",
    "coefficients = np.polyfit(x, y, 1)\n",
    "a = coefficients[0]\n",
    "b = coefficients[1]\n",
    "\n",
    "\n",
    "plt.plot(buy_A_e['token_A'],buy_A_e['token_B'])\n",
    "plt.plot([x[0],y[0]],[x[1],y[1]])\n",
    "\n",
    "plt.show()"
   ]
  },
  {
   "cell_type": "code",
   "execution_count": 12,
   "id": "e5b01735",
   "metadata": {},
   "outputs": [
    {
     "data": {
      "text/html": [
       "<video width=\"640\" height=\"480\" controls autoplay loop>\n",
       "  <source type=\"video/mp4\" src=\"data:video/mp4;base64,AAAAIGZ0eXBNNFYgAAACAE00ViBpc29taXNvMmF2YzEAAAAIZnJlZQAAZhptZGF0AAACrwYF//+r\n",
       "3EXpvebZSLeWLNgg2SPu73gyNjQgLSBjb3JlIDE2MSByMzAzME0gOGJkNmQyOCAtIEguMjY0L01Q\n",
       "RUctNCBBVkMgY29kZWMgLSBDb3B5bGVmdCAyMDAzLTIwMjAgLSBodHRwOi8vd3d3LnZpZGVvbGFu\n",
       "Lm9yZy94MjY0Lmh0bWwgLSBvcHRpb25zOiBjYWJhYz0xIHJlZj0zIGRlYmxvY2s9MTowOjAgYW5h\n",
       "bHlzZT0weDM6MHgxMTMgbWU9aGV4IHN1Ym1lPTcgcHN5PTEgcHN5X3JkPTEuMDA6MC4wMCBtaXhl\n",
       "ZF9yZWY9MSBtZV9yYW5nZT0xNiBjaHJvbWFfbWU9MSB0cmVsbGlzPTEgOHg4ZGN0PTEgY3FtPTAg\n",
       "ZGVhZHpvbmU9MjEsMTEgZmFzdF9wc2tpcD0xIGNocm9tYV9xcF9vZmZzZXQ9LTIgdGhyZWFkcz0x\n",
       "MiBsb29rYWhlYWRfdGhyZWFkcz0yIHNsaWNlZF90aHJlYWRzPTAgbnI9MCBkZWNpbWF0ZT0xIGlu\n",
       "dGVybGFjZWQ9MCBibHVyYXlfY29tcGF0PTAgY29uc3RyYWluZWRfaW50cmE9MCBiZnJhbWVzPTMg\n",
       "Yl9weXJhbWlkPTIgYl9hZGFwdD0xIGJfYmlhcz0wIGRpcmVjdD0xIHdlaWdodGI9MSBvcGVuX2dv\n",
       "cD0wIHdlaWdodHA9MiBrZXlpbnQ9MjUwIGtleWludF9taW49NSBzY2VuZWN1dD00MCBpbnRyYV9y\n",
       "ZWZyZXNoPTAgcmNfbG9va2FoZWFkPTQwIHJjPWNyZiBtYnRyZWU9MSBjcmY9MjMuMCBxY29tcD0w\n",
       "LjYwIHFwbWluPTAgcXBtYXg9NjkgcXBzdGVwPTQgaXBfcmF0aW89MS40MCBhcT0xOjEuMDAAgAAA\n",
       "KAFliIQAEv/+963fgU3AQO1rulc4tMurlDQ9UfaUpni2SAAAAwAAAwAAD/DNvp9RFdeXpgAAAwB+\n",
       "ABMdU4FR/S3ocwB0PpZxIzOQhjTpzKnLzybe4Dg4dPOeQ/rsC7af4CiCNLDaSQ9TKakvTqxuwOGs\n",
       "5HQDHlLoRoBTfw71yd3RFZqFHzXDf4q0QfZ+/w4QxKpHLIPG3OOMBi0RSl0Nwx2QIkvTp1ozSeJc\n",
       "SfX1k+zjINYFP7ktmFEio4SEmOehV9DHlUY9BLanl1jaWXd+4u1cDthsMDXs9fkUx2k6cu9gZOyN\n",
       "6GK3CDFXMnb4Q0mTHQvU1ClYm7aP+zNuI235KoF9278ukdHVDFdsUuptfXbamo9WscdRzC5JF1+J\n",
       "vxzLe0s+I3AEy4ezlbP4M3Kc1+OJ8YAJUE6MpBZkRO1d+YJqYK6O4mKZNnThRf85DtT3MrwoXole\n",
       "/+wj5HZuA93FySTVhNauwOyyO1/KNvlbWgdBXlXhbOQDNoex10dmG5aun2lUcyjWzLA+gm7M2m0p\n",
       "M1++gY6g/yx2gUmx01ifSv9X/v51SZ21XXpzjy3K7p/wwV4vE9l93g6w9nneaogioDG27hBAsXpu\n",
       "HjZp8PSLw30VP4OLT7ZeESBFA3ziMgZmAUFBIIkzBQ63M09l8Vs9MubdiWUAg5CxpXsAAx3QiF1A\n",
       "BdF1dQF/ijJD6g1gQN1UVjKP0hFQ3W5ViuyRPNN1w/o7Fl2DybKy4MA1916zbFldf1eNaesvxd88\n",
       "378n8kqsFXi1Qh2LPat7ItNJ3nk8dHebCXmNNqtbt7OKqf+iayD1bNiMGHHDZqf4lQfMmgQQcA/z\n",
       "IfVGUiQanVkbz5YPwl7um5v/oxO7Bx9jPOeNulYBYBXFcodDUhRWYducyDE3F4PVKcZ8ZTVnDkot\n",
       "BgI1NABAwQZ8VzojZUZR9IH7orOhK+O/NsR4O+xnUrBVpScucylxR99vmDG06y3FfDJR96yjrzp1\n",
       "skIYaA7gN3tUeUZNUgZCh9/qE3XyDsNAoZFtcu9p/+GYwa6BeAuw9X33Oz/KyE0X7whr1DHODLHz\n",
       "Opoz21z27UohU47YCKmM8orpJIleMCSHWDgVVwpZIdl2G/YhOteTua0zOu2NT4hJPpcdFLF89mrx\n",
       "h0iy8xjydQzAAKAuVfeJAfIg2w10NENaRF58rychbcl/BAg6aEyHj+bRBSKaPkW1jId2ST9HegFE\n",
       "PX2ggfLIQk9OQu8qPNT3q0CAe9X8CifIddxx3NMMnnE1F0ViFSL/PtuUE2VrAWXdbhe/iboM2a26\n",
       "z0hfarUdRDRrc+P1HacJd0pt94McU0EjwbFwYmP175Gasbt6yRltIYExF0odA3GDGAV0x7vf8RVQ\n",
       "ATxufVQimuwuDFPse2AwXbuCQwgRsc2rGFMwg8fuWfEGE/Q3P/Z/aFovpzZ2++s83P21wUAiP5Ve\n",
       "smNW4WjeWs1lV7oWGNpygGPSFrAhPJUUm05u6CbrBY+0MiO8HSdFxoXCJsuyLILvmPZgA6QpJW9b\n",
       "K1WqhRq2/SkNfVFeox+yJ4FBnIya0+1V1qp2XiLDUtFlkMH2/v6mFDmtWSZZ9WpR7KH/oJQ6/+V+\n",
       "XbOOcayTV9euPMqy8xa4HWmI+/u/ivjEcVcLzv8RCsvFcH9NQRpkUmMVR9wmpZkN5N0bQGYGvhp7\n",
       "bH1aohr7bqnL3ktbD4SqG5V5fyF2cmF8cOcs6MG4EH5bkWAHxp/NOSk5234BWqMn38HafbUwWn6O\n",
       "kEJIxJ3KUDX8gbohCbCi0g/vo2zyaLjqbR07cUGNdzlq/mIbCR80gw/lqehT4PqMkhVoO7gosDbV\n",
       "IFoAJMScAbiHI+gG0zZffBBuIo6DrqU4c4BLkaTQR+Li0e266RjC9PP+5zL1gyLushz8AOGLBHpx\n",
       "CJk8ov7OK/6h735G0bt3Ly9k0qs5AZ0DfMmUQBjMqwp6IFbkjn2l74ALBSCElX1JNIyh2eJqpjTm\n",
       "5bDpvYTG/+AqznViz19uWJvR4zBt96zrIvNKsD925o0S2YuABgCvEXV7+U/1Cj7MJ0cY+cIR5YVk\n",
       "4MfAgkgO67EavGH8o+WxKqrGkvpzX5NMFCk3me7Fyhtr1V3YcbokrZ/7dGKRPXn9lX+AiqV9eMk1\n",
       "HG74+RyLfKhlK4xH6EE7Efq/znyPgDDCRV73M79kKHOMd/LIS/rpILpvi2v9cYRw+YDsgkatQqNy\n",
       "iCTdH5NXO/rSOqHOGDfIF6E1yjubVLedM2xaaKsxPkQldqW8dWaFWqs42iCqrgBFWkNYoF3TSHgj\n",
       "iotxYvhLC0wIKnLobmuiI1cmRDGbQi9f6hqTU3J7RIYoVfsC23ocGlapKSnkTdJHezAzD4S57aqG\n",
       "8H+gk13lrkqRIszV9FspEI8Wbte9cTh6AyQRcBcvePHeBYku+bwlDfzCS7X2uP9iYAztFVy/tgyA\n",
       "3tREUrO8qsoZ91Dj/h1dU9eiIC4lUhFrvpOg5zZ6iE4dCLZ/YDqfKjlmdqRray1s5QXEq9pwCyzY\n",
       "4FbuA6QwwfI7b36qR02VgpOO7ld0GrBgu67fH1GlliY1iw4kluftq2anVgNs7/SDSjCNdFIv4SPr\n",
       "NAO4m9VbZfLD72cd4Z01QE3smTGSjZJEL4kzkwMiRbifsqiozX/oefpqaI4bpSH0D9/ZjuytF3YA\n",
       "39JTUGj6o5v9P8JjPx4GeAHe53o8Kf9jXnSZvAMk3kAFiLW/+G9RZCrTTRbyENSCD2/Hf3BseNlF\n",
       "4UtU2OLUbThw/NynJE26HIr2K03NBAP0mmJxl4cKQA6rP1hi7Bm1db/CLJF8rswbhnbtvsevvQO7\n",
       "jqrhdlg7pOEb4ye26yoNoGSMHlpivLxZEpmcqbBMw+ipeiFQsXjPmD+YLqq1Mm1JrAzYmDrfawP8\n",
       "gPAbMZLCCeGepq4D3nmWbc/GeLRjDIJwyyyjh3C2S4lhTfdrTAadxWOugvfGDPIj2fCAQu0SePxx\n",
       "ZK/m1mYMNZc0OSa4W7HhnFyGaAqksTsAG/+/+g0driKedqAZ6sXNXR08XrAbi80iRsuaBNAbZww3\n",
       "r28lm1XwTatsYPBzy6C1n1RZsrISIZJLFPpAWX7bSam9Iuv6A6GjJCjjAG7oHH0/idhxahVEom2n\n",
       "GhH6ojD/CRUIn9XZcNOj8PCLE8k5z/+YBqo0V/l5ufYMQ8K+f4qZceTjSpVIrNYRt9VyrBi0elYI\n",
       "x0aSI0OrdJ9MDF9cvCBqfocSufJnLk+yl5qaoXkCwCQKhmHLMxvXG6Ajy65AWgbBtyb4MP03m0ld\n",
       "aw+JvaxVJr/hykxjNmmcrLVbgdTVIJZ9ki9M9Nk94kwqY2Hjk0aHCtUOUKmNmtf5QciV4/O1dgTO\n",
       "BJfOo4eq0cV1aG8cZqST+0PHGODoQJf0Lxv9Iak3NxySlcEzBEDf9sBWqv6sUgqb3pqpZwgUDYx2\n",
       "aFv0SHDva7tsAClfavUxD5TxZJufcwg+bODYX2kzOKR6eaMuFrB13KX9BPEAMZ4JmF1HzXE6AwI5\n",
       "uz5DokKV9lpNfo+medPc5Lr3/wlSvgGTFDO46P511azAIEt1+tIH/8CXxdj5zSDcNS3lyfU3lQZT\n",
       "jr5ydBUIMpQQ59iVlZH71FFKQt0KD+GLXCxn+SOstvuZwslf7cQ9KBrBuym/RLFurxfoHfVpT6bk\n",
       "ghWUUiFyp1oHvrbKddqbU/ObV8q01H/jNWQsbA4fAt5E8204FGG9oZV7oa4u7Du03ePMWpURkb4V\n",
       "wy+b0nk2MwmiuYDH2p7nH6q3w/dtv87jGW1z9mhJqXFfEQCNrFyrFvYaZqgVSANm7mMg8iXD9YC0\n",
       "KYB3+rJCueuTd7FDpgZ6V9t+fVzp2TA4UiY1q+MTCdmxxOBG8vT+h92+7ojiXQF4exykAQcNoQtk\n",
       "Vd+lvvQd2d/8F0BHNKx8XcAapXXLBpZM+1hP4mBsBNqH7OHrNpJen3KaytYyyHofKOiTtVhdn198\n",
       "uEV6PGIxr5DullwUiKhOEXV8LPSrHB2iPdLdCukTkkcHDTg9z5n331pd3XMOU1qlFqdaaInYOmnJ\n",
       "cYpO36AFSO/9HPlX5/99N28QwL6AQz8j9s7ITllXoPZcNpByKh9e8SG4i3V5WtUs7GWSLK37lSJb\n",
       "o1Nf+JrLXAX+PieIWGYiI11eTwitgfTlHKu2TinemtSTEuZ/O6VC/T2k+eX8gaeHoLpXlKY2MJ0R\n",
       "7KZRHrC/74jm30zPxJo+pe2yv/7fVaN3ysEEtkPVmjEvkbIZRdeNga24cPVMeXaEBqMMwxzjjUQB\n",
       "RlgsAt9pDr73689QEbtLBYU6CiUz49SpZ3CevdiwpZJamzylcMTpJY4zEcebKI3dp42voT6b+IOo\n",
       "zt7KiycIqYY9ZvQcNjWOaazTIam6lB/+3TnWFN5dPgkUZuxznJaYu0TTvDyb8jbG+mRlY1LJmLJj\n",
       "v9P//2i48hKqjh8oaS84XnJO/IbweykYJHE8QJG11HuEgdEtDCCSoRnpFHtbUBr9vs5eAojRMXLP\n",
       "yE71AAJF2PWk7HuPlGIbUs6AWOsUb1xSbGoF5FYJ6fPNeAJbSjsXhaO48FPdw/O2Xe156qqHQqi6\n",
       "btR7uWBbUymLQ7H0CSJLSkp7t3/Q7pde5o0xfQrBAVIZPXh0GG/KqqDsOucyS56qz2n2SVIM2SFX\n",
       "boIztLdTdwrdExuwLXlJDNius2UhVQHez5ednivVpiKSCnvNULmFzsGsIVzlKslduh4XpV00KyfD\n",
       "bJ+co0BEA2z6XmFeprzP7doh2rgxNCKKv+PuZpAA9NiUxe2/uu7ccbdJjkaI1A54fFe6W7yf23vu\n",
       "JkIbXY2tS8OPDyTCbQDDL2OKxrVfnfc4SAmU7r2DKf2S6e4wXzZSYgy5zVXbyQF2QxxwdOeUQOHI\n",
       "jRmGPeh2NI+P4TnbB04py3mLVvtxrNpzFeFO6/A9ux5emcyRRufspHd94YaMlgeLvGgx2bvkN2PG\n",
       "iLPC4BTqqDrlSZIr5SHxKp0BP+rbxDo3vhuz6Na3Sh8K8inu4zHT43MQDfUN2x4vNL5YO0vxZRId\n",
       "mEJof0UvuXCq/cNlg01CU0vmY86E4CrZzZXWG8Y4cVJEoXTa+SgIQtgIkrfVPdaS2R71vKqp94aN\n",
       "HW6BRAgLXoik+pP0vhRB2+J1wMNaWCrJHudyHsPciu0Urvi5yN6ZvSmRXEK5kxqqJuS9AJ5eUOjv\n",
       "muI+pYq3pWdiOhSphAlwG0QD+geC3OSXmKz1IdQkipzouriZY/9rwXl0UG+34dxnibN37Q6l59CH\n",
       "/WI7/WAuNA0shuCcYpK/ZzbmLoxYvnb/nZJOgEZqdEFpvxS3P5uBrd/Ghn4/bJ6CGpCXSTEUVWbh\n",
       "4YGPgDrz+EvUWqtEsmGGF7+e+TigA7haz5F9ePHbtgYu+69W93Da4t1aRPy8fBzKt6RU16ux+Dwd\n",
       "03GG6vQcLJHGqO2opoPf0YlZDdanq2rJtjfeOm58ChbSnbPsKJxxyx0XJeB3pTvQNzM4vswMu/DT\n",
       "WXKR0hEh5cgvKQOYnlxL2W//8KrmstsPCQrO7DLVQt6xvn7P6E05yfFdm9Mm0eNAD11gLZjF/oen\n",
       "kvABG6sro1nwRtm8nrYihX2b8CW2dE1sNBoL2JY9rCLVlyYBI+QvzLK2gSXd5PGaa90ghl0+VzsR\n",
       "6eTkt5tcAAZPkysiNNSp0+WuPqnNsDZgVnPf0xldw2AOpo2utiE+2k0l58UCa86oahUC8D6qrpXV\n",
       "fd+hi5tGXepXat53DO/8WXBwSNV9004jEv9sk/g99NWgQbLqRBM66chiSTUaz2KDe2KQNZmuF4yy\n",
       "ZWhLH4rr39rTo9dtWsNc0j+D6QigIeSJ1uzEZEYld5wZshAot8ce1c7ngaxDWK2eRelb/GX3bQ6z\n",
       "CY8SdOH3VusWKbAFaFnS8H5V+gxJ4fkJ+tVRv3noPri4AB2znYDkgRJDO5hmZcMCPlYVVwAJZBqk\n",
       "cDYxs+hRRLuLe2xUS81wD5M+44Zo6WFF3mYzQnJkjXcf9+yUu2Fd3DKOA91RWWHErcCZWPS/bj5w\n",
       "AI05X/r9qOk0XwysHFNyAU7Ucd5vitZe6VLidMR3zfmesNeoHMCXQaJViX9ivgJ1EPdzZvtTp8UU\n",
       "SFQZ20gVCfFE2LsLOcVCMDfUSaUTyz5AEiNTipse92oqU4cBpl/kZPYwbONh8L2luJQMgFzIvGt3\n",
       "XAsrWKOAyO7sr0HjchC62E14bQDq0/ifEthXmJGyTZQq8JY0Vz7CIBQjTsDWc0hC1BiGP8czFbki\n",
       "wCc1pxJicjf/+v0xi47eIBvC8KAZJ+vIh5nmiyIN3ICbs3aGioV5TZA/eZjR4yKoNuUTxMMHny8V\n",
       "f1bqAwFS7/VIaj/8kp5/kuzewwf9rkTHPxMfN/dWaC91DVY+9lF2lxyYNzjsUaZ5sDPSWqG6vp74\n",
       "9iUyG1nqG9hRTAS/2PL+LpLIBt8HtZ/ExT3P21KiD/YAVIjSEAuqLXIh8wL/7ae1PFdC5PcA1bTZ\n",
       "Iec8DjCSv5LzYIFVUVtNqhMOYIhPrjTiv5mkZMmayy9Blm5PazBdASUctog8YdgUoD7kXKyrDCvF\n",
       "IsKj8k4pfyM9inU5SrvaZ1eh46+LQILX/gK6quNKO+uDP5WaOTkLB6zKDNCboQtCjYEfX6F5yFXc\n",
       "8oi4xMOzlc77ju2XBKBPJBEkLsHvFf2N9eUGPNd1ytYtrQmsxpfgH3q/M/w9Gb1otFVRP6PY6U2n\n",
       "+N1HhAwaFKCw/F/ye6bVQ+eknfXA8N2aaGEDVrK4kEXMrRxXgmESPPH2gtSR4SyTXn2MLe14PfHJ\n",
       "gNDyBEiXNn0nqZgZ9VtVA4GRY11CWjLkr6Qh1HCFtsKssbtQdMm3rmUmA1FtN6XFI78w2s2trsfO\n",
       "1WUKfeLo+f5D/VoA3IYm9t9kjq4vzQQJgjgcil8zc9lRA9+3P6SSZ5UyX/eSQYe2rK8/iXiMQ0DA\n",
       "r9PIB3plsC230fOg5ivduZAYatCrksNMFpxMlBMr3ixJMZRfDHUvkhsuQqCPiRrdZQHSOcDzWz9r\n",
       "AnTjFeTGF1bAVdt4PS94I3pYtS9XR5TPlNETRJxczCEsyuWw1ll+dZFUH9I17xSDDF7pLyEewYAN\n",
       "VAtHX//780ovDgbGMYQ0ntyYqmLYwkCg5ZXB5r54i7K/X502z4BnaLn1Gihl570gF4O9BAdSemS8\n",
       "leg7lP2SwATM+zvJhMNR1dpIVPmR+n5S6ZNa0onze8XhB76zUKDi4Mp0NHSdS+VwhG2Iinrjtvef\n",
       "oa0hvl2HPC4F8dP787k7bo13f0g8a1pKPTru7j4JpUq0Oses3kr90+CE1tUHKHHgpGABrqTRkyVj\n",
       "w68FGB33xw29+1X6dXq+CmY5fFQZg3HIbf3p+Bh7buGt+0cV1p7kxgdSsjDviFSwUOEBloBKLNJa\n",
       "p2wWQyR/Hv5iRPzQjKO0p7ezmNUmrbe465NBR+jQ4sWYmsH1+nxzuLAtFunGET3B2NwhBLs601Jq\n",
       "dCtF5+8fEm04ukvsVCcRFOhMBO3Qz2tQMgAAQRDXyIfzN9AQhQvmK5nAtdGZfTojtfIImyse5iEE\n",
       "wznXarvG8weQ2/0RQAdH8vYFX9qIrPps6ueGDw/r2E2yv2LlSKX5zyqJLAKA6+F/rX+xbn+oEg0E\n",
       "MJhaVXYBnGIIDrHIJzJJhK1owPkFE2jwMyE49fIpaWbEtuudrmxBxVpo/69M1qwkuFCal0D1XFof\n",
       "xs9lcpJ/Wy8ECsYqkrYYjD76rgrOD+FZ8LDAQF8hKKC80OX8N4ZspW3ko/SMuL2nEyOO4tI/9sBF\n",
       "HumInI9xREQKD2CXDu7IizyLFmNEdEAucMzsdPF+4cSTvY393pxN/OoRClGMGmKXcAcPj7p8im9R\n",
       "N3QMv4349fhHoXsPfk3OBQCOIAoaH+DIK2nRRSGVf3x/Z92k+wZKfEkrQUoKAxLe3V8KWQi8L5ls\n",
       "KMPgrSE2lKwOwbYrJY5+41thm6lhUgdA6bFep2/HoO7y1aM5wwRfF6EMnV30yG6G3KPR+yokmTtC\n",
       "VbIHNOKKZCHHDDcJLWEg5NOjrF7UN6H2+UL+FFt3kGAxk8eQTRGFajttf+5veGgkl2XSssgVkUeX\n",
       "av0pgCvB1fKb6HPMyMZUf6C2KmaNLREXiZrtNqXnQ3d4AAjS0KAj2aK/daTIBAG7dvaPVdNKuT7N\n",
       "3CfPzsNEY/blLjqANiDqKhCpaSrtT1QncwN1IJ0agGqwQiHtE/wWpRbN4MTdyKUAp3Pn7B/9gwUg\n",
       "TDFk/g+ARpwW4pABCpxQMhnAXpshi92swZRvXaqnLv+0lmVj5hTz6Wn7mQKORvowGM2xNR0CFOWd\n",
       "7EO7Uu9WBIH86eUR3xAKvmo4u4kTRbADxVm4AlhquGjJK2ZORq1eScEKmPX9ZE8Ui5BBi2rMfCpf\n",
       "XeC/TIDM1ogLLpxjdnFqVx1rcTsi8t9jIkOxzfgvKE1EOxXg/D/ZDxj9pLsDNTAit0OOw3xwhmDm\n",
       "MMEbC7+jNoVe154D0Y2sCVHq8bGeEQ+7KaldCqIud7yi91jsa7NVoqmJsB5ts3mfd6oGt6Rts/di\n",
       "bDbo25sdqur+2VDde3cYZNOtwPu42CtcUGVQ3tu6ZtkSUuZ03oxhNSQsSOsEwDBcexf+l1474DIp\n",
       "zsJl3tUR9o9YjTDtFp5WFoo5DBGBx9oiK3CTTmXKTqD9DlpLxpuuScOiQFgVF3t8ADMPFPPFchYt\n",
       "2txH9TLUhsqDpCfWZt1HWFPvT93jWbH/7NzsdNyubRBcy1dKCYOp7eMMqgLDoL6S1F3KhxaBJlpe\n",
       "ivGhoglduNU2/v+BUXv1PwTKnLiAf1Hrerg9ZHhXJuZeoG9DUhaLOBdLXcU/C2SMhy2rEcPwsAgK\n",
       "HZAACyrXfojPBg1FarlcOksfe/UR/iEoyCliZ8mIFgL75qY0AWbNiIWXyikMmVtzFz2IHeUAC43V\n",
       "akUJnFtgTfJb58sm0Y35boJSWpeGkMLs3yvANK9Mq3J1zgfiol3VwCDWHbn8cOAPKJ6hCOKDUMVy\n",
       "+kMNGRessCBRmekAVjyuGw0W4ishw3mSXe7+PmlOZnt6pIKRrkG4kUSd78r8r29VF6jUErnUZv/y\n",
       "0xU+/ckMUNOYqoE5tYsJC4pcf2EX3zLAZaoB9oabkMnZ2lXkTCXOvchK5xCkUH1HBAf0QBe/VvNu\n",
       "KoP8gObKjyniDeWAZZYz1W51Cs/3+cEycefNv5NkRZHDm8Negu9pk8Z+3QI3wuC5wg7C+TWhjSfo\n",
       "ntZQ7+WE+r83g+DyC/RQ1PqlS/tl2NnwL2xTqtIQwoKGKv6RbdP/LUvRdSUULvjv0UYub/IABdZt\n",
       "3S/P8TdJ1vJLoAQgnqQO9u+Pfsfg7yYXtxGnbmCDs37L7ado4yGfdbOfo5Y5a6vja7kPNyMhvuI0\n",
       "wYXvjG2R3jG3ElqJxO1KlWWWyiBtEPPFuYf/6foWwXJeqOrb28kBHdMtt/o/jyMqfDbLS9tz+3Rd\n",
       "RnX411G1PCa/QVjZ20QP197lauudnOxMYivSbuVDtE7Bb8+GygF8RMQq8Rxkw64hU57AuqgXCaQq\n",
       "4WZN8yLv2OsJk9xjQeLNQthrEKhKPaA/0nqC5YhQIdvNsd0CRF+mI3SIwzZov1atgHdr2bqkTYbK\n",
       "YgyLonSzYEVf9KvCqD1/cc/AmpTe+/QVZ/lncHzamBkW3X+CVQMjsLt83STDSS5msrQtFQeOYi8d\n",
       "Go37BAVuVp53nUJFhEcaHMNgQta7QEqoktPbzCnW9U3TTvmhe6jUls9yEcKngWFJ+Jpx2CvZnFpQ\n",
       "oynT7EuRAAkMY7yjwghsC73JUul76tUL2gcYVngYCd24S0hZiYnQS9ojaNTE4/HFuPTlgLJvJXBT\n",
       "Xr/0OMByIRVDaCUhadVPBiBdpAHMLNfy4NyhSJCnSucYpF/fUGo9NS7xvM2Pdonl0t68g61m8AGK\n",
       "IITU20obA4qxwHKF7U0n+iCGoNPejY7EKGXm7WP20EAYl/8Vzwfa72f/0keIyIn/A+j1o5l5T6Jk\n",
       "t0wMggHZ/uzL/H0IWFScyOSVEZBeD+HqzFSg4nANSeu2i73zVokY4mDEQw/RPpzEHEehzzKi513C\n",
       "xF4DX/xEe2ye37PTYaoP8ia48tn/UnCTFK7uRrLPeOttwbzofRQzGdOrOsMWjtqmM6pYBUgPvECx\n",
       "kWMI3ksF9tQ7DKe/H+lCx6YvqGQQ492CDuvcA4WnE28yRlT/nALyYcXU7CTPl/dNLWpeupXsfMzD\n",
       "6SMsLg/cPSwInHq17O9jxE22cx51KjScuzcqDNwTfqMBDiMEHYSh2N1vuzlgofalkGqS+uvPQPyU\n",
       "Yk69vtk59R+vzUvWkp65WvNeQn/Ruifln22KRt6//sUFLWqzPgFbu6whBQ6aH4sjNnzSj7P05vOQ\n",
       "XTexNax0jYr6TXnwz5mfOZ3ZGXjjeRM6L3FrCex20QHFAhjIu4L0kGs3C4DwQ1/RWDGlboiwIdck\n",
       "QBIsqoePodINhMr164wVkK9v3JaKwJLCdPEBcyI2tiy4SBmeMpp0c75sr/nsttiMCO0jiYzbX+vR\n",
       "dTSw2nISy0gvRxh4V/nE9TT/iXFTFUa6G59EPqkfIHayrm7ILxfI+reTK1wD/ugZb44ANZbGkJrX\n",
       "lIzi/bZDbfb3PdHiNrG4B/AfM4g5wg+XbqSRiF+DAnOJA7Hkn+U77frRkktSPKItDl8U2HpnKtQA\n",
       "Q3wkhPaNLIXpXfAZV9VyHWSAg9MHorQP+yeyKzO6Lm6HUvHFbbEABHWtiY+BBJysK14fkPCCriuQ\n",
       "pL9w01tr1WImq3nhBh2+C9B1rCpnTgHwleql0VjR1EtygP6ZSfqhxNb/DVwO9zZbJEuXhi2l/9Pd\n",
       "HSgLQysCc8/izX5BPbhVjL3vNHAsPxGUR4ghbd2qIaEmuMjRA+OvxruRzhBMzuoK6kTC1hpEfbJE\n",
       "8RMsf9w+L9fog9ygChRbVzBg7OdyO+T9YSM5UB6HxZNh2p7gbPM16tEgrj6oX2otmppr4ojCndtj\n",
       "hIxefTnDQyTIT4S+NBublpFJcVzcARIDlsj+/F/GQEUw/q0MYGuyaW0kz8qVcTdvFfKuIDY9FJWv\n",
       "AnHaXSeDwQMIOa3fAFCbzoMUDvPXLtCZnzsXzdyz8afIRk4ZNQoPopDp3x7bTCf6YijzVZckso2/\n",
       "1cA6alP31bnHJy76qEXSnjKf6hyAqOO53eAQVAKmwg1WWqrNFSVFuOvBolsdtPCj5Mgx6Dg/fGlM\n",
       "lZgAAcQlWcarWu73bjnFEkaubfdxrCWLnlVN/tckwNuIHq61Y+zaZd9d+8CcFg5oWjeCFf/LQjLp\n",
       "WjJMQiyeo58jX/aiZNi12HAQmwC582CY8FsGJqIwcTray+lR3MAlFcaJUMZJ3Joa0vMi3ETr2Z50\n",
       "vv5KTKX1lwxqqTH3/KTCuQnZJUSU+xkC7a8+Zr3S5rFjUsXzya1qRGEOsHa3ZHDHpognwJZX8HF3\n",
       "sE55VDaGprXsj/MoNVFlaI2zaqqHUaov82kPIMxoqgUZ7T+wGIxrm25oF4phbfgh51XAFjUioeSM\n",
       "6za3PPW7liwRZjpRf7Qqg9SdkHzQ6/y55xPqNTAyrTcCtcQPTZp5ZJEogPUXZ4IDWp87/c7zvqAA\n",
       "tOPZh8V8wB6BYG5BMCw/MjOoGCUCOTgsbw3YUWwzrOtTREybMT69P9p2qJUijZp+i0pgUemR7KMy\n",
       "vuq+qTtOnsufiygLVLp/99GjSm5yKDG9PAZrnz7sXgTFgjS13TKVF9/B7Qif5A0DlylROThkk6kw\n",
       "tWkkvzvHI1saKVm1CcczUydhL9PPa2d6YVVN8+yASYp+o/W1tSkOMn4eEv6kKJj5mduqC29EbkfM\n",
       "n4C/bBuzmcKqI2HQyChuuwxHyYJ+H3uMWhuHMpK8OY+aysYy+ptd1nJhzt72H2fTOsCKO3azC30W\n",
       "/ZJ4a9c1hCZ+7QM9DucjeSlgIX2KB0dmQQ+cK2+X0oK9piLuqRhnaW83/OpqrFPDldPXnV8UvB6W\n",
       "remCRCn28XTea5cSd+VqhdZ3JYRyZhpttPdDyo+syM3SLARyYW4ILKA7YvbHOo5sjfu5CvnR1Z0O\n",
       "cNLyQFfw+mhLhbiPNI2dQO15jdRfbgOVfZr+wxT4fgAQLaGcPHDzckbmyQkReX32NjZic7iP7779\n",
       "IMP4NNDLi7BjcHE5n8pjjV7ryF2AQuSfq2dugCMCOJV353ky29k/mmfyxCQrKF7oN6sGIht1P6QA\n",
       "ZTSc4eCsoFL1kQORyZe1Qv62cWrY6eijXpEZF4fEJeLMOu29b9zBzn+7MtRcb3YZZBHJEmdsJBde\n",
       "qPhoZE0pv8f+f979n46D3tgNuUCI92/YFrGfSVO3Ck9McAkhDZYuUgwfyyjmg+EXgs6s7slOf+BK\n",
       "kbt4kq5UWBeHbcUDB2j38pdWLBK69WGV/6AgMZ73FrDaGzWC0piRJxmOnB/47XrjtcJk+rDLFE45\n",
       "1QBuM2f1U+XosRQ3qbTdWaXQIOFJ27vE8oYj8JCPDB8f8KU2wuB95Mj1dJ3Fx8Q6dqbfpMrgu4Dg\n",
       "vYJP2vrrpkFRmNx6niRcNVeee0ZCTEdfHYxJiCzHTVivmfC/iHl0kDl7p/XJ8x6Lle2hq7XjXBFh\n",
       "+xXUySZa3KMnGv5Mm/a18/NtZukvRBrQeE+8xn+f6AXr5rsM2G+BtMJVecZzZXsJ8BA1VlsmQR1g\n",
       "o4wGTpDwrkxXScq5sxUm7d1n/NXWhOjmRo7/D8bkwfdNkYjY5urzLNQnbYMk/zEV1ggm8cENqwio\n",
       "t0kDgFbhWkhyTS22zSzJXVY8060pWjhBKdHNGiyrPF7nPtO4/HxzW6sYChxCZiKrnKRLpQ3GgB18\n",
       "UqiU9nnDgUCW2DaThKAPUd07vDd650Z9Hy6goQBngpfeG5V96WvM5LZcbsasn0zFALqeDDsZFPMI\n",
       "k5s+BhZ7dE2CYygx0G24oeyW//5As+4mRfypmOYlVudaEmDXct+fXYpTriI5pyJ2puhov6i+beRo\n",
       "TBmvDrCvQOJXf7rB79WE05E4DPe+/74E6uxfzWMkVVkw2khEs8gzNlHEkqG15DZuMKrUwWYKdA+w\n",
       "fNxjmuZ7pFeLRoE6SySwg3/XkFIErea1R+6LSyHCmRw6Wfh99p9AJn9TEjlqGKp0SCeduAcdAyAi\n",
       "dpjxIkCCcqVGZitiraYq8S1mXNyfFwLkC47xuDZg1VY6bM6+GM1rQ9OCP/BR/rlEBW7oXVhykx4Y\n",
       "hxTWg0dp3M1j1i36BCn7xqU96m1GwKr6EZKhk/PtNXakaSqUIQbOSIj4i7NMarLczOacFXuyLlUL\n",
       "PXmVnjvh+u0pyQ60fp1K/dkbRIi4oQv4w7UX65Whl7geFm3X5QXdmNRp/HomVULQS29PfF4zQkeP\n",
       "UCB0MlL6t0G4CLRQ2a8ON0bi+k6u71u/OxCV1wkmU23jDWzdLJ1+t6bITwaCHFm2RonHFd2/SqWM\n",
       "C9S979Rn8QFIF4/UiXdgUSU7rNlPPbqgG0xDt+Ucz8DpO4FRrSrTsstb/AGfWFRUy4ngvZGh66Dj\n",
       "ky8ZGfkCd4mmV8eH5sqdoXJhpl+YdTC6e6OQTaImyQpHefm9pYU0riLZzzgnGV/Kc4y2fkYK5amd\n",
       "BU1yfbmAoRyvvSTpZ4FuCSPG0Yd6vxLmLNtHzonJ0i15qe5vwuwFo/vJlgOrrOOaEVPz+cUAy3Dp\n",
       "TBCC4euYP6Y/+wcVyMGpzujVKmhG+9/uo3yljDVVTbrI13pjIAADowAAB7RBmiJsQR/+tSqAAlPM\n",
       "324w/RAE8OZM6SFga96D78cMwzQ14lq+fit3MhSLFFnCQ95wYmJ+dFgalRnbabLnM5cecptcGMFx\n",
       "QGCAv+TBjia3FknhpzwEXEQbAVO02LJk+XXJixxZMQehs5YBz5el+FswjOnVlLZzH3AhHYaRJTEN\n",
       "COY7YJ28lzEQkt6R7pICByjgNq2tttconW1SP9Ije35QlrDOh8IK4mTJevIngrPP3orFxF+Lt2//\n",
       "RPe5gTc4PfLesX2u82Sgo2GHJ7QS/D/Uw6s5yQv1x8PkOB4oZ+kewFnSZpYp1IQPpD5k+sf5Sja0\n",
       "xWjZXfU4JV65/8DHkIXtvdZX4h4Yz2FgNaejMStdX4+MNxvVryUbmmMH34zAxz+KClu0xWZ78HF4\n",
       "ZJbITZzD1Fz7gSV0/1WpQkAk81gw55w9cR/OprA1LTzFrj6S0kp+HL5rJ7JBKOrXMN2HZ0Ni7ChU\n",
       "jya3dzz1lmORe+rCMXMS2I4lGhqyGmzOm0VFII6FgnrKyk9+XUSrvse2tk2gjB5vYGurXdTlz9X6\n",
       "8FKFB5OYQXc2jymSZ5g1dZzgXTnoS04jia2KMzdYopm5IwVuMHuPrC06X2kJ5nk82LV2DTAXybJb\n",
       "UlhYb/G3u2cZGgNBXM4XeHlb+v49DeU18rOno/H/Yr5CAu68RSrf4s08e9fWlwGffC6w8DThdaH0\n",
       "QIWH1zYdqSk1vZN134aw5emeArCpaJWfrekNTUoM1rfNX0sPI5eMBDnJeUOQGzBLHy2l6Ki8FM2l\n",
       "T+vGpxKhAexAfn2HY3pGgDmZ5VcuGtUDOMWZZ7pf2c865Xizb8tiyA6fTT/42RlIx2HZEUszrLBe\n",
       "9ukFHStxL9RtsN8rQuN1tr3EDpacEZhaZSnqmK2VIIcwkw600jaT8S3F42FtR2qOL9n1E521O++T\n",
       "J3LCawrR8lCAMRSo4G4ppFLtq/ELfL0NyafVPz2EJ6UOIcTaCvoiVZJa2mo8TdnLCXXnvblpZuGN\n",
       "Ry4oZaVs/AQi3OJysKXXbwqJlsTXp4e3bdXyEPztm7kvEuKtUBY9il9G4AZ39/JJWlfoWLOdre4r\n",
       "iysNFmJClIAM2mYhgXjXYuZajpwWf4CDLmbAY7pdkcHadnnbMRkoEak7HAjJspA/S3SG/aj17BqZ\n",
       "Ckh0E5rbOYri41woPVLJD27xktL+EkNPgy5gOAnNrCzs4U4lsmr2CRgIkhmMFRDQvjRNEtkqyU5y\n",
       "zVdj4WwDOkMzkMRACmTeNFQb5Mje5F5AqmOYuA6istXlNsT9QH/l2+JF2LKMITiC7vqhT/aQWNuw\n",
       "HhCm/mWNXUwS+KNbXsEYPnFr50O2vJMl9qwfKYaUuLqiZ9Ou2ultFx106Qhh0exqemCQR7jmftut\n",
       "yAj1qMA3Zo9G76nvzLwAvk+KGuJ8pehweYIP/XhC0JctgWq5IC/7bLnNgpu6Qe/pkR4pLlnBffww\n",
       "d6D6WWzJdpI4acIKBj8Hb7rYX9HfDBuOESh2+5G+5dR1pvRC+nyEQP8++DrSTH4R8uv6MxxNxDsw\n",
       "iqbqTLCMXAxKstcOmaZyjINPZq/Dy5VTms4PWvCe94BKU2nYUpXmRbFOzChwaJCSOBSxOck5bP5U\n",
       "Yy3qD8znPp0DVfg0lNDmdYp1B889LBMebIQriqtTsZAYJQOT2aOpj14DdEZSkYEZSobfNM+FXs4o\n",
       "qMoWulxYJES3SiL6feUxF/YqZgli8li0dHrrNik2FLP2XXPVk6WZ3i/TVLJarDWqcOzuOF5yFNJK\n",
       "3AeF72g3hpHGNDCKb2rKQ9JQxX8j/W1GkcuECoW5sjGzZetZ1Z3ckLLASfb1KSZPSNQ5d9AOkq90\n",
       "wDaew1MtQMVrz7KDxRJ32Zr40Tfb5VEwfxEs56TThRBvQQxVXztAm9tfWZ8j8ucBs2liYxHGpH2l\n",
       "Kh7PnK7Ld9PamfphRsRAQCZuv4WJgoBT+Bzno7lH46t8b9jDWMEnf/jeSbPYb5KeRxxBEABjtjqh\n",
       "cTag9w3qrhRDoUcrTo3dnOIGnEznjmPe4zhk1yiu5yWL9PO/H3Rc5+iMPXj5Qt4mnILeiYL6+yqc\n",
       "5Mvyg4REzkP7j7f2/69xCmkeMD/Y0OYMVHRtdL/DwWxhKt5S77+DCQS8YuoJuvDIQAUqEOts+khT\n",
       "fovkFiVexxmq3pPwUZCLVLKJ1H+WSCUWMccSrIP7ZhK/JRHpstmuFcZPXsv67bhRdTKliW7ePydH\n",
       "8Mi5cIN9GjfPMvXaAUbeirt+JoPjhluIKuQdysvMxRIgJFz+FCzyNpgiMVvXmZFsSApk2rghjCZC\n",
       "Z6bG4kXuiDBCmgX/92RwJhX45RDE3utEoYruRCnD1T0xl7OEjXeoGOlA16+Z2AZzLmlBHLcQWyIW\n",
       "m0mQaDWmkUmloJUqYiypTPFUtvakZ8iDDpC6wB0Me7XTiDj9/F46iLhxebvTLuXUa7U4slCS1zCd\n",
       "m/+hivQP1ceCajs5UQDj5XVI887ssafzFFR1Ql9lCTe+1tpDkNZv4piwloNRVzvjSVPwArqCZuXF\n",
       "/cMkeFHA5EugG3h2AbYOA+CPLNs2W509PDVaz9Ux8L91jRSlIpTJU8VcfIbJEol6mJLFEgHqyrJ8\n",
       "R7ysLx/+iriYlui3HPGBhoVyFTycAAAHqQGeQXkP/wAGbzR64QiDVtWs/rAbYhClACVSlb8/z6DN\n",
       "BuzXstEJ1fhpFHYqSyo5yfvGMlrlhdtFhAJcftI/RnMFso35aPN8w+6M5dHrcu9nPN/C4amEahCI\n",
       "1ntJizMVvkygICl69kTYN4ej8aOCyTk5cQrN59fOFYHbT8oxnv9J54kpdfFItP5xUBdccGlEs2oc\n",
       "dZ8YKuEGIeZJoQd1d/9iW73JlZCI/u2wMgbAezGJecvnWCujAs5CmJ6IsQ3bpyiqb6rwEGCo2KM0\n",
       "qggBjvX3n0iYZ5Haz7TGr7NzZnmitpkkNaf6CxyBNA2wqJKBmTIOZ7k2XDzv/MFlFK71rlnufIxO\n",
       "Dd2TivXEaITTxIiRNZGE2DXYsIL1hKtL4gOY1moeCDFZQlMSyQCiInoa0TMJRluWSEOsxndQJaLx\n",
       "4uMei52zMWobTTRwX+M2xfWbiOwAOWS9QydWYhTKYZSgcqMfkAdKHRqaVfcHxfjxonHfptXbuUBh\n",
       "Q44q/eMtfvH1tQi+SgBt8rIzPWI0rYy7cCGs2XX9Ou6C74cy9Jak8G1wGc6bVBBuRkdplRQEs+Gb\n",
       "CY10puH10yfDnZ7AzhqUII2NlWP2fKKYwBmR55xEtpwPUnwp7/nnN6Z5YqPMYUSlNIDuiwWdNa0J\n",
       "LL/mpjLl2SgXzwTYiaEY3txcv7fofZfw0h2OPisOz5xNoTPya82BE7u9GH6IBQ1/pwdhERHj/Ci/\n",
       "1thRo2oPE58mgbWAuPg8ILITxxnK4+b8V6HTxNqARxXRbdOr4vmxBE69HXRkyu2/tRWJc3TFhXaf\n",
       "zKVMZkRz3E8cLL/wteA1CELmwhdtuXdeg/MOPXWjoIBSvz20pI14g7Hw47vT4O+H4juX36DdAewg\n",
       "ogKex8plftGBYt7qZ+QO0xje7kXny4XDVwWaTOUtfDeFYgdT3Guw86JekJH3XONEzRRhh4qOnRk6\n",
       "38CkbhkBky3bci7/9wAkQvxS1h9PKxXaX75si307fecaBv0iK6U2TLIxjWcmVEzZ8dtp13DeryKl\n",
       "RXCiY2zaUMS4OdLV0owSBGNGt1pn1hRwH4UYKX7uWIJqkWrCfn2JzDTBHCR0ibV/CkRiPngeWMHZ\n",
       "FIBTF+qlahH6V6UFsaVu6wqLvl67PBnUvauTFQJa77m7bojpJtuhPFQKklqHAikEuL18a6q/wDFN\n",
       "gBOta8P5CDgL/NcLgHVjOenV9uNtBleVUkBR+U7s1R1Eqhdpf5tYfM3Bj4FtpRd5Znui1ZxlkCZ0\n",
       "2JYWiXK1eYReRC4CRb597FASzAf1MavGRHocIjkgkcG+z5r/9yhn/68fzPogQS0YsUc9JxSnMDte\n",
       "XD0Ny7BxbvHCiP8f1X3p1aaMAANHKJuPArhOxYCUptFLyBEXQeSNj1H59C+oood7Y9Y+xnraWeQR\n",
       "pq3OKGMjg7jlcdlHp04EFywIxRUgasxWJLoDjvx+1J19kQxZVjht51CNpshhT98vXmq004hyY8PR\n",
       "VV2rqxpEcN6M9lEL8JkZyMl9RWlRAZo0V880suv1IpZvSjJK5XxJmpFVZT4iJg974yv3TdqM7UCU\n",
       "5hChmeiPBwIn7ku/PAhGYNZcuVrgnRTMskykD4fZbk9Dg8M+ZqCbHVOoWY6gOKGTSgjQtVnA8hBE\n",
       "qiedJj5q7rJ0fRbPtcooQSlf6dOhuZmeD1sLEOmYxzMiOnlDxsXbechq1Uf5nBTtnhtxr6rB71CP\n",
       "lUlifBAdFTEhlBuPHY1JY7DRNKHrmy1NxgURDCHEdnfiWNI2Cf7K7Ga1cDyeFlUqgxSNNqtnSVtb\n",
       "/2xorc865Rz9BcT74PPY3vqe0tFU4QlemuPbTD9O7tkaNntGNMxE4AWaE5w+MGsTjCkgQ+vmYXLz\n",
       "8En30oYmdHTOf+rgSnijTXdFhvpQVEQ9xA9l3OU8NMsaHc5q9jJOB8wrNhu3RGkUa3pmpiAtYUrH\n",
       "RbRjveT//syVbb0C8JA40lrY7yWm3QneX9axHGzO1Rtsp0Zt8BW25A6O5uKeCSjAFngNpflx4BhU\n",
       "uKWV0prTUEKP70Ua7idluzwF2CY1KffKTQ4tdsKBicxoe9RGY7s3cS6+7z7uikXbmnI0GiTjuaCj\n",
       "PaccvGqw8+SbTImN5pESzArhp3eOHjllKT17GFB+Z8uCHfqh1uLksX9GCOXXv1NFouqzopTXKkEU\n",
       "1WTnESCpDXgUaR0V851IFJDjdSj6D8uPk+pmEoUHP/LZ2JnLbqnLSmttI/tWJgHdETVbRPf2srC4\n",
       "2xpABLvcL3p1yHO65bRJmfIqg0KY9jxI3tkBpoJuJXs0WX1PysQYCagRu+x+RPd8+otGVEv4yUjy\n",
       "Mv4cZaNh/kHQ4dV4/CXQyrREsu7JEPLf0PXjp3nO1f2p/8Zj+iTf+V6ExzYLdLn18+5PbMvXQCb/\n",
       "bA0e3pPwWTjKMb3el/HyCciUa0mpb1fu/YWOdk+1ErDUxB43d01AyjnQwUGS5HAyZ/sRdKZcn1aQ\n",
       "De1HGRoYbeJeUI6jGTaOhn040TvB/4uz8vg4m31XoXSu9PkTDMkvfLYdglD1HizoN2UEvbOfLi7v\n",
       "eA1SdSmG+purnHYbagPixk+2juGlOTttO1+DeZOVbaeNrbGvOBh4bOlvutKbOPmBAAAFlEGaRjwh\n",
       "kymEE//+tSqAANS9Hqs+tfS7ERIAGyqMXSNXrqW4/YE+JMTf7xrlwMm8YHNFW8EW43Edb/VtQUkG\n",
       "s5BzBediTYyFfbHJdceSx1bc6Oc9Kek4Wqwil/pm7RmpKhRe6QrKIWWC6doPNBxp5qyyzeALy6DP\n",
       "czg4yReNURuXzp8u3qKY79EiYCIPv53h00Dzcvhjm+unzZvRLmNiEAeff4+1FJS7xyfDaAw430/K\n",
       "v3fF48e0vIY4snkSaFSo16oCSqfUpPNue39icZZqj336gyrnFilcmTd41/Spz3Xq6qTY6gbR5sma\n",
       "m7yuMPj/EfRr3D+Qv7jKUW6CPD2+l1jRxuylhFBgS0VaAzy8AFYbQCoBtqAnMgFifPfV+m0jhwc/\n",
       "PCTGhuXJuNYjDa0Obtd4RPG6s+YRhV+6o0RnLoqc0VJSkcKwQyDOoInlptA6Yd07ev1TEpz3lwIl\n",
       "hNvvoAVKA3x1vbZsiomyflICh6i1oA0IAGiUCxPlhtfN4m8mI+ZO3gCRzzGOx0lg4bzv4UA1hGNA\n",
       "ofof0WrD2BKewHFQEbHu86k6iXyc1zHqqjAASbSC4IDEojtS1X7dRIvhqiCBZSnlRmTacXJAqQFL\n",
       "RKHGm0QLkzQnwsf1tMvfQigcz+hPshPKBCFdrtpfz3txafipcwBBGXKCuBngj8JqLImY3wQ/pvuF\n",
       "glJLEbqJEW0nMO1QbSa3MSv1uFqEKPD6vyeAEp9XYY8s2OZv0jW3xkvoCaZ9d0va3lhHy4mkOOSs\n",
       "+s8dyfkaxj0oqPFxgjT2snvku9o0WN751yBGUxh4DuwfiGeFLq4yXessUGrHTjJCjNWJ/cwos7j/\n",
       "w08k2C+BVcK2AMA2MLjIZhY/Sn3LrFGh3Pt45Ej35FVLtoXm+F2JTiR4F0sfQl8wZZPrsmQn8uQP\n",
       "vuCjppC5xZEeqqrH7tGufGmNzKUFzhGBnjgZA+pQCZF/mHdH+e0TG1ittt9jXi834t3kHoKoLEFT\n",
       "lmNm2hLaEOarkR0G/Pn9+2zdSKxXGDyC7SQBgLrgGHyc9WhbQ+FQ5xYXzMCTQ/Gy0wnBlm/hZkMH\n",
       "ezeSpiTGhdHoHxjnLOdWfSUMfEWTR9qf2qS5zr8zVy4GwrKqb4tXybwBB1uePP6VZcJLxi0Ob4oI\n",
       "lE2kjSwlcKFICcPivDKWtpKwkWpeh7YlSPLZOp+zG+/CdHo0V3IHyo+Q3sn/DAXKGsg6yeHsFO97\n",
       "yhRRHJFWNQRTnfPgKeWt1o42Y27pZL9sMXUGVBKTUSl5CQbwhFm6EnMmCZVRYEVzPv7/pn/tnIlo\n",
       "trjKb9HPDkRlGHMxVzPBlpMXHGcnSQJnX5qVHhfDkPpiSNncUmCUA7p4Alo0byhUaae1Wf8tIxcM\n",
       "IKCfUMF1+LJgNl7dUYJ/KyjAUE8kCzn6Xb+GLZAOPjfFMjdu7PxgULA3bDqLpNORfa2Vz3E8iChG\n",
       "/Z65erChdgsPM5TWSaz7vKm1VbCJIFmhTE+5lECIq7XKJmFUq/yhu4nEZR8VOcH+BbKdYIEEfxRr\n",
       "g9Ads43bvZBQuHB0D4tKKVcsF3Sgpbc+7qQh7SsZqdH8f9rWqCfCTgSN2ZO3upRnxW2HUFJRfvtv\n",
       "2fPl71MRWISaZPEaMRnYBhtpHp2KiG902IoqstYNYB3vBn2s8LS8tAh1pCyhVq5omX7iGDyEH1Wp\n",
       "IqK1mlqsZzQ0mkCDrcmqWX+MNwj4CI9KhigcOnF44DxN0rbtar31gpRMC5Vg425ykwDaGR/I6LyF\n",
       "WDtxyfzDykkpB2mL5/y5ewaguygtnJIt0ejaiV5+tNBuQCGO22s/5DdLhyW+3ATbSrboqRTKtsuV\n",
       "S2oxPbTR8lyy2/yHZQ0C2G4gnRcCwmIasWLUy7ThQxN+/we7rblL7vIixXM8jBFvC3lN0U6gQAAA\n",
       "BHVBnmRqU8EPAAEKbkHOWYHQdA3dHqvPi3C+Uo+yGM+OAC2kWvkWLMjt0AsWGqm/UZ+PuHq+EHka\n",
       "dU5LZyjLLv47+OOVXsPiLpfskaMeh1JjEZAaAByOovl0/gM7KMeGi1YuPTbyiHtfYltyj/C+QY7j\n",
       "KAWLaXdxNchYLGc8FBfU6va6EoA9WqlWfyq/gG6K8ElJi302z0+oUBN58xqRz3zzxqaIKvzuiY+k\n",
       "cvRVbpJWXtBM/ZKI9VC3ID3SnHHWSQqc+fAbyQYsTrbuSU72VJSV/qB1PlJnyPv1NYAFxvg+5QYX\n",
       "NkP1XsOanLqgg9zg8SFtDPF6GaHToC08x5HPKT9Og4dWChh7O+EwPvCsIltoVoAbObG+s2ROWv8s\n",
       "zVg9Fay2cUZtmcW92c2KTzcZjWgw1blMtPbL0C1Ej5QjYgd+s3dHAPAZRoq7CjgeS49AdlWSn8kN\n",
       "znAPgasP8G5cb06s4GByaRtglK49goM/w/NlUNjK3gEvyYZMpw9gzGnl88LkvJT+cMMEF+hKQsHc\n",
       "dd7wqHwgocu20ZNsftJ8ok2gjRvEchHkOXREy3gq5Kxe/t/UNJI2C5xgumRSbbR874Yyhz6e5mPS\n",
       "o0BgocLPryJQTZgtorMq59urPSGUW9BOltkatcRpoIpr4OqSiWxwZLBdEaS8qLkcSb8OvhYnrfwM\n",
       "fV/9CTq9LUP9ujp4insLwiIav8xF/1Ja+BB6FrbzVwxwCpVcnrO2489pEAEjUieSVNV0DDEjyeF7\n",
       "e1yhkEXg0EU/tHkJtZUtnLe4E+DV/LNzaFkN1BqNDX36xBL9xGvA09qurNL6l3PjRBALETpacUph\n",
       "zRky+7CZIFpE1n/3x82yd4TwhxPeEsOPRF64RfKD6uwm8u8SKae8Bg2+244OQ3xrn/d5fUb5bA0N\n",
       "WDM2mirVPa/PfcWt2pFRierzd1X70WHgYx8l/kCBQcZmL54KpnB4LP6fu7fWb9gKWsSiEbv/WJDm\n",
       "VE3YHHz/cS8kr1VIba0AiFZZEgwpcsQ6GSpV3eRp7/GEYaRvz6mfpyxfo8GXjYsxNYP1AM9fVfDM\n",
       "TJw0PUiKTus8RuKokcSHQn2xpoD2ySUZd3WaulTRhhdplIYxfQ1ZQaAZPVKqTugS0TPBPmdfpt8+\n",
       "lW0sBPpNzqEORKSsPV/CeAXwY1Y7uRzC2An7NxhAueI9oBbvhEFiPOzo74BpQo8riBWSCFr1ABNp\n",
       "vEFpqXUe14BD+j6nRmPxmVUOTuftAV++Wh0jcAXVMrTBm0lSJrF6KY8ABUjr5GhSDgalAtCvQMz1\n",
       "ATL5/QhJK3bpjs/LoHJUskW/BpwV4E0Z0ElrxrE/y8MQ/16k3mhJmDdkXPdnkZLdDi1H3YCOP6wL\n",
       "jc4lNgC+2R8HXuaGMAJyOoIW93TyTSubQhGrSkdwKTsDairxWnVuPaRkDB7A0Z6cnnfAKfyozK23\n",
       "d/Zu3CC2tlAlRIK4E7YgI8k68+dYWCkGkpLuCJK8E3q5gPSIG9y2c7bUkLovwW9msNtdW5WCBBCg\n",
       "1DExAAAFOAGeg3RD/wACWrlMcXg53uHpC9xTzAF6gaACHE+oGQEb9Y7JaXPSqq5IeFOLUYmxFH+4\n",
       "9jBCA6Ss94AmUxt+QkHYZ7vRaCPC8XNXCNnP3Yq95ZgjBkGkfNKGnykN94SEZg7UfJuqGLls1ADJ\n",
       "iyCFpPnlB21JYVf2djVVQRp9E+jwnSQXGGFaxrDgJUJQ9JHGmAXPW1slkK+s/Urzz/6DwVDFN10l\n",
       "5tkJmM0Wb54bKr/29RcRQy1IDpsgcTYOQ7f6FNQSW1y1a9tC2Y1s1+NEus6G3NDOUXJBGojf09Sm\n",
       "i2/RagDOuxomGIAiMr8cz9b7dGyv3vOcnuxCbR+l/zIGNr4IFNOVPkQaxvWUVNE9xJqO7BKag4/6\n",
       "5o71trNN6+zHcDZEB22Fbw1+gSzrO2oRMCk9eiGmxUV2v+hVZBBV8pfS0BDfVPL0nT/sTOCFbyvh\n",
       "chEiYdN6HugZd2XfFv63y8SpkDPyP/AwB4k0DFd+kyNkUpOFSi2b1FXD7nG4m4cycqXpQ38hszCy\n",
       "eoQ4Vs/b3QhoMcS6rv5GorT4Q/EInz2zSOq2n5l/Xy5URzshhnZ5cA3yzTP5czt2UsMCnBxkkZrt\n",
       "t2vTnWg5XIARRAVzEeDz6oFbo6cCbFg4TqYhapldNqeDBRFlcTazc7anZqJolqiAwC5rxl3sZR4X\n",
       "pFAm4fdYenjAJZjs6m54zgD8HhpX45HAm/ENqIu3QRWKkxDfSJVeH6MDolid61Y92Fju0A9HigVM\n",
       "gLyjwtSBH6lW3GT3E/LpgFK9+O4pfFq8CcqHLRwhUZv0ElMLCy/rJvL2u5Q2mDHJxf1GF7sTu41I\n",
       "y1rY5UwqzyQI4sgwlPQI6KFChZ4hJGdA8tUbxUvYiZm7WNR6dmFtjA/h1Jv8MZl/Bj6tedFCHLG7\n",
       "pDOideIAjxLcIqtZfU2C4cNZPB89sqDDpZbiwDOF7Sw8M6aYYW4H7FJGH/Ew0N7CE0/WROPUkWbD\n",
       "DDHGiy8e4tI+OQzkKmVJ/E9BnKyWYSiYxYVYbx1EHqdPHVoNmlZS028UeSHQ1aaVEhdTJZdb0kx7\n",
       "/PkUfT+TVfZ+sQCNtH9nQ3fWIA2h+j/vVVO6v60cIG70X592tRp+6+haFyn28iNzNzAEdutKUbj5\n",
       "QB3h6ObgvofdkH4EENLLE0K1YLNSgq26D7NYT4khDowpOAXxjzhUW9S+Gokt73GxpWRjnFm/h7TD\n",
       "T417yYOh6anlRvUA/Zw9Mzua47X2Y3sETV9dsze30z4mMShPXl8CJr+Tnvu4rQkf+DBZ0zgtdJSP\n",
       "wfe9/Dp5Cfx5lfK9IIE8q4l7Lq/D9lbpz0wn/TICRQHQKaIWuoz8x/r2ktbmdmQQcN7NvB6eff9j\n",
       "x11RRUVkdf4XsCkE1awUcsYi6rL48+xDwuwYtv2j5szPjoBVhS0i1HrOeuKN7FHeh6O9XxoqSN5M\n",
       "Q8uPo1yNdttRfx2P+LRc5yP0BUwwb45m4mqFygq3z4Hs6AyzEsqM6PdT0v3d0IbJV+VDBfwhh3Fl\n",
       "62SI2/NQaKxibxRQwRxgxgP4crzIVFcUW3xyaxjcBywDMviDj/qQW6PaesRUznev9wqDH1fc4e4G\n",
       "COGJUqEgy19F9lgHuIMQ9Pf4sVFVIIj75qqcCOFS2Ejwe3WxQlIQakdWI88GFiHyH65qUnIwkD3U\n",
       "01th/ci6cVzRJrQ8s5RUvZ530nRiVfm84jCH9DxSXz6GlHQx3j7grhEBrW10m1L3Id/r0ajyG/mu\n",
       "hKQR98FUfgzXahz9HmjGm1L4NW9IRMZMygK4hMHMOOEAAAMbAZ6FakP/AAJbBsxSu8GXnkevlNY8\n",
       "DhgBNNnhIOa44ZzH5r76rKRHj5+sFeo5NHoInMWAD9GTQwoCqaMXBPNeEa/XEwH1OCfZZUvR5EuY\n",
       "XTxb4WUinK8EzzrWnubTdBy7AQ0/gprSiyKigl5mUst71zOWUHqPk4rNNWSj5vgAh7blBcVvKPXR\n",
       "KK47ujw+o11rzWVYgVzXjl2nGeC1eDRMGwoPkCShNBKv17IE0p7gJOJOtNdz2Bt3qG+A/nxEq10K\n",
       "UEd0ZSEXzLMdm1PSU55apSu5bKSMs2omhh7Wt8AsXlbc59MNS3bweMWbmTbDqlnSNw36c7XR4+xu\n",
       "BG+LksbFN/ADBWnICwzc31z+TN5MFHF7xQLVj3DVmYiOdCy8t0Fze2Y3j4dPWwrXeybYSoY/8k59\n",
       "THozQ2T7Fgm+YMgOa9OjK5eQ4sR+FGtntf3x30YJyC8Q5iklu/tDueUliDGJ3SErCE73ddPjp9nk\n",
       "YNO+QJzI7nexZKIF9LBrBNVGnVu3ejhJ3mTGYdtaXBgYECz/i3mZP6eDovbmlwR9WY9CFl8mLkzw\n",
       "xXXbtMPOLrup2feMRuhlh8Y0gf3P11ZUaI1CSO7fUfM3Wr/W0ZYBrDGw4e+USCf84R0xOhfH2iMU\n",
       "qX5lr8KIHUlt2xejJMHk5RBIC6wyUYanZ9dXK4m4jRzvQAT2v3SR8ZQRj1A7ZzIATHBUXmYxNFjz\n",
       "HUh8vwymlRM8d3asM7HxOeKq4I4BE/X+4tZ52xM9cPCOllGAROMBDE52exC33u3b4EujquXOANRf\n",
       "pZulWY4+spedjX6o07xFuUGc8mpDejyI3T1/NuXd2O/upGwJS+BBG2xOqh2u87LA6cZpQTXFZMno\n",
       "SBCntZS1knohCVvaWnSz6a7Mz/JCwzY6TjpFYzyQvbI8GOTvIJ5uAHcSdUw0Fct97ICVk/SWAwKo\n",
       "D+jtqAEtqcGvOFsc6YhilT505b6sb2p9eLs/6oT6N4KmcAKm4wwzRQyZ/5ivyBFmRlJQFcU1SGCX\n",
       "Rpp6ggwGBZ9rWb53vQPKgutAh2rePGZUS0ELp3tJmcWBAAADzkGaikmoQWiZTAgn//61KoAAAAYL\n",
       "5SlUgBBd+SiXdhjvVsL6twp9+5J8k65sXDUAHeod6mWcB1UKOUAE1HlmkCbUMLsaUCTbIStzlmsZ\n",
       "f4vh5RaJSe3ODiG4Pz0CYeqTklQHf+pKVdi5Bl4DijR6bGg6O9CDG4COt8URk9ItznAonv99/eG8\n",
       "Tfs+wDSrBoe1v418f1fehw0X2yxGh0oPu28EFmjSncEu+oUWuB/+6sYOvdGAdVvtyv61a5jbGq+D\n",
       "+RBVmcCSi1LH+cc773hJzjsEr+YFz59Q79OXI57L/sIc5LrS5YkDOa0lgUV9ZuD+6gGZHMF0jAbw\n",
       "fElhqB0z19HbW9BM8C9+89WymJyhQGWy8+3hivmqQIbRs2MvNzB6Hx22mG5WCpbq17UT7lu9PMwG\n",
       "hvPKVwIg/Npz1HTiKO8RWeYPRxPmQIVmWB/5wypt0pbKfkWKZ1JZsT+ZauXYKwsGuR6rl+uRAEro\n",
       "n+b4KmE+i0pXP/ohC9TGl5o3SlKJsmdaEbkHht3uM0j3ojzo7b1W2TGCupqW9/Z3ZhRu3gNztq1O\n",
       "LF71yK5e72Hi1OdLQdPKxF5gF7nGGwaR5diERAPLp3MZLxIMFeniS1qSmkzASJ0Ck6NxHNYIb3un\n",
       "Q7qx6pTYp00SxKTVdchLVL5sovipwDmSSZ2he7j19AbOBB8gLbLGcoE4G4bzEs8z7U1tmNhAAwXZ\n",
       "Lz4OOULw3fdPPiWZHBltGnjCZdSvKIY3C2z3feXrC1cyUfzQV/oXBB3M5kqUbe1sodYQdhwAIKiF\n",
       "OFB+v/v5egrJinPAF/1mdeGBkKmGhEftgqOIzSUvjROMh+S+Q6AKnMglkH/eiYNfz3TOMbBk9XFP\n",
       "RRrzKjldGdm16EOQL/OAVTPlR7XMDKmjDBZBB1XJN9RrSHxbiBF9KijCnKKhzPGQgJKfEkR/Odkk\n",
       "6wbiPHzoAcMUYzrERvyBp3OVJtCnIBOLoGJT3RiZzpWtLyTKmIvvN7OyV20rVbVPLkXH7SqUQvVr\n",
       "5KdGIjBM36LB/eG/UjQsO1EYr8sGlRwn1TVXOo52WBfyNSBiGUP102RVpDhWiwdrRIcHQ2M6tvRh\n",
       "xh2GEacs7uXS9NhLb0YMY8aOMR02sxSms560oHIwAOQgqEhQnHFP9slUUPotTI69+4fuNb1k0SCU\n",
       "Xdq1qQTDAIPzBAeeVyujujFSGcWLwfhVGn6ytgz8oUOa+pBU1AvLfZzdjYSM1tC20Bxy58XH+WDB\n",
       "EDZTDCUEUj1KFVo2FYiTkzcvGQJqis0fs8XzrzOIgccoej7hYcFTP0mrAAADHUGeqEURLBD/AAEN\n",
       "bZD9DXgzbCO9VsrDAwuWyL+2CbGnBQQAtoVu+4jqwDFbhC1b12D5mFMb7ScOS0JAzc/1JLFXHCA8\n",
       "P4kX8I6godoQ+y549eg58rWMloepdQEv0LzlB/h5JHg3GfocGP5fvwOGRp1unez4i+307A9IKo5E\n",
       "gjyTjmR35H4CwsL6wNfCKNiKQ4auaoc0zuWS6SqO3Aa+UzHlK5QPvRFzUQ3nx4/eOPMe8SS2ZCjN\n",
       "Q/KBxemKCzQw81B4UOYVr+PQ1YmnkHl1uhgQ3urH7z+JbKKhjZUePblI3sPxeH0e0sGECDnGPycW\n",
       "6k+hSD3aLYw+1NxGoHuCfUpy/OyGzQSuzFygSHbPhjfq/trRSXcp88MamBm8IHMKKVfuPITuz/us\n",
       "wCzs06C2Unr0kmVzCeTMOGFd8aTPZwZiozfpWXmye3GFMR+or5HX+g/eC7Z3DhQqmCG4JWWlE5xk\n",
       "BZau0cyLsttiEt9vsogRS9WjMG5j/zstKkP/Wi5r/8aRgfjlS1cUHT5VutPrpdOgyBsgiCijjeVt\n",
       "Zzd16U9xfviKR9qP3DdfW97CZscmFik+X7BlnC3VVT+1Y/lHZvTeu5JMwkEqb0IN8VnZusrLFAAg\n",
       "CCDxvT5urtXF1UnrxUmDJlHVImcfuU5bBf5TNAyiUuYV/n9hfzKGVBSPmWqDXPy7Pl/3ALd5/EBG\n",
       "9FNC85zX8DVF3AMWuJO/kI9UVoCl/2iF/J8WuQATtcmNC+O3zsPywbKxONXjaYvBYjYvTr0YhJXO\n",
       "Zzu7Ty88AtMEFV67Wr+RyD+B+ffcXc4RL5vQM1Hx5q90DWyHayao+YPWzILQ4Qep8PO6WzOLrwgH\n",
       "thmPlJq7hpg+nzL+U3UAfNEqsij+P2zPoQ1qdoOTJp0XalBJba+G16BofPRG9eYpjSQSlPR7Qajr\n",
       "XTbhWT87qbxPlgduLqaS+popkpqKvPFV2HyavcxXyIzPP4ShukzZEJg7TXQGiGTJgcAYjMbHHcbq\n",
       "MEeVlk+FwLaE5p/xMzPF4mF4V6zjwqolwAQh+D3pSkLjT863e4fn4W0bUCXAAAACnwGex3RD/wAC\n",
       "WrlMcXeDNrB67WJXnYHvHPjfN4wAthDzQGmGDzgJaObh3spKnWtjRVrvMVNgAOqzUFIKBNtLg2o7\n",
       "tzKb9SyJwNcLN1XcpJACxwgX0VJ3WF4KJaJ3gW539FLaBPhNKWG6w2GjZfN205Oos2ZcZbDEAbxj\n",
       "j9iafepKZMRMS2wuMEH9iLHVpq2BRW000y/OJcduV1i+PRw2ugeU3dNHbpvPpByb6iQC5YYFJdDf\n",
       "nNkj1DwHa3QD9KaBtw3UXZ7BTHegyBQ9F26o62qfrvp6M/Ek70ZOSrvo3XKujnmwjgGiqh+SqMBx\n",
       "4EBTazEc2+kzDWjiwrjJl0Nb/acF/c3QAZdnBsvbqWY3wbDoGRNbxDDTUkq9oZ/c+48MP2uGa+s/\n",
       "hvTwvslZhBYxwumZXYjFNAUfm7hS6XDJanqag568HPGYBleHCZD5bhboZuikX2K7Z3w0djmAHBRv\n",
       "4Tzks6q8LIPnMcqJjjPEUnIsLNE5/ZYrRQIECy9/7xfy3VdQ5BPpaEMmYoWhWhh7G7hwbszyDXOB\n",
       "PT9/UB85jdtEOh+ue+3iwJ1NHcPzJFzKF6Ces+GL+qcV3IXxU5YTDiVifRU1oE8jMtKU5oSknPhd\n",
       "BfxktYN/jgjiW4sT7UFcJFI8Og4AoCnYvcFRllg2sS+nOrcw7WUGqX4dIFbbrt6KH27FHW5FOYV4\n",
       "4A3Nb/r3XhHmOQpirOA+w0ZTYAPHnYVqYhXuS2oT4VAnKSiivJHZsbd/hu/HJXHY6zJaDXUIqbRa\n",
       "9VyZPr33VWrG0u92qc9IGLH1Yz3+VQyCoYHqAfifL56DbWg24L7baeKugt6d/ECuBkwr54Lg15Nx\n",
       "FbDR8dmoulySWPSFxsUM0rkMD6BVC0EWyxqBWoQXPANBqSWAAAACsAGeyWpD/wACWwbMUrvAArG2\n",
       "79i6z00bHRMQwAlkt8ay7sztppd86poiB2AJGZGXkeg48fE8tShgHB5oiTdn7eTF7C7jZF4OtkcE\n",
       "MNnBVdRKrZrOKlcQVXR4uKDSVRTZhtO2VgSr6RCz6SreYgEjrV+f9nSWglBipDjPtetN2gJXyQ+J\n",
       "ueLeYs/Ze23FW+pcR94xvgbXvzJW2mlaIAX/kfKLT1F81YAfx/SjSTWpTAsGEV4ZAlMTo+7lKrHp\n",
       "wn0Oz7W+1lt9FEZzE/bacOw6riEDcIL1dtkKANojT574K9FDqxwGDgKLhjny9eN1E/K/WEP9NOX6\n",
       "2ZgmywsLltEX5qA+ziFuA+JQhq1biEYq4Pbc0z0I3NZ7e3SNTmikY+riNYF2k6ZfAIOd5WSRxC/9\n",
       "TnukLcGEckzPdo/HW4f0PkvK3dzm5KLMRISpKe79t97+x+TiGGWDG67PmH5skalnKxyxhkUj6izJ\n",
       "VN7guVYqy1rmUHsVH5nyGYnQA7ym+s/v3QoDznnm13VdowdO82YN3Z6Y5ebU7I/OJngjNo2ABWya\n",
       "TEaYR3b69da0OY2IbVhMKJv4cSKRQRAoA0n9PyOwGhw5bfQyOYEksclck/Mnq4iQySv4AI8CIc3l\n",
       "T3EKMPXHODs/oL4ry6SlW/gvlfTccxHoPGCw1PktJ7oIluSU52wPMH/8MVQIB36Id5Yr/YV64aY/\n",
       "AYnxifkye804H1feDccL6BsCiYLK+Kl/X7OHU5onZBJINOy3uZARu8BmosOpwKF8JWQqsk/2a3pw\n",
       "X+eo6VL2PZnbh6n/SPJBkWxWPP1Z+3kczO3lLDnI8uNTiYXTLEzV4T9ZUlNOGW+QN6LFq8sPF29z\n",
       "AH8z0No9E8q/K9Zy3+oohmeAZPbuu4cuUe8DuNwg7SHFWLSfDaNlZ5YJZYEAAAImQZrOSahBbJlM\n",
       "CCX//rUqgAAAAwABW/jWTtDc/OoNjO5lAE2UkpDAiK/SyffH785ES86GbDrOuT7Ny/3PZc/llIuD\n",
       "g0+UQBwLxV9HG87zI1BE9pNigsnUVa/xuyVLYYGdeYFordPBSDMf36iJjsgNWxkwcZ+NW1QZu3oj\n",
       "1DSY37BjrGcd23GByRGCqStuwzbKVo4preNS354uX9YxI0lcRjrN1CQ2sFbkL+YP/wap1y1hnWX2\n",
       "ua8ZdMErWftzYtMHNH3CPu+5lsjUZXUbkODiYSUCoHNQXg19i0p+kBve/fRhtaV/reCweNS0mrjz\n",
       "TzlDg+DKxT9WwqNa1Voz2SFSr1ohIvRwlxyA47PCrOlzs4c6Ydiw7zM7xzIotL3GYNmM6I5/HdYi\n",
       "JpjvLZM66eqHGrKg7LLExKY3TNG2E4N1t3I9rRS5QJl38jXw/eH3Q3tTyGZdpBK2hXx72T4vLkfK\n",
       "FT/n7lqtiXAZ3k8KF2b0NkiyO4Xd6hlJKiSSJRXvNRcfaRQTevunept4LUULGqmQYDQOlt+0iAEd\n",
       "hZpBFHG9z9Nw5m01e2FvifLV8yT5cayMAE8GysXBFXgNAdHyNgIdGF5u0BJNUQz2Oivv1l90TzyG\n",
       "adK4FRK3pbfO1ZraDzigwV1MWE67sjDIOj7rZLvr6OiOEnN3hcdkoF0gmc/zLlOQQ6VDRQCivyUS\n",
       "VGOijVEfkQepeWJ+FxhDRWada4QFQE9ynq87rAAAAi1BnuxFFSwQ/wABDW2Q/Q14AAyNoImCdClM\n",
       "1ipoAj0CgP1LkdDJi4s4hcvuCuFK6Wi9W9I8m1n2M+ViAw8xrAow9QdKY9jGeyT8JdnC7LogYZB9\n",
       "tiTviG1paUKdcHtSiQBZDaHddyfJdWVsif7Rx1H5CDezCb+Jkb8DZILfL8roEIAFl17FKPhA9ivD\n",
       "lC65amnJsZh1iWACbdALqXR2dO6EJhEYGBQ4pLmIE3BtUeRbNp5/THJh0Jinr+sQmJov2vqwhRIr\n",
       "KL6Jv/2LIDbcy7FX3YT1OGdD6jCVxKgbGVKm/3BwyzVRUDaZdtesffZXwmLA0xc7xqIYcCY2cDti\n",
       "/3Zf+r+XNgkuYQ1AOCm55XqG0vQp+qNpqc8iV9ODh4VQDCbuleNnA7JT+kCl8/0c7lGOsbNltvfY\n",
       "+rGeOqqbMgBD8MRu9M5L+29Ic74/B4d8Xisk1R7sJiIXvczQBqngc6Z5FJC/kKChn50OhW4fQvEC\n",
       "IX/6WLv6BkdCGaTBsfopD+Bj+l67WgYn8Vuc5DQf5Zh76ESUx4WgNkD3QyVFGWAV3HbdFsmQ6paa\n",
       "mCiYICsdlMpXZYCtBP23K9k/n/uXk/bt0EtOuU1oUWZvP3KqZdCLSslbJCd5QU2q02nhjVl2PuQG\n",
       "PTwbGY8SoeD7sl36nSMlnoHUSd8nTUxacc4GNVuZVclg0D0ppBFrkGoQGAoD0SPBVwETWkS/k6Aa\n",
       "YsUPNEkR8f20Fc4ClnFJlOG9gQAAAqsBnwt0Q/8AAlq5THF3gADIrMNBLR3vJFSGYAWvEQ13fQZ7\n",
       "uFbn71fRHOXFm9alTDe7/Qg/dBJ7VsaSwUD1AUM5bDnlbxOgY54YiM0wsYukfnnEPRwT6v6xnCBW\n",
       "fNzl0BCKieom1Xdm1gn5HGwgqxUvjbkn3V+F/sxqDrQ9Cvlosn/2g/FDerhvaT8kKD9OhRk4p9lr\n",
       "EoqtxiteFZFxtsg7FLaWg/apA7pqSVMuooj7t5K7KCGnLLsTWg72icho8kFYsFUcOR4+QWe9W34m\n",
       "o3xrq+9JUkjAvRH9cGldwxf2SQW4YO2yd1PH+4ad+L0jiNmMmGY/onwBCGBR3p4gswIk2DsYOi5i\n",
       "ClD3eUfyAnrA5EBDnH+HHKfG+eGiJu4RKccH1JtV6uiAJ+fUZaWQaSTwurI91LkNKy9BxGS0C/1o\n",
       "ILz0lY+bNuOqew3SX2wWDwuvgOlNE7QP1Cmc7JvI/u4iUsAMNXTBmNYBtXB71cy60Vak/ZWaAOUw\n",
       "kWbj7LnBYWAvvtMr6bdbMIp9X4mcUdEprFGIaSmZpdriZzFsD/PZPiJ31VR4Cr4+Q5pWiCgiK38/\n",
       "ImhqYhvP9l4f/H8RX5dIKnb5774/D7/YWCRM6smr4MrWJWjPGUBxElq9lvjLb8yPrRMMTxSG5DTp\n",
       "sgZfrpPkOI83wniwiIdqkMo4gCj2dyCKlMWcKZH7P086dYCXbVK9akM+A2CrK6TOjf3646xw2ik5\n",
       "R99tysmZghY+df8Yym4gcSE8oiHUWzNRUqqJrAm68MajCeRHbSjjo3JGtMfGKtWMHT91RvObeCGc\n",
       "LfL7ldnBMXCOMHonUpbUmY2cGpyzeZQgOlf1hq9bZrACBKQ9LhA3d3+cYR3QeJ/qoMDdrT5VwdV2\n",
       "O7c/srG9F0lRnHfnD7imC5Q6Cd56kQAAAdoBnw1qQ/8AAlsGzFK7wABkc8JtgzFot6ChC8/9E+ae\n",
       "DMe/J6wkRtwfOu6Hp6UP9OrASxSnD+o35IwWcSuMPxjxxaDuk6TOZ4RjD+4jnmRWvldfz2/cSx87\n",
       "w0zQXEAm41F5MDbRCYyuoUHMgi4+11kSWrLKtOCxzz4LZGCrXoo921JpIM42pJuQLgyqp+hXI5M8\n",
       "+SXhmh/zaTAPHzADDGi1tZNs4Rva+nPEbkDJsoTkNIbi1HZj18yOTqGsYBv8aCXwlKBsrUxaaBjH\n",
       "khdU7it8e9WqOAc05AELVeMCQN7ZC96oHkkQJsHKKFoSC5sv88uxyf+uxBE5NFdHeclPcWXHzD18\n",
       "6ICjtQyfCY/8UVU9Y4Ytd2Hc44zdbbPrfXbXnz9T4X8GLk6rufkJV5+fhDgWQni00aXXChZOOpZB\n",
       "cJVhI5sKAiKXCT1bDsgtND/h9DPyQDGQWRduoOlCQRcGomAZXrRB6L65qGIPTpdrejM0giDz2X7i\n",
       "m7sdBig3W6gr7D5s3TC7XPyOypQV1UDHwW2seK7ICxRf9rUo3cfx3OE5YIgq4UrkRxUNcq5E/FPR\n",
       "G0QAnAu3Y9fmSyK6YDVdvyJZgEt2SvfTunbAiNwRNNOt6L3Cb7tK34npSKkAAAFVQZsSSahBbJlM\n",
       "CCH//qpVAAADAAADACU/21C02QivwQlYFDsrNWk3Pm7uN1A0FsCX2SSZ5EzlqYPhMDvPIcAAbqNz\n",
       "3SMSsOoE4JEPAGUxZM+IFu/0kAYZX6aZBjSIEPqAmqmZ4+V1twe7/0Z4y48rPj8EPjDt76+i6SB2\n",
       "KUeM3CALBgX/MSO8w3G+fVNBGNPd480SByQX6D/qtBGLSRdLFLnURQLKNurX9BzO1FSvGdRlplpp\n",
       "xOz3GhZyIcjW9pTECWssRhIKVJMhpKxVNrm0HG/p7gPiGbpvfmJYdSJkmirregdcIIF0EK16z+uL\n",
       "nvc5Cs9Sr7/ppYalDhKntOKZvKlwb08VJDg3Gql9aoOWF/xW3En93cPGCQvjL12z3w7fSC5C+l1U\n",
       "r/ygUEUAv/ZMTkv5w/toY3qKo0X4tDl6/cut5Dgv5CVu+uphtUBxuubB16S3Ez8AAAEPQZ8wRRUs\n",
       "EP8AAQ1tkP0NeAAMjZ5tpmOpKI/i2NXfKADpXe2R3quoMN3LWi4R+q335oPC+N0EG3hm8TxuLq1T\n",
       "BO70BFwijfTlf1JgocKY1AaiMl/X3Act0wRDIk13qLHZUdxcEQnTSvdM3azYrisnJNdZ7oEpb1C1\n",
       "U3e1AjVOhqNfoHBav81dkxjKsMYzFk16htkP2xvViVuCVUq/jWqB5xxpEDbNaHf1HzcB2weT0CIN\n",
       "H8q3gq2h0HPj6T25c323uP4wog9aqqoDdaR5FDQnHwcdTA2CN1YtscgoyHEFfsMAAVOntF8tUo8x\n",
       "JFefEi4Q9OHixvSJq2EVfSrOhPqsZcciEE1eUhCjE4azgjdhcAAAAPIBn090Q/8AAlq5THF3gADI\n",
       "rB7H3HHs7lFvQAnarGRny7Dr0wQjCV/xBiWFQhNApRct/8n+NrOYnAhoch20uVBvn49KXtnKHbIx\n",
       "Eu/btRbsPaKDXJyEDhGkhhq9UGxJXkRmzkD/bVgUy/cLtmQAVatFrAWYoQ6D6AypDwzBbdJF8kjQ\n",
       "Mus88KbHijuCTUIVGblL0quz3ymAZT3/xWcV+rAENaKXxIzZsAR8NDOZQAex01D83n3/T+SpRB4I\n",
       "5gwtrrKt8vQGi5a04z12zNGG3Y749gnXZGD/olTqEfy4WJf98CzKQz+rGNkkNEWLm+zFymPHTAAA\n",
       "AHoBn1FqQ/8AAlsGzFK7wABkc7yVHeoYtuFAFTFprhVd187Ou/QajKDiQ0a9jyf+cGXPwMB72vud\n",
       "JJGPzPCrRXHSP28WzVgNUhqkkABHhUKA3uE/k5mF7juhOSQCrubCidIWJ8OuPfU2NrFoPHkoP52j\n",
       "C/XIbD1hZHjpgQAAAHNBm1NJqEFsmUwIf//+qZYAAAMAAAMAFBE8rEAJpsiyi7UEBTELqY5Xjosl\n",
       "hMCsKVpky7u+e6tLSddekdHa02tRBgv5aLCeV7qjVh5iQjxZLQHYhYi6V2B54P2jOtdB7O65dOpe\n",
       "rOAkmqEya5XX6+MZZ0PgAAAEIm1vb3YAAABsbXZoZAAAAAAAAAAAAAAAAAAAA+gAAA+gAAEAAAEA\n",
       "AAAAAAAAAAAAAAABAAAAAAAAAAAAAAAAAAAAAQAAAAAAAAAAAAAAAAAAQAAAAAAAAAAAAAAAAAAA\n",
       "AAAAAAAAAAAAAAAAAAAAAAIAAANMdHJhawAAAFx0a2hkAAAAAwAAAAAAAAAAAAAAAQAAAAAAAA+g\n",
       "AAAAAAAAAAAAAAAAAAAAAAABAAAAAAAAAAAAAAAAAAAAAQAAAAAAAAAAAAAAAAAAQAAAAAKAAAAB\n",
       "4AAAAAAAJGVkdHMAAAAcZWxzdAAAAAAAAAABAAAPoAAAEAAAAQAAAAACxG1kaWEAAAAgbWRoZAAA\n",
       "AAAAAAAAAAAAAAAAKAAAAKAAVcQAAAAAAC1oZGxyAAAAAAAAAAB2aWRlAAAAAAAAAAAAAAAAVmlk\n",
       "ZW9IYW5kbGVyAAAAAm9taW5mAAAAFHZtaGQAAAABAAAAAAAAAAAAAAAkZGluZgAAABxkcmVmAAAA\n",
       "AAAAAAEAAAAMdXJsIAAAAAEAAAIvc3RibAAAALdzdHNkAAAAAAAAAAEAAACnYXZjMQAAAAAAAAAB\n",
       "AAAAAAAAAAAAAAAAAAAAAAKAAeAASAAAAEgAAAAAAAAAAQAAAAAAAAAAAAAAAAAAAAAAAAAAAAAA\n",
       "AAAAAAAAAAAAABj//wAAADVhdmNDAWQAFv/hABhnZAAWrNlAoD2hAAADAAEAAAMACg8WLZYBAAZo\n",
       "6+PLIsD9+PgAAAAAHHV1aWRraEDyXyRPxbo5pRvPAyPzAAAAAAAAABhzdHRzAAAAAAAAAAEAAAAU\n",
       "AAAIAAAAABRzdHNzAAAAAAAAAAEAAAABAAAAsGN0dHMAAAAAAAAAFAAAAAEAABAAAAAAAQAAGAAA\n",
       "AAABAAAIAAAAAAEAACgAAAAAAQAAEAAAAAABAAAAAAAAAAEAAAgAAAAAAQAAKAAAAAABAAAQAAAA\n",
       "AAEAAAAAAAAAAQAACAAAAAABAAAoAAAAAAEAABAAAAAAAQAAAAAAAAABAAAIAAAAAAEAACgAAAAA\n",
       "AQAAEAAAAAABAAAAAAAAAAEAAAgAAAAAAQAAEAAAAAAcc3RzYwAAAAAAAAABAAAAAQAAABQAAAAB\n",
       "AAAAZHN0c3oAAAAAAAAAAAAAABQAACq4AAAHuAAAB60AAAWYAAAEeQAABTwAAAMfAAAD0gAAAyEA\n",
       "AAKjAAACtAAAAioAAAIxAAACrwAAAd4AAAFZAAABEwAAAPYAAAB+AAAAdwAAABRzdGNvAAAAAAAA\n",
       "AAEAAAAwAAAAYnVkdGEAAABabWV0YQAAAAAAAAAhaGRscgAAAAAAAAAAbWRpcmFwcGwAAAAAAAAA\n",
       "AAAAAAAtaWxzdAAAACWpdG9vAAAAHWRhdGEAAAABAAAAAExhdmY1OC40NS4xMDA=\n",
       "\">\n",
       "  Your browser does not support the video tag.\n",
       "</video>"
      ],
      "text/plain": [
       "<IPython.core.display.HTML object>"
      ]
     },
     "execution_count": 12,
     "metadata": {},
     "output_type": "execute_result"
    }
   ],
   "source": [
    "fig = plt.figure()\n",
    "camera = Camera(fig)\n",
    "\n",
    "for i in reversed(range(buy_A_e.shape[0])):\n",
    "    x = [buy_A_e['token_A'][0], buy_A_e['token_B'][0]]\n",
    "    y = [buy_A_e['token_A'][i], buy_A_e['token_B'][i]]\n",
    "#     print(x)\n",
    "#     print(y)\n",
    "\n",
    "# Calculate the coefficients. This line answers the initial question. \n",
    "#     coefficients = np.polyfit(x, y, 1)\n",
    "#     plt.gca().invert_xaxis()\n",
    "    plt.plot(buy_A_e['token_A'],buy_A_e['token_B'], c = 'Blue')\n",
    "    plt.plot([x[0],y[0]],[x[1],y[1]])\n",
    "#     ax = plt.axes\n",
    "    plt.axis([20, 5, 600, 2000])\n",
    "#     plt.legend(t, [f'line {i}'])\n",
    "    \n",
    "\n",
    "\n",
    "    camera.snap()\n",
    "\n",
    "    \n",
    "animation = camera.animate()\n",
    "HTML(animation.to_html5_video())"
   ]
  },
  {
   "cell_type": "markdown",
   "id": "c1aff774",
   "metadata": {},
   "source": [
    "## Slippage"
   ]
  },
  {
   "cell_type": "code",
   "execution_count": 13,
   "id": "7f12e373",
   "metadata": {},
   "outputs": [
    {
     "data": {
      "application/vnd.plotly.v1+json": {
       "config": {
        "plotlyServerURL": "https://plot.ly"
       },
       "data": [
        {
         "hovertemplate": "x=%{x}<br>y=%{y}<extra></extra>",
         "legendgroup": "",
         "line": {
          "color": "#636efa",
          "dash": "solid"
         },
         "mode": "lines",
         "name": "",
         "orientation": "v",
         "showlegend": false,
         "type": "scatter",
         "x": [
          100,
          99,
          98,
          97,
          96,
          95,
          94,
          93,
          92,
          91,
          90,
          89,
          88,
          87,
          86,
          85,
          84,
          83,
          82,
          81,
          80,
          79,
          78,
          77,
          76,
          75,
          74,
          73,
          72,
          71,
          70,
          69,
          68,
          67,
          66,
          65,
          64,
          63,
          62,
          61,
          60,
          59,
          58,
          57,
          56,
          55,
          54,
          53,
          52,
          51,
          50,
          49,
          48,
          47,
          46,
          45,
          44,
          43,
          42,
          41,
          40,
          39,
          38,
          37,
          36,
          35,
          34,
          33,
          32,
          31,
          30,
          29,
          28,
          27,
          26,
          25,
          24,
          23,
          22,
          21,
          20,
          19,
          18,
          17,
          16,
          15,
          14,
          13,
          12,
          11,
          10,
          9,
          8,
          7,
          6,
          5,
          4,
          3,
          2,
          1
         ],
         "xaxis": "x",
         "y": [
          100,
          101.01010101010101,
          102.0408163265306,
          103.09278350515464,
          104.16666666666669,
          105.26315789473686,
          106.38297872340425,
          107.5268817204301,
          108.69565217391307,
          109.89010989010991,
          111.1111111111111,
          112.35955056179779,
          113.63636363636363,
          114.94252873563217,
          116.27906976744187,
          117.6470588235294,
          119.04761904761908,
          120.48192771084337,
          121.95121951219511,
          123.45679012345678,
          124.99999999999997,
          126.58227848101268,
          128.20512820512818,
          129.87012987012983,
          131.578947368421,
          133.33333333333331,
          135.13513513513513,
          136.98630136986304,
          138.88888888888889,
          140.8450704225352,
          142.85714285714286,
          144.92753623188406,
          147.05882352941177,
          149.25373134328356,
          151.51515151515147,
          153.84615384615387,
          156.25,
          158.73015873015873,
          161.29032258064515,
          163.9344262295082,
          166.66666666666666,
          169.4915254237288,
          172.41379310344826,
          175.43859649122805,
          178.57142857142856,
          181.81818181818184,
          185.18518518518516,
          188.6792452830189,
          192.30769230769232,
          196.07843137254898,
          199.99999999999997,
          204.08163265306123,
          208.33333333333337,
          212.7659574468085,
          217.3913043478261,
          222.2222222222222,
          227.27272727272725,
          232.55813953488374,
          238.09523809523807,
          243.90243902439028,
          250,
          256.41025641025635,
          263.1578947368422,
          270.2702702702703,
          277.7777777777778,
          285.7142857142858,
          294.11764705882354,
          303.03030303030306,
          312.4999999999999,
          322.5806451612904,
          333.3333333333333,
          344.8275862068966,
          357.1428571428571,
          370.3703703703703,
          384.6153846153847,
          400,
          416.66666666666674,
          434.7826086956523,
          454.5454545454545,
          476.1904761904763,
          499.9999999999999,
          526.315789473684,
          555.5555555555555,
          588.2352941176471,
          625,
          666.6666666666666,
          714.2857142857142,
          769.2307692307693,
          833.3333333333335,
          909.090909090909,
          1000,
          1111.1111111111113,
          1249.9999999999995,
          1428.5714285714284,
          1666.666666666667,
          1999.9999999999995,
          2500,
          3333.333333333334,
          4999.999999999998,
          10000
         ],
         "yaxis": "y"
        },
        {
         "type": "scatter",
         "x": [
          10,
          5,
          5,
          10
         ],
         "y": [
          1000,
          2000,
          1000,
          1000
         ]
        },
        {
         "marker": {
          "color": "Orange",
          "size": 5
         },
         "mode": "lines",
         "type": "scatter",
         "x": [
          0,
          5,
          10,
          20
         ],
         "y": [
          2000,
          1500,
          1000,
          0
         ]
        },
        {
         "line": {
          "color": "#31a354",
          "width": 3
         },
         "marker": {
          "color": "#31a354",
          "size": 5
         },
         "mode": "markers+lines",
         "type": "scatter",
         "x": [
          5,
          5
         ],
         "y": [
          1000,
          1500
         ]
        },
        {
         "line": {
          "color": "#8856a7",
          "width": 3
         },
         "marker": {
          "color": "#8856a7",
          "size": 5
         },
         "mode": "markers+lines",
         "type": "scatter",
         "x": [
          5,
          5
         ],
         "y": [
          2000,
          1500
         ]
        }
       ],
       "layout": {
        "legend": {
         "tracegroupgap": 0
        },
        "margin": {
         "t": 60
        },
        "showlegend": false,
        "template": {
         "data": {
          "bar": [
           {
            "error_x": {
             "color": "#2a3f5f"
            },
            "error_y": {
             "color": "#2a3f5f"
            },
            "marker": {
             "line": {
              "color": "#E5ECF6",
              "width": 0.5
             }
            },
            "type": "bar"
           }
          ],
          "barpolar": [
           {
            "marker": {
             "line": {
              "color": "#E5ECF6",
              "width": 0.5
             }
            },
            "type": "barpolar"
           }
          ],
          "carpet": [
           {
            "aaxis": {
             "endlinecolor": "#2a3f5f",
             "gridcolor": "white",
             "linecolor": "white",
             "minorgridcolor": "white",
             "startlinecolor": "#2a3f5f"
            },
            "baxis": {
             "endlinecolor": "#2a3f5f",
             "gridcolor": "white",
             "linecolor": "white",
             "minorgridcolor": "white",
             "startlinecolor": "#2a3f5f"
            },
            "type": "carpet"
           }
          ],
          "choropleth": [
           {
            "colorbar": {
             "outlinewidth": 0,
             "ticks": ""
            },
            "type": "choropleth"
           }
          ],
          "contour": [
           {
            "colorbar": {
             "outlinewidth": 0,
             "ticks": ""
            },
            "colorscale": [
             [
              0,
              "#0d0887"
             ],
             [
              0.1111111111111111,
              "#46039f"
             ],
             [
              0.2222222222222222,
              "#7201a8"
             ],
             [
              0.3333333333333333,
              "#9c179e"
             ],
             [
              0.4444444444444444,
              "#bd3786"
             ],
             [
              0.5555555555555556,
              "#d8576b"
             ],
             [
              0.6666666666666666,
              "#ed7953"
             ],
             [
              0.7777777777777778,
              "#fb9f3a"
             ],
             [
              0.8888888888888888,
              "#fdca26"
             ],
             [
              1,
              "#f0f921"
             ]
            ],
            "type": "contour"
           }
          ],
          "contourcarpet": [
           {
            "colorbar": {
             "outlinewidth": 0,
             "ticks": ""
            },
            "type": "contourcarpet"
           }
          ],
          "heatmap": [
           {
            "colorbar": {
             "outlinewidth": 0,
             "ticks": ""
            },
            "colorscale": [
             [
              0,
              "#0d0887"
             ],
             [
              0.1111111111111111,
              "#46039f"
             ],
             [
              0.2222222222222222,
              "#7201a8"
             ],
             [
              0.3333333333333333,
              "#9c179e"
             ],
             [
              0.4444444444444444,
              "#bd3786"
             ],
             [
              0.5555555555555556,
              "#d8576b"
             ],
             [
              0.6666666666666666,
              "#ed7953"
             ],
             [
              0.7777777777777778,
              "#fb9f3a"
             ],
             [
              0.8888888888888888,
              "#fdca26"
             ],
             [
              1,
              "#f0f921"
             ]
            ],
            "type": "heatmap"
           }
          ],
          "heatmapgl": [
           {
            "colorbar": {
             "outlinewidth": 0,
             "ticks": ""
            },
            "colorscale": [
             [
              0,
              "#0d0887"
             ],
             [
              0.1111111111111111,
              "#46039f"
             ],
             [
              0.2222222222222222,
              "#7201a8"
             ],
             [
              0.3333333333333333,
              "#9c179e"
             ],
             [
              0.4444444444444444,
              "#bd3786"
             ],
             [
              0.5555555555555556,
              "#d8576b"
             ],
             [
              0.6666666666666666,
              "#ed7953"
             ],
             [
              0.7777777777777778,
              "#fb9f3a"
             ],
             [
              0.8888888888888888,
              "#fdca26"
             ],
             [
              1,
              "#f0f921"
             ]
            ],
            "type": "heatmapgl"
           }
          ],
          "histogram": [
           {
            "marker": {
             "colorbar": {
              "outlinewidth": 0,
              "ticks": ""
             }
            },
            "type": "histogram"
           }
          ],
          "histogram2d": [
           {
            "colorbar": {
             "outlinewidth": 0,
             "ticks": ""
            },
            "colorscale": [
             [
              0,
              "#0d0887"
             ],
             [
              0.1111111111111111,
              "#46039f"
             ],
             [
              0.2222222222222222,
              "#7201a8"
             ],
             [
              0.3333333333333333,
              "#9c179e"
             ],
             [
              0.4444444444444444,
              "#bd3786"
             ],
             [
              0.5555555555555556,
              "#d8576b"
             ],
             [
              0.6666666666666666,
              "#ed7953"
             ],
             [
              0.7777777777777778,
              "#fb9f3a"
             ],
             [
              0.8888888888888888,
              "#fdca26"
             ],
             [
              1,
              "#f0f921"
             ]
            ],
            "type": "histogram2d"
           }
          ],
          "histogram2dcontour": [
           {
            "colorbar": {
             "outlinewidth": 0,
             "ticks": ""
            },
            "colorscale": [
             [
              0,
              "#0d0887"
             ],
             [
              0.1111111111111111,
              "#46039f"
             ],
             [
              0.2222222222222222,
              "#7201a8"
             ],
             [
              0.3333333333333333,
              "#9c179e"
             ],
             [
              0.4444444444444444,
              "#bd3786"
             ],
             [
              0.5555555555555556,
              "#d8576b"
             ],
             [
              0.6666666666666666,
              "#ed7953"
             ],
             [
              0.7777777777777778,
              "#fb9f3a"
             ],
             [
              0.8888888888888888,
              "#fdca26"
             ],
             [
              1,
              "#f0f921"
             ]
            ],
            "type": "histogram2dcontour"
           }
          ],
          "mesh3d": [
           {
            "colorbar": {
             "outlinewidth": 0,
             "ticks": ""
            },
            "type": "mesh3d"
           }
          ],
          "parcoords": [
           {
            "line": {
             "colorbar": {
              "outlinewidth": 0,
              "ticks": ""
             }
            },
            "type": "parcoords"
           }
          ],
          "pie": [
           {
            "automargin": true,
            "type": "pie"
           }
          ],
          "scatter": [
           {
            "marker": {
             "colorbar": {
              "outlinewidth": 0,
              "ticks": ""
             }
            },
            "type": "scatter"
           }
          ],
          "scatter3d": [
           {
            "line": {
             "colorbar": {
              "outlinewidth": 0,
              "ticks": ""
             }
            },
            "marker": {
             "colorbar": {
              "outlinewidth": 0,
              "ticks": ""
             }
            },
            "type": "scatter3d"
           }
          ],
          "scattercarpet": [
           {
            "marker": {
             "colorbar": {
              "outlinewidth": 0,
              "ticks": ""
             }
            },
            "type": "scattercarpet"
           }
          ],
          "scattergeo": [
           {
            "marker": {
             "colorbar": {
              "outlinewidth": 0,
              "ticks": ""
             }
            },
            "type": "scattergeo"
           }
          ],
          "scattergl": [
           {
            "marker": {
             "colorbar": {
              "outlinewidth": 0,
              "ticks": ""
             }
            },
            "type": "scattergl"
           }
          ],
          "scattermapbox": [
           {
            "marker": {
             "colorbar": {
              "outlinewidth": 0,
              "ticks": ""
             }
            },
            "type": "scattermapbox"
           }
          ],
          "scatterpolar": [
           {
            "marker": {
             "colorbar": {
              "outlinewidth": 0,
              "ticks": ""
             }
            },
            "type": "scatterpolar"
           }
          ],
          "scatterpolargl": [
           {
            "marker": {
             "colorbar": {
              "outlinewidth": 0,
              "ticks": ""
             }
            },
            "type": "scatterpolargl"
           }
          ],
          "scatterternary": [
           {
            "marker": {
             "colorbar": {
              "outlinewidth": 0,
              "ticks": ""
             }
            },
            "type": "scatterternary"
           }
          ],
          "surface": [
           {
            "colorbar": {
             "outlinewidth": 0,
             "ticks": ""
            },
            "colorscale": [
             [
              0,
              "#0d0887"
             ],
             [
              0.1111111111111111,
              "#46039f"
             ],
             [
              0.2222222222222222,
              "#7201a8"
             ],
             [
              0.3333333333333333,
              "#9c179e"
             ],
             [
              0.4444444444444444,
              "#bd3786"
             ],
             [
              0.5555555555555556,
              "#d8576b"
             ],
             [
              0.6666666666666666,
              "#ed7953"
             ],
             [
              0.7777777777777778,
              "#fb9f3a"
             ],
             [
              0.8888888888888888,
              "#fdca26"
             ],
             [
              1,
              "#f0f921"
             ]
            ],
            "type": "surface"
           }
          ],
          "table": [
           {
            "cells": {
             "fill": {
              "color": "#EBF0F8"
             },
             "line": {
              "color": "white"
             }
            },
            "header": {
             "fill": {
              "color": "#C8D4E3"
             },
             "line": {
              "color": "white"
             }
            },
            "type": "table"
           }
          ]
         },
         "layout": {
          "annotationdefaults": {
           "arrowcolor": "#2a3f5f",
           "arrowhead": 0,
           "arrowwidth": 1
          },
          "coloraxis": {
           "colorbar": {
            "outlinewidth": 0,
            "ticks": ""
           }
          },
          "colorscale": {
           "diverging": [
            [
             0,
             "#8e0152"
            ],
            [
             0.1,
             "#c51b7d"
            ],
            [
             0.2,
             "#de77ae"
            ],
            [
             0.3,
             "#f1b6da"
            ],
            [
             0.4,
             "#fde0ef"
            ],
            [
             0.5,
             "#f7f7f7"
            ],
            [
             0.6,
             "#e6f5d0"
            ],
            [
             0.7,
             "#b8e186"
            ],
            [
             0.8,
             "#7fbc41"
            ],
            [
             0.9,
             "#4d9221"
            ],
            [
             1,
             "#276419"
            ]
           ],
           "sequential": [
            [
             0,
             "#0d0887"
            ],
            [
             0.1111111111111111,
             "#46039f"
            ],
            [
             0.2222222222222222,
             "#7201a8"
            ],
            [
             0.3333333333333333,
             "#9c179e"
            ],
            [
             0.4444444444444444,
             "#bd3786"
            ],
            [
             0.5555555555555556,
             "#d8576b"
            ],
            [
             0.6666666666666666,
             "#ed7953"
            ],
            [
             0.7777777777777778,
             "#fb9f3a"
            ],
            [
             0.8888888888888888,
             "#fdca26"
            ],
            [
             1,
             "#f0f921"
            ]
           ],
           "sequentialminus": [
            [
             0,
             "#0d0887"
            ],
            [
             0.1111111111111111,
             "#46039f"
            ],
            [
             0.2222222222222222,
             "#7201a8"
            ],
            [
             0.3333333333333333,
             "#9c179e"
            ],
            [
             0.4444444444444444,
             "#bd3786"
            ],
            [
             0.5555555555555556,
             "#d8576b"
            ],
            [
             0.6666666666666666,
             "#ed7953"
            ],
            [
             0.7777777777777778,
             "#fb9f3a"
            ],
            [
             0.8888888888888888,
             "#fdca26"
            ],
            [
             1,
             "#f0f921"
            ]
           ]
          },
          "colorway": [
           "#636efa",
           "#EF553B",
           "#00cc96",
           "#ab63fa",
           "#FFA15A",
           "#19d3f3",
           "#FF6692",
           "#B6E880",
           "#FF97FF",
           "#FECB52"
          ],
          "font": {
           "color": "#2a3f5f"
          },
          "geo": {
           "bgcolor": "white",
           "lakecolor": "white",
           "landcolor": "#E5ECF6",
           "showlakes": true,
           "showland": true,
           "subunitcolor": "white"
          },
          "hoverlabel": {
           "align": "left"
          },
          "hovermode": "closest",
          "mapbox": {
           "style": "light"
          },
          "paper_bgcolor": "white",
          "plot_bgcolor": "#E5ECF6",
          "polar": {
           "angularaxis": {
            "gridcolor": "white",
            "linecolor": "white",
            "ticks": ""
           },
           "bgcolor": "#E5ECF6",
           "radialaxis": {
            "gridcolor": "white",
            "linecolor": "white",
            "ticks": ""
           }
          },
          "scene": {
           "xaxis": {
            "backgroundcolor": "#E5ECF6",
            "gridcolor": "white",
            "gridwidth": 2,
            "linecolor": "white",
            "showbackground": true,
            "ticks": "",
            "zerolinecolor": "white"
           },
           "yaxis": {
            "backgroundcolor": "#E5ECF6",
            "gridcolor": "white",
            "gridwidth": 2,
            "linecolor": "white",
            "showbackground": true,
            "ticks": "",
            "zerolinecolor": "white"
           },
           "zaxis": {
            "backgroundcolor": "#E5ECF6",
            "gridcolor": "white",
            "gridwidth": 2,
            "linecolor": "white",
            "showbackground": true,
            "ticks": "",
            "zerolinecolor": "white"
           }
          },
          "shapedefaults": {
           "line": {
            "color": "#2a3f5f"
           }
          },
          "ternary": {
           "aaxis": {
            "gridcolor": "white",
            "linecolor": "white",
            "ticks": ""
           },
           "baxis": {
            "gridcolor": "white",
            "linecolor": "white",
            "ticks": ""
           },
           "bgcolor": "#E5ECF6",
           "caxis": {
            "gridcolor": "white",
            "linecolor": "white",
            "ticks": ""
           }
          },
          "title": {
           "x": 0.05
          },
          "xaxis": {
           "automargin": true,
           "gridcolor": "white",
           "linecolor": "white",
           "ticks": "",
           "title": {
            "standoff": 15
           },
           "zerolinecolor": "white",
           "zerolinewidth": 2
          },
          "yaxis": {
           "automargin": true,
           "gridcolor": "white",
           "linecolor": "white",
           "ticks": "",
           "title": {
            "standoff": 15
           },
           "zerolinecolor": "white",
           "zerolinewidth": 2
          }
         }
        },
        "xaxis": {
         "anchor": "y",
         "domain": [
          0,
          1
         ],
         "range": [
          100,
          0
         ],
         "title": {
          "text": "token_A"
         }
        },
        "yaxis": {
         "anchor": "x",
         "domain": [
          0,
          1
         ],
         "title": {
          "text": "token_B"
         }
        }
       }
      },
      "text/html": [
       "<div>                            <div id=\"72c93a18-377c-4b04-ae06-9753fab3f3d0\" class=\"plotly-graph-div\" style=\"height:525px; width:100%;\"></div>            <script type=\"text/javascript\">                require([\"plotly\"], function(Plotly) {                    window.PLOTLYENV=window.PLOTLYENV || {};                                    if (document.getElementById(\"72c93a18-377c-4b04-ae06-9753fab3f3d0\")) {                    Plotly.newPlot(                        \"72c93a18-377c-4b04-ae06-9753fab3f3d0\",                        [{\"hovertemplate\": \"x=%{x}<br>y=%{y}<extra></extra>\", \"legendgroup\": \"\", \"line\": {\"color\": \"#636efa\", \"dash\": \"solid\"}, \"mode\": \"lines\", \"name\": \"\", \"orientation\": \"v\", \"showlegend\": false, \"type\": \"scatter\", \"x\": [100, 99, 98, 97, 96, 95, 94, 93, 92, 91, 90, 89, 88, 87, 86, 85, 84, 83, 82, 81, 80, 79, 78, 77, 76, 75, 74, 73, 72, 71, 70, 69, 68, 67, 66, 65, 64, 63, 62, 61, 60, 59, 58, 57, 56, 55, 54, 53, 52, 51, 50, 49, 48, 47, 46, 45, 44, 43, 42, 41, 40, 39, 38, 37, 36, 35, 34, 33, 32, 31, 30, 29, 28, 27, 26, 25, 24, 23, 22, 21, 20, 19, 18, 17, 16, 15, 14, 13, 12, 11, 10, 9, 8, 7, 6, 5, 4, 3, 2, 1], \"xaxis\": \"x\", \"y\": [100.0, 101.01010101010101, 102.0408163265306, 103.09278350515464, 104.16666666666669, 105.26315789473686, 106.38297872340425, 107.5268817204301, 108.69565217391307, 109.89010989010991, 111.1111111111111, 112.35955056179779, 113.63636363636363, 114.94252873563217, 116.27906976744187, 117.6470588235294, 119.04761904761908, 120.48192771084337, 121.95121951219511, 123.45679012345678, 124.99999999999997, 126.58227848101268, 128.20512820512818, 129.87012987012983, 131.578947368421, 133.33333333333331, 135.13513513513513, 136.98630136986304, 138.88888888888889, 140.8450704225352, 142.85714285714286, 144.92753623188406, 147.05882352941177, 149.25373134328356, 151.51515151515147, 153.84615384615387, 156.25, 158.73015873015873, 161.29032258064515, 163.9344262295082, 166.66666666666666, 169.4915254237288, 172.41379310344826, 175.43859649122805, 178.57142857142856, 181.81818181818184, 185.18518518518516, 188.6792452830189, 192.30769230769232, 196.07843137254898, 199.99999999999997, 204.08163265306123, 208.33333333333337, 212.7659574468085, 217.3913043478261, 222.2222222222222, 227.27272727272725, 232.55813953488374, 238.09523809523807, 243.90243902439028, 250.0, 256.41025641025635, 263.1578947368422, 270.2702702702703, 277.7777777777778, 285.7142857142858, 294.11764705882354, 303.03030303030306, 312.4999999999999, 322.5806451612904, 333.3333333333333, 344.8275862068966, 357.1428571428571, 370.3703703703703, 384.6153846153847, 400.0, 416.66666666666674, 434.7826086956523, 454.5454545454545, 476.1904761904763, 499.9999999999999, 526.315789473684, 555.5555555555555, 588.2352941176471, 625.0, 666.6666666666666, 714.2857142857142, 769.2307692307693, 833.3333333333335, 909.090909090909, 1000.0, 1111.1111111111113, 1249.9999999999995, 1428.5714285714284, 1666.666666666667, 1999.9999999999995, 2500.0, 3333.333333333334, 4999.999999999998, 10000.0], \"yaxis\": \"y\"}, {\"type\": \"scatter\", \"x\": [10, 5, 5, 10], \"y\": [1000, 2000, 1000, 1000]}, {\"marker\": {\"color\": \"Orange\", \"size\": 5}, \"mode\": \"lines\", \"type\": \"scatter\", \"x\": [0, 5, 10, 20], \"y\": [2000, 1500, 1000, 0]}, {\"line\": {\"color\": \"#31a354\", \"width\": 3}, \"marker\": {\"color\": \"#31a354\", \"size\": 5}, \"mode\": \"markers+lines\", \"type\": \"scatter\", \"x\": [5, 5], \"y\": [1000, 1500]}, {\"line\": {\"color\": \"#8856a7\", \"width\": 3}, \"marker\": {\"color\": \"#8856a7\", \"size\": 5}, \"mode\": \"markers+lines\", \"type\": \"scatter\", \"x\": [5, 5], \"y\": [2000, 1500]}],                        {\"legend\": {\"tracegroupgap\": 0}, \"margin\": {\"t\": 60}, \"showlegend\": false, \"template\": {\"data\": {\"bar\": [{\"error_x\": {\"color\": \"#2a3f5f\"}, \"error_y\": {\"color\": \"#2a3f5f\"}, \"marker\": {\"line\": {\"color\": \"#E5ECF6\", \"width\": 0.5}}, \"type\": \"bar\"}], \"barpolar\": [{\"marker\": {\"line\": {\"color\": \"#E5ECF6\", \"width\": 0.5}}, \"type\": \"barpolar\"}], \"carpet\": [{\"aaxis\": {\"endlinecolor\": \"#2a3f5f\", \"gridcolor\": \"white\", \"linecolor\": \"white\", \"minorgridcolor\": \"white\", \"startlinecolor\": \"#2a3f5f\"}, \"baxis\": {\"endlinecolor\": \"#2a3f5f\", \"gridcolor\": \"white\", \"linecolor\": \"white\", \"minorgridcolor\": \"white\", \"startlinecolor\": \"#2a3f5f\"}, \"type\": \"carpet\"}], \"choropleth\": [{\"colorbar\": {\"outlinewidth\": 0, \"ticks\": \"\"}, \"type\": \"choropleth\"}], \"contour\": [{\"colorbar\": {\"outlinewidth\": 0, \"ticks\": \"\"}, \"colorscale\": [[0.0, \"#0d0887\"], [0.1111111111111111, \"#46039f\"], [0.2222222222222222, \"#7201a8\"], [0.3333333333333333, \"#9c179e\"], [0.4444444444444444, \"#bd3786\"], [0.5555555555555556, \"#d8576b\"], [0.6666666666666666, \"#ed7953\"], [0.7777777777777778, \"#fb9f3a\"], [0.8888888888888888, \"#fdca26\"], [1.0, \"#f0f921\"]], \"type\": \"contour\"}], \"contourcarpet\": [{\"colorbar\": {\"outlinewidth\": 0, \"ticks\": \"\"}, \"type\": \"contourcarpet\"}], \"heatmap\": [{\"colorbar\": {\"outlinewidth\": 0, \"ticks\": \"\"}, \"colorscale\": [[0.0, \"#0d0887\"], [0.1111111111111111, \"#46039f\"], [0.2222222222222222, \"#7201a8\"], [0.3333333333333333, \"#9c179e\"], [0.4444444444444444, \"#bd3786\"], [0.5555555555555556, \"#d8576b\"], [0.6666666666666666, \"#ed7953\"], [0.7777777777777778, \"#fb9f3a\"], [0.8888888888888888, \"#fdca26\"], [1.0, \"#f0f921\"]], \"type\": \"heatmap\"}], \"heatmapgl\": [{\"colorbar\": {\"outlinewidth\": 0, \"ticks\": \"\"}, \"colorscale\": [[0.0, \"#0d0887\"], [0.1111111111111111, \"#46039f\"], [0.2222222222222222, \"#7201a8\"], [0.3333333333333333, \"#9c179e\"], [0.4444444444444444, \"#bd3786\"], [0.5555555555555556, \"#d8576b\"], [0.6666666666666666, \"#ed7953\"], [0.7777777777777778, \"#fb9f3a\"], [0.8888888888888888, \"#fdca26\"], [1.0, \"#f0f921\"]], \"type\": \"heatmapgl\"}], \"histogram\": [{\"marker\": {\"colorbar\": {\"outlinewidth\": 0, \"ticks\": \"\"}}, \"type\": \"histogram\"}], \"histogram2d\": [{\"colorbar\": {\"outlinewidth\": 0, \"ticks\": \"\"}, \"colorscale\": [[0.0, \"#0d0887\"], [0.1111111111111111, \"#46039f\"], [0.2222222222222222, \"#7201a8\"], [0.3333333333333333, \"#9c179e\"], [0.4444444444444444, \"#bd3786\"], [0.5555555555555556, \"#d8576b\"], [0.6666666666666666, \"#ed7953\"], [0.7777777777777778, \"#fb9f3a\"], [0.8888888888888888, \"#fdca26\"], [1.0, \"#f0f921\"]], \"type\": \"histogram2d\"}], \"histogram2dcontour\": [{\"colorbar\": {\"outlinewidth\": 0, \"ticks\": \"\"}, \"colorscale\": [[0.0, \"#0d0887\"], [0.1111111111111111, \"#46039f\"], [0.2222222222222222, \"#7201a8\"], [0.3333333333333333, \"#9c179e\"], [0.4444444444444444, \"#bd3786\"], [0.5555555555555556, \"#d8576b\"], [0.6666666666666666, \"#ed7953\"], [0.7777777777777778, \"#fb9f3a\"], [0.8888888888888888, \"#fdca26\"], [1.0, \"#f0f921\"]], \"type\": \"histogram2dcontour\"}], \"mesh3d\": [{\"colorbar\": {\"outlinewidth\": 0, \"ticks\": \"\"}, \"type\": \"mesh3d\"}], \"parcoords\": [{\"line\": {\"colorbar\": {\"outlinewidth\": 0, \"ticks\": \"\"}}, \"type\": \"parcoords\"}], \"pie\": [{\"automargin\": true, \"type\": \"pie\"}], \"scatter\": [{\"marker\": {\"colorbar\": {\"outlinewidth\": 0, \"ticks\": \"\"}}, \"type\": \"scatter\"}], \"scatter3d\": [{\"line\": {\"colorbar\": {\"outlinewidth\": 0, \"ticks\": \"\"}}, \"marker\": {\"colorbar\": {\"outlinewidth\": 0, \"ticks\": \"\"}}, \"type\": \"scatter3d\"}], \"scattercarpet\": [{\"marker\": {\"colorbar\": {\"outlinewidth\": 0, \"ticks\": \"\"}}, \"type\": \"scattercarpet\"}], \"scattergeo\": [{\"marker\": {\"colorbar\": {\"outlinewidth\": 0, \"ticks\": \"\"}}, \"type\": \"scattergeo\"}], \"scattergl\": [{\"marker\": {\"colorbar\": {\"outlinewidth\": 0, \"ticks\": \"\"}}, \"type\": \"scattergl\"}], \"scattermapbox\": [{\"marker\": {\"colorbar\": {\"outlinewidth\": 0, \"ticks\": \"\"}}, \"type\": \"scattermapbox\"}], \"scatterpolar\": [{\"marker\": {\"colorbar\": {\"outlinewidth\": 0, \"ticks\": \"\"}}, \"type\": \"scatterpolar\"}], \"scatterpolargl\": [{\"marker\": {\"colorbar\": {\"outlinewidth\": 0, \"ticks\": \"\"}}, \"type\": \"scatterpolargl\"}], \"scatterternary\": [{\"marker\": {\"colorbar\": {\"outlinewidth\": 0, \"ticks\": \"\"}}, \"type\": \"scatterternary\"}], \"surface\": [{\"colorbar\": {\"outlinewidth\": 0, \"ticks\": \"\"}, \"colorscale\": [[0.0, \"#0d0887\"], [0.1111111111111111, \"#46039f\"], [0.2222222222222222, \"#7201a8\"], [0.3333333333333333, \"#9c179e\"], [0.4444444444444444, \"#bd3786\"], [0.5555555555555556, \"#d8576b\"], [0.6666666666666666, \"#ed7953\"], [0.7777777777777778, \"#fb9f3a\"], [0.8888888888888888, \"#fdca26\"], [1.0, \"#f0f921\"]], \"type\": \"surface\"}], \"table\": [{\"cells\": {\"fill\": {\"color\": \"#EBF0F8\"}, \"line\": {\"color\": \"white\"}}, \"header\": {\"fill\": {\"color\": \"#C8D4E3\"}, \"line\": {\"color\": \"white\"}}, \"type\": \"table\"}]}, \"layout\": {\"annotationdefaults\": {\"arrowcolor\": \"#2a3f5f\", \"arrowhead\": 0, \"arrowwidth\": 1}, \"coloraxis\": {\"colorbar\": {\"outlinewidth\": 0, \"ticks\": \"\"}}, \"colorscale\": {\"diverging\": [[0, \"#8e0152\"], [0.1, \"#c51b7d\"], [0.2, \"#de77ae\"], [0.3, \"#f1b6da\"], [0.4, \"#fde0ef\"], [0.5, \"#f7f7f7\"], [0.6, \"#e6f5d0\"], [0.7, \"#b8e186\"], [0.8, \"#7fbc41\"], [0.9, \"#4d9221\"], [1, \"#276419\"]], \"sequential\": [[0.0, \"#0d0887\"], [0.1111111111111111, \"#46039f\"], [0.2222222222222222, \"#7201a8\"], [0.3333333333333333, \"#9c179e\"], [0.4444444444444444, \"#bd3786\"], [0.5555555555555556, \"#d8576b\"], [0.6666666666666666, \"#ed7953\"], [0.7777777777777778, \"#fb9f3a\"], [0.8888888888888888, \"#fdca26\"], [1.0, \"#f0f921\"]], \"sequentialminus\": [[0.0, \"#0d0887\"], [0.1111111111111111, \"#46039f\"], [0.2222222222222222, \"#7201a8\"], [0.3333333333333333, \"#9c179e\"], [0.4444444444444444, \"#bd3786\"], [0.5555555555555556, \"#d8576b\"], [0.6666666666666666, \"#ed7953\"], [0.7777777777777778, \"#fb9f3a\"], [0.8888888888888888, \"#fdca26\"], [1.0, \"#f0f921\"]]}, \"colorway\": [\"#636efa\", \"#EF553B\", \"#00cc96\", \"#ab63fa\", \"#FFA15A\", \"#19d3f3\", \"#FF6692\", \"#B6E880\", \"#FF97FF\", \"#FECB52\"], \"font\": {\"color\": \"#2a3f5f\"}, \"geo\": {\"bgcolor\": \"white\", \"lakecolor\": \"white\", \"landcolor\": \"#E5ECF6\", \"showlakes\": true, \"showland\": true, \"subunitcolor\": \"white\"}, \"hoverlabel\": {\"align\": \"left\"}, \"hovermode\": \"closest\", \"mapbox\": {\"style\": \"light\"}, \"paper_bgcolor\": \"white\", \"plot_bgcolor\": \"#E5ECF6\", \"polar\": {\"angularaxis\": {\"gridcolor\": \"white\", \"linecolor\": \"white\", \"ticks\": \"\"}, \"bgcolor\": \"#E5ECF6\", \"radialaxis\": {\"gridcolor\": \"white\", \"linecolor\": \"white\", \"ticks\": \"\"}}, \"scene\": {\"xaxis\": {\"backgroundcolor\": \"#E5ECF6\", \"gridcolor\": \"white\", \"gridwidth\": 2, \"linecolor\": \"white\", \"showbackground\": true, \"ticks\": \"\", \"zerolinecolor\": \"white\"}, \"yaxis\": {\"backgroundcolor\": \"#E5ECF6\", \"gridcolor\": \"white\", \"gridwidth\": 2, \"linecolor\": \"white\", \"showbackground\": true, \"ticks\": \"\", \"zerolinecolor\": \"white\"}, \"zaxis\": {\"backgroundcolor\": \"#E5ECF6\", \"gridcolor\": \"white\", \"gridwidth\": 2, \"linecolor\": \"white\", \"showbackground\": true, \"ticks\": \"\", \"zerolinecolor\": \"white\"}}, \"shapedefaults\": {\"line\": {\"color\": \"#2a3f5f\"}}, \"ternary\": {\"aaxis\": {\"gridcolor\": \"white\", \"linecolor\": \"white\", \"ticks\": \"\"}, \"baxis\": {\"gridcolor\": \"white\", \"linecolor\": \"white\", \"ticks\": \"\"}, \"bgcolor\": \"#E5ECF6\", \"caxis\": {\"gridcolor\": \"white\", \"linecolor\": \"white\", \"ticks\": \"\"}}, \"title\": {\"x\": 0.05}, \"xaxis\": {\"automargin\": true, \"gridcolor\": \"white\", \"linecolor\": \"white\", \"ticks\": \"\", \"title\": {\"standoff\": 15}, \"zerolinecolor\": \"white\", \"zerolinewidth\": 2}, \"yaxis\": {\"automargin\": true, \"gridcolor\": \"white\", \"linecolor\": \"white\", \"ticks\": \"\", \"title\": {\"standoff\": 15}, \"zerolinecolor\": \"white\", \"zerolinewidth\": 2}}}, \"xaxis\": {\"anchor\": \"y\", \"domain\": [0.0, 1.0], \"range\": [100, 0], \"title\": {\"text\": \"token_A\"}}, \"yaxis\": {\"anchor\": \"x\", \"domain\": [0.0, 1.0], \"title\": {\"text\": \"token_B\"}}},                        {\"responsive\": true}                    ).then(function(){\n",
       "                            \n",
       "var gd = document.getElementById('72c93a18-377c-4b04-ae06-9753fab3f3d0');\n",
       "var x = new MutationObserver(function (mutations, observer) {{\n",
       "        var display = window.getComputedStyle(gd).display;\n",
       "        if (!display || display === 'none') {{\n",
       "            console.log([gd, 'removed!']);\n",
       "            Plotly.purge(gd);\n",
       "            observer.disconnect();\n",
       "        }}\n",
       "}});\n",
       "\n",
       "// Listen for the removal of the full notebook cells\n",
       "var notebookContainer = gd.closest('#notebook-container');\n",
       "if (notebookContainer) {{\n",
       "    x.observe(notebookContainer, {childList: true});\n",
       "}}\n",
       "\n",
       "// Listen for the clearing of the current output cell\n",
       "var outputEl = gd.closest('.output');\n",
       "if (outputEl) {{\n",
       "    x.observe(outputEl, {childList: true});\n",
       "}}\n",
       "\n",
       "                        })                };                });            </script>        </div>"
      ]
     },
     "metadata": {},
     "output_type": "display_data"
    }
   ],
   "source": [
    "fig = px.line(x=buy_A[\"token_A\"], y=buy_A[\"token_B\"])\n",
    "\n",
    "fig.update_xaxes(range = [100,0],\n",
    "                 title_text='token_A')\n",
    "fig.update_yaxes(\n",
    "                 title_text='token_B')\n",
    "\n",
    "\n",
    "fig.add_trace(go.Scatter(x=[10,5,5,10], y=[1000,2000,1000,1000], ))\n",
    "\n",
    "fig.add_trace(go.Scatter(mode='lines',\n",
    "    x=[0,5,10,20],\n",
    "    y=[2000,1500,1000,0],\n",
    "    marker=dict(color=\"Orange\", size=5),\n",
    "))\n",
    "# fig.add_trace(go.Scatter(mode='markers',\n",
    "#     x=[10],\n",
    "#     y=[1000],\n",
    "#     marker=dict(color=\"Orange\", size=5),\n",
    "# ))\n",
    "fig.add_trace(go.Scatter(mode='markers+lines',\n",
    "    x=[5,5],\n",
    "    y=[1000,1500],\n",
    "    marker=dict(color=\"#31a354\", size=5),\n",
    "    line=dict(color=\"#31a354\", width=3)\n",
    "                        ))\n",
    "fig.add_trace(go.Scatter(mode='markers+lines',\n",
    "    x=[5,5],\n",
    "    y=[2000,1500],\n",
    "    marker=dict(color=\"#8856a7\", size=5),\n",
    "    line=dict(color=\"#8856a7\", width=3)\n",
    "                        ))\n",
    "\n",
    "fig.update_layout(showlegend=False)\n",
    "fig.show()"
   ]
  },
  {
   "cell_type": "markdown",
   "id": "b3b64c94",
   "metadata": {},
   "source": [
    "- This is what I think, please advice\n",
    "    - I go to the pool to trade, the current state is 10 token_A and 1000 token_B, so SP = 100\n",
    "    - I want to buy 5 token_A, I look at SP and thought, I need to pay $ 5*100 = 500 $ token_B, represented by <span style=\"color:#31a354\">green line</span>.\n",
    "    - But in reality, what I need to pay is $ 5*EP = 5*200 = 1000 $, which result  <span style=\"color:#8856a7\">slippage</span>.\n",
    "    "
   ]
  },
  {
   "cell_type": "code",
   "execution_count": 14,
   "id": "8f228769",
   "metadata": {},
   "outputs": [
    {
     "data": {
      "text/html": [
       "<div>\n",
       "<style scoped>\n",
       "    .dataframe tbody tr th:only-of-type {\n",
       "        vertical-align: middle;\n",
       "    }\n",
       "\n",
       "    .dataframe tbody tr th {\n",
       "        vertical-align: top;\n",
       "    }\n",
       "\n",
       "    .dataframe thead th {\n",
       "        text-align: right;\n",
       "    }\n",
       "</style>\n",
       "<table border=\"1\" class=\"dataframe\">\n",
       "  <thead>\n",
       "    <tr style=\"text-align: right;\">\n",
       "      <th></th>\n",
       "      <th>token_A</th>\n",
       "      <th>token_B</th>\n",
       "      <th>SP</th>\n",
       "      <th>delta_A</th>\n",
       "      <th>delta_B</th>\n",
       "      <th>EP</th>\n",
       "    </tr>\n",
       "  </thead>\n",
       "  <tbody>\n",
       "    <tr>\n",
       "      <th>0</th>\n",
       "      <td>10</td>\n",
       "      <td>1000.0</td>\n",
       "      <td>100.0</td>\n",
       "      <td>NaN</td>\n",
       "      <td>NaN</td>\n",
       "      <td>NaN</td>\n",
       "    </tr>\n",
       "    <tr>\n",
       "      <th>1</th>\n",
       "      <td>5</td>\n",
       "      <td>2000.0</td>\n",
       "      <td>400.0</td>\n",
       "      <td>5.0</td>\n",
       "      <td>1000.0</td>\n",
       "      <td>200.0</td>\n",
       "    </tr>\n",
       "  </tbody>\n",
       "</table>\n",
       "</div>"
      ],
      "text/plain": [
       "   token_A  token_B     SP  delta_A  delta_B     EP\n",
       "0       10   1000.0  100.0      NaN      NaN    NaN\n",
       "1        5   2000.0  400.0      5.0   1000.0  200.0"
      ]
     },
     "execution_count": 14,
     "metadata": {},
     "output_type": "execute_result"
    }
   ],
   "source": [
    "buy_A_e = buy_A.iloc[[90,95],:][['token_A','token_B']].reset_index(drop = True)\n",
    "\n",
    "buy_A_e['SP'] = (buy_A_e['token_B']/b_weight) / (buy_A_e['token_A']/a_weight)\n",
    "buy_A_e['delta_A'] = -buy_A_e['token_A'].diff()\n",
    "buy_A_e['delta_B'] = buy_A_e['token_B'].diff()\n",
    "\n",
    "buy_A_e['EP'] = buy_A_e['delta_B']/buy_A_e['delta_A']\n",
    "buy_A_e"
   ]
  },
  {
   "cell_type": "markdown",
   "id": "4aab0c2a",
   "metadata": {},
   "source": [
    "# Q1.3:\n",
    "\n",
    "Now let's assume a series of 99 swaps in the opposite direction. We start again with the original state: We have 100 Token A and 100 Token B.   \n",
    "With every swap, **1.0 token B is bought from the pool, against token A**.\n",
    "\n",
    "Create a table **'buy_B'** with\n",
    "\n",
    "    the token A balances (swap by swap)\n",
    "    the token B balances (swap by swap) - that are constraint by the value function."
   ]
  },
  {
   "cell_type": "code",
   "execution_count": 15,
   "id": "a5db654d",
   "metadata": {},
   "outputs": [
    {
     "data": {
      "text/html": [
       "<div>\n",
       "<style scoped>\n",
       "    .dataframe tbody tr th:only-of-type {\n",
       "        vertical-align: middle;\n",
       "    }\n",
       "\n",
       "    .dataframe tbody tr th {\n",
       "        vertical-align: top;\n",
       "    }\n",
       "\n",
       "    .dataframe thead th {\n",
       "        text-align: right;\n",
       "    }\n",
       "</style>\n",
       "<table border=\"1\" class=\"dataframe\">\n",
       "  <thead>\n",
       "    <tr style=\"text-align: right;\">\n",
       "      <th></th>\n",
       "      <th>token_B</th>\n",
       "      <th>invariant</th>\n",
       "      <th>token_A</th>\n",
       "    </tr>\n",
       "  </thead>\n",
       "  <tbody>\n",
       "    <tr>\n",
       "      <th>70</th>\n",
       "      <td>30</td>\n",
       "      <td>100.0</td>\n",
       "      <td>333.333333</td>\n",
       "    </tr>\n",
       "    <tr>\n",
       "      <th>71</th>\n",
       "      <td>29</td>\n",
       "      <td>100.0</td>\n",
       "      <td>344.827586</td>\n",
       "    </tr>\n",
       "    <tr>\n",
       "      <th>72</th>\n",
       "      <td>28</td>\n",
       "      <td>100.0</td>\n",
       "      <td>357.142857</td>\n",
       "    </tr>\n",
       "    <tr>\n",
       "      <th>73</th>\n",
       "      <td>27</td>\n",
       "      <td>100.0</td>\n",
       "      <td>370.370370</td>\n",
       "    </tr>\n",
       "    <tr>\n",
       "      <th>74</th>\n",
       "      <td>26</td>\n",
       "      <td>100.0</td>\n",
       "      <td>384.615385</td>\n",
       "    </tr>\n",
       "    <tr>\n",
       "      <th>75</th>\n",
       "      <td>25</td>\n",
       "      <td>100.0</td>\n",
       "      <td>400.000000</td>\n",
       "    </tr>\n",
       "    <tr>\n",
       "      <th>76</th>\n",
       "      <td>24</td>\n",
       "      <td>100.0</td>\n",
       "      <td>416.666667</td>\n",
       "    </tr>\n",
       "    <tr>\n",
       "      <th>77</th>\n",
       "      <td>23</td>\n",
       "      <td>100.0</td>\n",
       "      <td>434.782609</td>\n",
       "    </tr>\n",
       "    <tr>\n",
       "      <th>78</th>\n",
       "      <td>22</td>\n",
       "      <td>100.0</td>\n",
       "      <td>454.545455</td>\n",
       "    </tr>\n",
       "    <tr>\n",
       "      <th>79</th>\n",
       "      <td>21</td>\n",
       "      <td>100.0</td>\n",
       "      <td>476.190476</td>\n",
       "    </tr>\n",
       "    <tr>\n",
       "      <th>80</th>\n",
       "      <td>20</td>\n",
       "      <td>100.0</td>\n",
       "      <td>500.000000</td>\n",
       "    </tr>\n",
       "    <tr>\n",
       "      <th>81</th>\n",
       "      <td>19</td>\n",
       "      <td>100.0</td>\n",
       "      <td>526.315789</td>\n",
       "    </tr>\n",
       "    <tr>\n",
       "      <th>82</th>\n",
       "      <td>18</td>\n",
       "      <td>100.0</td>\n",
       "      <td>555.555556</td>\n",
       "    </tr>\n",
       "    <tr>\n",
       "      <th>83</th>\n",
       "      <td>17</td>\n",
       "      <td>100.0</td>\n",
       "      <td>588.235294</td>\n",
       "    </tr>\n",
       "    <tr>\n",
       "      <th>84</th>\n",
       "      <td>16</td>\n",
       "      <td>100.0</td>\n",
       "      <td>625.000000</td>\n",
       "    </tr>\n",
       "    <tr>\n",
       "      <th>85</th>\n",
       "      <td>15</td>\n",
       "      <td>100.0</td>\n",
       "      <td>666.666667</td>\n",
       "    </tr>\n",
       "    <tr>\n",
       "      <th>86</th>\n",
       "      <td>14</td>\n",
       "      <td>100.0</td>\n",
       "      <td>714.285714</td>\n",
       "    </tr>\n",
       "    <tr>\n",
       "      <th>87</th>\n",
       "      <td>13</td>\n",
       "      <td>100.0</td>\n",
       "      <td>769.230769</td>\n",
       "    </tr>\n",
       "    <tr>\n",
       "      <th>88</th>\n",
       "      <td>12</td>\n",
       "      <td>100.0</td>\n",
       "      <td>833.333333</td>\n",
       "    </tr>\n",
       "    <tr>\n",
       "      <th>89</th>\n",
       "      <td>11</td>\n",
       "      <td>100.0</td>\n",
       "      <td>909.090909</td>\n",
       "    </tr>\n",
       "    <tr>\n",
       "      <th>90</th>\n",
       "      <td>10</td>\n",
       "      <td>100.0</td>\n",
       "      <td>1000.000000</td>\n",
       "    </tr>\n",
       "    <tr>\n",
       "      <th>91</th>\n",
       "      <td>9</td>\n",
       "      <td>100.0</td>\n",
       "      <td>1111.111111</td>\n",
       "    </tr>\n",
       "    <tr>\n",
       "      <th>92</th>\n",
       "      <td>8</td>\n",
       "      <td>100.0</td>\n",
       "      <td>1250.000000</td>\n",
       "    </tr>\n",
       "    <tr>\n",
       "      <th>93</th>\n",
       "      <td>7</td>\n",
       "      <td>100.0</td>\n",
       "      <td>1428.571429</td>\n",
       "    </tr>\n",
       "    <tr>\n",
       "      <th>94</th>\n",
       "      <td>6</td>\n",
       "      <td>100.0</td>\n",
       "      <td>1666.666667</td>\n",
       "    </tr>\n",
       "    <tr>\n",
       "      <th>95</th>\n",
       "      <td>5</td>\n",
       "      <td>100.0</td>\n",
       "      <td>2000.000000</td>\n",
       "    </tr>\n",
       "    <tr>\n",
       "      <th>96</th>\n",
       "      <td>4</td>\n",
       "      <td>100.0</td>\n",
       "      <td>2500.000000</td>\n",
       "    </tr>\n",
       "    <tr>\n",
       "      <th>97</th>\n",
       "      <td>3</td>\n",
       "      <td>100.0</td>\n",
       "      <td>3333.333333</td>\n",
       "    </tr>\n",
       "    <tr>\n",
       "      <th>98</th>\n",
       "      <td>2</td>\n",
       "      <td>100.0</td>\n",
       "      <td>5000.000000</td>\n",
       "    </tr>\n",
       "    <tr>\n",
       "      <th>99</th>\n",
       "      <td>1</td>\n",
       "      <td>100.0</td>\n",
       "      <td>10000.000000</td>\n",
       "    </tr>\n",
       "  </tbody>\n",
       "</table>\n",
       "</div>"
      ],
      "text/plain": [
       "    token_B  invariant       token_A\n",
       "70       30      100.0    333.333333\n",
       "71       29      100.0    344.827586\n",
       "72       28      100.0    357.142857\n",
       "73       27      100.0    370.370370\n",
       "74       26      100.0    384.615385\n",
       "75       25      100.0    400.000000\n",
       "76       24      100.0    416.666667\n",
       "77       23      100.0    434.782609\n",
       "78       22      100.0    454.545455\n",
       "79       21      100.0    476.190476\n",
       "80       20      100.0    500.000000\n",
       "81       19      100.0    526.315789\n",
       "82       18      100.0    555.555556\n",
       "83       17      100.0    588.235294\n",
       "84       16      100.0    625.000000\n",
       "85       15      100.0    666.666667\n",
       "86       14      100.0    714.285714\n",
       "87       13      100.0    769.230769\n",
       "88       12      100.0    833.333333\n",
       "89       11      100.0    909.090909\n",
       "90       10      100.0   1000.000000\n",
       "91        9      100.0   1111.111111\n",
       "92        8      100.0   1250.000000\n",
       "93        7      100.0   1428.571429\n",
       "94        6      100.0   1666.666667\n",
       "95        5      100.0   2000.000000\n",
       "96        4      100.0   2500.000000\n",
       "97        3      100.0   3333.333333\n",
       "98        2      100.0   5000.000000\n",
       "99        1      100.0  10000.000000"
      ]
     },
     "execution_count": 15,
     "metadata": {},
     "output_type": "execute_result"
    }
   ],
   "source": [
    "#Buy B\n",
    "\n",
    "b_vals = pd.Series(range(100,0,-1))\n",
    "#create dataframe with based on b_vals\n",
    "buy_B = pd.DataFrame(b_vals, columns=['token_B'])\n",
    "buy_B['invariant'] = inv #value required to calculate token B value\n",
    "\n",
    "#create values for plot, add a_balances according to current invariant\n",
    "buy_B['token_A'] = (buy_B.invariant/(buy_B.token_B**b_weight))**(1/a_weight)# calculate corresponding token A value according to invariant\n",
    "\n",
    "buy_B.tail(30)"
   ]
  },
  {
   "cell_type": "markdown",
   "id": "712b14f0",
   "metadata": {},
   "source": [
    "# Q1.4:\n",
    "a) What are the new balances of token A and token B after 90 swaps token A (in) for B (out)?  \n",
    "b) How much would Alice have to pay in token A in case she wants to buy the 91st token B?  "
   ]
  },
  {
   "cell_type": "code",
   "execution_count": 16,
   "id": "833c4507",
   "metadata": {},
   "outputs": [
    {
     "data": {
      "text/plain": [
       "token_A    1111.111111\n",
       "token_B       9.000000\n",
       "Name: 91, dtype: float64"
      ]
     },
     "execution_count": 16,
     "metadata": {},
     "output_type": "execute_result"
    }
   ],
   "source": [
    "# a) take from table buy_B\n",
    "buy_B.iloc[91][['token_A', 'token_B']]"
   ]
  },
  {
   "cell_type": "code",
   "execution_count": 17,
   "id": "2a0bc7f4",
   "metadata": {},
   "outputs": [
    {
     "data": {
      "text/plain": [
       "138.88888888888823"
      ]
     },
     "execution_count": 17,
     "metadata": {},
     "output_type": "execute_result"
    }
   ],
   "source": [
    "# b) take from table buy_B\n",
    "price = (buy_B.iloc[92]['token_A'])-((buy_B.iloc[91]['token_A']))\n",
    "price"
   ]
  },
  {
   "cell_type": "code",
   "execution_count": 18,
   "id": "df3053dd",
   "metadata": {},
   "outputs": [
    {
     "name": "stdout",
     "output_type": "stream",
     "text": [
      "138.8888888888889\n"
     ]
    }
   ],
   "source": [
    "# b) calculate with trading function In-Given-Out, see whitepaper\n",
    "\n",
    "Balance_in = buy_B.iloc[91]['token_A'] \n",
    "Balance_out = buy_B.iloc[91]['token_B']\n",
    "Amount_out = 1 # is 'Given_out' in token B\n",
    "Amount_in = Balance_in*((Balance_out/(Balance_out-Amount_out))-1)\n",
    "print(Amount_in)\n",
    "\n",
    "#note: why deviation in results? Python?"
   ]
  },
  {
   "cell_type": "markdown",
   "id": "fcfa521a",
   "metadata": {},
   "source": [
    "# Q1.5:  \n",
    "Now create a graph (use plotly or similar), and draw the full curve for this series of both kinds of swaps - the AMM curve."
   ]
  },
  {
   "cell_type": "code",
   "execution_count": 19,
   "id": "b9b0e290",
   "metadata": {
    "scrolled": false
   },
   "outputs": [
    {
     "data": {
      "text/html": [
       "<div>\n",
       "<style scoped>\n",
       "    .dataframe tbody tr th:only-of-type {\n",
       "        vertical-align: middle;\n",
       "    }\n",
       "\n",
       "    .dataframe tbody tr th {\n",
       "        vertical-align: top;\n",
       "    }\n",
       "\n",
       "    .dataframe thead th {\n",
       "        text-align: right;\n",
       "    }\n",
       "</style>\n",
       "<table border=\"1\" class=\"dataframe\">\n",
       "  <thead>\n",
       "    <tr style=\"text-align: right;\">\n",
       "      <th></th>\n",
       "      <th>token_A</th>\n",
       "      <th>invariant</th>\n",
       "      <th>token_B</th>\n",
       "      <th>SP</th>\n",
       "      <th>delta_A</th>\n",
       "      <th>delta_B</th>\n",
       "      <th>EP</th>\n",
       "    </tr>\n",
       "  </thead>\n",
       "  <tbody>\n",
       "    <tr>\n",
       "      <th>0</th>\n",
       "      <td>100</td>\n",
       "      <td>100.0</td>\n",
       "      <td>100.000000</td>\n",
       "      <td>1.000000</td>\n",
       "      <td>NaN</td>\n",
       "      <td>NaN</td>\n",
       "      <td>NaN</td>\n",
       "    </tr>\n",
       "    <tr>\n",
       "      <th>1</th>\n",
       "      <td>99</td>\n",
       "      <td>100.0</td>\n",
       "      <td>101.010101</td>\n",
       "      <td>1.020304</td>\n",
       "      <td>1.0</td>\n",
       "      <td>1.010101</td>\n",
       "      <td>1.010101</td>\n",
       "    </tr>\n",
       "    <tr>\n",
       "      <th>2</th>\n",
       "      <td>98</td>\n",
       "      <td>100.0</td>\n",
       "      <td>102.040816</td>\n",
       "      <td>1.041233</td>\n",
       "      <td>1.0</td>\n",
       "      <td>1.030715</td>\n",
       "      <td>1.030715</td>\n",
       "    </tr>\n",
       "    <tr>\n",
       "      <th>3</th>\n",
       "      <td>97</td>\n",
       "      <td>100.0</td>\n",
       "      <td>103.092784</td>\n",
       "      <td>1.062812</td>\n",
       "      <td>1.0</td>\n",
       "      <td>1.051967</td>\n",
       "      <td>1.051967</td>\n",
       "    </tr>\n",
       "    <tr>\n",
       "      <th>4</th>\n",
       "      <td>96</td>\n",
       "      <td>100.0</td>\n",
       "      <td>104.166667</td>\n",
       "      <td>1.085069</td>\n",
       "      <td>1.0</td>\n",
       "      <td>1.073883</td>\n",
       "      <td>1.073883</td>\n",
       "    </tr>\n",
       "    <tr>\n",
       "      <th>...</th>\n",
       "      <td>...</td>\n",
       "      <td>...</td>\n",
       "      <td>...</td>\n",
       "      <td>...</td>\n",
       "      <td>...</td>\n",
       "      <td>...</td>\n",
       "      <td>...</td>\n",
       "    </tr>\n",
       "    <tr>\n",
       "      <th>95</th>\n",
       "      <td>5</td>\n",
       "      <td>100.0</td>\n",
       "      <td>2000.000000</td>\n",
       "      <td>400.000000</td>\n",
       "      <td>1.0</td>\n",
       "      <td>333.333333</td>\n",
       "      <td>333.333333</td>\n",
       "    </tr>\n",
       "    <tr>\n",
       "      <th>96</th>\n",
       "      <td>4</td>\n",
       "      <td>100.0</td>\n",
       "      <td>2500.000000</td>\n",
       "      <td>625.000000</td>\n",
       "      <td>1.0</td>\n",
       "      <td>500.000000</td>\n",
       "      <td>500.000000</td>\n",
       "    </tr>\n",
       "    <tr>\n",
       "      <th>97</th>\n",
       "      <td>3</td>\n",
       "      <td>100.0</td>\n",
       "      <td>3333.333333</td>\n",
       "      <td>1111.111111</td>\n",
       "      <td>1.0</td>\n",
       "      <td>833.333333</td>\n",
       "      <td>833.333333</td>\n",
       "    </tr>\n",
       "    <tr>\n",
       "      <th>98</th>\n",
       "      <td>2</td>\n",
       "      <td>100.0</td>\n",
       "      <td>5000.000000</td>\n",
       "      <td>2500.000000</td>\n",
       "      <td>1.0</td>\n",
       "      <td>1666.666667</td>\n",
       "      <td>1666.666667</td>\n",
       "    </tr>\n",
       "    <tr>\n",
       "      <th>99</th>\n",
       "      <td>1</td>\n",
       "      <td>100.0</td>\n",
       "      <td>10000.000000</td>\n",
       "      <td>10000.000000</td>\n",
       "      <td>1.0</td>\n",
       "      <td>5000.000000</td>\n",
       "      <td>5000.000000</td>\n",
       "    </tr>\n",
       "  </tbody>\n",
       "</table>\n",
       "<p>100 rows × 7 columns</p>\n",
       "</div>"
      ],
      "text/plain": [
       "    token_A  invariant       token_B            SP  delta_A      delta_B  \\\n",
       "0       100      100.0    100.000000      1.000000      NaN          NaN   \n",
       "1        99      100.0    101.010101      1.020304      1.0     1.010101   \n",
       "2        98      100.0    102.040816      1.041233      1.0     1.030715   \n",
       "3        97      100.0    103.092784      1.062812      1.0     1.051967   \n",
       "4        96      100.0    104.166667      1.085069      1.0     1.073883   \n",
       "..      ...        ...           ...           ...      ...          ...   \n",
       "95        5      100.0   2000.000000    400.000000      1.0   333.333333   \n",
       "96        4      100.0   2500.000000    625.000000      1.0   500.000000   \n",
       "97        3      100.0   3333.333333   1111.111111      1.0   833.333333   \n",
       "98        2      100.0   5000.000000   2500.000000      1.0  1666.666667   \n",
       "99        1      100.0  10000.000000  10000.000000      1.0  5000.000000   \n",
       "\n",
       "             EP  \n",
       "0           NaN  \n",
       "1      1.010101  \n",
       "2      1.030715  \n",
       "3      1.051967  \n",
       "4      1.073883  \n",
       "..          ...  \n",
       "95   333.333333  \n",
       "96   500.000000  \n",
       "97   833.333333  \n",
       "98  1666.666667  \n",
       "99  5000.000000  \n",
       "\n",
       "[100 rows x 7 columns]"
      ]
     },
     "execution_count": 19,
     "metadata": {},
     "output_type": "execute_result"
    }
   ],
   "source": [
    "buy_A"
   ]
  },
  {
   "cell_type": "code",
   "execution_count": 20,
   "id": "5c696f18",
   "metadata": {},
   "outputs": [],
   "source": [
    "buy_A = buy_A.drop(columns=['invariant'])\n",
    "buy_B = buy_B.drop(columns=['invariant'])"
   ]
  },
  {
   "cell_type": "code",
   "execution_count": 21,
   "id": "20c6f0aa",
   "metadata": {},
   "outputs": [
    {
     "data": {
      "application/vnd.plotly.v1+json": {
       "config": {
        "plotlyServerURL": "https://plot.ly"
       },
       "data": [
        {
         "hovertemplate": "token_A=%{x}<br>token_B=%{y}<extra></extra>",
         "legendgroup": "",
         "line": {
          "color": "#0d0887",
          "dash": "solid"
         },
         "mode": "lines",
         "name": "",
         "orientation": "v",
         "showlegend": false,
         "type": "scatter",
         "x": [
          100,
          99,
          98,
          97,
          96,
          95,
          94,
          93,
          92,
          91,
          90,
          89,
          88,
          87,
          86,
          85,
          84,
          83,
          82,
          81,
          80,
          79,
          78,
          77,
          76,
          75,
          74,
          73,
          72,
          71,
          70,
          69,
          68,
          67,
          66,
          65,
          64,
          63,
          62,
          61,
          60,
          59,
          58,
          57,
          56,
          55,
          54,
          53,
          52,
          51,
          50,
          49,
          48,
          47,
          46,
          45,
          44,
          43,
          42,
          41,
          40,
          39,
          38,
          37,
          36,
          35,
          34,
          33,
          32,
          31,
          30,
          29,
          28,
          27,
          26,
          25,
          24,
          23,
          22,
          21,
          20,
          19,
          18,
          17,
          16,
          15,
          14,
          13,
          12,
          11,
          10,
          9,
          8,
          7,
          6,
          5,
          4,
          3,
          2,
          1,
          10000,
          4999.999999999998,
          3333.333333333334,
          2500,
          1999.9999999999995,
          1666.666666666667,
          1428.5714285714284,
          1249.9999999999995,
          1111.1111111111113,
          1000,
          909.090909090909,
          833.3333333333335,
          769.2307692307693,
          714.2857142857142,
          666.6666666666666,
          625,
          588.2352941176471,
          555.5555555555555,
          526.315789473684,
          499.9999999999999,
          476.1904761904763,
          454.5454545454545,
          434.7826086956523,
          416.66666666666674,
          400,
          384.6153846153847,
          370.3703703703703,
          357.1428571428571,
          344.8275862068966,
          333.3333333333333,
          322.5806451612904,
          312.4999999999999,
          303.03030303030306,
          294.11764705882354,
          285.7142857142858,
          277.7777777777778,
          270.2702702702703,
          263.1578947368422,
          256.41025641025635,
          250,
          243.90243902439028,
          238.09523809523807,
          232.55813953488374,
          227.27272727272725,
          222.2222222222222,
          217.3913043478261,
          212.7659574468085,
          208.33333333333337,
          204.08163265306123,
          199.99999999999997,
          196.07843137254898,
          192.30769230769232,
          188.6792452830189,
          185.18518518518516,
          181.81818181818184,
          178.57142857142856,
          175.43859649122805,
          172.41379310344826,
          169.4915254237288,
          166.66666666666666,
          163.9344262295082,
          161.29032258064515,
          158.73015873015873,
          156.25,
          153.84615384615387,
          151.51515151515147,
          149.25373134328356,
          147.05882352941177,
          144.92753623188406,
          142.85714285714286,
          140.8450704225352,
          138.88888888888889,
          136.98630136986304,
          135.13513513513513,
          133.33333333333331,
          131.578947368421,
          129.87012987012983,
          128.20512820512818,
          126.58227848101268,
          124.99999999999997,
          123.45679012345678,
          121.95121951219511,
          120.48192771084337,
          119.04761904761908,
          117.6470588235294,
          116.27906976744187,
          114.94252873563217,
          113.63636363636363,
          112.35955056179779,
          111.1111111111111,
          109.89010989010991,
          108.69565217391307,
          107.5268817204301,
          106.38297872340425,
          105.26315789473686,
          104.16666666666669,
          103.09278350515464,
          102.0408163265306,
          101.01010101010101,
          100
         ],
         "xaxis": "x",
         "y": [
          100,
          101.01010101010101,
          102.0408163265306,
          103.09278350515464,
          104.16666666666669,
          105.26315789473686,
          106.38297872340425,
          107.5268817204301,
          108.69565217391307,
          109.89010989010991,
          111.1111111111111,
          112.35955056179779,
          113.63636363636363,
          114.94252873563217,
          116.27906976744187,
          117.6470588235294,
          119.04761904761908,
          120.48192771084337,
          121.95121951219511,
          123.45679012345678,
          124.99999999999997,
          126.58227848101268,
          128.20512820512818,
          129.87012987012983,
          131.578947368421,
          133.33333333333331,
          135.13513513513513,
          136.98630136986304,
          138.88888888888889,
          140.8450704225352,
          142.85714285714286,
          144.92753623188406,
          147.05882352941177,
          149.25373134328356,
          151.51515151515147,
          153.84615384615387,
          156.25,
          158.73015873015873,
          161.29032258064515,
          163.9344262295082,
          166.66666666666666,
          169.4915254237288,
          172.41379310344826,
          175.43859649122805,
          178.57142857142856,
          181.81818181818184,
          185.18518518518516,
          188.6792452830189,
          192.30769230769232,
          196.07843137254898,
          199.99999999999997,
          204.08163265306123,
          208.33333333333337,
          212.7659574468085,
          217.3913043478261,
          222.2222222222222,
          227.27272727272725,
          232.55813953488374,
          238.09523809523807,
          243.90243902439028,
          250,
          256.41025641025635,
          263.1578947368422,
          270.2702702702703,
          277.7777777777778,
          285.7142857142858,
          294.11764705882354,
          303.03030303030306,
          312.4999999999999,
          322.5806451612904,
          333.3333333333333,
          344.8275862068966,
          357.1428571428571,
          370.3703703703703,
          384.6153846153847,
          400,
          416.66666666666674,
          434.7826086956523,
          454.5454545454545,
          476.1904761904763,
          499.9999999999999,
          526.315789473684,
          555.5555555555555,
          588.2352941176471,
          625,
          666.6666666666666,
          714.2857142857142,
          769.2307692307693,
          833.3333333333335,
          909.090909090909,
          1000,
          1111.1111111111113,
          1249.9999999999995,
          1428.5714285714284,
          1666.666666666667,
          1999.9999999999995,
          2500,
          3333.333333333334,
          4999.999999999998,
          10000,
          1,
          2,
          3,
          4,
          5,
          6,
          7,
          8,
          9,
          10,
          11,
          12,
          13,
          14,
          15,
          16,
          17,
          18,
          19,
          20,
          21,
          22,
          23,
          24,
          25,
          26,
          27,
          28,
          29,
          30,
          31,
          32,
          33,
          34,
          35,
          36,
          37,
          38,
          39,
          40,
          41,
          42,
          43,
          44,
          45,
          46,
          47,
          48,
          49,
          50,
          51,
          52,
          53,
          54,
          55,
          56,
          57,
          58,
          59,
          60,
          61,
          62,
          63,
          64,
          65,
          66,
          67,
          68,
          69,
          70,
          71,
          72,
          73,
          74,
          75,
          76,
          77,
          78,
          79,
          80,
          81,
          82,
          83,
          84,
          85,
          86,
          87,
          88,
          89,
          90,
          91,
          92,
          93,
          94,
          95,
          96,
          97,
          98,
          99,
          100
         ],
         "yaxis": "y"
        }
       ],
       "layout": {
        "height": 1000,
        "legend": {
         "tracegroupgap": 0
        },
        "margin": {
         "t": 60
        },
        "template": {
         "data": {
          "bar": [
           {
            "error_x": {
             "color": "#2a3f5f"
            },
            "error_y": {
             "color": "#2a3f5f"
            },
            "marker": {
             "line": {
              "color": "#E5ECF6",
              "width": 0.5
             }
            },
            "type": "bar"
           }
          ],
          "barpolar": [
           {
            "marker": {
             "line": {
              "color": "#E5ECF6",
              "width": 0.5
             }
            },
            "type": "barpolar"
           }
          ],
          "carpet": [
           {
            "aaxis": {
             "endlinecolor": "#2a3f5f",
             "gridcolor": "white",
             "linecolor": "white",
             "minorgridcolor": "white",
             "startlinecolor": "#2a3f5f"
            },
            "baxis": {
             "endlinecolor": "#2a3f5f",
             "gridcolor": "white",
             "linecolor": "white",
             "minorgridcolor": "white",
             "startlinecolor": "#2a3f5f"
            },
            "type": "carpet"
           }
          ],
          "choropleth": [
           {
            "colorbar": {
             "outlinewidth": 0,
             "ticks": ""
            },
            "type": "choropleth"
           }
          ],
          "contour": [
           {
            "colorbar": {
             "outlinewidth": 0,
             "ticks": ""
            },
            "colorscale": [
             [
              0,
              "#0d0887"
             ],
             [
              0.1111111111111111,
              "#46039f"
             ],
             [
              0.2222222222222222,
              "#7201a8"
             ],
             [
              0.3333333333333333,
              "#9c179e"
             ],
             [
              0.4444444444444444,
              "#bd3786"
             ],
             [
              0.5555555555555556,
              "#d8576b"
             ],
             [
              0.6666666666666666,
              "#ed7953"
             ],
             [
              0.7777777777777778,
              "#fb9f3a"
             ],
             [
              0.8888888888888888,
              "#fdca26"
             ],
             [
              1,
              "#f0f921"
             ]
            ],
            "type": "contour"
           }
          ],
          "contourcarpet": [
           {
            "colorbar": {
             "outlinewidth": 0,
             "ticks": ""
            },
            "type": "contourcarpet"
           }
          ],
          "heatmap": [
           {
            "colorbar": {
             "outlinewidth": 0,
             "ticks": ""
            },
            "colorscale": [
             [
              0,
              "#0d0887"
             ],
             [
              0.1111111111111111,
              "#46039f"
             ],
             [
              0.2222222222222222,
              "#7201a8"
             ],
             [
              0.3333333333333333,
              "#9c179e"
             ],
             [
              0.4444444444444444,
              "#bd3786"
             ],
             [
              0.5555555555555556,
              "#d8576b"
             ],
             [
              0.6666666666666666,
              "#ed7953"
             ],
             [
              0.7777777777777778,
              "#fb9f3a"
             ],
             [
              0.8888888888888888,
              "#fdca26"
             ],
             [
              1,
              "#f0f921"
             ]
            ],
            "type": "heatmap"
           }
          ],
          "heatmapgl": [
           {
            "colorbar": {
             "outlinewidth": 0,
             "ticks": ""
            },
            "colorscale": [
             [
              0,
              "#0d0887"
             ],
             [
              0.1111111111111111,
              "#46039f"
             ],
             [
              0.2222222222222222,
              "#7201a8"
             ],
             [
              0.3333333333333333,
              "#9c179e"
             ],
             [
              0.4444444444444444,
              "#bd3786"
             ],
             [
              0.5555555555555556,
              "#d8576b"
             ],
             [
              0.6666666666666666,
              "#ed7953"
             ],
             [
              0.7777777777777778,
              "#fb9f3a"
             ],
             [
              0.8888888888888888,
              "#fdca26"
             ],
             [
              1,
              "#f0f921"
             ]
            ],
            "type": "heatmapgl"
           }
          ],
          "histogram": [
           {
            "marker": {
             "colorbar": {
              "outlinewidth": 0,
              "ticks": ""
             }
            },
            "type": "histogram"
           }
          ],
          "histogram2d": [
           {
            "colorbar": {
             "outlinewidth": 0,
             "ticks": ""
            },
            "colorscale": [
             [
              0,
              "#0d0887"
             ],
             [
              0.1111111111111111,
              "#46039f"
             ],
             [
              0.2222222222222222,
              "#7201a8"
             ],
             [
              0.3333333333333333,
              "#9c179e"
             ],
             [
              0.4444444444444444,
              "#bd3786"
             ],
             [
              0.5555555555555556,
              "#d8576b"
             ],
             [
              0.6666666666666666,
              "#ed7953"
             ],
             [
              0.7777777777777778,
              "#fb9f3a"
             ],
             [
              0.8888888888888888,
              "#fdca26"
             ],
             [
              1,
              "#f0f921"
             ]
            ],
            "type": "histogram2d"
           }
          ],
          "histogram2dcontour": [
           {
            "colorbar": {
             "outlinewidth": 0,
             "ticks": ""
            },
            "colorscale": [
             [
              0,
              "#0d0887"
             ],
             [
              0.1111111111111111,
              "#46039f"
             ],
             [
              0.2222222222222222,
              "#7201a8"
             ],
             [
              0.3333333333333333,
              "#9c179e"
             ],
             [
              0.4444444444444444,
              "#bd3786"
             ],
             [
              0.5555555555555556,
              "#d8576b"
             ],
             [
              0.6666666666666666,
              "#ed7953"
             ],
             [
              0.7777777777777778,
              "#fb9f3a"
             ],
             [
              0.8888888888888888,
              "#fdca26"
             ],
             [
              1,
              "#f0f921"
             ]
            ],
            "type": "histogram2dcontour"
           }
          ],
          "mesh3d": [
           {
            "colorbar": {
             "outlinewidth": 0,
             "ticks": ""
            },
            "type": "mesh3d"
           }
          ],
          "parcoords": [
           {
            "line": {
             "colorbar": {
              "outlinewidth": 0,
              "ticks": ""
             }
            },
            "type": "parcoords"
           }
          ],
          "pie": [
           {
            "automargin": true,
            "type": "pie"
           }
          ],
          "scatter": [
           {
            "marker": {
             "colorbar": {
              "outlinewidth": 0,
              "ticks": ""
             }
            },
            "type": "scatter"
           }
          ],
          "scatter3d": [
           {
            "line": {
             "colorbar": {
              "outlinewidth": 0,
              "ticks": ""
             }
            },
            "marker": {
             "colorbar": {
              "outlinewidth": 0,
              "ticks": ""
             }
            },
            "type": "scatter3d"
           }
          ],
          "scattercarpet": [
           {
            "marker": {
             "colorbar": {
              "outlinewidth": 0,
              "ticks": ""
             }
            },
            "type": "scattercarpet"
           }
          ],
          "scattergeo": [
           {
            "marker": {
             "colorbar": {
              "outlinewidth": 0,
              "ticks": ""
             }
            },
            "type": "scattergeo"
           }
          ],
          "scattergl": [
           {
            "marker": {
             "colorbar": {
              "outlinewidth": 0,
              "ticks": ""
             }
            },
            "type": "scattergl"
           }
          ],
          "scattermapbox": [
           {
            "marker": {
             "colorbar": {
              "outlinewidth": 0,
              "ticks": ""
             }
            },
            "type": "scattermapbox"
           }
          ],
          "scatterpolar": [
           {
            "marker": {
             "colorbar": {
              "outlinewidth": 0,
              "ticks": ""
             }
            },
            "type": "scatterpolar"
           }
          ],
          "scatterpolargl": [
           {
            "marker": {
             "colorbar": {
              "outlinewidth": 0,
              "ticks": ""
             }
            },
            "type": "scatterpolargl"
           }
          ],
          "scatterternary": [
           {
            "marker": {
             "colorbar": {
              "outlinewidth": 0,
              "ticks": ""
             }
            },
            "type": "scatterternary"
           }
          ],
          "surface": [
           {
            "colorbar": {
             "outlinewidth": 0,
             "ticks": ""
            },
            "colorscale": [
             [
              0,
              "#0d0887"
             ],
             [
              0.1111111111111111,
              "#46039f"
             ],
             [
              0.2222222222222222,
              "#7201a8"
             ],
             [
              0.3333333333333333,
              "#9c179e"
             ],
             [
              0.4444444444444444,
              "#bd3786"
             ],
             [
              0.5555555555555556,
              "#d8576b"
             ],
             [
              0.6666666666666666,
              "#ed7953"
             ],
             [
              0.7777777777777778,
              "#fb9f3a"
             ],
             [
              0.8888888888888888,
              "#fdca26"
             ],
             [
              1,
              "#f0f921"
             ]
            ],
            "type": "surface"
           }
          ],
          "table": [
           {
            "cells": {
             "fill": {
              "color": "#EBF0F8"
             },
             "line": {
              "color": "white"
             }
            },
            "header": {
             "fill": {
              "color": "#C8D4E3"
             },
             "line": {
              "color": "white"
             }
            },
            "type": "table"
           }
          ]
         },
         "layout": {
          "annotationdefaults": {
           "arrowcolor": "#2a3f5f",
           "arrowhead": 0,
           "arrowwidth": 1
          },
          "coloraxis": {
           "colorbar": {
            "outlinewidth": 0,
            "ticks": ""
           }
          },
          "colorscale": {
           "diverging": [
            [
             0,
             "#8e0152"
            ],
            [
             0.1,
             "#c51b7d"
            ],
            [
             0.2,
             "#de77ae"
            ],
            [
             0.3,
             "#f1b6da"
            ],
            [
             0.4,
             "#fde0ef"
            ],
            [
             0.5,
             "#f7f7f7"
            ],
            [
             0.6,
             "#e6f5d0"
            ],
            [
             0.7,
             "#b8e186"
            ],
            [
             0.8,
             "#7fbc41"
            ],
            [
             0.9,
             "#4d9221"
            ],
            [
             1,
             "#276419"
            ]
           ],
           "sequential": [
            [
             0,
             "#0d0887"
            ],
            [
             0.1111111111111111,
             "#46039f"
            ],
            [
             0.2222222222222222,
             "#7201a8"
            ],
            [
             0.3333333333333333,
             "#9c179e"
            ],
            [
             0.4444444444444444,
             "#bd3786"
            ],
            [
             0.5555555555555556,
             "#d8576b"
            ],
            [
             0.6666666666666666,
             "#ed7953"
            ],
            [
             0.7777777777777778,
             "#fb9f3a"
            ],
            [
             0.8888888888888888,
             "#fdca26"
            ],
            [
             1,
             "#f0f921"
            ]
           ],
           "sequentialminus": [
            [
             0,
             "#0d0887"
            ],
            [
             0.1111111111111111,
             "#46039f"
            ],
            [
             0.2222222222222222,
             "#7201a8"
            ],
            [
             0.3333333333333333,
             "#9c179e"
            ],
            [
             0.4444444444444444,
             "#bd3786"
            ],
            [
             0.5555555555555556,
             "#d8576b"
            ],
            [
             0.6666666666666666,
             "#ed7953"
            ],
            [
             0.7777777777777778,
             "#fb9f3a"
            ],
            [
             0.8888888888888888,
             "#fdca26"
            ],
            [
             1,
             "#f0f921"
            ]
           ]
          },
          "colorway": [
           "#636efa",
           "#EF553B",
           "#00cc96",
           "#ab63fa",
           "#FFA15A",
           "#19d3f3",
           "#FF6692",
           "#B6E880",
           "#FF97FF",
           "#FECB52"
          ],
          "font": {
           "color": "#2a3f5f"
          },
          "geo": {
           "bgcolor": "white",
           "lakecolor": "white",
           "landcolor": "#E5ECF6",
           "showlakes": true,
           "showland": true,
           "subunitcolor": "white"
          },
          "hoverlabel": {
           "align": "left"
          },
          "hovermode": "closest",
          "mapbox": {
           "style": "light"
          },
          "paper_bgcolor": "white",
          "plot_bgcolor": "#E5ECF6",
          "polar": {
           "angularaxis": {
            "gridcolor": "white",
            "linecolor": "white",
            "ticks": ""
           },
           "bgcolor": "#E5ECF6",
           "radialaxis": {
            "gridcolor": "white",
            "linecolor": "white",
            "ticks": ""
           }
          },
          "scene": {
           "xaxis": {
            "backgroundcolor": "#E5ECF6",
            "gridcolor": "white",
            "gridwidth": 2,
            "linecolor": "white",
            "showbackground": true,
            "ticks": "",
            "zerolinecolor": "white"
           },
           "yaxis": {
            "backgroundcolor": "#E5ECF6",
            "gridcolor": "white",
            "gridwidth": 2,
            "linecolor": "white",
            "showbackground": true,
            "ticks": "",
            "zerolinecolor": "white"
           },
           "zaxis": {
            "backgroundcolor": "#E5ECF6",
            "gridcolor": "white",
            "gridwidth": 2,
            "linecolor": "white",
            "showbackground": true,
            "ticks": "",
            "zerolinecolor": "white"
           }
          },
          "shapedefaults": {
           "line": {
            "color": "#2a3f5f"
           }
          },
          "ternary": {
           "aaxis": {
            "gridcolor": "white",
            "linecolor": "white",
            "ticks": ""
           },
           "baxis": {
            "gridcolor": "white",
            "linecolor": "white",
            "ticks": ""
           },
           "bgcolor": "#E5ECF6",
           "caxis": {
            "gridcolor": "white",
            "linecolor": "white",
            "ticks": ""
           }
          },
          "title": {
           "x": 0.05
          },
          "xaxis": {
           "automargin": true,
           "gridcolor": "white",
           "linecolor": "white",
           "ticks": "",
           "title": {
            "standoff": 15
           },
           "zerolinecolor": "white",
           "zerolinewidth": 2
          },
          "yaxis": {
           "automargin": true,
           "gridcolor": "white",
           "linecolor": "white",
           "ticks": "",
           "title": {
            "standoff": 15
           },
           "zerolinecolor": "white",
           "zerolinewidth": 2
          }
         }
        },
        "title": {
         "text": "<b>AMM Curve</b>"
        },
        "width": 1000,
        "xaxis": {
         "anchor": "y",
         "domain": [
          0,
          1
         ],
         "range": [
          0,
          500
         ],
         "title": {
          "text": "token_A"
         }
        },
        "yaxis": {
         "anchor": "x",
         "domain": [
          0,
          1
         ],
         "range": [
          0,
          500
         ],
         "title": {
          "text": "token_B"
         }
        }
       }
      },
      "text/html": [
       "<div>                            <div id=\"8186c816-736a-462b-acdc-9bfca7d243f3\" class=\"plotly-graph-div\" style=\"height:1000px; width:1000px;\"></div>            <script type=\"text/javascript\">                require([\"plotly\"], function(Plotly) {                    window.PLOTLYENV=window.PLOTLYENV || {};                                    if (document.getElementById(\"8186c816-736a-462b-acdc-9bfca7d243f3\")) {                    Plotly.newPlot(                        \"8186c816-736a-462b-acdc-9bfca7d243f3\",                        [{\"hovertemplate\": \"token_A=%{x}<br>token_B=%{y}<extra></extra>\", \"legendgroup\": \"\", \"line\": {\"color\": \"#0d0887\", \"dash\": \"solid\"}, \"mode\": \"lines\", \"name\": \"\", \"orientation\": \"v\", \"showlegend\": false, \"type\": \"scatter\", \"x\": [100.0, 99.0, 98.0, 97.0, 96.0, 95.0, 94.0, 93.0, 92.0, 91.0, 90.0, 89.0, 88.0, 87.0, 86.0, 85.0, 84.0, 83.0, 82.0, 81.0, 80.0, 79.0, 78.0, 77.0, 76.0, 75.0, 74.0, 73.0, 72.0, 71.0, 70.0, 69.0, 68.0, 67.0, 66.0, 65.0, 64.0, 63.0, 62.0, 61.0, 60.0, 59.0, 58.0, 57.0, 56.0, 55.0, 54.0, 53.0, 52.0, 51.0, 50.0, 49.0, 48.0, 47.0, 46.0, 45.0, 44.0, 43.0, 42.0, 41.0, 40.0, 39.0, 38.0, 37.0, 36.0, 35.0, 34.0, 33.0, 32.0, 31.0, 30.0, 29.0, 28.0, 27.0, 26.0, 25.0, 24.0, 23.0, 22.0, 21.0, 20.0, 19.0, 18.0, 17.0, 16.0, 15.0, 14.0, 13.0, 12.0, 11.0, 10.0, 9.0, 8.0, 7.0, 6.0, 5.0, 4.0, 3.0, 2.0, 1.0, 10000.0, 4999.999999999998, 3333.333333333334, 2500.0, 1999.9999999999995, 1666.666666666667, 1428.5714285714284, 1249.9999999999995, 1111.1111111111113, 1000.0, 909.090909090909, 833.3333333333335, 769.2307692307693, 714.2857142857142, 666.6666666666666, 625.0, 588.2352941176471, 555.5555555555555, 526.315789473684, 499.9999999999999, 476.1904761904763, 454.5454545454545, 434.7826086956523, 416.66666666666674, 400.0, 384.6153846153847, 370.3703703703703, 357.1428571428571, 344.8275862068966, 333.3333333333333, 322.5806451612904, 312.4999999999999, 303.03030303030306, 294.11764705882354, 285.7142857142858, 277.7777777777778, 270.2702702702703, 263.1578947368422, 256.41025641025635, 250.0, 243.90243902439028, 238.09523809523807, 232.55813953488374, 227.27272727272725, 222.2222222222222, 217.3913043478261, 212.7659574468085, 208.33333333333337, 204.08163265306123, 199.99999999999997, 196.07843137254898, 192.30769230769232, 188.6792452830189, 185.18518518518516, 181.81818181818184, 178.57142857142856, 175.43859649122805, 172.41379310344826, 169.4915254237288, 166.66666666666666, 163.9344262295082, 161.29032258064515, 158.73015873015873, 156.25, 153.84615384615387, 151.51515151515147, 149.25373134328356, 147.05882352941177, 144.92753623188406, 142.85714285714286, 140.8450704225352, 138.88888888888889, 136.98630136986304, 135.13513513513513, 133.33333333333331, 131.578947368421, 129.87012987012983, 128.20512820512818, 126.58227848101268, 124.99999999999997, 123.45679012345678, 121.95121951219511, 120.48192771084337, 119.04761904761908, 117.6470588235294, 116.27906976744187, 114.94252873563217, 113.63636363636363, 112.35955056179779, 111.1111111111111, 109.89010989010991, 108.69565217391307, 107.5268817204301, 106.38297872340425, 105.26315789473686, 104.16666666666669, 103.09278350515464, 102.0408163265306, 101.01010101010101, 100.0], \"xaxis\": \"x\", \"y\": [100.0, 101.01010101010101, 102.0408163265306, 103.09278350515464, 104.16666666666669, 105.26315789473686, 106.38297872340425, 107.5268817204301, 108.69565217391307, 109.89010989010991, 111.1111111111111, 112.35955056179779, 113.63636363636363, 114.94252873563217, 116.27906976744187, 117.6470588235294, 119.04761904761908, 120.48192771084337, 121.95121951219511, 123.45679012345678, 124.99999999999997, 126.58227848101268, 128.20512820512818, 129.87012987012983, 131.578947368421, 133.33333333333331, 135.13513513513513, 136.98630136986304, 138.88888888888889, 140.8450704225352, 142.85714285714286, 144.92753623188406, 147.05882352941177, 149.25373134328356, 151.51515151515147, 153.84615384615387, 156.25, 158.73015873015873, 161.29032258064515, 163.9344262295082, 166.66666666666666, 169.4915254237288, 172.41379310344826, 175.43859649122805, 178.57142857142856, 181.81818181818184, 185.18518518518516, 188.6792452830189, 192.30769230769232, 196.07843137254898, 199.99999999999997, 204.08163265306123, 208.33333333333337, 212.7659574468085, 217.3913043478261, 222.2222222222222, 227.27272727272725, 232.55813953488374, 238.09523809523807, 243.90243902439028, 250.0, 256.41025641025635, 263.1578947368422, 270.2702702702703, 277.7777777777778, 285.7142857142858, 294.11764705882354, 303.03030303030306, 312.4999999999999, 322.5806451612904, 333.3333333333333, 344.8275862068966, 357.1428571428571, 370.3703703703703, 384.6153846153847, 400.0, 416.66666666666674, 434.7826086956523, 454.5454545454545, 476.1904761904763, 499.9999999999999, 526.315789473684, 555.5555555555555, 588.2352941176471, 625.0, 666.6666666666666, 714.2857142857142, 769.2307692307693, 833.3333333333335, 909.090909090909, 1000.0, 1111.1111111111113, 1249.9999999999995, 1428.5714285714284, 1666.666666666667, 1999.9999999999995, 2500.0, 3333.333333333334, 4999.999999999998, 10000.0, 1.0, 2.0, 3.0, 4.0, 5.0, 6.0, 7.0, 8.0, 9.0, 10.0, 11.0, 12.0, 13.0, 14.0, 15.0, 16.0, 17.0, 18.0, 19.0, 20.0, 21.0, 22.0, 23.0, 24.0, 25.0, 26.0, 27.0, 28.0, 29.0, 30.0, 31.0, 32.0, 33.0, 34.0, 35.0, 36.0, 37.0, 38.0, 39.0, 40.0, 41.0, 42.0, 43.0, 44.0, 45.0, 46.0, 47.0, 48.0, 49.0, 50.0, 51.0, 52.0, 53.0, 54.0, 55.0, 56.0, 57.0, 58.0, 59.0, 60.0, 61.0, 62.0, 63.0, 64.0, 65.0, 66.0, 67.0, 68.0, 69.0, 70.0, 71.0, 72.0, 73.0, 74.0, 75.0, 76.0, 77.0, 78.0, 79.0, 80.0, 81.0, 82.0, 83.0, 84.0, 85.0, 86.0, 87.0, 88.0, 89.0, 90.0, 91.0, 92.0, 93.0, 94.0, 95.0, 96.0, 97.0, 98.0, 99.0, 100.0], \"yaxis\": \"y\"}],                        {\"height\": 1000, \"legend\": {\"tracegroupgap\": 0}, \"margin\": {\"t\": 60}, \"template\": {\"data\": {\"bar\": [{\"error_x\": {\"color\": \"#2a3f5f\"}, \"error_y\": {\"color\": \"#2a3f5f\"}, \"marker\": {\"line\": {\"color\": \"#E5ECF6\", \"width\": 0.5}}, \"type\": \"bar\"}], \"barpolar\": [{\"marker\": {\"line\": {\"color\": \"#E5ECF6\", \"width\": 0.5}}, \"type\": \"barpolar\"}], \"carpet\": [{\"aaxis\": {\"endlinecolor\": \"#2a3f5f\", \"gridcolor\": \"white\", \"linecolor\": \"white\", \"minorgridcolor\": \"white\", \"startlinecolor\": \"#2a3f5f\"}, \"baxis\": {\"endlinecolor\": \"#2a3f5f\", \"gridcolor\": \"white\", \"linecolor\": \"white\", \"minorgridcolor\": \"white\", \"startlinecolor\": \"#2a3f5f\"}, \"type\": \"carpet\"}], \"choropleth\": [{\"colorbar\": {\"outlinewidth\": 0, \"ticks\": \"\"}, \"type\": \"choropleth\"}], \"contour\": [{\"colorbar\": {\"outlinewidth\": 0, \"ticks\": \"\"}, \"colorscale\": [[0.0, \"#0d0887\"], [0.1111111111111111, \"#46039f\"], [0.2222222222222222, \"#7201a8\"], [0.3333333333333333, \"#9c179e\"], [0.4444444444444444, \"#bd3786\"], [0.5555555555555556, \"#d8576b\"], [0.6666666666666666, \"#ed7953\"], [0.7777777777777778, \"#fb9f3a\"], [0.8888888888888888, \"#fdca26\"], [1.0, \"#f0f921\"]], \"type\": \"contour\"}], \"contourcarpet\": [{\"colorbar\": {\"outlinewidth\": 0, \"ticks\": \"\"}, \"type\": \"contourcarpet\"}], \"heatmap\": [{\"colorbar\": {\"outlinewidth\": 0, \"ticks\": \"\"}, \"colorscale\": [[0.0, \"#0d0887\"], [0.1111111111111111, \"#46039f\"], [0.2222222222222222, \"#7201a8\"], [0.3333333333333333, \"#9c179e\"], [0.4444444444444444, \"#bd3786\"], [0.5555555555555556, \"#d8576b\"], [0.6666666666666666, \"#ed7953\"], [0.7777777777777778, \"#fb9f3a\"], [0.8888888888888888, \"#fdca26\"], [1.0, \"#f0f921\"]], \"type\": \"heatmap\"}], \"heatmapgl\": [{\"colorbar\": {\"outlinewidth\": 0, \"ticks\": \"\"}, \"colorscale\": [[0.0, \"#0d0887\"], [0.1111111111111111, \"#46039f\"], [0.2222222222222222, \"#7201a8\"], [0.3333333333333333, \"#9c179e\"], [0.4444444444444444, \"#bd3786\"], [0.5555555555555556, \"#d8576b\"], [0.6666666666666666, \"#ed7953\"], [0.7777777777777778, \"#fb9f3a\"], [0.8888888888888888, \"#fdca26\"], [1.0, \"#f0f921\"]], \"type\": \"heatmapgl\"}], \"histogram\": [{\"marker\": {\"colorbar\": {\"outlinewidth\": 0, \"ticks\": \"\"}}, \"type\": \"histogram\"}], \"histogram2d\": [{\"colorbar\": {\"outlinewidth\": 0, \"ticks\": \"\"}, \"colorscale\": [[0.0, \"#0d0887\"], [0.1111111111111111, \"#46039f\"], [0.2222222222222222, \"#7201a8\"], [0.3333333333333333, \"#9c179e\"], [0.4444444444444444, \"#bd3786\"], [0.5555555555555556, \"#d8576b\"], [0.6666666666666666, \"#ed7953\"], [0.7777777777777778, \"#fb9f3a\"], [0.8888888888888888, \"#fdca26\"], [1.0, \"#f0f921\"]], \"type\": \"histogram2d\"}], \"histogram2dcontour\": [{\"colorbar\": {\"outlinewidth\": 0, \"ticks\": \"\"}, \"colorscale\": [[0.0, \"#0d0887\"], [0.1111111111111111, \"#46039f\"], [0.2222222222222222, \"#7201a8\"], [0.3333333333333333, \"#9c179e\"], [0.4444444444444444, \"#bd3786\"], [0.5555555555555556, \"#d8576b\"], [0.6666666666666666, \"#ed7953\"], [0.7777777777777778, \"#fb9f3a\"], [0.8888888888888888, \"#fdca26\"], [1.0, \"#f0f921\"]], \"type\": \"histogram2dcontour\"}], \"mesh3d\": [{\"colorbar\": {\"outlinewidth\": 0, \"ticks\": \"\"}, \"type\": \"mesh3d\"}], \"parcoords\": [{\"line\": {\"colorbar\": {\"outlinewidth\": 0, \"ticks\": \"\"}}, \"type\": \"parcoords\"}], \"pie\": [{\"automargin\": true, \"type\": \"pie\"}], \"scatter\": [{\"marker\": {\"colorbar\": {\"outlinewidth\": 0, \"ticks\": \"\"}}, \"type\": \"scatter\"}], \"scatter3d\": [{\"line\": {\"colorbar\": {\"outlinewidth\": 0, \"ticks\": \"\"}}, \"marker\": {\"colorbar\": {\"outlinewidth\": 0, \"ticks\": \"\"}}, \"type\": \"scatter3d\"}], \"scattercarpet\": [{\"marker\": {\"colorbar\": {\"outlinewidth\": 0, \"ticks\": \"\"}}, \"type\": \"scattercarpet\"}], \"scattergeo\": [{\"marker\": {\"colorbar\": {\"outlinewidth\": 0, \"ticks\": \"\"}}, \"type\": \"scattergeo\"}], \"scattergl\": [{\"marker\": {\"colorbar\": {\"outlinewidth\": 0, \"ticks\": \"\"}}, \"type\": \"scattergl\"}], \"scattermapbox\": [{\"marker\": {\"colorbar\": {\"outlinewidth\": 0, \"ticks\": \"\"}}, \"type\": \"scattermapbox\"}], \"scatterpolar\": [{\"marker\": {\"colorbar\": {\"outlinewidth\": 0, \"ticks\": \"\"}}, \"type\": \"scatterpolar\"}], \"scatterpolargl\": [{\"marker\": {\"colorbar\": {\"outlinewidth\": 0, \"ticks\": \"\"}}, \"type\": \"scatterpolargl\"}], \"scatterternary\": [{\"marker\": {\"colorbar\": {\"outlinewidth\": 0, \"ticks\": \"\"}}, \"type\": \"scatterternary\"}], \"surface\": [{\"colorbar\": {\"outlinewidth\": 0, \"ticks\": \"\"}, \"colorscale\": [[0.0, \"#0d0887\"], [0.1111111111111111, \"#46039f\"], [0.2222222222222222, \"#7201a8\"], [0.3333333333333333, \"#9c179e\"], [0.4444444444444444, \"#bd3786\"], [0.5555555555555556, \"#d8576b\"], [0.6666666666666666, \"#ed7953\"], [0.7777777777777778, \"#fb9f3a\"], [0.8888888888888888, \"#fdca26\"], [1.0, \"#f0f921\"]], \"type\": \"surface\"}], \"table\": [{\"cells\": {\"fill\": {\"color\": \"#EBF0F8\"}, \"line\": {\"color\": \"white\"}}, \"header\": {\"fill\": {\"color\": \"#C8D4E3\"}, \"line\": {\"color\": \"white\"}}, \"type\": \"table\"}]}, \"layout\": {\"annotationdefaults\": {\"arrowcolor\": \"#2a3f5f\", \"arrowhead\": 0, \"arrowwidth\": 1}, \"coloraxis\": {\"colorbar\": {\"outlinewidth\": 0, \"ticks\": \"\"}}, \"colorscale\": {\"diverging\": [[0, \"#8e0152\"], [0.1, \"#c51b7d\"], [0.2, \"#de77ae\"], [0.3, \"#f1b6da\"], [0.4, \"#fde0ef\"], [0.5, \"#f7f7f7\"], [0.6, \"#e6f5d0\"], [0.7, \"#b8e186\"], [0.8, \"#7fbc41\"], [0.9, \"#4d9221\"], [1, \"#276419\"]], \"sequential\": [[0.0, \"#0d0887\"], [0.1111111111111111, \"#46039f\"], [0.2222222222222222, \"#7201a8\"], [0.3333333333333333, \"#9c179e\"], [0.4444444444444444, \"#bd3786\"], [0.5555555555555556, \"#d8576b\"], [0.6666666666666666, \"#ed7953\"], [0.7777777777777778, \"#fb9f3a\"], [0.8888888888888888, \"#fdca26\"], [1.0, \"#f0f921\"]], \"sequentialminus\": [[0.0, \"#0d0887\"], [0.1111111111111111, \"#46039f\"], [0.2222222222222222, \"#7201a8\"], [0.3333333333333333, \"#9c179e\"], [0.4444444444444444, \"#bd3786\"], [0.5555555555555556, \"#d8576b\"], [0.6666666666666666, \"#ed7953\"], [0.7777777777777778, \"#fb9f3a\"], [0.8888888888888888, \"#fdca26\"], [1.0, \"#f0f921\"]]}, \"colorway\": [\"#636efa\", \"#EF553B\", \"#00cc96\", \"#ab63fa\", \"#FFA15A\", \"#19d3f3\", \"#FF6692\", \"#B6E880\", \"#FF97FF\", \"#FECB52\"], \"font\": {\"color\": \"#2a3f5f\"}, \"geo\": {\"bgcolor\": \"white\", \"lakecolor\": \"white\", \"landcolor\": \"#E5ECF6\", \"showlakes\": true, \"showland\": true, \"subunitcolor\": \"white\"}, \"hoverlabel\": {\"align\": \"left\"}, \"hovermode\": \"closest\", \"mapbox\": {\"style\": \"light\"}, \"paper_bgcolor\": \"white\", \"plot_bgcolor\": \"#E5ECF6\", \"polar\": {\"angularaxis\": {\"gridcolor\": \"white\", \"linecolor\": \"white\", \"ticks\": \"\"}, \"bgcolor\": \"#E5ECF6\", \"radialaxis\": {\"gridcolor\": \"white\", \"linecolor\": \"white\", \"ticks\": \"\"}}, \"scene\": {\"xaxis\": {\"backgroundcolor\": \"#E5ECF6\", \"gridcolor\": \"white\", \"gridwidth\": 2, \"linecolor\": \"white\", \"showbackground\": true, \"ticks\": \"\", \"zerolinecolor\": \"white\"}, \"yaxis\": {\"backgroundcolor\": \"#E5ECF6\", \"gridcolor\": \"white\", \"gridwidth\": 2, \"linecolor\": \"white\", \"showbackground\": true, \"ticks\": \"\", \"zerolinecolor\": \"white\"}, \"zaxis\": {\"backgroundcolor\": \"#E5ECF6\", \"gridcolor\": \"white\", \"gridwidth\": 2, \"linecolor\": \"white\", \"showbackground\": true, \"ticks\": \"\", \"zerolinecolor\": \"white\"}}, \"shapedefaults\": {\"line\": {\"color\": \"#2a3f5f\"}}, \"ternary\": {\"aaxis\": {\"gridcolor\": \"white\", \"linecolor\": \"white\", \"ticks\": \"\"}, \"baxis\": {\"gridcolor\": \"white\", \"linecolor\": \"white\", \"ticks\": \"\"}, \"bgcolor\": \"#E5ECF6\", \"caxis\": {\"gridcolor\": \"white\", \"linecolor\": \"white\", \"ticks\": \"\"}}, \"title\": {\"x\": 0.05}, \"xaxis\": {\"automargin\": true, \"gridcolor\": \"white\", \"linecolor\": \"white\", \"ticks\": \"\", \"title\": {\"standoff\": 15}, \"zerolinecolor\": \"white\", \"zerolinewidth\": 2}, \"yaxis\": {\"automargin\": true, \"gridcolor\": \"white\", \"linecolor\": \"white\", \"ticks\": \"\", \"title\": {\"standoff\": 15}, \"zerolinecolor\": \"white\", \"zerolinewidth\": 2}}}, \"title\": {\"text\": \"<b>AMM Curve</b>\"}, \"width\": 1000, \"xaxis\": {\"anchor\": \"y\", \"domain\": [0.0, 1.0], \"range\": [0, 500], \"title\": {\"text\": \"token_A\"}}, \"yaxis\": {\"anchor\": \"x\", \"domain\": [0.0, 1.0], \"range\": [0, 500], \"title\": {\"text\": \"token_B\"}}},                        {\"responsive\": true}                    ).then(function(){\n",
       "                            \n",
       "var gd = document.getElementById('8186c816-736a-462b-acdc-9bfca7d243f3');\n",
       "var x = new MutationObserver(function (mutations, observer) {{\n",
       "        var display = window.getComputedStyle(gd).display;\n",
       "        if (!display || display === 'none') {{\n",
       "            console.log([gd, 'removed!']);\n",
       "            Plotly.purge(gd);\n",
       "            observer.disconnect();\n",
       "        }}\n",
       "}});\n",
       "\n",
       "// Listen for the removal of the full notebook cells\n",
       "var notebookContainer = gd.closest('#notebook-container');\n",
       "if (notebookContainer) {{\n",
       "    x.observe(notebookContainer, {childList: true});\n",
       "}}\n",
       "\n",
       "// Listen for the clearing of the current output cell\n",
       "var outputEl = gd.closest('.output');\n",
       "if (outputEl) {{\n",
       "    x.observe(outputEl, {childList: true});\n",
       "}}\n",
       "\n",
       "                        })                };                });            </script>        </div>"
      ]
     },
     "metadata": {},
     "output_type": "display_data"
    }
   ],
   "source": [
    "#plot curves with all \n",
    "\n",
    "curve = pd.concat([buy_A, buy_B.iloc[::-1]], axis=0, ignore_index=True)\n",
    "fig = px.line(curve, x=\"token_A\", y=\"token_B\", color_discrete_sequence=px.colors.sequential.Plasma)\n",
    "fig.update_xaxes(range=[0, 500])\n",
    "fig.update_yaxes(range=[0, 500])\n",
    "fig.update_layout(height=1000, width=1000, title_text='<b>AMM Curve</b>')\n",
    "\n",
    "fig.show()\n"
   ]
  },
  {
   "cell_type": "code",
   "execution_count": null,
   "id": "7f540308",
   "metadata": {},
   "outputs": [],
   "source": []
  }
 ],
 "metadata": {
  "kernelspec": {
   "display_name": "Python 3",
   "language": "python",
   "name": "python3"
  },
  "language_info": {
   "codemirror_mode": {
    "name": "ipython",
    "version": 3
   },
   "file_extension": ".py",
   "mimetype": "text/x-python",
   "name": "python",
   "nbconvert_exporter": "python",
   "pygments_lexer": "ipython3",
   "version": "3.7.7"
  },
  "toc": {
   "base_numbering": 1,
   "nav_menu": {},
   "number_sections": false,
   "sideBar": true,
   "skip_h1_title": false,
   "title_cell": "Table of Contents",
   "title_sidebar": "Contents",
   "toc_cell": false,
   "toc_position": {
    "height": "calc(100% - 180px)",
    "left": "10px",
    "top": "150px",
    "width": "185px"
   },
   "toc_section_display": true,
   "toc_window_display": true
  }
 },
 "nbformat": 4,
 "nbformat_minor": 5
}
