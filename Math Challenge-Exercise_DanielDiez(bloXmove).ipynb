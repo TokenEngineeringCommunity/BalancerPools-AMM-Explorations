{
 "cells": [
  {
   "cell_type": "markdown",
   "id": "casual-importance",
   "metadata": {},
   "source": [
    "# Balancer Simulations Math Challenge - Basic Exercises"
   ]
  },
  {
   "cell_type": "markdown",
   "id": "laughing-disclosure",
   "metadata": {},
   "source": [
    "This is a series of exercises to gain intuition for the core algorithm in Balancer Pools: the Value Function, and invariant V."
   ]
  },
  {
   "cell_type": "markdown",
   "id": "spoken-corporation",
   "metadata": {},
   "source": [
    "**Exercise:** We'll work on Step 1 questions in our working session on May 25 in teams of 2, facilitated by @Octopus and @akrtws.  \n",
    "**Challenges:** Step 2 will be homework assignments, submitting at least one challenge solved is mandatory for successful participation!  \n",
    "Here's the notebook with challenges: https://github.com/TokenEngineeringCommunity/BalancerPools_Model/blob/fcb67145e8b0f8a1843fe3c6921dbb5a7085938e/Math%20Challenges-Advanced.ipynb"
   ]
  },
  {
   "cell_type": "markdown",
   "id": "sublime-polish",
   "metadata": {},
   "source": [
    "## Exercise:   \n",
    "Let's set up a pool.  \n",
    "\n",
    "We have 100 Token A and 100 Token B, with equal weights.  \n",
    "The price definition in our pool is constraint by the\n",
    "Invariant V in Balancer Pools. \n",
    "\n",
    "a_bal = balance of token A  \n",
    "b_bal = balance of token B  \n",
    "a_weight = weight of token A  \n",
    "b_weight = weight of token B   \n",
    "\n",
    "The weights in this pool are equal for both tokens.\n",
    "For now, we don't have a swap fee."
   ]
  },
  {
   "cell_type": "markdown",
   "id": "thirty-ecuador",
   "metadata": {},
   "source": [
    "# Q1.1: \n",
    "What's the initial spot price of token A in token B?"
   ]
  },
  {
   "source": [
    "The initial spot price is 1:1 due to the equal number of tokens and the equal weigths"
   ],
   "cell_type": "markdown",
   "metadata": {}
  },
  {
   "cell_type": "markdown",
   "id": "forced-surgery",
   "metadata": {},
   "source": [
    "# Q1.2:\n",
    "Now let's assume a series of 99 swaps. With every swap, **1.0 token A is bought from the pool, against token B**.  \n",
    "\n",
    "**a) Create a table \"buy_A\"** with\n",
    "\n",
    "    the token A balances (swap by swap)\n",
    "    the token B balances (swap by swap) - that are constraint by the value function. \n",
    "\n",
    "**b) What do you notice in general?**\n",
    "Write down your findings (in words).\n",
    "\n",
    "**c) How much would Alice have to pay in token B when buying the first 1.0 token A?**\n",
    "Write down your findings (in words). Compare with the initial Spotprice."
   ]
  },
  {
   "cell_type": "code",
   "execution_count": 1,
   "metadata": {},
   "outputs": [],
   "source": [
    "import numpy as np\n",
    "import pandas as pd\n",
    "import plotly.express as px\n",
    "import plotly.graph_objects as go\n",
    "from plotly.subplots import make_subplots"
   ]
  },
  {
   "cell_type": "code",
   "execution_count": 2,
   "metadata": {},
   "outputs": [
    {
     "output_type": "execute_result",
     "data": {
      "text/plain": [
       "    token_A  invariant       token_B    Spot Price  In-Given-Out\n",
       "0       100      100.0    100.000000      1.000000      1.010101\n",
       "1        99      100.0    101.010101      1.020304      1.030715\n",
       "2        98      100.0    102.040816      1.041233      1.051967\n",
       "3        97      100.0    103.092784      1.062812      1.073883\n",
       "4        96      100.0    104.166667      1.085069      1.096491\n",
       "..      ...        ...           ...           ...           ...\n",
       "95        5      100.0   2000.000000    400.000000    500.000000\n",
       "96        4      100.0   2500.000000    625.000000    833.333333\n",
       "97        3      100.0   3333.333333   1111.111111   1666.666667\n",
       "98        2      100.0   5000.000000   2500.000000   5000.000000\n",
       "99        1      100.0  10000.000000  10000.000000           inf\n",
       "\n",
       "[100 rows x 5 columns]"
      ],
      "text/html": "<div>\n<style scoped>\n    .dataframe tbody tr th:only-of-type {\n        vertical-align: middle;\n    }\n\n    .dataframe tbody tr th {\n        vertical-align: top;\n    }\n\n    .dataframe thead th {\n        text-align: right;\n    }\n</style>\n<table border=\"1\" class=\"dataframe\">\n  <thead>\n    <tr style=\"text-align: right;\">\n      <th></th>\n      <th>token_A</th>\n      <th>invariant</th>\n      <th>token_B</th>\n      <th>Spot Price</th>\n      <th>In-Given-Out</th>\n    </tr>\n  </thead>\n  <tbody>\n    <tr>\n      <th>0</th>\n      <td>100</td>\n      <td>100.0</td>\n      <td>100.000000</td>\n      <td>1.000000</td>\n      <td>1.010101</td>\n    </tr>\n    <tr>\n      <th>1</th>\n      <td>99</td>\n      <td>100.0</td>\n      <td>101.010101</td>\n      <td>1.020304</td>\n      <td>1.030715</td>\n    </tr>\n    <tr>\n      <th>2</th>\n      <td>98</td>\n      <td>100.0</td>\n      <td>102.040816</td>\n      <td>1.041233</td>\n      <td>1.051967</td>\n    </tr>\n    <tr>\n      <th>3</th>\n      <td>97</td>\n      <td>100.0</td>\n      <td>103.092784</td>\n      <td>1.062812</td>\n      <td>1.073883</td>\n    </tr>\n    <tr>\n      <th>4</th>\n      <td>96</td>\n      <td>100.0</td>\n      <td>104.166667</td>\n      <td>1.085069</td>\n      <td>1.096491</td>\n    </tr>\n    <tr>\n      <th>...</th>\n      <td>...</td>\n      <td>...</td>\n      <td>...</td>\n      <td>...</td>\n      <td>...</td>\n    </tr>\n    <tr>\n      <th>95</th>\n      <td>5</td>\n      <td>100.0</td>\n      <td>2000.000000</td>\n      <td>400.000000</td>\n      <td>500.000000</td>\n    </tr>\n    <tr>\n      <th>96</th>\n      <td>4</td>\n      <td>100.0</td>\n      <td>2500.000000</td>\n      <td>625.000000</td>\n      <td>833.333333</td>\n    </tr>\n    <tr>\n      <th>97</th>\n      <td>3</td>\n      <td>100.0</td>\n      <td>3333.333333</td>\n      <td>1111.111111</td>\n      <td>1666.666667</td>\n    </tr>\n    <tr>\n      <th>98</th>\n      <td>2</td>\n      <td>100.0</td>\n      <td>5000.000000</td>\n      <td>2500.000000</td>\n      <td>5000.000000</td>\n    </tr>\n    <tr>\n      <th>99</th>\n      <td>1</td>\n      <td>100.0</td>\n      <td>10000.000000</td>\n      <td>10000.000000</td>\n      <td>inf</td>\n    </tr>\n  </tbody>\n</table>\n<p>100 rows × 5 columns</p>\n</div>"
     },
     "metadata": {},
     "execution_count": 2
    }
   ],
   "source": [
    "#set up genesis state\n",
    "a_bal = 100 # initial balance\n",
    "b_bal = 100 # initial balance\n",
    "a_weight = 0.5 #define weight\n",
    "b_weight = 0.5 #define weight\n",
    "s_f = 0.0 #swap fee\n",
    "inv = (a_bal**a_weight)*(b_bal**b_weight) #calculate invariant\n",
    "a_vals = pd.Series(range(100,0,-1))\n",
    "#create dataframe with based on a_vals\n",
    "List = pd.DataFrame(a_vals, columns=['token_A'])\n",
    "\n",
    "#create values for plot, add Y_balances according to current invariant\n",
    "List['invariant'] = inv #value required to calculate token B value\n",
    "List['token_B'] = (List.invariant/(List.token_A**a_weight))**(1/b_weight)# calculate corresponding token_B value according to invariant\n",
    "List['Spot Price'] = List.token_B / List.token_A\n",
    "\n",
    "List['In-Given-Out'] = List.token_B * (( List.token_A / (List.token_A-1) )**(a_weight/b_weight) -1)\n",
    "\n",
    "List"
   ]
  },
  {
   "source": [
    "## Comments\n",
    "\n",
    "b) As the value of token_A is defined with respect to the value of token_B, as the amount of token_A decreases, the value of token_A increases. For token_B, the behavior is right the oposit: the amount of tokens increses while the relative value of them against token_A decreases.\n",
    "IMPORTANT: spot price is the actual price in the pool, however, due to the limited depth of the pool and the effect of the trades on it (slippage), no transaction is performed at the spot price (only infinitesimal transactions). The real price to be paid at any point is shown in the colum 'In-Given_Out' where slippage is included in the calculations.\n",
    "\n",
    "c) look at colum 'In-Given_Out'. The price to buy token_A with token_B increases throught the swaps as token_A revalues against token_B \n",
    "\n"
   ],
   "cell_type": "markdown",
   "metadata": {}
  },
  {
   "cell_type": "markdown",
   "id": "abandoned-chicken",
   "metadata": {},
   "source": [
    "# Q1.3:\n",
    "\n",
    "Now let's assume a series of 99 swaps in the opposite direction. We start again with the original state: We have 100 Token A and 100 Token B.   \n",
    "With every swap, **1.0 token B is bought from the pool, against token A**.\n",
    "\n",
    "Create a table **'buy_B'** with\n",
    "\n",
    "    the token A balances (swap by swap)\n",
    "    the token B balances (swap by swap) - that are constraint by the value function."
   ]
  },
  {
   "cell_type": "code",
   "execution_count": 3,
   "metadata": {},
   "outputs": [
    {
     "output_type": "execute_result",
     "data": {
      "text/plain": [
       "    token_B  invariant       token_A    Spot Price  In-Given-Out\n",
       "80       20      100.0    500.000000     25.000000     26.315789\n",
       "81       19      100.0    526.315789     27.700831     29.239766\n",
       "82       18      100.0    555.555556     30.864198     32.679739\n",
       "83       17      100.0    588.235294     34.602076     36.764706\n",
       "84       16      100.0    625.000000     39.062500     41.666667\n",
       "85       15      100.0    666.666667     44.444444     47.619048\n",
       "86       14      100.0    714.285714     51.020408     54.945055\n",
       "87       13      100.0    769.230769     59.171598     64.102564\n",
       "88       12      100.0    833.333333     69.444444     75.757576\n",
       "89       11      100.0    909.090909     82.644628     90.909091\n",
       "90       10      100.0   1000.000000    100.000000    111.111111\n",
       "91        9      100.0   1111.111111    123.456790    138.888889\n",
       "92        8      100.0   1250.000000    156.250000    178.571429\n",
       "93        7      100.0   1428.571429    204.081633    238.095238\n",
       "94        6      100.0   1666.666667    277.777778    333.333333\n",
       "95        5      100.0   2000.000000    400.000000    500.000000\n",
       "96        4      100.0   2500.000000    625.000000    833.333333\n",
       "97        3      100.0   3333.333333   1111.111111   1666.666667\n",
       "98        2      100.0   5000.000000   2500.000000   5000.000000\n",
       "99        1      100.0  10000.000000  10000.000000           inf"
      ],
      "text/html": "<div>\n<style scoped>\n    .dataframe tbody tr th:only-of-type {\n        vertical-align: middle;\n    }\n\n    .dataframe tbody tr th {\n        vertical-align: top;\n    }\n\n    .dataframe thead th {\n        text-align: right;\n    }\n</style>\n<table border=\"1\" class=\"dataframe\">\n  <thead>\n    <tr style=\"text-align: right;\">\n      <th></th>\n      <th>token_B</th>\n      <th>invariant</th>\n      <th>token_A</th>\n      <th>Spot Price</th>\n      <th>In-Given-Out</th>\n    </tr>\n  </thead>\n  <tbody>\n    <tr>\n      <th>80</th>\n      <td>20</td>\n      <td>100.0</td>\n      <td>500.000000</td>\n      <td>25.000000</td>\n      <td>26.315789</td>\n    </tr>\n    <tr>\n      <th>81</th>\n      <td>19</td>\n      <td>100.0</td>\n      <td>526.315789</td>\n      <td>27.700831</td>\n      <td>29.239766</td>\n    </tr>\n    <tr>\n      <th>82</th>\n      <td>18</td>\n      <td>100.0</td>\n      <td>555.555556</td>\n      <td>30.864198</td>\n      <td>32.679739</td>\n    </tr>\n    <tr>\n      <th>83</th>\n      <td>17</td>\n      <td>100.0</td>\n      <td>588.235294</td>\n      <td>34.602076</td>\n      <td>36.764706</td>\n    </tr>\n    <tr>\n      <th>84</th>\n      <td>16</td>\n      <td>100.0</td>\n      <td>625.000000</td>\n      <td>39.062500</td>\n      <td>41.666667</td>\n    </tr>\n    <tr>\n      <th>85</th>\n      <td>15</td>\n      <td>100.0</td>\n      <td>666.666667</td>\n      <td>44.444444</td>\n      <td>47.619048</td>\n    </tr>\n    <tr>\n      <th>86</th>\n      <td>14</td>\n      <td>100.0</td>\n      <td>714.285714</td>\n      <td>51.020408</td>\n      <td>54.945055</td>\n    </tr>\n    <tr>\n      <th>87</th>\n      <td>13</td>\n      <td>100.0</td>\n      <td>769.230769</td>\n      <td>59.171598</td>\n      <td>64.102564</td>\n    </tr>\n    <tr>\n      <th>88</th>\n      <td>12</td>\n      <td>100.0</td>\n      <td>833.333333</td>\n      <td>69.444444</td>\n      <td>75.757576</td>\n    </tr>\n    <tr>\n      <th>89</th>\n      <td>11</td>\n      <td>100.0</td>\n      <td>909.090909</td>\n      <td>82.644628</td>\n      <td>90.909091</td>\n    </tr>\n    <tr>\n      <th>90</th>\n      <td>10</td>\n      <td>100.0</td>\n      <td>1000.000000</td>\n      <td>100.000000</td>\n      <td>111.111111</td>\n    </tr>\n    <tr>\n      <th>91</th>\n      <td>9</td>\n      <td>100.0</td>\n      <td>1111.111111</td>\n      <td>123.456790</td>\n      <td>138.888889</td>\n    </tr>\n    <tr>\n      <th>92</th>\n      <td>8</td>\n      <td>100.0</td>\n      <td>1250.000000</td>\n      <td>156.250000</td>\n      <td>178.571429</td>\n    </tr>\n    <tr>\n      <th>93</th>\n      <td>7</td>\n      <td>100.0</td>\n      <td>1428.571429</td>\n      <td>204.081633</td>\n      <td>238.095238</td>\n    </tr>\n    <tr>\n      <th>94</th>\n      <td>6</td>\n      <td>100.0</td>\n      <td>1666.666667</td>\n      <td>277.777778</td>\n      <td>333.333333</td>\n    </tr>\n    <tr>\n      <th>95</th>\n      <td>5</td>\n      <td>100.0</td>\n      <td>2000.000000</td>\n      <td>400.000000</td>\n      <td>500.000000</td>\n    </tr>\n    <tr>\n      <th>96</th>\n      <td>4</td>\n      <td>100.0</td>\n      <td>2500.000000</td>\n      <td>625.000000</td>\n      <td>833.333333</td>\n    </tr>\n    <tr>\n      <th>97</th>\n      <td>3</td>\n      <td>100.0</td>\n      <td>3333.333333</td>\n      <td>1111.111111</td>\n      <td>1666.666667</td>\n    </tr>\n    <tr>\n      <th>98</th>\n      <td>2</td>\n      <td>100.0</td>\n      <td>5000.000000</td>\n      <td>2500.000000</td>\n      <td>5000.000000</td>\n    </tr>\n    <tr>\n      <th>99</th>\n      <td>1</td>\n      <td>100.0</td>\n      <td>10000.000000</td>\n      <td>10000.000000</td>\n      <td>inf</td>\n    </tr>\n  </tbody>\n</table>\n</div>"
     },
     "metadata": {},
     "execution_count": 3
    }
   ],
   "source": [
    "#set up genesis state\n",
    "a_bal = 100 # initial balance\n",
    "b_bal = 100 # initial balance\n",
    "a_weight = 0.5 #define weight\n",
    "b_weight = 0.5 #define weight\n",
    "s_f = 0.0 #swap fee\n",
    "inv = (a_bal**a_weight)*(b_bal**b_weight) #calculate invariant\n",
    "b_vals = pd.Series(range(100,0,-1))\n",
    "#create dataframe with based on a_vals\n",
    "List_2 = pd.DataFrame(b_vals, columns=['token_B'])\n",
    "\n",
    "#create values for plot, add Y_balances according to current invariant\n",
    "List_2['invariant'] = inv #value required to calculate token B value\n",
    "List_2['token_A'] = (List_2.invariant/(List_2.token_B**b_weight))**(1/a_weight)# calculate corresponding token_B value according to invariant\n",
    "List_2['Spot Price'] = List_2.token_A / List_2.token_B\n",
    "\n",
    "List_2['In-Given-Out'] = List_2.token_A * (( List_2.token_B / (List_2.token_B-1) )**(a_weight/b_weight) -1)\n",
    "\n",
    "List_2.tail(20)"
   ]
  },
  {
   "source": [
    "We see exactly the same behavior in the opposite direction. This is possible because both initial balances and weights are the same."
   ],
   "cell_type": "markdown",
   "metadata": {}
  },
  {
   "cell_type": "markdown",
   "id": "composite-multimedia",
   "metadata": {},
   "source": [
    "# Q1.4:\n",
    "\n",
    "a) What are the new balances of token A and token B after 90 swaps token A (in) for B (out)?\n",
    "\n",
    "b) How much would Alice have to pay in token A in case she wants to buy the 91st token B? "
   ]
  },
  {
   "source": [
    "a)  After 90 swaps balances are:\n",
    "    token_B = 10\n",
    "    token_A = 1000\n",
    "    SP = 100\n",
    "b)  Cost of buying an extra token_B = 111,1111111"
   ],
   "cell_type": "markdown",
   "metadata": {}
  },
  {
   "cell_type": "markdown",
   "id": "commercial-client",
   "metadata": {},
   "source": [
    "# Q1.5:  \n",
    "Now create a graph (use plotly or similar), and draw the full curve for this series of both kinds of swaps - the AMM curve."
   ]
  },
  {
   "cell_type": "code",
   "execution_count": 4,
   "metadata": {},
   "outputs": [
    {
     "output_type": "display_data",
     "data": {
      "application/vnd.plotly.v1+json": {
       "config": {
        "plotlyServerURL": "https://plot.ly"
       },
       "data": [
        {
         "hovertemplate": "token_A=%{x}<br>token_B=%{y}<extra></extra>",
         "legendgroup": "",
         "line": {
          "color": "#636efa",
          "dash": "solid"
         },
         "mode": "lines",
         "name": "",
         "orientation": "v",
         "showlegend": false,
         "type": "scatter",
         "x": [
          1,
          2,
          3,
          4,
          5,
          6,
          7,
          8,
          9,
          10,
          11,
          12,
          13,
          14,
          15,
          16,
          17,
          18,
          19,
          20,
          21,
          22,
          23,
          24,
          25,
          26,
          27,
          28,
          29,
          30,
          31,
          32,
          33,
          34,
          35,
          36,
          37,
          38,
          39,
          40,
          41,
          42,
          43,
          44,
          45,
          46,
          47,
          48,
          49,
          50,
          51,
          52,
          53,
          54,
          55,
          56,
          57,
          58,
          59,
          60,
          61,
          62,
          63,
          64,
          65,
          66,
          67,
          68,
          69,
          70,
          71,
          72,
          73,
          74,
          75,
          76,
          77,
          78,
          79,
          80,
          81,
          82,
          83,
          84,
          85,
          86,
          87,
          88,
          89,
          90,
          91,
          92,
          93,
          94,
          95,
          96,
          97,
          98,
          99,
          100,
          100,
          101.01010101010101,
          102.0408163265306,
          103.09278350515464,
          104.16666666666669,
          105.26315789473686,
          106.38297872340425,
          107.5268817204301,
          108.69565217391307,
          109.89010989010991,
          111.1111111111111,
          112.35955056179779,
          113.63636363636363,
          114.94252873563217,
          116.27906976744187,
          117.6470588235294,
          119.04761904761908,
          120.48192771084337,
          121.95121951219511,
          123.45679012345678,
          124.99999999999997,
          126.58227848101268,
          128.20512820512818,
          129.87012987012983,
          131.578947368421,
          133.33333333333331,
          135.13513513513513,
          136.98630136986304,
          138.88888888888889,
          140.8450704225352,
          142.85714285714286,
          144.92753623188406,
          147.05882352941177,
          149.25373134328356,
          151.51515151515147,
          153.84615384615387,
          156.25,
          158.73015873015873,
          161.29032258064515,
          163.9344262295082,
          166.66666666666666,
          169.4915254237288,
          172.41379310344826,
          175.43859649122805,
          178.57142857142856,
          181.81818181818184,
          185.18518518518516,
          188.6792452830189,
          192.30769230769232,
          196.07843137254898,
          199.99999999999997,
          204.08163265306123,
          208.33333333333337,
          212.7659574468085,
          217.3913043478261,
          222.2222222222222,
          227.27272727272725,
          232.55813953488374,
          238.09523809523807,
          243.90243902439028,
          250,
          256.41025641025635,
          263.1578947368422,
          270.2702702702703,
          277.7777777777778,
          285.7142857142858,
          294.11764705882354,
          303.03030303030306,
          312.4999999999999,
          322.5806451612904,
          333.3333333333333,
          344.8275862068966,
          357.1428571428571,
          370.3703703703703,
          384.6153846153847,
          400,
          416.66666666666674,
          434.7826086956523,
          454.5454545454545,
          476.1904761904763,
          499.9999999999999,
          526.315789473684,
          555.5555555555555,
          588.2352941176471,
          625,
          666.6666666666666,
          714.2857142857142,
          769.2307692307693,
          833.3333333333335,
          909.090909090909,
          1000,
          1111.1111111111113,
          1249.9999999999995,
          1428.5714285714284,
          1666.666666666667,
          1999.9999999999995,
          2500,
          3333.333333333334,
          4999.999999999998,
          10000
         ],
         "xaxis": "x",
         "y": [
          10000,
          4999.999999999998,
          3333.333333333334,
          2500,
          1999.9999999999995,
          1666.666666666667,
          1428.5714285714284,
          1249.9999999999995,
          1111.1111111111113,
          1000,
          909.090909090909,
          833.3333333333335,
          769.2307692307693,
          714.2857142857142,
          666.6666666666666,
          625,
          588.2352941176471,
          555.5555555555555,
          526.315789473684,
          499.9999999999999,
          476.1904761904763,
          454.5454545454545,
          434.7826086956523,
          416.66666666666674,
          400,
          384.6153846153847,
          370.3703703703703,
          357.1428571428571,
          344.8275862068966,
          333.3333333333333,
          322.5806451612904,
          312.4999999999999,
          303.03030303030306,
          294.11764705882354,
          285.7142857142858,
          277.7777777777778,
          270.2702702702703,
          263.1578947368422,
          256.41025641025635,
          250,
          243.90243902439028,
          238.09523809523807,
          232.55813953488374,
          227.27272727272725,
          222.2222222222222,
          217.3913043478261,
          212.7659574468085,
          208.33333333333337,
          204.08163265306123,
          199.99999999999997,
          196.07843137254898,
          192.30769230769232,
          188.6792452830189,
          185.18518518518516,
          181.81818181818184,
          178.57142857142856,
          175.43859649122805,
          172.41379310344826,
          169.4915254237288,
          166.66666666666666,
          163.9344262295082,
          161.29032258064515,
          158.73015873015873,
          156.25,
          153.84615384615387,
          151.51515151515147,
          149.25373134328356,
          147.05882352941177,
          144.92753623188406,
          142.85714285714286,
          140.8450704225352,
          138.88888888888889,
          136.98630136986304,
          135.13513513513513,
          133.33333333333331,
          131.578947368421,
          129.87012987012983,
          128.20512820512818,
          126.58227848101268,
          124.99999999999997,
          123.45679012345678,
          121.95121951219511,
          120.48192771084337,
          119.04761904761908,
          117.6470588235294,
          116.27906976744187,
          114.94252873563217,
          113.63636363636363,
          112.35955056179779,
          111.1111111111111,
          109.89010989010991,
          108.69565217391307,
          107.5268817204301,
          106.38297872340425,
          105.26315789473686,
          104.16666666666669,
          103.09278350515464,
          102.0408163265306,
          101.01010101010101,
          100,
          100,
          99,
          98,
          97,
          96,
          95,
          94,
          93,
          92,
          91,
          90,
          89,
          88,
          87,
          86,
          85,
          84,
          83,
          82,
          81,
          80,
          79,
          78,
          77,
          76,
          75,
          74,
          73,
          72,
          71,
          70,
          69,
          68,
          67,
          66,
          65,
          64,
          63,
          62,
          61,
          60,
          59,
          58,
          57,
          56,
          55,
          54,
          53,
          52,
          51,
          50,
          49,
          48,
          47,
          46,
          45,
          44,
          43,
          42,
          41,
          40,
          39,
          38,
          37,
          36,
          35,
          34,
          33,
          32,
          31,
          30,
          29,
          28,
          27,
          26,
          25,
          24,
          23,
          22,
          21,
          20,
          19,
          18,
          17,
          16,
          15,
          14,
          13,
          12,
          11,
          10,
          9,
          8,
          7,
          6,
          5,
          4,
          3,
          2,
          1
         ],
         "yaxis": "y"
        }
       ],
       "layout": {
        "height": 1000,
        "legend": {
         "tracegroupgap": 0
        },
        "margin": {
         "t": 60
        },
        "template": {
         "data": {
          "bar": [
           {
            "error_x": {
             "color": "#2a3f5f"
            },
            "error_y": {
             "color": "#2a3f5f"
            },
            "marker": {
             "line": {
              "color": "#E5ECF6",
              "width": 0.5
             }
            },
            "type": "bar"
           }
          ],
          "barpolar": [
           {
            "marker": {
             "line": {
              "color": "#E5ECF6",
              "width": 0.5
             }
            },
            "type": "barpolar"
           }
          ],
          "carpet": [
           {
            "aaxis": {
             "endlinecolor": "#2a3f5f",
             "gridcolor": "white",
             "linecolor": "white",
             "minorgridcolor": "white",
             "startlinecolor": "#2a3f5f"
            },
            "baxis": {
             "endlinecolor": "#2a3f5f",
             "gridcolor": "white",
             "linecolor": "white",
             "minorgridcolor": "white",
             "startlinecolor": "#2a3f5f"
            },
            "type": "carpet"
           }
          ],
          "choropleth": [
           {
            "colorbar": {
             "outlinewidth": 0,
             "ticks": ""
            },
            "type": "choropleth"
           }
          ],
          "contour": [
           {
            "colorbar": {
             "outlinewidth": 0,
             "ticks": ""
            },
            "colorscale": [
             [
              0,
              "#0d0887"
             ],
             [
              0.1111111111111111,
              "#46039f"
             ],
             [
              0.2222222222222222,
              "#7201a8"
             ],
             [
              0.3333333333333333,
              "#9c179e"
             ],
             [
              0.4444444444444444,
              "#bd3786"
             ],
             [
              0.5555555555555556,
              "#d8576b"
             ],
             [
              0.6666666666666666,
              "#ed7953"
             ],
             [
              0.7777777777777778,
              "#fb9f3a"
             ],
             [
              0.8888888888888888,
              "#fdca26"
             ],
             [
              1,
              "#f0f921"
             ]
            ],
            "type": "contour"
           }
          ],
          "contourcarpet": [
           {
            "colorbar": {
             "outlinewidth": 0,
             "ticks": ""
            },
            "type": "contourcarpet"
           }
          ],
          "heatmap": [
           {
            "colorbar": {
             "outlinewidth": 0,
             "ticks": ""
            },
            "colorscale": [
             [
              0,
              "#0d0887"
             ],
             [
              0.1111111111111111,
              "#46039f"
             ],
             [
              0.2222222222222222,
              "#7201a8"
             ],
             [
              0.3333333333333333,
              "#9c179e"
             ],
             [
              0.4444444444444444,
              "#bd3786"
             ],
             [
              0.5555555555555556,
              "#d8576b"
             ],
             [
              0.6666666666666666,
              "#ed7953"
             ],
             [
              0.7777777777777778,
              "#fb9f3a"
             ],
             [
              0.8888888888888888,
              "#fdca26"
             ],
             [
              1,
              "#f0f921"
             ]
            ],
            "type": "heatmap"
           }
          ],
          "heatmapgl": [
           {
            "colorbar": {
             "outlinewidth": 0,
             "ticks": ""
            },
            "colorscale": [
             [
              0,
              "#0d0887"
             ],
             [
              0.1111111111111111,
              "#46039f"
             ],
             [
              0.2222222222222222,
              "#7201a8"
             ],
             [
              0.3333333333333333,
              "#9c179e"
             ],
             [
              0.4444444444444444,
              "#bd3786"
             ],
             [
              0.5555555555555556,
              "#d8576b"
             ],
             [
              0.6666666666666666,
              "#ed7953"
             ],
             [
              0.7777777777777778,
              "#fb9f3a"
             ],
             [
              0.8888888888888888,
              "#fdca26"
             ],
             [
              1,
              "#f0f921"
             ]
            ],
            "type": "heatmapgl"
           }
          ],
          "histogram": [
           {
            "marker": {
             "colorbar": {
              "outlinewidth": 0,
              "ticks": ""
             }
            },
            "type": "histogram"
           }
          ],
          "histogram2d": [
           {
            "colorbar": {
             "outlinewidth": 0,
             "ticks": ""
            },
            "colorscale": [
             [
              0,
              "#0d0887"
             ],
             [
              0.1111111111111111,
              "#46039f"
             ],
             [
              0.2222222222222222,
              "#7201a8"
             ],
             [
              0.3333333333333333,
              "#9c179e"
             ],
             [
              0.4444444444444444,
              "#bd3786"
             ],
             [
              0.5555555555555556,
              "#d8576b"
             ],
             [
              0.6666666666666666,
              "#ed7953"
             ],
             [
              0.7777777777777778,
              "#fb9f3a"
             ],
             [
              0.8888888888888888,
              "#fdca26"
             ],
             [
              1,
              "#f0f921"
             ]
            ],
            "type": "histogram2d"
           }
          ],
          "histogram2dcontour": [
           {
            "colorbar": {
             "outlinewidth": 0,
             "ticks": ""
            },
            "colorscale": [
             [
              0,
              "#0d0887"
             ],
             [
              0.1111111111111111,
              "#46039f"
             ],
             [
              0.2222222222222222,
              "#7201a8"
             ],
             [
              0.3333333333333333,
              "#9c179e"
             ],
             [
              0.4444444444444444,
              "#bd3786"
             ],
             [
              0.5555555555555556,
              "#d8576b"
             ],
             [
              0.6666666666666666,
              "#ed7953"
             ],
             [
              0.7777777777777778,
              "#fb9f3a"
             ],
             [
              0.8888888888888888,
              "#fdca26"
             ],
             [
              1,
              "#f0f921"
             ]
            ],
            "type": "histogram2dcontour"
           }
          ],
          "mesh3d": [
           {
            "colorbar": {
             "outlinewidth": 0,
             "ticks": ""
            },
            "type": "mesh3d"
           }
          ],
          "parcoords": [
           {
            "line": {
             "colorbar": {
              "outlinewidth": 0,
              "ticks": ""
             }
            },
            "type": "parcoords"
           }
          ],
          "pie": [
           {
            "automargin": true,
            "type": "pie"
           }
          ],
          "scatter": [
           {
            "marker": {
             "colorbar": {
              "outlinewidth": 0,
              "ticks": ""
             }
            },
            "type": "scatter"
           }
          ],
          "scatter3d": [
           {
            "line": {
             "colorbar": {
              "outlinewidth": 0,
              "ticks": ""
             }
            },
            "marker": {
             "colorbar": {
              "outlinewidth": 0,
              "ticks": ""
             }
            },
            "type": "scatter3d"
           }
          ],
          "scattercarpet": [
           {
            "marker": {
             "colorbar": {
              "outlinewidth": 0,
              "ticks": ""
             }
            },
            "type": "scattercarpet"
           }
          ],
          "scattergeo": [
           {
            "marker": {
             "colorbar": {
              "outlinewidth": 0,
              "ticks": ""
             }
            },
            "type": "scattergeo"
           }
          ],
          "scattergl": [
           {
            "marker": {
             "colorbar": {
              "outlinewidth": 0,
              "ticks": ""
             }
            },
            "type": "scattergl"
           }
          ],
          "scattermapbox": [
           {
            "marker": {
             "colorbar": {
              "outlinewidth": 0,
              "ticks": ""
             }
            },
            "type": "scattermapbox"
           }
          ],
          "scatterpolar": [
           {
            "marker": {
             "colorbar": {
              "outlinewidth": 0,
              "ticks": ""
             }
            },
            "type": "scatterpolar"
           }
          ],
          "scatterpolargl": [
           {
            "marker": {
             "colorbar": {
              "outlinewidth": 0,
              "ticks": ""
             }
            },
            "type": "scatterpolargl"
           }
          ],
          "scatterternary": [
           {
            "marker": {
             "colorbar": {
              "outlinewidth": 0,
              "ticks": ""
             }
            },
            "type": "scatterternary"
           }
          ],
          "surface": [
           {
            "colorbar": {
             "outlinewidth": 0,
             "ticks": ""
            },
            "colorscale": [
             [
              0,
              "#0d0887"
             ],
             [
              0.1111111111111111,
              "#46039f"
             ],
             [
              0.2222222222222222,
              "#7201a8"
             ],
             [
              0.3333333333333333,
              "#9c179e"
             ],
             [
              0.4444444444444444,
              "#bd3786"
             ],
             [
              0.5555555555555556,
              "#d8576b"
             ],
             [
              0.6666666666666666,
              "#ed7953"
             ],
             [
              0.7777777777777778,
              "#fb9f3a"
             ],
             [
              0.8888888888888888,
              "#fdca26"
             ],
             [
              1,
              "#f0f921"
             ]
            ],
            "type": "surface"
           }
          ],
          "table": [
           {
            "cells": {
             "fill": {
              "color": "#EBF0F8"
             },
             "line": {
              "color": "white"
             }
            },
            "header": {
             "fill": {
              "color": "#C8D4E3"
             },
             "line": {
              "color": "white"
             }
            },
            "type": "table"
           }
          ]
         },
         "layout": {
          "annotationdefaults": {
           "arrowcolor": "#2a3f5f",
           "arrowhead": 0,
           "arrowwidth": 1
          },
          "coloraxis": {
           "colorbar": {
            "outlinewidth": 0,
            "ticks": ""
           }
          },
          "colorscale": {
           "diverging": [
            [
             0,
             "#8e0152"
            ],
            [
             0.1,
             "#c51b7d"
            ],
            [
             0.2,
             "#de77ae"
            ],
            [
             0.3,
             "#f1b6da"
            ],
            [
             0.4,
             "#fde0ef"
            ],
            [
             0.5,
             "#f7f7f7"
            ],
            [
             0.6,
             "#e6f5d0"
            ],
            [
             0.7,
             "#b8e186"
            ],
            [
             0.8,
             "#7fbc41"
            ],
            [
             0.9,
             "#4d9221"
            ],
            [
             1,
             "#276419"
            ]
           ],
           "sequential": [
            [
             0,
             "#0d0887"
            ],
            [
             0.1111111111111111,
             "#46039f"
            ],
            [
             0.2222222222222222,
             "#7201a8"
            ],
            [
             0.3333333333333333,
             "#9c179e"
            ],
            [
             0.4444444444444444,
             "#bd3786"
            ],
            [
             0.5555555555555556,
             "#d8576b"
            ],
            [
             0.6666666666666666,
             "#ed7953"
            ],
            [
             0.7777777777777778,
             "#fb9f3a"
            ],
            [
             0.8888888888888888,
             "#fdca26"
            ],
            [
             1,
             "#f0f921"
            ]
           ],
           "sequentialminus": [
            [
             0,
             "#0d0887"
            ],
            [
             0.1111111111111111,
             "#46039f"
            ],
            [
             0.2222222222222222,
             "#7201a8"
            ],
            [
             0.3333333333333333,
             "#9c179e"
            ],
            [
             0.4444444444444444,
             "#bd3786"
            ],
            [
             0.5555555555555556,
             "#d8576b"
            ],
            [
             0.6666666666666666,
             "#ed7953"
            ],
            [
             0.7777777777777778,
             "#fb9f3a"
            ],
            [
             0.8888888888888888,
             "#fdca26"
            ],
            [
             1,
             "#f0f921"
            ]
           ]
          },
          "colorway": [
           "#636efa",
           "#EF553B",
           "#00cc96",
           "#ab63fa",
           "#FFA15A",
           "#19d3f3",
           "#FF6692",
           "#B6E880",
           "#FF97FF",
           "#FECB52"
          ],
          "font": {
           "color": "#2a3f5f"
          },
          "geo": {
           "bgcolor": "white",
           "lakecolor": "white",
           "landcolor": "#E5ECF6",
           "showlakes": true,
           "showland": true,
           "subunitcolor": "white"
          },
          "hoverlabel": {
           "align": "left"
          },
          "hovermode": "closest",
          "mapbox": {
           "style": "light"
          },
          "paper_bgcolor": "white",
          "plot_bgcolor": "#E5ECF6",
          "polar": {
           "angularaxis": {
            "gridcolor": "white",
            "linecolor": "white",
            "ticks": ""
           },
           "bgcolor": "#E5ECF6",
           "radialaxis": {
            "gridcolor": "white",
            "linecolor": "white",
            "ticks": ""
           }
          },
          "scene": {
           "xaxis": {
            "backgroundcolor": "#E5ECF6",
            "gridcolor": "white",
            "gridwidth": 2,
            "linecolor": "white",
            "showbackground": true,
            "ticks": "",
            "zerolinecolor": "white"
           },
           "yaxis": {
            "backgroundcolor": "#E5ECF6",
            "gridcolor": "white",
            "gridwidth": 2,
            "linecolor": "white",
            "showbackground": true,
            "ticks": "",
            "zerolinecolor": "white"
           },
           "zaxis": {
            "backgroundcolor": "#E5ECF6",
            "gridcolor": "white",
            "gridwidth": 2,
            "linecolor": "white",
            "showbackground": true,
            "ticks": "",
            "zerolinecolor": "white"
           }
          },
          "shapedefaults": {
           "line": {
            "color": "#2a3f5f"
           }
          },
          "ternary": {
           "aaxis": {
            "gridcolor": "white",
            "linecolor": "white",
            "ticks": ""
           },
           "baxis": {
            "gridcolor": "white",
            "linecolor": "white",
            "ticks": ""
           },
           "bgcolor": "#E5ECF6",
           "caxis": {
            "gridcolor": "white",
            "linecolor": "white",
            "ticks": ""
           }
          },
          "title": {
           "x": 0.05
          },
          "xaxis": {
           "automargin": true,
           "gridcolor": "white",
           "linecolor": "white",
           "ticks": "",
           "title": {
            "standoff": 15
           },
           "zerolinecolor": "white",
           "zerolinewidth": 2
          },
          "yaxis": {
           "automargin": true,
           "gridcolor": "white",
           "linecolor": "white",
           "ticks": "",
           "title": {
            "standoff": 15
           },
           "zerolinecolor": "white",
           "zerolinewidth": 2
          }
         }
        },
        "title": {
         "text": "<b>AMM Curve</b>"
        },
        "width": 1000,
        "xaxis": {
         "anchor": "y",
         "domain": [
          0,
          1
         ],
         "range": [
          0,
          1000
         ],
         "title": {
          "text": "token_A"
         }
        },
        "yaxis": {
         "anchor": "x",
         "domain": [
          0,
          1
         ],
         "range": [
          0,
          1000
         ],
         "title": {
          "text": "token_B"
         }
        }
       }
      }
     },
     "metadata": {}
    }
   ],
   "source": [
    "#plot curves with all \n",
    "List = List[['token_A', 'token_B']]\n",
    "List_2 = List_2[['token_B', 'token_A']]\n",
    "curve = pd.concat([List.iloc[::-1], List_2], axis=0, ignore_index=True)\n",
    "fig = px.line(curve, x=\"token_A\", y=\"token_B\")\n",
    "fig.update_xaxes(range=[0, 1000])\n",
    "fig.update_yaxes(range=[0, 1000])\n",
    "fig.update_layout(height=1000, width=1000, title_text='<b>AMM Curve</b>')\n",
    "\n",
    "fig.show()"
   ]
  },
  {
   "cell_type": "markdown",
   "id": "about-comparison",
   "metadata": {},
   "source": [
    "# Q1.6:\n",
    "Take this plot, and mark \n",
    "- the initial price in Q1.1 (starting price)\n",
    "- the new price in Q1.4 (after 90 swaps)\n",
    "\n",
    "Side note: Why is it actually not appropriate to call this a \"price\". What would be a better name?"
   ]
  },
  {
   "cell_type": "code",
   "execution_count": 10,
   "metadata": {},
   "outputs": [
    {
     "output_type": "display_data",
     "data": {
      "application/vnd.plotly.v1+json": {
       "config": {
        "plotlyServerURL": "https://plot.ly"
       },
       "data": [
        {
         "hovertemplate": "token_A=%{x}<br>token_B=%{y}<extra></extra>",
         "legendgroup": "",
         "line": {
          "color": "#636efa",
          "dash": "solid"
         },
         "mode": "lines",
         "name": "",
         "orientation": "v",
         "showlegend": false,
         "type": "scatter",
         "x": [
          1,
          2,
          3,
          4,
          5,
          6,
          7,
          8,
          9,
          10,
          11,
          12,
          13,
          14,
          15,
          16,
          17,
          18,
          19,
          20,
          21,
          22,
          23,
          24,
          25,
          26,
          27,
          28,
          29,
          30,
          31,
          32,
          33,
          34,
          35,
          36,
          37,
          38,
          39,
          40,
          41,
          42,
          43,
          44,
          45,
          46,
          47,
          48,
          49,
          50,
          51,
          52,
          53,
          54,
          55,
          56,
          57,
          58,
          59,
          60,
          61,
          62,
          63,
          64,
          65,
          66,
          67,
          68,
          69,
          70,
          71,
          72,
          73,
          74,
          75,
          76,
          77,
          78,
          79,
          80,
          81,
          82,
          83,
          84,
          85,
          86,
          87,
          88,
          89,
          90,
          91,
          92,
          93,
          94,
          95,
          96,
          97,
          98,
          99,
          100,
          100,
          101.01010101010101,
          102.0408163265306,
          103.09278350515464,
          104.16666666666669,
          105.26315789473686,
          106.38297872340425,
          107.5268817204301,
          108.69565217391307,
          109.89010989010991,
          111.1111111111111,
          112.35955056179779,
          113.63636363636363,
          114.94252873563217,
          116.27906976744187,
          117.6470588235294,
          119.04761904761908,
          120.48192771084337,
          121.95121951219511,
          123.45679012345678,
          124.99999999999997,
          126.58227848101268,
          128.20512820512818,
          129.87012987012983,
          131.578947368421,
          133.33333333333331,
          135.13513513513513,
          136.98630136986304,
          138.88888888888889,
          140.8450704225352,
          142.85714285714286,
          144.92753623188406,
          147.05882352941177,
          149.25373134328356,
          151.51515151515147,
          153.84615384615387,
          156.25,
          158.73015873015873,
          161.29032258064515,
          163.9344262295082,
          166.66666666666666,
          169.4915254237288,
          172.41379310344826,
          175.43859649122805,
          178.57142857142856,
          181.81818181818184,
          185.18518518518516,
          188.6792452830189,
          192.30769230769232,
          196.07843137254898,
          199.99999999999997,
          204.08163265306123,
          208.33333333333337,
          212.7659574468085,
          217.3913043478261,
          222.2222222222222,
          227.27272727272725,
          232.55813953488374,
          238.09523809523807,
          243.90243902439028,
          250,
          256.41025641025635,
          263.1578947368422,
          270.2702702702703,
          277.7777777777778,
          285.7142857142858,
          294.11764705882354,
          303.03030303030306,
          312.4999999999999,
          322.5806451612904,
          333.3333333333333,
          344.8275862068966,
          357.1428571428571,
          370.3703703703703,
          384.6153846153847,
          400,
          416.66666666666674,
          434.7826086956523,
          454.5454545454545,
          476.1904761904763,
          499.9999999999999,
          526.315789473684,
          555.5555555555555,
          588.2352941176471,
          625,
          666.6666666666666,
          714.2857142857142,
          769.2307692307693,
          833.3333333333335,
          909.090909090909,
          1000,
          1111.1111111111113,
          1249.9999999999995,
          1428.5714285714284,
          1666.666666666667,
          1999.9999999999995,
          2500,
          3333.333333333334,
          4999.999999999998,
          10000
         ],
         "xaxis": "x",
         "y": [
          10000,
          4999.999999999998,
          3333.333333333334,
          2500,
          1999.9999999999995,
          1666.666666666667,
          1428.5714285714284,
          1249.9999999999995,
          1111.1111111111113,
          1000,
          909.090909090909,
          833.3333333333335,
          769.2307692307693,
          714.2857142857142,
          666.6666666666666,
          625,
          588.2352941176471,
          555.5555555555555,
          526.315789473684,
          499.9999999999999,
          476.1904761904763,
          454.5454545454545,
          434.7826086956523,
          416.66666666666674,
          400,
          384.6153846153847,
          370.3703703703703,
          357.1428571428571,
          344.8275862068966,
          333.3333333333333,
          322.5806451612904,
          312.4999999999999,
          303.03030303030306,
          294.11764705882354,
          285.7142857142858,
          277.7777777777778,
          270.2702702702703,
          263.1578947368422,
          256.41025641025635,
          250,
          243.90243902439028,
          238.09523809523807,
          232.55813953488374,
          227.27272727272725,
          222.2222222222222,
          217.3913043478261,
          212.7659574468085,
          208.33333333333337,
          204.08163265306123,
          199.99999999999997,
          196.07843137254898,
          192.30769230769232,
          188.6792452830189,
          185.18518518518516,
          181.81818181818184,
          178.57142857142856,
          175.43859649122805,
          172.41379310344826,
          169.4915254237288,
          166.66666666666666,
          163.9344262295082,
          161.29032258064515,
          158.73015873015873,
          156.25,
          153.84615384615387,
          151.51515151515147,
          149.25373134328356,
          147.05882352941177,
          144.92753623188406,
          142.85714285714286,
          140.8450704225352,
          138.88888888888889,
          136.98630136986304,
          135.13513513513513,
          133.33333333333331,
          131.578947368421,
          129.87012987012983,
          128.20512820512818,
          126.58227848101268,
          124.99999999999997,
          123.45679012345678,
          121.95121951219511,
          120.48192771084337,
          119.04761904761908,
          117.6470588235294,
          116.27906976744187,
          114.94252873563217,
          113.63636363636363,
          112.35955056179779,
          111.1111111111111,
          109.89010989010991,
          108.69565217391307,
          107.5268817204301,
          106.38297872340425,
          105.26315789473686,
          104.16666666666669,
          103.09278350515464,
          102.0408163265306,
          101.01010101010101,
          100,
          100,
          99,
          98,
          97,
          96,
          95,
          94,
          93,
          92,
          91,
          90,
          89,
          88,
          87,
          86,
          85,
          84,
          83,
          82,
          81,
          80,
          79,
          78,
          77,
          76,
          75,
          74,
          73,
          72,
          71,
          70,
          69,
          68,
          67,
          66,
          65,
          64,
          63,
          62,
          61,
          60,
          59,
          58,
          57,
          56,
          55,
          54,
          53,
          52,
          51,
          50,
          49,
          48,
          47,
          46,
          45,
          44,
          43,
          42,
          41,
          40,
          39,
          38,
          37,
          36,
          35,
          34,
          33,
          32,
          31,
          30,
          29,
          28,
          27,
          26,
          25,
          24,
          23,
          22,
          21,
          20,
          19,
          18,
          17,
          16,
          15,
          14,
          13,
          12,
          11,
          10,
          9,
          8,
          7,
          6,
          5,
          4,
          3,
          2,
          1
         ],
         "yaxis": "y"
        }
       ],
       "layout": {
        "annotations": [
         {
          "arrowhead": 1,
          "showarrow": true,
          "text": "SP = 100/100 = 1",
          "x": 100,
          "y": 100
         },
         {
          "arrowhead": 1,
          "showarrow": true,
          "text": "SP = 1000/10 = 100",
          "x": 10,
          "y": 1000
         }
        ],
        "height": 1000,
        "legend": {
         "tracegroupgap": 0
        },
        "margin": {
         "t": 60
        },
        "template": {
         "data": {
          "bar": [
           {
            "error_x": {
             "color": "#2a3f5f"
            },
            "error_y": {
             "color": "#2a3f5f"
            },
            "marker": {
             "line": {
              "color": "#E5ECF6",
              "width": 0.5
             }
            },
            "type": "bar"
           }
          ],
          "barpolar": [
           {
            "marker": {
             "line": {
              "color": "#E5ECF6",
              "width": 0.5
             }
            },
            "type": "barpolar"
           }
          ],
          "carpet": [
           {
            "aaxis": {
             "endlinecolor": "#2a3f5f",
             "gridcolor": "white",
             "linecolor": "white",
             "minorgridcolor": "white",
             "startlinecolor": "#2a3f5f"
            },
            "baxis": {
             "endlinecolor": "#2a3f5f",
             "gridcolor": "white",
             "linecolor": "white",
             "minorgridcolor": "white",
             "startlinecolor": "#2a3f5f"
            },
            "type": "carpet"
           }
          ],
          "choropleth": [
           {
            "colorbar": {
             "outlinewidth": 0,
             "ticks": ""
            },
            "type": "choropleth"
           }
          ],
          "contour": [
           {
            "colorbar": {
             "outlinewidth": 0,
             "ticks": ""
            },
            "colorscale": [
             [
              0,
              "#0d0887"
             ],
             [
              0.1111111111111111,
              "#46039f"
             ],
             [
              0.2222222222222222,
              "#7201a8"
             ],
             [
              0.3333333333333333,
              "#9c179e"
             ],
             [
              0.4444444444444444,
              "#bd3786"
             ],
             [
              0.5555555555555556,
              "#d8576b"
             ],
             [
              0.6666666666666666,
              "#ed7953"
             ],
             [
              0.7777777777777778,
              "#fb9f3a"
             ],
             [
              0.8888888888888888,
              "#fdca26"
             ],
             [
              1,
              "#f0f921"
             ]
            ],
            "type": "contour"
           }
          ],
          "contourcarpet": [
           {
            "colorbar": {
             "outlinewidth": 0,
             "ticks": ""
            },
            "type": "contourcarpet"
           }
          ],
          "heatmap": [
           {
            "colorbar": {
             "outlinewidth": 0,
             "ticks": ""
            },
            "colorscale": [
             [
              0,
              "#0d0887"
             ],
             [
              0.1111111111111111,
              "#46039f"
             ],
             [
              0.2222222222222222,
              "#7201a8"
             ],
             [
              0.3333333333333333,
              "#9c179e"
             ],
             [
              0.4444444444444444,
              "#bd3786"
             ],
             [
              0.5555555555555556,
              "#d8576b"
             ],
             [
              0.6666666666666666,
              "#ed7953"
             ],
             [
              0.7777777777777778,
              "#fb9f3a"
             ],
             [
              0.8888888888888888,
              "#fdca26"
             ],
             [
              1,
              "#f0f921"
             ]
            ],
            "type": "heatmap"
           }
          ],
          "heatmapgl": [
           {
            "colorbar": {
             "outlinewidth": 0,
             "ticks": ""
            },
            "colorscale": [
             [
              0,
              "#0d0887"
             ],
             [
              0.1111111111111111,
              "#46039f"
             ],
             [
              0.2222222222222222,
              "#7201a8"
             ],
             [
              0.3333333333333333,
              "#9c179e"
             ],
             [
              0.4444444444444444,
              "#bd3786"
             ],
             [
              0.5555555555555556,
              "#d8576b"
             ],
             [
              0.6666666666666666,
              "#ed7953"
             ],
             [
              0.7777777777777778,
              "#fb9f3a"
             ],
             [
              0.8888888888888888,
              "#fdca26"
             ],
             [
              1,
              "#f0f921"
             ]
            ],
            "type": "heatmapgl"
           }
          ],
          "histogram": [
           {
            "marker": {
             "colorbar": {
              "outlinewidth": 0,
              "ticks": ""
             }
            },
            "type": "histogram"
           }
          ],
          "histogram2d": [
           {
            "colorbar": {
             "outlinewidth": 0,
             "ticks": ""
            },
            "colorscale": [
             [
              0,
              "#0d0887"
             ],
             [
              0.1111111111111111,
              "#46039f"
             ],
             [
              0.2222222222222222,
              "#7201a8"
             ],
             [
              0.3333333333333333,
              "#9c179e"
             ],
             [
              0.4444444444444444,
              "#bd3786"
             ],
             [
              0.5555555555555556,
              "#d8576b"
             ],
             [
              0.6666666666666666,
              "#ed7953"
             ],
             [
              0.7777777777777778,
              "#fb9f3a"
             ],
             [
              0.8888888888888888,
              "#fdca26"
             ],
             [
              1,
              "#f0f921"
             ]
            ],
            "type": "histogram2d"
           }
          ],
          "histogram2dcontour": [
           {
            "colorbar": {
             "outlinewidth": 0,
             "ticks": ""
            },
            "colorscale": [
             [
              0,
              "#0d0887"
             ],
             [
              0.1111111111111111,
              "#46039f"
             ],
             [
              0.2222222222222222,
              "#7201a8"
             ],
             [
              0.3333333333333333,
              "#9c179e"
             ],
             [
              0.4444444444444444,
              "#bd3786"
             ],
             [
              0.5555555555555556,
              "#d8576b"
             ],
             [
              0.6666666666666666,
              "#ed7953"
             ],
             [
              0.7777777777777778,
              "#fb9f3a"
             ],
             [
              0.8888888888888888,
              "#fdca26"
             ],
             [
              1,
              "#f0f921"
             ]
            ],
            "type": "histogram2dcontour"
           }
          ],
          "mesh3d": [
           {
            "colorbar": {
             "outlinewidth": 0,
             "ticks": ""
            },
            "type": "mesh3d"
           }
          ],
          "parcoords": [
           {
            "line": {
             "colorbar": {
              "outlinewidth": 0,
              "ticks": ""
             }
            },
            "type": "parcoords"
           }
          ],
          "pie": [
           {
            "automargin": true,
            "type": "pie"
           }
          ],
          "scatter": [
           {
            "marker": {
             "colorbar": {
              "outlinewidth": 0,
              "ticks": ""
             }
            },
            "type": "scatter"
           }
          ],
          "scatter3d": [
           {
            "line": {
             "colorbar": {
              "outlinewidth": 0,
              "ticks": ""
             }
            },
            "marker": {
             "colorbar": {
              "outlinewidth": 0,
              "ticks": ""
             }
            },
            "type": "scatter3d"
           }
          ],
          "scattercarpet": [
           {
            "marker": {
             "colorbar": {
              "outlinewidth": 0,
              "ticks": ""
             }
            },
            "type": "scattercarpet"
           }
          ],
          "scattergeo": [
           {
            "marker": {
             "colorbar": {
              "outlinewidth": 0,
              "ticks": ""
             }
            },
            "type": "scattergeo"
           }
          ],
          "scattergl": [
           {
            "marker": {
             "colorbar": {
              "outlinewidth": 0,
              "ticks": ""
             }
            },
            "type": "scattergl"
           }
          ],
          "scattermapbox": [
           {
            "marker": {
             "colorbar": {
              "outlinewidth": 0,
              "ticks": ""
             }
            },
            "type": "scattermapbox"
           }
          ],
          "scatterpolar": [
           {
            "marker": {
             "colorbar": {
              "outlinewidth": 0,
              "ticks": ""
             }
            },
            "type": "scatterpolar"
           }
          ],
          "scatterpolargl": [
           {
            "marker": {
             "colorbar": {
              "outlinewidth": 0,
              "ticks": ""
             }
            },
            "type": "scatterpolargl"
           }
          ],
          "scatterternary": [
           {
            "marker": {
             "colorbar": {
              "outlinewidth": 0,
              "ticks": ""
             }
            },
            "type": "scatterternary"
           }
          ],
          "surface": [
           {
            "colorbar": {
             "outlinewidth": 0,
             "ticks": ""
            },
            "colorscale": [
             [
              0,
              "#0d0887"
             ],
             [
              0.1111111111111111,
              "#46039f"
             ],
             [
              0.2222222222222222,
              "#7201a8"
             ],
             [
              0.3333333333333333,
              "#9c179e"
             ],
             [
              0.4444444444444444,
              "#bd3786"
             ],
             [
              0.5555555555555556,
              "#d8576b"
             ],
             [
              0.6666666666666666,
              "#ed7953"
             ],
             [
              0.7777777777777778,
              "#fb9f3a"
             ],
             [
              0.8888888888888888,
              "#fdca26"
             ],
             [
              1,
              "#f0f921"
             ]
            ],
            "type": "surface"
           }
          ],
          "table": [
           {
            "cells": {
             "fill": {
              "color": "#EBF0F8"
             },
             "line": {
              "color": "white"
             }
            },
            "header": {
             "fill": {
              "color": "#C8D4E3"
             },
             "line": {
              "color": "white"
             }
            },
            "type": "table"
           }
          ]
         },
         "layout": {
          "annotationdefaults": {
           "arrowcolor": "#2a3f5f",
           "arrowhead": 0,
           "arrowwidth": 1
          },
          "coloraxis": {
           "colorbar": {
            "outlinewidth": 0,
            "ticks": ""
           }
          },
          "colorscale": {
           "diverging": [
            [
             0,
             "#8e0152"
            ],
            [
             0.1,
             "#c51b7d"
            ],
            [
             0.2,
             "#de77ae"
            ],
            [
             0.3,
             "#f1b6da"
            ],
            [
             0.4,
             "#fde0ef"
            ],
            [
             0.5,
             "#f7f7f7"
            ],
            [
             0.6,
             "#e6f5d0"
            ],
            [
             0.7,
             "#b8e186"
            ],
            [
             0.8,
             "#7fbc41"
            ],
            [
             0.9,
             "#4d9221"
            ],
            [
             1,
             "#276419"
            ]
           ],
           "sequential": [
            [
             0,
             "#0d0887"
            ],
            [
             0.1111111111111111,
             "#46039f"
            ],
            [
             0.2222222222222222,
             "#7201a8"
            ],
            [
             0.3333333333333333,
             "#9c179e"
            ],
            [
             0.4444444444444444,
             "#bd3786"
            ],
            [
             0.5555555555555556,
             "#d8576b"
            ],
            [
             0.6666666666666666,
             "#ed7953"
            ],
            [
             0.7777777777777778,
             "#fb9f3a"
            ],
            [
             0.8888888888888888,
             "#fdca26"
            ],
            [
             1,
             "#f0f921"
            ]
           ],
           "sequentialminus": [
            [
             0,
             "#0d0887"
            ],
            [
             0.1111111111111111,
             "#46039f"
            ],
            [
             0.2222222222222222,
             "#7201a8"
            ],
            [
             0.3333333333333333,
             "#9c179e"
            ],
            [
             0.4444444444444444,
             "#bd3786"
            ],
            [
             0.5555555555555556,
             "#d8576b"
            ],
            [
             0.6666666666666666,
             "#ed7953"
            ],
            [
             0.7777777777777778,
             "#fb9f3a"
            ],
            [
             0.8888888888888888,
             "#fdca26"
            ],
            [
             1,
             "#f0f921"
            ]
           ]
          },
          "colorway": [
           "#636efa",
           "#EF553B",
           "#00cc96",
           "#ab63fa",
           "#FFA15A",
           "#19d3f3",
           "#FF6692",
           "#B6E880",
           "#FF97FF",
           "#FECB52"
          ],
          "font": {
           "color": "#2a3f5f"
          },
          "geo": {
           "bgcolor": "white",
           "lakecolor": "white",
           "landcolor": "#E5ECF6",
           "showlakes": true,
           "showland": true,
           "subunitcolor": "white"
          },
          "hoverlabel": {
           "align": "left"
          },
          "hovermode": "closest",
          "mapbox": {
           "style": "light"
          },
          "paper_bgcolor": "white",
          "plot_bgcolor": "#E5ECF6",
          "polar": {
           "angularaxis": {
            "gridcolor": "white",
            "linecolor": "white",
            "ticks": ""
           },
           "bgcolor": "#E5ECF6",
           "radialaxis": {
            "gridcolor": "white",
            "linecolor": "white",
            "ticks": ""
           }
          },
          "scene": {
           "xaxis": {
            "backgroundcolor": "#E5ECF6",
            "gridcolor": "white",
            "gridwidth": 2,
            "linecolor": "white",
            "showbackground": true,
            "ticks": "",
            "zerolinecolor": "white"
           },
           "yaxis": {
            "backgroundcolor": "#E5ECF6",
            "gridcolor": "white",
            "gridwidth": 2,
            "linecolor": "white",
            "showbackground": true,
            "ticks": "",
            "zerolinecolor": "white"
           },
           "zaxis": {
            "backgroundcolor": "#E5ECF6",
            "gridcolor": "white",
            "gridwidth": 2,
            "linecolor": "white",
            "showbackground": true,
            "ticks": "",
            "zerolinecolor": "white"
           }
          },
          "shapedefaults": {
           "line": {
            "color": "#2a3f5f"
           }
          },
          "ternary": {
           "aaxis": {
            "gridcolor": "white",
            "linecolor": "white",
            "ticks": ""
           },
           "baxis": {
            "gridcolor": "white",
            "linecolor": "white",
            "ticks": ""
           },
           "bgcolor": "#E5ECF6",
           "caxis": {
            "gridcolor": "white",
            "linecolor": "white",
            "ticks": ""
           }
          },
          "title": {
           "x": 0.05
          },
          "xaxis": {
           "automargin": true,
           "gridcolor": "white",
           "linecolor": "white",
           "ticks": "",
           "title": {
            "standoff": 15
           },
           "zerolinecolor": "white",
           "zerolinewidth": 2
          },
          "yaxis": {
           "automargin": true,
           "gridcolor": "white",
           "linecolor": "white",
           "ticks": "",
           "title": {
            "standoff": 15
           },
           "zerolinecolor": "white",
           "zerolinewidth": 2
          }
         }
        },
        "title": {
         "text": "<b>                       AMM Curve</b>"
        },
        "width": 1000,
        "xaxis": {
         "anchor": "y",
         "domain": [
          0,
          1
         ],
         "range": [
          0,
          1000
         ],
         "title": {
          "text": "token_A"
         }
        },
        "yaxis": {
         "anchor": "x",
         "domain": [
          0,
          1
         ],
         "range": [
          0,
          1000
         ],
         "title": {
          "text": "token_B"
         }
        }
       }
      }
     },
     "metadata": {}
    }
   ],
   "source": [
    "fig = px.line(curve, x=\"token_A\", y=\"token_B\")\n",
    "fig.update_xaxes(range=[0, 1000])\n",
    "fig.update_yaxes(range=[0, 1000])\n",
    "fig.update_layout(height=1000, width=1000, title_text='<b>                       AMM Curve</b>')\n",
    "\n",
    "fig.add_annotation(x=100, y=100,\n",
    "            text=\"SP = 100/100 = 1\",\n",
    "            showarrow=True,\n",
    "            arrowhead=1,\n",
    "             )\n",
    "\n",
    "fig.add_annotation(x=10, y=1000,\n",
    "            text=\"SP = 1000/10 = 100\",\n",
    "            showarrow=True,\n",
    "            arrowhead=1,\n",
    "             )\n",
    "\n",
    "fig.show()\n"
   ]
  },
  {
   "source": [
    "The accurate name is 'Spot Price' but it only reflects a 'price' understood as the amount of X the buyers needs to pay) when the trade has no effect over the pool (slippage effect ~ 0), that only happens when the amount to trade is despicable vs the amount of liquidity in the pool."
   ],
   "cell_type": "markdown",
   "metadata": {}
  },
  {
   "cell_type": "markdown",
   "id": "fourth-newspaper",
   "metadata": {},
   "source": [
    "# Q1.7:\n",
    "Formulate a \"rule of a thumb\", how do swaps effect the price?"
   ]
  },
  {
   "source": [
    "If I buy token_A (what reduces the amount of token_A in the pool) by paying token_B (what increases the amount of token_B in the pool), the relative value of token_A vs token_B increases. \n",
    "\n",
    "Buying token_B with token_A produces the same effect in the other direction."
   ],
   "cell_type": "markdown",
   "metadata": {}
  },
  {
   "cell_type": "markdown",
   "id": "voluntary-wisdom",
   "metadata": {},
   "source": [
    "## Additional questions:\n",
    "\n",
    "**Q1.8:** Buying A) 99 tokens at once vs. B) buying 99x 1 token\n",
    "Is there a difference in terms of the number of tokens you have to swap in? Is it \"more expensive\" to swap 99 times?\n",
    "**Answer: no, there's no difference - you pay the same amount no matter if you buy 1 at a time or 99 at once. Intuition: you are moving on the SAME curve, no matter if you take a huge leap, or walk in small steps.**\n",
    "\n",
    "**Q1.9:** Swap fees for buying 99 tokens at once vs. buying 99x 1 token\n",
    "Again, does it matter in terms of the total amount of tokens (change in balance+ fees) you have to pay?\n",
    "\n",
    "\n",
    "**Q1.10:** Price changes and position at the curve\n",
    "For a relative change in price, does it matter where we are at the curve? ( @mark richardson | bancor explained it very nicely, you might want to watch the recording again, will share it by tomorrow)\n",
    "\n",
    "**Q1.11:** Price changes, position at the curve and unequal weights\n",
    "What's the effect of weights on this? If weights are not equal, and we want to move prices, does it matter where we are at the curve?\n"
   ]
  },
  {
   "cell_type": "markdown",
   "id": "consecutive-savage",
   "metadata": {},
   "source": [
    "## Solution Q1.9 - by @AngelaKTE (Twitter @akrtws)\n",
    "Swap fees for buying 99 tokens at once vs. buying 99x 1 token Again, does it matter in terms of the total amount of tokens you have to pay/send to the pool?\n",
    "\n",
    "**Answer: Yes, is does matter. With fees, it's more expensive to buy 99 x1 tokens.**"
   ]
  },
  {
   "attachments": {
    "Bildschirmfoto%202021-06-30%20um%2011.38.52.png": {
     "image/png": "[encoded data removed]"
    }
   },
   "cell_type": "markdown",
   "id": "relative-legislation",
   "metadata": {},
   "source": [
    "![Bildschirmfoto%202021-06-30%20um%2011.38.52.png](attachment:Bildschirmfoto%202021-06-30%20um%2011.38.52.png)"
   ]
  },
  {
   "attachments": {
    "Bildschirmfoto%202021-06-30%20um%2014.58.01.png": {
     "image/png": "[encoded data removed]"
    }
   },
   "cell_type": "markdown",
   "id": "limiting-winner",
   "metadata": {},
   "source": [
    "![Bildschirmfoto%202021-06-30%20um%2014.58.01.png](attachment:Bildschirmfoto%202021-06-30%20um%2014.58.01.png)"
   ]
  },
  {
   "cell_type": "markdown",
   "id": "large-investing",
   "metadata": {},
   "source": [
    "# Now, let's consider weights!"
   ]
  },
  {
   "cell_type": "markdown",
   "id": "medical-merit",
   "metadata": {},
   "source": [
    "We continue with the value function V = a^w_a*b^w_b  \n",
    "where  \n",
    "a = balance of token asset A  \n",
    "b = balancer of token asset B  \n",
    "w_a = weight of token asset A  \n",
    "w_b = weight of token asset B  "
   ]
  },
  {
   "cell_type": "markdown",
   "id": "premier-denver",
   "metadata": {},
   "source": [
    "# Q2.1:  \n",
    "Write down the value function for the pool in Q1.1!"
   ]
  },
  {
   "source": [
    "Value Function:\n",
    "\n",
    "$V = B_1^{W_1} * B_2^{W_2}$\n",
    "\n",
    "With other nomenclature:\n",
    "\n",
    "$V = a^{w_a} * b^{w_b}$\n"
   ],
   "cell_type": "markdown",
   "metadata": {}
  },
  {
   "cell_type": "markdown",
   "id": "vanilla-immigration",
   "metadata": {},
   "source": [
    "# Q2.2:\n",
    "Let's got back to your initial balances in Step 1 in the pool:  \n",
    "100 tokens A  \n",
    "100 tokens B  \n",
    "\n",
    "How do you need to change the weights in order to land at a **price of  \n",
    "4 tokens A : 1 token B**"
   ]
  },
  {
   "cell_type": "markdown",
   "id": "cubic-scanner",
   "metadata": {},
   "source": [
    "Understanding price as Spot Price:\n",
    "\n",
    "$$SP = \\frac{\\frac{a}{w_a}}{\\frac{b}{w_b}}$$\n",
    "\n",
    "as $a = b = 100$\n",
    "\n",
    "$$SP = \\frac{\\frac{100}{w_b}}{\\frac{100}{w_a}} = \\frac{w_a}{w_b} = 4$$\n",
    "\n",
    "$$w_a = 4*w_b$$\n",
    "\n",
    "and \n",
    "\n",
    "$$w_a + w_b = 1$$\n",
    "\n",
    "$$5*w_b = 1$$\n",
    "\n",
    "$$w_a = 0.8$$\n",
    "\n",
    "$$w_b = 0.2$$"
   ]
  },
  {
   "cell_type": "markdown",
   "id": "compact-dietary",
   "metadata": {},
   "source": [
    "# Q2.3:\n",
    "Create a graph showing the new AMM Curve in Q2.2  \n",
    "Compare to the graph in Q1.4 - how does a change in weights change the graph?"
   ]
  },
  {
   "cell_type": "code",
   "execution_count": 6,
   "metadata": {},
   "outputs": [],
   "source": [
    "#set up genesis state\n",
    "a_bal = 100 # initial balance\n",
    "b_bal = 100 # initial balance\n",
    "a_weight = 0.8 #define weight\n",
    "b_weight = 0.2 #define weight\n",
    "s_f = 0.0 #swap fee\n",
    "inv = (a_bal**a_weight)*(b_bal**b_weight) #calculate invariant\n",
    "a_vals = pd.Series(range(1000,0,-1))\n",
    "#create dataframe with based on a_vals\n",
    "List = pd.DataFrame(a_vals, columns=['token_A'])\n",
    "\n",
    "#create values for plot, add Y_balances according to current invariant\n",
    "List['invariant'] = inv #value required to calculate token B value\n",
    "List['token_B'] = (List.invariant/(List.token_A**a_weight))**(1/b_weight)# calculate corresponding token_B value according to invariant\n",
    "List['Spot Price'] = List.token_B / List.token_A\n",
    "\n",
    "List['In-Given-Out'] = List.token_B * (( List.token_A / (List.token_A-1) )**(a_weight/b_weight) -1)\n",
    "\n",
    "\n",
    "a_bal = 100 # initial balance\n",
    "b_bal = 100 # initial balance\n",
    "a_weight = 0.5 #define weight\n",
    "b_weight = 0.5 #define weight\n",
    "s_f = 0.0 #swap fee\n",
    "inv = (a_bal**a_weight)*(b_bal**b_weight) #calculate invariant\n",
    "a_vals = pd.Series(range(1000,0,-1))\n",
    "#create dataframe with based on a_vals\n",
    "List_old = pd.DataFrame(a_vals, columns=['token_A'])\n",
    "\n",
    "#create values for plot, add Y_balances according to current invariant\n",
    "List_old['invariant'] = inv #value required to calculate token B value\n",
    "List_old['token_B_old'] = (List_old.invariant/(List_old.token_A**a_weight))**(1/b_weight)# calculate corresponding token_B value according to invariant\n",
    "List_old['Spot Price'] = List_old.token_B_old / List_old.token_A\n",
    "\n",
    "List_old['In-Given-Out'] = List_old.token_B_old * (( List_old.token_A / (List_old.token_A-1) )**(a_weight/b_weight) -1)\n",
    "\n",
    "\n"
   ]
  },
  {
   "cell_type": "code",
   "execution_count": 19,
   "metadata": {},
   "outputs": [
    {
     "output_type": "display_data",
     "data": {
      "application/vnd.plotly.v1+json": {
       "config": {
        "plotlyServerURL": "https://plot.ly"
       },
       "data": [
        {
         "hovertemplate": "variable=token_B<br>token_A=%{x}<br>value=%{y}<extra></extra>",
         "legendgroup": "token_B",
         "line": {
          "color": "#636efa",
          "dash": "solid"
         },
         "mode": "lines",
         "name": "token_B",
         "showlegend": true,
         "type": "scattergl",
         "x": [
          1000,
          999,
          998,
          997,
          996,
          995,
          994,
          993,
          992,
          991,
          990,
          989,
          988,
          987,
          986,
          985,
          984,
          983,
          982,
          981,
          980,
          979,
          978,
          977,
          976,
          975,
          974,
          973,
          972,
          971,
          970,
          969,
          968,
          967,
          966,
          965,
          964,
          963,
          962,
          961,
          960,
          959,
          958,
          957,
          956,
          955,
          954,
          953,
          952,
          951,
          950,
          949,
          948,
          947,
          946,
          945,
          944,
          943,
          942,
          941,
          940,
          939,
          938,
          937,
          936,
          935,
          934,
          933,
          932,
          931,
          930,
          929,
          928,
          927,
          926,
          925,
          924,
          923,
          922,
          921,
          920,
          919,
          918,
          917,
          916,
          915,
          914,
          913,
          912,
          911,
          910,
          909,
          908,
          907,
          906,
          905,
          904,
          903,
          902,
          901,
          900,
          899,
          898,
          897,
          896,
          895,
          894,
          893,
          892,
          891,
          890,
          889,
          888,
          887,
          886,
          885,
          884,
          883,
          882,
          881,
          880,
          879,
          878,
          877,
          876,
          875,
          874,
          873,
          872,
          871,
          870,
          869,
          868,
          867,
          866,
          865,
          864,
          863,
          862,
          861,
          860,
          859,
          858,
          857,
          856,
          855,
          854,
          853,
          852,
          851,
          850,
          849,
          848,
          847,
          846,
          845,
          844,
          843,
          842,
          841,
          840,
          839,
          838,
          837,
          836,
          835,
          834,
          833,
          832,
          831,
          830,
          829,
          828,
          827,
          826,
          825,
          824,
          823,
          822,
          821,
          820,
          819,
          818,
          817,
          816,
          815,
          814,
          813,
          812,
          811,
          810,
          809,
          808,
          807,
          806,
          805,
          804,
          803,
          802,
          801,
          800,
          799,
          798,
          797,
          796,
          795,
          794,
          793,
          792,
          791,
          790,
          789,
          788,
          787,
          786,
          785,
          784,
          783,
          782,
          781,
          780,
          779,
          778,
          777,
          776,
          775,
          774,
          773,
          772,
          771,
          770,
          769,
          768,
          767,
          766,
          765,
          764,
          763,
          762,
          761,
          760,
          759,
          758,
          757,
          756,
          755,
          754,
          753,
          752,
          751,
          750,
          749,
          748,
          747,
          746,
          745,
          744,
          743,
          742,
          741,
          740,
          739,
          738,
          737,
          736,
          735,
          734,
          733,
          732,
          731,
          730,
          729,
          728,
          727,
          726,
          725,
          724,
          723,
          722,
          721,
          720,
          719,
          718,
          717,
          716,
          715,
          714,
          713,
          712,
          711,
          710,
          709,
          708,
          707,
          706,
          705,
          704,
          703,
          702,
          701,
          700,
          699,
          698,
          697,
          696,
          695,
          694,
          693,
          692,
          691,
          690,
          689,
          688,
          687,
          686,
          685,
          684,
          683,
          682,
          681,
          680,
          679,
          678,
          677,
          676,
          675,
          674,
          673,
          672,
          671,
          670,
          669,
          668,
          667,
          666,
          665,
          664,
          663,
          662,
          661,
          660,
          659,
          658,
          657,
          656,
          655,
          654,
          653,
          652,
          651,
          650,
          649,
          648,
          647,
          646,
          645,
          644,
          643,
          642,
          641,
          640,
          639,
          638,
          637,
          636,
          635,
          634,
          633,
          632,
          631,
          630,
          629,
          628,
          627,
          626,
          625,
          624,
          623,
          622,
          621,
          620,
          619,
          618,
          617,
          616,
          615,
          614,
          613,
          612,
          611,
          610,
          609,
          608,
          607,
          606,
          605,
          604,
          603,
          602,
          601,
          600,
          599,
          598,
          597,
          596,
          595,
          594,
          593,
          592,
          591,
          590,
          589,
          588,
          587,
          586,
          585,
          584,
          583,
          582,
          581,
          580,
          579,
          578,
          577,
          576,
          575,
          574,
          573,
          572,
          571,
          570,
          569,
          568,
          567,
          566,
          565,
          564,
          563,
          562,
          561,
          560,
          559,
          558,
          557,
          556,
          555,
          554,
          553,
          552,
          551,
          550,
          549,
          548,
          547,
          546,
          545,
          544,
          543,
          542,
          541,
          540,
          539,
          538,
          537,
          536,
          535,
          534,
          533,
          532,
          531,
          530,
          529,
          528,
          527,
          526,
          525,
          524,
          523,
          522,
          521,
          520,
          519,
          518,
          517,
          516,
          515,
          514,
          513,
          512,
          511,
          510,
          509,
          508,
          507,
          506,
          505,
          504,
          503,
          502,
          501,
          500,
          499,
          498,
          497,
          496,
          495,
          494,
          493,
          492,
          491,
          490,
          489,
          488,
          487,
          486,
          485,
          484,
          483,
          482,
          481,
          480,
          479,
          478,
          477,
          476,
          475,
          474,
          473,
          472,
          471,
          470,
          469,
          468,
          467,
          466,
          465,
          464,
          463,
          462,
          461,
          460,
          459,
          458,
          457,
          456,
          455,
          454,
          453,
          452,
          451,
          450,
          449,
          448,
          447,
          446,
          445,
          444,
          443,
          442,
          441,
          440,
          439,
          438,
          437,
          436,
          435,
          434,
          433,
          432,
          431,
          430,
          429,
          428,
          427,
          426,
          425,
          424,
          423,
          422,
          421,
          420,
          419,
          418,
          417,
          416,
          415,
          414,
          413,
          412,
          411,
          410,
          409,
          408,
          407,
          406,
          405,
          404,
          403,
          402,
          401,
          400,
          399,
          398,
          397,
          396,
          395,
          394,
          393,
          392,
          391,
          390,
          389,
          388,
          387,
          386,
          385,
          384,
          383,
          382,
          381,
          380,
          379,
          378,
          377,
          376,
          375,
          374,
          373,
          372,
          371,
          370,
          369,
          368,
          367,
          366,
          365,
          364,
          363,
          362,
          361,
          360,
          359,
          358,
          357,
          356,
          355,
          354,
          353,
          352,
          351,
          350,
          349,
          348,
          347,
          346,
          345,
          344,
          343,
          342,
          341,
          340,
          339,
          338,
          337,
          336,
          335,
          334,
          333,
          332,
          331,
          330,
          329,
          328,
          327,
          326,
          325,
          324,
          323,
          322,
          321,
          320,
          319,
          318,
          317,
          316,
          315,
          314,
          313,
          312,
          311,
          310,
          309,
          308,
          307,
          306,
          305,
          304,
          303,
          302,
          301,
          300,
          299,
          298,
          297,
          296,
          295,
          294,
          293,
          292,
          291,
          290,
          289,
          288,
          287,
          286,
          285,
          284,
          283,
          282,
          281,
          280,
          279,
          278,
          277,
          276,
          275,
          274,
          273,
          272,
          271,
          270,
          269,
          268,
          267,
          266,
          265,
          264,
          263,
          262,
          261,
          260,
          259,
          258,
          257,
          256,
          255,
          254,
          253,
          252,
          251,
          250,
          249,
          248,
          247,
          246,
          245,
          244,
          243,
          242,
          241,
          240,
          239,
          238,
          237,
          236,
          235,
          234,
          233,
          232,
          231,
          230,
          229,
          228,
          227,
          226,
          225,
          224,
          223,
          222,
          221,
          220,
          219,
          218,
          217,
          216,
          215,
          214,
          213,
          212,
          211,
          210,
          209,
          208,
          207,
          206,
          205,
          204,
          203,
          202,
          201,
          200,
          199,
          198,
          197,
          196,
          195,
          194,
          193,
          192,
          191,
          190,
          189,
          188,
          187,
          186,
          185,
          184,
          183,
          182,
          181,
          180,
          179,
          178,
          177,
          176,
          175,
          174,
          173,
          172,
          171,
          170,
          169,
          168,
          167,
          166,
          165,
          164,
          163,
          162,
          161,
          160,
          159,
          158,
          157,
          156,
          155,
          154,
          153,
          152,
          151,
          150,
          149,
          148,
          147,
          146,
          145,
          144,
          143,
          142,
          141,
          140,
          139,
          138,
          137,
          136,
          135,
          134,
          133,
          132,
          131,
          130,
          129,
          128,
          127,
          126,
          125,
          124,
          123,
          122,
          121,
          120,
          119,
          118,
          117,
          116,
          115,
          114,
          113,
          112,
          111,
          110,
          109,
          108,
          107,
          106,
          105,
          104,
          103,
          102,
          101,
          100,
          99,
          98,
          97,
          96,
          95,
          94,
          93,
          92,
          91,
          90,
          89,
          88,
          87,
          86,
          85,
          84,
          83,
          82,
          81,
          80,
          79,
          78,
          77,
          76,
          75,
          74,
          73,
          72,
          71,
          70,
          69,
          68,
          67,
          66,
          65,
          64,
          63,
          62,
          61,
          60,
          59,
          58,
          57,
          56,
          55,
          54,
          53,
          52,
          51,
          50,
          49,
          48,
          47,
          46,
          45,
          44,
          43,
          42,
          41,
          40,
          39,
          38,
          37,
          36,
          35,
          34,
          33,
          32,
          31,
          30,
          29,
          28,
          27,
          26,
          25,
          24,
          23,
          22,
          21,
          20,
          19,
          18,
          17,
          16,
          15,
          14,
          13,
          12,
          11,
          10,
          9,
          8,
          7,
          6,
          5,
          4,
          3,
          2,
          1,
          1000,
          999,
          998,
          997,
          996,
          995,
          994,
          993,
          992,
          991,
          990,
          989,
          988,
          987,
          986,
          985,
          984,
          983,
          982,
          981,
          980,
          979,
          978,
          977,
          976,
          975,
          974,
          973,
          972,
          971,
          970,
          969,
          968,
          967,
          966,
          965,
          964,
          963,
          962,
          961,
          960,
          959,
          958,
          957,
          956,
          955,
          954,
          953,
          952,
          951,
          950,
          949,
          948,
          947,
          946,
          945,
          944,
          943,
          942,
          941,
          940,
          939,
          938,
          937,
          936,
          935,
          934,
          933,
          932,
          931,
          930,
          929,
          928,
          927,
          926,
          925,
          924,
          923,
          922,
          921,
          920,
          919,
          918,
          917,
          916,
          915,
          914,
          913,
          912,
          911,
          910,
          909,
          908,
          907,
          906,
          905,
          904,
          903,
          902,
          901,
          900,
          899,
          898,
          897,
          896,
          895,
          894,
          893,
          892,
          891,
          890,
          889,
          888,
          887,
          886,
          885,
          884,
          883,
          882,
          881,
          880,
          879,
          878,
          877,
          876,
          875,
          874,
          873,
          872,
          871,
          870,
          869,
          868,
          867,
          866,
          865,
          864,
          863,
          862,
          861,
          860,
          859,
          858,
          857,
          856,
          855,
          854,
          853,
          852,
          851,
          850,
          849,
          848,
          847,
          846,
          845,
          844,
          843,
          842,
          841,
          840,
          839,
          838,
          837,
          836,
          835,
          834,
          833,
          832,
          831,
          830,
          829,
          828,
          827,
          826,
          825,
          824,
          823,
          822,
          821,
          820,
          819,
          818,
          817,
          816,
          815,
          814,
          813,
          812,
          811,
          810,
          809,
          808,
          807,
          806,
          805,
          804,
          803,
          802,
          801,
          800,
          799,
          798,
          797,
          796,
          795,
          794,
          793,
          792,
          791,
          790,
          789,
          788,
          787,
          786,
          785,
          784,
          783,
          782,
          781,
          780,
          779,
          778,
          777,
          776,
          775,
          774,
          773,
          772,
          771,
          770,
          769,
          768,
          767,
          766,
          765,
          764,
          763,
          762,
          761,
          760,
          759,
          758,
          757,
          756,
          755,
          754,
          753,
          752,
          751,
          750,
          749,
          748,
          747,
          746,
          745,
          744,
          743,
          742,
          741,
          740,
          739,
          738,
          737,
          736,
          735,
          734,
          733,
          732,
          731,
          730,
          729,
          728,
          727,
          726,
          725,
          724,
          723,
          722,
          721,
          720,
          719,
          718,
          717,
          716,
          715,
          714,
          713,
          712,
          711,
          710,
          709,
          708,
          707,
          706,
          705,
          704,
          703,
          702,
          701,
          700,
          699,
          698,
          697,
          696,
          695,
          694,
          693,
          692,
          691,
          690,
          689,
          688,
          687,
          686,
          685,
          684,
          683,
          682,
          681,
          680,
          679,
          678,
          677,
          676,
          675,
          674,
          673,
          672,
          671,
          670,
          669,
          668,
          667,
          666,
          665,
          664,
          663,
          662,
          661,
          660,
          659,
          658,
          657,
          656,
          655,
          654,
          653,
          652,
          651,
          650,
          649,
          648,
          647,
          646,
          645,
          644,
          643,
          642,
          641,
          640,
          639,
          638,
          637,
          636,
          635,
          634,
          633,
          632,
          631,
          630,
          629,
          628,
          627,
          626,
          625,
          624,
          623,
          622,
          621,
          620,
          619,
          618,
          617,
          616,
          615,
          614,
          613,
          612,
          611,
          610,
          609,
          608,
          607,
          606,
          605,
          604,
          603,
          602,
          601,
          600,
          599,
          598,
          597,
          596,
          595,
          594,
          593,
          592,
          591,
          590,
          589,
          588,
          587,
          586,
          585,
          584,
          583,
          582,
          581,
          580,
          579,
          578,
          577,
          576,
          575,
          574,
          573,
          572,
          571,
          570,
          569,
          568,
          567,
          566,
          565,
          564,
          563,
          562,
          561,
          560,
          559,
          558,
          557,
          556,
          555,
          554,
          553,
          552,
          551,
          550,
          549,
          548,
          547,
          546,
          545,
          544,
          543,
          542,
          541,
          540,
          539,
          538,
          537,
          536,
          535,
          534,
          533,
          532,
          531,
          530,
          529,
          528,
          527,
          526,
          525,
          524,
          523,
          522,
          521,
          520,
          519,
          518,
          517,
          516,
          515,
          514,
          513,
          512,
          511,
          510,
          509,
          508,
          507,
          506,
          505,
          504,
          503,
          502,
          501,
          500,
          499,
          498,
          497,
          496,
          495,
          494,
          493,
          492,
          491,
          490,
          489,
          488,
          487,
          486,
          485,
          484,
          483,
          482,
          481,
          480,
          479,
          478,
          477,
          476,
          475,
          474,
          473,
          472,
          471,
          470,
          469,
          468,
          467,
          466,
          465,
          464,
          463,
          462,
          461,
          460,
          459,
          458,
          457,
          456,
          455,
          454,
          453,
          452,
          451,
          450,
          449,
          448,
          447,
          446,
          445,
          444,
          443,
          442,
          441,
          440,
          439,
          438,
          437,
          436,
          435,
          434,
          433,
          432,
          431,
          430,
          429,
          428,
          427,
          426,
          425,
          424,
          423,
          422,
          421,
          420,
          419,
          418,
          417,
          416,
          415,
          414,
          413,
          412,
          411,
          410,
          409,
          408,
          407,
          406,
          405,
          404,
          403,
          402,
          401,
          400,
          399,
          398,
          397,
          396,
          395,
          394,
          393,
          392,
          391,
          390,
          389,
          388,
          387,
          386,
          385,
          384,
          383,
          382,
          381,
          380,
          379,
          378,
          377,
          376,
          375,
          374,
          373,
          372,
          371,
          370,
          369,
          368,
          367,
          366,
          365,
          364,
          363,
          362,
          361,
          360,
          359,
          358,
          357,
          356,
          355,
          354,
          353,
          352,
          351,
          350,
          349,
          348,
          347,
          346,
          345,
          344,
          343,
          342,
          341,
          340,
          339,
          338,
          337,
          336,
          335,
          334,
          333,
          332,
          331,
          330,
          329,
          328,
          327,
          326,
          325,
          324,
          323,
          322,
          321,
          320,
          319,
          318,
          317,
          316,
          315,
          314,
          313,
          312,
          311,
          310,
          309,
          308,
          307,
          306,
          305,
          304,
          303,
          302,
          301,
          300,
          299,
          298,
          297,
          296,
          295,
          294,
          293,
          292,
          291,
          290,
          289,
          288,
          287,
          286,
          285,
          284,
          283,
          282,
          281,
          280,
          279,
          278,
          277,
          276,
          275,
          274,
          273,
          272,
          271,
          270,
          269,
          268,
          267,
          266,
          265,
          264,
          263,
          262,
          261,
          260,
          259,
          258,
          257,
          256,
          255,
          254,
          253,
          252,
          251,
          250,
          249,
          248,
          247,
          246,
          245,
          244,
          243,
          242,
          241,
          240,
          239,
          238,
          237,
          236,
          235,
          234,
          233,
          232,
          231,
          230,
          229,
          228,
          227,
          226,
          225,
          224,
          223,
          222,
          221,
          220,
          219,
          218,
          217,
          216,
          215,
          214,
          213,
          212,
          211,
          210,
          209,
          208,
          207,
          206,
          205,
          204,
          203,
          202,
          201,
          200,
          199,
          198,
          197,
          196,
          195,
          194,
          193,
          192,
          191,
          190,
          189,
          188,
          187,
          186,
          185,
          184,
          183,
          182,
          181,
          180,
          179,
          178,
          177,
          176,
          175,
          174,
          173,
          172,
          171,
          170,
          169,
          168,
          167,
          166,
          165,
          164,
          163,
          162,
          161,
          160,
          159,
          158,
          157,
          156,
          155,
          154,
          153,
          152,
          151,
          150,
          149,
          148,
          147,
          146,
          145,
          144,
          143,
          142,
          141,
          140,
          139,
          138,
          137,
          136,
          135,
          134,
          133,
          132,
          131,
          130,
          129,
          128,
          127,
          126,
          125,
          124,
          123,
          122,
          121,
          120,
          119,
          118,
          117,
          116,
          115,
          114,
          113,
          112,
          111,
          110,
          109,
          108,
          107,
          106,
          105,
          104,
          103,
          102,
          101,
          100,
          99,
          98,
          97,
          96,
          95,
          94,
          93,
          92,
          91,
          90,
          89,
          88,
          87,
          86,
          85,
          84,
          83,
          82,
          81,
          80,
          79,
          78,
          77,
          76,
          75,
          74,
          73,
          72,
          71,
          70,
          69,
          68,
          67,
          66,
          65,
          64,
          63,
          62,
          61,
          60,
          59,
          58,
          57,
          56,
          55,
          54,
          53,
          52,
          51,
          50,
          49,
          48,
          47,
          46,
          45,
          44,
          43,
          42,
          41,
          40,
          39,
          38,
          37,
          36,
          35,
          34,
          33,
          32,
          31,
          30,
          29,
          28,
          27,
          26,
          25,
          24,
          23,
          22,
          21,
          20,
          19,
          18,
          17,
          16,
          15,
          14,
          13,
          12,
          11,
          10,
          9,
          8,
          7,
          6,
          5,
          4,
          3,
          2,
          1
         ],
         "xaxis": "x",
         "y": [
          0.01,
          0.010040100200350555,
          0.010080401605617977,
          0.010120905428486692,
          0.010161612890176898,
          0.01020252522051322,
          0.010243643657994088,
          0.010284969449861743,
          0.010326503852172821,
          0.01036824812986966,
          0.010410203556852163,
          0.010452371416050417,
          0.01049475299949787,
          0.010537349608405265,
          0.010580162553235229,
          0.01062319315377747,
          0.010666442739224784,
          0.010709912648249663,
          0.010753604229081639,
          0.010797518839585378,
          0.01084165784733939,
          0.010886022629715613,
          0.010930614573959548,
          0.010975435077271315,
          0.011020485546887322,
          0.011065767400162786,
          0.01111128206465491,
          0.011157030978206946,
          0.01120301558903297,
          0.011249237355803448,
          0.011295697747731627,
          0.01134239824466067,
          0.01138934033715169,
          0.011436525526572558,
          0.01148395532518748,
          0.011531631256247524,
          0.011579554854081938,
          0.011627727664190296,
          0.011676151243335538,
          0.011724827159637921,
          0.011773756992669759,
          0.011822942333551115,
          0.01187238478504644,
          0.011922085961661987,
          0.011972047489744285,
          0.012022271007579417,
          0.012072758165493377,
          0.012123510625953248,
          0.012174530063669378,
          0.012225818165698593,
          0.012277376631548254,
          0.012329207173281459,
          0.012381311515623118,
          0.012433691396067072,
          0.012486348564984309,
          0.012539284785732088,
          0.012592501834764189,
          0.012646001501742209,
          0.012699785589647898,
          0.012753855914896584,
          0.012808214307451656,
          0.012862862610940221,
          0.012917802682769796,
          0.01297303639424618,
          0.01302856563069236,
          0.01308439229156874,
          0.01314051829059436,
          0.013196945555869359,
          0.013253676029998624,
          0.013310711670216645,
          0.013368054448513543,
          0.013425706351762354,
          0.013483669381847526,
          0.013541945555794677,
          0.013600536905901644,
          0.013659445479870733,
          0.013718673340942346,
          0.01377822256802986,
          0.013838095255855859,
          0.013898293515089656,
          0.013958819472486166,
          0.014019675271026205,
          0.014080863070058125,
          0.014142385045440811,
          0.014204243389688122,
          0.01426644031211472,
          0.014328978038983448,
          0.014391858813653995,
          0.014455084896733151,
          0.01451865856622649,
          0.014582582117691615,
          0.014646857864392874,
          0.014711488137457584,
          0.014776475286033928,
          0.01484182167745025,
          0.014907529697376087,
          0.014973601749984777,
          0.015040040258117575,
          0.015106847663449573,
          0.015174026426657161,
          0.01524157902758726,
          0.015309507965428126,
          0.015377815758882028,
          0.015446504946339491,
          0.01551557808605545,
          0.015585037756327077,
          0.01565488655567342,
          0.015725127103016896,
          0.01579576203786654,
          0.015866794020503228,
          0.015938225732166623,
          0.016010059875244186,
          0.016082299173461913,
          0.016154946372077254,
          0.0162280042380737,
          0.01630147556035764,
          0.016375363149957033,
          0.016449669840222163,
          0.016524398487028497,
          0.016599551968981528,
          0.016675133187623804,
          0.016751145067643993,
          0.016827590557088202,
          0.016904472627573365,
          0.016981794274502884,
          0.01705955851728446,
          0.017137768399550234,
          0.017216426989379092,
          0.0172955373795214,
          0.01737510268762595,
          0.017455126056469317,
          0.017535610654187617,
          0.017616559674510583,
          0.017697976336998152,
          0.017779863887279538,
          0.01786222559729471,
          0.017945064765538407,
          0.018028384717306816,
          0.018112188804946628,
          0.01819648040810692,
          0.018281262933993528,
          0.018366539817626107,
          0.018452314522098,
          0.018538590538838655,
          0.01862537138787903,
          0.01871266061811957,
          0.018800461807601206,
          0.01888877856377908,
          0.018977614523799237,
          0.019066973354778256,
          0.019156858754085807,
          0.01924727444963018,
          0.019338224200146976,
          0.019429711795490776,
          0.01952174105692982,
          0.019614315837444104,
          0.019707440022026394,
          0.01980111752798662,
          0.019895352305259403,
          0.01999014833671504,
          0.020085509638473678,
          0.020181440260222942,
          0.02027794428553897,
          0.02037502583221086,
          0.020472689052568712,
          0.020570938133815116,
          0.020669777298360247,
          0.02076921080416068,
          0.020869242945061664,
          0.020969878051143396,
          0.021071120489070824,
          0.021172974662447285,
          0.021275445012172163,
          0.021378536016802268,
          0.02148225219291717,
          0.021586598095488654,
          0.021691578318254117,
          0.02179719749409406,
          0.02190346029541377,
          0.02201037143452905,
          0.022117935664056506,
          0.022226157777307756,
          0.022335042608688186,
          0.022444595034100137,
          0.022554819971350448,
          0.022665722380562518,
          0.022777307264593025,
          0.022889579669453125,
          0.023002544684734474,
          0.023116207444039878,
          0.023230573125418777,
          0.023345646951807603,
          0.023461434191475,
          0.023577940158472113,
          0.023695170213087723,
          0.023813129762308753,
          0.023931824260285717,
          0.024051259208803494,
          0.024171440157757303,
          0.02429237270563425,
          0.024414062500000007,
          0.024536515237991222,
          0.02465973666681339,
          0.024783732584244385,
          0.024908508839143598,
          0.025034071331967066,
          0.02516042601528822,
          0.025287578894324713,
          0.025415536027471104,
          0.025544303526837835,
          0.025673887558796085,
          0.02580429434452908,
          0.025935530160589537,
          0.026067601339463658,
          0.026200514270141518,
          0.02633427539869388,
          0.02646889122885596,
          0.026604368322617474,
          0.026740713300819983,
          0.02687793284376073,
          0.027016033691803675,
          0.02715502264599752,
          0.027294906568700896,
          0.02743569238421493,
          0.027577387079422904,
          0.02771999770443769,
          0.02786353137325641,
          0.028007995264422922,
          0.028153396621698076,
          0.028299742754737546,
          0.028447041039778034,
          0.028595298920331046,
          0.028744523907885136,
          0.028894723582616362,
          0.029045905594106924,
          0.029198077662072545,
          0.029351247577098182,
          0.029505423201382608,
          0.029660612469491723,
          0.029816823389120825,
          0.02997406404186585,
          0.030132342584003963,
          0.030291667247283213,
          0.030452046339721678,
          0.030613488246416222,
          0.03077600143036082,
          0.030939594433274733,
          0.03110427587644043,
          0.03127005446155187,
          0.031436938971572743,
          0.031604938271604946,
          0.03177406130976782,
          0.03194431711808776,
          0.032115714813398574,
          0.03228826359825294,
          0.032461972761844426,
          0.0326368516809413,
          0.03281290982083114,
          0.03299015673627743,
          0.03316860207248708,
          0.033348255566090626,
          0.03352912704613369,
          0.033711226435080816,
          0.03389456374983164,
          0.03407914910274942,
          0.03426499270270227,
          0.03445210485611712,
          0.03464049596804651,
          0.03483017654324885,
          0.03502115718728183,
          0.03521344860760919,
          0.03540706161472149,
          0.03560200712327053,
          0.035798296153217925,
          0.035995939830997956,
          0.036194949390694786,
          0.03639533617523461,
          0.036597111637592314,
          0.036800287342013474,
          0.03700487496525151,
          0.037210886297820434,
          0.037418333245263245,
          0.03762722782943609,
          0.037837582189809094,
          0.03804940858478292,
          0.038262719393022435,
          0.03847752711480692,
          0.03869384437339764,
          0.03891168391642243,
          0.03913105861727799,
          0.03935198147655013,
          0.03957446562345169,
          0.0397985243172794,
          0.04002417094888867,
          0.04025141904218746,
          0.04048028225564971,
          0.040710774383847174,
          0.04094290935900203,
          0.041176701252558574,
          0.04141216427677559,
          0.04164931278633901,
          0.04188816127999563,
          0.04212872440220765,
          0.042371016944828734,
          0.04261505384880203,
          0.042860850205879805,
          0.04310842126036568,
          0.043357782410879495,
          0.04360894921214527,
          0.04386193737680238,
          0.044116762777240234,
          0.04437344144745749,
          0.04463198958494511,
          0.04489242355259455,
          0.04515475988063054,
          0.04541901526856999,
          0.045685206587205984,
          0.04595335088061877,
          0.04622346536821246,
          0.04649556744677951,
          0.046769674692592265,
          0.04704580486352195,
          0.04732397590118648,
          0.04760420593312638,
          0.047886513275010006,
          0.04817091643286836,
          0.04845743410535922,
          0.04874608518606234,
          0.04903688876580488,
          0.04932986413501867,
          0.049625030786128455,
          0.04992240841597326,
          0.050222016928259575,
          0.05052387643604815,
          0.05082800726427471,
          0.05113442995230426,
          0.05144316525652057,
          0.05175423415295062,
          0.05206765783992506,
          0.05238345774077475,
          0.0527016555065641,
          0.053022273018862275,
          0.05334533239255169,
          0.053670855978675776,
          0.053998866367325475,
          0.054329386390565476,
          0.05466243912540096,
          0.05499804789678551,
          0.05533623628067018,
          0.05567702810709515,
          0.056020447463324095,
          0.05636651869702247,
          0.05671526641947938,
          0.05706671550887538,
          0.05742089111359461,
          0.05777781865558447,
          0.05813752383376158,
          0.058500032627465975,
          0.05886537129996335,
          0.05923356640199723,
          0.0596046447753906,
          0.0599786335566988,
          0.06035556018091385,
          0.060735452385221246,
          0.06111833821281022,
          0.06150424601673805,
          0.06189320446384909,
          0.06228524253875011,
          0.06268038954784204,
          0.06307867512340945,
          0.06348012922776869,
          0.06388478215747538,
          0.0642926645475925,
          0.06470380737601965,
          0.06511824196788486,
          0.06553600000000001,
          0.0659571135053801,
          0.06638161487782851,
          0.06680953687658865,
          0.06724091263106262,
          0.06767577564559982,
          0.06811415980435366,
          0.06855609937621057,
          0.06900162901979051,
          0.06945078378852064,
          0.06990359913578358,
          0.07036011092014141,
          0.07082035541063622,
          0.07128436929216932,
          0.07175218967095916,
          0.07222385408008078,
          0.07269940048508672,
          0.07317886728971153,
          0.07366229334166127,
          0.07414971793848889,
          0.07464118083355735,
          0.07513672224209184,
          0.07563638284732281,
          0.0761402038067202,
          0.0766482267583227,
          0.07716049382716053,
          0.07767704763177631,
          0.07819793129084368,
          0.07872318842988592,
          0.07925286318809673,
          0.07978700022526367,
          0.08032564472879755,
          0.08086884242086866,
          0.08141663956565097,
          0.081969082976678,
          0.08252622002431062,
          0.083088098643319,
          0.0836547673405817,
          0.08422627520290264,
          0.08480267190494771,
          0.08538400771730542,
          0.08597033351467086,
          0.08656170078415633,
          0.08715816163373163,
          0.08775976880079474,
          0.08836657566087601,
          0.0889786362364778,
          0.08959600520605317,
          0.0902187379131231,
          0.09084689037553823,
          0.09148051929488527,
          0.09211968206604129,
          0.09276443678687822,
          0.09341484226812112,
          0.09407095804336171,
          0.09473284437923041,
          0.09540056228573007,
          0.09607417352673363,
          0.09675374063064886,
          0.09743932690125282,
          0.09813099642870025,
          0.09882881410070722,
          0.09953284561391422,
          0.10024315748543233,
          0.10095981706457363,
          0.10168289254477299,
          0.10241245297569991,
          0.10314856827556754,
          0.103891309243641,
          0.10464074757294879,
          0.10539695586320001,
          0.10616000763391345,
          0.10692997733775964,
          0.10770694037412167,
          0.10849097310287788,
          0.10928215285841136,
          0.1100805579638482,
          0.11088626774553217,
          0.1116993625477366,
          0.11251992374762049,
          0.11334803377043143,
          0.11418377610496168,
          0.11502723531925999,
          0.11587849707660648,
          0.1167376481517524,
          0.11760477644743253,
          0.11847997101115383,
          0.119363322052265,
          0.12025492095931396,
          0.12115486031769652,
          0.12206323392760401,
          0.12298013682227331,
          0.12390566528654606,
          0.12483991687574286,
          0.1257829904348584,
          0.1267349861180833,
          0.1276960054086591,
          0.12866615113907257,
          0.12964552751159555,
          0.13063424011917835,
          0.13163239596670112,
          0.13264010349259148,
          0.1336574725908159,
          0.13468461463325096,
          0.1357216424924418,
          0.1367686705647561,
          0.13782581479394068,
          0.13889319269508804,
          0.13997092337902234,
          0.14105912757711048,
          0.14215792766651023,
          0.14326744769585883,
          0.1443878134114164,
          0.14551915228366852,
          0.14666159353439903,
          0.1478152681642423,
          0.14898030898072442,
          0.15015685062680184,
          0.15134502960990828,
          0.15254498433152006,
          0.15375685511725054,
          0.15498078424748205,
          0.1562169159885488,
          0.1574653966244796,
          0.15872637448931418,
          0.1600000000000001,
          0.16128642568988755,
          0.16258580624283045,
          0.16389829852790547,
          0.16522406163476513,
          0.16656325690963475,
          0.1679160479919658,
          0.1692826008517636,
          0.17066308382759662,
          0.1720576676653063,
          0.1734665255574304,
          0.17488983318335277,
          0.17632776875019734,
          0.1777805130344787,
          0.17924824942452752,
          0.18073116396370595,
          0.18222944539442726,
          0.18374328520299962,
          0.18527287766531117,
          0.18681841989336878,
          0.18838011188271614,
          0.18995815656074322,
          0.19155275983590844,
          0.19316413064789417,
          0.19479248101870994,
          0.19643802610477204,
          0.19810098424996986,
          0.19978157703974891,
          0.201480029356227,
          0.20319656943436643,
          0.20493142891922647,
          0.2066848429243169,
          0.20845705009107776,
          0.21024829264950984,
          0.21205881647997804,
          0.21388887117621683,
          0.21573871010956036,
          0.21760859049442627,
          0.21949877345507746,
          0.2214095240936938,
          0.22334111155977857,
          0.22529380912093022,
          0.22726789423500976,
          0.22926364862373536,
          0.23128135834773034,
          0.233321313883066,
          0.23538381019932156,
          0.23746914683920398,
          0.2395776279997563,
          0.24170956261519314,
          0.24386526444139608,
          0.2460450521421123,
          0.2482492493768872,
          0.25047818489077484,
          0.25273219260586477,
          0.255011611714666,
          0.2573167867753909,
          0.25964806780917904,
          0.2620058103993123,
          0.2643903757924558,
          0.26680213100198064,
          0.26924144891341134,
          0.2717087083920462,
          0.27420429439280397,
          0.2767285980723423,
          0.2792820169035093,
          0.28186495479216905,
          0.28447782219647255,
          0.28712103624861446,
          0.2897950208791459,
          0.2925002069438964,
          0.29523703235356796,
          0.2980059422060646,
          0.30080738892161946,
          0.3036418323807878,
          0.3065097400653728,
          0.30941158720235185,
          0.31234785691087713,
          0.3153190403524225,
          0.31832563688415055,
          0.3213681542155789,
          0.3244471085686235,
          0.3275630248410993,
          0.330716436773764,
          0.3339078871209866,
          0.3371379278251331,
          0.3404071201947548,
          0.34371603508667464,
          0.34706525309206593,
          0.35045536472662026,
          0.35388697062490415,
          0.357360681739011,
          0.36087711954160717,
          0.36443691623348823,
          0.3680407149557516,
          0.37168917000670043,
          0.3753829470636001,
          0.37912272340940356,
          0.38290918816457153,
          0.38674304252411673,
          0.390625,
          0.3945557866690145,
          0.39853614142629773,
          0.4025668162446115,
          0.4066485764395377,
          0.41078220094073736,
          0.4149684825694327,
          0.41920822832226406,
          0.4235022596616952,
          0.42785141281311984,
          0.4322565390688591,
          0.4367185050992144,
          0.4412381932707666,
          0.44581650197210243,
          0.45045434594716893,
          0.45515265663644866,
          0.45991238252616207,
          0.464734489505711,
          0.4696199612335711,
          0.4745697995118677,
          0.47958502466985375,
          0.4846666759565317,
          0.48981581194265955,
          0.4950335109323958,
          0.5003208713848304,
          0.5056790123456789,
          0.5111090738894042,
          0.516612217572047,
          0.5221896268950602,
          0.5278425077804387,
          0.5335720890574505,
          0.5393796229612929,
          0.5452663856439907,
          0.551233677697874,
          0.5572828246919815,
          0.5634151777217473,
          0.569632113972329,
          0.5759350372959671,
          0.5823253788037537,
          0.5888045974722155,
          0.5953741807651273,
          0.6020356452709774,
          0.6087905373565266,
          0.6156404338369109,
          0.622586942662759,
          0.6296317036248016,
          0.6367763890764706,
          0.6440227046749999,
          0.6513723901415546,
          0.6588272200409371,
          0.6663890045814245,
          0.6740595904353222,
          0.6818408615808331,
          0.6897347401658509,
          0.6977431873943246,
          0.7058682044358437,
          0.7141118333591221,
          0.7224761580900889,
          0.7309633053952964,
          0.7395754458913993,
          0.7483147950814765,
          0.7571836144189834,
          0.7661842124001602,
          0.7753189456857478,
          0.7845902202528784,
          0.7940004925780556,
          0.8035522708521531,
          0.8132481162283954,
          0.8230906441043289,
          0.8330825254388016,
          0.8432264881050261,
          0.8535253182808268,
          0.8639818618772077,
          0.8745990260064155,
          0.8853797804907236,
          0.8963271594131859,
          0.9074442627116713,
          0.9187342578175139,
          0.9302003813401859,
          0.9418459407994139,
          0.9536743164062499,
          0.9656889628946214,
          0.9778934114049642,
          0.9902912714215858,
          1.0028862327654722,
          1.0156820676442992,
          1.028682632761481,
          1.0418918714861585,
          1.0553138160860815,
          1.0689525900254182,
          1.082812410329597,
          1.0968975900193696,
          1.1112125406163293,
          1.1257617747222617,
          1.1405499086747093,
          1.1555816652812931,
          1.1708618766353849,
          1.1863954870158226,
          1.2021875558734705,
          1.2182432609075238,
          1.2345679012345685,
          1.2511669006534996,
          1.2680458110095472,
          1.285210315660762,
          1.3026662330504166,
          1.3204195203889697,
          1.3384762774493077,
          1.3568427504791634,
          1.3755253362347342,
          1.3945305861397073,
          1.413865210574015,
          1.433536083296851,
          1.4535502460086123,
          1.47391491305666,
          1.4946374762899377,
          1.5157255100676865,
          1.537186776427739,
          1.5590292304200446,
          1.5812610256113164,
          1.6038905197669169,
          1.6269262807163687,
          1.65037709240908,
          1.6742519611671798,
          1.6985601221426154,
          1.7233110459859462,
          1.7485144457345807,
          1.7741802839285148,
          1.800318779961929,
          1.8269404176793878,
          1.8540559532257024,
          1.881676423158921,
          1.90981315283624,
          1.9384777650831437,
          1.9676821891563747,
          1.9974386700118854,
          2.0277597778893317,
          2.058658418225161,
          2.090147841906855,
          2.1222416558814627,
          2.1549538341320154,
          2.188298729036098,
          2.222291083121409,
          2.256946041233769,
          2.292279163133742,
          2.328306436538696,
          2.365044290627878,
          2.4025096100288303,
          2.4407197493043236,
          2.4796925479597145,
          2.5194463459916756,
          2.5599999999999996,
          2.6013728998852867,
          2.6435849861562417,
          2.6866567678714546,
          2.7306093412415455,
          2.775464408918885,
          2.8212443000031553,
          2.867971990792443,
          2.9156711263108352,
          2.9643660426449787,
          3.0140817901234587,
          3.064844157374537,
          3.1166796962993617,
          3.1696157479995173,
          3.2236804696996333,
          3.2789028627076253,
          3.3353128014572455,
          3.3929410636796487,
          3.451819361752966,
          3.511980375281241,
          3.5734577849564593,
          3.6362863077601597,
          3.700501733563687,
          3.7661409631891436,
          3.8332420479961034,
          3.9018442310623405,
          3.971987990030199,
          4.0437150816938345,
          4.117068588406252,
          4.192092966389001,
          4.268834096031693,
          4.347339334272742,
          4.427657569157477,
          4.5098392766747075,
          4.593936579977835,
          4.680003311102344,
          4.768095075297033,
          4.858269318092604,
          4.950585395237631,
          5.04510464563876,
          5.141890467449264,
          5.241008397457594,
          5.3425261939357895,
          5.4465139231160755,
          5.553044049473055,
          5.662191529998467,
          5.774033912665717,
          5.888651439292024,
          6.006127153017602,
          6.126547010633145,
          6.249999999999997,
          6.376578262820764,
          6.506377223032606,
          6.63949572111092,
          6.776036154587123,
          6.916104625101741,
          7.05981109233227,
          7.207269535154707,
          7.358598120418597,
          7.51391937973714,
          7.673360394717662,
          7.837052991082556,
          8.005133942157286,
          8.17774518223047,
          8.355034030320969,
          8.537153424919206,
          8.724262170303856,
          8.916525195071708,
          9.11411382355726,
          9.317206060860064,
          9.52598689224204,
          9.74064859770443,
          9.961391082604145,
          10.188422225223528,
          10.421958242264873,
          10.662224073302793,
          10.909453785293332,
          11.16389099830919,
          11.42578933374596,
          11.695412886324739,
          11.97303672130363,
          12.258947398402569,
          12.55344352404605,
          12.856836333634448,
          13.169450305669262,
          13.491623809680409,
          13.823709790035327,
          14.166076487851578,
          14.51910820338674,
          14.883206101442976,
          15.258789062500004,
          15.646294582479426,
          16.046179724247565,
          16.458922124183687,
          16.88502105737731,
          17.32499856527356,
          17.779400649861284,
          18.248798538795345,
          18.73379002616616,
          19.235000893975528,
          19.75308641975308,
          20.288732976152772,
          20.842659728806648,
          21.41562043918894,
          22.008405379755743,
          22.621843369184248,
          23.256803936137803,
          23.91419962063902,
          24.594988422843826,
          25.30017640978106,
          26.030820491461906,
          26.78803137867489,
          27.572976735775143,
          28.38688454285625,
          29.2310466828702,
          30.10682277054275,
          31.0156442413303,
          31.95901872019017,
          32.93853469160257,
          33.95586649410342,
          35.01277966457758,
          36.11113665974028,
          37.252902984619155,
          38.44015376046129,
          39.67508076735541,
          40.96000000000003,
          42.29735977849992,
          43.689749459864714,
          45.13990880005054,
          46.65073802097332,
          48.225308641975325,
          49.866875140789816,
          51.57888751519411,
          53.36500482331594,
          55.22910978804745,
          57.175324559303355,
          59.20802773701896,
          61.33187276793769,
          63.55180784048316,
          65.87309741450001,
          68.30134553650704,
          70.84252110651968,
          73.50298527964539,
          76.28952120475253,
          79.20936632380207,
          82.27024747918821,
          85.48041910297262,
          88.84870479156892,
          92.38454260265145,
          96.09803444828164,
          100,
          104.10203556852174,
          108.41657847339401,
          112.95697747731629,
          117.7375699266976,
          122.77376631548258,
          128.08214307451664,
          133.6805444851356,
          139.58819472486164,
          145.8258211769163,
          152.41579027587255,
          159.3822573216663,
          166.7513318762381,
          174.55126056469337,
          182.81262933993534,
          191.56858754085803,
          200.85509638473678,
          210.71120489070822,
          221.17935664056515,
          232.30573125418795,
          244.14062500000009,
          256.7388755879611,
          270.16033691803693,
          284.4704103977807,
          299.74064041865864,
          316.0493827160495,
          333.48255566090654,
          352.13448607609206,
          372.1088629782048,
          393.51981476550105,
          416.49312786339044,
          441.1676277724024,
          467.69674692592287,
          496.2503078612849,
          527.0165550656411,
          560.2044746332414,
          596.0464477539066,
          634.8012922776871,
          676.7577564559988,
          722.2385408008086,
          771.6049382716051,
          825.2622002431058,
          883.6657566087599,
          947.3284437923044,
          1016.8289254477305,
          1092.8215285841145,
          1176.0477644743262,
          1267.3498611808338,
          1367.686705647562,
          1478.1526816424246,
          1600.0000000000005,
          1734.6652555743049,
          1883.8011188271623,
          2049.3142891922657,
          2233.4111155977876,
          2438.652644413962,
          2668.0213100198084,
          2925.0020694389677,
          3213.681542155792,
          3538.8697062490437,
          3906.2500000000036,
          4322.56539068859,
          4795.85024669854,
          5335.720890574503,
          5953.741807651275,
          6663.890045814248,
          7483.147950814767,
          8432.264881050263,
          9536.7431640625,
          10828.124103295977,
          12345.679012345685,
          14138.65210574016,
          16269.26280716369,
          18816.764231589226,
          21882.987290360994,
          25600.000000000025,
          30140.81790123458,
          35734.57784956458,
          42688.340960316935,
          51418.90467449267,
          62500.00000000004,
          76733.60394717663,
          95259.86892242046,
          119730.3672130363,
          152587.89062500012,
          197530.8641975311,
          260308.20491461924,
          350127.7966457759,
          482253.08641975356,
          683013.4553650711,
          1000000.0000000005,
          1524157.9027587266,
          2441406.250000002,
          4164931.2786339098,
          7716049.382716056,
          16000000.000000013,
          39062500.00000006,
          123456790.12345687,
          625000000.0000011,
          10000000000.000013,
          0.01,
          0.010040100200350555,
          0.010080401605617977,
          0.010120905428486692,
          0.010161612890176898,
          0.01020252522051322,
          0.010243643657994088,
          0.010284969449861743,
          0.010326503852172821,
          0.01036824812986966,
          0.010410203556852163,
          0.010452371416050417,
          0.01049475299949787,
          0.010537349608405265,
          0.010580162553235229,
          0.01062319315377747,
          0.010666442739224784,
          0.010709912648249663,
          0.010753604229081639,
          0.010797518839585378,
          0.01084165784733939,
          0.010886022629715613,
          0.010930614573959548,
          0.010975435077271315,
          0.011020485546887322,
          0.011065767400162786,
          0.01111128206465491,
          0.011157030978206946,
          0.01120301558903297,
          0.011249237355803448,
          0.011295697747731627,
          0.01134239824466067,
          0.01138934033715169,
          0.011436525526572558,
          0.01148395532518748,
          0.011531631256247524,
          0.011579554854081938,
          0.011627727664190296,
          0.011676151243335538,
          0.011724827159637921,
          0.011773756992669759,
          0.011822942333551115,
          0.01187238478504644,
          0.011922085961661987,
          0.011972047489744285,
          0.012022271007579417,
          0.012072758165493377,
          0.012123510625953248,
          0.012174530063669378,
          0.012225818165698593,
          0.012277376631548254,
          0.012329207173281459,
          0.012381311515623118,
          0.012433691396067072,
          0.012486348564984309,
          0.012539284785732088,
          0.012592501834764189,
          0.012646001501742209,
          0.012699785589647898,
          0.012753855914896584,
          0.012808214307451656,
          0.012862862610940221,
          0.012917802682769796,
          0.01297303639424618,
          0.01302856563069236,
          0.01308439229156874,
          0.01314051829059436,
          0.013196945555869359,
          0.013253676029998624,
          0.013310711670216645,
          0.013368054448513543,
          0.013425706351762354,
          0.013483669381847526,
          0.013541945555794677,
          0.013600536905901644,
          0.013659445479870733,
          0.013718673340942346,
          0.01377822256802986,
          0.013838095255855859,
          0.013898293515089656,
          0.013958819472486166,
          0.014019675271026205,
          0.014080863070058125,
          0.014142385045440811,
          0.014204243389688122,
          0.01426644031211472,
          0.014328978038983448,
          0.014391858813653995,
          0.014455084896733151,
          0.01451865856622649,
          0.014582582117691615,
          0.014646857864392874,
          0.014711488137457584,
          0.014776475286033928,
          0.01484182167745025,
          0.014907529697376087,
          0.014973601749984777,
          0.015040040258117575,
          0.015106847663449573,
          0.015174026426657161,
          0.01524157902758726,
          0.015309507965428126,
          0.015377815758882028,
          0.015446504946339491,
          0.01551557808605545,
          0.015585037756327077,
          0.01565488655567342,
          0.015725127103016896,
          0.01579576203786654,
          0.015866794020503228,
          0.015938225732166623,
          0.016010059875244186,
          0.016082299173461913,
          0.016154946372077254,
          0.0162280042380737,
          0.01630147556035764,
          0.016375363149957033,
          0.016449669840222163,
          0.016524398487028497,
          0.016599551968981528,
          0.016675133187623804,
          0.016751145067643993,
          0.016827590557088202,
          0.016904472627573365,
          0.016981794274502884,
          0.01705955851728446,
          0.017137768399550234,
          0.017216426989379092,
          0.0172955373795214,
          0.01737510268762595,
          0.017455126056469317,
          0.017535610654187617,
          0.017616559674510583,
          0.017697976336998152,
          0.017779863887279538,
          0.01786222559729471,
          0.017945064765538407,
          0.018028384717306816,
          0.018112188804946628,
          0.01819648040810692,
          0.018281262933993528,
          0.018366539817626107,
          0.018452314522098,
          0.018538590538838655,
          0.01862537138787903,
          0.01871266061811957,
          0.018800461807601206,
          0.01888877856377908,
          0.018977614523799237,
          0.019066973354778256,
          0.019156858754085807,
          0.01924727444963018,
          0.019338224200146976,
          0.019429711795490776,
          0.01952174105692982,
          0.019614315837444104,
          0.019707440022026394,
          0.01980111752798662,
          0.019895352305259403,
          0.01999014833671504,
          0.020085509638473678,
          0.020181440260222942,
          0.02027794428553897,
          0.02037502583221086,
          0.020472689052568712,
          0.020570938133815116,
          0.020669777298360247,
          0.02076921080416068,
          0.020869242945061664,
          0.020969878051143396,
          0.021071120489070824,
          0.021172974662447285,
          0.021275445012172163,
          0.021378536016802268,
          0.02148225219291717,
          0.021586598095488654,
          0.021691578318254117,
          0.02179719749409406,
          0.02190346029541377,
          0.02201037143452905,
          0.022117935664056506,
          0.022226157777307756,
          0.022335042608688186,
          0.022444595034100137,
          0.022554819971350448,
          0.022665722380562518,
          0.022777307264593025,
          0.022889579669453125,
          0.023002544684734474,
          0.023116207444039878,
          0.023230573125418777,
          0.023345646951807603,
          0.023461434191475,
          0.023577940158472113,
          0.023695170213087723,
          0.023813129762308753,
          0.023931824260285717,
          0.024051259208803494,
          0.024171440157757303,
          0.02429237270563425,
          0.024414062500000007,
          0.024536515237991222,
          0.02465973666681339,
          0.024783732584244385,
          0.024908508839143598,
          0.025034071331967066,
          0.02516042601528822,
          0.025287578894324713,
          0.025415536027471104,
          0.025544303526837835,
          0.025673887558796085,
          0.02580429434452908,
          0.025935530160589537,
          0.026067601339463658,
          0.026200514270141518,
          0.02633427539869388,
          0.02646889122885596,
          0.026604368322617474,
          0.026740713300819983,
          0.02687793284376073,
          0.027016033691803675,
          0.02715502264599752,
          0.027294906568700896,
          0.02743569238421493,
          0.027577387079422904,
          0.02771999770443769,
          0.02786353137325641,
          0.028007995264422922,
          0.028153396621698076,
          0.028299742754737546,
          0.028447041039778034,
          0.028595298920331046,
          0.028744523907885136,
          0.028894723582616362,
          0.029045905594106924,
          0.029198077662072545,
          0.029351247577098182,
          0.029505423201382608,
          0.029660612469491723,
          0.029816823389120825,
          0.02997406404186585,
          0.030132342584003963,
          0.030291667247283213,
          0.030452046339721678,
          0.030613488246416222,
          0.03077600143036082,
          0.030939594433274733,
          0.03110427587644043,
          0.03127005446155187,
          0.031436938971572743,
          0.031604938271604946,
          0.03177406130976782,
          0.03194431711808776,
          0.032115714813398574,
          0.03228826359825294,
          0.032461972761844426,
          0.0326368516809413,
          0.03281290982083114,
          0.03299015673627743,
          0.03316860207248708,
          0.033348255566090626,
          0.03352912704613369,
          0.033711226435080816,
          0.03389456374983164,
          0.03407914910274942,
          0.03426499270270227,
          0.03445210485611712,
          0.03464049596804651,
          0.03483017654324885,
          0.03502115718728183,
          0.03521344860760919,
          0.03540706161472149,
          0.03560200712327053,
          0.035798296153217925,
          0.035995939830997956,
          0.036194949390694786,
          0.03639533617523461,
          0.036597111637592314,
          0.036800287342013474,
          0.03700487496525151,
          0.037210886297820434,
          0.037418333245263245,
          0.03762722782943609,
          0.037837582189809094,
          0.03804940858478292,
          0.038262719393022435,
          0.03847752711480692,
          0.03869384437339764,
          0.03891168391642243,
          0.03913105861727799,
          0.03935198147655013,
          0.03957446562345169,
          0.0397985243172794,
          0.04002417094888867,
          0.04025141904218746,
          0.04048028225564971,
          0.040710774383847174,
          0.04094290935900203,
          0.041176701252558574,
          0.04141216427677559,
          0.04164931278633901,
          0.04188816127999563,
          0.04212872440220765,
          0.042371016944828734,
          0.04261505384880203,
          0.042860850205879805,
          0.04310842126036568,
          0.043357782410879495,
          0.04360894921214527,
          0.04386193737680238,
          0.044116762777240234,
          0.04437344144745749,
          0.04463198958494511,
          0.04489242355259455,
          0.04515475988063054,
          0.04541901526856999,
          0.045685206587205984,
          0.04595335088061877,
          0.04622346536821246,
          0.04649556744677951,
          0.046769674692592265,
          0.04704580486352195,
          0.04732397590118648,
          0.04760420593312638,
          0.047886513275010006,
          0.04817091643286836,
          0.04845743410535922,
          0.04874608518606234,
          0.04903688876580488,
          0.04932986413501867,
          0.049625030786128455,
          0.04992240841597326,
          0.050222016928259575,
          0.05052387643604815,
          0.05082800726427471,
          0.05113442995230426,
          0.05144316525652057,
          0.05175423415295062,
          0.05206765783992506,
          0.05238345774077475,
          0.0527016555065641,
          0.053022273018862275,
          0.05334533239255169,
          0.053670855978675776,
          0.053998866367325475,
          0.054329386390565476,
          0.05466243912540096,
          0.05499804789678551,
          0.05533623628067018,
          0.05567702810709515,
          0.056020447463324095,
          0.05636651869702247,
          0.05671526641947938,
          0.05706671550887538,
          0.05742089111359461,
          0.05777781865558447,
          0.05813752383376158,
          0.058500032627465975,
          0.05886537129996335,
          0.05923356640199723,
          0.0596046447753906,
          0.0599786335566988,
          0.06035556018091385,
          0.060735452385221246,
          0.06111833821281022,
          0.06150424601673805,
          0.06189320446384909,
          0.06228524253875011,
          0.06268038954784204,
          0.06307867512340945,
          0.06348012922776869,
          0.06388478215747538,
          0.0642926645475925,
          0.06470380737601965,
          0.06511824196788486,
          0.06553600000000001,
          0.0659571135053801,
          0.06638161487782851,
          0.06680953687658865,
          0.06724091263106262,
          0.06767577564559982,
          0.06811415980435366,
          0.06855609937621057,
          0.06900162901979051,
          0.06945078378852064,
          0.06990359913578358,
          0.07036011092014141,
          0.07082035541063622,
          0.07128436929216932,
          0.07175218967095916,
          0.07222385408008078,
          0.07269940048508672,
          0.07317886728971153,
          0.07366229334166127,
          0.07414971793848889,
          0.07464118083355735,
          0.07513672224209184,
          0.07563638284732281,
          0.0761402038067202,
          0.0766482267583227,
          0.07716049382716053,
          0.07767704763177631,
          0.07819793129084368,
          0.07872318842988592,
          0.07925286318809673,
          0.07978700022526367,
          0.08032564472879755,
          0.08086884242086866,
          0.08141663956565097,
          0.081969082976678,
          0.08252622002431062,
          0.083088098643319,
          0.0836547673405817,
          0.08422627520290264,
          0.08480267190494771,
          0.08538400771730542,
          0.08597033351467086,
          0.08656170078415633,
          0.08715816163373163,
          0.08775976880079474,
          0.08836657566087601,
          0.0889786362364778,
          0.08959600520605317,
          0.0902187379131231,
          0.09084689037553823,
          0.09148051929488527,
          0.09211968206604129,
          0.09276443678687822,
          0.09341484226812112,
          0.09407095804336171,
          0.09473284437923041,
          0.09540056228573007,
          0.09607417352673363,
          0.09675374063064886,
          0.09743932690125282,
          0.09813099642870025,
          0.09882881410070722,
          0.09953284561391422,
          0.10024315748543233,
          0.10095981706457363,
          0.10168289254477299,
          0.10241245297569991,
          0.10314856827556754,
          0.103891309243641,
          0.10464074757294879,
          0.10539695586320001,
          0.10616000763391345,
          0.10692997733775964,
          0.10770694037412167,
          0.10849097310287788,
          0.10928215285841136,
          0.1100805579638482,
          0.11088626774553217,
          0.1116993625477366,
          0.11251992374762049,
          0.11334803377043143,
          0.11418377610496168,
          0.11502723531925999,
          0.11587849707660648,
          0.1167376481517524,
          0.11760477644743253,
          0.11847997101115383,
          0.119363322052265,
          0.12025492095931396,
          0.12115486031769652,
          0.12206323392760401,
          0.12298013682227331,
          0.12390566528654606,
          0.12483991687574286,
          0.1257829904348584,
          0.1267349861180833,
          0.1276960054086591,
          0.12866615113907257,
          0.12964552751159555,
          0.13063424011917835,
          0.13163239596670112,
          0.13264010349259148,
          0.1336574725908159,
          0.13468461463325096,
          0.1357216424924418,
          0.1367686705647561,
          0.13782581479394068,
          0.13889319269508804,
          0.13997092337902234,
          0.14105912757711048,
          0.14215792766651023,
          0.14326744769585883,
          0.1443878134114164,
          0.14551915228366852,
          0.14666159353439903,
          0.1478152681642423,
          0.14898030898072442,
          0.15015685062680184,
          0.15134502960990828,
          0.15254498433152006,
          0.15375685511725054,
          0.15498078424748205,
          0.1562169159885488,
          0.1574653966244796,
          0.15872637448931418,
          0.1600000000000001,
          0.16128642568988755,
          0.16258580624283045,
          0.16389829852790547,
          0.16522406163476513,
          0.16656325690963475,
          0.1679160479919658,
          0.1692826008517636,
          0.17066308382759662,
          0.1720576676653063,
          0.1734665255574304,
          0.17488983318335277,
          0.17632776875019734,
          0.1777805130344787,
          0.17924824942452752,
          0.18073116396370595,
          0.18222944539442726,
          0.18374328520299962,
          0.18527287766531117,
          0.18681841989336878,
          0.18838011188271614,
          0.18995815656074322,
          0.19155275983590844,
          0.19316413064789417,
          0.19479248101870994,
          0.19643802610477204,
          0.19810098424996986,
          0.19978157703974891,
          0.201480029356227,
          0.20319656943436643,
          0.20493142891922647,
          0.2066848429243169,
          0.20845705009107776,
          0.21024829264950984,
          0.21205881647997804,
          0.21388887117621683,
          0.21573871010956036,
          0.21760859049442627,
          0.21949877345507746,
          0.2214095240936938,
          0.22334111155977857,
          0.22529380912093022,
          0.22726789423500976,
          0.22926364862373536,
          0.23128135834773034,
          0.233321313883066,
          0.23538381019932156,
          0.23746914683920398,
          0.2395776279997563,
          0.24170956261519314,
          0.24386526444139608,
          0.2460450521421123,
          0.2482492493768872,
          0.25047818489077484,
          0.25273219260586477,
          0.255011611714666,
          0.2573167867753909,
          0.25964806780917904,
          0.2620058103993123,
          0.2643903757924558,
          0.26680213100198064,
          0.26924144891341134,
          0.2717087083920462,
          0.27420429439280397,
          0.2767285980723423,
          0.2792820169035093,
          0.28186495479216905,
          0.28447782219647255,
          0.28712103624861446,
          0.2897950208791459,
          0.2925002069438964,
          0.29523703235356796,
          0.2980059422060646,
          0.30080738892161946,
          0.3036418323807878,
          0.3065097400653728,
          0.30941158720235185,
          0.31234785691087713,
          0.3153190403524225,
          0.31832563688415055,
          0.3213681542155789,
          0.3244471085686235,
          0.3275630248410993,
          0.330716436773764,
          0.3339078871209866,
          0.3371379278251331,
          0.3404071201947548,
          0.34371603508667464,
          0.34706525309206593,
          0.35045536472662026,
          0.35388697062490415,
          0.357360681739011,
          0.36087711954160717,
          0.36443691623348823,
          0.3680407149557516,
          0.37168917000670043,
          0.3753829470636001,
          0.37912272340940356,
          0.38290918816457153,
          0.38674304252411673,
          0.390625,
          0.3945557866690145,
          0.39853614142629773,
          0.4025668162446115,
          0.4066485764395377,
          0.41078220094073736,
          0.4149684825694327,
          0.41920822832226406,
          0.4235022596616952,
          0.42785141281311984,
          0.4322565390688591,
          0.4367185050992144,
          0.4412381932707666,
          0.44581650197210243,
          0.45045434594716893,
          0.45515265663644866,
          0.45991238252616207,
          0.464734489505711,
          0.4696199612335711,
          0.4745697995118677,
          0.47958502466985375,
          0.4846666759565317,
          0.48981581194265955,
          0.4950335109323958,
          0.5003208713848304,
          0.5056790123456789,
          0.5111090738894042,
          0.516612217572047,
          0.5221896268950602,
          0.5278425077804387,
          0.5335720890574505,
          0.5393796229612929,
          0.5452663856439907,
          0.551233677697874,
          0.5572828246919815,
          0.5634151777217473,
          0.569632113972329,
          0.5759350372959671,
          0.5823253788037537,
          0.5888045974722155,
          0.5953741807651273,
          0.6020356452709774,
          0.6087905373565266,
          0.6156404338369109,
          0.622586942662759,
          0.6296317036248016,
          0.6367763890764706,
          0.6440227046749999,
          0.6513723901415546,
          0.6588272200409371,
          0.6663890045814245,
          0.6740595904353222,
          0.6818408615808331,
          0.6897347401658509,
          0.6977431873943246,
          0.7058682044358437,
          0.7141118333591221,
          0.7224761580900889,
          0.7309633053952964,
          0.7395754458913993,
          0.7483147950814765,
          0.7571836144189834,
          0.7661842124001602,
          0.7753189456857478,
          0.7845902202528784,
          0.7940004925780556,
          0.8035522708521531,
          0.8132481162283954,
          0.8230906441043289,
          0.8330825254388016,
          0.8432264881050261,
          0.8535253182808268,
          0.8639818618772077,
          0.8745990260064155,
          0.8853797804907236,
          0.8963271594131859,
          0.9074442627116713,
          0.9187342578175139,
          0.9302003813401859,
          0.9418459407994139,
          0.9536743164062499,
          0.9656889628946214,
          0.9778934114049642,
          0.9902912714215858,
          1.0028862327654722,
          1.0156820676442992,
          1.028682632761481,
          1.0418918714861585,
          1.0553138160860815,
          1.0689525900254182,
          1.082812410329597,
          1.0968975900193696,
          1.1112125406163293,
          1.1257617747222617,
          1.1405499086747093,
          1.1555816652812931,
          1.1708618766353849,
          1.1863954870158226,
          1.2021875558734705,
          1.2182432609075238,
          1.2345679012345685,
          1.2511669006534996,
          1.2680458110095472,
          1.285210315660762,
          1.3026662330504166,
          1.3204195203889697,
          1.3384762774493077,
          1.3568427504791634,
          1.3755253362347342,
          1.3945305861397073,
          1.413865210574015,
          1.433536083296851,
          1.4535502460086123,
          1.47391491305666,
          1.4946374762899377,
          1.5157255100676865,
          1.537186776427739,
          1.5590292304200446,
          1.5812610256113164,
          1.6038905197669169,
          1.6269262807163687,
          1.65037709240908,
          1.6742519611671798,
          1.6985601221426154,
          1.7233110459859462,
          1.7485144457345807,
          1.7741802839285148,
          1.800318779961929,
          1.8269404176793878,
          1.8540559532257024,
          1.881676423158921,
          1.90981315283624,
          1.9384777650831437,
          1.9676821891563747,
          1.9974386700118854,
          2.0277597778893317,
          2.058658418225161,
          2.090147841906855,
          2.1222416558814627,
          2.1549538341320154,
          2.188298729036098,
          2.222291083121409,
          2.256946041233769,
          2.292279163133742,
          2.328306436538696,
          2.365044290627878,
          2.4025096100288303,
          2.4407197493043236,
          2.4796925479597145,
          2.5194463459916756,
          2.5599999999999996,
          2.6013728998852867,
          2.6435849861562417,
          2.6866567678714546,
          2.7306093412415455,
          2.775464408918885,
          2.8212443000031553,
          2.867971990792443,
          2.9156711263108352,
          2.9643660426449787,
          3.0140817901234587,
          3.064844157374537,
          3.1166796962993617,
          3.1696157479995173,
          3.2236804696996333,
          3.2789028627076253,
          3.3353128014572455,
          3.3929410636796487,
          3.451819361752966,
          3.511980375281241,
          3.5734577849564593,
          3.6362863077601597,
          3.700501733563687,
          3.7661409631891436,
          3.8332420479961034,
          3.9018442310623405,
          3.971987990030199,
          4.0437150816938345,
          4.117068588406252,
          4.192092966389001,
          4.268834096031693,
          4.347339334272742,
          4.427657569157477,
          4.5098392766747075,
          4.593936579977835,
          4.680003311102344,
          4.768095075297033,
          4.858269318092604,
          4.950585395237631,
          5.04510464563876,
          5.141890467449264,
          5.241008397457594,
          5.3425261939357895,
          5.4465139231160755,
          5.553044049473055,
          5.662191529998467,
          5.774033912665717,
          5.888651439292024,
          6.006127153017602,
          6.126547010633145,
          6.249999999999997,
          6.376578262820764,
          6.506377223032606,
          6.63949572111092,
          6.776036154587123,
          6.916104625101741,
          7.05981109233227,
          7.207269535154707,
          7.358598120418597,
          7.51391937973714,
          7.673360394717662,
          7.837052991082556,
          8.005133942157286,
          8.17774518223047,
          8.355034030320969,
          8.537153424919206,
          8.724262170303856,
          8.916525195071708,
          9.11411382355726,
          9.317206060860064,
          9.52598689224204,
          9.74064859770443,
          9.961391082604145,
          10.188422225223528,
          10.421958242264873,
          10.662224073302793,
          10.909453785293332,
          11.16389099830919,
          11.42578933374596,
          11.695412886324739,
          11.97303672130363,
          12.258947398402569,
          12.55344352404605,
          12.856836333634448,
          13.169450305669262,
          13.491623809680409,
          13.823709790035327,
          14.166076487851578,
          14.51910820338674,
          14.883206101442976,
          15.258789062500004,
          15.646294582479426,
          16.046179724247565,
          16.458922124183687,
          16.88502105737731,
          17.32499856527356,
          17.779400649861284,
          18.248798538795345,
          18.73379002616616,
          19.235000893975528,
          19.75308641975308,
          20.288732976152772,
          20.842659728806648,
          21.41562043918894,
          22.008405379755743,
          22.621843369184248,
          23.256803936137803,
          23.91419962063902,
          24.594988422843826,
          25.30017640978106,
          26.030820491461906,
          26.78803137867489,
          27.572976735775143,
          28.38688454285625,
          29.2310466828702,
          30.10682277054275,
          31.0156442413303,
          31.95901872019017,
          32.93853469160257,
          33.95586649410342,
          35.01277966457758,
          36.11113665974028,
          37.252902984619155,
          38.44015376046129,
          39.67508076735541,
          40.96000000000003,
          42.29735977849992,
          43.689749459864714,
          45.13990880005054,
          46.65073802097332,
          48.225308641975325,
          49.866875140789816,
          51.57888751519411,
          53.36500482331594,
          55.22910978804745,
          57.175324559303355,
          59.20802773701896,
          61.33187276793769,
          63.55180784048316,
          65.87309741450001,
          68.30134553650704,
          70.84252110651968,
          73.50298527964539,
          76.28952120475253,
          79.20936632380207,
          82.27024747918821,
          85.48041910297262,
          88.84870479156892,
          92.38454260265145,
          96.09803444828164,
          100,
          104.10203556852174,
          108.41657847339401,
          112.95697747731629,
          117.7375699266976,
          122.77376631548258,
          128.08214307451664,
          133.6805444851356,
          139.58819472486164,
          145.8258211769163,
          152.41579027587255,
          159.3822573216663,
          166.7513318762381,
          174.55126056469337,
          182.81262933993534,
          191.56858754085803,
          200.85509638473678,
          210.71120489070822,
          221.17935664056515,
          232.30573125418795,
          244.14062500000009,
          256.7388755879611,
          270.16033691803693,
          284.4704103977807,
          299.74064041865864,
          316.0493827160495,
          333.48255566090654,
          352.13448607609206,
          372.1088629782048,
          393.51981476550105,
          416.49312786339044,
          441.1676277724024,
          467.69674692592287,
          496.2503078612849,
          527.0165550656411,
          560.2044746332414,
          596.0464477539066,
          634.8012922776871,
          676.7577564559988,
          722.2385408008086,
          771.6049382716051,
          825.2622002431058,
          883.6657566087599,
          947.3284437923044,
          1016.8289254477305,
          1092.8215285841145,
          1176.0477644743262,
          1267.3498611808338,
          1367.686705647562,
          1478.1526816424246,
          1600.0000000000005,
          1734.6652555743049,
          1883.8011188271623,
          2049.3142891922657,
          2233.4111155977876,
          2438.652644413962,
          2668.0213100198084,
          2925.0020694389677,
          3213.681542155792,
          3538.8697062490437,
          3906.2500000000036,
          4322.56539068859,
          4795.85024669854,
          5335.720890574503,
          5953.741807651275,
          6663.890045814248,
          7483.147950814767,
          8432.264881050263,
          9536.7431640625,
          10828.124103295977,
          12345.679012345685,
          14138.65210574016,
          16269.26280716369,
          18816.764231589226,
          21882.987290360994,
          25600.000000000025,
          30140.81790123458,
          35734.57784956458,
          42688.340960316935,
          51418.90467449267,
          62500.00000000004,
          76733.60394717663,
          95259.86892242046,
          119730.3672130363,
          152587.89062500012,
          197530.8641975311,
          260308.20491461924,
          350127.7966457759,
          482253.08641975356,
          683013.4553650711,
          1000000.0000000005,
          1524157.9027587266,
          2441406.250000002,
          4164931.2786339098,
          7716049.382716056,
          16000000.000000013,
          39062500.00000006,
          123456790.12345687,
          625000000.0000011,
          10000000000.000013
         ],
         "yaxis": "y"
        }
       ],
       "layout": {
        "height": 1000,
        "legend": {
         "title": {
          "text": "variable"
         },
         "tracegroupgap": 0
        },
        "margin": {
         "t": 60
        },
        "template": {
         "data": {
          "bar": [
           {
            "error_x": {
             "color": "#2a3f5f"
            },
            "error_y": {
             "color": "#2a3f5f"
            },
            "marker": {
             "line": {
              "color": "#E5ECF6",
              "width": 0.5
             }
            },
            "type": "bar"
           }
          ],
          "barpolar": [
           {
            "marker": {
             "line": {
              "color": "#E5ECF6",
              "width": 0.5
             }
            },
            "type": "barpolar"
           }
          ],
          "carpet": [
           {
            "aaxis": {
             "endlinecolor": "#2a3f5f",
             "gridcolor": "white",
             "linecolor": "white",
             "minorgridcolor": "white",
             "startlinecolor": "#2a3f5f"
            },
            "baxis": {
             "endlinecolor": "#2a3f5f",
             "gridcolor": "white",
             "linecolor": "white",
             "minorgridcolor": "white",
             "startlinecolor": "#2a3f5f"
            },
            "type": "carpet"
           }
          ],
          "choropleth": [
           {
            "colorbar": {
             "outlinewidth": 0,
             "ticks": ""
            },
            "type": "choropleth"
           }
          ],
          "contour": [
           {
            "colorbar": {
             "outlinewidth": 0,
             "ticks": ""
            },
            "colorscale": [
             [
              0,
              "#0d0887"
             ],
             [
              0.1111111111111111,
              "#46039f"
             ],
             [
              0.2222222222222222,
              "#7201a8"
             ],
             [
              0.3333333333333333,
              "#9c179e"
             ],
             [
              0.4444444444444444,
              "#bd3786"
             ],
             [
              0.5555555555555556,
              "#d8576b"
             ],
             [
              0.6666666666666666,
              "#ed7953"
             ],
             [
              0.7777777777777778,
              "#fb9f3a"
             ],
             [
              0.8888888888888888,
              "#fdca26"
             ],
             [
              1,
              "#f0f921"
             ]
            ],
            "type": "contour"
           }
          ],
          "contourcarpet": [
           {
            "colorbar": {
             "outlinewidth": 0,
             "ticks": ""
            },
            "type": "contourcarpet"
           }
          ],
          "heatmap": [
           {
            "colorbar": {
             "outlinewidth": 0,
             "ticks": ""
            },
            "colorscale": [
             [
              0,
              "#0d0887"
             ],
             [
              0.1111111111111111,
              "#46039f"
             ],
             [
              0.2222222222222222,
              "#7201a8"
             ],
             [
              0.3333333333333333,
              "#9c179e"
             ],
             [
              0.4444444444444444,
              "#bd3786"
             ],
             [
              0.5555555555555556,
              "#d8576b"
             ],
             [
              0.6666666666666666,
              "#ed7953"
             ],
             [
              0.7777777777777778,
              "#fb9f3a"
             ],
             [
              0.8888888888888888,
              "#fdca26"
             ],
             [
              1,
              "#f0f921"
             ]
            ],
            "type": "heatmap"
           }
          ],
          "heatmapgl": [
           {
            "colorbar": {
             "outlinewidth": 0,
             "ticks": ""
            },
            "colorscale": [
             [
              0,
              "#0d0887"
             ],
             [
              0.1111111111111111,
              "#46039f"
             ],
             [
              0.2222222222222222,
              "#7201a8"
             ],
             [
              0.3333333333333333,
              "#9c179e"
             ],
             [
              0.4444444444444444,
              "#bd3786"
             ],
             [
              0.5555555555555556,
              "#d8576b"
             ],
             [
              0.6666666666666666,
              "#ed7953"
             ],
             [
              0.7777777777777778,
              "#fb9f3a"
             ],
             [
              0.8888888888888888,
              "#fdca26"
             ],
             [
              1,
              "#f0f921"
             ]
            ],
            "type": "heatmapgl"
           }
          ],
          "histogram": [
           {
            "marker": {
             "colorbar": {
              "outlinewidth": 0,
              "ticks": ""
             }
            },
            "type": "histogram"
           }
          ],
          "histogram2d": [
           {
            "colorbar": {
             "outlinewidth": 0,
             "ticks": ""
            },
            "colorscale": [
             [
              0,
              "#0d0887"
             ],
             [
              0.1111111111111111,
              "#46039f"
             ],
             [
              0.2222222222222222,
              "#7201a8"
             ],
             [
              0.3333333333333333,
              "#9c179e"
             ],
             [
              0.4444444444444444,
              "#bd3786"
             ],
             [
              0.5555555555555556,
              "#d8576b"
             ],
             [
              0.6666666666666666,
              "#ed7953"
             ],
             [
              0.7777777777777778,
              "#fb9f3a"
             ],
             [
              0.8888888888888888,
              "#fdca26"
             ],
             [
              1,
              "#f0f921"
             ]
            ],
            "type": "histogram2d"
           }
          ],
          "histogram2dcontour": [
           {
            "colorbar": {
             "outlinewidth": 0,
             "ticks": ""
            },
            "colorscale": [
             [
              0,
              "#0d0887"
             ],
             [
              0.1111111111111111,
              "#46039f"
             ],
             [
              0.2222222222222222,
              "#7201a8"
             ],
             [
              0.3333333333333333,
              "#9c179e"
             ],
             [
              0.4444444444444444,
              "#bd3786"
             ],
             [
              0.5555555555555556,
              "#d8576b"
             ],
             [
              0.6666666666666666,
              "#ed7953"
             ],
             [
              0.7777777777777778,
              "#fb9f3a"
             ],
             [
              0.8888888888888888,
              "#fdca26"
             ],
             [
              1,
              "#f0f921"
             ]
            ],
            "type": "histogram2dcontour"
           }
          ],
          "mesh3d": [
           {
            "colorbar": {
             "outlinewidth": 0,
             "ticks": ""
            },
            "type": "mesh3d"
           }
          ],
          "parcoords": [
           {
            "line": {
             "colorbar": {
              "outlinewidth": 0,
              "ticks": ""
             }
            },
            "type": "parcoords"
           }
          ],
          "pie": [
           {
            "automargin": true,
            "type": "pie"
           }
          ],
          "scatter": [
           {
            "marker": {
             "colorbar": {
              "outlinewidth": 0,
              "ticks": ""
             }
            },
            "type": "scatter"
           }
          ],
          "scatter3d": [
           {
            "line": {
             "colorbar": {
              "outlinewidth": 0,
              "ticks": ""
             }
            },
            "marker": {
             "colorbar": {
              "outlinewidth": 0,
              "ticks": ""
             }
            },
            "type": "scatter3d"
           }
          ],
          "scattercarpet": [
           {
            "marker": {
             "colorbar": {
              "outlinewidth": 0,
              "ticks": ""
             }
            },
            "type": "scattercarpet"
           }
          ],
          "scattergeo": [
           {
            "marker": {
             "colorbar": {
              "outlinewidth": 0,
              "ticks": ""
             }
            },
            "type": "scattergeo"
           }
          ],
          "scattergl": [
           {
            "marker": {
             "colorbar": {
              "outlinewidth": 0,
              "ticks": ""
             }
            },
            "type": "scattergl"
           }
          ],
          "scattermapbox": [
           {
            "marker": {
             "colorbar": {
              "outlinewidth": 0,
              "ticks": ""
             }
            },
            "type": "scattermapbox"
           }
          ],
          "scatterpolar": [
           {
            "marker": {
             "colorbar": {
              "outlinewidth": 0,
              "ticks": ""
             }
            },
            "type": "scatterpolar"
           }
          ],
          "scatterpolargl": [
           {
            "marker": {
             "colorbar": {
              "outlinewidth": 0,
              "ticks": ""
             }
            },
            "type": "scatterpolargl"
           }
          ],
          "scatterternary": [
           {
            "marker": {
             "colorbar": {
              "outlinewidth": 0,
              "ticks": ""
             }
            },
            "type": "scatterternary"
           }
          ],
          "surface": [
           {
            "colorbar": {
             "outlinewidth": 0,
             "ticks": ""
            },
            "colorscale": [
             [
              0,
              "#0d0887"
             ],
             [
              0.1111111111111111,
              "#46039f"
             ],
             [
              0.2222222222222222,
              "#7201a8"
             ],
             [
              0.3333333333333333,
              "#9c179e"
             ],
             [
              0.4444444444444444,
              "#bd3786"
             ],
             [
              0.5555555555555556,
              "#d8576b"
             ],
             [
              0.6666666666666666,
              "#ed7953"
             ],
             [
              0.7777777777777778,
              "#fb9f3a"
             ],
             [
              0.8888888888888888,
              "#fdca26"
             ],
             [
              1,
              "#f0f921"
             ]
            ],
            "type": "surface"
           }
          ],
          "table": [
           {
            "cells": {
             "fill": {
              "color": "#EBF0F8"
             },
             "line": {
              "color": "white"
             }
            },
            "header": {
             "fill": {
              "color": "#C8D4E3"
             },
             "line": {
              "color": "white"
             }
            },
            "type": "table"
           }
          ]
         },
         "layout": {
          "annotationdefaults": {
           "arrowcolor": "#2a3f5f",
           "arrowhead": 0,
           "arrowwidth": 1
          },
          "coloraxis": {
           "colorbar": {
            "outlinewidth": 0,
            "ticks": ""
           }
          },
          "colorscale": {
           "diverging": [
            [
             0,
             "#8e0152"
            ],
            [
             0.1,
             "#c51b7d"
            ],
            [
             0.2,
             "#de77ae"
            ],
            [
             0.3,
             "#f1b6da"
            ],
            [
             0.4,
             "#fde0ef"
            ],
            [
             0.5,
             "#f7f7f7"
            ],
            [
             0.6,
             "#e6f5d0"
            ],
            [
             0.7,
             "#b8e186"
            ],
            [
             0.8,
             "#7fbc41"
            ],
            [
             0.9,
             "#4d9221"
            ],
            [
             1,
             "#276419"
            ]
           ],
           "sequential": [
            [
             0,
             "#0d0887"
            ],
            [
             0.1111111111111111,
             "#46039f"
            ],
            [
             0.2222222222222222,
             "#7201a8"
            ],
            [
             0.3333333333333333,
             "#9c179e"
            ],
            [
             0.4444444444444444,
             "#bd3786"
            ],
            [
             0.5555555555555556,
             "#d8576b"
            ],
            [
             0.6666666666666666,
             "#ed7953"
            ],
            [
             0.7777777777777778,
             "#fb9f3a"
            ],
            [
             0.8888888888888888,
             "#fdca26"
            ],
            [
             1,
             "#f0f921"
            ]
           ],
           "sequentialminus": [
            [
             0,
             "#0d0887"
            ],
            [
             0.1111111111111111,
             "#46039f"
            ],
            [
             0.2222222222222222,
             "#7201a8"
            ],
            [
             0.3333333333333333,
             "#9c179e"
            ],
            [
             0.4444444444444444,
             "#bd3786"
            ],
            [
             0.5555555555555556,
             "#d8576b"
            ],
            [
             0.6666666666666666,
             "#ed7953"
            ],
            [
             0.7777777777777778,
             "#fb9f3a"
            ],
            [
             0.8888888888888888,
             "#fdca26"
            ],
            [
             1,
             "#f0f921"
            ]
           ]
          },
          "colorway": [
           "#636efa",
           "#EF553B",
           "#00cc96",
           "#ab63fa",
           "#FFA15A",
           "#19d3f3",
           "#FF6692",
           "#B6E880",
           "#FF97FF",
           "#FECB52"
          ],
          "font": {
           "color": "#2a3f5f"
          },
          "geo": {
           "bgcolor": "white",
           "lakecolor": "white",
           "landcolor": "#E5ECF6",
           "showlakes": true,
           "showland": true,
           "subunitcolor": "white"
          },
          "hoverlabel": {
           "align": "left"
          },
          "hovermode": "closest",
          "mapbox": {
           "style": "light"
          },
          "paper_bgcolor": "white",
          "plot_bgcolor": "#E5ECF6",
          "polar": {
           "angularaxis": {
            "gridcolor": "white",
            "linecolor": "white",
            "ticks": ""
           },
           "bgcolor": "#E5ECF6",
           "radialaxis": {
            "gridcolor": "white",
            "linecolor": "white",
            "ticks": ""
           }
          },
          "scene": {
           "xaxis": {
            "backgroundcolor": "#E5ECF6",
            "gridcolor": "white",
            "gridwidth": 2,
            "linecolor": "white",
            "showbackground": true,
            "ticks": "",
            "zerolinecolor": "white"
           },
           "yaxis": {
            "backgroundcolor": "#E5ECF6",
            "gridcolor": "white",
            "gridwidth": 2,
            "linecolor": "white",
            "showbackground": true,
            "ticks": "",
            "zerolinecolor": "white"
           },
           "zaxis": {
            "backgroundcolor": "#E5ECF6",
            "gridcolor": "white",
            "gridwidth": 2,
            "linecolor": "white",
            "showbackground": true,
            "ticks": "",
            "zerolinecolor": "white"
           }
          },
          "shapedefaults": {
           "line": {
            "color": "#2a3f5f"
           }
          },
          "ternary": {
           "aaxis": {
            "gridcolor": "white",
            "linecolor": "white",
            "ticks": ""
           },
           "baxis": {
            "gridcolor": "white",
            "linecolor": "white",
            "ticks": ""
           },
           "bgcolor": "#E5ECF6",
           "caxis": {
            "gridcolor": "white",
            "linecolor": "white",
            "ticks": ""
           }
          },
          "title": {
           "x": 0.05
          },
          "xaxis": {
           "automargin": true,
           "gridcolor": "white",
           "linecolor": "white",
           "ticks": "",
           "title": {
            "standoff": 15
           },
           "zerolinecolor": "white",
           "zerolinewidth": 2
          },
          "yaxis": {
           "automargin": true,
           "gridcolor": "white",
           "linecolor": "white",
           "ticks": "",
           "title": {
            "standoff": 15
           },
           "zerolinecolor": "white",
           "zerolinewidth": 2
          }
         }
        },
        "title": {
         "text": "<b>                       AMM Curve</b>"
        },
        "width": 1000,
        "xaxis": {
         "anchor": "y",
         "domain": [
          0,
          1
         ],
         "range": [
          0,
          1000
         ],
         "title": {
          "text": "token_A"
         }
        },
        "yaxis": {
         "anchor": "x",
         "domain": [
          0,
          1
         ],
         "range": [
          0,
          1000
         ],
         "title": {
          "text": "value"
         }
        }
       }
      }
     },
     "metadata": {}
    },
    {
     "output_type": "execute_result",
     "data": {
      "text/plain": [
       "     token_A       token_B   token_B_old\n",
       "0       1000  1.000000e-02     10.000000\n",
       "1        999  1.004010e-02     10.010010\n",
       "2        998  1.008040e-02     10.020040\n",
       "3        997  1.012091e-02     10.030090\n",
       "4        996  1.016161e-02     10.040161\n",
       "..       ...           ...           ...\n",
       "995        5  1.600000e+07   2000.000000\n",
       "996        4  3.906250e+07   2500.000000\n",
       "997        3  1.234568e+08   3333.333333\n",
       "998        2  6.250000e+08   5000.000000\n",
       "999        1  1.000000e+10  10000.000000\n",
       "\n",
       "[1000 rows x 3 columns]"
      ],
      "text/html": "<div>\n<style scoped>\n    .dataframe tbody tr th:only-of-type {\n        vertical-align: middle;\n    }\n\n    .dataframe tbody tr th {\n        vertical-align: top;\n    }\n\n    .dataframe thead th {\n        text-align: right;\n    }\n</style>\n<table border=\"1\" class=\"dataframe\">\n  <thead>\n    <tr style=\"text-align: right;\">\n      <th></th>\n      <th>token_A</th>\n      <th>token_B</th>\n      <th>token_B_old</th>\n    </tr>\n  </thead>\n  <tbody>\n    <tr>\n      <th>0</th>\n      <td>1000</td>\n      <td>1.000000e-02</td>\n      <td>10.000000</td>\n    </tr>\n    <tr>\n      <th>1</th>\n      <td>999</td>\n      <td>1.004010e-02</td>\n      <td>10.010010</td>\n    </tr>\n    <tr>\n      <th>2</th>\n      <td>998</td>\n      <td>1.008040e-02</td>\n      <td>10.020040</td>\n    </tr>\n    <tr>\n      <th>3</th>\n      <td>997</td>\n      <td>1.012091e-02</td>\n      <td>10.030090</td>\n    </tr>\n    <tr>\n      <th>4</th>\n      <td>996</td>\n      <td>1.016161e-02</td>\n      <td>10.040161</td>\n    </tr>\n    <tr>\n      <th>...</th>\n      <td>...</td>\n      <td>...</td>\n      <td>...</td>\n    </tr>\n    <tr>\n      <th>995</th>\n      <td>5</td>\n      <td>1.600000e+07</td>\n      <td>2000.000000</td>\n    </tr>\n    <tr>\n      <th>996</th>\n      <td>4</td>\n      <td>3.906250e+07</td>\n      <td>2500.000000</td>\n    </tr>\n    <tr>\n      <th>997</th>\n      <td>3</td>\n      <td>1.234568e+08</td>\n      <td>3333.333333</td>\n    </tr>\n    <tr>\n      <th>998</th>\n      <td>2</td>\n      <td>6.250000e+08</td>\n      <td>5000.000000</td>\n    </tr>\n    <tr>\n      <th>999</th>\n      <td>1</td>\n      <td>1.000000e+10</td>\n      <td>10000.000000</td>\n    </tr>\n  </tbody>\n</table>\n<p>1000 rows × 3 columns</p>\n</div>"
     },
     "metadata": {},
     "execution_count": 19
    }
   ],
   "source": [
    "#plot curves with all \n",
    "List = List[['token_A', 'token_B']]\n",
    "List_old = List_old[['token_B_old']]\n",
    "\n",
    "df = pd.concat([List, List_old], axis=1, ignore_index=False)\n",
    "df\n",
    "\n",
    "# fig = px.line(df, x=\"token_A\", y=[\"token_B\", 'token_B_old'])\n",
    "\n",
    "# fig.update_xaxes(range=[0, 100])\n",
    "# fig.update_yaxes(range=[0, 100])\n",
    "# fig.update_layout(height=1000, width=1000, title_text='<b>AMM Curve </b>')\n",
    "\n",
    "# fig.show()\n",
    "\n",
    "fig = px.line(df, x=\"token_A\", y=['token_B', 'token_B'])\n",
    "fig.update_xaxes(range=[0, 1000])\n",
    "fig.update_yaxes(range=[0, 1000])\n",
    "fig.update_layout(height=1000, width=1000, title_text='<b>                       AMM Curve</b>')\n",
    "fig.show()\n",
    "df"
   ]
  },
  {
   "source": [
    "Both curves intersect each other at $x=100 y=100$. To the left, the effect of buying token_A is bigger (bigger change in the amount of token_B) on the blue curve (the new one with 0.2 and 0.8 as weights). From the equilibrium to the right, the effect of selling token_A is bigger on the blue curve as well producing a higher impact on the total amount of token_B."
   ],
   "cell_type": "markdown",
   "metadata": {}
  },
  {
   "cell_type": "markdown",
   "id": "rural-guarantee",
   "metadata": {},
   "source": [
    "# Q2.4:\n",
    "Compare token prices in this pool.  \n",
    "How much would Alice have to pay in case there are only 2 tokens left in the pool  \n",
    "    **a) buy 1.0 token A for token B**  \n",
    "    **b) buy 1.0 token B for token A**   "
   ]
  },
  {
   "cell_type": "code",
   "execution_count": 8,
   "metadata": {},
   "outputs": [
    {
     "output_type": "execute_result",
     "data": {
      "text/plain": [
       "     token_A  invariant       token_B    Spot Price  In-Given-Out\n",
       "995        5      100.0  1.600000e+07  1.280000e+07  2.306250e+07\n",
       "996        4      100.0  3.906250e+07  3.906250e+07  8.439429e+07\n",
       "997        3      100.0  1.234568e+08  1.646091e+08  5.015432e+08\n",
       "998        2      100.0  6.250000e+08  1.250000e+09  9.375000e+09\n",
       "999        1      100.0  1.000000e+10  4.000000e+10           inf"
      ],
      "text/html": "<div>\n<style scoped>\n    .dataframe tbody tr th:only-of-type {\n        vertical-align: middle;\n    }\n\n    .dataframe tbody tr th {\n        vertical-align: top;\n    }\n\n    .dataframe thead th {\n        text-align: right;\n    }\n</style>\n<table border=\"1\" class=\"dataframe\">\n  <thead>\n    <tr style=\"text-align: right;\">\n      <th></th>\n      <th>token_A</th>\n      <th>invariant</th>\n      <th>token_B</th>\n      <th>Spot Price</th>\n      <th>In-Given-Out</th>\n    </tr>\n  </thead>\n  <tbody>\n    <tr>\n      <th>995</th>\n      <td>5</td>\n      <td>100.0</td>\n      <td>1.600000e+07</td>\n      <td>1.280000e+07</td>\n      <td>2.306250e+07</td>\n    </tr>\n    <tr>\n      <th>996</th>\n      <td>4</td>\n      <td>100.0</td>\n      <td>3.906250e+07</td>\n      <td>3.906250e+07</td>\n      <td>8.439429e+07</td>\n    </tr>\n    <tr>\n      <th>997</th>\n      <td>3</td>\n      <td>100.0</td>\n      <td>1.234568e+08</td>\n      <td>1.646091e+08</td>\n      <td>5.015432e+08</td>\n    </tr>\n    <tr>\n      <th>998</th>\n      <td>2</td>\n      <td>100.0</td>\n      <td>6.250000e+08</td>\n      <td>1.250000e+09</td>\n      <td>9.375000e+09</td>\n    </tr>\n    <tr>\n      <th>999</th>\n      <td>1</td>\n      <td>100.0</td>\n      <td>1.000000e+10</td>\n      <td>4.000000e+10</td>\n      <td>inf</td>\n    </tr>\n  </tbody>\n</table>\n</div>"
     },
     "metadata": {},
     "execution_count": 8
    }
   ],
   "source": [
    "#set up genesis state\n",
    "a_bal = 100 # initial balance\n",
    "b_bal = 100 # initial balance\n",
    "a_weight = 0.8 #define weight\n",
    "b_weight = 0.2 #define weight\n",
    "s_f = 0.0 #swap fee\n",
    "inv = (a_bal**a_weight)*(b_bal**b_weight) #calculate invariant\n",
    "a_vals = pd.Series(range(1000,0,-1))\n",
    "#create dataframe with based on a_vals\n",
    "List = pd.DataFrame(a_vals, columns=['token_A'])\n",
    "\n",
    "#create values for plot, add Y_balances according to current invariant\n",
    "List['invariant'] = inv #value required to calculate token B value\n",
    "List['token_B'] = (List.invariant/(List.token_A**a_weight))**(1/b_weight)# calculate corresponding token_B value according to invariant\n",
    "List['Spot Price'] = (List.token_B/b_weight) / (List.token_A/a_weight)\n",
    "\n",
    "List['In-Given-Out'] = List.token_B * (( List.token_A / (List.token_A-1))**(a_weight/b_weight) -1)\n",
    "\n",
    "List.tail(5)"
   ]
  },
  {
   "source": [
    "a) Buying 1 token_A for token_B (from the previous table): 9.37e+09 tokens are needed\n",
    "\n",
    "\n",
    "b) Token_A needed to buy 1 token_B:"
   ],
   "cell_type": "markdown",
   "metadata": {}
  },
  {
   "cell_type": "code",
   "execution_count": 9,
   "metadata": {},
   "outputs": [
    {
     "output_type": "execute_result",
     "data": {
      "text/plain": [
       "8.000000661922968e-10"
      ]
     },
     "metadata": {},
     "execution_count": 9
    }
   ],
   "source": [
    "question_b = List.token_A.iloc[998] * ((List.token_B.iloc[998] / (List.token_B.iloc[998]-1))**(b_weight/a_weight) -1)\n",
    "question_b"
   ]
  },
  {
   "cell_type": "code",
   "execution_count": null,
   "metadata": {},
   "outputs": [],
   "source": []
  }
 ],
 "metadata": {
  "kernelspec": {
   "name": "python3",
   "display_name": "Python 3.8.10 64-bit"
  },
  "language_info": {
   "codemirror_mode": {
    "name": "ipython",
    "version": 3
   },
   "file_extension": ".py",
   "mimetype": "text/x-python",
   "name": "python",
   "nbconvert_exporter": "python",
   "pygments_lexer": "ipython3",
   "version": "3.8.10"
  },
  "interpreter": {
   "hash": "31f2aee4e71d21fbe5cf8b01ff0e069b9275f58929596ceb00d14d90e3e16cd6"
  }
 },
 "nbformat": 4,
 "nbformat_minor": 5
}